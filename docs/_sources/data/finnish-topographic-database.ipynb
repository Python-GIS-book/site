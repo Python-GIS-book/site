{
 "cells": [
  {
   "cell_type": "markdown",
   "id": "84b82568-a804-48bd-b37c-147542e69251",
   "metadata": {
    "pycharm": {
     "name": "#%% md\n"
    }
   },
   "source": [
    "## Input data: Finnish topographic database \n",
    "\n",
    "In this lesson we will work with the [National Land Survey of Finland (NLS) topographic database](https://www.maanmittauslaitos.fi/en/maps-and-spatial-data/expert-users/product-descriptions/topographic-database) [^NLS_topodata]. \n",
    "- The data set is licensed under the NLS' [open data licence / CC BY 4.0](https://www.maanmittauslaitos.fi/en/opendata-licence-cc40) [^NLS_lisence]. \n",
    "- Metadata are available from the [NLS website](https://www.maanmittauslaitos.fi/en/maps-and-spatial-data/expert-users/product-descriptions/topographic-database) [^NLS_topodata] and [fairdata.fi](https://etsin.fairdata.fi/dataset/5023ecc7-914a-4494-9e32-d0a39d3b56ae) [^topodata_fair]. \n",
    "- We have acquired a subset of the topographic database as shapefiles from the Helsinki Region in Finland via the [CSC open data portal](https://avaa.tdata.fi/web/paituli/latauspalvelu) [^paituli]:\n",
    "\n",
    "![_**Figure 6.X**. Paituli data download._](img/Paituli_maastotietokanta_download.png)\n",
    "\n",
    "_**Figure 6.X**. Paituli data download._\n",
    "\n",
    "In this lesson, we will focus on terrain objects(Feature group: \"Terrain/1\" in the topographic database). The Terrain/1 feature group contains several feature classes. Our aim in this lesson is to save all the Terrain/1 feature classes into separate files.\n",
    "\n",
    ": _**Table 6.X**. Terrain/1 features in the Topographic Database_\n",
    "\n",
    "|  feature class | Name of feature                     | Feature group |\n",
    "|----------------|-------------------------------------|---------------|\n",
    "| 32421          | Motor traffic area                  | Terrain/1     |\n",
    "| 32200          | Cemetery                            | Terrain/1     |\n",
    "| 34300          | Sand                                | Terrain/1     |\n",
    "| 34100          | Rock - area                         | Terrain/1     |\n",
    "| 34700          | Rocky area                          | Terrain/1     |\n",
    "| 32500          | Quarry                              | Terrain/1     |\n",
    "| 32112          | Mineral resources extraction area,  | Terrain/1     |\n",
    "|                | fine-grained material               | Terrain/1     |\n",
    "| 32111          | Mineral resources extraction area,  | Terrain/1     |\n",
    "|                | coarse-grained material             | Terrain/1     |\n",
    "| 32611          | Field                               | Terrain/1     |\n",
    "| 32612          | Garden                              | Terrain/1     |\n",
    "| 32800          | Meadow                              | Terrain/1     |\n",
    "| 32900          | Park                                | Terrain/1     |\n",
    "| 35300          | Paludified land                     | Terrain/1     |\n",
    "| 35412          | Bog, easy to traverse forested      | Terrain/1     |\n",
    "| 35411          | Open bog, easy to traverse treeless | Terrain/1     |\n",
    "| 35421          | Open fen, difficult to traverse     | Terrain/1     |\n",
    "| 35421          | treeless                            | Terrain/1     |\n",
    "| 33000          | Earth fill                          | Terrain/1     |\n",
    "| 33100          | Sports and recreation area          | Terrain/1     |\n",
    "| 36200          | Lake water                          | Terrain/1     |\n",
    "| 36313          | Watercourse area                    | Terrain/1     |\n",
    "\n",
    "According to the [naming convention](https://etsin.fairdata.fi/dataset/5023ecc7-914a-4494-9e32-d0a39d3b56ae) [^topodata_fair], all files that start with a letter `m` and end with `p` contain the objects we are interested in (Terrain/1 polygons). "
   ]
  },
  {
   "cell_type": "markdown",
   "id": "a7b1f320-2278-4222-b50f-d466961fb8f4",
   "metadata": {
    "pycharm": {
     "name": "#%% md\n"
    }
   },
   "source": [
    "## Downloading data\n",
    "\n",
    "You can use `wget` program (available in Binder and CSC Notebooks) to download the data from the command line from this download link: https://github.com/AutoGIS/data/raw/master/L2_data.zip. Let's download the data into the same folder with the lesson 2 notebooks (`.../notebooks/L2`):\n",
    "\n",
    "1. Open up a new terminal window\n",
    "2. Navigate to the correct folder in the terminal:\n",
    "\n",
    "```\n",
    "# Navigate to lesson 2 notebooks directory:\n",
    "cd autogis/notebooks/L2\n",
    "    \n",
    "```\n",
    "3. Use `wget` to dowload the data from the dowload link:\n",
    "    \n",
    "```\n",
    "wget https://github.com/AutoGIS/data/raw/master/L2_data.zip\n",
    "    \n",
    "```\n",
    "<div class=\"alert alert-info\">\n",
    "\n",
    "**Copy-paste**\n",
    "    \n",
    "You can paste copied text in JupyterLab Terminal by pressing `SHIFT` + `RIGHT-CLICK` on your mouse and choosing `Paste`.\n",
    "\n",
    "</div>\n",
    "\n",
    "Once you have downloaded the `L2_data.zip` file into your (cloud) computer, you can unzip the file using `unzip` command in the Terminal (or e.g. 7zip on Windows if working with own computer). Run the following commands in the `.../notebooks/L2` -directory:\n",
    "\n",
    "``` \n",
    "$ unzip L2_data.zip\n",
    "$ ls L2_data\n",
    "\n",
    "```\n",
    "You can also check the contents of the downloaded and unzipped file in the file browser window. \n",
    "\n",
    "The L2_data folder contains several subfolders according to the file strucutre in the topographic database shapefile distribution. After unzipping the downloaded file, you can find the data for this tutorial under: `L2_data/NLS/2018/L4/L41/L4132R.shp`. Notice that Shapefile -fileformat contains many separate files such as `.dbf` that contains the attribute information, and `.prj` -file that contains information about coordinate reference system."
   ]
  },
  {
   "cell_type": "code",
   "execution_count": null,
   "id": "5fd729d3-376b-447e-9bdd-a54447d27f07",
   "metadata": {
    "pycharm": {
     "name": "#%%\n"
    }
   },
   "outputs": [],
   "source": []
  }
 ],
 "metadata": {
  "kernelspec": {
   "display_name": "Python 3 (ipykernel)",
   "language": "python",
   "name": "python3"
  },
  "language_info": {
   "codemirror_mode": {
    "name": "ipython",
    "version": 3
   },
   "file_extension": ".py",
   "mimetype": "text/x-python",
   "name": "python",
   "nbconvert_exporter": "python",
   "pygments_lexer": "ipython3",
   "version": "3.9.7"
  }
 },
 "nbformat": 4,
 "nbformat_minor": 5
}