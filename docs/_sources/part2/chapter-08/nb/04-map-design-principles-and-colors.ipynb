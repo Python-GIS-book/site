{
 "cells": [
  {
   "cell_type": "markdown",
   "id": "56800f33-c3d5-470f-b22c-9161af2df82f",
   "metadata": {},
   "source": [
    "# Designing maps\n",
    "\n",
    "## Elements of a good map design\n",
    "\n",
    "**This section is under construction**\n",
    "\n",
    "Contents:\n",
    "\n",
    "- Basic elements of a map\n",
    "  - Legend\n",
    "  - Scalebar\n",
    "  - North arrow\n",
    "  \n",
    "- Principles of a good map design\n",
    "  - Tufte's design principles\n",
    "  - Tell a story with data\n",
    "  - Good use of symbols and colors\n",
    "  - Simple style and easy to understand\n",
    "  \n",
    "\n",
    "## Working with colors\n",
    "\n",
    "**This section is under construction**\n",
    "\n",
    "Contents:\n",
    "\n",
    "- Considerations when working with colors\n",
    "  - When to use sequential color scheme? \n",
    "  - When to use continuous color scheme?\n",
    "- Colormaps for static and interactive maps\n",
    "  - Where to find colormaps?\n",
    "  - How to adjust existing colormaps?\n",
    "  - How to create custom color palette?"
   ]
  }
 ],
 "metadata": {
  "kernelspec": {
   "display_name": "Python 3 (ipykernel)",
   "language": "python",
   "name": "python3"
  },
  "language_info": {
   "codemirror_mode": {
    "name": "ipython",
    "version": 3
   },
   "file_extension": ".py",
   "mimetype": "text/x-python",
   "name": "python",
   "nbconvert_exporter": "python",
   "pygments_lexer": "ipython3",
   "version": "3.9.7"
  }
 },
 "nbformat": 4,
 "nbformat_minor": 5
}
