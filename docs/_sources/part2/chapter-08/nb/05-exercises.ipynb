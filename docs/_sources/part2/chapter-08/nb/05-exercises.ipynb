{
 "cells": [
  {
   "cell_type": "markdown",
   "id": "9444feb9-9cf4-4e0a-b111-5a4f6fe4bca9",
   "metadata": {},
   "source": [
    "# Exercises\n",
    "\n",
    "**Under construction**"
   ]
  }
 ],
 "metadata": {
  "kernelspec": {
   "display_name": "Python 3 (ipykernel)",
   "language": "python",
   "name": "python3"
  },
  "language_info": {
   "codemirror_mode": {
    "name": "ipython",
    "version": 3
   },
   "file_extension": ".py",
   "mimetype": "text/x-python",
   "name": "python",
   "nbconvert_exporter": "python",
   "pygments_lexer": "ipython3",
   "version": "3.9.7"
  }
 },
 "nbformat": 4,
 "nbformat_minor": 5
}
