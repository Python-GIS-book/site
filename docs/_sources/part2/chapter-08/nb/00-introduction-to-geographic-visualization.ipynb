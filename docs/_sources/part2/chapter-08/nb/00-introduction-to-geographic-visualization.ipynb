{
 "cells": [
  {
   "cell_type": "markdown",
   "id": "b8f43c3d-a630-437a-9aec-733d59b5326b",
   "metadata": {},
   "source": [
    "# Introduction to geographic visualization"
   ]
  },
  {
   "cell_type": "markdown",
   "id": "5de45ce1-c61c-4957-a267-4b02f17b6347",
   "metadata": {},
   "source": [
    "**Under construction**"
   ]
  }
 ],
 "metadata": {
  "kernelspec": {
   "display_name": "Python 3 (ipykernel)",
   "language": "python",
   "name": "python3"
  },
  "language_info": {
   "codemirror_mode": {
    "name": "ipython",
    "version": 3
   },
   "file_extension": ".py",
   "mimetype": "text/x-python",
   "name": "python",
   "nbconvert_exporter": "python",
   "pygments_lexer": "ipython3",
   "version": "3.9.7"
  }
 },
 "nbformat": 4,
 "nbformat_minor": 5
}
