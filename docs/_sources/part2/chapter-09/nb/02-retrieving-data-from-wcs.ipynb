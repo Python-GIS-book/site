{
 "cells": [
  {
   "cell_type": "markdown",
   "id": "5ac999db-39ca-4deb-be03-d306599fd635",
   "metadata": {},
   "source": [
    "# Retrieving data from Web Coverage Service (WCS)"
   ]
  },
  {
   "cell_type": "markdown",
   "id": "6c148f28-ba84-46d6-a5a6-975afe1c6d6f",
   "metadata": {},
   "source": [
    "**Section is under construction**\n",
    "\n",
    "Contents:\n",
    "- Introduce OGC WCS and Cloud Optimized Geotiffs (COG)\n",
    "- Use OWSLib to get capabilities of WCS API\n",
    "- Retrieve data to xarray"
   ]
  }
 ],
 "metadata": {
  "kernelspec": {
   "display_name": "Python 3 (ipykernel)",
   "language": "python",
   "name": "python3"
  },
  "language_info": {
   "codemirror_mode": {
    "name": "ipython",
    "version": 3
   },
   "file_extension": ".py",
   "mimetype": "text/x-python",
   "name": "python",
   "nbconvert_exporter": "python",
   "pygments_lexer": "ipython3",
   "version": "3.9.7"
  }
 },
 "nbformat": 4,
 "nbformat_minor": 5
}
