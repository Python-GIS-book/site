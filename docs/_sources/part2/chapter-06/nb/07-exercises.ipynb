{
 "cells": [
  {
   "cell_type": "markdown",
   "id": "1c4e1613",
   "metadata": {},
   "source": [
    "# Exercises\n",
    "\n",
    "**Under construction**"
   ]
  }
 ],
 "metadata": {
  "kernelspec": {
   "display_name": "Python 3 (ipykernel)",
   "language": "python",
   "name": "python3"
  }
 },
 "nbformat": 4,
 "nbformat_minor": 5
}
