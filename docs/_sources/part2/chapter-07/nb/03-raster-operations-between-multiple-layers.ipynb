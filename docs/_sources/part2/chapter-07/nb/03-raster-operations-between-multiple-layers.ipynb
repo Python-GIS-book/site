{
 "cells": [
  {
   "cell_type": "markdown",
   "id": "ba44af28-34b7-484d-a6f7-27e45053f597",
   "metadata": {},
   "source": [
    "# Raster operations between multiple layers\n",
    "\n",
    "**This section is under construction**.\n",
    "\n",
    "\n"
   ]
  }
 ],
 "metadata": {
  "kernelspec": {
   "display_name": "Python 3 (ipykernel)",
   "language": "python",
   "name": "python3"
  },
  "language_info": {
   "codemirror_mode": {
    "name": "ipython",
    "version": 3
   },
   "file_extension": ".py",
   "mimetype": "text/x-python",
   "name": "python",
   "nbconvert_exporter": "python",
   "pygments_lexer": "ipython3",
   "version": "3.9.7"
  }
 },
 "nbformat": 4,
 "nbformat_minor": 5
}
