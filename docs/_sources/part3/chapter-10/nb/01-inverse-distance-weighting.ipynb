{
 "cells": [
  {
   "cell_type": "markdown",
   "id": "8c960577-d184-4937-8e47-d813d7384674",
   "metadata": {},
   "source": [
    "# Inverse Distance Weighting interpolation with Python\n",
    "\n",
    "**This section is under construction**\n",
    "\n",
    "Contents:\n",
    "\n",
    "- Conducting IDW using `pyinterpolate` "
   ]
  }
 ],
 "metadata": {
  "kernelspec": {
   "display_name": "Python 3 (ipykernel)",
   "language": "python",
   "name": "python3"
  },
  "language_info": {
   "codemirror_mode": {
    "name": "ipython",
    "version": 3
   },
   "file_extension": ".py",
   "mimetype": "text/x-python",
   "name": "python",
   "nbconvert_exporter": "python",
   "pygments_lexer": "ipython3",
   "version": "3.9.7"
  }
 },
 "nbformat": 4,
 "nbformat_minor": 5
}
