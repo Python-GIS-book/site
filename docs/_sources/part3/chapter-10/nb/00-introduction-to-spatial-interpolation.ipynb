{
 "cells": [
  {
   "cell_type": "markdown",
   "id": "937e7c33-f605-4c3e-aba0-1df0a37c6e10",
   "metadata": {},
   "source": [
    "# Introduction to spatial interpolation\n",
    "\n",
    "Contents:\n",
    "- What is spatial interpolation?\n",
    "- Different approaches to interpolate data\n",
    "- The logic of Inverse Distance Weighting (IDW) interpolation"
   ]
  }
 ],
 "metadata": {
  "kernelspec": {
   "display_name": "Python 3 (ipykernel)",
   "language": "python",
   "name": "python3"
  },
  "language_info": {
   "codemirror_mode": {
    "name": "ipython",
    "version": 3
   },
   "file_extension": ".py",
   "mimetype": "text/x-python",
   "name": "python",
   "nbconvert_exporter": "python",
   "pygments_lexer": "ipython3",
   "version": "3.9.7"
  }
 },
 "nbformat": 4,
 "nbformat_minor": 5
}
