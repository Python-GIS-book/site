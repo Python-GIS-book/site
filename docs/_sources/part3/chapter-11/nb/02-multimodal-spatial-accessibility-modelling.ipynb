{
 "cells": [
  {
   "cell_type": "markdown",
   "id": "3ca0c8c2-d71c-4399-ae3a-0a6e32440263",
   "metadata": {},
   "source": [
    "# Multimodal spatial accessibility analysis with Python\n",
    "\n",
    "**This section is under construction**\n",
    "\n",
    "Contents:\n",
    "- How to analyze accessibility?\n",
    "- Travel time analyses by different travel modes using `r5py` library"
   ]
  }
 ],
 "metadata": {
  "kernelspec": {
   "display_name": "Python 3 (ipykernel)",
   "language": "python",
   "name": "python3"
  },
  "language_info": {
   "codemirror_mode": {
    "name": "ipython",
    "version": 3
   },
   "file_extension": ".py",
   "mimetype": "text/x-python",
   "name": "python",
   "nbconvert_exporter": "python",
   "pygments_lexer": "ipython3",
   "version": "3.9.7"
  }
 },
 "nbformat": 4,
 "nbformat_minor": 5
}
