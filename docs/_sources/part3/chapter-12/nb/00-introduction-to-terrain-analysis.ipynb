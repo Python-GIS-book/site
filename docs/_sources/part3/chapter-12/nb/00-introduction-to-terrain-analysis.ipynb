{
 "cells": [
  {
   "cell_type": "markdown",
   "id": "975ef64f-0235-4d34-a395-70f8a40ba838",
   "metadata": {},
   "source": [
    "# Introduction to terrain analysis"
   ]
  },
  {
   "cell_type": "markdown",
   "id": "dc2df18c-8488-4784-b53b-b6e4cc201cf6",
   "metadata": {},
   "source": [
    "**This section is under construction**"
   ]
  }
 ],
 "metadata": {
  "kernelspec": {
   "display_name": "Python 3 (ipykernel)",
   "language": "python",
   "name": "python3"
  },
  "language_info": {
   "codemirror_mode": {
    "name": "ipython",
    "version": 3
   },
   "file_extension": ".py",
   "mimetype": "text/x-python",
   "name": "python",
   "nbconvert_exporter": "python",
   "pygments_lexer": "ipython3",
   "version": "3.9.7"
  }
 },
 "nbformat": 4,
 "nbformat_minor": 5
}
