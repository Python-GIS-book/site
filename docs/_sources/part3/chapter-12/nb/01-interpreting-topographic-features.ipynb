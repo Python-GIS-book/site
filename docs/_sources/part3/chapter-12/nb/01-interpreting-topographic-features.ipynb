{
 "cells": [
  {
   "cell_type": "markdown",
   "id": "c9ab26ad-78d7-42bc-af1c-91268848201c",
   "metadata": {},
   "source": [
    "# Interpreting topographic features from raster data\n",
    "\n",
    "**This section is under construction**\n",
    "\n",
    "Contents:\n",
    "\n",
    "- slope, aspect, hillshade, contour lines, flow, zonal statistics\n",
    "- Libraries: xarray-spatial, datashader"
   ]
  }
 ],
 "metadata": {
  "kernelspec": {
   "display_name": "Python 3 (ipykernel)",
   "language": "python",
   "name": "python3"
  },
  "language_info": {
   "codemirror_mode": {
    "name": "ipython",
    "version": 3
   },
   "file_extension": ".py",
   "mimetype": "text/x-python",
   "name": "python",
   "nbconvert_exporter": "python",
   "pygments_lexer": "ipython3",
   "version": "3.9.7"
  }
 },
 "nbformat": 4,
 "nbformat_minor": 5
}
