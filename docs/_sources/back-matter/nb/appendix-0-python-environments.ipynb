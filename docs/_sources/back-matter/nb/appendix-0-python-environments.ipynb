{
 "cells": [
  {
   "cell_type": "markdown",
   "id": "eca05198-c61d-475d-a606-b51da3b1541b",
   "metadata": {},
   "source": [
    "# Installing and managing Python environments "
   ]
  },
  {
   "cell_type": "markdown",
   "id": "2e7aa7de-6c6a-4cdf-9a36-4a041d1490c4",
   "metadata": {},
   "source": [
    "Tips and tricks for working with Python installations and managing the conda environments. \n",
    "\n",
    "Here, we introduce a few good practices, terminology and approaches to ensure that installing Python libraries is a smooth experience.\n",
    "\n",
    "- When installing Python and specific libraries for it, we recommend to create a  \n",
    "\n",
    "- When updating a library, if you face issues, it's often better to re-create the whole environment from scracth. \n",
    "\n",
    "- Use configuration files to document and keep track of your packages installed in the virtual environment.\n"
   ]
  },
  {
   "cell_type": "code",
   "execution_count": null,
   "id": "82535575-c394-431c-9d9c-30d09fbbdfd8",
   "metadata": {},
   "outputs": [],
   "source": []
  }
 ],
 "metadata": {
  "kernelspec": {
   "display_name": "Python 3 (ipykernel)",
   "language": "python",
   "name": "python3"
  },
  "language_info": {
   "codemirror_mode": {
    "name": "ipython",
    "version": 3
   },
   "file_extension": ".py",
   "mimetype": "text/x-python",
   "name": "python",
   "nbconvert_exporter": "python",
   "pygments_lexer": "ipython3",
   "version": "3.11.5"
  }
 },
 "nbformat": 4,
 "nbformat_minor": 5
}
