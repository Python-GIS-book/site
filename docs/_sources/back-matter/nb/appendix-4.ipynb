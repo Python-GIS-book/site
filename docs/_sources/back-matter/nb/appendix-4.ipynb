{
 "cells": [
  {
   "cell_type": "markdown",
   "id": "39bb56ea-7b37-4a3a-a6e5-b7ac7c2ca320",
   "metadata": {},
   "source": [
    "# Testing and debugging your code\n",
    "\n",
    "Content to be added."
   ]
  }
 ],
 "metadata": {
  "kernelspec": {
   "display_name": "Python 3 (ipykernel)",
   "language": "python",
   "name": "python3"
  },
  "language_info": {
   "codemirror_mode": {
    "name": "ipython",
    "version": 3
   },
   "file_extension": ".py",
   "mimetype": "text/x-python",
   "name": "python",
   "nbconvert_exporter": "python",
   "pygments_lexer": "ipython3",
   "version": "3.9.7"
  }
 },
 "nbformat": 4,
 "nbformat_minor": 5
}
