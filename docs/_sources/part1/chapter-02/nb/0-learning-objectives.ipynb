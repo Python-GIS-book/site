{
 "cells": [
  {
   "cell_type": "markdown",
   "id": "20728ee0-d809-4c25-8314-273ae799363d",
   "metadata": {
    "editable": true,
    "slideshow": {
     "slide_type": ""
    },
    "tags": [
     "learning_objectives"
    ]
   },
   "source": [
    "# Learning objectives"
   ]
  },
  {
   "cell_type": "markdown",
   "id": "ab2cec8a-667b-453a-8d06-9b43e1672df1",
   "metadata": {
    "editable": true,
    "slideshow": {
     "slide_type": ""
    },
    "tags": []
   },
   "source": [
    "Chapter two presents some essential programming concepts and how to apply them in the Python language. This chapter covers the necessary background to create your own basic programs and use common data structures and operations in Python."
   ]
  },
  {
   "cell_type": "markdown",
   "id": "6c09b7b4-3490-4caf-bcd5-f7c2ad3bcf1e",
   "metadata": {
    "editable": true,
    "slideshow": {
     "slide_type": ""
    },
    "tags": [
     "lo_box"
    ]
   },
   "source": [
    "```{admonition} Learning objectives\n",
    ":class: tip\n",
    "\n",
    "At the end of this chapter, you should be able to:\n",
    "\n",
    "- Define and use variables, and convert between data types\n",
    "- Describe index variables and how they are used in Python collections\n",
    "- Utilize for loops to repeat actions in a program\n",
    "- Use conditional statements to decide which parts of a program to execute\n",
    "- Create functions to make it easy to use and re-use parts of your programs\n",
    "- Understand how to create your own Python script files and use Python modules\n",
    "\n",
    "```"
   ]
  }
 ],
 "metadata": {
  "kernelspec": {
   "display_name": "Python 3 (ipykernel)",
   "language": "python",
   "name": "python3"
  },
  "language_info": {
   "codemirror_mode": {
    "name": "ipython",
    "version": 3
   },
   "file_extension": ".py",
   "mimetype": "text/x-python",
   "name": "python",
   "nbconvert_exporter": "python",
   "pygments_lexer": "ipython3",
   "version": "3.11.5"
  }
 },
 "nbformat": 4,
 "nbformat_minor": 5
}
