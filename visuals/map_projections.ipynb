{
 "cells": [
  {
   "cell_type": "code",
   "execution_count": null,
   "id": "4955b35b-7d6c-4f98-9728-fc885d1c7793",
   "metadata": {},
   "outputs": [],
   "source": [
    "import proplot as pplt\n",
    "import matplotlib.pyplot as plt\n",
    "\n",
    "projs = [\"merc\", \"robin\", \"moll\", \"wintri\", \"sinu\", \"ortho\", \"aea\", \"igh\", \"eck1\"]\n",
    "\n",
    "proj_names = [\n",
    "    \"Mercator\",\n",
    "    \"Robinson\",\n",
    "    \"Mollweide\",\n",
    "    \"Winkel tripel\",\n",
    "    \"Sinusoidal\",\n",
    "    \"Orthographic\",\n",
    "    \"Albers Equal Area\",\n",
    "    \"Interrupted Goode Homolosine\",\n",
    "    \"Eckert I\",\n",
    "]\n",
    "\n",
    "\n",
    "fig, axs = pplt.subplots(ncols=3, nrows=3, figwidth=7, proj=projs)\n",
    "axs.format(\n",
    "    land=True,\n",
    "    reso=\"lo\",\n",
    "    labels=False,\n",
    "    # suptitle='Table of cartopy projections'\n",
    ")\n",
    "for proj, ax in zip(proj_names, axs):\n",
    "    ax.format(title=proj, titleweight=\"bold\", labels=False)\n",
    "\n",
    "plt.savefig(\"projections.jpg\", dpi=250)"
   ]
  },
  {
   "cell_type": "code",
   "execution_count": null,
   "id": "dbe9c621-9ccc-4dcd-ad81-0ee3c5c001b2",
   "metadata": {},
   "outputs": [],
   "source": []
  }
 ],
 "metadata": {
  "kernelspec": {
   "display_name": "Python 3 (ipykernel)",
   "language": "python",
   "name": "python3"
  },
  "language_info": {
   "codemirror_mode": {
    "name": "ipython",
    "version": 3
   },
   "file_extension": ".py",
   "mimetype": "text/x-python",
   "name": "python",
   "nbconvert_exporter": "python",
   "pygments_lexer": "ipython3",
   "version": "3.9.7"
  }
 },
 "nbformat": 4,
 "nbformat_minor": 5
}
