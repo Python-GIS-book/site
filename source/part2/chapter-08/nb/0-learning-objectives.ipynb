{
 "cells": [
  {
   "cell_type": "markdown",
   "id": "dc42f212-789b-4115-a134-f621321926f9",
   "metadata": {
    "editable": true,
    "slideshow": {
     "slide_type": ""
    },
    "tags": [
     "learning_objectives"
    ]
   },
   "source": [
    "# Learning objectives"
   ]
  },
  {
   "cell_type": "markdown",
   "id": "516d6250-3e61-4a4e-bc22-233850151637",
   "metadata": {
    "editable": true,
    "slideshow": {
     "slide_type": ""
    },
    "tags": []
   },
   "source": [
    "Chapter eight provides an introduction to visualizing geographic information using Python. Previous sections of the book have already featured simple exploratory visualizations of geographic data. This chapter will dive deeper into basic techniques of creating static and interactive visualizations and to making justified cartographic choices when creating maps in Python. \n",
    "\n",
    "Before diving in to this chapter, you should be familiar with basics of data visualization using `matplotlib` introduced in Part I and basics of `geopandas`, coordinate reference systems, and data classification techniques introduced in Part II."
   ]
  },
  {
   "cell_type": "markdown",
   "id": "c033c3e9-1ecb-4f8d-ac47-509c66d7cd45",
   "metadata": {
    "editable": true,
    "slideshow": {
     "slide_type": ""
    },
    "tags": [
     "lo_box"
    ]
   },
   "source": [
    "```{admonition} Learning objectives\n",
    ":class: tip\n",
    "\n",
    "At the end of this chapter, you should be able to:\n",
    "\n",
    "- Understand basic cartographic principles related to visualizing geographic information\n",
    "- Create static maps with relevant cartographic features\n",
    "- Create simple interactive maps \n",
    "\n",
    "\n",
    "```"
   ]
  }
 ],
 "metadata": {
  "kernelspec": {
   "display_name": "Python 3 (ipykernel)",
   "language": "python",
   "name": "python3"
  },
  "language_info": {
   "codemirror_mode": {
    "name": "ipython",
    "version": 3
   },
   "file_extension": ".py",
   "mimetype": "text/x-python",
   "name": "python",
   "nbconvert_exporter": "python",
   "pygments_lexer": "ipython3",
   "version": "3.12.9"
  }
 },
 "nbformat": 4,
 "nbformat_minor": 5
}
