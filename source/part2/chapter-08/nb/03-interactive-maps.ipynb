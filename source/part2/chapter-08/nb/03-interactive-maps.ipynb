{
 "cells": [
  {
   "cell_type": "markdown",
   "metadata": {},
   "source": [
    "# Interactive maps"
   ]
  },
  {
   "cell_type": "markdown",
   "metadata": {
    "deletable": true,
    "editable": true
   },
   "source": [
    "Interactive maps allow users to engage with the map content through, for example, zooming, panning, clicking, and searching. In previous chapters, we have already created simple examples of interactive maps via `geopandas` to explore our data interactively on top of a basemap. "
   ]
  },
  {
   "cell_type": "code",
   "execution_count": 17,
   "metadata": {},
   "outputs": [
    {
     "data": {
      "text/html": [
       "<div style=\"width:100%;\"><div style=\"position:relative;width:100%;height:0;padding-bottom:60%;\"><span style=\"color:#565656\">Make this Notebook Trusted to load map: File -> Trust Notebook</span><iframe srcdoc=\"&lt;!DOCTYPE html&gt;\n",
       "&lt;html&gt;\n",
       "&lt;head&gt;\n",
       "    \n",
       "    &lt;meta http-equiv=&quot;content-type&quot; content=&quot;text/html; charset=UTF-8&quot; /&gt;\n",
       "    \n",
       "        &lt;script&gt;\n",
       "            L_NO_TOUCH = false;\n",
       "            L_DISABLE_3D = false;\n",
       "        &lt;/script&gt;\n",
       "    \n",
       "    &lt;style&gt;html, body {width: 100%;height: 100%;margin: 0;padding: 0;}&lt;/style&gt;\n",
       "    &lt;style&gt;#map {position:absolute;top:0;bottom:0;right:0;left:0;}&lt;/style&gt;\n",
       "    &lt;script src=&quot;https://cdn.jsdelivr.net/npm/leaflet@1.9.3/dist/leaflet.js&quot;&gt;&lt;/script&gt;\n",
       "    &lt;script src=&quot;https://code.jquery.com/jquery-3.7.1.min.js&quot;&gt;&lt;/script&gt;\n",
       "    &lt;script src=&quot;https://cdn.jsdelivr.net/npm/bootstrap@5.2.2/dist/js/bootstrap.bundle.min.js&quot;&gt;&lt;/script&gt;\n",
       "    &lt;script src=&quot;https://cdnjs.cloudflare.com/ajax/libs/Leaflet.awesome-markers/2.0.2/leaflet.awesome-markers.js&quot;&gt;&lt;/script&gt;\n",
       "    &lt;link rel=&quot;stylesheet&quot; href=&quot;https://cdn.jsdelivr.net/npm/leaflet@1.9.3/dist/leaflet.css&quot;/&gt;\n",
       "    &lt;link rel=&quot;stylesheet&quot; href=&quot;https://cdn.jsdelivr.net/npm/bootstrap@5.2.2/dist/css/bootstrap.min.css&quot;/&gt;\n",
       "    &lt;link rel=&quot;stylesheet&quot; href=&quot;https://netdna.bootstrapcdn.com/bootstrap/3.0.0/css/bootstrap-glyphicons.css&quot;/&gt;\n",
       "    &lt;link rel=&quot;stylesheet&quot; href=&quot;https://cdn.jsdelivr.net/npm/@fortawesome/fontawesome-free@6.2.0/css/all.min.css&quot;/&gt;\n",
       "    &lt;link rel=&quot;stylesheet&quot; href=&quot;https://cdnjs.cloudflare.com/ajax/libs/Leaflet.awesome-markers/2.0.2/leaflet.awesome-markers.css&quot;/&gt;\n",
       "    &lt;link rel=&quot;stylesheet&quot; href=&quot;https://cdn.jsdelivr.net/gh/python-visualization/folium/folium/templates/leaflet.awesome.rotate.min.css&quot;/&gt;\n",
       "    \n",
       "            &lt;meta name=&quot;viewport&quot; content=&quot;width=device-width,\n",
       "                initial-scale=1.0, maximum-scale=1.0, user-scalable=no&quot; /&gt;\n",
       "            &lt;style&gt;\n",
       "                #map_f720f84cd2d4c4c27b1f29ea4994dd21 {\n",
       "                    position: relative;\n",
       "                    width: 100.0%;\n",
       "                    height: 100.0%;\n",
       "                    left: 0.0%;\n",
       "                    top: 0.0%;\n",
       "                }\n",
       "                .leaflet-container { font-size: 1rem; }\n",
       "            &lt;/style&gt;\n",
       "        \n",
       "    \n",
       "                    &lt;style&gt;\n",
       "                        .foliumtooltip {\n",
       "                            \n",
       "                        }\n",
       "                       .foliumtooltip table{\n",
       "                            margin: auto;\n",
       "                        }\n",
       "                        .foliumtooltip tr{\n",
       "                            text-align: left;\n",
       "                        }\n",
       "                        .foliumtooltip th{\n",
       "                            padding: 2px; padding-right: 8px;\n",
       "                        }\n",
       "                    &lt;/style&gt;\n",
       "            \n",
       "&lt;/head&gt;\n",
       "&lt;body&gt;\n",
       "    \n",
       "    \n",
       "            &lt;div class=&quot;folium-map&quot; id=&quot;map_f720f84cd2d4c4c27b1f29ea4994dd21&quot; &gt;&lt;/div&gt;\n",
       "        \n",
       "&lt;/body&gt;\n",
       "&lt;script&gt;\n",
       "    \n",
       "    \n",
       "            var map_f720f84cd2d4c4c27b1f29ea4994dd21 = L.map(\n",
       "                &quot;map_f720f84cd2d4c4c27b1f29ea4994dd21&quot;,\n",
       "                {\n",
       "                    center: [60.2159836, 25.00171355],\n",
       "                    crs: L.CRS.EPSG3857,\n",
       "                    ...{\n",
       "  &quot;zoom&quot;: 10,\n",
       "  &quot;zoomControl&quot;: true,\n",
       "  &quot;preferCanvas&quot;: false,\n",
       "}\n",
       "\n",
       "                }\n",
       "            );\n",
       "            L.control.scale().addTo(map_f720f84cd2d4c4c27b1f29ea4994dd21);\n",
       "\n",
       "            \n",
       "\n",
       "        \n",
       "    \n",
       "            var tile_layer_5249320337cd3060425c4a7f2c1d6a66 = L.tileLayer(\n",
       "                &quot;https://tile.openstreetmap.org/{z}/{x}/{y}.png&quot;,\n",
       "                {\n",
       "  &quot;minZoom&quot;: 0,\n",
       "  &quot;maxZoom&quot;: 19,\n",
       "  &quot;maxNativeZoom&quot;: 19,\n",
       "  &quot;noWrap&quot;: false,\n",
       "  &quot;attribution&quot;: &quot;\\u0026copy; \\u003ca href=\\&quot;https://www.openstreetmap.org/copyright\\&quot;\\u003eOpenStreetMap\\u003c/a\\u003e contributors&quot;,\n",
       "  &quot;subdomains&quot;: &quot;abc&quot;,\n",
       "  &quot;detectRetina&quot;: false,\n",
       "  &quot;tms&quot;: false,\n",
       "  &quot;opacity&quot;: 1,\n",
       "}\n",
       "\n",
       "            );\n",
       "        \n",
       "    \n",
       "            tile_layer_5249320337cd3060425c4a7f2c1d6a66.addTo(map_f720f84cd2d4c4c27b1f29ea4994dd21);\n",
       "        \n",
       "    \n",
       "            map_f720f84cd2d4c4c27b1f29ea4994dd21.fitBounds(\n",
       "                [[60.1565781, 24.8609335], [60.2753891, 25.1424936]],\n",
       "                {}\n",
       "            );\n",
       "        \n",
       "    \n",
       "        function geo_json_4e211653f3cc7ff80c3149904f857a6b_styler(feature) {\n",
       "            switch(feature.id) {\n",
       "                default:\n",
       "                    return {&quot;fillOpacity&quot;: 0.5, &quot;weight&quot;: 2};\n",
       "            }\n",
       "        }\n",
       "        function geo_json_4e211653f3cc7ff80c3149904f857a6b_highlighter(feature) {\n",
       "            switch(feature.id) {\n",
       "                default:\n",
       "                    return {&quot;fillOpacity&quot;: 0.75};\n",
       "            }\n",
       "        }\n",
       "        function geo_json_4e211653f3cc7ff80c3149904f857a6b_pointToLayer(feature, latlng) {\n",
       "            var opts = {&quot;bubblingMouseEvents&quot;: true, &quot;color&quot;: &quot;#3388ff&quot;, &quot;dashArray&quot;: null, &quot;dashOffset&quot;: null, &quot;fill&quot;: true, &quot;fillColor&quot;: &quot;#3388ff&quot;, &quot;fillOpacity&quot;: 0.2, &quot;fillRule&quot;: &quot;evenodd&quot;, &quot;lineCap&quot;: &quot;round&quot;, &quot;lineJoin&quot;: &quot;round&quot;, &quot;opacity&quot;: 1.0, &quot;radius&quot;: 2, &quot;stroke&quot;: true, &quot;weight&quot;: 3};\n",
       "            \n",
       "            let style = geo_json_4e211653f3cc7ff80c3149904f857a6b_styler(feature)\n",
       "            Object.assign(opts, style)\n",
       "            \n",
       "            return new L.CircleMarker(latlng, opts)\n",
       "        }\n",
       "\n",
       "        function geo_json_4e211653f3cc7ff80c3149904f857a6b_onEachFeature(feature, layer) {\n",
       "            layer.on({\n",
       "                mouseout: function(e) {\n",
       "                    if(typeof e.target.setStyle === &quot;function&quot;){\n",
       "                            geo_json_4e211653f3cc7ff80c3149904f857a6b.resetStyle(e.target);\n",
       "                    }\n",
       "                },\n",
       "                mouseover: function(e) {\n",
       "                    if(typeof e.target.setStyle === &quot;function&quot;){\n",
       "                        const highlightStyle = geo_json_4e211653f3cc7ff80c3149904f857a6b_highlighter(e.target.feature)\n",
       "                        e.target.setStyle(highlightStyle);\n",
       "                    }\n",
       "                },\n",
       "            });\n",
       "        };\n",
       "        var geo_json_4e211653f3cc7ff80c3149904f857a6b = L.geoJson(null, {\n",
       "                onEachFeature: geo_json_4e211653f3cc7ff80c3149904f857a6b_onEachFeature,\n",
       "            \n",
       "                style: geo_json_4e211653f3cc7ff80c3149904f857a6b_styler,\n",
       "                pointToLayer: geo_json_4e211653f3cc7ff80c3149904f857a6b_pointToLayer,\n",
       "            ...{\n",
       "}\n",
       "        });\n",
       "\n",
       "        function geo_json_4e211653f3cc7ff80c3149904f857a6b_add (data) {\n",
       "            geo_json_4e211653f3cc7ff80c3149904f857a6b\n",
       "                .addData(data);\n",
       "        }\n",
       "            geo_json_4e211653f3cc7ff80c3149904f857a6b_add({&quot;bbox&quot;: [24.8609335, 60.1565781, 25.1424936, 60.2753891], &quot;features&quot;: [{&quot;bbox&quot;: [24.9301701, 60.1683731, 24.9301701, 60.1683731], &quot;geometry&quot;: {&quot;coordinates&quot;: [24.9301701, 60.1683731], &quot;type&quot;: &quot;Point&quot;}, &quot;id&quot;: &quot;0&quot;, &quot;properties&quot;: {&quot;address&quot;: &quot;Kampinkuja 1, 00100 Helsinki, Finland&quot;, &quot;id&quot;: 1001}, &quot;type&quot;: &quot;Feature&quot;}, {&quot;bbox&quot;: [24.9418933, 60.1698665, 24.9418933, 60.1698665], &quot;geometry&quot;: {&quot;coordinates&quot;: [24.9418933, 60.1698665], &quot;type&quot;: &quot;Point&quot;}, &quot;id&quot;: &quot;1&quot;, &quot;properties&quot;: {&quot;address&quot;: &quot;Kaivokatu 8, 00101 Helsinki, Finland&quot;, &quot;id&quot;: 1002}, &quot;type&quot;: &quot;Feature&quot;}, {&quot;bbox&quot;: [24.9774004, 60.18735880000001, 24.9774004, 60.18735880000001], &quot;geometry&quot;: {&quot;coordinates&quot;: [24.9774004, 60.18735880000001], &quot;type&quot;: &quot;Point&quot;}, &quot;id&quot;: &quot;2&quot;, &quot;properties&quot;: {&quot;address&quot;: &quot;Hermanstads strandsv\\u00e4g 1, 00580 Helsingfors, Finland&quot;, &quot;id&quot;: 1003}, &quot;type&quot;: &quot;Feature&quot;}, {&quot;bbox&quot;: [25.0919641, 60.21448089999999, 25.0919641, 60.21448089999999], &quot;geometry&quot;: {&quot;coordinates&quot;: [25.0919641, 60.21448089999999], &quot;type&quot;: &quot;Point&quot;}, &quot;id&quot;: &quot;3&quot;, &quot;properties&quot;: {&quot;address&quot;: &quot;It\\u00e4v\\u00e4yl\\u00e4, 00900 Helsinki, Finland&quot;, &quot;id&quot;: 1004}, &quot;type&quot;: &quot;Feature&quot;}, {&quot;bbox&quot;: [24.9214846, 60.1565781, 24.9214846, 60.1565781], &quot;geometry&quot;: {&quot;coordinates&quot;: [24.9214846, 60.1565781], &quot;type&quot;: &quot;Point&quot;}, &quot;id&quot;: &quot;4&quot;, &quot;properties&quot;: {&quot;address&quot;: &quot;Tyynenmerenkatu 9, 00220 Helsinki, Finland&quot;, &quot;id&quot;: 1005}, &quot;type&quot;: &quot;Feature&quot;}, {&quot;bbox&quot;: [25.0816923, 60.23489060000001, 25.0816923, 60.23489060000001], &quot;geometry&quot;: {&quot;coordinates&quot;: [25.0816923, 60.23489060000001], &quot;type&quot;: &quot;Point&quot;}, &quot;id&quot;: &quot;5&quot;, &quot;properties&quot;: {&quot;address&quot;: &quot;Kontulantie 18, 00940 Helsinki, Finland&quot;, &quot;id&quot;: 1006}, &quot;type&quot;: &quot;Feature&quot;}, {&quot;bbox&quot;: [25.042239, 60.2033879, 25.042239, 60.2033879], &quot;geometry&quot;: {&quot;coordinates&quot;: [25.042239, 60.2033879], &quot;type&quot;: &quot;Point&quot;}, &quot;id&quot;: &quot;6&quot;, &quot;properties&quot;: {&quot;address&quot;: &quot;It\\u00e4v\\u00e4yl\\u00e4, 00800 Helsinki, Finland&quot;, &quot;id&quot;: 1007}, &quot;type&quot;: &quot;Feature&quot;}, {&quot;bbox&quot;: [25.035855, 60.2753891, 25.035855, 60.2753891], &quot;geometry&quot;: {&quot;coordinates&quot;: [25.035855, 60.2753891], &quot;type&quot;: &quot;Point&quot;}, &quot;id&quot;: &quot;7&quot;, &quot;properties&quot;: {&quot;address&quot;: &quot;Tapulikaupungintie 3, 00750 Helsinki, Finland&quot;, &quot;id&quot;: 1008}, &quot;type&quot;: &quot;Feature&quot;}, {&quot;bbox&quot;: [25.0291078, 60.2633799, 25.0291078, 60.2633799], &quot;geometry&quot;: {&quot;coordinates&quot;: [25.0291078, 60.2633799], &quot;type&quot;: &quot;Point&quot;}, &quot;id&quot;: &quot;8&quot;, &quot;properties&quot;: {&quot;address&quot;: &quot;Sompionpolku 2, 00730 Helsinki, Finland&quot;, &quot;id&quot;: 1009}, &quot;type&quot;: &quot;Feature&quot;}, {&quot;bbox&quot;: [24.8718598, 60.22243630000001, 24.8718598, 60.22243630000001], &quot;geometry&quot;: {&quot;coordinates&quot;: [24.8718598, 60.22243630000001], &quot;type&quot;: &quot;Point&quot;}, &quot;id&quot;: &quot;9&quot;, &quot;properties&quot;: {&quot;address&quot;: &quot;Atomitie 5, 00370 Helsinki, Finland&quot;, &quot;id&quot;: 1010}, &quot;type&quot;: &quot;Feature&quot;}, {&quot;bbox&quot;: [24.94251, 60.1711874, 24.94251, 60.1711874], &quot;geometry&quot;: {&quot;coordinates&quot;: [24.94251, 60.1711874], &quot;type&quot;: &quot;Point&quot;}, &quot;id&quot;: &quot;10&quot;, &quot;properties&quot;: {&quot;address&quot;: &quot;Rautatientori 1, 00100 Helsinki, Finland&quot;, &quot;id&quot;: 1011}, &quot;type&quot;: &quot;Feature&quot;}, {&quot;bbox&quot;: [24.8840504, 60.2306474, 24.8840504, 60.2306474], &quot;geometry&quot;: {&quot;coordinates&quot;: [24.8840504, 60.2306474], &quot;type&quot;: &quot;Point&quot;}, &quot;id&quot;: &quot;11&quot;, &quot;properties&quot;: {&quot;address&quot;: &quot;Kuparitie 8, 00440 Helsinki, Finland&quot;, &quot;id&quot;: 1012}, &quot;type&quot;: &quot;Feature&quot;}, {&quot;bbox&quot;: [24.877383, 60.240163, 24.877383, 60.240163], &quot;geometry&quot;: {&quot;coordinates&quot;: [24.877383, 60.240163], &quot;type&quot;: &quot;Point&quot;}, &quot;id&quot;: &quot;12&quot;, &quot;properties&quot;: {&quot;address&quot;: &quot;Trumstigen 8, 00420 Helsingfors, Finland&quot;, &quot;id&quot;: 1013}, &quot;type&quot;: &quot;Feature&quot;}, {&quot;bbox&quot;: [24.9483202, 60.22163339999999, 24.9483202, 60.22163339999999], &quot;geometry&quot;: {&quot;coordinates&quot;: [24.9483202, 60.22163339999999], &quot;type&quot;: &quot;Point&quot;}, &quot;id&quot;: &quot;13&quot;, &quot;properties&quot;: {&quot;address&quot;: &quot;Kullatorpsv\\u00e4gen 1, 00620 Helsingfors, Finland&quot;, &quot;id&quot;: 1014}, &quot;type&quot;: &quot;Feature&quot;}, {&quot;bbox&quot;: [25.0125655, 60.25149829999999, 25.0125655, 60.25149829999999], &quot;geometry&quot;: {&quot;coordinates&quot;: [25.0125655, 60.25149829999999], &quot;type&quot;: &quot;Point&quot;}, &quot;id&quot;: &quot;14&quot;, &quot;properties&quot;: {&quot;address&quot;: &quot;Malminkaari 15, 00700 Helsinki, Finland&quot;, &quot;id&quot;: 1015}, &quot;type&quot;: &quot;Feature&quot;}, {&quot;bbox&quot;: [24.893153, 60.2177823, 24.893153, 60.2177823], &quot;geometry&quot;: {&quot;coordinates&quot;: [24.893153, 60.2177823], &quot;type&quot;: &quot;Point&quot;}, &quot;id&quot;: &quot;15&quot;, &quot;properties&quot;: {&quot;address&quot;: &quot;Kyl\\u00e4tie 23, 00320 Helsinki, Finland&quot;, &quot;id&quot;: 1016}, &quot;type&quot;: &quot;Feature&quot;}, {&quot;bbox&quot;: [24.86186, 60.2485471, 24.86186, 60.2485471], &quot;geometry&quot;: {&quot;coordinates&quot;: [24.86186, 60.2485471], &quot;type&quot;: &quot;Point&quot;}, &quot;id&quot;: &quot;16&quot;, &quot;properties&quot;: {&quot;address&quot;: &quot;Malminkartanontie 17, 00410 Helsinki, Finland&quot;, &quot;id&quot;: 1017}, &quot;type&quot;: &quot;Feature&quot;}, {&quot;bbox&quot;: [24.9670533, 60.2291135, 24.9670533, 60.2291135], &quot;geometry&quot;: {&quot;coordinates&quot;: [24.9670533, 60.2291135], &quot;type&quot;: &quot;Point&quot;}, &quot;id&quot;: &quot;17&quot;, &quot;properties&quot;: {&quot;address&quot;: &quot;\\u00c5ggelby torg 2b, 00640 Helsingfors, Finland&quot;, &quot;id&quot;: 1018}, &quot;type&quot;: &quot;Feature&quot;}, {&quot;bbox&quot;: [24.9334051, 60.1986856, 24.9334051, 60.1986856], &quot;geometry&quot;: {&quot;coordinates&quot;: [24.9334051, 60.1986856], &quot;type&quot;: &quot;Point&quot;}, &quot;id&quot;: &quot;18&quot;, &quot;properties&quot;: {&quot;address&quot;: &quot;Bang\\u00e5rdsv\\u00e4gen 6, 00101 Helsingfors, Finland&quot;, &quot;id&quot;: 1019}, &quot;type&quot;: &quot;Feature&quot;}, {&quot;bbox&quot;: [24.8609335, 60.22401389999999, 24.8609335, 60.22401389999999], &quot;geometry&quot;: {&quot;coordinates&quot;: [24.8609335, 60.22401389999999], &quot;type&quot;: &quot;Point&quot;}, &quot;id&quot;: &quot;19&quot;, &quot;properties&quot;: {&quot;address&quot;: &quot;Pit\\u00e4j\\u00e4nm\\u00e4entie 15, 00370 Helsinki, Finland&quot;, &quot;id&quot;: 1020}, &quot;type&quot;: &quot;Feature&quot;}, {&quot;bbox&quot;: [24.9934979, 60.2436961, 24.9934979, 60.2436961], &quot;geometry&quot;: {&quot;coordinates&quot;: [24.9934979, 60.2436961], &quot;type&quot;: &quot;Point&quot;}, &quot;id&quot;: &quot;20&quot;, &quot;properties&quot;: {&quot;address&quot;: &quot;Eskolantie 2, 00720 Helsinki, Finland&quot;, &quot;id&quot;: 1021}, &quot;type&quot;: &quot;Feature&quot;}, {&quot;bbox&quot;: [25.040583, 60.24444239999999, 25.040583, 60.24444239999999], &quot;geometry&quot;: {&quot;coordinates&quot;: [25.040583, 60.24444239999999], &quot;type&quot;: &quot;Point&quot;}, &quot;id&quot;: &quot;21&quot;, &quot;properties&quot;: {&quot;address&quot;: &quot;Tattariharjuntie, 00700 Helsinki, Finland&quot;, &quot;id&quot;: 1022}, &quot;type&quot;: &quot;Feature&quot;}, {&quot;bbox&quot;: [25.0778094, 60.20966609999999, 25.0778094, 60.20966609999999], &quot;geometry&quot;: {&quot;coordinates&quot;: [25.0778094, 60.20966609999999], &quot;type&quot;: &quot;Point&quot;}, &quot;id&quot;: &quot;22&quot;, &quot;properties&quot;: {&quot;address&quot;: &quot;Tallinnanaukio 1, 00930 Helsinki, Finland&quot;, &quot;id&quot;: 1023}, &quot;type&quot;: &quot;Feature&quot;}, {&quot;bbox&quot;: [25.1424936, 60.20751019999999, 25.1424936, 60.20751019999999], &quot;geometry&quot;: {&quot;coordinates&quot;: [25.1424936, 60.20751019999999], &quot;type&quot;: &quot;Point&quot;}, &quot;id&quot;: &quot;23&quot;, &quot;properties&quot;: {&quot;address&quot;: &quot;Tyynylaavantie 7, 00980 Helsinki, Finland&quot;, &quot;id&quot;: 1024}, &quot;type&quot;: &quot;Feature&quot;}, {&quot;bbox&quot;: [25.0756547, 60.225599, 25.0756547, 60.225599], &quot;geometry&quot;: {&quot;coordinates&quot;: [25.0756547, 60.225599], &quot;type&quot;: &quot;Point&quot;}, &quot;id&quot;: &quot;24&quot;, &quot;properties&quot;: {&quot;address&quot;: &quot;Varvasm\\u00e4enkuja, 00920 Helsinki, Finland&quot;, &quot;id&quot;: 1025}, &quot;type&quot;: &quot;Feature&quot;}, {&quot;bbox&quot;: [25.1080054, 60.2382054, 25.1080054, 60.2382054], &quot;geometry&quot;: {&quot;coordinates&quot;: [25.1080054, 60.2382054], &quot;type&quot;: &quot;Point&quot;}, &quot;id&quot;: &quot;25&quot;, &quot;properties&quot;: {&quot;address&quot;: &quot;Mellungsbackastr\\u00e5ket 6, 00970 Helsingfors, Finland&quot;, &quot;id&quot;: 1026}, &quot;type&quot;: &quot;Feature&quot;}, {&quot;bbox&quot;: [24.9609122, 60.18789030000001, 24.9609122, 60.18789030000001], &quot;geometry&quot;: {&quot;coordinates&quot;: [24.9609122, 60.18789030000001], &quot;type&quot;: &quot;Point&quot;}, &quot;id&quot;: &quot;26&quot;, &quot;properties&quot;: {&quot;address&quot;: &quot;Vasastigen 2, 00101 Helsingfors, Finland&quot;, &quot;id&quot;: 1027}, &quot;type&quot;: &quot;Feature&quot;}, {&quot;bbox&quot;: [25.0291263, 60.19413939999999, 25.0291263, 60.19413939999999], &quot;geometry&quot;: {&quot;coordinates&quot;: [25.0291263, 60.19413939999999], &quot;type&quot;: &quot;Point&quot;}, &quot;id&quot;: &quot;27&quot;, &quot;properties&quot;: {&quot;address&quot;: &quot;Hiiht\\u00e4j\\u00e4ntie 2, 00810 Helsinki, Finland&quot;, &quot;id&quot;: 1028}, &quot;type&quot;: &quot;Feature&quot;}, {&quot;bbox&quot;: [25.0068399, 60.18837519999999, 25.0068399, 60.18837519999999], &quot;geometry&quot;: {&quot;coordinates&quot;: [25.0068399, 60.18837519999999], &quot;type&quot;: &quot;Point&quot;}, &quot;id&quot;: &quot;28&quot;, &quot;properties&quot;: {&quot;address&quot;: &quot;Ukko-Pekan porras, 00570 Helsinki, Finland&quot;, &quot;id&quot;: 1029}, &quot;type&quot;: &quot;Feature&quot;}, {&quot;bbox&quot;: [24.9494874, 60.1793862, 24.9494874, 60.1793862], &quot;geometry&quot;: {&quot;coordinates&quot;: [24.9494874, 60.1793862], &quot;type&quot;: &quot;Point&quot;}, &quot;id&quot;: &quot;29&quot;, &quot;properties&quot;: {&quot;address&quot;: &quot;Siltasaarenkatu 16, 00530 Helsinki, Finland&quot;, &quot;id&quot;: 1030}, &quot;type&quot;: &quot;Feature&quot;}, {&quot;bbox&quot;: [24.9337569, 60.1694809, 24.9337569, 60.1694809], &quot;geometry&quot;: {&quot;coordinates&quot;: [24.9337569, 60.1694809], &quot;type&quot;: &quot;Point&quot;}, &quot;id&quot;: &quot;30&quot;, &quot;properties&quot;: {&quot;address&quot;: &quot;Urho Kekkosen katu 1, 00100 Helsinki, Finland&quot;, &quot;id&quot;: 1031}, &quot;type&quot;: &quot;Feature&quot;}, {&quot;bbox&quot;: [24.9250072, 60.16500139999999, 24.9250072, 60.16500139999999], &quot;geometry&quot;: {&quot;coordinates&quot;: [24.9250072, 60.16500139999999], &quot;type&quot;: &quot;Point&quot;}, &quot;id&quot;: &quot;31&quot;, &quot;properties&quot;: {&quot;address&quot;: &quot;Gr\\u00e4sviksgatan 17, 00101 Helsingfors, Finland&quot;, &quot;id&quot;: 1032}, &quot;type&quot;: &quot;Feature&quot;}, {&quot;bbox&quot;: [24.9214046, 60.159069, 24.9214046, 60.159069], &quot;geometry&quot;: {&quot;coordinates&quot;: [24.9214046, 60.159069], &quot;type&quot;: &quot;Point&quot;}, &quot;id&quot;: &quot;32&quot;, &quot;properties&quot;: {&quot;address&quot;: &quot;Stillahavsgatan 3, 00220 Helsingfors, Finland&quot;, &quot;id&quot;: 1033}, &quot;type&quot;: &quot;Feature&quot;}, {&quot;bbox&quot;: [24.9468514, 60.1719108, 24.9468514, 60.1719108], &quot;geometry&quot;: {&quot;coordinates&quot;: [24.9468514, 60.1719108], &quot;type&quot;: &quot;Point&quot;}, &quot;id&quot;: &quot;33&quot;, &quot;properties&quot;: {&quot;address&quot;: &quot;Vilhelmsgatan 4, 00101 Helsingfors, Finland&quot;, &quot;id&quot;: 1034}, &quot;type&quot;: &quot;Feature&quot;}, {&quot;bbox&quot;: [25.1204966, 60.20548979999999, 25.1204966, 60.20548979999999], &quot;geometry&quot;: {&quot;coordinates&quot;: [25.1204966, 60.20548979999999], &quot;type&quot;: &quot;Point&quot;}, &quot;id&quot;: &quot;34&quot;, &quot;properties&quot;: {&quot;address&quot;: &quot;Torisilta, 00980 Helsinki, Finland&quot;, &quot;id&quot;: 1035}, &quot;type&quot;: &quot;Feature&quot;}], &quot;type&quot;: &quot;FeatureCollection&quot;});\n",
       "\n",
       "        \n",
       "    \n",
       "    geo_json_4e211653f3cc7ff80c3149904f857a6b.bindTooltip(\n",
       "    function(layer){\n",
       "    let div = L.DomUtil.create(&#x27;div&#x27;);\n",
       "    \n",
       "    let handleObject = feature=&gt;typeof(feature)==&#x27;object&#x27; ? JSON.stringify(feature) : feature;\n",
       "    let fields = [&quot;address&quot;, &quot;id&quot;];\n",
       "    let aliases = [&quot;address&quot;, &quot;id&quot;];\n",
       "    let table = &#x27;&lt;table&gt;&#x27; +\n",
       "        String(\n",
       "        fields.map(\n",
       "        (v,i)=&gt;\n",
       "        `&lt;tr&gt;\n",
       "            &lt;th&gt;${aliases[i]}&lt;/th&gt;\n",
       "            \n",
       "            &lt;td&gt;${handleObject(layer.feature.properties[v])}&lt;/td&gt;\n",
       "        &lt;/tr&gt;`).join(&#x27;&#x27;))\n",
       "    +&#x27;&lt;/table&gt;&#x27;;\n",
       "    div.innerHTML=table;\n",
       "    \n",
       "    return div\n",
       "    }\n",
       "    ,{\n",
       "  &quot;sticky&quot;: true,\n",
       "  &quot;className&quot;: &quot;foliumtooltip&quot;,\n",
       "});\n",
       "                     \n",
       "    \n",
       "            geo_json_4e211653f3cc7ff80c3149904f857a6b.addTo(map_f720f84cd2d4c4c27b1f29ea4994dd21);\n",
       "        \n",
       "&lt;/script&gt;\n",
       "&lt;/html&gt;\" style=\"position:absolute;width:100%;height:100%;left:0;top:0;border:none !important;\" allowfullscreen webkitallowfullscreen mozallowfullscreen></iframe></div></div>"
      ],
      "text/plain": [
       "<folium.folium.Map at 0x177779628d0>"
      ]
     },
     "execution_count": 17,
     "metadata": {},
     "output_type": "execute_result"
    }
   ],
   "source": [
    "import geopandas as gpd\n",
    "\n",
    "points_fp = \"./../data/addresses.shp\"\n",
    "points = gpd.read_file(points_fp)\n",
    "points.explore()"
   ]
  },
  {
   "cell_type": "markdown",
   "metadata": {},
   "source": [
    "This interactive map allows us to zoom in and out to explore the locations of our point data. Furthermore, we can hover over the point features to view attribute information. `Geopandas` uses `folium`/`leaflet.js` to create the map and we can use these tools to create and further customize interactive maps for various purposes. \n",
    "\n",
    "## Using folium\n",
    "\n",
    "We will explore how to create interactive maps using the [`folium` library](https://python-visualization.github.io/folium/)[^folium]  library in Python. Folium makes it easy to visualize geographic data by integrating with [Leaflet.js](http://leafletjs.com/) [^leaflet], a powerful JavaScript library for interactive mapping. JavaScript (JS) is a programming language commonly used to add dynamic and interactive elements to webpages, and Leaflet is one of the many JavaScript libraries designed specifically for rendering interactive maps. By using Folium, we can leverage the capabilities of Leaflet.js without needing to write JavaScript code, making it accessible for Python users who want to integrate dynamic map content in their data analysis workflows."
   ]
  },
  {
   "cell_type": "markdown",
   "metadata": {},
   "source": [
    "### Creating a simple interactive web-map\n",
    "\n",
    "Let's start by creating a simple interactive map without any data on it. After importing `folium` and other useful packages, we will create [a `folium` map instance](https://python-visualization.github.io/folium/modules.html#folium.folium.Map) and define the initial location for the interactive map. Furthermore, we can adjusts the initial zoom-level for the map (the higher the number the closer the zoom is) using the `zoom_start` parameter, and display the scalebar using the `control_scale` parameter."
   ]
  },
  {
   "cell_type": "code",
   "execution_count": 2,
   "metadata": {},
   "outputs": [],
   "source": [
    "import folium\n",
    "from pyproj import crs\n",
    "import matplotlib.pyplot as plt"
   ]
  },
  {
   "cell_type": "code",
   "execution_count": 3,
   "metadata": {
    "deletable": true,
    "editable": true
   },
   "outputs": [],
   "source": [
    "# Create a Map instance\n",
    "m = folium.Map(location=[60.25, 24.8], zoom_start=10, control_scale=True)"
   ]
  },
  {
   "cell_type": "markdown",
   "metadata": {
    "deletable": true,
    "editable": true
   },
   "source": [
    "Let's see what our map looks like: "
   ]
  },
  {
   "cell_type": "code",
   "execution_count": 4,
   "metadata": {
    "collapsed": false,
    "deletable": true,
    "editable": true,
    "jupyter": {
     "outputs_hidden": false
    }
   },
   "outputs": [
    {
     "data": {
      "text/html": [
       "<div style=\"width:100%;\"><div style=\"position:relative;width:100%;height:0;padding-bottom:60%;\"><span style=\"color:#565656\">Make this Notebook Trusted to load map: File -> Trust Notebook</span><iframe srcdoc=\"&lt;!DOCTYPE html&gt;\n",
       "&lt;html&gt;\n",
       "&lt;head&gt;\n",
       "    \n",
       "    &lt;meta http-equiv=&quot;content-type&quot; content=&quot;text/html; charset=UTF-8&quot; /&gt;\n",
       "    \n",
       "        &lt;script&gt;\n",
       "            L_NO_TOUCH = false;\n",
       "            L_DISABLE_3D = false;\n",
       "        &lt;/script&gt;\n",
       "    \n",
       "    &lt;style&gt;html, body {width: 100%;height: 100%;margin: 0;padding: 0;}&lt;/style&gt;\n",
       "    &lt;style&gt;#map {position:absolute;top:0;bottom:0;right:0;left:0;}&lt;/style&gt;\n",
       "    &lt;script src=&quot;https://cdn.jsdelivr.net/npm/leaflet@1.9.3/dist/leaflet.js&quot;&gt;&lt;/script&gt;\n",
       "    &lt;script src=&quot;https://code.jquery.com/jquery-3.7.1.min.js&quot;&gt;&lt;/script&gt;\n",
       "    &lt;script src=&quot;https://cdn.jsdelivr.net/npm/bootstrap@5.2.2/dist/js/bootstrap.bundle.min.js&quot;&gt;&lt;/script&gt;\n",
       "    &lt;script src=&quot;https://cdnjs.cloudflare.com/ajax/libs/Leaflet.awesome-markers/2.0.2/leaflet.awesome-markers.js&quot;&gt;&lt;/script&gt;\n",
       "    &lt;link rel=&quot;stylesheet&quot; href=&quot;https://cdn.jsdelivr.net/npm/leaflet@1.9.3/dist/leaflet.css&quot;/&gt;\n",
       "    &lt;link rel=&quot;stylesheet&quot; href=&quot;https://cdn.jsdelivr.net/npm/bootstrap@5.2.2/dist/css/bootstrap.min.css&quot;/&gt;\n",
       "    &lt;link rel=&quot;stylesheet&quot; href=&quot;https://netdna.bootstrapcdn.com/bootstrap/3.0.0/css/bootstrap-glyphicons.css&quot;/&gt;\n",
       "    &lt;link rel=&quot;stylesheet&quot; href=&quot;https://cdn.jsdelivr.net/npm/@fortawesome/fontawesome-free@6.2.0/css/all.min.css&quot;/&gt;\n",
       "    &lt;link rel=&quot;stylesheet&quot; href=&quot;https://cdnjs.cloudflare.com/ajax/libs/Leaflet.awesome-markers/2.0.2/leaflet.awesome-markers.css&quot;/&gt;\n",
       "    &lt;link rel=&quot;stylesheet&quot; href=&quot;https://cdn.jsdelivr.net/gh/python-visualization/folium/folium/templates/leaflet.awesome.rotate.min.css&quot;/&gt;\n",
       "    \n",
       "            &lt;meta name=&quot;viewport&quot; content=&quot;width=device-width,\n",
       "                initial-scale=1.0, maximum-scale=1.0, user-scalable=no&quot; /&gt;\n",
       "            &lt;style&gt;\n",
       "                #map_649e01792894f47fd0b46f55464ceab2 {\n",
       "                    position: relative;\n",
       "                    width: 100.0%;\n",
       "                    height: 100.0%;\n",
       "                    left: 0.0%;\n",
       "                    top: 0.0%;\n",
       "                }\n",
       "                .leaflet-container { font-size: 1rem; }\n",
       "            &lt;/style&gt;\n",
       "        \n",
       "&lt;/head&gt;\n",
       "&lt;body&gt;\n",
       "    \n",
       "    \n",
       "            &lt;div class=&quot;folium-map&quot; id=&quot;map_649e01792894f47fd0b46f55464ceab2&quot; &gt;&lt;/div&gt;\n",
       "        \n",
       "&lt;/body&gt;\n",
       "&lt;script&gt;\n",
       "    \n",
       "    \n",
       "            var map_649e01792894f47fd0b46f55464ceab2 = L.map(\n",
       "                &quot;map_649e01792894f47fd0b46f55464ceab2&quot;,\n",
       "                {\n",
       "                    center: [60.25, 24.8],\n",
       "                    crs: L.CRS.EPSG3857,\n",
       "                    ...{\n",
       "  &quot;zoom&quot;: 10,\n",
       "  &quot;zoomControl&quot;: true,\n",
       "  &quot;preferCanvas&quot;: false,\n",
       "}\n",
       "\n",
       "                }\n",
       "            );\n",
       "            L.control.scale().addTo(map_649e01792894f47fd0b46f55464ceab2);\n",
       "\n",
       "            \n",
       "\n",
       "        \n",
       "    \n",
       "            var tile_layer_789c941671068102f9cf3cc7a31b828a = L.tileLayer(\n",
       "                &quot;https://tile.openstreetmap.org/{z}/{x}/{y}.png&quot;,\n",
       "                {\n",
       "  &quot;minZoom&quot;: 0,\n",
       "  &quot;maxZoom&quot;: 19,\n",
       "  &quot;maxNativeZoom&quot;: 19,\n",
       "  &quot;noWrap&quot;: false,\n",
       "  &quot;attribution&quot;: &quot;\\u0026copy; \\u003ca href=\\&quot;https://www.openstreetmap.org/copyright\\&quot;\\u003eOpenStreetMap\\u003c/a\\u003e contributors&quot;,\n",
       "  &quot;subdomains&quot;: &quot;abc&quot;,\n",
       "  &quot;detectRetina&quot;: false,\n",
       "  &quot;tms&quot;: false,\n",
       "  &quot;opacity&quot;: 1,\n",
       "}\n",
       "\n",
       "            );\n",
       "        \n",
       "    \n",
       "            tile_layer_789c941671068102f9cf3cc7a31b828a.addTo(map_649e01792894f47fd0b46f55464ceab2);\n",
       "        \n",
       "&lt;/script&gt;\n",
       "&lt;/html&gt;\" style=\"position:absolute;width:100%;height:100%;left:0;top:0;border:none !important;\" allowfullscreen webkitallowfullscreen mozallowfullscreen></iframe></div></div>"
      ],
      "text/plain": [
       "<folium.folium.Map at 0x177727cc920>"
      ]
     },
     "execution_count": 4,
     "metadata": {},
     "output_type": "execute_result"
    }
   ],
   "source": [
    "m"
   ]
  },
  {
   "cell_type": "markdown",
   "metadata": {
    "deletable": true,
    "editable": true
   },
   "source": [
    "To fully understand what happens, we can save the map as a HTML (Hypertext Markup Language) file and inspect how the interactive map is defined in text format. "
   ]
  },
  {
   "cell_type": "code",
   "execution_count": 5,
   "metadata": {
    "collapsed": false,
    "deletable": true,
    "editable": true,
    "jupyter": {
     "outputs_hidden": false
    }
   },
   "outputs": [],
   "source": [
    "outfp = \"./../data/base_map.html\"\n",
    "m.save(outfp)"
   ]
  },
  {
   "cell_type": "markdown",
   "metadata": {
    "deletable": true,
    "editable": true
   },
   "source": [
    "You should now see a html file in the data directory. You can open the file in a web-browser in order to see the map, or in a text editor in order to see the source definition HTML.\n",
    "\n",
    "### Changing the basemap\n",
    "\n",
    "Let's create another map with different settings (location, bacground map, zoom levels etc). Please refer to the [Folium API reference](https://python-visualization.github.io/folium/latest/reference.html) [^folium_api] for all available parameters. The bacground map can be controlled  via the `tiles` argument in`folium.Map()`. Folium includes several built-in background map tiles (such as `\"OpenStreetmap\"` and `\"CartoDB Positron\"`) and allows the use of custom URLs to define the bacground map. All tilesets available in the [`xyzservices` library](https://xyzservices.readthedocs.io/en/stable/) [^xyzservices] can be used via `folium`. You can preview available basemaps in the [Leaflet providers preview](https://leaflet-extras.github.io/leaflet-providers/preview/) [^leaflet_providers]. "
   ]
  },
  {
   "cell_type": "code",
   "execution_count": 12,
   "metadata": {
    "collapsed": false,
    "deletable": true,
    "editable": true,
    "jupyter": {
     "outputs_hidden": false
    },
    "scrolled": true
   },
   "outputs": [
    {
     "data": {
      "text/html": [
       "<div style=\"width:100%;\"><div style=\"position:relative;width:100%;height:0;padding-bottom:60%;\"><span style=\"color:#565656\">Make this Notebook Trusted to load map: File -> Trust Notebook</span><iframe srcdoc=\"&lt;!DOCTYPE html&gt;\n",
       "&lt;html&gt;\n",
       "&lt;head&gt;\n",
       "    \n",
       "    &lt;meta http-equiv=&quot;content-type&quot; content=&quot;text/html; charset=UTF-8&quot; /&gt;\n",
       "    \n",
       "        &lt;script&gt;\n",
       "            L_NO_TOUCH = false;\n",
       "            L_DISABLE_3D = false;\n",
       "        &lt;/script&gt;\n",
       "    \n",
       "    &lt;style&gt;html, body {width: 100%;height: 100%;margin: 0;padding: 0;}&lt;/style&gt;\n",
       "    &lt;style&gt;#map {position:absolute;top:0;bottom:0;right:0;left:0;}&lt;/style&gt;\n",
       "    &lt;script src=&quot;https://cdn.jsdelivr.net/npm/leaflet@1.9.3/dist/leaflet.js&quot;&gt;&lt;/script&gt;\n",
       "    &lt;script src=&quot;https://code.jquery.com/jquery-3.7.1.min.js&quot;&gt;&lt;/script&gt;\n",
       "    &lt;script src=&quot;https://cdn.jsdelivr.net/npm/bootstrap@5.2.2/dist/js/bootstrap.bundle.min.js&quot;&gt;&lt;/script&gt;\n",
       "    &lt;script src=&quot;https://cdnjs.cloudflare.com/ajax/libs/Leaflet.awesome-markers/2.0.2/leaflet.awesome-markers.js&quot;&gt;&lt;/script&gt;\n",
       "    &lt;link rel=&quot;stylesheet&quot; href=&quot;https://cdn.jsdelivr.net/npm/leaflet@1.9.3/dist/leaflet.css&quot;/&gt;\n",
       "    &lt;link rel=&quot;stylesheet&quot; href=&quot;https://cdn.jsdelivr.net/npm/bootstrap@5.2.2/dist/css/bootstrap.min.css&quot;/&gt;\n",
       "    &lt;link rel=&quot;stylesheet&quot; href=&quot;https://netdna.bootstrapcdn.com/bootstrap/3.0.0/css/bootstrap-glyphicons.css&quot;/&gt;\n",
       "    &lt;link rel=&quot;stylesheet&quot; href=&quot;https://cdn.jsdelivr.net/npm/@fortawesome/fontawesome-free@6.2.0/css/all.min.css&quot;/&gt;\n",
       "    &lt;link rel=&quot;stylesheet&quot; href=&quot;https://cdnjs.cloudflare.com/ajax/libs/Leaflet.awesome-markers/2.0.2/leaflet.awesome-markers.css&quot;/&gt;\n",
       "    &lt;link rel=&quot;stylesheet&quot; href=&quot;https://cdn.jsdelivr.net/gh/python-visualization/folium/folium/templates/leaflet.awesome.rotate.min.css&quot;/&gt;\n",
       "    \n",
       "            &lt;meta name=&quot;viewport&quot; content=&quot;width=device-width,\n",
       "                initial-scale=1.0, maximum-scale=1.0, user-scalable=no&quot; /&gt;\n",
       "            &lt;style&gt;\n",
       "                #map_86d87c84e0688152ca4303ecba553f23 {\n",
       "                    position: relative;\n",
       "                    width: 100.0%;\n",
       "                    height: 100.0%;\n",
       "                    left: 0.0%;\n",
       "                    top: 0.0%;\n",
       "                }\n",
       "                .leaflet-container { font-size: 1rem; }\n",
       "            &lt;/style&gt;\n",
       "        \n",
       "&lt;/head&gt;\n",
       "&lt;body&gt;\n",
       "    \n",
       "    \n",
       "            &lt;div class=&quot;folium-map&quot; id=&quot;map_86d87c84e0688152ca4303ecba553f23&quot; &gt;&lt;/div&gt;\n",
       "        \n",
       "&lt;/body&gt;\n",
       "&lt;script&gt;\n",
       "    \n",
       "    \n",
       "            var map_86d87c84e0688152ca4303ecba553f23 = L.map(\n",
       "                &quot;map_86d87c84e0688152ca4303ecba553f23&quot;,\n",
       "                {\n",
       "                    center: [40.73061, -73.935242],\n",
       "                    crs: L.CRS.EPSG3857,\n",
       "                    ...{\n",
       "  &quot;zoom&quot;: 12,\n",
       "  &quot;zoomControl&quot;: true,\n",
       "  &quot;preferCanvas&quot;: true,\n",
       "}\n",
       "\n",
       "                }\n",
       "            );\n",
       "            L.control.scale().addTo(map_86d87c84e0688152ca4303ecba553f23);\n",
       "\n",
       "            \n",
       "\n",
       "        \n",
       "    \n",
       "            var tile_layer_e3564ea2b4602972abd9c0d286b01e9e = L.tileLayer(\n",
       "                &quot;https://{s}.basemaps.cartocdn.com/light_all/{z}/{x}/{y}{r}.png&quot;,\n",
       "                {\n",
       "  &quot;minZoom&quot;: 0,\n",
       "  &quot;maxZoom&quot;: 20,\n",
       "  &quot;maxNativeZoom&quot;: 20,\n",
       "  &quot;noWrap&quot;: false,\n",
       "  &quot;attribution&quot;: &quot;\\u0026copy; \\u003ca href=\\&quot;https://www.openstreetmap.org/copyright\\&quot;\\u003eOpenStreetMap\\u003c/a\\u003e contributors \\u0026copy; \\u003ca href=\\&quot;https://carto.com/attributions\\&quot;\\u003eCARTO\\u003c/a\\u003e&quot;,\n",
       "  &quot;subdomains&quot;: &quot;abcd&quot;,\n",
       "  &quot;detectRetina&quot;: false,\n",
       "  &quot;tms&quot;: false,\n",
       "  &quot;opacity&quot;: 1,\n",
       "}\n",
       "\n",
       "            );\n",
       "        \n",
       "    \n",
       "            tile_layer_e3564ea2b4602972abd9c0d286b01e9e.addTo(map_86d87c84e0688152ca4303ecba553f23);\n",
       "        \n",
       "&lt;/script&gt;\n",
       "&lt;/html&gt;\" style=\"position:absolute;width:100%;height:100%;left:0;top:0;border:none !important;\" allowfullscreen webkitallowfullscreen mozallowfullscreen></iframe></div></div>"
      ],
      "text/plain": [
       "<folium.folium.Map at 0x1777c9cc0e0>"
      ]
     },
     "execution_count": 12,
     "metadata": {},
     "output_type": "execute_result"
    }
   ],
   "source": [
    "# Let's change the basemap style to 'Stamen Toner'\n",
    "m = folium.Map(\n",
    "    location=[40.730610, -73.935242],\n",
    "    tiles=\"CartoDB Positron\",\n",
    "    zoom_start=12,\n",
    "    control_scale=True,\n",
    "    prefer_canvas=True,\n",
    ")\n",
    "\n",
    "m"
   ]
  },
  {
   "cell_type": "markdown",
   "metadata": {},
   "source": [
    "Note that `folium` automatically adds attribution to the default map-tiles in the bottom-right corner of the map. We can also pass a custom tileset using an URL in the format `https://{s}.yourtiles.com/{z}/{x}/{y}.png`. When using an URL, we also need to add the map tile attribution separately."
   ]
  },
  {
   "cell_type": "code",
   "execution_count": 11,
   "metadata": {},
   "outputs": [
    {
     "data": {
      "text/html": [
       "<div style=\"width:100%;\"><div style=\"position:relative;width:100%;height:0;padding-bottom:60%;\"><span style=\"color:#565656\">Make this Notebook Trusted to load map: File -> Trust Notebook</span><iframe srcdoc=\"&lt;!DOCTYPE html&gt;\n",
       "&lt;html&gt;\n",
       "&lt;head&gt;\n",
       "    \n",
       "    &lt;meta http-equiv=&quot;content-type&quot; content=&quot;text/html; charset=UTF-8&quot; /&gt;\n",
       "    \n",
       "        &lt;script&gt;\n",
       "            L_NO_TOUCH = false;\n",
       "            L_DISABLE_3D = false;\n",
       "        &lt;/script&gt;\n",
       "    \n",
       "    &lt;style&gt;html, body {width: 100%;height: 100%;margin: 0;padding: 0;}&lt;/style&gt;\n",
       "    &lt;style&gt;#map {position:absolute;top:0;bottom:0;right:0;left:0;}&lt;/style&gt;\n",
       "    &lt;script src=&quot;https://cdn.jsdelivr.net/npm/leaflet@1.9.3/dist/leaflet.js&quot;&gt;&lt;/script&gt;\n",
       "    &lt;script src=&quot;https://code.jquery.com/jquery-3.7.1.min.js&quot;&gt;&lt;/script&gt;\n",
       "    &lt;script src=&quot;https://cdn.jsdelivr.net/npm/bootstrap@5.2.2/dist/js/bootstrap.bundle.min.js&quot;&gt;&lt;/script&gt;\n",
       "    &lt;script src=&quot;https://cdnjs.cloudflare.com/ajax/libs/Leaflet.awesome-markers/2.0.2/leaflet.awesome-markers.js&quot;&gt;&lt;/script&gt;\n",
       "    &lt;link rel=&quot;stylesheet&quot; href=&quot;https://cdn.jsdelivr.net/npm/leaflet@1.9.3/dist/leaflet.css&quot;/&gt;\n",
       "    &lt;link rel=&quot;stylesheet&quot; href=&quot;https://cdn.jsdelivr.net/npm/bootstrap@5.2.2/dist/css/bootstrap.min.css&quot;/&gt;\n",
       "    &lt;link rel=&quot;stylesheet&quot; href=&quot;https://netdna.bootstrapcdn.com/bootstrap/3.0.0/css/bootstrap-glyphicons.css&quot;/&gt;\n",
       "    &lt;link rel=&quot;stylesheet&quot; href=&quot;https://cdn.jsdelivr.net/npm/@fortawesome/fontawesome-free@6.2.0/css/all.min.css&quot;/&gt;\n",
       "    &lt;link rel=&quot;stylesheet&quot; href=&quot;https://cdnjs.cloudflare.com/ajax/libs/Leaflet.awesome-markers/2.0.2/leaflet.awesome-markers.css&quot;/&gt;\n",
       "    &lt;link rel=&quot;stylesheet&quot; href=&quot;https://cdn.jsdelivr.net/gh/python-visualization/folium/folium/templates/leaflet.awesome.rotate.min.css&quot;/&gt;\n",
       "    \n",
       "            &lt;meta name=&quot;viewport&quot; content=&quot;width=device-width,\n",
       "                initial-scale=1.0, maximum-scale=1.0, user-scalable=no&quot; /&gt;\n",
       "            &lt;style&gt;\n",
       "                #map_fa8f9fd69cb788b2527e470ae2bb6d58 {\n",
       "                    position: relative;\n",
       "                    width: 100.0%;\n",
       "                    height: 100.0%;\n",
       "                    left: 0.0%;\n",
       "                    top: 0.0%;\n",
       "                }\n",
       "                .leaflet-container { font-size: 1rem; }\n",
       "            &lt;/style&gt;\n",
       "        \n",
       "&lt;/head&gt;\n",
       "&lt;body&gt;\n",
       "    \n",
       "    \n",
       "            &lt;div class=&quot;folium-map&quot; id=&quot;map_fa8f9fd69cb788b2527e470ae2bb6d58&quot; &gt;&lt;/div&gt;\n",
       "        \n",
       "&lt;/body&gt;\n",
       "&lt;script&gt;\n",
       "    \n",
       "    \n",
       "            var map_fa8f9fd69cb788b2527e470ae2bb6d58 = L.map(\n",
       "                &quot;map_fa8f9fd69cb788b2527e470ae2bb6d58&quot;,\n",
       "                {\n",
       "                    center: [40.73061, -73.935242],\n",
       "                    crs: L.CRS.EPSG3857,\n",
       "                    ...{\n",
       "  &quot;zoom&quot;: 12,\n",
       "  &quot;zoomControl&quot;: true,\n",
       "  &quot;preferCanvas&quot;: true,\n",
       "}\n",
       "\n",
       "                }\n",
       "            );\n",
       "            L.control.scale().addTo(map_fa8f9fd69cb788b2527e470ae2bb6d58);\n",
       "\n",
       "            \n",
       "\n",
       "        \n",
       "    \n",
       "            var tile_layer_cbdef0f26648f30482492f9646334a02 = L.tileLayer(\n",
       "                &quot;https://{s}.tile-cyclosm.openstreetmap.fr/cyclosm/{z}/{x}/{y}.png&quot;,\n",
       "                {\n",
       "  &quot;minZoom&quot;: 0,\n",
       "  &quot;maxZoom&quot;: 18,\n",
       "  &quot;maxNativeZoom&quot;: 18,\n",
       "  &quot;noWrap&quot;: false,\n",
       "  &quot;attribution&quot;: &quot;\\u003ca href=\\&quot;https://github.com/cyclosm/cyclosm-cartocss-style/releases\\&quot; title=\\&quot;CyclOSM - Open Bicycle render\\&quot;\\u003eCyclOSM\\u003c/a\\u003e | Map data: \\u0026copy; \\u003ca href=\\&quot;https://www.openstreetmap.org/copyright\\&quot;\\u003eOpenStreetMap\\u003c/a\\u003e contributors&quot;,\n",
       "  &quot;subdomains&quot;: &quot;abc&quot;,\n",
       "  &quot;detectRetina&quot;: false,\n",
       "  &quot;tms&quot;: false,\n",
       "  &quot;opacity&quot;: 1,\n",
       "}\n",
       "\n",
       "            );\n",
       "        \n",
       "    \n",
       "            tile_layer_cbdef0f26648f30482492f9646334a02.addTo(map_fa8f9fd69cb788b2527e470ae2bb6d58);\n",
       "        \n",
       "&lt;/script&gt;\n",
       "&lt;/html&gt;\" style=\"position:absolute;width:100%;height:100%;left:0;top:0;border:none !important;\" allowfullscreen webkitallowfullscreen mozallowfullscreen></iframe></div></div>"
      ],
      "text/plain": [
       "<folium.folium.Map at 0x1777b441c70>"
      ]
     },
     "execution_count": 11,
     "metadata": {},
     "output_type": "execute_result"
    }
   ],
   "source": [
    "# Let's change the basemap style to 'Stamen Toner'\n",
    "m = folium.Map(\n",
    "    location=[40.730610, -73.935242],\n",
    "    tiles='https://{s}.tile-cyclosm.openstreetmap.fr/cyclosm/{z}/{x}/{y}.png',\n",
    "    attr='<a href=\"https://github.com/cyclosm/cyclosm-cartocss-style/releases\" title=\"CyclOSM - Open Bicycle render\">CyclOSM</a> | Map data: &copy; <a href=\"https://www.openstreetmap.org/copyright\">OpenStreetMap</a> contributors',\n",
    "    zoom_start=12,\n",
    "    control_scale=True,\n",
    "    prefer_canvas=True,\n",
    ")\n",
    "\n",
    "m"
   ]
  },
  {
   "cell_type": "markdown",
   "metadata": {
    "deletable": true,
    "editable": true
   },
   "source": [
    "### Adding layers to the map\n",
    "\n",
    "So far, we have only displayed online webmaps on the interactive map. Let's start integrating further objects on the map and plot some of our own data on top of the basemap. \n",
    "Let's first add a simple [marker](https://python-visualization.github.io/folium/modules.html?highlight=marker#folium.map.Marker) on the webmap and add some attribute information about this location:"
   ]
  },
  {
   "cell_type": "code",
   "execution_count": 16,
   "metadata": {
    "collapsed": false,
    "jupyter": {
     "outputs_hidden": false
    }
   },
   "outputs": [
    {
     "data": {
      "text/html": [
       "<div style=\"width:100%;\"><div style=\"position:relative;width:100%;height:0;padding-bottom:60%;\"><span style=\"color:#565656\">Make this Notebook Trusted to load map: File -> Trust Notebook</span><iframe srcdoc=\"&lt;!DOCTYPE html&gt;\n",
       "&lt;html&gt;\n",
       "&lt;head&gt;\n",
       "    \n",
       "    &lt;meta http-equiv=&quot;content-type&quot; content=&quot;text/html; charset=UTF-8&quot; /&gt;\n",
       "    \n",
       "        &lt;script&gt;\n",
       "            L_NO_TOUCH = false;\n",
       "            L_DISABLE_3D = false;\n",
       "        &lt;/script&gt;\n",
       "    \n",
       "    &lt;style&gt;html, body {width: 100%;height: 100%;margin: 0;padding: 0;}&lt;/style&gt;\n",
       "    &lt;style&gt;#map {position:absolute;top:0;bottom:0;right:0;left:0;}&lt;/style&gt;\n",
       "    &lt;script src=&quot;https://cdn.jsdelivr.net/npm/leaflet@1.9.3/dist/leaflet.js&quot;&gt;&lt;/script&gt;\n",
       "    &lt;script src=&quot;https://code.jquery.com/jquery-3.7.1.min.js&quot;&gt;&lt;/script&gt;\n",
       "    &lt;script src=&quot;https://cdn.jsdelivr.net/npm/bootstrap@5.2.2/dist/js/bootstrap.bundle.min.js&quot;&gt;&lt;/script&gt;\n",
       "    &lt;script src=&quot;https://cdnjs.cloudflare.com/ajax/libs/Leaflet.awesome-markers/2.0.2/leaflet.awesome-markers.js&quot;&gt;&lt;/script&gt;\n",
       "    &lt;link rel=&quot;stylesheet&quot; href=&quot;https://cdn.jsdelivr.net/npm/leaflet@1.9.3/dist/leaflet.css&quot;/&gt;\n",
       "    &lt;link rel=&quot;stylesheet&quot; href=&quot;https://cdn.jsdelivr.net/npm/bootstrap@5.2.2/dist/css/bootstrap.min.css&quot;/&gt;\n",
       "    &lt;link rel=&quot;stylesheet&quot; href=&quot;https://netdna.bootstrapcdn.com/bootstrap/3.0.0/css/bootstrap-glyphicons.css&quot;/&gt;\n",
       "    &lt;link rel=&quot;stylesheet&quot; href=&quot;https://cdn.jsdelivr.net/npm/@fortawesome/fontawesome-free@6.2.0/css/all.min.css&quot;/&gt;\n",
       "    &lt;link rel=&quot;stylesheet&quot; href=&quot;https://cdnjs.cloudflare.com/ajax/libs/Leaflet.awesome-markers/2.0.2/leaflet.awesome-markers.css&quot;/&gt;\n",
       "    &lt;link rel=&quot;stylesheet&quot; href=&quot;https://cdn.jsdelivr.net/gh/python-visualization/folium/folium/templates/leaflet.awesome.rotate.min.css&quot;/&gt;\n",
       "    \n",
       "            &lt;meta name=&quot;viewport&quot; content=&quot;width=device-width,\n",
       "                initial-scale=1.0, maximum-scale=1.0, user-scalable=no&quot; /&gt;\n",
       "            &lt;style&gt;\n",
       "                #map_b68348a52f30f706f13a33d696e9a718 {\n",
       "                    position: relative;\n",
       "                    width: 100.0%;\n",
       "                    height: 100.0%;\n",
       "                    left: 0.0%;\n",
       "                    top: 0.0%;\n",
       "                }\n",
       "                .leaflet-container { font-size: 1rem; }\n",
       "            &lt;/style&gt;\n",
       "        \n",
       "&lt;/head&gt;\n",
       "&lt;body&gt;\n",
       "    \n",
       "    \n",
       "            &lt;div class=&quot;folium-map&quot; id=&quot;map_b68348a52f30f706f13a33d696e9a718&quot; &gt;&lt;/div&gt;\n",
       "        \n",
       "&lt;/body&gt;\n",
       "&lt;script&gt;\n",
       "    \n",
       "    \n",
       "            var map_b68348a52f30f706f13a33d696e9a718 = L.map(\n",
       "                &quot;map_b68348a52f30f706f13a33d696e9a718&quot;,\n",
       "                {\n",
       "                    center: [60.2, 24.96],\n",
       "                    crs: L.CRS.EPSG3857,\n",
       "                    ...{\n",
       "  &quot;zoom&quot;: 12,\n",
       "  &quot;zoomControl&quot;: true,\n",
       "  &quot;preferCanvas&quot;: false,\n",
       "}\n",
       "\n",
       "                }\n",
       "            );\n",
       "            L.control.scale().addTo(map_b68348a52f30f706f13a33d696e9a718);\n",
       "\n",
       "            \n",
       "\n",
       "        \n",
       "    \n",
       "            var tile_layer_f160deaafbbec06a6a083a7da3c6e0b6 = L.tileLayer(\n",
       "                &quot;https://tile.openstreetmap.org/{z}/{x}/{y}.png&quot;,\n",
       "                {\n",
       "  &quot;minZoom&quot;: 0,\n",
       "  &quot;maxZoom&quot;: 19,\n",
       "  &quot;maxNativeZoom&quot;: 19,\n",
       "  &quot;noWrap&quot;: false,\n",
       "  &quot;attribution&quot;: &quot;\\u0026copy; \\u003ca href=\\&quot;https://www.openstreetmap.org/copyright\\&quot;\\u003eOpenStreetMap\\u003c/a\\u003e contributors&quot;,\n",
       "  &quot;subdomains&quot;: &quot;abc&quot;,\n",
       "  &quot;detectRetina&quot;: false,\n",
       "  &quot;tms&quot;: false,\n",
       "  &quot;opacity&quot;: 1,\n",
       "}\n",
       "\n",
       "            );\n",
       "        \n",
       "    \n",
       "            tile_layer_f160deaafbbec06a6a083a7da3c6e0b6.addTo(map_b68348a52f30f706f13a33d696e9a718);\n",
       "        \n",
       "    \n",
       "            var marker_027f1c649dc53fb288b1bb0f86158003 = L.marker(\n",
       "                [60.20426, 24.96179],\n",
       "                {\n",
       "}\n",
       "            ).addTo(map_b68348a52f30f706f13a33d696e9a718);\n",
       "        \n",
       "    \n",
       "            var icon_9a1fab9cb9ee1fc9001d3956eb855a4b = L.AwesomeMarkers.icon(\n",
       "                {\n",
       "  &quot;markerColor&quot;: &quot;green&quot;,\n",
       "  &quot;iconColor&quot;: &quot;white&quot;,\n",
       "  &quot;icon&quot;: &quot;ok-sign&quot;,\n",
       "  &quot;prefix&quot;: &quot;glyphicon&quot;,\n",
       "  &quot;extraClasses&quot;: &quot;fa-rotate-0&quot;,\n",
       "}\n",
       "            );\n",
       "        \n",
       "    \n",
       "        var popup_7864fa4ac6c21255c48b9e7e06fdfdd4 = L.popup({\n",
       "  &quot;maxWidth&quot;: &quot;100%&quot;,\n",
       "});\n",
       "\n",
       "        \n",
       "            \n",
       "                var html_4caa1644c9b57f9510619cb49d2591dc = $(`&lt;div id=&quot;html_4caa1644c9b57f9510619cb49d2591dc&quot; style=&quot;width: 100.0%; height: 100.0%;&quot;&gt;Kumpula Campus&lt;/div&gt;`)[0];\n",
       "                popup_7864fa4ac6c21255c48b9e7e06fdfdd4.setContent(html_4caa1644c9b57f9510619cb49d2591dc);\n",
       "            \n",
       "        \n",
       "\n",
       "        marker_027f1c649dc53fb288b1bb0f86158003.bindPopup(popup_7864fa4ac6c21255c48b9e7e06fdfdd4)\n",
       "        ;\n",
       "\n",
       "        \n",
       "    \n",
       "    \n",
       "                marker_027f1c649dc53fb288b1bb0f86158003.setIcon(icon_9a1fab9cb9ee1fc9001d3956eb855a4b);\n",
       "            \n",
       "&lt;/script&gt;\n",
       "&lt;/html&gt;\" style=\"position:absolute;width:100%;height:100%;left:0;top:0;border:none !important;\" allowfullscreen webkitallowfullscreen mozallowfullscreen></iframe></div></div>"
      ],
      "text/plain": [
       "<folium.folium.Map at 0x1777c93eae0>"
      ]
     },
     "execution_count": 16,
     "metadata": {},
     "output_type": "execute_result"
    }
   ],
   "source": [
    "# Create a Map instance\n",
    "m = folium.Map(location=[60.20, 24.96], zoom_start=12, control_scale=True)\n",
    "\n",
    "# Add marker\n",
    "# Run: help(folium.Icon) for more info about icons\n",
    "folium.Marker(\n",
    "    location=[60.20426, 24.96179],\n",
    "    popup=\"Kumpula Campus\",\n",
    "    icon=folium.Icon(color=\"green\", icon=\"ok-sign\"),\n",
    ").add_to(m)\n",
    "\n",
    "# Show map\n",
    "m"
   ]
  },
  {
   "cell_type": "markdown",
   "metadata": {},
   "source": [
    "Folium supports adding geographic objects on the map in GeoJSON format. GeoJSON (Geographic JavaScript Object Notation) is a format for encoding geographic data structures using JSON (JavaScript Object Notation).\n",
    "\n",
    "So, in order to add our address points on the map, we need to first convert the data from to GeoJSON objects."
   ]
  },
  {
   "cell_type": "code",
   "execution_count": 20,
   "metadata": {
    "collapsed": false,
    "deletable": true,
    "editable": true,
    "jupyter": {
     "outputs_hidden": false
    }
   },
   "outputs": [],
   "source": [
    "# Convert points to GeoJSON\n",
    "points_gjson = folium.features.GeoJson(points, name=\"Public transport stations\")"
   ]
  },
  {
   "cell_type": "code",
   "execution_count": 23,
   "metadata": {},
   "outputs": [],
   "source": [
    "# Check the GeoJSON features\n",
    "#points_gjson.data.get('features')"
   ]
  },
  {
   "cell_type": "code",
   "execution_count": 24,
   "metadata": {
    "deletable": true,
    "editable": true
   },
   "outputs": [
    {
     "data": {
      "text/plain": [
       "folium.features.GeoJson"
      ]
     },
     "execution_count": 24,
     "metadata": {},
     "output_type": "execute_result"
    }
   ],
   "source": [
    "type(points_gjson)"
   ]
  },
  {
   "cell_type": "markdown",
   "metadata": {
    "deletable": true,
    "editable": true
   },
   "source": [
    "Now that we have the data in a compatible format, we can add them on the map using `folium`:"
   ]
  },
  {
   "cell_type": "code",
   "execution_count": 25,
   "metadata": {
    "collapsed": false,
    "deletable": true,
    "editable": true,
    "jupyter": {
     "outputs_hidden": false
    }
   },
   "outputs": [
    {
     "data": {
      "text/html": [
       "<div style=\"width:100%;\"><div style=\"position:relative;width:100%;height:0;padding-bottom:60%;\"><span style=\"color:#565656\">Make this Notebook Trusted to load map: File -> Trust Notebook</span><iframe srcdoc=\"&lt;!DOCTYPE html&gt;\n",
       "&lt;html&gt;\n",
       "&lt;head&gt;\n",
       "    \n",
       "    &lt;meta http-equiv=&quot;content-type&quot; content=&quot;text/html; charset=UTF-8&quot; /&gt;\n",
       "    \n",
       "        &lt;script&gt;\n",
       "            L_NO_TOUCH = false;\n",
       "            L_DISABLE_3D = false;\n",
       "        &lt;/script&gt;\n",
       "    \n",
       "    &lt;style&gt;html, body {width: 100%;height: 100%;margin: 0;padding: 0;}&lt;/style&gt;\n",
       "    &lt;style&gt;#map {position:absolute;top:0;bottom:0;right:0;left:0;}&lt;/style&gt;\n",
       "    &lt;script src=&quot;https://cdn.jsdelivr.net/npm/leaflet@1.9.3/dist/leaflet.js&quot;&gt;&lt;/script&gt;\n",
       "    &lt;script src=&quot;https://code.jquery.com/jquery-3.7.1.min.js&quot;&gt;&lt;/script&gt;\n",
       "    &lt;script src=&quot;https://cdn.jsdelivr.net/npm/bootstrap@5.2.2/dist/js/bootstrap.bundle.min.js&quot;&gt;&lt;/script&gt;\n",
       "    &lt;script src=&quot;https://cdnjs.cloudflare.com/ajax/libs/Leaflet.awesome-markers/2.0.2/leaflet.awesome-markers.js&quot;&gt;&lt;/script&gt;\n",
       "    &lt;link rel=&quot;stylesheet&quot; href=&quot;https://cdn.jsdelivr.net/npm/leaflet@1.9.3/dist/leaflet.css&quot;/&gt;\n",
       "    &lt;link rel=&quot;stylesheet&quot; href=&quot;https://cdn.jsdelivr.net/npm/bootstrap@5.2.2/dist/css/bootstrap.min.css&quot;/&gt;\n",
       "    &lt;link rel=&quot;stylesheet&quot; href=&quot;https://netdna.bootstrapcdn.com/bootstrap/3.0.0/css/bootstrap-glyphicons.css&quot;/&gt;\n",
       "    &lt;link rel=&quot;stylesheet&quot; href=&quot;https://cdn.jsdelivr.net/npm/@fortawesome/fontawesome-free@6.2.0/css/all.min.css&quot;/&gt;\n",
       "    &lt;link rel=&quot;stylesheet&quot; href=&quot;https://cdnjs.cloudflare.com/ajax/libs/Leaflet.awesome-markers/2.0.2/leaflet.awesome-markers.css&quot;/&gt;\n",
       "    &lt;link rel=&quot;stylesheet&quot; href=&quot;https://cdn.jsdelivr.net/gh/python-visualization/folium/folium/templates/leaflet.awesome.rotate.min.css&quot;/&gt;\n",
       "    \n",
       "            &lt;meta name=&quot;viewport&quot; content=&quot;width=device-width,\n",
       "                initial-scale=1.0, maximum-scale=1.0, user-scalable=no&quot; /&gt;\n",
       "            &lt;style&gt;\n",
       "                #map_1a3b25c711229932d55c5a033e11662e {\n",
       "                    position: relative;\n",
       "                    width: 100.0%;\n",
       "                    height: 100.0%;\n",
       "                    left: 0.0%;\n",
       "                    top: 0.0%;\n",
       "                }\n",
       "                .leaflet-container { font-size: 1rem; }\n",
       "            &lt;/style&gt;\n",
       "        \n",
       "&lt;/head&gt;\n",
       "&lt;body&gt;\n",
       "    \n",
       "    \n",
       "            &lt;div class=&quot;folium-map&quot; id=&quot;map_1a3b25c711229932d55c5a033e11662e&quot; &gt;&lt;/div&gt;\n",
       "        \n",
       "&lt;/body&gt;\n",
       "&lt;script&gt;\n",
       "    \n",
       "    \n",
       "            var map_1a3b25c711229932d55c5a033e11662e = L.map(\n",
       "                &quot;map_1a3b25c711229932d55c5a033e11662e&quot;,\n",
       "                {\n",
       "                    center: [60.25, 24.8],\n",
       "                    crs: L.CRS.EPSG3857,\n",
       "                    ...{\n",
       "  &quot;zoom&quot;: 11,\n",
       "  &quot;zoomControl&quot;: true,\n",
       "  &quot;preferCanvas&quot;: false,\n",
       "}\n",
       "\n",
       "                }\n",
       "            );\n",
       "            L.control.scale().addTo(map_1a3b25c711229932d55c5a033e11662e);\n",
       "\n",
       "            \n",
       "\n",
       "        \n",
       "    \n",
       "            var tile_layer_f22c3582d6e74532300196c957a227d2 = L.tileLayer(\n",
       "                &quot;https://{s}.basemaps.cartocdn.com/light_all/{z}/{x}/{y}{r}.png&quot;,\n",
       "                {\n",
       "  &quot;minZoom&quot;: 0,\n",
       "  &quot;maxZoom&quot;: 20,\n",
       "  &quot;maxNativeZoom&quot;: 20,\n",
       "  &quot;noWrap&quot;: false,\n",
       "  &quot;attribution&quot;: &quot;\\u0026copy; \\u003ca href=\\&quot;https://www.openstreetmap.org/copyright\\&quot;\\u003eOpenStreetMap\\u003c/a\\u003e contributors \\u0026copy; \\u003ca href=\\&quot;https://carto.com/attributions\\&quot;\\u003eCARTO\\u003c/a\\u003e&quot;,\n",
       "  &quot;subdomains&quot;: &quot;abcd&quot;,\n",
       "  &quot;detectRetina&quot;: false,\n",
       "  &quot;tms&quot;: false,\n",
       "  &quot;opacity&quot;: 1,\n",
       "}\n",
       "\n",
       "            );\n",
       "        \n",
       "    \n",
       "            tile_layer_f22c3582d6e74532300196c957a227d2.addTo(map_1a3b25c711229932d55c5a033e11662e);\n",
       "        \n",
       "    \n",
       "\n",
       "        function geo_json_d28b66eb37dd2d0cc253be5e3e7dc8b5_onEachFeature(feature, layer) {\n",
       "            layer.on({\n",
       "            });\n",
       "        };\n",
       "        var geo_json_d28b66eb37dd2d0cc253be5e3e7dc8b5 = L.geoJson(null, {\n",
       "                onEachFeature: geo_json_d28b66eb37dd2d0cc253be5e3e7dc8b5_onEachFeature,\n",
       "            \n",
       "            ...{\n",
       "}\n",
       "        });\n",
       "\n",
       "        function geo_json_d28b66eb37dd2d0cc253be5e3e7dc8b5_add (data) {\n",
       "            geo_json_d28b66eb37dd2d0cc253be5e3e7dc8b5\n",
       "                .addData(data);\n",
       "        }\n",
       "            geo_json_d28b66eb37dd2d0cc253be5e3e7dc8b5_add({&quot;bbox&quot;: [24.8609335, 60.1565781, 25.1424936, 60.2753891], &quot;features&quot;: [{&quot;bbox&quot;: [24.9301701, 60.1683731, 24.9301701, 60.1683731], &quot;geometry&quot;: {&quot;coordinates&quot;: [24.9301701, 60.1683731], &quot;type&quot;: &quot;Point&quot;}, &quot;id&quot;: &quot;0&quot;, &quot;properties&quot;: {&quot;address&quot;: &quot;Kampinkuja 1, 00100 Helsinki, Finland&quot;, &quot;id&quot;: 1001}, &quot;type&quot;: &quot;Feature&quot;}, {&quot;bbox&quot;: [24.9418933, 60.1698665, 24.9418933, 60.1698665], &quot;geometry&quot;: {&quot;coordinates&quot;: [24.9418933, 60.1698665], &quot;type&quot;: &quot;Point&quot;}, &quot;id&quot;: &quot;1&quot;, &quot;properties&quot;: {&quot;address&quot;: &quot;Kaivokatu 8, 00101 Helsinki, Finland&quot;, &quot;id&quot;: 1002}, &quot;type&quot;: &quot;Feature&quot;}, {&quot;bbox&quot;: [24.9774004, 60.18735880000001, 24.9774004, 60.18735880000001], &quot;geometry&quot;: {&quot;coordinates&quot;: [24.9774004, 60.18735880000001], &quot;type&quot;: &quot;Point&quot;}, &quot;id&quot;: &quot;2&quot;, &quot;properties&quot;: {&quot;address&quot;: &quot;Hermanstads strandsv\\u00e4g 1, 00580 Helsingfors, Finland&quot;, &quot;id&quot;: 1003}, &quot;type&quot;: &quot;Feature&quot;}, {&quot;bbox&quot;: [25.0919641, 60.21448089999999, 25.0919641, 60.21448089999999], &quot;geometry&quot;: {&quot;coordinates&quot;: [25.0919641, 60.21448089999999], &quot;type&quot;: &quot;Point&quot;}, &quot;id&quot;: &quot;3&quot;, &quot;properties&quot;: {&quot;address&quot;: &quot;It\\u00e4v\\u00e4yl\\u00e4, 00900 Helsinki, Finland&quot;, &quot;id&quot;: 1004}, &quot;type&quot;: &quot;Feature&quot;}, {&quot;bbox&quot;: [24.9214846, 60.1565781, 24.9214846, 60.1565781], &quot;geometry&quot;: {&quot;coordinates&quot;: [24.9214846, 60.1565781], &quot;type&quot;: &quot;Point&quot;}, &quot;id&quot;: &quot;4&quot;, &quot;properties&quot;: {&quot;address&quot;: &quot;Tyynenmerenkatu 9, 00220 Helsinki, Finland&quot;, &quot;id&quot;: 1005}, &quot;type&quot;: &quot;Feature&quot;}, {&quot;bbox&quot;: [25.0816923, 60.23489060000001, 25.0816923, 60.23489060000001], &quot;geometry&quot;: {&quot;coordinates&quot;: [25.0816923, 60.23489060000001], &quot;type&quot;: &quot;Point&quot;}, &quot;id&quot;: &quot;5&quot;, &quot;properties&quot;: {&quot;address&quot;: &quot;Kontulantie 18, 00940 Helsinki, Finland&quot;, &quot;id&quot;: 1006}, &quot;type&quot;: &quot;Feature&quot;}, {&quot;bbox&quot;: [25.042239, 60.2033879, 25.042239, 60.2033879], &quot;geometry&quot;: {&quot;coordinates&quot;: [25.042239, 60.2033879], &quot;type&quot;: &quot;Point&quot;}, &quot;id&quot;: &quot;6&quot;, &quot;properties&quot;: {&quot;address&quot;: &quot;It\\u00e4v\\u00e4yl\\u00e4, 00800 Helsinki, Finland&quot;, &quot;id&quot;: 1007}, &quot;type&quot;: &quot;Feature&quot;}, {&quot;bbox&quot;: [25.035855, 60.2753891, 25.035855, 60.2753891], &quot;geometry&quot;: {&quot;coordinates&quot;: [25.035855, 60.2753891], &quot;type&quot;: &quot;Point&quot;}, &quot;id&quot;: &quot;7&quot;, &quot;properties&quot;: {&quot;address&quot;: &quot;Tapulikaupungintie 3, 00750 Helsinki, Finland&quot;, &quot;id&quot;: 1008}, &quot;type&quot;: &quot;Feature&quot;}, {&quot;bbox&quot;: [25.0291078, 60.2633799, 25.0291078, 60.2633799], &quot;geometry&quot;: {&quot;coordinates&quot;: [25.0291078, 60.2633799], &quot;type&quot;: &quot;Point&quot;}, &quot;id&quot;: &quot;8&quot;, &quot;properties&quot;: {&quot;address&quot;: &quot;Sompionpolku 2, 00730 Helsinki, Finland&quot;, &quot;id&quot;: 1009}, &quot;type&quot;: &quot;Feature&quot;}, {&quot;bbox&quot;: [24.8718598, 60.22243630000001, 24.8718598, 60.22243630000001], &quot;geometry&quot;: {&quot;coordinates&quot;: [24.8718598, 60.22243630000001], &quot;type&quot;: &quot;Point&quot;}, &quot;id&quot;: &quot;9&quot;, &quot;properties&quot;: {&quot;address&quot;: &quot;Atomitie 5, 00370 Helsinki, Finland&quot;, &quot;id&quot;: 1010}, &quot;type&quot;: &quot;Feature&quot;}, {&quot;bbox&quot;: [24.94251, 60.1711874, 24.94251, 60.1711874], &quot;geometry&quot;: {&quot;coordinates&quot;: [24.94251, 60.1711874], &quot;type&quot;: &quot;Point&quot;}, &quot;id&quot;: &quot;10&quot;, &quot;properties&quot;: {&quot;address&quot;: &quot;Rautatientori 1, 00100 Helsinki, Finland&quot;, &quot;id&quot;: 1011}, &quot;type&quot;: &quot;Feature&quot;}, {&quot;bbox&quot;: [24.8840504, 60.2306474, 24.8840504, 60.2306474], &quot;geometry&quot;: {&quot;coordinates&quot;: [24.8840504, 60.2306474], &quot;type&quot;: &quot;Point&quot;}, &quot;id&quot;: &quot;11&quot;, &quot;properties&quot;: {&quot;address&quot;: &quot;Kuparitie 8, 00440 Helsinki, Finland&quot;, &quot;id&quot;: 1012}, &quot;type&quot;: &quot;Feature&quot;}, {&quot;bbox&quot;: [24.877383, 60.240163, 24.877383, 60.240163], &quot;geometry&quot;: {&quot;coordinates&quot;: [24.877383, 60.240163], &quot;type&quot;: &quot;Point&quot;}, &quot;id&quot;: &quot;12&quot;, &quot;properties&quot;: {&quot;address&quot;: &quot;Trumstigen 8, 00420 Helsingfors, Finland&quot;, &quot;id&quot;: 1013}, &quot;type&quot;: &quot;Feature&quot;}, {&quot;bbox&quot;: [24.9483202, 60.22163339999999, 24.9483202, 60.22163339999999], &quot;geometry&quot;: {&quot;coordinates&quot;: [24.9483202, 60.22163339999999], &quot;type&quot;: &quot;Point&quot;}, &quot;id&quot;: &quot;13&quot;, &quot;properties&quot;: {&quot;address&quot;: &quot;Kullatorpsv\\u00e4gen 1, 00620 Helsingfors, Finland&quot;, &quot;id&quot;: 1014}, &quot;type&quot;: &quot;Feature&quot;}, {&quot;bbox&quot;: [25.0125655, 60.25149829999999, 25.0125655, 60.25149829999999], &quot;geometry&quot;: {&quot;coordinates&quot;: [25.0125655, 60.25149829999999], &quot;type&quot;: &quot;Point&quot;}, &quot;id&quot;: &quot;14&quot;, &quot;properties&quot;: {&quot;address&quot;: &quot;Malminkaari 15, 00700 Helsinki, Finland&quot;, &quot;id&quot;: 1015}, &quot;type&quot;: &quot;Feature&quot;}, {&quot;bbox&quot;: [24.893153, 60.2177823, 24.893153, 60.2177823], &quot;geometry&quot;: {&quot;coordinates&quot;: [24.893153, 60.2177823], &quot;type&quot;: &quot;Point&quot;}, &quot;id&quot;: &quot;15&quot;, &quot;properties&quot;: {&quot;address&quot;: &quot;Kyl\\u00e4tie 23, 00320 Helsinki, Finland&quot;, &quot;id&quot;: 1016}, &quot;type&quot;: &quot;Feature&quot;}, {&quot;bbox&quot;: [24.86186, 60.2485471, 24.86186, 60.2485471], &quot;geometry&quot;: {&quot;coordinates&quot;: [24.86186, 60.2485471], &quot;type&quot;: &quot;Point&quot;}, &quot;id&quot;: &quot;16&quot;, &quot;properties&quot;: {&quot;address&quot;: &quot;Malminkartanontie 17, 00410 Helsinki, Finland&quot;, &quot;id&quot;: 1017}, &quot;type&quot;: &quot;Feature&quot;}, {&quot;bbox&quot;: [24.9670533, 60.2291135, 24.9670533, 60.2291135], &quot;geometry&quot;: {&quot;coordinates&quot;: [24.9670533, 60.2291135], &quot;type&quot;: &quot;Point&quot;}, &quot;id&quot;: &quot;17&quot;, &quot;properties&quot;: {&quot;address&quot;: &quot;\\u00c5ggelby torg 2b, 00640 Helsingfors, Finland&quot;, &quot;id&quot;: 1018}, &quot;type&quot;: &quot;Feature&quot;}, {&quot;bbox&quot;: [24.9334051, 60.1986856, 24.9334051, 60.1986856], &quot;geometry&quot;: {&quot;coordinates&quot;: [24.9334051, 60.1986856], &quot;type&quot;: &quot;Point&quot;}, &quot;id&quot;: &quot;18&quot;, &quot;properties&quot;: {&quot;address&quot;: &quot;Bang\\u00e5rdsv\\u00e4gen 6, 00101 Helsingfors, Finland&quot;, &quot;id&quot;: 1019}, &quot;type&quot;: &quot;Feature&quot;}, {&quot;bbox&quot;: [24.8609335, 60.22401389999999, 24.8609335, 60.22401389999999], &quot;geometry&quot;: {&quot;coordinates&quot;: [24.8609335, 60.22401389999999], &quot;type&quot;: &quot;Point&quot;}, &quot;id&quot;: &quot;19&quot;, &quot;properties&quot;: {&quot;address&quot;: &quot;Pit\\u00e4j\\u00e4nm\\u00e4entie 15, 00370 Helsinki, Finland&quot;, &quot;id&quot;: 1020}, &quot;type&quot;: &quot;Feature&quot;}, {&quot;bbox&quot;: [24.9934979, 60.2436961, 24.9934979, 60.2436961], &quot;geometry&quot;: {&quot;coordinates&quot;: [24.9934979, 60.2436961], &quot;type&quot;: &quot;Point&quot;}, &quot;id&quot;: &quot;20&quot;, &quot;properties&quot;: {&quot;address&quot;: &quot;Eskolantie 2, 00720 Helsinki, Finland&quot;, &quot;id&quot;: 1021}, &quot;type&quot;: &quot;Feature&quot;}, {&quot;bbox&quot;: [25.040583, 60.24444239999999, 25.040583, 60.24444239999999], &quot;geometry&quot;: {&quot;coordinates&quot;: [25.040583, 60.24444239999999], &quot;type&quot;: &quot;Point&quot;}, &quot;id&quot;: &quot;21&quot;, &quot;properties&quot;: {&quot;address&quot;: &quot;Tattariharjuntie, 00700 Helsinki, Finland&quot;, &quot;id&quot;: 1022}, &quot;type&quot;: &quot;Feature&quot;}, {&quot;bbox&quot;: [25.0778094, 60.20966609999999, 25.0778094, 60.20966609999999], &quot;geometry&quot;: {&quot;coordinates&quot;: [25.0778094, 60.20966609999999], &quot;type&quot;: &quot;Point&quot;}, &quot;id&quot;: &quot;22&quot;, &quot;properties&quot;: {&quot;address&quot;: &quot;Tallinnanaukio 1, 00930 Helsinki, Finland&quot;, &quot;id&quot;: 1023}, &quot;type&quot;: &quot;Feature&quot;}, {&quot;bbox&quot;: [25.1424936, 60.20751019999999, 25.1424936, 60.20751019999999], &quot;geometry&quot;: {&quot;coordinates&quot;: [25.1424936, 60.20751019999999], &quot;type&quot;: &quot;Point&quot;}, &quot;id&quot;: &quot;23&quot;, &quot;properties&quot;: {&quot;address&quot;: &quot;Tyynylaavantie 7, 00980 Helsinki, Finland&quot;, &quot;id&quot;: 1024}, &quot;type&quot;: &quot;Feature&quot;}, {&quot;bbox&quot;: [25.0756547, 60.225599, 25.0756547, 60.225599], &quot;geometry&quot;: {&quot;coordinates&quot;: [25.0756547, 60.225599], &quot;type&quot;: &quot;Point&quot;}, &quot;id&quot;: &quot;24&quot;, &quot;properties&quot;: {&quot;address&quot;: &quot;Varvasm\\u00e4enkuja, 00920 Helsinki, Finland&quot;, &quot;id&quot;: 1025}, &quot;type&quot;: &quot;Feature&quot;}, {&quot;bbox&quot;: [25.1080054, 60.2382054, 25.1080054, 60.2382054], &quot;geometry&quot;: {&quot;coordinates&quot;: [25.1080054, 60.2382054], &quot;type&quot;: &quot;Point&quot;}, &quot;id&quot;: &quot;25&quot;, &quot;properties&quot;: {&quot;address&quot;: &quot;Mellungsbackastr\\u00e5ket 6, 00970 Helsingfors, Finland&quot;, &quot;id&quot;: 1026}, &quot;type&quot;: &quot;Feature&quot;}, {&quot;bbox&quot;: [24.9609122, 60.18789030000001, 24.9609122, 60.18789030000001], &quot;geometry&quot;: {&quot;coordinates&quot;: [24.9609122, 60.18789030000001], &quot;type&quot;: &quot;Point&quot;}, &quot;id&quot;: &quot;26&quot;, &quot;properties&quot;: {&quot;address&quot;: &quot;Vasastigen 2, 00101 Helsingfors, Finland&quot;, &quot;id&quot;: 1027}, &quot;type&quot;: &quot;Feature&quot;}, {&quot;bbox&quot;: [25.0291263, 60.19413939999999, 25.0291263, 60.19413939999999], &quot;geometry&quot;: {&quot;coordinates&quot;: [25.0291263, 60.19413939999999], &quot;type&quot;: &quot;Point&quot;}, &quot;id&quot;: &quot;27&quot;, &quot;properties&quot;: {&quot;address&quot;: &quot;Hiiht\\u00e4j\\u00e4ntie 2, 00810 Helsinki, Finland&quot;, &quot;id&quot;: 1028}, &quot;type&quot;: &quot;Feature&quot;}, {&quot;bbox&quot;: [25.0068399, 60.18837519999999, 25.0068399, 60.18837519999999], &quot;geometry&quot;: {&quot;coordinates&quot;: [25.0068399, 60.18837519999999], &quot;type&quot;: &quot;Point&quot;}, &quot;id&quot;: &quot;28&quot;, &quot;properties&quot;: {&quot;address&quot;: &quot;Ukko-Pekan porras, 00570 Helsinki, Finland&quot;, &quot;id&quot;: 1029}, &quot;type&quot;: &quot;Feature&quot;}, {&quot;bbox&quot;: [24.9494874, 60.1793862, 24.9494874, 60.1793862], &quot;geometry&quot;: {&quot;coordinates&quot;: [24.9494874, 60.1793862], &quot;type&quot;: &quot;Point&quot;}, &quot;id&quot;: &quot;29&quot;, &quot;properties&quot;: {&quot;address&quot;: &quot;Siltasaarenkatu 16, 00530 Helsinki, Finland&quot;, &quot;id&quot;: 1030}, &quot;type&quot;: &quot;Feature&quot;}, {&quot;bbox&quot;: [24.9337569, 60.1694809, 24.9337569, 60.1694809], &quot;geometry&quot;: {&quot;coordinates&quot;: [24.9337569, 60.1694809], &quot;type&quot;: &quot;Point&quot;}, &quot;id&quot;: &quot;30&quot;, &quot;properties&quot;: {&quot;address&quot;: &quot;Urho Kekkosen katu 1, 00100 Helsinki, Finland&quot;, &quot;id&quot;: 1031}, &quot;type&quot;: &quot;Feature&quot;}, {&quot;bbox&quot;: [24.9250072, 60.16500139999999, 24.9250072, 60.16500139999999], &quot;geometry&quot;: {&quot;coordinates&quot;: [24.9250072, 60.16500139999999], &quot;type&quot;: &quot;Point&quot;}, &quot;id&quot;: &quot;31&quot;, &quot;properties&quot;: {&quot;address&quot;: &quot;Gr\\u00e4sviksgatan 17, 00101 Helsingfors, Finland&quot;, &quot;id&quot;: 1032}, &quot;type&quot;: &quot;Feature&quot;}, {&quot;bbox&quot;: [24.9214046, 60.159069, 24.9214046, 60.159069], &quot;geometry&quot;: {&quot;coordinates&quot;: [24.9214046, 60.159069], &quot;type&quot;: &quot;Point&quot;}, &quot;id&quot;: &quot;32&quot;, &quot;properties&quot;: {&quot;address&quot;: &quot;Stillahavsgatan 3, 00220 Helsingfors, Finland&quot;, &quot;id&quot;: 1033}, &quot;type&quot;: &quot;Feature&quot;}, {&quot;bbox&quot;: [24.9468514, 60.1719108, 24.9468514, 60.1719108], &quot;geometry&quot;: {&quot;coordinates&quot;: [24.9468514, 60.1719108], &quot;type&quot;: &quot;Point&quot;}, &quot;id&quot;: &quot;33&quot;, &quot;properties&quot;: {&quot;address&quot;: &quot;Vilhelmsgatan 4, 00101 Helsingfors, Finland&quot;, &quot;id&quot;: 1034}, &quot;type&quot;: &quot;Feature&quot;}, {&quot;bbox&quot;: [25.1204966, 60.20548979999999, 25.1204966, 60.20548979999999], &quot;geometry&quot;: {&quot;coordinates&quot;: [25.1204966, 60.20548979999999], &quot;type&quot;: &quot;Point&quot;}, &quot;id&quot;: &quot;34&quot;, &quot;properties&quot;: {&quot;address&quot;: &quot;Torisilta, 00980 Helsinki, Finland&quot;, &quot;id&quot;: 1035}, &quot;type&quot;: &quot;Feature&quot;}], &quot;type&quot;: &quot;FeatureCollection&quot;});\n",
       "        geo_json_d28b66eb37dd2d0cc253be5e3e7dc8b5.setStyle(function(feature) {return feature.properties.style;});\n",
       "\n",
       "        \n",
       "    \n",
       "            geo_json_d28b66eb37dd2d0cc253be5e3e7dc8b5.addTo(map_1a3b25c711229932d55c5a033e11662e);\n",
       "        \n",
       "&lt;/script&gt;\n",
       "&lt;/html&gt;\" style=\"position:absolute;width:100%;height:100%;left:0;top:0;border:none !important;\" allowfullscreen webkitallowfullscreen mozallowfullscreen></iframe></div></div>"
      ],
      "text/plain": [
       "<folium.folium.Map at 0x1777c93c4d0>"
      ]
     },
     "execution_count": 25,
     "metadata": {},
     "output_type": "execute_result"
    }
   ],
   "source": [
    "# Create a Map instance\n",
    "m = folium.Map(\n",
    "    location=[60.25, 24.8], tiles=\"cartodbpositron\", zoom_start=11, control_scale=True\n",
    ")\n",
    "\n",
    "# Add points to the map instance\n",
    "points_gjson.add_to(m)\n",
    "\n",
    "# Alternative syntax for adding points to the map instance\n",
    "# m.add_child(points_gjson)\n",
    "\n",
    "# Show map\n",
    "m"
   ]
  },
  {
   "cell_type": "markdown",
   "metadata": {},
   "source": [
    "### Layer control\n",
    "\n",
    "We can also add a `LayerControl` object on our map, which allows the user to control which map layers are visible. See the [documentation](http://python-visualization.github.io/folium/docs-v0.5.0/modules.html#folium.map.LayerControl) for available parameters (you can e.g. change the position of the layer control icon)."
   ]
  },
  {
   "cell_type": "code",
   "execution_count": null,
   "metadata": {},
   "outputs": [],
   "source": [
    "# Create a layer control object and add it to our map instance\n",
    "folium.LayerControl().add_to(m)\n",
    "\n",
    "# Show map\n",
    "m"
   ]
  },
  {
   "cell_type": "markdown",
   "metadata": {
    "deletable": true,
    "editable": true
   },
   "source": [
    "### Heatmap\n",
    "\n",
    "[Folium plugins](https://python-visualization.github.io/folium/plugins.html) allow us to use popular tools available in leaflet. One of these plugins is [HeatMap](https://python-visualization.github.io/folium/plugins.html#folium.plugins.HeatMap), which creates a heatmap layer from input points. \n",
    "\n",
    "Let's visualize a heatmap of the public transport stations in Helsinki using the addresses input data. [folium.plugins.HeatMap](https://python-visualization.github.io/folium/plugins.html#folium.plugins.HeatMap) requires a list of points, or a numpy array as input, so we need to first manipulate the data a bit:"
   ]
  },
  {
   "cell_type": "code",
   "execution_count": null,
   "metadata": {
    "deletable": true,
    "editable": true
   },
   "outputs": [],
   "source": [
    "# Get x and y coordinates for each point\n",
    "points[\"x\"] = points[\"geometry\"].apply(lambda geom: geom.x)\n",
    "points[\"y\"] = points[\"geometry\"].apply(lambda geom: geom.y)\n",
    "\n",
    "# Create a list of coordinate pairs\n",
    "locations = list(zip(points[\"y\"], points[\"x\"]))"
   ]
  },
  {
   "cell_type": "markdown",
   "metadata": {},
   "source": [
    "Check the data:"
   ]
  },
  {
   "cell_type": "code",
   "execution_count": null,
   "metadata": {
    "collapsed": false,
    "deletable": true,
    "editable": true,
    "jupyter": {
     "outputs_hidden": false
    }
   },
   "outputs": [],
   "source": [
    "locations"
   ]
  },
  {
   "cell_type": "code",
   "execution_count": null,
   "metadata": {
    "collapsed": false,
    "deletable": true,
    "editable": true,
    "jupyter": {
     "outputs_hidden": false
    }
   },
   "outputs": [],
   "source": [
    "from folium.plugins import HeatMap\n",
    "\n",
    "# Create a Map instance\n",
    "m = folium.Map(\n",
    "    location=[60.25, 24.8], tiles=\"stamentoner\", zoom_start=10, control_scale=True\n",
    ")\n",
    "\n",
    "# Add heatmap to map instance\n",
    "# Available parameters: HeatMap(data, name=None, min_opacity=0.5, max_zoom=18, max_val=1.0, radius=25, blur=15, gradient=None, overlay=True, control=True, show=True)\n",
    "HeatMap(locations).add_to(m)\n",
    "\n",
    "# Alternative syntax:\n",
    "# m.add_child(HeatMap(points_array, radius=15))\n",
    "\n",
    "# Show map\n",
    "m"
   ]
  },
  {
   "cell_type": "markdown",
   "metadata": {
    "editable": true
   },
   "source": [
    "### Clustered point map\n",
    "\n",
    "Let's visualize the address points (locations of transport stations in Helsinki) on top of the choropleth map using clustered markers using folium's [MarkerCluster](https://python-visualization.github.io/folium/plugins.html?highlight=marker%20cluster#folium.plugins.MarkerCluster) class."
   ]
  },
  {
   "cell_type": "code",
   "execution_count": null,
   "metadata": {
    "editable": true
   },
   "outputs": [],
   "source": [
    "from folium.plugins import MarkerCluster"
   ]
  },
  {
   "cell_type": "code",
   "execution_count": null,
   "metadata": {},
   "outputs": [],
   "source": [
    "# Create a Map instance\n",
    "m = folium.Map(\n",
    "    location=[60.25, 24.8], tiles=\"cartodbpositron\", zoom_start=11, control_scale=True\n",
    ")"
   ]
  },
  {
   "cell_type": "code",
   "execution_count": null,
   "metadata": {},
   "outputs": [],
   "source": [
    "# Following this example: https://github.com/python-visualization/folium/blob/master/examples/MarkerCluster.ipynb\n",
    "\n",
    "# Get x and y coordinates for each point\n",
    "points[\"x\"] = points[\"geometry\"].apply(lambda geom: geom.x)\n",
    "points[\"y\"] = points[\"geometry\"].apply(lambda geom: geom.y)\n",
    "\n",
    "# Create a list of coordinate pairs\n",
    "locations = list(zip(points[\"y\"], points[\"x\"]))"
   ]
  },
  {
   "cell_type": "code",
   "execution_count": null,
   "metadata": {},
   "outputs": [],
   "source": [
    "# Create a folium marker cluster\n",
    "marker_cluster = MarkerCluster(locations)\n",
    "\n",
    "# Add marker cluster to map\n",
    "marker_cluster.add_to(m)\n",
    "\n",
    "# Show map\n",
    "m"
   ]
  },
  {
   "cell_type": "markdown",
   "metadata": {
    "deletable": true,
    "editable": true
   },
   "source": [
    "### Choropleth map"
   ]
  },
  {
   "cell_type": "markdown",
   "metadata": {
    "deletable": true,
    "editable": true
   },
   "source": [
    "Next, let's check how we can overlay a population map on top of a basemap using [folium's choropleth method](http://python-visualization.github.io/folium/docs-v0.5.0/modules.html#folium.folium.Map.choropleth). This method is able to read the geometries and attributes directly from a geodataframe. \n",
    "This example is modified from the [Folium quicksart](https://python-visualization.github.io/folium/quickstart.html#Choropleth-maps).\n",
    "\n",
    "- First read in the population grid from HSY wfs like we did in [lesson 3](https://automating-gis-processes.github.io/site/notebooks/L3/spatial-join.html):"
   ]
  },
  {
   "cell_type": "code",
   "execution_count": null,
   "metadata": {
    "collapsed": false,
    "deletable": true,
    "editable": true,
    "jupyter": {
     "outputs_hidden": false
    }
   },
   "outputs": [],
   "source": [
    "import geopandas as gpd\n",
    "from pyproj import CRS\n",
    "import requests\n",
    "import geojson\n",
    "\n",
    "# Specify the url for web feature service\n",
    "url = \"https://kartta.hsy.fi/geoserver/wfs\"\n",
    "\n",
    "# Specify parameters (read data in json format).\n",
    "# Available feature types in this particular data source: http://geo.stat.fi/geoserver/vaestoruutu/wfs?service=wfs&version=2.0.0&request=describeFeatureType\n",
    "params = dict(\n",
    "    service=\"WFS\",\n",
    "    version=\"2.0.0\",\n",
    "    request=\"GetFeature\",\n",
    "    typeName=\"asuminen_ja_maankaytto:Vaestotietoruudukko_2018\",\n",
    "    outputFormat=\"json\",\n",
    ")\n",
    "\n",
    "# Fetch data from WFS using requests\n",
    "r = requests.get(url, params=params)\n",
    "\n",
    "# Create GeoDataFrame from geojson\n",
    "data = gpd.GeoDataFrame.from_features(geojson.loads(r.content))\n",
    "\n",
    "# Check the data\n",
    "data.head()"
   ]
  },
  {
   "cell_type": "code",
   "execution_count": null,
   "metadata": {},
   "outputs": [],
   "source": [
    "from pyproj import CRS\n",
    "\n",
    "# Define crs\n",
    "data.crs = CRS.from_epsg(3879)"
   ]
  },
  {
   "cell_type": "markdown",
   "metadata": {},
   "source": [
    "Re-project layer into WGS 84 (epsg: 4326)"
   ]
  },
  {
   "cell_type": "code",
   "execution_count": null,
   "metadata": {},
   "outputs": [],
   "source": [
    "# Re-project to WGS84\n",
    "data = data.to_crs(epsg=4326)\n",
    "\n",
    "# Check layer crs definition\n",
    "print(data.crs)"
   ]
  },
  {
   "cell_type": "markdown",
   "metadata": {
    "deletable": true,
    "editable": true
   },
   "source": [
    "Rename columns"
   ]
  },
  {
   "cell_type": "code",
   "execution_count": null,
   "metadata": {},
   "outputs": [],
   "source": [
    "# Change the name of a column\n",
    "data = data.rename(columns={\"asukkaita\": \"pop18\"})"
   ]
  },
  {
   "cell_type": "code",
   "execution_count": null,
   "metadata": {},
   "outputs": [],
   "source": [
    "# Create a Geo-id which is needed by the Folium (it needs to have a unique identifier for each row)\n",
    "data[\"geoid\"] = data.index.astype(str)"
   ]
  },
  {
   "cell_type": "code",
   "execution_count": null,
   "metadata": {
    "collapsed": false,
    "deletable": true,
    "editable": true,
    "jupyter": {
     "outputs_hidden": false
    }
   },
   "outputs": [],
   "source": [
    "# Select only needed columns\n",
    "data = data[[\"geoid\", \"pop18\", \"geometry\"]]\n",
    "\n",
    "# Convert to geojson (not needed for the simple coropleth map!)\n",
    "# pop_json = data.to_json()\n",
    "\n",
    "# check data\n",
    "data.head()"
   ]
  },
  {
   "cell_type": "markdown",
   "metadata": {},
   "source": [
    "Create an interactive choropleth map from the population grid:"
   ]
  },
  {
   "cell_type": "code",
   "execution_count": null,
   "metadata": {
    "collapsed": false,
    "deletable": true,
    "editable": true,
    "jupyter": {
     "outputs_hidden": false
    }
   },
   "outputs": [],
   "source": [
    "# Create a Map instance\n",
    "m = folium.Map(\n",
    "    location=[60.25, 24.8], tiles=\"cartodbpositron\", zoom_start=10, control_scale=True\n",
    ")\n",
    "\n",
    "# Plot a choropleth map\n",
    "# Notice: 'geoid' column that we created earlier needs to be assigned always as the first column\n",
    "folium.Choropleth(\n",
    "    geo_data=data,\n",
    "    name=\"Population in 2018\",\n",
    "    data=data,\n",
    "    columns=[\"geoid\", \"pop18\"],\n",
    "    key_on=\"feature.id\",\n",
    "    fill_color=\"YlOrRd\",\n",
    "    fill_opacity=0.7,\n",
    "    line_opacity=0.2,\n",
    "    line_color=\"white\",\n",
    "    line_weight=0,\n",
    "    highlight=False,\n",
    "    smooth_factor=1.0,\n",
    "    # threshold_scale=[100, 250, 500, 1000, 2000],\n",
    "    legend_name=\"Population in Helsinki\",\n",
    ").add_to(m)\n",
    "\n",
    "# Show map\n",
    "m"
   ]
  },
  {
   "cell_type": "markdown",
   "metadata": {},
   "source": [
    "### Tooltips\n",
    "\n",
    "It is possible to add different kinds of pop-up messages and tooltips to the map. Here, it would be nice to see the population of each grid cell when you hover the mouse over the map. Unfortunately this functionality is not apparently implemented implemented in the Choropleth method we used before. \n",
    "\n",
    "Add tooltips, we can add tooltips to our map when plotting the polygons as GeoJson objects using the `GeoJsonTooltip` feature. (following examples from [here](http://nbviewer.jupyter.org/gist/jtbaker/57a37a14b90feeab7c67a687c398142c?flush_cache=true) and [here](https://nbviewer.jupyter.org/github/jtbaker/folium/blob/geojsonmarker/examples/GeoJsonMarkersandTooltips.ipynb))\n",
    "\n",
    "For a quick workaround, we plot the polygons on top of the coropleth map as a transparent layer, and add the tooltip to these objects. *Note: this is not an optimal solution as now the polygon geometry get's stored twice in the output!*"
   ]
  },
  {
   "cell_type": "code",
   "execution_count": null,
   "metadata": {},
   "outputs": [],
   "source": [
    "# Convert points to GeoJson\n",
    "folium.features.GeoJson(\n",
    "    data,\n",
    "    name=\"Labels\",\n",
    "    style_function=lambda x: {\n",
    "        \"color\": \"transparent\",\n",
    "        \"fillColor\": \"transparent\",\n",
    "        \"weight\": 0,\n",
    "    },\n",
    "    tooltip=folium.features.GeoJsonTooltip(\n",
    "        fields=[\"pop18\"], aliases=[\"Population\"], labels=True, sticky=False\n",
    "    ),\n",
    ").add_to(m)\n",
    "\n",
    "m"
   ]
  },
  {
   "cell_type": "markdown",
   "metadata": {},
   "source": [
    "Rember that you can also save the output as an html file: "
   ]
  },
  {
   "cell_type": "code",
   "execution_count": null,
   "metadata": {},
   "outputs": [],
   "source": [
    "outfp = \"choropleth_map.html\"\n",
    "m.save(outfp)"
   ]
  },
  {
   "cell_type": "markdown",
   "metadata": {},
   "source": [
    "Extra: check out plotly express for an alternative way of plotting an interactive Choropleth map [in here](https://plotly.com/python/mapbox-county-choropleth/)."
   ]
  },
  {
   "cell_type": "markdown",
   "metadata": {},
   "source": [
    "## Footnotes\n",
    "\n",
    "[^folium]: <https://python-visualization.github.io/folium/>\n",
    "[^leaflet]: <http://leafletjs.com/>\n",
    "[^folium_api]: <https://python-visualization.github.io/folium/latest/reference.html>\n",
    "[^xyzservices]: <https://xyzservices.readthedocs.io/en/stable/>\n",
    "[^leaflet_providers]: <https://leaflet-extras.github.io/leaflet-providers/preview/>"
   ]
  }
 ],
 "metadata": {
  "anaconda-cloud": {},
  "kernelspec": {
   "display_name": "Python 3 (ipykernel)",
   "language": "python",
   "name": "python3"
  },
  "language_info": {
   "codemirror_mode": {
    "name": "ipython",
    "version": 3
   },
   "file_extension": ".py",
   "mimetype": "text/x-python",
   "name": "python",
   "nbconvert_exporter": "python",
   "pygments_lexer": "ipython3",
   "version": "3.12.9"
  }
 },
 "nbformat": 4,
 "nbformat_minor": 4
}
