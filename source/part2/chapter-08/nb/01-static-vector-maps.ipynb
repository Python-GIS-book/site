{
 "cells": [
  {
   "cell_type": "markdown",
   "metadata": {},
   "source": [
    "# Static maps"
   ]
  },
  {
   "cell_type": "markdown",
   "metadata": {},
   "source": [
    "Static visualizations of geographic information are useful for many purposes during a data analysis process, for example, during data exploration and communicating the results. Maps produced in Python can be exported to various image formats and integrated in reports and scientific articles. In this section, we will practice plotting static maps using sample data from Helsinki, Finland. \n",
    "\n",
    "[Mapping tools in `geopandas`](https://geopandas.org/en/stable/docs/user_guide/mapping.html) [^geopandas_mappingtools] allow creating simple static maps easily. In the background, `geopandas` uses `matplotlib` for creating the plots and we can use [`matplotlib.pyplot`](https://matplotlib.org/3.5.3/api/_as_gen/matplotlib.pyplot.html) [^matplotlib_pyplot] tools for further customizing our figures. This book covers the basics of `matplotlib` in Part I chapter 4 and we will apply some of these techniques for plotting our static maps. Additionally, we will explore how to enhance our maps by adding basemaps with [`contextily`](https://github.com/darribas/contextily) [^contextily].\n",
    "\n",
    "## Creating a simple multi-layer map\n",
    "\n",
    "We will visualize information about travel times across the region from the Helsinki Region Travel Time Matrix dataset ({cite}`Tenkanen2020`). \n",
    "We will also incorporate [transport network data from Helsinki Region Transport](https://www.avoindata.fi/data/en_GB/dataset/hsl-n-linjat) [^HSL_opendata] to add spatial context. Let's start by importing the required modules and defining our data sources."
   ]
  },
  {
   "cell_type": "code",
   "execution_count": null,
   "metadata": {},
   "outputs": [],
   "source": [
    "from pathlib import Path\n",
    "import numpy as np\n",
    "import geopandas as gpd\n",
    "import matplotlib.pyplot as plt\n",
    "import contextily as ctx\n",
    "\n",
    "data_dir = Path(\"../data\")\n",
    "grid_fp = data_dir / \"TravelTimes_to_5975375_RailwayStation.shp\"\n",
    "transport_fp = data_dir / \"HSL%3An_linjat.zip\"\n",
    "\n",
    "# Read files\n",
    "grid = gpd.read_file(grid_fp)\n",
    "transport = gpd.read_file(transport_fp)\n",
    "\n",
    "# Filtering out some useful transport features for our map\n",
    "metro = transport.loc[transport[\"JL_LAJI\"] == \"06\"]\n",
    "train = transport.loc[transport[\"JL_LAJI\"] == \"12\"]"
   ]
  },
  {
   "cell_type": "markdown",
   "metadata": {},
   "source": [
    "The travel time data contains multiple columns with information about travel times and distances from each statistical grid square to the central railway station in Helsinki. "
   ]
  },
  {
   "cell_type": "code",
   "execution_count": null,
   "metadata": {},
   "outputs": [],
   "source": [
    "grid.columns"
   ]
  },
  {
   "cell_type": "markdown",
   "metadata": {},
   "source": [
    "For a detailed description of each column, see Table 3 in {cite}`Tenkanen2020`. We will use column `'pt_r_t'` which contains information about travel time in minutes to the central railway station by public transportation in rush hour traffic. Missing data are presented with value -1. Let's set the missing values as `NaN` before proceeding:"
   ]
  },
  {
   "cell_type": "code",
   "execution_count": null,
   "metadata": {},
   "outputs": [],
   "source": [
    "grid = grid.replace(-1, np.nan)"
   ]
  },
  {
   "cell_type": "markdown",
   "metadata": {},
   "source": [
    "### Plotting a simple map\n",
    "\n",
    "Now we can use `geopandas` for visualizing a simple map representing the rush hour public transport travel times (`'pt_r_t'`). We can specify the column which we want to visualize creating a color gradient of the  values with the `column` parameter in the `plot()` method: "
   ]
  },
  {
   "cell_type": "code",
   "execution_count": null,
   "metadata": {},
   "outputs": [],
   "source": [
    "grid.plot(column=\"pt_r_t\")"
   ]
  },
  {
   "cell_type": "markdown",
   "metadata": {},
   "source": [
    "_**Figure 8.1**. Simple static map plotted using `geopandas`. The color gradient represents travel times by public transport to the central railway station in Helsinki. Data source: Tenkanen & Toivonen 2020._\n",
    "\n",
    "What we have here is a `choropleth map` where the colors of each grid square polygon are based on values from the column `pt_r_t`. Such a simple map is helpful for getting a quick overview of the underlying data. However, we can further enhance the visualization to better communicate the patterns and to create an effective visualization. \n",
    "\n",
    "### Adding a classification scheme\n",
    "\n",
    "Next, we can change the classification scheme to determine the assignment of values to distinct classes for the visualization. \n",
    "\n"
   ]
  },
  {
   "cell_type": "code",
   "execution_count": null,
   "metadata": {},
   "outputs": [],
   "source": [
    "grid.plot(column=\"pt_r_t\", scheme=\"NaturalBreaks\")"
   ]
  },
  {
   "cell_type": "markdown",
   "metadata": {},
   "source": [
    "### Adding multiple layers\n",
    "\n",
    "The power of geographic information often relies on overlaying multiple features and exploring their spatial relations. Here, we can visualize the transport network data on top of the travel time information to add spatial context in our map. In order to plot multiple layers in the same figure, the first thing is to check the coordinate reference system (CRS) of each layer and check that they match:"
   ]
  },
  {
   "cell_type": "code",
   "execution_count": null,
   "metadata": {
    "collapsed": false,
    "jupyter": {
     "outputs_hidden": false
    }
   },
   "outputs": [],
   "source": [
    "# Check the crs of each layer\n",
    "print(grid.crs)\n",
    "print(metro.crs)\n",
    "print(train.crs)"
   ]
  },
  {
   "cell_type": "markdown",
   "metadata": {},
   "source": [
    "All layers have a defined CRS, but we can see that the coordinate reference system definitions don't match, which is a problem for plotting our map. The grid is in ETRS89 / TM35FIN (EPSG:3067), which is an appropriate map projection for visualizing data from Finland. Roads and the metro are in WGS 84 (EPSG:4326) meaning that the coordinates are in latitudes and longitudes. Let's see what happens if trying to plot all three layers in the same figure without re-projecting the data:"
   ]
  },
  {
   "cell_type": "code",
   "execution_count": null,
   "metadata": {},
   "outputs": [],
   "source": [
    "ax = grid.plot(column=\"pt_r_t\")\n",
    "train.plot(ax=ax)\n",
    "metro.plot(ax=ax)"
   ]
  },
  {
   "cell_type": "markdown",
   "metadata": {},
   "source": [
    "_**Figure 8.2**. Failed attempt to plot a static map with multiple layers._\n",
    "\n",
    "We need to re-project the data in order to get the layers in the same coordinate space. Here, we can re-project the linear features (train and metro) from WGS 84 to ETRS89 / TM35FIN (EPSG:3067). While doing this, we can get the crs definition based on the grid layer ensuring that the crs definitions will be identical."
   ]
  },
  {
   "cell_type": "code",
   "execution_count": null,
   "metadata": {
    "collapsed": false,
    "jupyter": {
     "outputs_hidden": false
    }
   },
   "outputs": [],
   "source": [
    "# Reproject geometries to ETRS89 / TM35FIN based on the grid crs:\n",
    "train = train.to_crs(crs=grid.crs)\n",
    "metro = metro.to_crs(crs=grid.crs)"
   ]
  },
  {
   "cell_type": "markdown",
   "metadata": {},
   "source": [
    "Now the layers should be in the same coordinate reference system:"
   ]
  },
  {
   "cell_type": "code",
   "execution_count": null,
   "metadata": {
    "collapsed": false,
    "jupyter": {
     "outputs_hidden": false
    }
   },
   "outputs": [],
   "source": [
    "# Check the crs of each layer\n",
    "print(grid.crs)\n",
    "print(metro.crs)\n",
    "print(train.crs)"
   ]
  },
  {
   "cell_type": "markdown",
   "metadata": {},
   "source": [
    "Once the data share the same projection, we can finally create a multi-layer map. We start by plotting the grid layer and storing the plot object in the variable `ax`.  Then we can plot the train and metro line in the same subplot:"
   ]
  },
  {
   "cell_type": "code",
   "execution_count": null,
   "metadata": {},
   "outputs": [],
   "source": [
    "ax = grid.plot(column=\"pt_r_t\")\n",
    "train.plot(ax=ax)\n",
    "metro.plot(ax=ax)"
   ]
  },
  {
   "cell_type": "markdown",
   "metadata": {},
   "source": [
    "_**Figure 8.3**. Static map with multiple layers displaying the original data extent. Data source: Tenkanen & Toivonen 2020; Helsinki Region Transport 2024._\n",
    "\n",
    "Now our layers are nicely aligned, but the map needs some further improvement.\n",
    "\n",
    "### Choosing colors and customizing our map\n",
    "\n",
    " Colors are an important component of any cartographic visualization. Display settings for map features, such as color and linewidth are easy to configure directly when plotting the data via `geopandas`. For changing the colors of the choropleth map, we can use the `cmap` parameter. There are various [colormap options via `matplotlib` ](https://matplotlib.org/3.1.0/tutorials/colors/colormaps.html#choosing-colormaps-in-matplotlib) [^matplotlib_colormaps]. For line features, we can change the colors using the `color` parameter using the various [color options via `matplotlib` ](https://matplotlib.org/api/pyplot_api.html#matplotlib.pyplot.colors) [^matplotlib_colors]. Transparency can be added using the `alpha` parameter (this parameter ranges from 0 to 1 where 0 is fully transparent).\n",
    "\n",
    "For controlling other features related to the layout, such as the x- and y-axis, we need to use `matplotlib.pyplot` directly. For example, we can crop the figure on-the-fly by adjusting the view limit of each axis.  This way we don't need to separately crop the train line that goes outside the extent of the grid data. Let's apply the following changes to our plot: \n",
    "\n",
    "- Changing the choropleth map color\n",
    "- Changing line colors.\n",
    "- Changing the linewidth of line features.\n",
    "- Adding transparency.\n",
    "- Cropping the figure. We can get the desired plot extent from the `total_bounds` of the grid layer. This way we don't need to separately crop the train line that goes outside the extent of the grid data.\n",
    "- Using a `tight_layout`to adjust the subplot to fit in the figure.\n",
    "- Removing the frame and and axis labels through setting x- and y- axis off.\n",
    "\n",
    "Finally, we can save the figure as PNG image."
   ]
  },
  {
   "cell_type": "code",
   "execution_count": null,
   "metadata": {},
   "outputs": [],
   "source": [
    "# Create one subplot. Control figure size in here.\n",
    "fig, ax = plt.subplots(figsize=(6, 4))\n",
    "\n",
    "# Visualize the travel times\n",
    "grid.plot(ax=ax, column=\"car_r_t\", cmap=\"Spectral\")\n",
    "\n",
    "# Set axis view limits based on the total bounds of the grid layer\n",
    "ax.set_xlim(grid.total_bounds[0], grid.total_bounds[2])\n",
    "ax.set_ylim(grid.total_bounds[1], grid.total_bounds[3])\n",
    "\n",
    "# Set the x and y axis off\n",
    "plt.axis(\"off\")\n",
    "\n",
    "# Adjust padding around the subplot\n",
    "plt.tight_layout()\n",
    "\n",
    "# Save the figure as png file with resolution of 300 dpi\n",
    "outfp = \"static_map.png\"\n",
    "plt.savefig(outfp, dpi=300)"
   ]
  },
  {
   "cell_type": "markdown",
   "metadata": {},
   "source": [
    "_**Figure 8.4**. Static map with multiple layers with adjusted extent and colors. Data source: Tenkanen & Toivonen 2020; Helsinki Region Transport 2024._"
   ]
  },
  {
   "cell_type": "markdown",
   "metadata": {},
   "source": [
    "### Adding a legend and a scalebar"
   ]
  },
  {
   "cell_type": "markdown",
   "metadata": {},
   "source": [
    "Legend and scalebar are essential elements of an informative map. While they aren’t always necessary, including both into our travel time map adds value by clarifying the data range and geographic scale.\n",
    "\n",
    "We can add a map legend directly when plotting the `GeoDataFrame` through setting `legend=True`.  Additional keywords can be added through `legend_kwds`. When plotting the `GeoDataFrame` using basic settings, the legend will be a [colorbar object](https://matplotlib.org/stable/api/_as_gen/matplotlib.pyplot.colorbar.html) [^matplotlib_colorbar] and the legend keyword arguments will control how the colorbar looks. For example, we can add a `label` for our colorbar legend. For additional legend options, have a look at [`geopandas` mapping tools](https://geopandas.org/en/stable/docs/user_guide/mapping.html) [^geopandas_mappingtools] and [`matplotlib` legend guide](https://matplotlib.org/tutorials/intermediate/legend_guide.html) [^matplotlib_legend].\n",
    "\n",
    "A scalebar can be added using the `maplotlib-scalebar` library, which needs to be installed separately in addition to `matplotlib`. Adding a scalebar is easy as long as the data are in a projected metric coordinate reference system. The `ScaleBar` object only requires one parameter, `dx`, which indicates a size of one pixel in real world units. For a metric CRS, we can simply set `dx=1`. For tips on how to customize the scalebar, have a look at [`geopandas` examples gallery](https://geopandas.org/en/stable/gallery/matplotlib_scalebar.html#Adding-a-scale-bar-to-a-matplotlib-plot) [^geopandas_scalebar_examples]."
   ]
  },
  {
   "cell_type": "code",
   "execution_count": null,
   "metadata": {},
   "outputs": [],
   "source": [
    "from matplotlib_scalebar.scalebar import ScaleBar"
   ]
  },
  {
   "cell_type": "code",
   "execution_count": null,
   "metadata": {},
   "outputs": [],
   "source": [
    "# Create one subplot. Control figure size in here.\n",
    "fig, ax = plt.subplots(figsize=(6, 4))\n",
    "\n",
    "# Visualize the travel times\n",
    "grid.plot(\n",
    "    ax=ax,\n",
    "    column=\"car_r_t\",\n",
    "    cmap=\"Spectral\",\n",
    "    legend=True,\n",
    "    legend_kwds={\"label\": \"Travel times by public transport (min)\"},\n",
    ")\n",
    "\n",
    "# Add roads and change the color, linewidth and and transparency\n",
    "train.plot(ax=ax, color=\"grey\", linewidth=1, alpha=0.1)\n",
    "\n",
    "# Add metro and change the color, linewidth and and transparency\n",
    "metro.plot(ax=ax, color=\"red\", linewidth=2, alpha=0.1)\n",
    "\n",
    "# Set axis view limits based on the total bounds of the grid layer\n",
    "ax.set_xlim(grid.total_bounds[0], grid.total_bounds[2])\n",
    "ax.set_ylim(grid.total_bounds[1], grid.total_bounds[3])\n",
    "\n",
    "# Add scalebar\n",
    "ax.add_artist(ScaleBar(dx=1, location=\"lower right\"))\n",
    "\n",
    "# Set the x and y axis off\n",
    "plt.axis(\"off\")\n",
    "\n",
    "# Adjust padding around the subplot\n",
    "plt.tight_layout()"
   ]
  },
  {
   "cell_type": "markdown",
   "metadata": {},
   "source": [
    "_**Figure 8.5**. Static map with multiple layers and a scale bar. Data source: Tenkanen & Toivonen 2020; Helsinki Region Transport 2024._"
   ]
  },
  {
   "cell_type": "markdown",
   "metadata": {},
   "source": [
    "When plotting the map, we can pass the break values using `classification_kwds`. For a final touch, we can plot two subplots side by side displaying travel times by different modes of transport using our custom classifier. \n",
    "\n",
    "We can plot only one legend, as the two maps use an identical classification. We can add interval brackets on our legend to denote open and closed intervals. An open interval is denoted with parentheses and it does not inlcude the endpoint values. A closed interval is denoted with square brackets and it includes both endpoints. Most of the intervals in our classificaion scheme are half-open (for example, `(10, 20]`) so that the lower bound is not included in the interval, but the upper bound is. "
   ]
  },
  {
   "cell_type": "code",
   "execution_count": null,
   "metadata": {
    "scrolled": true
   },
   "outputs": [],
   "source": [
    "# Create one subplot. Control figure size in here.\n",
    "fig, axs = plt.subplots(nrows=1, ncols=2, figsize=(12, 4))\n",
    "\n",
    "# Visualize the travel times into 9 classes using \"Quantiles\" classification scheme\n",
    "grid.plot(\n",
    "    ax=axs[0],\n",
    "    column=\"car_r_t\",\n",
    "    cmap=\"RdYlBu\",\n",
    "    linewidth=0,\n",
    "    scheme=\"UserDefined\",\n",
    "    classification_kwds={\"bins\": break_values},\n",
    ")\n",
    "\n",
    "grid.plot(\n",
    "    ax=axs[1],\n",
    "    column=\"pt_r_t\",\n",
    "    cmap=\"RdYlBu\",\n",
    "    linewidth=0,\n",
    "    scheme=\"UserDefined\",\n",
    "    classification_kwds={\"bins\": break_values},\n",
    "    legend=True,\n",
    "    legend_kwds={\n",
    "        \"title\": \"Travel times (min)\",\n",
    "        \"bbox_to_anchor\": (1.4, 1),\n",
    "        \"interval\": True,\n",
    "        \"frameon\": False,\n",
    "    },\n",
    "    label=\"Travel times by public transport\",\n",
    ")\n",
    "\n",
    "axs[0].set_title(\"Travel times by car\")\n",
    "axs[1].set_title(\"Travel times by public transport\")\n",
    "\n",
    "# Set the x and y axis off and adjust padding around the subplot\n",
    "axs[0].axis(\"off\")\n",
    "axs[1].axis(\"off\")\n",
    "\n",
    "plt.tight_layout()"
   ]
  },
  {
   "cell_type": "markdown",
   "metadata": {},
   "source": [
    "_**Figure 8.14**. Static map of travel times by car and public transport using a custom classification scheme. Data source: Tenkanen & Toivonen 2020._"
   ]
  },
  {
   "cell_type": "markdown",
   "metadata": {},
   "source": [
    "## Adding a basemap\n",
    "\n",
    "Let's now add spatial context using basemaps from online sources. Basemaps might feature satellite imagery or a readily visualized bacground maps displaying various essential features such as streets, administrative boundaries, water bodies and so on.  We can use `contextily` together with `geopandas` and `matplotlib` to fetch map tiles as basemaps for our static maps. Bacground maps are available via `contextily` from various providers: "
   ]
  },
  {
   "cell_type": "code",
   "execution_count": null,
   "metadata": {
    "collapsed": false,
    "jupyter": {
     "outputs_hidden": false
    }
   },
   "outputs": [],
   "source": [
    "print(list(ctx.providers))"
   ]
  },
  {
   "cell_type": "markdown",
   "metadata": {},
   "source": [
    "For most of the providers, there are multiple style options available. Here is an example for available OpenStreetMap visualizations: \n"
   ]
  },
  {
   "cell_type": "code",
   "execution_count": null,
   "metadata": {
    "collapsed": false,
    "jupyter": {
     "outputs_hidden": false
    }
   },
   "outputs": [],
   "source": [
    "ctx.providers.OpenStreetMap.keys()"
   ]
  },
  {
   "cell_type": "markdown",
   "metadata": {},
   "source": [
    "Map tiles are typically distributed in [Web Mercator projection (EPSG:3857)](http://spatialreference.org/ref/sr-org/epsg3857-wgs84-web-mercator-auxiliary-sphere/). We either need to re-project our data before plotting, or set the desired coordinate reference system directly when adding the basemap using `contextily`. Let's plot our data using `geopandas` and add a default basemap for our plot using `contextily` using in the local EPSG:3067 projection which is the CRS of our grid layer."
   ]
  },
  {
   "cell_type": "code",
   "execution_count": null,
   "metadata": {
    "collapsed": false,
    "jupyter": {
     "outputs_hidden": false
    }
   },
   "outputs": [],
   "source": [
    "# Control figure size in here\n",
    "fig, ax = plt.subplots(figsize=(6, 4))\n",
    "\n",
    "# Plot the data\n",
    "grid.plot(\n",
    "    ax=ax,\n",
    "    column=\"pt_r_t\",\n",
    "    cmap=\"RdYlBu\",\n",
    "    linewidth=0,\n",
    "    scheme=\"Natural_Breaks\",\n",
    "    k=9,\n",
    "    alpha=0.6,\n",
    ")\n",
    "\n",
    "# Set the x and y axis off and adjust padding around the subplot\n",
    "plt.axis(\"off\")\n",
    "plt.tight_layout()\n",
    "\n",
    "# Add basemap and set crs based on the grid layer\n",
    "ctx.add_basemap(ax, crs=grid.crs)"
   ]
  },
  {
   "cell_type": "markdown",
   "metadata": {},
   "source": [
    "_**Figure 8.15**. Static map of travel times visualized on top of a basemap. Data source: Tenkanen & Toivonen 2020; OpenStreetMap contributors 2025._\n",
    "\n",
    "We can change the background map easily using the `source` parameter when adding the basemap. We can also customize the map's credits. `Contextily` automatically adds attribution for the background map, and we can modify this text to include credits for the travel time data alongside OpenStreetMap contributors."
   ]
  },
  {
   "cell_type": "code",
   "execution_count": null,
   "metadata": {
    "collapsed": false,
    "jupyter": {
     "outputs_hidden": false
    },
    "pycharm": {
     "name": "#%%\n"
    }
   },
   "outputs": [],
   "source": [
    "credits = \"Travel time data by Tenkanen & Toivonen (2020),\\n Map Data © OpenStreetMap contributors\""
   ]
  },
  {
   "cell_type": "code",
   "execution_count": null,
   "metadata": {
    "collapsed": false,
    "jupyter": {
     "outputs_hidden": false
    }
   },
   "outputs": [],
   "source": [
    "# Control figure size in here\n",
    "fig, ax = plt.subplots(figsize=(6, 4))\n",
    "\n",
    "# Plot the data\n",
    "grid.plot(\n",
    "    ax=ax,\n",
    "    column=\"pt_r_t\",\n",
    "    cmap=\"RdYlBu\",\n",
    "    linewidth=0,\n",
    "    scheme=\"Natural_Breaks\",\n",
    "    k=9,\n",
    "    alpha=0.6,\n",
    ")\n",
    "\n",
    "# Set the x and y axis off and adjust padding around the subplot\n",
    "plt.axis(\"off\")\n",
    "plt.tight_layout()\n",
    "\n",
    "# Add basemap with basic OpenStreetMap visualization\n",
    "ctx.add_basemap(\n",
    "    ax, attribution=credits, source=ctx.providers.OpenStreetMap.Mapnik, crs=grid.crs\n",
    ")"
   ]
  },
  {
   "cell_type": "markdown",
   "metadata": {},
   "source": [
    "_**Figure 8.16**. Static map of travel times visualized on top of a basemap. Data source: Tenkanen & Toivonen 2020; OpenStreetMap contributors 2025._"
   ]
  },
  {
   "cell_type": "markdown",
   "metadata": {},
   "source": [
    " Let's take a subset of our data to see a bit better the background map characteristics. We can, for example, visualize grid squares from where the central railway station can be reached in less than 15 minutes to get a zoomed-in view of the map:"
   ]
  },
  {
   "cell_type": "code",
   "execution_count": null,
   "metadata": {
    "collapsed": false,
    "jupyter": {
     "outputs_hidden": false
    }
   },
   "outputs": [],
   "source": [
    "# Control figure size in here\n",
    "fig, ax = plt.subplots(figsize=(6, 4))\n",
    "\n",
    "#  Plot only a subset of the data\n",
    "grid.loc[(grid[\"pt_r_t\"] <= 15)].plot(\n",
    "    ax=ax, column=\"pt_r_t\", cmap=\"RdYlBu\", linewidth=0, alpha=0.6\n",
    ")\n",
    "\n",
    "# Set the x and y axis off and adjust padding around the subplot\n",
    "plt.axis(\"off\")\n",
    "plt.tight_layout()\n",
    "\n",
    "# Add basemap with `OSM_A` style\n",
    "ctx.add_basemap(ax, source=ctx.providers.OpenStreetMap.Mapnik, crs=grid.crs)"
   ]
  },
  {
   "cell_type": "markdown",
   "metadata": {},
   "source": [
    "_**Figure 8.17**. Static map of travel times visualized on top of a basemap. Data source: Tenkanen & Toivonen 2020; OpenStreetMap contributors 2025._"
   ]
  },
  {
   "cell_type": "markdown",
   "metadata": {},
   "source": [
    "Now our map has much more details as the zoom level of the background map is larger. This type of map might be useful for quick data exploration purposes. For example, we can observe that most of the short travel times are located in the city center, while the central railway station is also accessible within 15 minutes by public transport from individual locations a bit further away along the train and metro lines (Pasila, Kulosaari and Herttoniemi).\n",
    "\n",
    "`Contextily` sets the zoom level automatically but it is also possible to control the zoom level manually. The zoom level is by default specified as `auto` and it can be changed by passing in a specified [zoom level](https://wiki.openstreetmap.org/wiki/Zoom_levels) as numbers ranging typically from 1 to 19 (the larger the number, the more details your basemap will have). Let's try reducing the level of detail from our map by passing `zoom=12`:\n"
   ]
  },
  {
   "cell_type": "code",
   "execution_count": null,
   "metadata": {
    "collapsed": false,
    "jupyter": {
     "outputs_hidden": false
    }
   },
   "outputs": [],
   "source": [
    "# Control figure size in here\n",
    "fig, ax = plt.subplots(figsize=(6, 4))\n",
    "\n",
    "#  Plot only a subset of the data\n",
    "grid.loc[(grid[\"pt_r_t\"] <= 15)].plot(\n",
    "    ax=ax, column=\"pt_r_t\", cmap=\"RdYlBu\", linewidth=0, alpha=0.6\n",
    ")\n",
    "\n",
    "# Set the x and y axis off and adjust padding around the subplot\n",
    "plt.axis(\"off\")\n",
    "plt.tight_layout()\n",
    "\n",
    "# Add basemap with `OSM_A` style\n",
    "ctx.add_basemap(ax, zoom=12, source=ctx.providers.OpenStreetMap.Mapnik, crs=grid.crs)"
   ]
  },
  {
   "cell_type": "markdown",
   "metadata": {},
   "source": [
    "_**Figure 8.18**. Static map of travel times visualized on top of a basemap. Data source: Tenkanen & Toivonen 2020; OpenStreetMap contributors 2025._\n",
    "\n",
    "With this zoom setting, place names in the bacground map become larger and more readable. "
   ]
  },
  {
   "cell_type": "markdown",
   "metadata": {
    "editable": true,
    "slideshow": {
     "slide_type": ""
    },
    "tags": [
     "question"
    ]
   },
   "source": [
    "#### Question 8.2\n",
    "\n",
    "Explore different background map options and make a final visualization of our travel time data with a basemap, legend and scalebar. "
   ]
  },
  {
   "cell_type": "code",
   "execution_count": null,
   "metadata": {
    "editable": true,
    "slideshow": {
     "slide_type": ""
    },
    "tags": [
     "remove_cell"
    ]
   },
   "outputs": [],
   "source": [
    "# Use this cell to enter your solution."
   ]
  },
  {
   "cell_type": "code",
   "execution_count": null,
   "metadata": {
    "editable": true,
    "slideshow": {
     "slide_type": ""
    },
    "tags": [
     "remove_book_cell",
     "hide-cell"
    ]
   },
   "outputs": [],
   "source": [
    "# Solution\n",
    "\n",
    "# Control figure size in here\n",
    "fig, ax = plt.subplots(figsize=(8, 5))\n",
    "\n",
    "# Visualize the travel times using a classification scheme and add a legend\n",
    "grid.plot(\n",
    "    ax=ax,\n",
    "    column=\"pt_r_t\",\n",
    "    cmap=\"RdYlBu\",\n",
    "    linewidth=0,\n",
    "    scheme=\"user_defined\",\n",
    "    classification_kwds={\"bins\": break_values},\n",
    "    k=9,\n",
    "    alpha=0.5,\n",
    "    legend=True,\n",
    "    legend_kwds={\n",
    "        \"title\": \"Travel times (min)\",\n",
    "        \"bbox_to_anchor\": (1.27, 1),\n",
    "        \"interval\":True,\n",
    "        \"frameon\": False,\n",
    "    },\n",
    ")\n",
    "\n",
    "# Set the x and y axis off and adjust padding around the subplot\n",
    "plt.axis(\"off\")\n",
    "plt.tight_layout()\n",
    "\n",
    "# Add scalebar\n",
    "ax.add_artist(ScaleBar(1, location=\"lower right\", box_alpha=0.5))\n",
    "\n",
    "# Add basemap with basic OpenStreetMap visualization\n",
    "ctx.add_basemap(\n",
    "    ax, attribution=credits, source=ctx.providers.CartoDB.Voyager, crs=grid.crs\n",
    ")"
   ]
  },
  {
   "cell_type": "markdown",
   "metadata": {},
   "source": [
    "## Footnotes\n",
    "[^geopandas_mappingtools]: <https://geopandas.org/en/stable/docs/user_guide/mapping.html> \n",
    "[^matplotlib_pyplot]: <https://matplotlib.org/3.5.3/api/_as_gen/matplotlib.pyplot.html> \n",
    "[^contextily]: <https://github.com/darribas/contextily>\n",
    "[^HSL_opendata]: <https://www.avoindata.fi/data/en_GB/dataset/hsl-n-linjat>\n",
    "[^matplotlib_colormaps]: <https://matplotlib.org/3.1.0/tutorials/colors/colormaps.html#choosing-colormaps-in-matplotlib>\n",
    "[^matplotlib_colors]: <https://matplotlib.org/api/pyplot_api.html#matplotlib.pyplot.colors>\n",
    "[^matplotlib_colorbar]: <https://matplotlib.org/stable/api/_as_gen/matplotlib.pyplot.colorbar.html>\n",
    "[^matplotlib_legend]: <https://matplotlib.org/tutorials/intermediate/legend_guide.html>\n",
    "[^geopandas_scalebar_examples] <https://geopandas.org/en/stable/gallery/matplotlib_scalebar.html#Adding-a-scale-bar-to-a-matplotlib-plot>\n",
    "[^pysal]: <https://pysal.org/> \n",
    "[^mapclassify]: <https://pysal.org/mapclassify/>\n",
    "[^geopandas_choro_legends]: <https://geopandas.org/en/stable/gallery/choro_legends.html>"
   ]
  }
 ],
 "metadata": {
  "kernelspec": {
   "display_name": "Python 3 (ipykernel)",
   "language": "python",
   "name": "python3"
  },
  "language_info": {
   "codemirror_mode": {
    "name": "ipython",
    "version": 3
   },
   "file_extension": ".py",
   "mimetype": "text/x-python",
   "name": "python",
   "nbconvert_exporter": "python",
   "pygments_lexer": "ipython3",
   "version": "3.12.9"
  }
 },
 "nbformat": 4,
 "nbformat_minor": 4
}
