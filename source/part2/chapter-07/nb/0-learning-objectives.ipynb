{
 "cells": [
  {
   "cell_type": "markdown",
   "id": "dc42f212-789b-4115-a134-f621321926f9",
   "metadata": {
    "editable": true,
    "slideshow": {
     "slide_type": ""
    },
    "tags": [
     "learning_objectives"
    ]
   },
   "source": [
    "# Learning objectives"
   ]
  },
  {
   "cell_type": "markdown",
   "id": "516d6250-3e61-4a4e-bc22-233850151637",
   "metadata": {
    "editable": true,
    "slideshow": {
     "slide_type": ""
    },
    "tags": []
   },
   "source": [
    "Chapter 7 provides an overview of raster data processing in Python. You will learn how raster surfaces can be represented and manipulated in Python, how coordinate reference system for a given raster layer can be defined and modified, and learn how to conduct common geocomputational techniques with raster data, such as clipping, masking, merging or reprojecting raster datasets or conducting map algebraic operations between one or multiple raster layers or between raster and vector layers.\n",
    "\n",
    "Basic knowledge of raster data and arrays introduced in Chapter 5.2 as well as knowing how the data structures work in `pandas` (Chapter 3) and `geopandas` (Chapter 6) are recommended for learning efficiently how to use `xarray` and related libraries to work with raster data in Python."
   ]
  },
  {
   "cell_type": "markdown",
   "id": "c033c3e9-1ecb-4f8d-ac47-509c66d7cd45",
   "metadata": {
    "editable": true,
    "slideshow": {
     "slide_type": ""
    },
    "tags": [
     "lo_box"
    ]
   },
   "source": [
    "```{admonition} Learning objectives\n",
    ":class: tip\n",
    "\n",
    "At the end of this chapter, you should be able to:\n",
    "\n",
    "- Represent raster data in Python using the `numpy` arrays\n",
    "- Understand the basic data structures and methods of `xarray` (`Dataset` and `DataArray`)\n",
    "- Execute common raster operations on a single or between multiple raster datasets (select, clip, mask, resample, merge, rasterize, etc.)\n",
    "- Define and reproject the coordinate reference system of a raster \n",
    "- Understand and perform various mathematical operations using map algebra: focal operations, local operations, global operations, zonal operations and incremental operations\n",
    "\n",
    "```"
   ]
  }
 ],
 "metadata": {
  "kernelspec": {
   "display_name": "Python 3 (ipykernel)",
   "language": "python",
   "name": "python3"
  },
  "language_info": {
   "codemirror_mode": {
    "name": "ipython",
    "version": 3
   },
   "file_extension": ".py",
   "mimetype": "text/x-python",
   "name": "python",
   "nbconvert_exporter": "python",
   "pygments_lexer": "ipython3",
   "version": "3.12.9"
  }
 },
 "nbformat": 4,
 "nbformat_minor": 5
}
