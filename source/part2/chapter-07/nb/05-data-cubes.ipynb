{
 "cells": [
  {
   "cell_type": "markdown",
   "id": "64d4d1fc-fd17-46eb-9974-c2044a89120c",
   "metadata": {},
   "source": [
    "# Working with data cubes"
   ]
  },
  {
   "cell_type": "code",
   "execution_count": null,
   "id": "7c1a29fc-9b0d-4537-a895-ded2a48db979",
   "metadata": {},
   "outputs": [],
   "source": []
  }
 ],
 "metadata": {
  "kernelspec": {
   "display_name": "Python 3 (ipykernel)",
   "language": "python",
   "name": "python3"
  },
  "language_info": {
   "codemirror_mode": {
    "name": "ipython",
    "version": 3
   },
   "file_extension": ".py",
   "mimetype": "text/x-python",
   "name": "python",
   "nbconvert_exporter": "python",
   "pygments_lexer": "ipython3",
   "version": "3.12.5"
  }
 },
 "nbformat": 4,
 "nbformat_minor": 5
}
