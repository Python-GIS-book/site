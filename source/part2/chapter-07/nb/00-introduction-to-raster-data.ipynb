{
 "cells": [
  {
   "cell_type": "markdown",
   "id": "3b440d19-85ec-49eb-9747-f9d73b509f7f",
   "metadata": {},
   "source": [
    "# Representing geographic data in raster format\n",
    "\n",
    "**This section is under construction**"
   ]
  },
  {
   "cell_type": "code",
   "execution_count": null,
   "id": "5756ff45-a978-4970-8abf-11cac6bf8f79",
   "metadata": {},
   "outputs": [],
   "source": []
  }
 ],
 "metadata": {
  "kernelspec": {
   "display_name": "Python 3 (ipykernel)",
   "language": "python",
   "name": "python3"
  },
  "language_info": {
   "codemirror_mode": {
    "name": "ipython",
    "version": 3
   },
   "file_extension": ".py",
   "mimetype": "text/x-python",
   "name": "python",
   "nbconvert_exporter": "python",
   "pygments_lexer": "ipython3",
   "version": "3.11.7"
  }
 },
 "nbformat": 4,
 "nbformat_minor": 5
}
