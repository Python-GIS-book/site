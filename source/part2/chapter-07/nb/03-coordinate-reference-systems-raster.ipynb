{
 "cells": [
  {
   "cell_type": "markdown",
   "id": "4b09d16d-66bf-4cca-8d65-8f6f3ac904d2",
   "metadata": {},
   "source": [
    "# Coordinate reference system management"
   ]
  },
  {
   "cell_type": "markdown",
   "id": "ea2dc206-b826-4eca-b752-1203d12679d4",
   "metadata": {},
   "source": [
    "**To be updated**"
   ]
  },
  {
   "cell_type": "code",
   "execution_count": null,
   "id": "63d3c4be-789f-4713-b95c-5b26c9172d7d",
   "metadata": {},
   "outputs": [],
   "source": []
  }
 ],
 "metadata": {
  "kernelspec": {
   "display_name": "Python 3 (ipykernel)",
   "language": "python",
   "name": "python3"
  },
  "language_info": {
   "codemirror_mode": {
    "name": "ipython",
    "version": 3
   },
   "file_extension": ".py",
   "mimetype": "text/x-python",
   "name": "python",
   "nbconvert_exporter": "python",
   "pygments_lexer": "ipython3",
   "version": "3.11.7"
  }
 },
 "nbformat": 4,
 "nbformat_minor": 5
}
