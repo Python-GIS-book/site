{
 "cells": [
  {
   "cell_type": "markdown",
   "id": "4b09d16d-66bf-4cca-8d65-8f6f3ac904d2",
   "metadata": {},
   "source": [
    "# Coordinate reference system management"
   ]
  },
  {
   "cell_type": "markdown",
   "id": "ea2dc206-b826-4eca-b752-1203d12679d4",
   "metadata": {},
   "source": [
    "**To be updated**"
   ]
  },
  {
   "cell_type": "code",
   "execution_count": null,
   "id": "63d3c4be-789f-4713-b95c-5b26c9172d7d",
   "metadata": {},
   "outputs": [],
   "source": []
  },
  {
   "cell_type": "code",
   "execution_count": null,
   "id": "fa272660-42a1-417e-847d-beb4d9b5001b",
   "metadata": {},
   "outputs": [],
   "source": []
  },
  {
   "cell_type": "code",
   "execution_count": 13,
   "id": "40878132-ea31-44ac-98ea-02645fce25b5",
   "metadata": {},
   "outputs": [
    {
     "data": {
      "text/plain": [
       "{'crs_wkt': 'GEOGCS[\"WGS 84\",DATUM[\"WGS_1984\",SPHEROID[\"WGS 84\",6378137,298.257223563,AUTHORITY[\"EPSG\",\"7030\"]],AUTHORITY[\"EPSG\",\"6326\"]],PRIMEM[\"Greenwich\",0,AUTHORITY[\"EPSG\",\"8901\"]],UNIT[\"degree\",0.0174532925199433,AUTHORITY[\"EPSG\",\"9122\"]],AXIS[\"Latitude\",NORTH],AXIS[\"Longitude\",EAST],AUTHORITY[\"EPSG\",\"4326\"]]',\n",
       " 'semi_major_axis': 6378137.0,\n",
       " 'semi_minor_axis': 6356752.314245179,\n",
       " 'inverse_flattening': 298.257223563,\n",
       " 'reference_ellipsoid_name': 'WGS 84',\n",
       " 'longitude_of_prime_meridian': 0.0,\n",
       " 'prime_meridian_name': 'Greenwich',\n",
       " 'geographic_crs_name': 'WGS 84',\n",
       " 'horizontal_datum_name': 'World Geodetic System 1984',\n",
       " 'grid_mapping_name': 'latitude_longitude',\n",
       " 'spatial_ref': 'GEOGCS[\"WGS 84\",DATUM[\"WGS_1984\",SPHEROID[\"WGS 84\",6378137,298.257223563,AUTHORITY[\"EPSG\",\"7030\"]],AUTHORITY[\"EPSG\",\"6326\"]],PRIMEM[\"Greenwich\",0,AUTHORITY[\"EPSG\",\"8901\"]],UNIT[\"degree\",0.0174532925199433,AUTHORITY[\"EPSG\",\"9122\"]],AXIS[\"Latitude\",NORTH],AXIS[\"Longitude\",EAST],AUTHORITY[\"EPSG\",\"4326\"]]',\n",
       " 'GeoTransform': '35.9998611111111 0.000277777777777778 0.0 -1.99986111111111 0.0 -0.000277777777777778'}"
      ]
     },
     "execution_count": 13,
     "metadata": {},
     "output_type": "execute_result"
    }
   ],
   "source": [
    "data.spatial_ref.attrs"
   ]
  },
  {
   "cell_type": "code",
   "execution_count": 14,
   "id": "14c9f4d4-128d-4e4a-a26a-ec47f28a1f3b",
   "metadata": {},
   "outputs": [
    {
     "data": {
      "text/plain": [
       "CRS.from_epsg(4326)"
      ]
     },
     "execution_count": 14,
     "metadata": {},
     "output_type": "execute_result"
    }
   ],
   "source": [
    "data.rio.crs"
   ]
  },
  {
   "cell_type": "code",
   "execution_count": 15,
   "id": "47949ed4-02c4-40ef-b547-c1d81ed5282e",
   "metadata": {},
   "outputs": [
    {
     "data": {
      "text/plain": [
       "4326"
      ]
     },
     "execution_count": 15,
     "metadata": {},
     "output_type": "execute_result"
    }
   ],
   "source": [
    "data.rio.crs.to_epsg()"
   ]
  },
  {
   "cell_type": "code",
   "execution_count": 16,
   "id": "87b2c82a-6c1e-4961-ba2b-0e7b9e2c2278",
   "metadata": {},
   "outputs": [
    {
     "data": {
      "text/plain": [
       "'GEOGCS[\"WGS 84\",DATUM[\"WGS_1984\",SPHEROID[\"WGS 84\",6378137,298.257223563,AUTHORITY[\"EPSG\",\"7030\"]],AUTHORITY[\"EPSG\",\"6326\"]],PRIMEM[\"Greenwich\",0,AUTHORITY[\"EPSG\",\"8901\"]],UNIT[\"degree\",0.0174532925199433,AUTHORITY[\"EPSG\",\"9122\"]],AXIS[\"Latitude\",NORTH],AXIS[\"Longitude\",EAST],AUTHORITY[\"EPSG\",\"4326\"]]'"
      ]
     },
     "execution_count": 16,
     "metadata": {},
     "output_type": "execute_result"
    }
   ],
   "source": [
    "data.rio.crs.to_wkt()"
   ]
  },
  {
   "cell_type": "code",
   "execution_count": 18,
   "id": "8dc42055-e8cd-4050-b9fb-c3dcbc39de6d",
   "metadata": {},
   "outputs": [
    {
     "data": {
      "text/plain": [
       "Affine(0.000277777777777778, 0.0, 35.9998611111111,\n",
       "       0.0, -0.000277777777777778, -1.99986111111111)"
      ]
     },
     "execution_count": 18,
     "metadata": {},
     "output_type": "execute_result"
    }
   ],
   "source": [
    "# Affine transform (how raster is scaled, rotated, skewed, and/or translated)\n",
    "data.rio.transform()"
   ]
  }
 ],
 "metadata": {
  "kernelspec": {
   "display_name": "Python 3 (ipykernel)",
   "language": "python",
   "name": "python3"
  },
  "language_info": {
   "codemirror_mode": {
    "name": "ipython",
    "version": 3
   },
   "file_extension": ".py",
   "mimetype": "text/x-python",
   "name": "python",
   "nbconvert_exporter": "python",
   "pygments_lexer": "ipython3",
   "version": "3.12.5"
  }
 },
 "nbformat": 4,
 "nbformat_minor": 5
}
