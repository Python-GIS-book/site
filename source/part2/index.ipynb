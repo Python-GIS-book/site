{
 "cells": [
  {
   "cell_type": "markdown",
   "id": "601c9b1d-9e7c-4e44-bd66-8bca427d9ded",
   "metadata": {
    "editable": true,
    "slideshow": {
     "slide_type": ""
    },
    "tags": [
     "learning_goals"
    ]
   },
   "source": [
    "# Overview and learning goals"
   ]
  },
  {
   "cell_type": "markdown",
   "id": "dcb67d69-efc0-4fd3-b085-f79d7cdf6e8a",
   "metadata": {
    "editable": true,
    "slideshow": {
     "slide_type": ""
    },
    "tags": []
   },
   "source": [
    "This part of the book introduces how to work with Geographic Information Systems (GIS) and perform spatial data analysis. Chapter 5 provides a general background about why Python can be useful for geographic data analysis and how spatial data are represented on a computer. Chapter 6 focuses on interacting with vector data and common data manipulation operations. Chapter 7 presents how to process raster data and perform common calculations with these data. Chapter 8 introduces various ways to produce static and interactive geographic data visualizations. Chapter 9 describes how to access and use common online geographic data sources, such as OpenStreetMap."
   ]
  },
  {
   "cell_type": "markdown",
   "id": "e739bb32-b9f8-46d6-b0fa-32a98a8e00f9",
   "metadata": {
    "editable": true,
    "slideshow": {
     "slide_type": ""
    },
    "tags": [
     "lg_box"
    ]
   },
   "source": [
    "```{admonition} Learning goals\n",
    ":class: tip\n",
    "\n",
    "At the end of this part, you should be able to:\n",
    "\n",
    "- Explain how GIS data are represented on a computer and common data file formats\n",
    "- Interact with and manipulate geographic vector data\n",
    "- Read and process geographic raster datasets\n",
    "- Create static and interactive geographic data visualizations using various Python libraries\n",
    "- Access and analyze data from a variety of common online geographic data sources\n",
    "\n",
    "```"
   ]
  }
 ],
 "metadata": {
  "kernelspec": {
   "display_name": "Python 3 (ipykernel)",
   "language": "python",
   "name": "python3"
  },
  "language_info": {
   "codemirror_mode": {
    "name": "ipython",
    "version": 3
   },
   "file_extension": ".py",
   "mimetype": "text/x-python",
   "name": "python",
   "nbconvert_exporter": "python",
   "pygments_lexer": "ipython3",
   "version": "3.11.5"
  }
 },
 "nbformat": 4,
 "nbformat_minor": 5
}
