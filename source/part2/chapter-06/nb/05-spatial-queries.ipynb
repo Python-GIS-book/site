{
 "cells": [
  {
   "cell_type": "markdown",
   "id": "f85590df",
   "metadata": {
    "editable": true,
    "slideshow": {
     "slide_type": ""
    },
    "tags": []
   },
   "source": [
    "# Selecting data based on spatial relationships\n",
    "\n",
    "When working with geospatial data, you often need to do specific GIS operations based on how the data layers are located in relation to each other. For instance, finding out if a certain point is located inside an area, or whether a line intersects with another line or a polygon, are very common operations for selecting data based on spatial location. These kind of queries are commonly called as {term}`spatial queries`. Spatial queries are conducted based on the {term}`topological spatial relations` which are fundamental constructs that describe how two or more geometric objects relate to each other concerning their position and boundaries. Topological spatial relations can be exemplified by relationships such as *contains*, *touches* and *intersects* ({cite}`Clementini_1994`). In GIS, the topological relations play a crucial role as they enable queries that are less concerned with the exact coordinates or shapes of geographic entities but more focused on their relative arrangements and positions. For instance, regardless of their exact shape or size, a lake *inside* a forest maintains this relationship even if the forest's boundaries or the lake's size change slightly, as long as the lake remains enclosed by the forest. Next, we will learn a bit more details about these topological relations and how to use them for spatial queries in Python."
   ]
  },
  {
   "cell_type": "markdown",
   "id": "fb19b0eb",
   "metadata": {},
   "source": [
    "## Topological spatial relations\n",
    "\n",
    "Computationally, conducting queries based on topological spatial relations, such as detecting if a point is inside a polygon can be done in different ways, but most GIS software rely on something called {term}`Dimensionally Extended 9-Intersection Model` ([DE-9IM](https://en.wikipedia.org/wiki/DE-9IM) [^DE-9IM]). DE-9IM is an ISO and OGC approved standard and a fundamental framework in GIS that is used to describe and analyze spatial relationships between geometric objects ({cite}`Clementini_1993`). DE-9IM defines the topological relations based on the interior, boundary, and exterior of two geometric shapes and how they intersect with each other (see **Figure 6.31 and Figure 6.32**). When doing this, the DE-9IM also considers the dimensionality of the objects. Considering the dimensionality of geometric objects is important because it determines the nature of spatial relations, influences the complexity of interactions between objects, and defines topological rules. Typically the more dimensions the geometric object has, the more complex the geometry: The Point objects are 0-dimensional, LineString and LinearRing are 1-dimensional and Polygons are 2-dimensional (see Figure **6.31**).   \n",
    "\n",
    "![_**Figure 6.31**. Interior, boundary and exterior for different geometric data types. The data types can be either 0, 1 or 2-dimensional._](../img/DE-9IM_topology_interior_boundary_exterior.png)\n",
    "\n",
    "_**Figure 6.31**. Interior, boundary and exterior for different geometric data types. The data types can be either 0, 1 or 2-dimensional._"
   ]
  },
  {
   "cell_type": "markdown",
   "id": "7596f4ea-d833-4afd-bf5f-e9432699a0cc",
   "metadata": {},
   "source": [
    "We do not go into details about the mathematics of the DI-9IM here, but under the hood the model uses a specific 3x3 intersection matrix to examine the intersections of the interior, boundary and exterior of two geometric objects. This makes it possible to produce a detailed characterization of the geometries' spatial relationship and one can for instance test whether a given Point or LineString is *within* a Polygon (returning True or False). When testing how two geometries relate to each other, the DE-9IM model gives a result which is called {term}`spatial predicate` (also called as {term}`binary predicate`). **Figure 6.32** shows eight common spatial predicates based on the spatial relationship between the geometries ({cite}`Egenhofer_1992`). Many of these predicates, such as *intersects*, *within*, *contains*, *overlaps* and *touches* are commonly used when selecting data for specific area of interest or when joining data from one dataset to another based on the spatial relation between the layers. \n",
    "\n",
    "![_**Figure 6.32**. Eight common spatial predicates formed based on spatial relations between two geometries. Modified after Egenhofer et al. (1992)_.](../img/spatial-relations.png)\n",
    "\n",
    "_**Figure 6.32**. Eight common spatial predicates formed based on spatial relations between two Polygon geometries. Modified after Egenhofer et al. (1992)._"
   ]
  },
  {
   "cell_type": "markdown",
   "id": "692a0466-910b-4f2d-86cc-549aae9754a8",
   "metadata": {
    "editable": true,
    "slideshow": {
     "slide_type": ""
    },
    "tags": []
   },
   "source": [
    "The top row of **Figure 6.32** shows spatial predicates in which the geometries A and B are clearly disjoint from each other, contained or within each other, or identical to each other. When the geometries have at least one point in common, the geometries are said to be *intersecting* with each other. Thus, in this figure, all the comparisons except the first one (disjoint) are True, i.e. the geometries *intersect* with each other. The bottom row shows examples of spatial relationships that are slightly \"special cases\" in one way or another. When two geometries *touch* each other, they have at least one point in common (at the border in this case), but their interiors do not intersect with each other. When the interiors of the geometries A and B are partially on top of each other and partially outside of each other, the geometries are *overlapping* with each other. The spatial predicate for *covers* is when the interior of geometry B is almost totally within A, but they share at least one common coordinate at the border. Similarly, if geometry A is almost totally contained by the geometry B (except at least one common coordinate at the border) the spatial predicate is called *covered by*. These eight examples represent some of the common spatial predicates based on two Polygon shapes. When other shapes are considered (e.g. Points, LineStrings), there are plenty of more topological relations: altogether 512 with 2D data."
   ]
  },
  {
   "cell_type": "markdown",
   "id": "7b5faec4-c702-4128-88de-20e71294b7f8",
   "metadata": {},
   "source": [
    "## Making spatial queries in Python\n",
    "\n",
    "Now as we know the basics of topological spatial relations, we can proceed and see how to make such spatial queries using Python. Luckily, we do not need to worry about the exact DE-9IM implementation ourselves, as these operations are already implemented to shapely and geopandas. With these libraries, we can evaluate the topological relationship between geographical objects easily and efficiently. In Python, all the basic spatial predicates listed in **Figure 6.32** are available from shapely library, including:\n",
    " \n",
    " - `.intersects()`\n",
    " - `.within()`\n",
    " - `.contains()`\n",
    " - `.overlaps()`\n",
    " - `.touches()`\n",
    " - `.covers()`\n",
    " - `.covered_by()`\n",
    " - `.equals()`\n",
    " - `.disjoint()`\n",
    " - `.crosses()`\n",
    "\n",
    "When you want to use Python to find out how two geometric objects are related to each other topologically, you start by creating the geometries using shapely library. In the following, we create a couple of `Point` objects and one `Polygon` object which we can use to test how they relate to each other: "
   ]
  },
  {
   "cell_type": "code",
   "execution_count": 1,
   "id": "75d63678-0160-44b5-bed8-ac7842fe9bd7",
   "metadata": {
    "editable": true,
    "slideshow": {
     "slide_type": ""
    },
    "tags": []
   },
   "outputs": [],
   "source": [
    "from shapely import Point, Polygon\n",
    "\n",
    "# Create Point objects\n",
    "point1 = Point(24.952242, 60.1696017)\n",
    "point2 = Point(24.976567, 60.1612500)\n",
    "\n",
    "# Create a Polygon\n",
    "coordinates = [\n",
    "    (24.950899, 60.169158),\n",
    "    (24.953492, 60.169158),\n",
    "    (24.953510, 60.170104),\n",
    "    (24.950958, 60.169990),\n",
    "]\n",
    "polygon = Polygon(coordinates)"
   ]
  },
  {
   "cell_type": "markdown",
   "id": "60155610-032d-4553-9681-b576f5340bd3",
   "metadata": {
    "collapsed": false,
    "deletable": true,
    "editable": true,
    "jupyter": {
     "outputs_hidden": false
    },
    "slideshow": {
     "slide_type": ""
    },
    "tags": []
   },
   "source": [
    "We can check the contents of the new variables by printing them to the screen, for example, in which case we would see\n",
    "\n",
    "```python\n",
    "print(point1)\n",
    "print(point2)\n",
    "print(polygon)\n",
    "```\n",
    "\n",
    "```\n",
    "POINT (24.952242 60.1696017)\n",
    "POINT (24.976567 60.16125)\n",
    "POLYGON ((24.950899 60.169158, 24.953492 60.169158, 24.95351 60.170104, 24.950...\n",
    "```\n",
    "\n",
    "If you want to test whether these `Point` geometries stored in `point1` and `point2` are within the `polygon`, you can call the `.within()` method as follows:"
   ]
  },
  {
   "cell_type": "code",
   "execution_count": 2,
   "id": "c1ae34be-cc08-4848-92af-ae36a374176e",
   "metadata": {},
   "outputs": [
    {
     "data": {
      "text/plain": [
       "True"
      ]
     },
     "execution_count": 2,
     "metadata": {},
     "output_type": "execute_result"
    }
   ],
   "source": [
    "point1.within(polygon)"
   ]
  },
  {
   "cell_type": "code",
   "execution_count": 3,
   "id": "8a030433-4c09-44c1-ab65-8c8227aa7bd8",
   "metadata": {},
   "outputs": [
    {
     "data": {
      "text/plain": [
       "False"
      ]
     },
     "execution_count": 3,
     "metadata": {},
     "output_type": "execute_result"
    }
   ],
   "source": [
    "point2.within(polygon)"
   ]
  },
  {
   "cell_type": "markdown",
   "id": "174a8853-6dc5-4230-8f50-981e51730cb6",
   "metadata": {},
   "source": [
    "As we can see, the first point seem to be located within the polygon where as the second one isn't."
   ]
  },
  {
   "cell_type": "markdown",
   "id": "a953ca30",
   "metadata": {},
   "source": [
    "One of the most common spatial queries is to see if a geometry intersects or touches another one. Again, there are binary operations in shapely for checking these spatial relationships:\n",
    "\n",
    "- `.intersects()` - Two objects intersect if the boundary or interior of one object intersect in any way with the boundary or interior of the other object.\n",
    "- `.touches()` - Two objects touch if the objects have at least one point in common and their interiors do not intersect with any part of the other object.\n",
    "   \n",
    "Let's try these by creating two `LineString` geometries and test whether they intersect and touch each other:"
   ]
  },
  {
   "cell_type": "code",
   "execution_count": 4,
   "id": "18c3966e",
   "metadata": {
    "deletable": true,
    "editable": true
   },
   "outputs": [],
   "source": [
    "from shapely import LineString, MultiLineString\n",
    "\n",
    "# Create two lines\n",
    "line_a = LineString([(0, 0), (1, 1)])\n",
    "line_b = LineString([(1, 1), (0, 2)])"
   ]
  },
  {
   "cell_type": "code",
   "execution_count": 5,
   "id": "391dd1e7",
   "metadata": {
    "collapsed": false,
    "deletable": true,
    "editable": true,
    "jupyter": {
     "outputs_hidden": false
    }
   },
   "outputs": [
    {
     "data": {
      "text/plain": [
       "True"
      ]
     },
     "execution_count": 5,
     "metadata": {},
     "output_type": "execute_result"
    }
   ],
   "source": [
    "line_a.intersects(line_b)"
   ]
  },
  {
   "cell_type": "code",
   "execution_count": 6,
   "id": "003493a0",
   "metadata": {
    "collapsed": false,
    "deletable": true,
    "editable": true,
    "jupyter": {
     "outputs_hidden": false
    }
   },
   "outputs": [
    {
     "data": {
      "text/plain": [
       "True"
      ]
     },
     "execution_count": 6,
     "metadata": {},
     "output_type": "execute_result"
    }
   ],
   "source": [
    "line_a.touches(line_b)"
   ]
  },
  {
   "cell_type": "markdown",
   "id": "03b69771",
   "metadata": {
    "deletable": true,
    "editable": true
   },
   "source": [
    "As we can see, it seems that our two `LineString` objects are both intersecting and touching each other. We can confirm this by plotting the features together as a `MultiLineString`:"
   ]
  },
  {
   "cell_type": "code",
   "execution_count": 7,
   "id": "e74d1d00",
   "metadata": {
    "collapsed": false,
    "deletable": true,
    "editable": true,
    "jupyter": {
     "outputs_hidden": false
    }
   },
   "outputs": [
    {
     "data": {
      "image/svg+xml": [
       "<svg xmlns=\"http://www.w3.org/2000/svg\" xmlns:xlink=\"http://www.w3.org/1999/xlink\" width=\"100.0\" height=\"100.0\" viewBox=\"-0.08 -0.08 1.1600000000000001 2.16\" preserveAspectRatio=\"xMinYMin meet\"><g transform=\"matrix(1,0,0,-1,0,2.0)\"><g><polyline fill=\"none\" stroke=\"#66cc99\" stroke-width=\"0.0432\" points=\"0.0,0.0 1.0,1.0\" opacity=\"0.8\" /><polyline fill=\"none\" stroke=\"#66cc99\" stroke-width=\"0.0432\" points=\"1.0,1.0 0.0,2.0\" opacity=\"0.8\" /></g></g></svg>"
      ],
      "text/plain": [
       "<MULTILINESTRING ((0 0, 1 1), (1 1, 0 2))>"
      ]
     },
     "execution_count": 7,
     "metadata": {},
     "output_type": "execute_result"
    }
   ],
   "source": [
    "# Create a MultiLineString from line_a and line_b\n",
    "multi_line = MultiLineString([line_a, line_b])\n",
    "multi_line"
   ]
  },
  {
   "cell_type": "markdown",
   "id": "6e7c36a8",
   "metadata": {
    "deletable": true,
    "editable": true
   },
   "source": [
    "_**Figure 6.33**. Two LineStrings that both intersect and touch each other._\n",
    "\n",
    "As we can see, the lines `.touch()` each other because `line_b` continues from the same node ( (1,1) ) where the `line_a` ends.\n",
    "However, if the lines are fully overlapping with each other they don't touch due to the spatial relationship rule in the DE-9IM. We can confirm this by checking if `line_a` touches itself:"
   ]
  },
  {
   "cell_type": "code",
   "execution_count": 8,
   "id": "db184e82",
   "metadata": {
    "collapsed": false,
    "deletable": true,
    "editable": true,
    "jupyter": {
     "outputs_hidden": false
    }
   },
   "outputs": [
    {
     "data": {
      "text/plain": [
       "False"
      ]
     },
     "execution_count": 8,
     "metadata": {},
     "output_type": "execute_result"
    }
   ],
   "source": [
    "line_a.touches(line_a)"
   ]
  },
  {
   "cell_type": "markdown",
   "id": "1370ba5f",
   "metadata": {
    "deletable": true,
    "editable": true,
    "slideshow": {
     "slide_type": ""
    },
    "tags": []
   },
   "source": [
    "No it doesn't. However, `.intersects()` and `.equals()` should produce `True` for a case when we compare the `line_a` with itself:"
   ]
  },
  {
   "cell_type": "code",
   "execution_count": 9,
   "id": "faf369bc",
   "metadata": {
    "deletable": true,
    "editable": true,
    "scrolled": true,
    "slideshow": {
     "slide_type": ""
    },
    "tags": []
   },
   "outputs": [
    {
     "name": "stdout",
     "output_type": "stream",
     "text": [
      "Intersects? True\n",
      "Equals? True\n"
     ]
    }
   ],
   "source": [
    "print(\"Intersects?\", line_a.intersects(line_a))\n",
    "print(\"Equals?\", line_a.equals(line_a))"
   ]
  },
  {
   "cell_type": "markdown",
   "id": "87d36f09-ee7f-4463-a5d0-3efbb0d1bf31",
   "metadata": {
    "editable": true,
    "slideshow": {
     "slide_type": ""
    },
    "tags": [
     "question"
    ]
   },
   "source": [
    "#### Question 6.8\n",
    "\n",
    "Use python to prove that `line_a` and `line_b` are not identical."
   ]
  },
  {
   "cell_type": "code",
   "execution_count": 10,
   "id": "7785d9b2-5919-4117-9528-68afac6986b7",
   "metadata": {
    "editable": true,
    "slideshow": {
     "slide_type": ""
    },
    "tags": [
     "remove_cell"
    ]
   },
   "outputs": [],
   "source": [
    "# Use this cell to enter your solution."
   ]
  },
  {
   "cell_type": "code",
   "execution_count": 11,
   "id": "fc8b235f-44b1-437c-aa4d-921cc3b91355",
   "metadata": {
    "editable": true,
    "slideshow": {
     "slide_type": ""
    },
    "tags": [
     "remove_book_cell",
     "hide-cell"
    ]
   },
   "outputs": [
    {
     "name": "stdout",
     "output_type": "stream",
     "text": [
      "Line a is equal to line b:  False\n"
     ]
    }
   ],
   "source": [
    "# Solution\n",
    "\n",
    "print(\"Line a is equal to line b: \", line_a.equals(line_b))"
   ]
  },
  {
   "cell_type": "markdown",
   "id": "3bf8001e-db2b-4a2c-82aa-ff3dda16460e",
   "metadata": {
    "editable": true,
    "slideshow": {
     "slide_type": ""
    },
    "tags": []
   },
   "source": [
    "Following the syntax from the previous examples, we can test all different spatial predicates and assess the spatial relationship between geometries. The following prints results for all predicates between the `point1` and the `polygon` which we created earlier: "
   ]
  },
  {
   "cell_type": "code",
   "execution_count": 12,
   "id": "8388db3e",
   "metadata": {
    "editable": true,
    "slideshow": {
     "slide_type": ""
    },
    "tags": []
   },
   "outputs": [
    {
     "name": "stdout",
     "output_type": "stream",
     "text": [
      "Intersects? True\n",
      "Within? True\n",
      "Contains? False\n",
      "Overlaps? False\n",
      "Touches? False\n",
      "Covers? False\n",
      "Covered by? True\n",
      "Equals? False\n",
      "Disjoint? False\n",
      "Crosses? False\n"
     ]
    }
   ],
   "source": [
    "print(\"Intersects?\", point1.intersects(polygon))\n",
    "print(\"Within?\", point1.within(polygon))\n",
    "print(\"Contains?\", point1.contains(polygon))\n",
    "print(\"Overlaps?\", point1.overlaps(polygon))\n",
    "print(\"Touches?\", point1.touches(polygon))\n",
    "print(\"Covers?\", point1.covers(polygon))\n",
    "print(\"Covered by?\", point1.covered_by(polygon))\n",
    "print(\"Equals?\", point1.equals(polygon))\n",
    "print(\"Disjoint?\", point1.disjoint(polygon))\n",
    "print(\"Crosses?\", point1.crosses(polygon))"
   ]
  },
  {
   "cell_type": "markdown",
   "id": "53284e61-b2ee-4ada-b99c-d1dd017339f2",
   "metadata": {},
   "source": [
    "Looking at all the spatial predicates, we can see that the spatial relationship between our point and polygon object produces three `True` values: The point and polygon intersect with each other, the point is within the polygon, and the point is covered by the polygon. All the other tests correctly produce `False`, which matches with the logic of the `DE-9IM` standard. \n",
    "\n",
    "It is good to notice that some of these spatial predicates are closely related to each other. For example, the `.within()` and `covered_by()` in our tests produce similar result. Also, `.contains()` is closely related to `within()`. Our `point1` was within the `polygon`, but we can also say that the `polygon` contains `point1`. Hence, both tests produce the same result, but the logic for the relationship is inverse. Which one should you use then? Well, it depends on the situation: \n",
    "\n",
    "-  if you have many points and just one polygon and you try to find out which one of them is inside the polygon: You might need to check the separately for each point to see which one is `.within()` the polygon.\n",
    "-  if you have many polygons and just one point and you want to find out which polygon contains the point: You might need to check separately for each polygon to see which one(s) `.contains()` the point."
   ]
  },
  {
   "cell_type": "markdown",
   "id": "a030a2a1",
   "metadata": {
    "editable": true,
    "slideshow": {
     "slide_type": ""
    },
    "tags": []
   },
   "source": [
    "## Spatial queries using geopandas\n",
    "\n",
    "Now as we have learned how to investigate the spatial relationships between shapely geometries, we can continue and learn how to conduct spatial queries with geopandas `GeoDataFrames`. Conducting spatial queries with geopandas is handy because you can easily compare the spatial relationships between multiple geometries stored in separate `GeoDataFrames`. Next, we will run an example in which we check which points are located within specific areas of Helsinki. Let's start by reading data that contains Polygons for major districts in Helsinki Region, as well as a few point observations that represent addresses around Helsinki that we geocoded in the previous section:"
   ]
  },
  {
   "cell_type": "code",
   "execution_count": 13,
   "id": "2ecf577f",
   "metadata": {
    "deletable": true,
    "editable": true
   },
   "outputs": [],
   "source": [
    "import geopandas as gpd\n",
    "\n",
    "points = gpd.read_file(\"data/Helsinki/addresses.shp\")\n",
    "districts = gpd.read_file(\"data/Helsinki/Major_districts.gpkg\")"
   ]
  },
  {
   "cell_type": "code",
   "execution_count": 14,
   "id": "27e81953-4fc5-42b8-9156-c1c4c319a289",
   "metadata": {},
   "outputs": [
    {
     "name": "stdout",
     "output_type": "stream",
     "text": [
      "Shape: (34, 4)\n",
      "                                             address    id  \\\n",
      "0  Ruoholahti, 14, Itämerenkatu, Ruoholahti, Läns...  1000   \n",
      "1  1, Kampinkuja, Kamppi, Eteläinen suurpiiri, He...  1001   \n",
      "2  Espresso House, 8, Kaivokatu, Keskusta, Kluuvi...  1002   \n",
      "3  Hermannin rantatie, Verkkosaari, Kalasatama, S...  1003   \n",
      "4  9, Tyynenmerenkatu, Jätkäsaari, Länsisatama, E...  1005   \n",
      "\n",
      "                                            addr                   geometry  \n",
      "0       Itämerenkatu 14, 00101 Helsinki, Finland   POINT (24.91556 60.1632)  \n",
      "1          Kampinkuja 1, 00100 Helsinki, Finland  POINT (24.93009 60.16846)  \n",
      "2           Kaivokatu 8, 00101 Helsinki, Finland  POINT (24.94153 60.17016)  \n",
      "3  Hermannin rantatie 1, 00580 Helsinki, Finland   POINT (24.9787 60.19093)  \n",
      "4     Tyynenmerenkatu 9, 00220 Helsinki, Finland    POINT (24.9216 60.1565)  \n"
     ]
    }
   ],
   "source": [
    "print(\"Shape:\", points.shape)\n",
    "print(points.head())"
   ]
  },
  {
   "cell_type": "code",
   "execution_count": 15,
   "id": "c1c3c946-af0a-4ebe-b716-d49cadacf0c4",
   "metadata": {},
   "outputs": [
    {
     "name": "stdout",
     "output_type": "stream",
     "text": [
      "Shape: (23, 3)\n",
      "           Name Description                                           geometry\n",
      "18    Koivukylä              POLYGON Z ((24.99423 60.33296 0, 25.00007 60.3...\n",
      "19      Itäinen              POLYGON Z ((25.03517 60.23627 0, 25.03585 60.2...\n",
      "20  Östersundom              POLYGON Z ((25.23352 60.25655 0, 25.23744 60.2...\n",
      "21     Hakunila              POLYGON Z ((25.08472 60.27248 0, 25.08492 60.2...\n",
      "22        Korso              POLYGON Z ((25.1238 60.34191 0, 25.11997 60.34...\n"
     ]
    }
   ],
   "source": [
    "print(\"Shape:\", districts.shape)\n",
    "print(districts.tail(5))"
   ]
  },
  {
   "cell_type": "markdown",
   "id": "a6f0ee64",
   "metadata": {
    "deletable": true,
    "editable": true
   },
   "source": [
    "The data contains 34 address points and 23 district polygons. For demonstration purposes, we are interested in finding all points that are within two areas in Helsinki region, namely `Itäinen` and `Eteläinen` (*'Eastern'* and *'Southern'* in English). Let's first select the districts using the `.loc` indexer and the listed criteria which we can use with the `.isin()` method to filter the data, as we learned already in Chapter 3:"
   ]
  },
  {
   "cell_type": "code",
   "execution_count": 16,
   "id": "f189a1ba",
   "metadata": {
    "editable": true,
    "slideshow": {
     "slide_type": ""
    },
    "tags": []
   },
   "outputs": [
    {
     "name": "stdout",
     "output_type": "stream",
     "text": [
      "         Name Description                                           geometry\n",
      "10  Eteläinen              POLYGON Z ((24.78277 60.09997 0, 24.81973 60.1...\n",
      "19    Itäinen              POLYGON Z ((25.03517 60.23627 0, 25.03585 60.2...\n"
     ]
    }
   ],
   "source": [
    "selection = districts.loc[districts[\"Name\"].isin([\"Itäinen\", \"Eteläinen\"])]\n",
    "print(selection.head())"
   ]
  },
  {
   "cell_type": "markdown",
   "id": "4a7e243a-cbb8-4e17-9348-d274e8a6eea9",
   "metadata": {},
   "source": [
    "Let's now plot the layers on top of each other. The areas with red color represent the districts that we want to use for testing the spatial relationships against the point layer (shown with blue color):"
   ]
  },
  {
   "cell_type": "code",
   "execution_count": 17,
   "id": "07b4638e",
   "metadata": {
    "deletable": true,
    "editable": true
   },
   "outputs": [
    {
     "data": {
      "text/plain": [
       "<Axes: >"
      ]
     },
     "execution_count": 17,
     "metadata": {},
     "output_type": "execute_result"
    },
    {
     "data": {
      "image/png": "[encoded data removed]",
      "text/plain": [
       "<Figure size 640x480 with 1 Axes>"
      ]
     },
     "metadata": {},
     "output_type": "display_data"
    }
   ],
   "source": [
    "base = districts.plot(facecolor=\"gray\")\n",
    "selection.plot(ax=base, facecolor=\"red\")\n",
    "points.plot(ax=base, color=\"blue\", markersize=5)"
   ]
  },
  {
   "cell_type": "markdown",
   "id": "20d257e0",
   "metadata": {
    "deletable": true,
    "editable": true
   },
   "source": [
    "_**Figure 6.34**. A map of Points and the two Polygon objects (in red) which we want to use for making the selection._\n",
    "\n",
    "As we can see from **Figure 6.34**, many points seem to be within the two selected districts. To find out which of of them are located within the Polygon, we need to conduct a Point in Polygon -query. We can do this by checking which Points in the `points` GeoDataFrame are `.within()` the selected polygons stored in the `selection` GeoDataFrame. Notice that we convert the Polygons into a single `MultiPolygon` by conducting a {term}`unary union` based on the geometries in the `selection` GeoDataFrame. As a result, we get a Series that contains Boolean values (True or False) corresponding to each Point object in the `points` GeoDataFrame:"
   ]
  },
  {
   "cell_type": "code",
   "execution_count": 18,
   "id": "97dce9e3",
   "metadata": {
    "deletable": true,
    "editable": true
   },
   "outputs": [
    {
     "name": "stdout",
     "output_type": "stream",
     "text": [
      "0      True\n",
      "1      True\n",
      "2      True\n",
      "3     False\n",
      "4      True\n",
      "5      True\n",
      "6      True\n",
      "7     False\n",
      "8     False\n",
      "9     False\n",
      "10     True\n",
      "11    False\n",
      "12    False\n",
      "13    False\n",
      "14    False\n",
      "15    False\n",
      "16    False\n",
      "17    False\n",
      "18    False\n",
      "19    False\n",
      "20    False\n",
      "21    False\n",
      "22     True\n",
      "23     True\n",
      "24     True\n",
      "25     True\n",
      "26    False\n",
      "27    False\n",
      "28    False\n",
      "29    False\n",
      "30     True\n",
      "31     True\n",
      "32     True\n",
      "33     True\n",
      "dtype: bool\n"
     ]
    },
    {
     "name": "stderr",
     "output_type": "stream",
     "text": [
      "/var/folders/f7/rhmqxfmx40s4yv9bhh7skq4m0000gp/T/ipykernel_66951/2303775877.py:1: DeprecationWarning: The 'unary_union' attribute is deprecated, use the 'union_all()' method instead.\n",
      "  pip_mask = points.within(selection.unary_union)\n"
     ]
    }
   ],
   "source": [
    "pip_mask = points.within(selection.unary_union)\n",
    "print(pip_mask)"
   ]
  },
  {
   "cell_type": "markdown",
   "id": "08f97487",
   "metadata": {
    "deletable": true,
    "editable": true
   },
   "source": [
    "As as result, we get `True` if the given point is inside the selected Polygons, and `False` if it is not. We can now use this mask array to select the points that are inside the given polygons. Selecting data with this kind of mask array (containing boolean values) is easy by passing the array inside the `loc` indexer:"
   ]
  },
  {
   "cell_type": "code",
   "execution_count": 19,
   "id": "3def0fc2",
   "metadata": {
    "deletable": true,
    "editable": true
   },
   "outputs": [
    {
     "name": "stdout",
     "output_type": "stream",
     "text": [
      "                                              address    id  \\\n",
      "0   Ruoholahti, 14, Itämerenkatu, Ruoholahti, Läns...  1000   \n",
      "1   1, Kampinkuja, Kamppi, Eteläinen suurpiiri, He...  1001   \n",
      "2   Espresso House, 8, Kaivokatu, Keskusta, Kluuvi...  1002   \n",
      "4   9, Tyynenmerenkatu, Jätkäsaari, Länsisatama, E...  1005   \n",
      "5   18, Kontulantie, Kontula, Mellunkylä, Itäinen ...  1006   \n",
      "6   Itäväylä, Vartioharju, Vartiokylä, Itäinen suu...  1007   \n",
      "10  Rautatientori, Keskusta, Kluuvi, Eteläinen suu...  1011   \n",
      "22  1, Tallinnanaukio, Itäkeskus, Vartiokylä, Itäi...  1023   \n",
      "23  Tyynylaavantie, Keski-Vuosaari, Vuosaari, Itäi...  1024   \n",
      "24  Myllypurontie, Myllypuro, Vartiokylä, Itäinen ...  1025   \n",
      "25  Mellunmäenraitio, Mellunmäki, Mellunkylä, Itäi...  1026   \n",
      "30  Kampin keskus, 1, Urho Kekkosen katu, Kamppi, ...  1031   \n",
      "31  Ruoholahdenkatu, Kamppi, Eteläinen suurpiiri, ...  1032   \n",
      "32  3, Tyynenmerenkatu, Jätkäsaari, Länsisatama, E...  1033   \n",
      "33  Oluthuone Kaisla, 4, Vilhonkatu, Kaisaniemi, K...  1034   \n",
      "\n",
      "                                             addr                   geometry  \n",
      "0        Itämerenkatu 14, 00101 Helsinki, Finland   POINT (24.91556 60.1632)  \n",
      "1           Kampinkuja 1, 00100 Helsinki, Finland  POINT (24.93009 60.16846)  \n",
      "2            Kaivokatu 8, 00101 Helsinki, Finland  POINT (24.94153 60.17016)  \n",
      "4      Tyynenmerenkatu 9, 00220 Helsinki, Finland    POINT (24.9216 60.1565)  \n",
      "5         Kontulantie 18, 00940 Helsinki, Finland  POINT (25.08174 60.23522)  \n",
      "6             Itäväylä 3, 00950 Helsinki, Finland   POINT (25.11013 60.2214)  \n",
      "10       Rautatientori 1, 00100 Helsinki, Finland    POINT (24.94262 60.171)  \n",
      "22      Tallinnanaukio 1, 00930 Helsinki, Finland  POINT (25.07805 60.20974)  \n",
      "23      Tyynylaavantie 7, 00980 Helsinki, Finland  POINT (25.13892 60.20716)  \n",
      "24       Myllypurontie 5, 00920 Helsinki, Finland  POINT (25.07606 60.22387)  \n",
      "25    Mellunmäenraitio 6, 00970 Helsinki, Finland  POINT (25.10964 60.23788)  \n",
      "30  Urho Kekkosen katu 1, 00100 Helsinki, Finland  POINT (24.93307 60.16908)  \n",
      "31    Ruoholahdenkatu 17, 00101 Helsinki, Finland  POINT (24.93039 60.16641)  \n",
      "32     Tyynenmerenkatu 3, 00220 Helsinki, Finland  POINT (24.92121 60.15878)  \n",
      "33          Vilhonkatu 4, 00101 Helsinki, Finland  POINT (24.94709 60.17191)  \n"
     ]
    }
   ],
   "source": [
    "pip_data = points.loc[pip_mask]\n",
    "print(pip_data)"
   ]
  },
  {
   "cell_type": "markdown",
   "id": "268b26dd",
   "metadata": {
    "deletable": true,
    "editable": true
   },
   "source": [
    "Let's finally confirm that our Point in Polygon query worked as it should by plotting the points that are within the southern district:"
   ]
  },
  {
   "cell_type": "code",
   "execution_count": 20,
   "id": "4431a771",
   "metadata": {
    "deletable": true,
    "editable": true
   },
   "outputs": [
    {
     "data": {
      "text/plain": [
       "<Axes: >"
      ]
     },
     "execution_count": 20,
     "metadata": {},
     "output_type": "execute_result"
    },
    {
     "data": {
      "image/png": "[encoded data removed]",
      "text/plain": [
       "<Figure size 640x480 with 1 Axes>"
      ]
     },
     "metadata": {},
     "output_type": "display_data"
    }
   ],
   "source": [
    "# Plot polygons\n",
    "ax = districts.plot(facecolor=\"gray\")\n",
    "selection.plot(ax=ax, facecolor=\"red\")\n",
    "\n",
    "# Plot points\n",
    "pip_data.plot(ax=ax, color=\"gold\", markersize=2)"
   ]
  },
  {
   "cell_type": "markdown",
   "id": "7053577a",
   "metadata": {
    "deletable": true,
    "editable": true
   },
   "source": [
    "_**Figure 6.35**. A map showing the Points that were selected as they were within the red Polygons._\n",
    "\n",
    "Perfect! Now we only have the (golden) points that, indeed, are inside the red polygons which is exactly what we wanted. However, why did we use the unary union when doing the `.within()` query, you might wonder? The reason for using `selection.unary_union` is that it creates a single `shapely.MultiPolygon` object out of all geometries in the `selection` GeoDataFrame, and hence makes the spatial query to consider all geometries in the `selection` GeoDataFrame. Without the unary union, the comparisons would be conducted between two `GeoSeries` at row-by-row basis producing most likely unwanted results: the geometry of the first row in the left GeoDataFrame would be compared against the geometry in the first row in the other GeoDataFrame accordingly. Hence, when you want to find out for example \"which points in the left GeoDataFrame are within all polygons in the right GeoDataFrame\", it is recommended to use the `.unary_union`, or some other geometric operation to combine all geometries of the right GeoDataFrame into a single shapely geometry. This is true not only for polygons, but applies similarly to all geometry types. "
   ]
  },
  {
   "cell_type": "markdown",
   "id": "eb80ccae-dde6-4710-9801-fd3b05940670",
   "metadata": {
    "editable": true,
    "slideshow": {
     "slide_type": ""
    },
    "tags": []
   },
   "source": [
    "## Efficient spatial queries using `.sjoin()`\n",
    "\n",
    "In the previous section, we used the more \"traditional\" GeoDataFrame methods for spatial predicates (`.within()`, `.contains()` etc.) to see how two spatial data layers relate with each other. In the following, we will show how to take advantage of a method called `.sjoin()` for doing spatial queries between two GeoDataFrames. Normally, `.sjoin()` method is used for conducting a {term}`spatial join` between two spatial datasets, meaning that specific attribute information from a given GeoDataFrame is joined to the other one based on their topological relationship (see Chapter 6.7 for more details). However, spatial join can also be used as an efficient way to conduct spatial queries between two GeoDataFrames, producing similar results as when using the normal shapely spatial predicates. Consider the following example:  "
   ]
  },
  {
   "cell_type": "code",
   "execution_count": 21,
   "id": "07809b59-4473-4443-9884-34b7fa7c363a",
   "metadata": {
    "editable": true,
    "slideshow": {
     "slide_type": ""
    },
    "tags": []
   },
   "outputs": [],
   "source": [
    "selected_points = points.sjoin(selection.geometry.to_frame())"
   ]
  },
  {
   "cell_type": "code",
   "execution_count": 22,
   "id": "aec6521e-460e-48f4-bc8b-aa20a975517e",
   "metadata": {},
   "outputs": [
    {
     "data": {
      "image/png": "[encoded data removed]",
      "text/plain": [
       "<Figure size 640x480 with 1 Axes>"
      ]
     },
     "metadata": {},
     "output_type": "display_data"
    }
   ],
   "source": [
    "ax = districts.plot(facecolor=\"gray\")\n",
    "ax = selection.plot(ax=ax, facecolor=\"red\")\n",
    "ax = selected_points.plot(ax=ax, color=\"gold\", markersize=2)"
   ]
  },
  {
   "cell_type": "markdown",
   "id": "93a40523-d97a-4ee7-9080-e11cc5c97e14",
   "metadata": {
    "editable": true,
    "slideshow": {
     "slide_type": ""
    },
    "tags": []
   },
   "source": [
    "_**Figure 6.36**. Selecting Points within red Polygons using spatial join technique._\n",
    "\n",
    "As we can see, the `.sjoin()` method here (Figure **6.36**) produces exactly the same results as in the previous example (Figure **6.35**). Notice how we used the `selection.geometry.to_frame()` when calling the `sjoin()` method. This is a special trick to avoid attaching any extra attributes from the `selection` GeoDataFrame to our data, which is what `sjoin()` method would normally do (and which it is actually designed for). As we are only interested in the geometries of the right-hand-side layer to do the selection, calling the `.geometry.to_frame()` will first select the geometry column from the `selection` layer and then converts it into a GeoDataFrame (which would otherwise be a GeoSeries). An alternative approach for doing the same thing is to use `selection[[\"geometry\"]]`, which however assumes that your active geometries are stored in column `\"geometry\"` (which typically is the case, but not necessary always).\n",
    "\n",
    "In a similar manner, we can easily use the `.sjoin()` with the parameter `predicate` to make selections based on how the geometries between two GeoDataFrames are related to each other. By default, the `sjoin()` uses `\"intersects\"` as a spatial predicate, but it is easy to change this. For example, we can investigate which of the districts *contain* at least one point. In this case, we make a spatial join using the `disctricts` GeoDataFrame as a starting point, join the layer with the `points` and use the `\"contains\"` as a value to our `predicate` parameter:"
   ]
  },
  {
   "cell_type": "code",
   "execution_count": 23,
   "id": "c863fcd7-3681-49d4-8e08-527833b2e6de",
   "metadata": {
    "editable": true,
    "slideshow": {
     "slide_type": ""
    },
    "tags": []
   },
   "outputs": [],
   "source": [
    "districts_with_points = districts.sjoin(\n",
    "    points.geometry.to_frame(), predicate=\"contains\"\n",
    ")"
   ]
  },
  {
   "cell_type": "code",
   "execution_count": 24,
   "id": "7a1fbe33-e7c2-4a29-a648-04a7fc0aad59",
   "metadata": {},
   "outputs": [
    {
     "data": {
      "image/png": "[encoded data removed]",
      "text/plain": [
       "<Figure size 640x480 with 1 Axes>"
      ]
     },
     "metadata": {},
     "output_type": "display_data"
    }
   ],
   "source": [
    "ax = districts.plot(facecolor=\"gray\")\n",
    "ax = districts_with_points.plot(ax=ax, edgecolor=\"gray\")\n",
    "ax = points.plot(ax=ax, color=\"red\", markersize=2)"
   ]
  },
  {
   "cell_type": "markdown",
   "id": "ae53877c-bd95-4d61-959e-f5dfcfe4fd9e",
   "metadata": {},
   "source": [
    "_**Figure 6.37**. Polygons that contain at least one Point object._\n",
    "\n",
    "As a result, we can now see that all the polygons marked with blue color were correctly selected as those ones which contain at least one point object. One important thing to remember whenever making spatial queries is that both layers need to share the same Coordinate Reference System for the selection to work properly. A typical reason for getting incorrect results when selecting data (likely an empty GeoDataFrame) is that one data layer is e.g. in WGS84 coordinate reference system whereas the other one is in some projected CRS, such as ETRS-LAEA. If this happens, you can easily fix the situation by defining and reprojecting both GeoDataFrames to same CRS using the `to_crs()` method (see Chapter 6.4).  \n",
    "\n",
    "Following the previous examples, you can easily test other topological relationships as well, by changing the value in `predicate` parameter. To find all possible spatial predicates for a given GeoDataFrame you can call:"
   ]
  },
  {
   "cell_type": "code",
   "execution_count": 25,
   "id": "3ef7ecab-6731-4472-b8c1-f88595205439",
   "metadata": {},
   "outputs": [
    {
     "data": {
      "text/plain": [
       "{None,\n",
       " 'contains',\n",
       " 'contains_properly',\n",
       " 'covered_by',\n",
       " 'covers',\n",
       " 'crosses',\n",
       " 'dwithin',\n",
       " 'intersects',\n",
       " 'overlaps',\n",
       " 'touches',\n",
       " 'within'}"
      ]
     },
     "execution_count": 25,
     "metadata": {},
     "output_type": "execute_result"
    }
   ],
   "source": [
    "districts.sindex.valid_query_predicates"
   ]
  },
  {
   "cell_type": "markdown",
   "id": "582113b9-25ad-4d7e-ba96-1d3ff909be87",
   "metadata": {},
   "source": [
    "As you can see, this list includes all typical spatial predicates which we covered earlier. But what is this `.sindex` that we use here? Let's investigate it a bit further: "
   ]
  },
  {
   "cell_type": "code",
   "execution_count": 26,
   "id": "a1a4f848-5c59-44f3-a3f4-fa53452003cc",
   "metadata": {},
   "outputs": [
    {
     "data": {
      "text/plain": [
       "<geopandas.sindex.SpatialIndex at 0x16905c050>"
      ]
     },
     "execution_count": 26,
     "metadata": {},
     "output_type": "execute_result"
    }
   ],
   "source": [
    "districts.sindex"
   ]
  },
  {
   "cell_type": "markdown",
   "id": "2b64b5a0-89ee-4624-95a4-b1d696979648",
   "metadata": {
    "editable": true,
    "slideshow": {
     "slide_type": ""
    },
    "tags": []
   },
   "source": [
    "As we can see, the `.sindex` is something called `PyGEOSSSTRTreeIndex` object. This is something that geopandas prepares automatically for GeoDataFrames and it contains the {term}`spatial index` for our data. A spatial index is a special data structure that allows for efficient querying of spatial data. There are many different kind of spatial indices, but geopandas uses a spatial index called R-tree which is a hierarchical, tree-like structure that divides the space into nested, overlapping rectangles and indexes the bounding boxes of each geometry. The spatial index improves the performance of spatial queries, such as finding all objects that intersect with a given area. The `.sjoin()` method takes advantage of the spatial index and is therefore an extremely powerful and makes the queries faster (see Appendix 5 for further details). This comes very practical especially when working with large datasets and doing e.g. a point-in-polygon type of queries with millions of point observations. Hence, when selecting data based on topological relations, we recommend using `.sjoin()` instead of directly calling `.within()`, `.contains()` or other predicates as we saw previously. "
   ]
  },
  {
   "cell_type": "markdown",
   "id": "ad546be7-fd52-4049-b710-e3902532c4e7",
   "metadata": {
    "editable": true,
    "slideshow": {
     "slide_type": ""
    },
    "tags": [
     "question"
    ]
   },
   "source": [
    "#### Question 6.9\n",
    "\n",
    "How many addresses are located in each district? You can find out the answer by grouping the spatial join result based the district name (see Part I, chapter 3 for a reminder on how to group and aggregate data). "
   ]
  },
  {
   "cell_type": "code",
   "execution_count": 27,
   "id": "23d56e04-3409-4553-bf38-d65c7ac4f2ea",
   "metadata": {
    "editable": true,
    "slideshow": {
     "slide_type": ""
    },
    "tags": [
     "remove_cell"
    ]
   },
   "outputs": [],
   "source": [
    "# Use this cell to enter your solution."
   ]
  },
  {
   "cell_type": "code",
   "execution_count": 28,
   "id": "555f0d06-3a88-43ec-8a7c-f169f31b1983",
   "metadata": {
    "editable": true,
    "slideshow": {
     "slide_type": ""
    },
    "tags": [
     "remove_book_cell",
     "hide-cell"
    ]
   },
   "outputs": [
    {
     "name": "stdout",
     "output_type": "stream",
     "text": [
      "['Name' 'Description' 'geometry' 'index_right']\n"
     ]
    },
    {
     "data": {
      "text/plain": [
       "Name\n",
       "Eteläinen     9\n",
       "Itäinen       6\n",
       "Kaakkoinen    2\n",
       "Keskinen      4\n",
       "Koillinen     5\n",
       "Läntinen      6\n",
       "Pohjoinen     2\n",
       "Name: index_right, dtype: int64"
      ]
     },
     "execution_count": 28,
     "metadata": {},
     "output_type": "execute_result"
    }
   ],
   "source": [
    "# Solution\n",
    "\n",
    "# Check column names in the spatial join result\n",
    "print(districts_with_points.columns.values)\n",
    "\n",
    "# Group by district name\n",
    "grouped = districts_with_points.groupby(\"Name\")\n",
    "\n",
    "# Count the number of rows (adress locations) in each district\n",
    "grouped.index_right.count()"
   ]
  },
  {
   "cell_type": "markdown",
   "id": "7015172a-80b7-483c-a64e-ace2224ac5dd",
   "metadata": {
    "editable": true,
    "slideshow": {
     "slide_type": ""
    },
    "tags": []
   },
   "source": [
    "## Footnotes\n",
    "\n",
    "[^DE-9IM]: <https://en.wikipedia.org/wiki/DE-9IM>"
   ]
  }
 ],
 "metadata": {
  "kernelspec": {
   "display_name": "Python 3 (ipykernel)",
   "language": "python",
   "name": "python3"
  },
  "language_info": {
   "codemirror_mode": {
    "name": "ipython",
    "version": 3
   },
   "file_extension": ".py",
   "mimetype": "text/x-python",
   "name": "python",
   "nbconvert_exporter": "python",
   "pygments_lexer": "ipython3",
   "version": "3.12.5"
  }
 },
 "nbformat": 4,
 "nbformat_minor": 5
}
