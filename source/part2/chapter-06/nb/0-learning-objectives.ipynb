{
 "cells": [
  {
   "cell_type": "markdown",
   "id": "dc42f212-789b-4115-a134-f621321926f9",
   "metadata": {
    "editable": true,
    "slideshow": {
     "slide_type": ""
    },
    "tags": [
     "learning_objectives"
    ]
   },
   "source": [
    "# Learning objectives"
   ]
  },
  {
   "cell_type": "markdown",
   "id": "516d6250-3e61-4a4e-bc22-233850151637",
   "metadata": {
    "editable": true,
    "slideshow": {
     "slide_type": ""
    },
    "tags": []
   },
   "source": [
    "Chapter six provides an overview of vector data processing in Python. Basic knowledge of the pandas library for tabular data that was introduced in Part I is a prerequisite for learning to use geopandas for spatial data analysis in this section.\n",
    "\n",
    "This chapter introduces how geographic objects can be represented and manipulated in Python, and provides an overview of coordinate reference systems, common geometric operations, spatial queries and other spatial analysis processes such as geocoding, nearest neighbor analysis, and geographic overlay analysis. \n",
    "\n"
   ]
  },
  {
   "cell_type": "markdown",
   "id": "c033c3e9-1ecb-4f8d-ac47-509c66d7cd45",
   "metadata": {
    "editable": true,
    "slideshow": {
     "slide_type": ""
    },
    "tags": [
     "lo_box"
    ]
   },
   "source": [
    "```{admonition} Learning objectives\n",
    ":class: tip\n",
    "\n",
    "At the end of this chapter, you should be able to:\n",
    "\n",
    "- Represent geographic vector objects in Python using the shapely library\n",
    "- Understand the basic data structures and methods of geopandas GeoDataFrames\n",
    "- Execute common geometric operations with points, lines and polygons\n",
    "- Understand what coordinate reference systems (CRS) are\n",
    "- Define and reproject the CRS of a spatial dataset\n",
    "- Geocode addresses to coordinates using Python\n",
    "- Perform spatial queries and spatial join operations\n",
    "- Conduct nearest neighbor analysis\n",
    "- Perform various geographic overlay analysis\n",
    "\n",
    "```"
   ]
  }
 ],
 "metadata": {
  "kernelspec": {
   "display_name": "Python 3 (ipykernel)",
   "language": "python",
   "name": "python3"
  },
  "language_info": {
   "codemirror_mode": {
    "name": "ipython",
    "version": 3
   },
   "file_extension": ".py",
   "mimetype": "text/x-python",
   "name": "python",
   "nbconvert_exporter": "python",
   "pygments_lexer": "ipython3",
   "version": "3.11.5"
  }
 },
 "nbformat": 4,
 "nbformat_minor": 5
}
