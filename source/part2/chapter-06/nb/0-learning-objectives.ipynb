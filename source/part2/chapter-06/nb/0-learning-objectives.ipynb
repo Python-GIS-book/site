{
 "cells": [
  {
   "cell_type": "markdown",
   "id": "dc42f212-789b-4115-a134-f621321926f9",
   "metadata": {
    "editable": true,
    "slideshow": {
     "slide_type": ""
    },
    "tags": [
     "learning_objectives"
    ]
   },
   "source": [
    "# Learning objectives"
   ]
  },
  {
   "cell_type": "markdown",
   "id": "516d6250-3e61-4a4e-bc22-233850151637",
   "metadata": {
    "editable": true,
    "slideshow": {
     "slide_type": ""
    },
    "tags": []
   },
   "source": [
    "Chapter six provides an overview of vector data processing in Python. Basic knowledge of tabular data manipulation using the pandas library introduced in Part I is a prerequisite for learning to use geopandas for spatial data analysis in this section.\n",
    "\n",
    "This chapter introduces how geographic objects can be represented and manipulated in Python, and provides an overview of coordinate reference systems, common geometric operations, spatial queries and other spatial analysis processes such as geocoding, nearest neighbor analysis, and geographic overlay analysis. "
   ]
  },
  {
   "cell_type": "markdown",
   "id": "c033c3e9-1ecb-4f8d-ac47-509c66d7cd45",
   "metadata": {
    "editable": true,
    "slideshow": {
     "slide_type": ""
    },
    "tags": [
     "lo_box"
    ]
   },
   "source": [
    "```{admonition} Learning objectives\n",
    ":class: tip\n",
    "\n",
    "At the end of this chapter, you should be able to:\n",
    "\n",
    "- Represent geographic vector objects in Python using the shapely library\n",
    "- Understand the basic data structures and methods of geopandas GeoDataFrames\n",
    "- Execute common geometric operations with points, lines and polygons\n",
    "- Define and reproject the coordinate reference system of a spatial dataset\n",
    "- Geocode addresses to coordinates using Python\n",
    "- Perform spatial queries and spatial join operations\n",
    "- Conduct nearest neighbor analysis\n",
    "- Perform various geographic overlay analysis\n",
    "\n",
    "```"
   ]
  },
  {
   "cell_type": "code",
   "execution_count": null,
   "id": "c7f053e3-669a-491b-a6d8-2b4147755906",
   "metadata": {},
   "outputs": [],
   "source": []
  }
 ],
 "metadata": {
  "kernelspec": {
   "display_name": "Python 3 (ipykernel)",
   "language": "python",
   "name": "python3"
  },
  "language_info": {
   "codemirror_mode": {
    "name": "ipython",
    "version": 3
   },
   "file_extension": ".py",
   "mimetype": "text/x-python",
   "name": "python",
   "nbconvert_exporter": "python",
   "pygments_lexer": "ipython3",
   "version": "3.11.5"
  }
 },
 "nbformat": 4,
 "nbformat_minor": 5
}
