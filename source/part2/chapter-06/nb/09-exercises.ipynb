{
 "cells": [
  {
   "cell_type": "markdown",
   "id": "1c4e1613",
   "metadata": {},
   "source": [
    "# Exercises\n",
    "\n",
    "**Under construction**\n"
   ]
  }
 ],
 "metadata": {
  "kernelspec": {
   "display_name": "Python 3 (ipykernel)",
   "language": "python",
   "name": "python3"
  },
  "language_info": {
   "codemirror_mode": {
    "name": "ipython",
    "version": 3
   },
   "file_extension": ".py",
   "mimetype": "text/x-python",
   "name": "python",
   "nbconvert_exporter": "python",
   "pygments_lexer": "ipython3",
   "version": "3.11.5"
  }
 },
 "nbformat": 4,
 "nbformat_minor": 5
}
