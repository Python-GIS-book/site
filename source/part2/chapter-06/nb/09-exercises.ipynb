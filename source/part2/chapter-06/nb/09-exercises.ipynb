{
 "cells": [
  {
   "cell_type": "markdown",
   "id": "1c4e1613",
   "metadata": {},
   "source": [
    "# Exercises\n",
    "\n",
    "### Exercise 6.1 - Geometric Objects\n",
    "\n",
    "Refresh your memory about `shapely` objects and \n",
    "\n",
    "1. Create a `LineString` that goes trough at least three points. What is the length of your line?\n",
    "2. Create a `shapely` `Point` and create a buffer around it. What is the area of the buffer?"
   ]
  },
  {
   "cell_type": "markdown",
   "id": "1fb2c17f-6b94-402f-b69f-d7cc3f27865f",
   "metadata": {},
   "source": [
    "### Exercise 6.2 - From text file to GeoDataFrame"
   ]
  },
  {
   "cell_type": "markdown",
   "id": "b1ccc995-0ad6-4d42-8ab4-fb269843cbcd",
   "metadata": {},
   "source": [
    "The goal of this exercise is to create geometries based on text file input in Python. You will combine basic knowledge of the `pandas` module (see Part I) with `geopandas` methods introduced in this chapter. The text file **[travelTimes_2015_Helsinki.txt](data/travelTimes_2015_Helsinki.txt)** is located in the data folder and consist of travel times between multiple origin locations and one destination location. This file is an extract of the Helsinki Region Travel Time Matrix dataset - an open data set that contains multimodal travel time information across the Helsinki Region in Finland (ref). Here, we will focus on the public transport travel times to the Helsinki railway station. \n",
    "\n",
    "The first four rows of our data look like this:\n",
    "\n",
    "```\n",
    "   from_id;to_id;fromid_toid;route_number;at;from_x;from_y;to_x;to_y;total_route_time;route_time;route_distance\n",
    "   5861326;5785640;5861326_5785640;1;08:10;24.9704379;60.3119173;24.8560344;60.399940599999994;125.0;99.0;22917.6\n",
    "   5861326;5785641;5861326_5785641;1;08:10;24.9704379;60.3119173;24.8605682;60.4000135;123.0;102.0;23123.5\n",
    "   5861326;5785642;5861326_5785642;1;08:10;24.9704379;60.3119173;24.865102;60.4000863;125.0;103.0;23241.3\n",
    "```\n",
    "\n",
    "In this exercise, we are interested in these columns:\n",
    "\n",
    "| Column | Description |\n",
    "|--------|-------------|\n",
    "| from_x | x-coordinate of the **origin** location (longitude) |\n",
    "| from_y | y-coordinate of the **origin** location (latitude) |\n",
    "| to_x   | x-coordinate of the **destination** location (longitude)|\n",
    "| to_y   | y-coordinate of the **destination** location (latitude) |\n",
    "| total_route_time | Travel time with public transportation at the route |\n",
    "\n",
    "Your task is to read in the file and create two new colums with `Point` objects representing the origin and destination points. Problems 1-3 will guide you through the necessary steps.\n"
   ]
  },
  {
   "cell_type": "markdown",
   "id": "2fca1a92-f410-4cd6-a4e6-b2f555edec99",
   "metadata": {},
   "source": [
    "#### Problem 1: Read the file\n",
    "\n",
    "- Import required modules.\n",
    "- Read in the text file using `pandas` into a variable called `data` and subset the `DataFrame` to contain only those columns we are interested in\n",
    "- Check that data looks ok\n"
   ]
  },
  {
   "cell_type": "markdown",
   "id": "1d166507-2e94-4673-810a-2e359228e96c",
   "metadata": {},
   "source": [
    "#### Problem 2: Create Point geometries\n",
    "\n",
    "Continue working with the `DataFrame`:\n",
    "- Create new columns `from_geom` and `to_geom`\n",
    "- Populate these columns with point objects that represent the origin and destination geometries using the `points_from_xy()` function in `geopandas`:\n",
    "    - `from_geom` based on columns `from_x` and `from_y`\n",
    "    - `to_geom` based on columns `to_x` and `to_y`\n"
   ]
  },
  {
   "cell_type": "markdown",
   "id": "c06eddd0-b936-4389-9767-6e2d14b71891",
   "metadata": {},
   "source": [
    "#### Problem 3: Create LineString geometries\n",
    "\n",
    "Continue working with the `DataFrame` and create `LineString` `shapely` objects based on the origin and destination point coordinates:\n",
    "\n",
    "- Create new column `route_geom`\n",
    "- Populate the new columns with `LineString` objects that represent a straight line between each origin (`from_geom`) and destination (`to_geom`) coordinates.\n",
    "\n",
    "- You can achieve this at least in two different ways:\n",
    "    - Option 1: Apply a lambda-function on the `DataFrame` that creates a `LineString` based on `from_geom` and `to_geom` columns for each row (`axis=1`).\n",
    "    - Option 2: Use `zip()` and a `for`-loop to create the `LineString` for each coorinate pair. You can store the `LineStrings` in a list inside the loop and outside the loop insert the list into the `route_geom` column.\n"
   ]
  },
  {
   "cell_type": "markdown",
   "id": "66aed511-4f31-45a8-98b9-11f49c71dd67",
   "metadata": {},
   "source": [
    "#### Problem 4: Convert DataFrame into a GeoDataFrame\n",
    "\n",
    "Convert the `DataFrame` into a `GeoDataFrame`. While doing this, you should:\n",
    "- Define `route_geom` as the geometry column.\n",
    "- Set a coordinate reference system for the data. Think carefully what is the correct crs definition for the input coordinates.\n",
    "\n",
    "Check the result. "
   ]
  },
  {
   "cell_type": "markdown",
   "id": "f37e98d6-d169-434d-bf4b-d9b7e2befde5",
   "metadata": {},
   "source": [
    "#### Problem 5: Re-project the data\n",
    "\n",
    "Our data is located in the Helsinki Region, Finland and the data should be converted into a projected coordinate reference system if we want to draw maps or measure distances. \n",
    "\n",
    "- Check the crs definition of the data. \n",
    "- Re-project the data into ETRS89 / TM35FIN (EPSG:3067).\n",
    "- Check the result. You should notice that the `route_geom` coordinate values have changed."
   ]
  },
  {
   "cell_type": "markdown",
   "id": "b8ea129f-6336-429f-ba7f-ec1c2425eea8",
   "metadata": {},
   "source": [
    "#### Problem 6: Calculate average trip distance\n",
    "\n",
    "Now that we have the `GeoDataFrame` in a projected coordinate reference system we can calculate some distance metrics based on the line objects.\n",
    "\n",
    "- Calculate the lenght of each route based on the `route_geom` column.\n",
    "- Add the length information into a new column `route_length`.\n",
    "- Generate descriptive statistics of route lengths. What is the median route length?"
   ]
  },
  {
   "cell_type": "markdown",
   "id": "5dd958cd-79ae-4d52-8db0-ddd4b1889cb7",
   "metadata": {},
   "source": [
    "### Exercise 6.3 - Buffer and spatial join\n",
    "\n",
    "In this exercise your task is to find out how many people live within a 500 meter buffer zone from the nearest transit station in Helsinki. We will re-use data from chapter six. Locations of transit stations is available in the file `data/Helsinki/addresses.shp`. Population information is available in the file `data/Helsinki/Population_grid_2021_HSY.gpkg`.\n",
    "\n",
    "You should join the buffers with the population information based on the spatial intersection of the buffer polygons and the population grid polygon centroids. Follow these steps to achieve the wanted result:\n",
    "\n",
    "1. Create a 500 meter buffer around each transit station\n",
    "2. Convert the population grid geometries (polygons) into points based on the grid centroid\n",
    "3. Codunct a spatial join where you find out which points are located within each buffer and join information about the buffer into each point\n",
    "4. Aggregate the results for each buffer so that you get population sum per buffer\n",
    "5. Sum up the results to get total number of people living within 500 meters from the nearest transit station."
   ]
  }
 ],
 "metadata": {
  "kernelspec": {
   "display_name": "Python 3 (ipykernel)",
   "language": "python",
   "name": "python3"
  },
  "language_info": {
   "codemirror_mode": {
    "name": "ipython",
    "version": 3
   },
   "file_extension": ".py",
   "mimetype": "text/x-python",
   "name": "python",
   "nbconvert_exporter": "python",
   "pygments_lexer": "ipython3",
   "version": "3.12.5"
  }
 },
 "nbformat": 4,
 "nbformat_minor": 5
}
