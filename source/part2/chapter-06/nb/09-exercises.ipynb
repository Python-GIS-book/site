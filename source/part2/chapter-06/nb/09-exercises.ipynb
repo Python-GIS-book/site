{
 "cells": [
  {
   "cell_type": "markdown",
   "id": "1c4e1613",
   "metadata": {},
   "source": [
    "# Exercises\n",
    "\n",
    "### Exercise 6.1 - Geometric objects\n",
    "\n",
    "In this exercise your task is to create custom functions for creating geometries. We start with a very simple function, and proceed to creating functions that can handle invalid input values. In addition to the contents of chapter 6, you will need basic knowledge of creating functions (see Part I chapter 2.6) and using assertions (see Appendix).\n",
    "\n",
    "#### Problem 1\n",
    "\n",
    "Create a simple function called `create_point_geom()` that has two parameters (`x_coord`, `y_coord`). The function should return a `shapely` `Point`  object. Demonstrate the use of the function.\n",
    "\n",
    "You can test your function with these code snippets: \n",
    "\n",
    "```\n",
    "point1 = create_point_geom(0.0, 1.1)\n",
    "print(point1.geom_type)\n",
    "```"
   ]
  },
  {
   "cell_type": "markdown",
   "id": "9406449a-d9cf-4bf2-91b2-660c896da563",
   "metadata": {},
   "source": [
    "#### Problem 2\n",
    "\n",
    "Create a function called `create_line_geom()` that takes a list of `shapely` `Point` objects as parameter called `points` and returns a `LineString` object based on those input points. The function should: \n",
    "\n",
    "- Check that the parameter `points` is a list. You can do this by using the `assert` -functionality\n",
    "- If the `points` parameter is something else than a list, the function should return an Error message: `\"Input should be a list!\"`\n",
    "- Check that the input list contains at least two values (again, using `assert`). If not, return an Error message: `\"LineString object requires at least two Points!\"`\n",
    "- (optional) check that all values in the input list are truly `shapely` `Points`. If not, return an Error message: `\"All list values should be Shapely Point objects!\"`\n",
    "\n",
    "You can test your function with these code snippets: \n",
    "\n",
    "```\n",
    "# Demonstrate basic usage\n",
    "line1 = create_line_geom([Point(45.2, 22.34), Point(100.22, -3.20)])\n",
    "print(line1.geom_type)\n",
    "```\n",
    "```\n",
    "# Check if the assertion error works correctly with false input\n",
    "try:\n",
    "    # Pass something else than a list\n",
    "    create_line_geom(45.2, 22.34, 100.22, -3.20)\n",
    "except AssertionError:\n",
    "    print(\"Found an assertion error. List check works correctly.\")\n",
    "except Exception as e:\n",
    "    raise e\n",
    "```"
   ]
  },
  {
   "cell_type": "markdown",
   "id": "046cd788-cd3b-45c2-b96c-26018bb5b8ae",
   "metadata": {},
   "source": [
    "#### Problem 3\n",
    "\n",
    "Create a function called `create_poly_geom()` that has one parameter called `coords` which should contain a list of coordinate tuples. The function should create and return a `Polygon` object based on these coordinates. The function should:  \n",
    "\n",
    "  -  Check with `assert` -functionality that the input is a list. If something else than a list is passed for the function, you should return an Error message: `\"Input should be a list!\"`\n",
    "  - You should also check with `assert` that the input list contains at least three values. If not, return an Error message: `\"Polygon object requires at least three Points!\"`\n",
    "  - Check the data type of the objects in the input list. All values in the input list should be tuples. If not, return an error message: \"All list values should be coordinate tuples!\" using assert.\n",
    "  - **Optional:** Allow also an input containing a list of `shapely` `Point` objects, in which case the function should return a polygon based on these points. If the input is neither a list of tuples, nor a list of points, return an appropriate error message using `assert`.\n",
    "\n",
    "You can test your function with these code snippets:\n",
    "\n",
    "```\n",
    "# Demonstrate basic usage\n",
    "poly1 = create_poly_geom([(45.2, 22.34), (100.22, -3.20), (33.33, 0)])\n",
    "print(poly1.geom_type)\n",
    "```\n",
    "\n",
    "```\n",
    "# Check if the assertion error works correctly with false input\n",
    "try:\n",
    "    # Pass something else than a list\n",
    "    create_poly_geom(\"Give me a polygon\")\n",
    "except AssertionError:\n",
    "    print(\"List check works\")\n",
    "except Exception as e:\n",
    "    raise e\n",
    "```"
   ]
  },
  {
   "cell_type": "markdown",
   "id": "cff58c7e-9826-4539-8ee1-72c4994b1e4a",
   "metadata": {},
   "source": [
    "#### Problem 4\n",
    "\n",
    "Did you add a docstring to all the functions you defined? If not, add them now! A short one-line docstring is enough in this exercise."
   ]
  },
  {
   "cell_type": "markdown",
   "id": "1fb2c17f-6b94-402f-b69f-d7cc3f27865f",
   "metadata": {},
   "source": [
    "### Exercise 6.2 - From text file to GeoDataFrame"
   ]
  },
  {
   "cell_type": "markdown",
   "id": "b1ccc995-0ad6-4d42-8ab4-fb269843cbcd",
   "metadata": {},
   "source": [
    "The goal of this exercise is to create geometries based on text file input in Python. You will combine basic knowledge of the `pandas` module (see Part I) with `geopandas` methods introduced in this chapter. The text file **[travelTimes_2015_Helsinki.txt](data/travelTimes_2015_Helsinki.txt)** is located in the data folder and consist of travel times between multiple origin locations and one destination location. This file is an extract of the Helsinki Region Travel Time Matrix dataset - an open data set that contains multimodal travel time information across the Helsinki Region in Finland (ref). Here, we will focus on the public transport travel times to the Helsinki railway station. \n",
    "\n",
    "The first four rows of our data look like this:\n",
    "\n",
    "```\n",
    "   from_id;to_id;fromid_toid;route_number;at;from_x;from_y;to_x;to_y;total_route_time;route_time;route_distance\n",
    "   5861326;5785640;5861326_5785640;1;08:10;24.9704379;60.3119173;24.8560344;60.399940599999994;125.0;99.0;22917.6\n",
    "   5861326;5785641;5861326_5785641;1;08:10;24.9704379;60.3119173;24.8605682;60.4000135;123.0;102.0;23123.5\n",
    "   5861326;5785642;5861326_5785642;1;08:10;24.9704379;60.3119173;24.865102;60.4000863;125.0;103.0;23241.3\n",
    "```\n",
    "\n",
    "In this exercise, we are interested in these columns:\n",
    "\n",
    "| Column | Description |\n",
    "|--------|-------------|\n",
    "| from_x | x-coordinate of the **origin** location (longitude) |\n",
    "| from_y | y-coordinate of the **origin** location (latitude) |\n",
    "| to_x   | x-coordinate of the **destination** location (longitude)|\n",
    "| to_y   | y-coordinate of the **destination** location (latitude) |\n",
    "| total_route_time | Travel time with public transportation at the route |\n",
    "\n",
    "Your task is to read in the file and create two new colums with `Point` objects representing the origin and destination points. Problems 1-3 will guide you through the necessary steps.\n"
   ]
  },
  {
   "cell_type": "markdown",
   "id": "2fca1a92-f410-4cd6-a4e6-b2f555edec99",
   "metadata": {},
   "source": [
    "#### Problem 1: Read the file\n",
    "\n",
    "- Import required modules.\n",
    "- Read in the text file using `pandas` into a variable called `data` and subset the `DataFrame` to contain only those columns we are interested in\n",
    "- Check that data looks ok\n"
   ]
  },
  {
   "cell_type": "markdown",
   "id": "1d166507-2e94-4673-810a-2e359228e96c",
   "metadata": {},
   "source": [
    "#### Problem 2: Create Point geometries\n",
    "\n",
    "Continue working with the `DataFrame`:\n",
    "- Create new columns `from_geom` and `to_geom`\n",
    "- Populate these columns with point objects that represent the origin and destination geometries using the `points_from_xy()` function in `geopandas`:\n",
    "    - `from_geom` based on columns `from_x` and `from_y`\n",
    "    - `to_geom` based on columns `to_x` and `to_y`\n"
   ]
  },
  {
   "cell_type": "markdown",
   "id": "c06eddd0-b936-4389-9767-6e2d14b71891",
   "metadata": {},
   "source": [
    "#### Problem 3: Create LineString geometries\n",
    "\n",
    "Continue working with the `DataFrame` and create `LineString` `shapely` objects based on the origin and destination point coordinates:\n",
    "\n",
    "- Create new column `route_geom`\n",
    "- Populate the new columns with `LineString` objects that represent a straight line between each origin (`from_geom`) and destination (`to_geom`) coordinates.\n",
    "\n",
    "- You can achieve this at least in two different ways:\n",
    "    - Option 1: Apply a lambda-function on the `DataFrame` that creates a `LineString` based on `from_geom` and `to_geom` columns for each row (`axis=1`).\n",
    "    - Option 2: Use `zip()` and a `for`-loop to create the `LineString` for each coorinate pair. You can store the `LineStrings` in a list inside the loop and outside the loop insert the list into the `route_geom` column.\n"
   ]
  },
  {
   "cell_type": "markdown",
   "id": "66aed511-4f31-45a8-98b9-11f49c71dd67",
   "metadata": {},
   "source": [
    "#### Problem 4: Convert DataFrame into a GeoDataFrame\n",
    "\n",
    "Convert the `DataFrame` into a `GeoDataFrame`. While doing this, you should:\n",
    "- Define `route_geom` as the geometry column.\n",
    "- Set a coordinate reference system for the data. Think carefully what is the correct crs definition for the input coordinates.\n",
    "\n",
    "Check the result. "
   ]
  },
  {
   "cell_type": "markdown",
   "id": "f37e98d6-d169-434d-bf4b-d9b7e2befde5",
   "metadata": {},
   "source": [
    "#### Problem 5: Re-project the data\n",
    "\n",
    "Our data is located in the Helsinki Region, Finland and the data should be converted into a projected coordinate reference system if we want to draw maps or measure distances. \n",
    "\n",
    "- Check the crs definition of the data. \n",
    "- Re-project the data into ETRS89 / TM35FIN (EPSG:3067).\n",
    "- Check the result. You should notice that the `route_geom` coordinate values have changed."
   ]
  },
  {
   "cell_type": "markdown",
   "id": "b8ea129f-6336-429f-ba7f-ec1c2425eea8",
   "metadata": {},
   "source": [
    "#### Problem 6: Calculate average trip distance\n",
    "\n",
    "Now that we have the `GeoDataFrame` in a projected coordinate reference system we can calculate some distance metrics based on the line objects.\n",
    "\n",
    "- Calculate the lenght of each route based on the `route_geom` column.\n",
    "- Add the length information into a new column `route_length`.\n",
    "- Generate descriptive statistics of route lengths. What is the median route length?"
   ]
  }
 ],
 "metadata": {
  "kernelspec": {
   "display_name": "Python 3 (ipykernel)",
   "language": "python",
   "name": "python3"
  },
  "language_info": {
   "codemirror_mode": {
    "name": "ipython",
    "version": 3
   },
   "file_extension": ".py",
   "mimetype": "text/x-python",
   "name": "python",
   "nbconvert_exporter": "python",
   "pygments_lexer": "ipython3",
   "version": "3.12.5"
  }
 },
 "nbformat": 4,
 "nbformat_minor": 5
}
