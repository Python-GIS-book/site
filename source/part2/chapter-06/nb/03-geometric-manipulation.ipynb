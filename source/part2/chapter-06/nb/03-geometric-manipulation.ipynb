{
 "cells": [
  {
   "cell_type": "markdown",
   "id": "9e87802f-2461-4371-b489-b9bbe58fc5cb",
   "metadata": {},
   "source": [
    "# Geometric data manipulations"
   ]
  },
  {
   "cell_type": "markdown",
   "id": "1eb5a35f",
   "metadata": {},
   "source": [
    "Here we demonstrate some of the most common geometry manipulation functions available in geopandas. We will use country borders from Africa as our example data. It is often useful to do geometric manipulations on administrative borders for further analysis and visualization purposes. We will learn how to generate centroids, different outlines and buffer zones for the country polygons. \n",
    "\n",
    "Geopandas comes with some ready-to-use data for country borders from [Natural Earth](https://www.naturalearthdata.com/) which we will use here. "
   ]
  },
  {
   "cell_type": "code",
   "execution_count": 1,
   "id": "62278989-accb-4a59-b6ee-7d31f98f6e75",
   "metadata": {},
   "outputs": [
    {
     "data": {
      "text/html": [
       "<div>\n",
       "<style scoped>\n",
       "    .dataframe tbody tr th:only-of-type {\n",
       "        vertical-align: middle;\n",
       "    }\n",
       "\n",
       "    .dataframe tbody tr th {\n",
       "        vertical-align: top;\n",
       "    }\n",
       "\n",
       "    .dataframe thead th {\n",
       "        text-align: right;\n",
       "    }\n",
       "</style>\n",
       "<table border=\"1\" class=\"dataframe\">\n",
       "  <thead>\n",
       "    <tr style=\"text-align: right;\">\n",
       "      <th></th>\n",
       "      <th>pop_est</th>\n",
       "      <th>continent</th>\n",
       "      <th>name</th>\n",
       "      <th>iso_a3</th>\n",
       "      <th>gdp_md_est</th>\n",
       "      <th>geometry</th>\n",
       "    </tr>\n",
       "  </thead>\n",
       "  <tbody>\n",
       "    <tr>\n",
       "      <th>0</th>\n",
       "      <td>920938</td>\n",
       "      <td>Oceania</td>\n",
       "      <td>Fiji</td>\n",
       "      <td>FJI</td>\n",
       "      <td>8374.0</td>\n",
       "      <td>MULTIPOLYGON (((180.00000 -16.06713, 180.00000...</td>\n",
       "    </tr>\n",
       "    <tr>\n",
       "      <th>1</th>\n",
       "      <td>53950935</td>\n",
       "      <td>Africa</td>\n",
       "      <td>Tanzania</td>\n",
       "      <td>TZA</td>\n",
       "      <td>150600.0</td>\n",
       "      <td>POLYGON ((33.90371 -0.95000, 34.07262 -1.05982...</td>\n",
       "    </tr>\n",
       "    <tr>\n",
       "      <th>2</th>\n",
       "      <td>603253</td>\n",
       "      <td>Africa</td>\n",
       "      <td>W. Sahara</td>\n",
       "      <td>ESH</td>\n",
       "      <td>906.5</td>\n",
       "      <td>POLYGON ((-8.66559 27.65643, -8.66512 27.58948...</td>\n",
       "    </tr>\n",
       "    <tr>\n",
       "      <th>3</th>\n",
       "      <td>35623680</td>\n",
       "      <td>North America</td>\n",
       "      <td>Canada</td>\n",
       "      <td>CAN</td>\n",
       "      <td>1674000.0</td>\n",
       "      <td>MULTIPOLYGON (((-122.84000 49.00000, -122.9742...</td>\n",
       "    </tr>\n",
       "    <tr>\n",
       "      <th>4</th>\n",
       "      <td>326625791</td>\n",
       "      <td>North America</td>\n",
       "      <td>United States of America</td>\n",
       "      <td>USA</td>\n",
       "      <td>18560000.0</td>\n",
       "      <td>MULTIPOLYGON (((-122.84000 49.00000, -120.0000...</td>\n",
       "    </tr>\n",
       "  </tbody>\n",
       "</table>\n",
       "</div>"
      ],
      "text/plain": [
       "     pop_est      continent                      name iso_a3  gdp_md_est  \\\n",
       "0     920938        Oceania                      Fiji    FJI      8374.0   \n",
       "1   53950935         Africa                  Tanzania    TZA    150600.0   \n",
       "2     603253         Africa                 W. Sahara    ESH       906.5   \n",
       "3   35623680  North America                    Canada    CAN   1674000.0   \n",
       "4  326625791  North America  United States of America    USA  18560000.0   \n",
       "\n",
       "                                            geometry  \n",
       "0  MULTIPOLYGON (((180.00000 -16.06713, 180.00000...  \n",
       "1  POLYGON ((33.90371 -0.95000, 34.07262 -1.05982...  \n",
       "2  POLYGON ((-8.66559 27.65643, -8.66512 27.58948...  \n",
       "3  MULTIPOLYGON (((-122.84000 49.00000, -122.9742...  \n",
       "4  MULTIPOLYGON (((-122.84000 49.00000, -120.0000...  "
      ]
     },
     "execution_count": 1,
     "metadata": {},
     "output_type": "execute_result"
    }
   ],
   "source": [
    "import geopandas as gpd\n",
    "import matplotlib.pyplot as plt\n",
    "from pathlib import Path\n",
    "\n",
    "data = gpd.read_file(gpd.datasets.get_path('naturalearth_lowres'))\n",
    "data.head()"
   ]
  },
  {
   "cell_type": "markdown",
   "id": "e16e1b72-20b6-4a89-8e77-feb64934b6bb",
   "metadata": {},
   "source": [
    "Let's continue with only the African continent."
   ]
  },
  {
   "cell_type": "code",
   "execution_count": 2,
   "id": "93c1d8eb-c64f-4852-b912-c809f71adf79",
   "metadata": {},
   "outputs": [],
   "source": [
    "data = data.loc[data[\"continent\"]=='Africa'].copy()"
   ]
  },
  {
   "cell_type": "markdown",
   "id": "a1f3f21c-bc5b-47da-ad4e-3fd4c15e2b0e",
   "metadata": {},
   "source": [
    "For the purposes of geometric manipulations, we are mainly interested in the geometry column which contains the polygon geometries. Remember, that the data type of the geometry-column is `GeoSeries`. Individual geometries are eventually shapely objects and we can use all of shapely's tools for geometry manipulation directly via geopandas."
   ]
  },
  {
   "cell_type": "code",
   "execution_count": 3,
   "id": "4f682f55-a3d5-47d9-a9e8-012edc3c83a3",
   "metadata": {},
   "outputs": [
    {
     "data": {
      "text/plain": [
       "1     POLYGON ((33.90371 -0.95000, 34.07262 -1.05982...\n",
       "2     POLYGON ((-8.66559 27.65643, -8.66512 27.58948...\n",
       "11    POLYGON ((29.34000 -4.49998, 29.51999 -5.41998...\n",
       "12    POLYGON ((41.58513 -1.68325, 40.99300 -0.85829...\n",
       "13    POLYGON ((39.20222 -4.67677, 37.76690 -3.67712...\n",
       "Name: geometry, dtype: geometry"
      ]
     },
     "execution_count": 3,
     "metadata": {},
     "output_type": "execute_result"
    }
   ],
   "source": [
    "# Check contents of the geometry column\n",
    "data[\"geometry\"].head()"
   ]
  },
  {
   "cell_type": "code",
   "execution_count": 4,
   "id": "2c734e06-c062-44dc-80db-a2f7157c0e9b",
   "metadata": {},
   "outputs": [
    {
     "data": {
      "text/plain": [
       "geopandas.geoseries.GeoSeries"
      ]
     },
     "execution_count": 4,
     "metadata": {},
     "output_type": "execute_result"
    }
   ],
   "source": [
    "# Check data type of the geometry column\n",
    "type(data[\"geometry\"])"
   ]
  },
  {
   "cell_type": "code",
   "execution_count": 5,
   "id": "d5ba74e4-7c1b-479f-8a4f-8638232c9a06",
   "metadata": {},
   "outputs": [
    {
     "data": {
      "text/plain": [
       "shapely.geometry.polygon.Polygon"
      ]
     },
     "execution_count": 5,
     "metadata": {},
     "output_type": "execute_result"
    }
   ],
   "source": [
    "# Check data type of a value in the geometry column\n",
    "type(data[\"geometry\"].values[0])"
   ]
  },
  {
   "cell_type": "markdown",
   "id": "9e881059-1997-4f24-b851-5ae6a9b1d521",
   "metadata": {},
   "source": [
    "Let's first plot the original geometries. We can use the in-built plotting function in geopandas to plot the geometries, and `matplotlib.pyplot` to turn off axis lines and labels."
   ]
  },
  {
   "cell_type": "code",
   "execution_count": 6,
   "id": "f32e4fb2-9e2c-44c1-bcef-5191b415aa28",
   "metadata": {},
   "outputs": [
    {
     "data": {
      "image/png": "[encoded data removed]",
      "text/plain": [
       "<Figure size 432x288 with 1 Axes>"
      ]
     },
     "metadata": {
      "needs_background": "light"
     },
     "output_type": "display_data"
    }
   ],
   "source": [
    "data.plot(facecolor=\"none\", linewidth=0.2)\n",
    "\n",
    "plt.axis(\"off\")\n",
    "plt.show()"
   ]
  },
  {
   "cell_type": "markdown",
   "id": "e5fbcdae-5a13-4239-9988-c00d6ef7d96e",
   "metadata": {
    "tags": []
   },
   "source": [
    "## Centroid\n",
    "\n",
    "Extracting the centroid of geometric features is useful in many cases. Geometric centroid can, for example, be used for locating text labels in visualizations. We can extract the center point of each polygon via the `centroid`-attribute of the geometry-column. "
   ]
  },
  {
   "cell_type": "code",
   "execution_count": 7,
   "id": "a5e750f5-ca73-4404-8e35-5ad1b852d54b",
   "metadata": {},
   "outputs": [
    {
     "name": "stderr",
     "output_type": "stream",
     "text": [
      "C:\\Users\\vuokkhei\\AppData\\Local\\Temp/ipykernel_10684/2055797465.py:1: UserWarning: Geometry is in a geographic CRS. Results from 'centroid' are likely incorrect. Use 'GeoSeries.to_crs()' to re-project geometries to a projected CRS before this operation.\n",
      "\n",
      "  data[\"geometry\"].centroid.head()\n"
     ]
    },
    {
     "data": {
      "text/plain": [
       "1      POINT (34.75299 -6.25773)\n",
       "2     POINT (-12.13783 24.29117)\n",
       "11     POINT (23.58296 -2.85028)\n",
       "12      POINT (45.72670 4.75235)\n",
       "13      POINT (37.79156 0.59597)\n",
       "dtype: geometry"
      ]
     },
     "execution_count": 7,
     "metadata": {},
     "output_type": "execute_result"
    }
   ],
   "source": [
    "data[\"geometry\"].centroid.head()"
   ]
  },
  {
   "cell_type": "markdown",
   "id": "e0319003-2801-41ce-a644-73758d3f5f25",
   "metadata": {},
   "source": [
    "We can also apply the method directly to the `GeoDataFrame` to achieve the same result."
   ]
  },
  {
   "cell_type": "code",
   "execution_count": 8,
   "id": "13e2a48e",
   "metadata": {},
   "outputs": [
    {
     "name": "stderr",
     "output_type": "stream",
     "text": [
      "C:\\Users\\vuokkhei\\AppData\\Local\\Temp/ipykernel_10684/1275436188.py:1: UserWarning: Geometry is in a geographic CRS. Results from 'centroid' are likely incorrect. Use 'GeoSeries.to_crs()' to re-project geometries to a projected CRS before this operation.\n",
      "\n",
      "  data.centroid.head()\n"
     ]
    },
    {
     "data": {
      "text/plain": [
       "1      POINT (34.75299 -6.25773)\n",
       "2     POINT (-12.13783 24.29117)\n",
       "11     POINT (23.58296 -2.85028)\n",
       "12      POINT (45.72670 4.75235)\n",
       "13      POINT (37.79156 0.59597)\n",
       "dtype: geometry"
      ]
     },
     "execution_count": 8,
     "metadata": {},
     "output_type": "execute_result"
    }
   ],
   "source": [
    "data.centroid.head()"
   ]
  },
  {
   "cell_type": "markdown",
   "id": "505ba11d-ef87-4841-bdf6-494a34b73d2d",
   "metadata": {},
   "source": [
    "Notice that geopandas warns us that we are trying to calculate centroids based on a geographic CRS and that our results are likely incorrect. Let's check what is the CRS definition of our data."
   ]
  },
  {
   "cell_type": "code",
   "execution_count": 9,
   "id": "48878e33-952e-4bda-a1d6-ee846e6f1c44",
   "metadata": {},
   "outputs": [
    {
     "data": {
      "text/plain": [
       "<Geographic 2D CRS: EPSG:4326>\n",
       "Name: WGS 84\n",
       "Axis Info [ellipsoidal]:\n",
       "- Lat[north]: Geodetic latitude (degree)\n",
       "- Lon[east]: Geodetic longitude (degree)\n",
       "Area of Use:\n",
       "- name: World.\n",
       "- bounds: (-180.0, -90.0, 180.0, 90.0)\n",
       "Datum: World Geodetic System 1984 ensemble\n",
       "- Ellipsoid: WGS 84\n",
       "- Prime Meridian: Greenwich"
      ]
     },
     "execution_count": 9,
     "metadata": {},
     "output_type": "execute_result"
    }
   ],
   "source": [
    "data.crs"
   ]
  },
  {
   "cell_type": "markdown",
   "id": "652f0d3c-55ee-4ce0-837d-e3ced82e1b7d",
   "metadata": {},
   "source": [
    "Our data are indeed in a geographic coordinate reference system WGS 84 (EPSG:4326). In order to get valid centroids, we should re-project the data to a projected coordinate reference system."
   ]
  },
  {
   "cell_type": "markdown",
   "id": "dc22963a-2dd0-4b51-baa7-c15b058d86da",
   "metadata": {},
   "source": [
    "We can then plot the centroids for a visual check."
   ]
  },
  {
   "cell_type": "code",
   "execution_count": 10,
   "id": "ea10f0dd-f15b-4624-a93c-9ea30e37130e",
   "metadata": {},
   "outputs": [
    {
     "name": "stderr",
     "output_type": "stream",
     "text": [
      "C:\\Users\\vuokkhei\\AppData\\Local\\Temp/ipykernel_10684/2496456677.py:1: UserWarning: Geometry is in a geographic CRS. Results from 'centroid' are likely incorrect. Use 'GeoSeries.to_crs()' to re-project geometries to a projected CRS before this operation.\n",
      "\n",
      "  data.centroid.plot(markersize=0.1)\n"
     ]
    },
    {
     "data": {
      "image/png": "[encoded data removed]",
      "text/plain": [
       "<Figure size 432x288 with 1 Axes>"
      ]
     },
     "metadata": {
      "needs_background": "light"
     },
     "output_type": "display_data"
    }
   ],
   "source": [
    "data.centroid.plot(markersize=0.1)\n",
    "\n",
    "plt.axis(\"off\")\n",
    "plt.show()"
   ]
  },
  {
   "cell_type": "markdown",
   "id": "efef7987",
   "metadata": {},
   "source": [
    "## Unary union\n",
    "\n",
    "We can generate a joint outline for African countries represented in the Natural Earth data through creating a geometric union among all geometries. This could be useful, for example, for visualizing the outlines of a study area. The `unary_union` returns a single geometry object, which is automatically visualized when running the code in a Jupyter Notebook."
   ]
  },
  {
   "cell_type": "code",
   "execution_count": 11,
   "id": "993def06",
   "metadata": {},
   "outputs": [
    {
     "data": {
      "image/svg+xml": [
       "<svg xmlns=\"http://www.w3.org/2000/svg\" xmlns:xlink=\"http://www.w3.org/1999/xlink\" width=\"100.0\" height=\"100.0\" viewBox=\"-20.51180912116627 -37.70593278579932 74.53244555184187 77.94269362824147\" preserveAspectRatio=\"xMinYMin meet\"><g transform=\"matrix(1,0,0,-1,0,2.5308280566428323)\"><g><path fill-rule=\"evenodd\" fill=\"#66cc99\" stroke=\"#555555\" stroke-width=\"1.5588538725648293\" opacity=\"0.6\" d=\"M -11.438779466182055,6.7859168563057475 L -11.70819454593574,6.860098374860726 L -12.428098924193819,7.26294200279203 L -12.949049038128194,7.798645738145738 L -13.124025437868482,8.163946438016978 L -13.246550258832515,8.903048610871508 L -13.685153977909792,9.49474376061346 L -14.074044969122282,9.886166897008252 L -14.33007585291237,10.015719712763968 L -14.579698859098258,10.214467271358515 L -14.693231980843505,10.656300767454042 L -14.839553798877944,10.87657156009814 L -15.130311245168173,11.040411688679526 L -15.664180467175527,11.458474025920795 L -16.085214199273565,11.52459402103824 L -16.314786749730203,11.80651479740655 L -16.30894731288123,11.95870189050612 L -16.61383826340328,12.170911159712702 L -16.677451951554573,12.384851589401052 L -16.841524624081273,13.15139394780256 L -16.71372880702347,13.594958604379855 L -17.126106736712615,14.373515733289224 L -17.62504269049066,14.729540513564073 L -17.18517289882223,14.919477240452862 L -16.700706346085923,15.621527411354108 L -16.463098110407884,16.13503611903846 L -16.549707810929064,16.673892116761962 L -16.270551723688357,17.166962795474873 L -16.14634741867485,18.108481553616656 L -16.256883307347167,19.096715806550307 L -16.37765112961327,19.593817246981985 L -16.277838100641517,20.0925206568147 L -16.536323614965468,20.567866319251493 L -17.06342322434257,20.999752102130827 L -17.02042843267577,21.422310288981578 L -16.973247849993243,21.885744533774982 L -16.589136928767687,22.158234361250095 L -16.261921759495635,22.679339504481277 L -16.3264139469959,23.017768459560898 L -15.982610642958036,23.723358466074046 L -15.426003790742186,24.35913361256104 L -15.089331834360735,24.520260728447 L -14.824645148161665,25.103532619725343 L -14.800925665739726,25.63626496022232 L -14.439939947964831,26.254418443297652 L -13.773804897506466,26.618892320252314 L -13.13994177901435,27.640147813420526 L -13.121613369914769,27.65414767171984 L -12.618836635783111,28.03818553314869 L -11.688919236690765,28.148643907172527 L -10.900956997104402,28.83214223888092 L -10.399592251008642,29.09858592377782 L -9.564811163765683,29.93357371674989 L -9.814718390329176,31.17773550060906 L -9.434793260119363,32.038096421836485 L -9.300692918321886,32.564679266890664 L -8.657476365585012,33.240245266242425 L -7.6541784326382185,33.69706492770251 L -6.912544114601417,34.110476386037476 L -6.2443420068514115,35.145865383437524 L -5.92999426921989,35.75998810479399 L -5.193863491222032,35.75518219659085 L -4.591006232105144,35.330711981745594 L -3.640056525070065,35.399855048152006 L -2.604305792644084,35.179093329401155 L -2.169913702798624,35.16839630791668 L -1.208602871089056,35.7148487411871 L -0.12745439289460592,35.888662421200806 L 0.5038765804152092,36.30127289483528 L 1.466918572606545,36.605647081034405 L 3.1616988460508253,36.78390493422522 L 4.81575809084913,36.86503693292346 L 5.3201200700177935,36.71651886651662 L 6.261819695672613,37.11065501560674 L 7.330384962603971,37.11838064223437 L 7.737078484741005,36.885707505840216 L 8.420964389691676,36.94642731378316 L 9.509993523810607,37.349994411766545 L 10.210002475636317,37.230001735984814 L 10.180650262094531,36.724037787415085 L 11.02886722173335,37.09210317641396 L 11.100025668999251,36.899996039368915 L 10.600004510143094,36.410000108377375 L 10.593286573945138,35.94744436293281 L 10.939518670300687,35.698984076473494 L 10.807847120821009,34.83350718844919 L 10.149592726287125,34.33077301689771 L 10.339658644256616,33.78574168551532 L 10.856836378633687,33.76874013929128 L 11.108500603895122,33.293342800422195 L 11.488787469131012,33.13699575452324 L 12.663310000000024,32.79278000000005 L 13.083260000000053,32.878820000000076 L 13.918679999999995,32.71196000000009 L 15.245630000000006,32.26508000000007 L 15.713939999999923,31.376259999999945 L 16.611620000000016,31.18217999999996 L 18.02108999999996,30.76356999999996 L 19.08641,30.26639 L 19.574040000000082,30.52582000000001 L 20.053349999999966,30.985760000000028 L 19.82033000000007,31.751790000000142 L 20.13396999999992,32.238200000000006 L 20.854520000000093,32.70679999999999 L 21.54298,32.843200000000024 L 22.895760000000053,32.63857999999999 L 23.236800000000017,32.191490000000044 L 23.609130000000107,32.18725999999998 L 23.92750000000001,32.01667000000009 L 24.921139999999923,31.89936 L 25.16482,31.56915 L 26.49533,31.58568 L 27.457620000000002,31.32126 L 28.450480000000002,31.025769999999998 L 28.913529999999998,30.87005 L 29.683419999999998,31.186860000000003 L 30.09503,31.4734 L 30.976930000000003,31.55586 L 31.687960000000004,31.4296 L 31.96041,30.933600000000002 L 32.19247,31.26034 L 32.99392,31.024070000000002 L 33.7734,30.967460000000003 L 34.26543474464621,31.21935730952032 L 34.265440000000005,31.219359999999998 L 34.823243288783814,29.76108076171822 L 34.9226,29.50133 L 34.64174,29.099420000000002 L 34.42655,28.343989999999998 L 34.15451,27.8233 L 33.92136,27.6487 L 33.58811,27.97136 L 33.13676,28.417650000000002 L 32.423230000000004,29.851080000000003 L 32.32046,29.76043 L 32.73482,28.70523 L 33.34876,27.69989 L 34.10455,26.14227 L 34.473870000000005,25.598560000000003 L 34.79507,25.03375 L 35.69241,23.92671 L 35.49372,23.752370000000003 L 35.52598,23.10244 L 36.690690000000004,22.20485 L 36.86622999999997,22.0 L 37.1887200000001,21.018850000000043 L 36.969409999999925,20.83744000000013 L 37.11470000000014,19.807960000000094 L 37.4817900000001,18.61409000000009 L 37.862760000000094,18.36785999999995 L 38.410089959473225,17.998307399970315 L 38.990622999840014,16.840626125551694 L 39.26611006038803,15.92272349696725 L 39.814293654140215,15.435647284400318 L 41.17927493669765,14.491079616753211 L 41.73495161313235,13.921036892141558 L 42.27683068214486,13.343992010954423 L 42.58957645037526,13.000421250861905 L 43.08122602720016,12.699638576707116 L 43.31785241066467,12.390148423711025 L 43.286381463398925,11.974928290245884 L 42.715873650896526,11.735640570518342 L 43.14530480324214,11.462039699748857 L 43.470659620951665,11.277709865763882 L 43.66666832863484,10.86416921634816 L 44.11780358254282,10.445538438351605 L 44.614259067570856,10.442205308468942 L 45.55694054543915,10.698029486529776 L 46.645401238803004,10.816549383991173 L 47.525657586462785,11.12722809492999 L 48.02159630716778,11.193063869669743 L 48.37878380716927,11.375481675660126 L 48.94820641459347,11.41062164961852 L 48.94820475850985,11.41061728169797 L 49.26776,11.43033 L 49.72862,11.5789 L 50.25878000000001,11.67957 L 50.73202,12.021900000000002 L 51.1112,12.024640000000002 L 51.13387,11.74815 L 51.04153,11.16651 L 51.04531,10.6409 L 50.834179999999996,10.279720000000001 L 50.55239,9.19874 L 50.07092,8.08173 L 49.45270000000001,6.80466 L 48.594550000000005,5.339110000000001 L 47.740790000000004,4.2194 L 46.56476,2.85529 L 45.563990000000004,2.04576 L 44.068149999999996,1.0528300000000002 L 43.13597,0.2922 L 42.04157000000001,-0.9191600000000001 L 41.81095,-1.4464700000000001 L 41.58513,-1.6832500000000001 L 40.88477,-2.08255 L 40.63785000000001,-2.49979 L 40.26304000000001,-2.57309 L 40.12119,-3.27768 L 39.80006,-3.68116 L 39.604890000000005,-4.3465300000000004 L 39.20222,-4.67677 L 38.74053999999995,-5.9089499999999475 L 38.79977000000008,-6.475660000000005 L 39.44,-6.839999999999861 L 39.47000000000014,-7.099999999999966 L 39.19468999999998,-7.703899999999976 L 39.25203000000005,-8.00780999999995 L 39.18652000000009,-8.48550999999992 L 39.53574000000009,-9.112369999999885 L 39.94960000000003,-10.098400000000026 L 40.316586229110854,-10.317097752817492 L 40.31658857601719,-10.317096042525698 L 40.47838748552303,-10.765440769089993 L 40.437253045418686,-11.761710707245015 L 40.56081139502857,-12.639176527561027 L 40.59962039567975,-14.201975192931862 L 40.775475294768995,-14.691764418194241 L 40.4772506040126,-15.406294447493972 L 40.08926395036522,-16.10077402106446 L 39.45255862809705,-16.72089120856694 L 38.53835086442152,-17.101023044505958 L 37.41113284683888,-17.586368096591237 L 36.28127933120936,-18.65968759529345 L 35.89649661636406,-18.842260430580637 L 35.198399692533144,-19.552811374593894 L 34.78638349787005,-19.784011732667736 L 34.70189253107284,-20.49704314543101 L 35.176127150215365,-21.25436126066841 L 35.37342776870574,-21.840837090748877 L 35.385848253705404,-22.14 L 35.562545536369086,-22.090000000000003 L 35.533934767404304,-23.070787855727758 L 35.37177412287238,-23.5353589820317 L 35.60747033055563,-23.706563002214683 L 35.45874555841962,-24.12260995859655 L 35.04073489761066,-24.478350518493805 L 34.21582400893547,-24.81631438568266 L 33.01321007663901,-25.357573337507738 L 32.574632195777866,-25.727318210556092 L 32.66036339695009,-26.148584486599447 L 32.91595503106569,-26.215867201443466 L 32.830120477028885,-26.742191664336197 L 32.580264926897684,-27.470157566031816 L 32.46213260267845,-28.301011244420557 L 32.20338870619304,-28.75240488049007 L 31.521001417778876,-29.257386976846256 L 31.325561150851,-29.401977634398914 L 30.901762729625347,-29.909956963828037 L 30.62281334811382,-30.42377573010613 L 30.05571618014278,-31.140269463832958 L 28.92555260591954,-32.1720411109725 L 28.2197558936771,-32.771952813448856 L 27.464608188595975,-33.2269637997788 L 26.419452345492825,-33.61495045342619 L 25.90966434093349,-33.6670402971764 L 25.780628289500697,-33.94464609144834 L 25.172861769315972,-33.796851495093584 L 24.677853224392123,-33.98717579522455 L 23.594043409934642,-33.794474379208154 L 22.988188917744736,-33.91643075941698 L 22.574157342222236,-33.86408253350531 L 21.542799106541025,-34.258838799782936 L 20.689052768647002,-34.417175388325234 L 20.071261020597632,-34.79513681410799 L 19.61640506356457,-34.81916635512371 L 19.193278435958717,-34.46259897230979 L 18.85531456876987,-34.444305515278465 L 18.42464318204938,-33.99787281670897 L 18.377410922934615,-34.13652068454807 L 18.24449913907992,-33.86775156019803 L 18.250080193767445,-33.28143075941444 L 17.92519046394844,-32.61129078545343 L 18.247909783611192,-32.42913136162457 L 18.22176150887148,-31.66163298922567 L 17.56691775886887,-30.725721123987547 L 17.064416131262703,-29.878641045859162 L 17.062917514726223,-29.875953871379984 L 16.344976840895242,-28.5767050106977 L 15.601818068105816,-27.821247247022804 L 15.21047244635946,-27.090955905874047 L 14.989710727608553,-26.117371921495156 L 14.743214145576331,-25.39292001719538 L 14.408144158595833,-23.853014011329847 L 14.385716586981149,-22.65665292734069 L 14.257714064194175,-22.111208184499958 L 13.86864220546866,-21.699036960539978 L 13.35249799973744,-20.872834161057504 L 12.826845330464494,-19.673165785401665 L 12.608564080463621,-19.0453488094877 L 11.794918654028066,-18.069129327061916 L 11.734198846085121,-17.301889336824473 L 11.64009606288161,-16.67314218512925 L 11.778537224991537,-15.793816013250735 L 12.12358076340439,-14.878316338767904 L 12.175618930722294,-14.449143568583892 L 12.50009524908299,-13.54769988368445 L 12.738478631245385,-13.137905775609902 L 13.312913852601866,-12.483630466362492 L 13.6337211442698,-12.03864470789717 L 13.738727654686897,-11.297863050993165 L 13.686379428775238,-10.73107594161589 L 13.387327915102162,-10.373578383020714 L 13.120987583069846,-9.766897067914122 L 12.875369500386569,-9.166933689005468 L 12.92906131353783,-8.959091078327553 L 13.236432732809874,-8.562629489784307 L 12.93304039882429,-7.596538588087733 L 12.728298374083892,-6.927122084178805 L 12.227347039446471,-6.294447523629394 L 12.32243167486351,-6.10009246177966 L 12.182336866920252,-5.789930515163839 L 11.91496300624209,-5.037986748884791 L 11.093772820691925,-3.978826592630547 L 10.06613528813574,-2.9694825171056816 L 9.40524539555497,-2.144313246269043 L 8.79799563969317,-1.111301364754496 L 8.830086704146424,-0.7790735815500369 L 9.048419630579588,-0.45935149496021666 L 9.29135053878369,0.2686660831676875 L 9.492888624721985,1.010119533691494 L 9.305613234096256,1.1609113631191832 L 9.649158155972628,2.2838660750377358 L 9.795195753629457,3.073404445809117 L 9.404366896206,3.734526882335203 L 8.948115675501072,3.9041289331171356 L 8.744923943729418,4.35221527751996 L 8.48881554529089,4.495617377129918 L 8.500287713259695,4.7719829370268485 L 7.462108188515941,4.412108262546241 L 7.0825964697644395,4.4646890324032285 L 6.6980721370806,4.240594183769517 L 5.898172641634687,4.262453314628985 L 5.3628048030908815,4.887970689305959 L 5.033574252959369,5.611802476418234 L 4.325607130560684,6.2706511499234665 L 3.574180128604553,6.258300482605719 L 2.6917016943562544,6.258817246928629 L 1.8652405127123188,6.142157701029731 L 1.0601216976049272,5.928837388528876 L -0.5076379052659377,5.3434726017426755 L -1.0636246402941936,5.000547797053812 L -1.9647065901675944,4.710462144383371 L -2.856125047202397,4.994475816259509 L -3.3110843571000714,4.984295559098015 L -4.008819545904942,5.179813340674315 L -4.649917364917911,5.168263658057086 L -5.8344962223445265,4.993700669775137 L -6.528769090185847,4.705087795425015 L -7.5189412093304355,4.338288479017308 L -7.7121593896697505,4.364565944837722 L -7.974107224957251,4.355755113131963 L -9.004793667018674,4.8324185245922 L -9.913420376006684,5.593560695819207 L -10.765383876986645,6.140710760925558 L -11.438779466182055,6.7859168563057475 z\" /><path fill-rule=\"evenodd\" fill=\"#66cc99\" stroke=\"#555555\" stroke-width=\"1.5588538725648293\" opacity=\"0.6\" d=\"M 50.20027469259318,-16.000263360256767 L 49.86060550313868,-15.414252618066918 L 49.67260664246086,-15.710203545802479 L 49.863344354050156,-16.451036879138776 L 49.77456424337271,-16.8750420060936 L 49.49861209493412,-17.106035658438273 L 49.435618523970305,-17.953064060134366 L 49.041792433473944,-19.118781019774445 L 48.54854088724801,-20.496888116134127 L 47.93074913919867,-22.391501153251085 L 47.54772342305131,-23.781958916928517 L 47.095761346226595,-24.941629733990453 L 46.282477654817086,-25.178462823184105 L 45.40950768411045,-25.60143442149309 L 44.833573846217554,-25.34610116953894 L 44.03972049334976,-24.988345228782308 L 43.76376834491117,-24.46067717864999 L 43.697777540874455,-23.574116306250602 L 43.345654331237625,-22.776903985283873 L 43.254187046081,-22.057413018484123 L 43.43329756040464,-21.33647511158019 L 43.893682895692926,-21.16330738697013 L 43.896370070172104,-20.830459486578174 L 44.37432539243966,-20.07236622485639 L 44.46439741392439,-19.435454196859048 L 44.23242190936617,-18.961994724200906 L 44.042976108584156,-18.33138722094317 L 43.96308434426091,-17.409944756746782 L 44.31246870298628,-16.850495700754955 L 44.4465173683514,-16.216219170804507 L 44.94493655780653,-16.1793738745804 L 45.50273196796499,-15.97437346767854 L 45.87299360533626,-15.793454278224687 L 46.31224327981721,-15.780018405828798 L 46.882182651564285,-15.210182386946315 L 47.70512983581236,-14.594302666891764 L 48.005214878131255,-14.091232598530375 L 47.869047479042166,-13.663868503476586 L 48.29382775248138,-13.784067884987486 L 48.84506025573879,-13.089174899958664 L 48.86350874206698,-12.48786793381042 L 49.194651320193316,-12.04055673589197 L 49.54351891459575,-12.469832858940554 L 49.808980747279094,-12.895284925999555 L 50.056510857957164,-13.555761407121985 L 50.21743126811407,-14.758788750876796 L 50.47653689962553,-15.226512139550543 L 50.377111443895956,-15.706069431219127 L 50.20027469259318,-16.000263360256767 z\" /></g></g></svg>"
      ],
      "text/plain": [
       "<shapely.geometry.multipolygon.MultiPolygon at 0x233acec0cd0>"
      ]
     },
     "execution_count": 11,
     "metadata": {},
     "output_type": "execute_result"
    }
   ],
   "source": [
    "data.unary_union"
   ]
  },
  {
   "cell_type": "code",
   "execution_count": 12,
   "id": "cf5e47da-9822-41f7-95ec-55c05d061fb4",
   "metadata": {},
   "outputs": [
    {
     "data": {
      "text/plain": [
       "shapely.geometry.multipolygon.MultiPolygon"
      ]
     },
     "execution_count": 12,
     "metadata": {},
     "output_type": "execute_result"
    }
   ],
   "source": [
    "type(data.unary_union)"
   ]
  },
  {
   "cell_type": "markdown",
   "id": "8e2e5f7d-7b60-4c82-9451-dbccfe24fac7",
   "metadata": {},
   "source": [
    "## Simplifying geometries\n",
    "\n",
    "Geometry simplification is a useful process especially when visualizing data that has very detailed geometry. With our sample data, we can generate simplified version of the outline extent. The tolerance parameter controls the level of simplification."
   ]
  },
  {
   "cell_type": "code",
   "execution_count": 13,
   "id": "0df8ef9f-1c05-4618-be22-c006f5fc914b",
   "metadata": {},
   "outputs": [
    {
     "data": {
      "image/svg+xml": [
       "<svg xmlns=\"http://www.w3.org/2000/svg\" xmlns:xlink=\"http://www.w3.org/1999/xlink\" width=\"100.0\" height=\"100.0\" viewBox=\"-20.501274363679247 -37.67136848729658 74.51137603686784 77.65825517609191\" preserveAspectRatio=\"xMinYMin meet\"><g transform=\"matrix(1,0,0,-1,0,2.3155182014987474)\"><g><path fill-rule=\"evenodd\" fill=\"#66cc99\" stroke=\"#555555\" stroke-width=\"1.5531651035218383\" opacity=\"0.6\" d=\"M -11.438779466182055,6.7859168563057475 L -17.62504269049066,14.729540513564073 L -15.982610642958036,23.723358466074046 L -5.92999426921989,35.75998810479399 L -2.169913702798624,35.16839630791668 L 6.261819695672613,37.11065501560674 L 11.02886722173335,37.09210317641396 L 10.339658644256616,33.78574168551532 L 19.08641,30.26639 L 21.54298,32.843200000000024 L 28.913529999999998,30.87005 L 34.265440000000005,31.219359999999998 L 34.15451,27.8233 L 32.423230000000004,29.851080000000003 L 32.73482,28.70523 L 37.4817900000001,18.61409000000009 L 42.715873650896526,11.735640570518342 L 44.614259067570856,10.442205308468942 L 51.13387,11.74815 L 48.594550000000005,5.339110000000001 L 39.20222,-4.67677 L 40.775475294768995,-14.691764418194241 L 34.78638349787005,-19.784011732667736 L 35.45874555841962,-24.12260995859655 L 32.574632195777866,-25.727318210556092 L 32.20338870619304,-28.75240488049007 L 28.2197558936771,-32.771952813448856 L 20.071261020597632,-34.79513681410799 L 18.377410922934615,-34.13652068454807 L 11.794918654028066,-18.069129327061916 L 13.686379428775238,-10.73107594161589 L 8.79799563969317,-1.111301364754496 L 9.404366896206,3.734526882335203 L 5.898172641634687,4.262453314628985 L 4.325607130560684,6.2706511499234665 L -7.974107224957251,4.355755113131963 L -11.438779466182055,6.7859168563057475 z\" /><path fill-rule=\"evenodd\" fill=\"#66cc99\" stroke=\"#555555\" stroke-width=\"1.5531651035218383\" opacity=\"0.6\" d=\"M 50.20027469259318,-16.000263360256767 L 47.095761346226595,-24.941629733990453 L 44.03972049334976,-24.988345228782308 L 44.4465173683514,-16.216219170804507 L 49.194651320193316,-12.04055673589197 L 50.20027469259318,-16.000263360256767 z\" /></g></g></svg>"
      ],
      "text/plain": [
       "<shapely.geometry.multipolygon.MultiPolygon at 0x233ad0f1430>"
      ]
     },
     "execution_count": 13,
     "metadata": {},
     "output_type": "execute_result"
    }
   ],
   "source": [
    "data.unary_union.simplify(tolerance=1)"
   ]
  },
  {
   "cell_type": "code",
   "execution_count": 14,
   "id": "33a60c81-be04-4dcd-ae21-7415816a2ae0",
   "metadata": {},
   "outputs": [
    {
     "data": {
      "image/svg+xml": [
       "<svg xmlns=\"http://www.w3.org/2000/svg\" xmlns:xlink=\"http://www.w3.org/1999/xlink\" width=\"100.0\" height=\"100.0\" viewBox=\"-18.858842316146625 -37.67136848729658 72.86894398933522 77.65825517609191\" preserveAspectRatio=\"xMinYMin meet\"><g transform=\"matrix(1,0,0,-1,0,2.3155182014987474)\"><g><path fill-rule=\"evenodd\" fill=\"#66cc99\" stroke=\"#555555\" stroke-width=\"1.5531651035218383\" opacity=\"0.6\" d=\"M -11.438779466182055,6.7859168563057475 L -15.982610642958036,23.723358466074046 L 6.261819695672613,37.11065501560674 L 51.13387,11.74815 L 20.071261020597632,-34.79513681410799 L 9.404366896206,3.734526882335203 L -11.438779466182055,6.7859168563057475 z\" /><path fill-rule=\"evenodd\" fill=\"#66cc99\" stroke=\"#555555\" stroke-width=\"1.5531651035218383\" opacity=\"0.6\" d=\"M 50.20027469259318,-16.000263360256767 L 47.095761346226595,-24.941629733990453 L 44.03972049334976,-24.988345228782308 L 44.4465173683514,-16.216219170804507 L 50.20027469259318,-16.000263360256767 z\" /></g></g></svg>"
      ],
      "text/plain": [
       "<shapely.geometry.multipolygon.MultiPolygon at 0x233ac743730>"
      ]
     },
     "execution_count": 14,
     "metadata": {},
     "output_type": "execute_result"
    }
   ],
   "source": [
    "data.unary_union.simplify(tolerance=10)"
   ]
  },
  {
   "cell_type": "markdown",
   "id": "b36ec0ac",
   "metadata": {},
   "source": [
    "## Bounding polygon\n",
    "\n",
    "Bounding polygons are useful in many cases for describing the approximate extent of geographic data. A minimum bounding rectangle, also called a bounding box or an envelope is the smallest rectangular polygon surrounding a geometric object. In a `GeoDataFrame`, the `envelope` attribute returns the bounding rectangle for each geometry."
   ]
  },
  {
   "cell_type": "code",
   "execution_count": 15,
   "id": "8c0513d4-03c8-42d1-917d-aaf43c5dab38",
   "metadata": {},
   "outputs": [
    {
     "data": {
      "text/plain": [
       "1     POLYGON ((29.34000 -11.72094, 40.31659 -11.720...\n",
       "2     POLYGON ((-17.06342 20.99975, -8.66512 20.9997...\n",
       "11    POLYGON ((12.18234 -13.25723, 31.17415 -13.257...\n",
       "12    POLYGON ((40.98105 -1.68325, 51.13387 -1.68325...\n",
       "13    POLYGON ((33.89357 -4.67677, 41.85508 -4.67677...\n",
       "dtype: geometry"
      ]
     },
     "execution_count": 15,
     "metadata": {},
     "output_type": "execute_result"
    }
   ],
   "source": [
    "data.envelope.head()"
   ]
  },
  {
   "cell_type": "markdown",
   "id": "4edd8c53-c564-491b-b21a-bbc98b070a58",
   "metadata": {},
   "source": [
    "In order to get the bounding rectangle for the whole layer, we  first create an union of all geometries using `unary_union`, and then create the bounding rectangle for that polygon."
   ]
  },
  {
   "cell_type": "code",
   "execution_count": 16,
   "id": "dd2eb312",
   "metadata": {},
   "outputs": [
    {
     "data": {
      "image/svg+xml": [
       "<svg xmlns=\"http://www.w3.org/2000/svg\" xmlns:xlink=\"http://www.w3.org/1999/xlink\" width=\"100.0\" height=\"100.0\" viewBox=\"-20.51180912116627 -37.70593278579932 74.53244555184187 77.94269362824147\" preserveAspectRatio=\"xMinYMin meet\"><g transform=\"matrix(1,0,0,-1,0,2.5308280566428323)\"><path fill-rule=\"evenodd\" fill=\"#66cc99\" stroke=\"#555555\" stroke-width=\"1.5588538725648293\" opacity=\"0.6\" d=\"M -17.62504269049066,-34.81916635512371 L 51.13387,-34.81916635512371 L 51.13387,37.349994411766545 L -17.62504269049066,37.349994411766545 L -17.62504269049066,-34.81916635512371 z\" /></g></svg>"
      ],
      "text/plain": [
       "<shapely.geometry.polygon.Polygon at 0x233ad0e64c0>"
      ]
     },
     "execution_count": 16,
     "metadata": {},
     "output_type": "execute_result"
    }
   ],
   "source": [
    "data.unary_union.envelope"
   ]
  },
  {
   "cell_type": "markdown",
   "id": "acd68be9-1145-46ca-94cb-935eb00c59b0",
   "metadata": {},
   "source": [
    "Corner coordinates of the bounding box for a `GeoDataFrame` can be fetched via the `total_bounds` attribute. The `bounds` attribute returns the bounding coordinates of each feature."
   ]
  },
  {
   "cell_type": "code",
   "execution_count": 17,
   "id": "f19b82ec-97bf-4264-950e-b91fa7d22ca7",
   "metadata": {},
   "outputs": [
    {
     "data": {
      "text/plain": [
       "array([-17.62504269, -34.81916636,  51.13387   ,  37.34999441])"
      ]
     },
     "execution_count": 17,
     "metadata": {},
     "output_type": "execute_result"
    }
   ],
   "source": [
    "data.total_bounds"
   ]
  },
  {
   "cell_type": "code",
   "execution_count": 18,
   "id": "c73aee97-3941-4faa-954d-850f9c34ae83",
   "metadata": {},
   "outputs": [
    {
     "data": {
      "text/html": [
       "<div>\n",
       "<style scoped>\n",
       "    .dataframe tbody tr th:only-of-type {\n",
       "        vertical-align: middle;\n",
       "    }\n",
       "\n",
       "    .dataframe tbody tr th {\n",
       "        vertical-align: top;\n",
       "    }\n",
       "\n",
       "    .dataframe thead th {\n",
       "        text-align: right;\n",
       "    }\n",
       "</style>\n",
       "<table border=\"1\" class=\"dataframe\">\n",
       "  <thead>\n",
       "    <tr style=\"text-align: right;\">\n",
       "      <th></th>\n",
       "      <th>minx</th>\n",
       "      <th>miny</th>\n",
       "      <th>maxx</th>\n",
       "      <th>maxy</th>\n",
       "    </tr>\n",
       "  </thead>\n",
       "  <tbody>\n",
       "    <tr>\n",
       "      <th>1</th>\n",
       "      <td>29.339998</td>\n",
       "      <td>-11.720938</td>\n",
       "      <td>40.316590</td>\n",
       "      <td>-0.950000</td>\n",
       "    </tr>\n",
       "    <tr>\n",
       "      <th>2</th>\n",
       "      <td>-17.063423</td>\n",
       "      <td>20.999752</td>\n",
       "      <td>-8.665124</td>\n",
       "      <td>27.656426</td>\n",
       "    </tr>\n",
       "    <tr>\n",
       "      <th>11</th>\n",
       "      <td>12.182337</td>\n",
       "      <td>-13.257227</td>\n",
       "      <td>31.174149</td>\n",
       "      <td>5.256088</td>\n",
       "    </tr>\n",
       "    <tr>\n",
       "      <th>12</th>\n",
       "      <td>40.981050</td>\n",
       "      <td>-1.683250</td>\n",
       "      <td>51.133870</td>\n",
       "      <td>12.024640</td>\n",
       "    </tr>\n",
       "    <tr>\n",
       "      <th>13</th>\n",
       "      <td>33.893569</td>\n",
       "      <td>-4.676770</td>\n",
       "      <td>41.855083</td>\n",
       "      <td>5.506000</td>\n",
       "    </tr>\n",
       "  </tbody>\n",
       "</table>\n",
       "</div>"
      ],
      "text/plain": [
       "         minx       miny       maxx       maxy\n",
       "1   29.339998 -11.720938  40.316590  -0.950000\n",
       "2  -17.063423  20.999752  -8.665124  27.656426\n",
       "11  12.182337 -13.257227  31.174149   5.256088\n",
       "12  40.981050  -1.683250  51.133870  12.024640\n",
       "13  33.893569  -4.676770  41.855083   5.506000"
      ]
     },
     "execution_count": 18,
     "metadata": {},
     "output_type": "execute_result"
    }
   ],
   "source": [
    "data.bounds.head()"
   ]
  },
  {
   "cell_type": "markdown",
   "id": "5c3bda05-d74d-4358-88f4-0beb7a71f4a7",
   "metadata": {},
   "source": [
    "### Convex hull\n",
    "\n",
    "A bit more detailed delineation of the data extent can be extracted using a convex hull which represents the smalles possible polygon that contains all points in an object. If we apply the convex hull method on the whole `GeoDataFrame`, we will get a GeoSeries containing a convex hull for each polygon separately."
   ]
  },
  {
   "cell_type": "code",
   "execution_count": 19,
   "id": "6bc6b301-699b-41b5-afa6-6c21dd261114",
   "metadata": {},
   "outputs": [
    {
     "data": {
      "text/plain": [
       "1     POLYGON ((36.51408 -11.72094, 34.55999 -11.520...\n",
       "2     POLYGON ((-17.06342 20.99975, -17.02043 21.422...\n",
       "11    POLYGON ((29.69961 -13.25723, 28.93429 -13.248...\n",
       "12    POLYGON ((41.58513 -1.68325, 40.99300 -0.85829...\n",
       "13    POLYGON ((39.20222 -4.67677, 37.76690 -3.67712...\n",
       "dtype: geometry"
      ]
     },
     "execution_count": 19,
     "metadata": {},
     "output_type": "execute_result"
    }
   ],
   "source": [
    "data.convex_hull.head()"
   ]
  },
  {
   "cell_type": "markdown",
   "id": "744f8507-5ddb-4681-9c2f-c4ccd8d8229b",
   "metadata": {},
   "source": [
    "In order to create a covex hull for the whole extent, we need to first create an union of all polygons. "
   ]
  },
  {
   "cell_type": "code",
   "execution_count": 20,
   "id": "8a81a3c2-f4f2-423e-9737-d5030d1cbe96",
   "metadata": {},
   "outputs": [
    {
     "data": {
      "image/svg+xml": [
       "<svg xmlns=\"http://www.w3.org/2000/svg\" xmlns:xlink=\"http://www.w3.org/1999/xlink\" width=\"100.0\" height=\"100.0\" viewBox=\"-20.51180912116627 -37.70593278579932 74.53244555184187 77.94269362824147\" preserveAspectRatio=\"xMinYMin meet\"><g transform=\"matrix(1,0,0,-1,0,2.5308280566428323)\"><path fill-rule=\"evenodd\" fill=\"#66cc99\" stroke=\"#555555\" stroke-width=\"1.5588538725648293\" opacity=\"0.6\" d=\"M 19.61640506356457,-34.81916635512371 L 18.85531456876987,-34.444305515278465 L 18.377410922934615,-34.13652068454807 L -16.61383826340328,12.170911159712702 L -17.62504269049066,14.729540513564073 L -17.06342322434257,20.999752102130827 L -17.02042843267577,21.422310288981578 L -16.973247849993243,21.885744533774982 L -15.982610642958036,23.723358466074046 L -14.439939947964831,26.254418443297652 L -9.300692918321886,32.564679266890664 L -8.657476365585012,33.240245266242425 L -5.92999426921989,35.75998810479399 L 1.466918572606545,36.605647081034405 L 6.261819695672613,37.11065501560674 L 9.509993523810607,37.349994411766545 L 11.02886722173335,37.09210317641396 L 34.265440000000005,31.219359999999998 L 51.1112,12.024640000000002 L 51.13387,11.74815 L 50.47653689962553,-15.226512139550543 L 50.377111443895956,-15.706069431219127 L 47.54772342305131,-23.781958916928517 L 47.095761346226595,-24.941629733990453 L 25.780628289500697,-33.94464609144834 L 20.071261020597632,-34.79513681410799 L 19.61640506356457,-34.81916635512371 z\" /></g></svg>"
      ],
      "text/plain": [
       "<shapely.geometry.polygon.Polygon at 0x233ad108130>"
      ]
     },
     "execution_count": 20,
     "metadata": {},
     "output_type": "execute_result"
    }
   ],
   "source": [
    "data.unary_union.convex_hull"
   ]
  },
  {
   "cell_type": "markdown",
   "id": "a6df7c4e-2df9-4d76-aa9f-0b6927697d3f",
   "metadata": {},
   "source": [
    "## Buffer\n",
    "\n",
    "Buffering is a common spatial operation that has a multitude of use cases in spatial analyses. For example, in transport network analyses, it is good to fetch the transport network also from outside the study area in order to capture routes that go beyond the study area border. \n",
    "\n",
    "The distance parameter in the `buffer` function defines the radius or the buffer (according to the coordinate reference system of the data)."
   ]
  },
  {
   "cell_type": "code",
   "execution_count": 25,
   "id": "045169e9-b23e-4165-b5be-f27dd167aadf",
   "metadata": {},
   "outputs": [
    {
     "name": "stderr",
     "output_type": "stream",
     "text": [
      "C:\\Users\\vuokkhei\\AppData\\Local\\Temp/ipykernel_10684/583415399.py:2: UserWarning: Geometry is in a geographic CRS. Results from 'buffer' are likely incorrect. Use 'GeoSeries.to_crs()' to re-project geometries to a projected CRS before this operation.\n",
      "\n",
      "  data.buffer(5).head()\n"
     ]
    },
    {
     "data": {
      "text/plain": [
       "1     POLYGON ((24.44038 -5.49760, 24.43302 -5.45999...\n",
       "2     POLYGON ((-18.15733 26.29049, -17.95773 26.600...\n",
       "11    POLYGON ((7.91933 -3.18689, 8.00505 -2.99403, ...\n",
       "12    POLYGON ((40.79639 9.04722, 40.99081 9.18493, ...\n",
       "13    POLYGON ((29.40372 2.29487, 29.39824 2.30625, ...\n",
       "dtype: geometry"
      ]
     },
     "execution_count": 25,
     "metadata": {},
     "output_type": "execute_result"
    }
   ],
   "source": [
    "# 5 km buffer for the travel time matrix extent\n",
    "data.buffer(5).head()"
   ]
  },
  {
   "cell_type": "markdown",
   "id": "05e5f7e9",
   "metadata": {
    "tags": []
   },
   "source": [
    "\n",
    "\n",
    "## Dissolving and merging geometries\n",
    "\n",
    "Data aggregation refers to a process where we combine data into groups. Spatial data aggregation refers to combining geometries into coarser spatial units based on some attributes. The process may also include the calculation of summary statistics. \n",
    "\n",
    "In pandas, we learned how to group and aggregate data using the `groupby`method. In geopandas, there is a function called `dissolve()` that groups the data based on an anttribute column and unions the geometries for each group in that attribute. \n",
    "\n",
    "Here we will conduct a simple dissolve operation through combining national borders by continent."
   ]
  },
  {
   "cell_type": "code",
   "execution_count": 22,
   "id": "f1ddc1d7",
   "metadata": {},
   "outputs": [
    {
     "data": {
      "text/html": [
       "<div>\n",
       "<style scoped>\n",
       "    .dataframe tbody tr th:only-of-type {\n",
       "        vertical-align: middle;\n",
       "    }\n",
       "\n",
       "    .dataframe tbody tr th {\n",
       "        vertical-align: top;\n",
       "    }\n",
       "\n",
       "    .dataframe thead th {\n",
       "        text-align: right;\n",
       "    }\n",
       "</style>\n",
       "<table border=\"1\" class=\"dataframe\">\n",
       "  <thead>\n",
       "    <tr style=\"text-align: right;\">\n",
       "      <th></th>\n",
       "      <th>geometry</th>\n",
       "      <th>pop_est</th>\n",
       "      <th>name</th>\n",
       "      <th>iso_a3</th>\n",
       "      <th>gdp_md_est</th>\n",
       "    </tr>\n",
       "    <tr>\n",
       "      <th>continent</th>\n",
       "      <th></th>\n",
       "      <th></th>\n",
       "      <th></th>\n",
       "      <th></th>\n",
       "      <th></th>\n",
       "    </tr>\n",
       "  </thead>\n",
       "  <tbody>\n",
       "    <tr>\n",
       "      <th>Africa</th>\n",
       "      <td>MULTIPOLYGON (((-11.43878 6.78592, -11.70819 6...</td>\n",
       "      <td>53950935</td>\n",
       "      <td>Tanzania</td>\n",
       "      <td>TZA</td>\n",
       "      <td>150600.0</td>\n",
       "    </tr>\n",
       "  </tbody>\n",
       "</table>\n",
       "</div>"
      ],
      "text/plain": [
       "                                                    geometry   pop_est  \\\n",
       "continent                                                                \n",
       "Africa     MULTIPOLYGON (((-11.43878 6.78592, -11.70819 6...  53950935   \n",
       "\n",
       "               name iso_a3  gdp_md_est  \n",
       "continent                               \n",
       "Africa     Tanzania    TZA    150600.0  "
      ]
     },
     "execution_count": 22,
     "metadata": {},
     "output_type": "execute_result"
    }
   ],
   "source": [
    "# Conduct the aggregation\n",
    "dissolved = data.dissolve(by=\"continent\")\n",
    "\n",
    "# Check the result\n",
    "dissolved"
   ]
  },
  {
   "cell_type": "markdown",
   "id": "152bde89",
   "metadata": {},
   "source": [
    "The column used for dissolving the data can now be found in the index."
   ]
  },
  {
   "cell_type": "code",
   "execution_count": 23,
   "id": "32fa4a1c",
   "metadata": {},
   "outputs": [
    {
     "data": {
      "text/plain": [
       "Index(['Africa'], dtype='object', name='continent')"
      ]
     },
     "execution_count": 23,
     "metadata": {},
     "output_type": "execute_result"
    }
   ],
   "source": [
    "dissolved.index"
   ]
  },
  {
   "cell_type": "markdown",
   "id": "0e0e82d9-dfd8-40ff-9d77-3620e877c27f",
   "metadata": {},
   "source": [
    "The dissolved data should have as many rows of data as there were unique values in the column - one row for each unique value. Let's compare the number of cells in the layers before and after the aggregation."
   ]
  },
  {
   "cell_type": "code",
   "execution_count": 24,
   "id": "0976aa20",
   "metadata": {},
   "outputs": [
    {
     "name": "stdout",
     "output_type": "stream",
     "text": [
      "Rows in original intersection GeoDataFrame: 51\n",
      "Rows in dissolved layer: 1\n"
     ]
    }
   ],
   "source": [
    "print(\"Rows in original intersection GeoDataFrame:\", len(data))\n",
    "print(\"Rows in dissolved layer:\", len(dissolved))"
   ]
  },
  {
   "cell_type": "markdown",
   "id": "194b621b",
   "metadata": {},
   "source": [
    "Indeed the number of rows in our data has decreased. For each row, the original polygon geometries have been dissolved. "
   ]
  }
 ],
 "metadata": {
  "kernelspec": {
   "display_name": "Python 3 (ipykernel)",
   "language": "python",
   "name": "python3"
  },
  "language_info": {
   "codemirror_mode": {
    "name": "ipython",
    "version": 3
   },
   "file_extension": ".py",
   "mimetype": "text/x-python",
   "name": "python",
   "nbconvert_exporter": "python",
   "pygments_lexer": "ipython3",
   "version": "3.9.7"
  }
 },
 "nbformat": 4,
 "nbformat_minor": 5
}
