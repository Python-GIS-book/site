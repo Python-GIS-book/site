{
 "cells": [
  {
   "cell_type": "markdown",
   "id": "68393dc8",
   "metadata": {
    "editable": true,
    "slideshow": {
     "slide_type": ""
    },
    "tags": []
   },
   "source": [
    "# Representing geographic data in Python\n",
    "\n",
    "In this chapter, we will learn how geometric objects (in vector format) are represented in Python using a library called [shapely](https://shapely.readthedocs.io/en/stable/manual.html) [^shapely]. In the following parts of the book, we will use a library called **geopandas** extensively which uses these **shapely** geometries to represent the geographic data in vector format. Understanding how these geometric objects work and can be created in Python is extremely useful, because these objects are the fundamental buildings blocks that enable us doing geographic data analysis. "
   ]
  },
  {
   "cell_type": "markdown",
   "id": "a8469fac",
   "metadata": {
    "editable": true,
    "slideshow": {
     "slide_type": ""
    },
    "tags": []
   },
   "source": [
    "## Creating vector geometries with shapely \n",
    "\n",
    "**Shapely** is a fundamental Python package for representing vector data geometries on a computer. Basic knowledge of shapely is important for using higher-level tools that depend on it, such as geopandas. Under the hood shapely uses a C++ library called [GEOS](https://trac.osgeo.org/geos) [^GEOS] to construct the geometries, which is one of the standard libraries behind various Geographic Information Systems (GIS) software, such as [PostGIS](https://postgis.net/) [^PostGIS] or [QGIS](http://www.qgis.org/en/site/) [^QGIS]. Objects and methods available in shapely adhere mainly to [the Open Geospatial Consortium’s Simple Features Access Specification](https://www.ogc.org/standards/sfa) [^OGC_sfa], as discussed in Chapter 5, making them compatible with various GIS tools. In this section, we give a quick overview of creating geometries using shapely. For a full list of shapely -related objects and methods, see [the shapely user manual online](https://shapely.readthedocs.io/en/stable/manual.html) [^shapely]."
   ]
  },
  {
   "cell_type": "markdown",
   "id": "2e91c9c5",
   "metadata": {
    "editable": true,
    "slideshow": {
     "slide_type": ""
    },
    "tags": []
   },
   "source": [
    "### Creating point geometries\n",
    "\n",
    "When creating geometries with shapely, we first need to import the geometric object class (such as `Point`) that we want to create from `shapely.geometry` which contains classes to create all possible geometry types. After importing the `Point` class, creating a point is easy: we just pass `x` and `y` coordinates into the `Point()` -class (with a possible `z` -coordinate) which will create the point for us:"
   ]
  },
  {
   "cell_type": "code",
   "execution_count": 26,
   "id": "878e4187",
   "metadata": {
    "collapsed": false,
    "editable": true,
    "jupyter": {
     "outputs_hidden": false
    },
    "slideshow": {
     "slide_type": ""
    },
    "tags": []
   },
   "outputs": [
    {
     "data": {
      "image/svg+xml": [
       "<svg xmlns=\"http://www.w3.org/2000/svg\" xmlns:xlink=\"http://www.w3.org/1999/xlink\" width=\"100.0\" height=\"100.0\" viewBox=\"1.2000000000000002 3.2 2.0 2.0\" preserveAspectRatio=\"xMinYMin meet\"><g transform=\"matrix(1,0,0,-1,0,8.4)\"><circle cx=\"2.2\" cy=\"4.2\" r=\"0.06\" stroke=\"#555555\" stroke-width=\"0.02\" fill=\"#66cc99\" opacity=\"0.6\" /></g></svg>"
      ],
      "text/plain": [
       "<POINT (2.2 4.2)>"
      ]
     },
     "execution_count": 26,
     "metadata": {},
     "output_type": "execute_result"
    }
   ],
   "source": [
    "from shapely.geometry import Point\n",
    "\n",
    "point = Point(2.2, 4.2)\n",
    "point3D = Point(9.26, -2.456, 0.57)\n",
    "\n",
    "point"
   ]
  },
  {
   "cell_type": "markdown",
   "id": "747afbae",
   "metadata": {
    "editable": true,
    "slideshow": {
     "slide_type": ""
    },
    "tags": []
   },
   "source": [
    "_**Figure 6.1**. A visual representation of a Shapely Point geometry._\n",
    "\n",
    "As we can see, Jupyter Notebook is able to visualize the point shape on the screen. This point demonstrates a very simple geographic object that we can start using in geographic data analysis. Notice that without information about a coordinate reference system (CRS) attached to the geometry, these coordinates are ultimately just arbitrary numbers that do not represent any specific location on Earth. We will learn later in the book, how it is possible to specify a CRS for a set of geometries using geopandas library.\n",
    "\n",
    "We can use the `print()` statement to get the text representation of the point geometry as [Well Known Text (WKT)](https://en.wikipedia.org/wiki/Well-known_text_representation_of_geometry) [^WKT]. In the output, the letter `Z` after the `POINT` indicates that the geometry contains coordinates in three dimensions (x, y, elevation):"
   ]
  },
  {
   "cell_type": "code",
   "execution_count": 27,
   "id": "fd5befd6",
   "metadata": {
    "collapsed": false,
    "editable": true,
    "jupyter": {
     "outputs_hidden": false
    },
    "slideshow": {
     "slide_type": ""
    },
    "tags": []
   },
   "outputs": [
    {
     "name": "stdout",
     "output_type": "stream",
     "text": [
      "POINT (2.2 4.2)\n",
      "POINT Z (9.26 -2.456 0.57)\n"
     ]
    }
   ],
   "source": [
    "print(point)\n",
    "print(point3D)"
   ]
  },
  {
   "cell_type": "markdown",
   "id": "67e79223-65d4-4e88-9f5f-e09926884662",
   "metadata": {
    "editable": true,
    "slideshow": {
     "slide_type": ""
    },
    "tags": []
   },
   "source": [
    "It is also possible to access the WKT presentation of the geometry (without printing) using the `.wkt` attribute:"
   ]
  },
  {
   "cell_type": "code",
   "execution_count": 28,
   "id": "f9e61fa1-f811-4e91-bb6b-3aa27c0c0e5b",
   "metadata": {
    "editable": true,
    "slideshow": {
     "slide_type": ""
    },
    "tags": []
   },
   "outputs": [
    {
     "data": {
      "text/plain": [
       "'POINT (2.2 4.2)'"
      ]
     },
     "execution_count": 28,
     "metadata": {},
     "output_type": "execute_result"
    }
   ],
   "source": [
    "point.wkt"
   ]
  },
  {
   "cell_type": "markdown",
   "id": "6beca2a9",
   "metadata": {
    "editable": true,
    "slideshow": {
     "slide_type": ""
    },
    "tags": []
   },
   "source": [
    "One useful thing that you can do with these point objects is to extract specific geographic information from them, such as coordinates of the point. There are different approaches for extracting the coordinates into numerical values. One of them is a property called `.coords` which gives us access to the coordinates. The `.coords` attribute returns the coordinates of the point geometry as a `CoordinateSequence` which is a dedicated data structure for storing a list of coordinates. For our purposes, we can convert the `coords` into a list that makes the values visible and make it easy to access the contents: "
   ]
  },
  {
   "cell_type": "code",
   "execution_count": 3,
   "id": "4dbb03b5-d746-4e73-b6d8-a616c9afca4f",
   "metadata": {
    "editable": true,
    "slideshow": {
     "slide_type": ""
    },
    "tags": []
   },
   "outputs": [
    {
     "data": {
      "text/plain": [
       "shapely.coords.CoordinateSequence"
      ]
     },
     "execution_count": 3,
     "metadata": {},
     "output_type": "execute_result"
    }
   ],
   "source": [
    "type(point.coords)"
   ]
  },
  {
   "cell_type": "code",
   "execution_count": 4,
   "id": "0ef6c6a7",
   "metadata": {
    "editable": true,
    "slideshow": {
     "slide_type": ""
    },
    "tags": []
   },
   "outputs": [
    {
     "data": {
      "text/plain": [
       "[(2.2, 4.2)]"
      ]
     },
     "execution_count": 4,
     "metadata": {},
     "output_type": "execute_result"
    }
   ],
   "source": [
    "list(point.coords)"
   ]
  },
  {
   "cell_type": "markdown",
   "id": "b05b5149",
   "metadata": {},
   "source": [
    "It is also possible to access the coordinates directly using the `x` and `y` properties of the `Point` object:"
   ]
  },
  {
   "cell_type": "code",
   "execution_count": 5,
   "id": "0c4c27cd",
   "metadata": {
    "collapsed": false,
    "jupyter": {
     "outputs_hidden": false
    }
   },
   "outputs": [
    {
     "name": "stdout",
     "output_type": "stream",
     "text": [
      "2.2\n",
      "4.2\n"
     ]
    }
   ],
   "source": [
    "print(point.x)\n",
    "print(point.y)"
   ]
  },
  {
   "cell_type": "markdown",
   "id": "9fd420da",
   "metadata": {
    "editable": true,
    "slideshow": {
     "slide_type": ""
    },
    "tags": []
   },
   "source": [
    "Points and other shapely objects have many useful built-in attributes and methods. See [shapely documentation ](https://shapely.readthedocs.io/en/stable/manual.html#general-attributes-and-methods) [^shapely] for a full list. For example, it is possible to calculate the Euclidian distance between points, or to create a buffer polygon for the point object. All of these functionalities are integrated into geopandas library, and we will go through them later in the book. \n"
   ]
  },
  {
   "cell_type": "markdown",
   "id": "7641e6fa",
   "metadata": {
    "editable": true,
    "slideshow": {
     "slide_type": ""
    },
    "tags": []
   },
   "source": [
    "### Creating LineString geometries\n",
    "\n",
    "\n",
    "Creating a `LineString` -object is very similar to creating a `Point`-object. To be able to create a `LineString`, we need at least two points that are connected to each other, which thus constitute a line. We can construct the line using either a list of `Point`-objects or pass the point coordinates as coordinate-tuples to the `LineString` constructor:"
   ]
  },
  {
   "cell_type": "code",
   "execution_count": 6,
   "id": "31ff39e0",
   "metadata": {
    "collapsed": false,
    "jupyter": {
     "outputs_hidden": false
    }
   },
   "outputs": [
    {
     "data": {
      "image/svg+xml": [
       "<svg xmlns=\"http://www.w3.org/2000/svg\" xmlns:xlink=\"http://www.w3.org/1999/xlink\" width=\"100.0\" height=\"100.0\" viewBox=\"1.028 -26.272000000000002 9.404 31.644000000000002\" preserveAspectRatio=\"xMinYMin meet\"><g transform=\"matrix(1,0,0,-1,0,-20.900000000000002)\"><polyline fill=\"none\" stroke=\"#66cc99\" stroke-width=\"0.63288\" points=\"2.2,4.2 7.2,-25.1 9.26,-2.456\" opacity=\"0.8\" /></g></svg>"
      ],
      "text/plain": [
       "<LINESTRING (2.2 4.2, 7.2 -25.1, 9.26 -2.456)>"
      ]
     },
     "execution_count": 6,
     "metadata": {},
     "output_type": "execute_result"
    }
   ],
   "source": [
    "from shapely.geometry import Point, LineString\n",
    "\n",
    "point1 = Point(2.2, 4.2)\n",
    "point2 = Point(7.2, -25.1)\n",
    "point3 = Point(9.26, -2.456)\n",
    "\n",
    "line = LineString([point1, point2, point3])\n",
    "line_from_tuples = LineString([(2.2, 4.2), (7.2, -25.1), (9.26, -2.456)])\n",
    "line"
   ]
  },
  {
   "cell_type": "markdown",
   "id": "b03324f1-e590-4be0-bd1d-a3a2acfb0f65",
   "metadata": {},
   "source": [
    "_**Figure 6.2**. A visual representation of a Shapely LineString geometry._"
   ]
  },
  {
   "cell_type": "code",
   "execution_count": 29,
   "id": "4e5da9c8",
   "metadata": {
    "editable": true,
    "slideshow": {
     "slide_type": ""
    },
    "tags": []
   },
   "outputs": [
    {
     "data": {
      "text/plain": [
       "'LINESTRING (2.2 4.2, 7.2 -25.1, 9.26 -2.456)'"
      ]
     },
     "execution_count": 29,
     "metadata": {},
     "output_type": "execute_result"
    }
   ],
   "source": [
    "line.wkt"
   ]
  },
  {
   "cell_type": "markdown",
   "id": "2fe4dc61",
   "metadata": {
    "editable": true,
    "slideshow": {
     "slide_type": ""
    },
    "tags": []
   },
   "source": [
    "As we can see from above, the WKT representation of the `line` -variable constitutes of multiple coordinate-pairs. `LineString` -objects have many useful built-in attributes and methods similarly as `Point` -objects. It is for instance possible to extract the coordinates, calculate the length of the `LineString`, find out the centroid of the line, create points along the line at specific distance, calculate the closest distance from a line to specified Point, or simplify the geometry. A full list of functionalities can again be read from [shapely documentation](https://shapely.readthedocs.io/en/stable/manual.html) [^shapely]. Most of these functionalities are directly implemented in geopandas (see next chapter). Hence, you very seldomly need to parse these information directly from the shapely geometries yourself. However, here we go through a few of them for reference. We can extract the coordinates of a LineString similarly as with `Point`:"
   ]
  },
  {
   "cell_type": "code",
   "execution_count": 8,
   "id": "bb87a20c",
   "metadata": {
    "collapsed": false,
    "jupyter": {
     "outputs_hidden": false
    }
   },
   "outputs": [
    {
     "data": {
      "text/plain": [
       "[(2.2, 4.2), (7.2, -25.1), (9.26, -2.456)]"
      ]
     },
     "execution_count": 8,
     "metadata": {},
     "output_type": "execute_result"
    }
   ],
   "source": [
    "list(line.coords)"
   ]
  },
  {
   "cell_type": "markdown",
   "id": "757ebec8",
   "metadata": {},
   "source": [
    "As a result, we have a list of coordinate tuples (x,y) inside a list. If you need to access all `x` -coordinates or all `y` -coordinates of the line, you can do it directly using the `xy` attribute: "
   ]
  },
  {
   "cell_type": "code",
   "execution_count": 9,
   "id": "4821c6d2",
   "metadata": {
    "collapsed": false,
    "jupyter": {
     "outputs_hidden": false
    }
   },
   "outputs": [
    {
     "name": "stdout",
     "output_type": "stream",
     "text": [
      "[2.2, 7.2, 9.26]\n",
      "[4.2, -25.1, -2.456]\n"
     ]
    }
   ],
   "source": [
    "xcoords = list(line.xy[0])\n",
    "ycoords = list(line.xy[1])\n",
    "\n",
    "print(xcoords)\n",
    "print(ycoords)"
   ]
  },
  {
   "cell_type": "markdown",
   "id": "d6c5ad83",
   "metadata": {},
   "source": [
    "It is possible to retrieve specific attributes such as `length` of the line and center of the line (`centroid`) straight from the `LineString` object itself:"
   ]
  },
  {
   "cell_type": "code",
   "execution_count": 10,
   "id": "3de3f95a",
   "metadata": {
    "collapsed": false,
    "jupyter": {
     "outputs_hidden": false
    }
   },
   "outputs": [
    {
     "name": "stdout",
     "output_type": "stream",
     "text": [
      "Length of our line: 52.46 units\n",
      "Centroid: POINT (6.229961354035622 -11.892411157572392)\n"
     ]
    }
   ],
   "source": [
    "length = line.length\n",
    "centroid = line.centroid\n",
    "print(f\"Length of our line: {length:.2f} units\")\n",
    "print(f\"Centroid: {centroid}\")"
   ]
  },
  {
   "cell_type": "markdown",
   "id": "c3d8402d",
   "metadata": {},
   "source": [
    "As you can see, the centroid of the line is again a `shapely.geometry.Point` object. This is useful, because it means that you can continue working with the line centroid having access to all of the methods that come with the shapely `Point` object."
   ]
  },
  {
   "cell_type": "markdown",
   "id": "28e421a1",
   "metadata": {},
   "source": [
    "### Creating Polygon geometries\n",
    "\n",
    "Creating a `Polygon` -object continues the same logic as when creating `Point` and `LineString` objects. A `Polygon` can be created by passing a list of `Point` objects or a list of coordinate-tuples as input for the `Polygon` class. `Polygon` needs at least three coordinate-tuples to form a surface. In the following, we use the same points from the earlier `LineString` example to create a `Polygon`."
   ]
  },
  {
   "cell_type": "code",
   "execution_count": 11,
   "id": "4969848f",
   "metadata": {
    "collapsed": false,
    "jupyter": {
     "outputs_hidden": false
    }
   },
   "outputs": [
    {
     "data": {
      "image/svg+xml": [
       "<svg xmlns=\"http://www.w3.org/2000/svg\" xmlns:xlink=\"http://www.w3.org/1999/xlink\" width=\"100.0\" height=\"100.0\" viewBox=\"1.028 -26.272000000000002 9.404 31.644000000000002\" preserveAspectRatio=\"xMinYMin meet\"><g transform=\"matrix(1,0,0,-1,0,-20.900000000000002)\"><path fill-rule=\"evenodd\" fill=\"#66cc99\" stroke=\"#555555\" stroke-width=\"0.63288\" opacity=\"0.6\" d=\"M 2.2,4.2 L 7.2,-25.1 L 9.26,-2.456 L 2.2,4.2 z\" /></g></svg>"
      ],
      "text/plain": [
       "<POLYGON ((2.2 4.2, 7.2 -25.1, 9.26 -2.456, 2.2 4.2))>"
      ]
     },
     "execution_count": 11,
     "metadata": {},
     "output_type": "execute_result"
    }
   ],
   "source": [
    "from shapely.geometry import Polygon\n",
    "\n",
    "poly = Polygon([point1, point2, point3])\n",
    "poly"
   ]
  },
  {
   "cell_type": "markdown",
   "id": "8503ab35-6437-47a3-85ce-2f375b6c1a5e",
   "metadata": {},
   "source": [
    "_**Figure 6.3**. A visual representation of a Shapely Polygon geometry._"
   ]
  },
  {
   "cell_type": "code",
   "execution_count": 30,
   "id": "3be334d8",
   "metadata": {
    "editable": true,
    "slideshow": {
     "slide_type": ""
    },
    "tags": []
   },
   "outputs": [
    {
     "data": {
      "text/plain": [
       "'POLYGON ((2.2 4.2, 7.2 -25.1, 9.26 -2.456, 2.2 4.2))'"
      ]
     },
     "execution_count": 30,
     "metadata": {},
     "output_type": "execute_result"
    }
   ],
   "source": [
    "poly.wkt"
   ]
  },
  {
   "cell_type": "markdown",
   "id": "5de30468",
   "metadata": {
    "editable": true,
    "slideshow": {
     "slide_type": ""
    },
    "tags": []
   },
   "source": [
    "Notice that the `Polygon` WKT representation has double parentheses around the coordinates (i.e. `POLYGON ((<values in here>))` ). This is because Polygon can also have holes inside of it. A `Polygon` is constructed from *exterior* ring and and optiona *interior* ring, that can be used to represent a hole in the polygon. You can get more information about the `Polygon` object by running `help(poly)` of from the [shapely online documentation](https://shapely.readthedocs.io/en/stable/manual.html?highlight=Polygon#Polygon) [^polygon]. Here is a simplified extract from the output of `help(Polygon)`:\n",
    "\n",
    "```\n",
    "class Polygon(shapely.geometry.base.BaseGeometry)\n",
    " |  Polygon(shell=None, holes=None)\n",
    " |  \n",
    " |  A two-dimensional figure bounded by a linear ring\n",
    " |  \n",
    " |  A polygon has a non-zero area. It may have one or more negative-space\n",
    " |  \"holes\" which are also bounded by linear rings. If any rings cross each\n",
    " |  other, the feature is invalid and operations on it may fail.\n",
    " |  \n",
    " |  Attributes\n",
    " |  ----------\n",
    " |  exterior : LinearRing\n",
    " |      The ring which bounds the positive space of the polygon.\n",
    " |  interiors : sequence\n",
    " |      A sequence of rings which bound all existing holes.\n",
    " |  \n",
    " |  Parameters\n",
    " |  ----------\n",
    " |  shell : sequence\n",
    " |     A sequence of (x, y [,z]) numeric coordinate pairs or triples.\n",
    " |     Also can be a sequence of Point objects.\n",
    " |  holes : sequence\n",
    " |      A sequence of objects which satisfy the same requirements as the\n",
    " |      shell parameters above\n",
    "```"
   ]
  },
  {
   "cell_type": "markdown",
   "id": "6c063ab5",
   "metadata": {},
   "source": [
    "If we want to create a `Polygon` with a hole, we can do this by using parameters `shell` for the exterior and `holes` for the interiors. In the following, we see how to create a `Polygon` with a hole in it. Notice, that because a `Polygon` can have multiple holes, the `hole_coords` variable below contains nested square brackets (`[[ ]]`), which is due to the possibility of having multiple holes in a single `Polygon`. First, let's define the coordinates for the exterior and interior rings:"
   ]
  },
  {
   "cell_type": "code",
   "execution_count": 13,
   "id": "47cd3e68",
   "metadata": {},
   "outputs": [],
   "source": [
    "# Define the exterior\n",
    "exterior = [(-180, 90), (-180, -90), (180, -90), (180, 90)]\n",
    "\n",
    "# Define the hole\n",
    "hole = [[(-170, 80), (-170, -80), (170, -80), (170, 80)]]"
   ]
  },
  {
   "cell_type": "markdown",
   "id": "7906660f",
   "metadata": {},
   "source": [
    "The attribute `exterior` contains the `x` and `y` coordinates of all the corners of the `Polygon` as a list of tuples. For instance, the first tuple `(-180, 90)` contains coordinates for the top-left corner of the `Polygon`. With these four coordinate tuples, we can first create a polygon without a hole:"
   ]
  },
  {
   "cell_type": "code",
   "execution_count": 14,
   "id": "79f577d5",
   "metadata": {},
   "outputs": [
    {
     "data": {
      "image/svg+xml": [
       "<svg xmlns=\"http://www.w3.org/2000/svg\" xmlns:xlink=\"http://www.w3.org/1999/xlink\" width=\"300\" height=\"208.8\" viewBox=\"-194.4 -104.4 388.8 208.8\" preserveAspectRatio=\"xMinYMin meet\"><g transform=\"matrix(1,0,0,-1,0,0.0)\"><path fill-rule=\"evenodd\" fill=\"#66cc99\" stroke=\"#555555\" stroke-width=\"2.592\" opacity=\"0.6\" d=\"M -180.0,90.0 L -180.0,-90.0 L 180.0,-90.0 L 180.0,90.0 L -180.0,90.0 z\" /></g></svg>"
      ],
      "text/plain": [
       "<POLYGON ((-180 90, -180 -90, 180 -90, 180 90, -180 90))>"
      ]
     },
     "execution_count": 14,
     "metadata": {},
     "output_type": "execute_result"
    }
   ],
   "source": [
    "poly_without_hole = Polygon(shell=exterior)\n",
    "poly_without_hole"
   ]
  },
  {
   "cell_type": "markdown",
   "id": "aad2de60-c895-4bc6-9aed-021b40a896f5",
   "metadata": {},
   "source": [
    "_**Figure 6.4**. A Shapely Polygon geometry (exterior) without any holes._"
   ]
  },
  {
   "cell_type": "markdown",
   "id": "b80d6b29-b09c-4b57-b3ab-1aa01cfda63e",
   "metadata": {},
   "source": [
    "In a similar manner, we can make a `Polygon` with a hole by passing the variable containing the coordinates of the hole into the parameter `holes`:"
   ]
  },
  {
   "cell_type": "code",
   "execution_count": 15,
   "id": "61b12644",
   "metadata": {},
   "outputs": [
    {
     "data": {
      "image/svg+xml": [
       "<svg xmlns=\"http://www.w3.org/2000/svg\" xmlns:xlink=\"http://www.w3.org/1999/xlink\" width=\"300\" height=\"208.8\" viewBox=\"-194.4 -104.4 388.8 208.8\" preserveAspectRatio=\"xMinYMin meet\"><g transform=\"matrix(1,0,0,-1,0,0.0)\"><path fill-rule=\"evenodd\" fill=\"#66cc99\" stroke=\"#555555\" stroke-width=\"2.592\" opacity=\"0.6\" d=\"M -180.0,90.0 L -180.0,-90.0 L 180.0,-90.0 L 180.0,90.0 L -180.0,90.0 z M -170.0,80.0 L -170.0,-80.0 L 170.0,-80.0 L 170.0,80.0 L -170.0,80.0 z\" /></g></svg>"
      ],
      "text/plain": [
       "<POLYGON ((-180 90, -180 -90, 180 -90, 180 90, -180 90), (-170 80, -170 -80,...>"
      ]
     },
     "execution_count": 15,
     "metadata": {},
     "output_type": "execute_result"
    }
   ],
   "source": [
    "poly_with_hole = Polygon(shell=exterior, holes=hole)\n",
    "poly_with_hole"
   ]
  },
  {
   "cell_type": "markdown",
   "id": "7da4a6be",
   "metadata": {},
   "source": [
    "_**Figure 6.5**. A Shapely Polygon geometry with a single hole inside of it._\n",
    "\n",
    "As we can see, now the Polygon contains a large hole inside of it, and the actual geometry is located at the borders, resembling a frame of a painting. Let's also take a look how the WKT representation of the polygon looks like:"
   ]
  },
  {
   "cell_type": "code",
   "execution_count": 31,
   "id": "67c2bdd4",
   "metadata": {
    "editable": true,
    "slideshow": {
     "slide_type": ""
    },
    "tags": []
   },
   "outputs": [
    {
     "data": {
      "text/plain": [
       "'POLYGON ((-180 90, -180 -90, 180 -90, 180 90, -180 90), (-170 80, -170 -80, 170 -80, 170 80, -170 80))'"
      ]
     },
     "execution_count": 31,
     "metadata": {},
     "output_type": "execute_result"
    }
   ],
   "source": [
    "poly_with_hole.wkt"
   ]
  },
  {
   "cell_type": "markdown",
   "id": "95ba9743",
   "metadata": {
    "editable": true,
    "slideshow": {
     "slide_type": ""
    },
    "tags": []
   },
   "source": [
    "As we can see the `Polygon` has now two different tuples of coordinates. The first one represents the outer ring and the second one represents the inner ring, i.e. the hole. \n",
    "\n",
    "There are many useful attributes and methods related to shapely `Polygon`, such as `area`, `centroid`, `bounding box`, `exterior`, and `exterior-length`. For a full list, see the `shapely` documentation [^shapely]. Same attributes and methods are also available when working with polygon data in `geopandas`. Here are a couple of polygon attributes that are often useful when doing geographic data analysis:"
   ]
  },
  {
   "cell_type": "code",
   "execution_count": 17,
   "id": "be96e5a7",
   "metadata": {},
   "outputs": [
    {
     "name": "stdout",
     "output_type": "stream",
     "text": [
      "Polygon centroid:  POINT (6.22 -7.785333333333334)\n",
      "Polygon Area:  86.789\n",
      "Polygon Bounding Box:  (2.2, -25.1, 9.26, 4.2)\n",
      "Polygon Exterior:  LINEARRING (2.2 4.2, 7.2 -25.1, 9.26 -2.456, 2.2 4.2)\n",
      "Polygon Exterior Length:  62.16395199996553\n"
     ]
    }
   ],
   "source": [
    "print(\"Polygon centroid: \", poly.centroid)\n",
    "print(\"Polygon Area: \", poly.area)\n",
    "print(\"Polygon Bounding Box: \", poly.bounds)\n",
    "print(\"Polygon Exterior: \", poly.exterior)\n",
    "print(\"Polygon Exterior Length: \", poly.exterior.length)"
   ]
  },
  {
   "cell_type": "markdown",
   "id": "b0b8f977",
   "metadata": {},
   "source": [
    "Notice, that the `length` and `area` information are presented here following the units of the input coordinates. In our case, the coordinates actually represent longitude and latitude values. Thus, the lenght and area are represented as decimal degrees in this case. We can turn this information into a more sensible format (in meters and m2) when we start working with data in a projected coordinate system later in the book. \n",
    "\n",
    "Box polygons that represent the minimum bounding box of given coordinates are useful in many applications. `shapely.box` can be used for creating rectangular box polygons based on on minimum and maximum `x` and `y` coordinates that represent the coordinate information of the bottom-left and top-right corners of the rectangle. Here we will use `shapely.box` to re-create the same polygon exterior.  "
   ]
  },
  {
   "cell_type": "code",
   "execution_count": 18,
   "id": "6a863ed7",
   "metadata": {},
   "outputs": [
    {
     "data": {
      "image/svg+xml": [
       "<svg xmlns=\"http://www.w3.org/2000/svg\" xmlns:xlink=\"http://www.w3.org/1999/xlink\" width=\"300\" height=\"208.8\" viewBox=\"-194.4 -104.4 388.8 208.8\" preserveAspectRatio=\"xMinYMin meet\"><g transform=\"matrix(1,0,0,-1,0,0.0)\"><path fill-rule=\"evenodd\" fill=\"#66cc99\" stroke=\"#555555\" stroke-width=\"2.592\" opacity=\"0.6\" d=\"M 180.0,-90.0 L 180.0,90.0 L -180.0,90.0 L -180.0,-90.0 L 180.0,-90.0 z\" /></g></svg>"
      ],
      "text/plain": [
       "<POLYGON ((180 -90, 180 90, -180 90, -180 -90, 180 -90))>"
      ]
     },
     "execution_count": 18,
     "metadata": {},
     "output_type": "execute_result"
    }
   ],
   "source": [
    "from shapely.geometry import box\n",
    "\n",
    "min_x, min_y = -180, -90\n",
    "max_x, max_y = 180, 90\n",
    "box_poly = box(minx=min_x, miny=min_y, maxx=max_x, maxy=max_y)\n",
    "box_poly"
   ]
  },
  {
   "cell_type": "markdown",
   "id": "3ca04e09-8bda-4ee3-adaa-be9221a10d6e",
   "metadata": {},
   "source": [
    "_**Figure 6.6**. A Shapely Polygon geometry created with the `box` helper class._"
   ]
  },
  {
   "cell_type": "code",
   "execution_count": 32,
   "id": "560d3f75",
   "metadata": {
    "editable": true,
    "slideshow": {
     "slide_type": ""
    },
    "tags": []
   },
   "outputs": [
    {
     "data": {
      "text/plain": [
       "'POLYGON ((180 -90, 180 90, -180 90, -180 -90, 180 -90))'"
      ]
     },
     "execution_count": 32,
     "metadata": {},
     "output_type": "execute_result"
    }
   ],
   "source": [
    "box_poly.wkt"
   ]
  },
  {
   "cell_type": "markdown",
   "id": "30855618",
   "metadata": {
    "editable": true,
    "slideshow": {
     "slide_type": ""
    },
    "tags": []
   },
   "source": [
    "In practice, the `box` function is quite useful for example when you want to select geometries from a specific area of interest. In these cases, you only need to find out the coordinates of two points on the map (bottom-left and top-righ corners) to be able create the bounding box polygon.   "
   ]
  },
  {
   "cell_type": "markdown",
   "id": "4e5932b2",
   "metadata": {},
   "source": [
    "### Creating MultiPoint, MultiLineString and MultiPolygon geometries"
   ]
  },
  {
   "cell_type": "markdown",
   "id": "1355f971",
   "metadata": {},
   "source": [
    "Creating a collection of `Point`, `LineString` or `Polygon` objects is very straightforward now as you have seen how to create the basic geometric objects. In the `Multi` -versions of these geometries, you just pass a list of points, lines or polygons to the `MultiPoint`, `MultiLineString` or `MultiPolygon` constructors as shown below:"
   ]
  },
  {
   "cell_type": "code",
   "execution_count": 20,
   "id": "68841a11",
   "metadata": {},
   "outputs": [
    {
     "data": {
      "image/svg+xml": [
       "<svg xmlns=\"http://www.w3.org/2000/svg\" xmlns:xlink=\"http://www.w3.org/1999/xlink\" width=\"100.0\" height=\"100.0\" viewBox=\"1.96 1.96 1.08 1.08\" preserveAspectRatio=\"xMinYMin meet\"><g transform=\"matrix(1,0,0,-1,0,5.0)\"><g><circle cx=\"2.0\" cy=\"2.0\" r=\"0.0324\" stroke=\"#555555\" stroke-width=\"0.0108\" fill=\"#66cc99\" opacity=\"0.6\" /><circle cx=\"3.0\" cy=\"3.0\" r=\"0.0324\" stroke=\"#555555\" stroke-width=\"0.0108\" fill=\"#66cc99\" opacity=\"0.6\" /></g></g></svg>"
      ],
      "text/plain": [
       "<MULTIPOINT (2 2, 3 3)>"
      ]
     },
     "execution_count": 20,
     "metadata": {},
     "output_type": "execute_result"
    }
   ],
   "source": [
    "from shapely.geometry import MultiPoint, MultiLineString, MultiPolygon\n",
    "\n",
    "multipoint = MultiPoint([Point(2, 2), Point(3, 3)])\n",
    "multipoint"
   ]
  },
  {
   "cell_type": "markdown",
   "id": "0bea0c27-7cd8-487f-a249-c01917abb89a",
   "metadata": {},
   "source": [
    "_**Figure 6.7**. A Shapely MultiPoint geometry consisting of two Point objects._"
   ]
  },
  {
   "cell_type": "code",
   "execution_count": 21,
   "id": "2f9f26b8",
   "metadata": {},
   "outputs": [
    {
     "data": {
      "image/svg+xml": [
       "<svg xmlns=\"http://www.w3.org/2000/svg\" xmlns:xlink=\"http://www.w3.org/1999/xlink\" width=\"100.0\" height=\"100.0\" viewBox=\"1.84 1.84 4.32 2.3200000000000003\" preserveAspectRatio=\"xMinYMin meet\"><g transform=\"matrix(1,0,0,-1,0,6.0)\"><g><polyline fill=\"none\" stroke=\"#66cc99\" stroke-width=\"0.0864\" points=\"2.0,2.0 3.0,3.0\" opacity=\"0.8\" /><polyline fill=\"none\" stroke=\"#66cc99\" stroke-width=\"0.0864\" points=\"4.0,3.0 6.0,4.0\" opacity=\"0.8\" /></g></g></svg>"
      ],
      "text/plain": [
       "<MULTILINESTRING ((2 2, 3 3), (4 3, 6 4))>"
      ]
     },
     "execution_count": 21,
     "metadata": {},
     "output_type": "execute_result"
    }
   ],
   "source": [
    "multiline = MultiLineString(\n",
    "    [LineString([(2, 2), (3, 3)]), LineString([(4, 3), (6, 4)])]\n",
    ")\n",
    "multiline"
   ]
  },
  {
   "cell_type": "markdown",
   "id": "cab3ca6e-22f2-4749-b0e6-eeb19f4d0467",
   "metadata": {},
   "source": [
    "_**Figure 6.8**. A Shapely MultiLineString geometry consisting of two LineString objects._"
   ]
  },
  {
   "cell_type": "code",
   "execution_count": 22,
   "id": "a69a2178",
   "metadata": {},
   "outputs": [
    {
     "data": {
      "image/svg+xml": [
       "<svg xmlns=\"http://www.w3.org/2000/svg\" xmlns:xlink=\"http://www.w3.org/1999/xlink\" width=\"100.0\" height=\"100.0\" viewBox=\"-0.48 -0.48 12.96 12.96\" preserveAspectRatio=\"xMinYMin meet\"><g transform=\"matrix(1,0,0,-1,0,12.0)\"><g><path fill-rule=\"evenodd\" fill=\"#66cc99\" stroke=\"#555555\" stroke-width=\"0.25920000000000004\" opacity=\"0.6\" d=\"M 0.0,0.0 L 0.0,4.0 L 4.0,4.0 L 0.0,0.0 z\" /><path fill-rule=\"evenodd\" fill=\"#66cc99\" stroke=\"#555555\" stroke-width=\"0.25920000000000004\" opacity=\"0.6\" d=\"M 6.0,6.0 L 6.0,12.0 L 12.0,12.0 L 6.0,6.0 z\" /></g></g></svg>"
      ],
      "text/plain": [
       "<MULTIPOLYGON (((0 0, 0 4, 4 4, 0 0)), ((6 6, 6 12, 12 12, 6 6)))>"
      ]
     },
     "execution_count": 22,
     "metadata": {},
     "output_type": "execute_result"
    }
   ],
   "source": [
    "multipoly = MultiPolygon(\n",
    "    [Polygon([(0, 0), (0, 4), (4, 4)]), Polygon([(6, 6), (6, 12), (12, 12)])]\n",
    ")\n",
    "multipoly"
   ]
  },
  {
   "cell_type": "markdown",
   "id": "2880b746-e98d-469f-af7c-9dd2bd202a3e",
   "metadata": {},
   "source": [
    "_**Figure 6.9**. A Shapely MultiPolygon geometry consisting of two Polygon objects._"
   ]
  },
  {
   "cell_type": "markdown",
   "id": "b33c96be",
   "metadata": {},
   "source": [
    "#### Question 6.1\n",
    "\n",
    "Create these shapes using Shapely!\n",
    "\n",
    "- **Triangle**   \n",
    "- **Square**    \n",
    "- **Circle**"
   ]
  },
  {
   "cell_type": "code",
   "execution_count": 23,
   "id": "3e3eaf81",
   "metadata": {
    "editable": true,
    "slideshow": {
     "slide_type": ""
    },
    "tags": [
     "remove_cell"
    ]
   },
   "outputs": [],
   "source": [
    "# Use this cell to enter your solution."
   ]
  },
  {
   "cell_type": "code",
   "execution_count": 24,
   "id": "e4276616",
   "metadata": {
    "editable": true,
    "slideshow": {
     "slide_type": ""
    },
    "tags": [
     "hide_cell",
     "remove_book_cell",
     "hide-cell"
    ]
   },
   "outputs": [
    {
     "data": {
      "image/svg+xml": [
       "<svg xmlns=\"http://www.w3.org/2000/svg\" xmlns:xlink=\"http://www.w3.org/1999/xlink\" width=\"100.0\" height=\"100.0\" viewBox=\"-1.08 -1.08 2.16 2.16\" preserveAspectRatio=\"xMinYMin meet\"><g transform=\"matrix(1,0,0,-1,0,0.0)\"><path fill-rule=\"evenodd\" fill=\"#66cc99\" stroke=\"#555555\" stroke-width=\"0.0432\" opacity=\"0.6\" d=\"M 1.0,0.0 L 0.9951847266721969,-0.0980171403295606 L 0.9807852804032304,-0.19509032201612825 L 0.9569403357322088,-0.29028467725446233 L 0.9238795325112867,-0.3826834323650898 L 0.881921264348355,-0.47139673682599764 L 0.8314696123025452,-0.5555702330196022 L 0.773010453362737,-0.6343932841636455 L 0.7071067811865476,-0.7071067811865475 L 0.6343932841636455,-0.773010453362737 L 0.5555702330196023,-0.8314696123025452 L 0.4713967368259978,-0.8819212643483549 L 0.38268343236508984,-0.9238795325112867 L 0.29028467725446233,-0.9569403357322089 L 0.19509032201612833,-0.9807852804032304 L 0.09801714032956077,-0.9951847266721968 L 6.123233995736766e-17,-1.0 L -0.09801714032956065,-0.9951847266721969 L -0.1950903220161282,-0.9807852804032304 L -0.29028467725446216,-0.9569403357322089 L -0.3826834323650897,-0.9238795325112867 L -0.4713967368259977,-0.881921264348355 L -0.555570233019602,-0.8314696123025455 L -0.6343932841636454,-0.7730104533627371 L -0.7071067811865475,-0.7071067811865476 L -0.773010453362737,-0.6343932841636455 L -0.8314696123025453,-0.5555702330196022 L -0.8819212643483549,-0.47139673682599786 L -0.9238795325112867,-0.3826834323650899 L -0.9569403357322088,-0.2902846772544624 L -0.9807852804032304,-0.1950903220161286 L -0.9951847266721968,-0.09801714032956083 L -1.0,-1.2246467991473532e-16 L -0.9951847266721969,0.09801714032956059 L -0.9807852804032304,0.19509032201612836 L -0.9569403357322089,0.2902846772544621 L -0.9238795325112868,0.38268343236508967 L -0.881921264348355,0.47139673682599764 L -0.8314696123025455,0.555570233019602 L -0.7730104533627371,0.6343932841636453 L -0.7071067811865477,0.7071067811865475 L -0.6343932841636459,0.7730104533627367 L -0.5555702330196022,0.8314696123025452 L -0.47139673682599786,0.8819212643483549 L -0.38268343236509034,0.9238795325112865 L -0.29028467725446244,0.9569403357322088 L -0.19509032201612866,0.9807852804032303 L -0.09801714032956045,0.9951847266721969 L -1.8369701987210297e-16,1.0 L 0.09801714032956009,0.9951847266721969 L 0.1950903220161283,0.9807852804032304 L 0.29028467725446205,0.9569403357322089 L 0.38268343236509,0.9238795325112866 L 0.4713967368259976,0.881921264348355 L 0.5555702330196018,0.8314696123025455 L 0.6343932841636456,0.7730104533627369 L 0.7071067811865474,0.7071067811865477 L 0.7730104533627367,0.6343932841636459 L 0.8314696123025452,0.5555702330196022 L 0.8819212643483548,0.4713967368259979 L 0.9238795325112865,0.3826834323650904 L 0.9569403357322088,0.2902846772544625 L 0.9807852804032303,0.19509032201612872 L 0.9951847266721969,0.0980171403295605 L 1.0,0.0 z\" /></g></svg>"
      ],
      "text/plain": [
       "<POLYGON ((1 0, 0.995 -0.098, 0.981 -0.195, 0.957 -0.29, 0.924 -0.383, 0.882...>"
      ]
     },
     "execution_count": 24,
     "metadata": {},
     "output_type": "execute_result"
    }
   ],
   "source": [
    "# Solution\n",
    "\n",
    "# Triangle\n",
    "Polygon([(0, 0), (2, 4), (4, 0)])\n",
    "\n",
    "# Square\n",
    "Polygon([(0, 0), (0, 4), (4, 4), (4, 0)])\n",
    "\n",
    "# Circle (using a buffer around a point)\n",
    "point = Point((0, 0))\n",
    "point.buffer(1)"
   ]
  },
  {
   "cell_type": "markdown",
   "id": "b0b1d104",
   "metadata": {
    "editable": true,
    "slideshow": {
     "slide_type": ""
    },
    "tags": []
   },
   "source": [
    "## Footnotes\n",
    "\n",
    "[^GEOS]: <https://trac.osgeo.org/geos>\n",
    "[^OGC_sfa]: <https://www.ogc.org/standards/sfa>\n",
    "[^polygon]: <https://shapely.readthedocs.io/en/stable/manual.html#polygons>\n",
    "[^PostGIS]: <https://postgis.net/>\n",
    "[^QGIS]: <http://www.qgis.org/en/site/>\n",
    "[^shapely]: <https://shapely.readthedocs.io/en/stable/manual.html>\n",
    "[^WKT]: <https://en.wikipedia.org/wiki/Well-known_text_representation_of_geometry>"
   ]
  }
 ],
 "metadata": {
  "kernelspec": {
   "display_name": "Python 3 (ipykernel)",
   "language": "python",
   "name": "python3"
  },
  "language_info": {
   "codemirror_mode": {
    "name": "ipython",
    "version": 3
   },
   "file_extension": ".py",
   "mimetype": "text/x-python",
   "name": "python",
   "nbconvert_exporter": "python",
   "pygments_lexer": "ipython3",
   "version": "3.11.5"
  }
 },
 "nbformat": 4,
 "nbformat_minor": 5
}
