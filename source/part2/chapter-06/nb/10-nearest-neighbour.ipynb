{
 "cells": [
  {
   "cell_type": "markdown",
   "id": "eb1c845c",
   "metadata": {},
   "source": [
    "## Nearest Neighbour Analysis"
   ]
  },
  {
   "cell_type": "markdown",
   "id": "a18bab45",
   "metadata": {},
   "source": [
    "One commonly used GIS task is to be able to find the nearest neighbour for an object or a set of objects. For instance, you might have a single Point object\n",
    "representing your home location, and then another set of locations representing e.g. public transport stops. Then, quite typical question is *\"which of the stops is closest one to my home?\"*\n",
    "This is a typical nearest neighbour analysis, where the aim is to find the closest geometry to another geometry.\n",
    "\n",
    "In Python this kind of analysis can be done with shapely function called ``nearest_points()`` that [returns a tuple of the nearest points in the input geometries](https://shapely.readthedocs.io/en/latest/manual.html#shapely.ops.nearest_points)."
   ]
  },
  {
   "cell_type": "markdown",
   "id": "727e020d",
   "metadata": {},
   "source": [
    "### Nearest point using Shapely\n",
    "\n",
    "Let's start by testing how we can find the nearest Point using the ``nearest_points()`` function of Shapely.\n",
    "\n",
    "- Let's create an origin Point and a few destination Points and find out the closest destination:\n",
    "\n",
    "<!-- #endregion -->"
   ]
  },
  {
   "cell_type": "code",
   "execution_count": null,
   "id": "487a56b0-3699-4ec8-a5ec-6b39c06de711",
   "metadata": {},
   "outputs": [],
   "source": [
    "from shapely.geometry import Point, MultiPoint\n",
    "from shapely.ops import nearest_points\n",
    "\n",
    "# Origin point\n",
    "orig = Point(1, 1.67)\n",
    "\n",
    "# Destination points\n",
    "dest1 = Point(0, 1.45)\n",
    "dest2 = Point(2, 2)\n",
    "dest3 = Point(0, 2.5)"
   ]
  },
  {
   "cell_type": "markdown",
   "id": "53bf021d",
   "metadata": {},
   "source": [
    "To be able to find out the closest destination point from the origin, we need to create a MultiPoint object from the destination points."
   ]
  },
  {
   "cell_type": "code",
   "execution_count": null,
   "id": "ce3c3f1e",
   "metadata": {},
   "outputs": [],
   "source": [
    "destinations = MultiPoint([dest1, dest2, dest3])\n",
    "print(destinations)"
   ]
  },
  {
   "cell_type": "code",
   "execution_count": null,
   "id": "68aa73c2",
   "metadata": {},
   "outputs": [],
   "source": [
    "destinations"
   ]
  },
  {
   "cell_type": "markdown",
   "id": "56b2495f",
   "metadata": {},
   "source": [
    "Okey, now we can see that all the destination points are represented as a single MultiPoint object.\n",
    "\n",
    "- Now we can find out the nearest destination point by using ``nearest_points()`` function:\n"
   ]
  },
  {
   "cell_type": "code",
   "execution_count": null,
   "id": "3cb6e2d5",
   "metadata": {},
   "outputs": [],
   "source": [
    "nearest_geoms = nearest_points(orig, destinations)"
   ]
  },
  {
   "cell_type": "markdown",
   "id": "6460d5e9",
   "metadata": {},
   "source": [
    "- We can check the data type of this object and confirm that the ``nearest_points()`` function returns a tuple of nearest points:"
   ]
  },
  {
   "cell_type": "code",
   "execution_count": null,
   "id": "542672d3",
   "metadata": {},
   "outputs": [],
   "source": [
    "type(nearest_geoms)"
   ]
  },
  {
   "cell_type": "markdown",
   "id": "b2d83023",
   "metadata": {},
   "source": [
    " - let's check the contents of this tuple:"
   ]
  },
  {
   "cell_type": "code",
   "execution_count": null,
   "id": "c7e3def8",
   "metadata": {},
   "outputs": [],
   "source": [
    "print(nearest_geoms)"
   ]
  },
  {
   "cell_type": "code",
   "execution_count": null,
   "id": "7e44b38c",
   "metadata": {},
   "outputs": [],
   "source": [
    "print(nearest_geoms[0])"
   ]
  },
  {
   "cell_type": "code",
   "execution_count": null,
   "id": "286c4709",
   "metadata": {},
   "outputs": [],
   "source": [
    "print(nearest_geoms[1])"
   ]
  },
  {
   "cell_type": "markdown",
   "id": "56eae8e3",
   "metadata": {},
   "source": [
    "In the tuple, the first item (at index 0) is the geometry of our origin point and the second item (at index 1) is the actual nearest geometry from the destination points. Hence, the closest destination point seems to be the one located at coordinates (0, 1.45).\n",
    "\n",
    "This is the basic logic how we can find the nearest point from a set of points."
   ]
  },
  {
   "cell_type": "markdown",
   "id": "fa6431a8",
   "metadata": {},
   "source": [
    "### Nearest points using Geopandas\n",
    "\n",
    "Let's then see how it is possible to find nearest points from a set of origin points to a set of destination points using GeoDataFrames. Here, we will use the ``PKS_suuralueet.kml`` district data, and the ``addresses.shp`` address points from previous sections. \n",
    "\n",
    "**Our goal in this tutorial is to find out the closest address to the centroid of each district.**\n",
    "\n",
    "- Let's first read in the data and check their structure:"
   ]
  },
  {
   "cell_type": "code",
   "execution_count": null,
   "id": "a9cd60fd",
   "metadata": {},
   "outputs": [],
   "source": [
    "# Import geopandas\n",
    "import geopandas as gpd"
   ]
  },
  {
   "cell_type": "code",
   "execution_count": null,
   "id": "5083e93c",
   "metadata": {},
   "outputs": [],
   "source": [
    "# Define filepaths\n",
    "fp1 = \"data/PKS_suuralue.kml\"\n",
    "fp2 = \"data/addresses.shp\""
   ]
  },
  {
   "cell_type": "code",
   "execution_count": null,
   "id": "aa5f70c9",
   "metadata": {},
   "outputs": [],
   "source": [
    "# Enable KML driver\n",
    "gpd.io.file.fiona.drvsupport.supported_drivers[\"KML\"] = \"rw\""
   ]
  },
  {
   "cell_type": "code",
   "execution_count": null,
   "id": "b940edbf",
   "metadata": {},
   "outputs": [],
   "source": [
    "# Read in data with geopandas\n",
    "df1 = gpd.read_file(fp1, driver=\"KML\")\n",
    "df2 = gpd.read_file(fp2)"
   ]
  },
  {
   "cell_type": "code",
   "execution_count": null,
   "id": "b2fdd50d",
   "metadata": {},
   "outputs": [],
   "source": [
    "# District polygons:\n",
    "df1.head()"
   ]
  },
  {
   "cell_type": "code",
   "execution_count": null,
   "id": "ab34bddf",
   "metadata": {},
   "outputs": [],
   "source": [
    "# Address points:\n",
    "df2.head()"
   ]
  },
  {
   "cell_type": "markdown",
   "id": "12ab7379",
   "metadata": {},
   "source": [
    "Before calculating any distances, we should re-project the data into a projected crs."
   ]
  },
  {
   "cell_type": "code",
   "execution_count": null,
   "id": "f614df8f",
   "metadata": {},
   "outputs": [],
   "source": [
    "df1 = df1.to_crs(epsg=3067)\n",
    "df2 = df2.to_crs(epsg=3067)"
   ]
  },
  {
   "cell_type": "markdown",
   "id": "63b6ed71",
   "metadata": {},
   "source": [
    "Furthermore, let's calculate the centroids for each district area:"
   ]
  },
  {
   "cell_type": "code",
   "execution_count": null,
   "id": "cc2b381e",
   "metadata": {},
   "outputs": [],
   "source": [
    "df1[\"centroid\"] = df1.centroid\n",
    "df1.head()"
   ]
  },
  {
   "cell_type": "markdown",
   "id": "9e9d4dd7",
   "metadata": {},
   "source": [
    "SO, for each row of data in the disctricts -table, we want to figure out the nearest address point and fetch some attributes related to that point. In other words, we want to apply the Shapely `nearest_points`function so that we compare each polygon centroid to all address points, and based on this information access correct attribute information from the address table. \n",
    "\n",
    "For doing this, we can create a function that we will apply on the polygon GeoDataFrame:"
   ]
  },
  {
   "cell_type": "code",
   "execution_count": null,
   "id": "ba1ab56b",
   "metadata": {},
   "outputs": [],
   "source": [
    "def get_nearest_values(\n",
    "    row, other_gdf, point_column=\"geometry\", value_column=\"geometry\"\n",
    "):\n",
    "    \"\"\"Find the nearest point and return the corresponding value from specified value column.\"\"\"\n",
    "\n",
    "    # Create an union of the other GeoDataFrame's geometries:\n",
    "    other_points = other_gdf[\"geometry\"].unary_union\n",
    "\n",
    "    # Find the nearest points\n",
    "    nearest_geoms = nearest_points(row[point_column], other_points)\n",
    "\n",
    "    # Get corresponding values from the other df\n",
    "    nearest_data = other_gdf.loc[other_gdf[\"geometry\"] == nearest_geoms[1]]\n",
    "\n",
    "    nearest_value = nearest_data[value_column].values[0]\n",
    "\n",
    "    return nearest_value"
   ]
  },
  {
   "cell_type": "markdown",
   "id": "6bf0c0cf",
   "metadata": {},
   "source": [
    "By default, this function returns the geometry of the nearest point for each row. It is also possible to fetch information from other columns by changing the `value_column` parameter."
   ]
  },
  {
   "cell_type": "markdown",
   "id": "19ae99af",
   "metadata": {},
   "source": [
    "The function creates a MultiPoint object from `other_gdf` geometry column (in our case, the address points) and further passes this MultiPoint object to Shapely's `nearest_points` function. \n",
    "\n",
    "Here, we are using a method for creating an union of all input geometries called `unary_union`. \n",
    "\n",
    "- Let's check how unary union works by applying it to the address points GeoDataFrame:"
   ]
  },
  {
   "cell_type": "code",
   "execution_count": null,
   "id": "c7c1a938",
   "metadata": {},
   "outputs": [],
   "source": [
    "unary_union = df2.unary_union\n",
    "print(unary_union)"
   ]
  },
  {
   "cell_type": "markdown",
   "id": "a8dee0ce",
   "metadata": {},
   "source": [
    "Okey now we are ready to use our function and find closest address point for each polygon centroid.\n",
    " - Try first applying the function without any additional modifications: "
   ]
  },
  {
   "cell_type": "code",
   "execution_count": null,
   "id": "01c32998",
   "metadata": {},
   "outputs": [],
   "source": [
    "df1[\"nearest_loc\"] = df1.apply(\n",
    "    get_nearest_values, other_gdf=df2, point_column=\"centroid\", axis=1\n",
    ")"
   ]
  },
  {
   "cell_type": "markdown",
   "id": "4dbb6eae",
   "metadata": {},
   "source": [
    "- Finally, we can specify that we want the `id` -column for each point, and store the output in a new column `\"nearest_loc\"`:"
   ]
  },
  {
   "cell_type": "code",
   "execution_count": null,
   "id": "d537b308",
   "metadata": {},
   "outputs": [],
   "source": [
    "df1[\"nearest_loc\"] = df1.apply(\n",
    "    get_nearest_values,\n",
    "    other_gdf=df2,\n",
    "    point_column=\"centroid\",\n",
    "    value_column=\"id\",\n",
    "    axis=1,\n",
    ")"
   ]
  },
  {
   "cell_type": "code",
   "execution_count": null,
   "id": "fd855ab4",
   "metadata": {},
   "outputs": [],
   "source": [
    "df1.head()"
   ]
  },
  {
   "cell_type": "markdown",
   "id": "06e552c8",
   "metadata": {},
   "source": [
    "That's it! Now we found the closest point for each centroid and got the ``id`` value from our addresses into the ``df1`` GeoDataFrame."
   ]
  },
  {
   "cell_type": "markdown",
   "id": "61d8ee93",
   "metadata": {},
   "source": [
    "## Nearest neighbor analysis with large datasets\n",
    "\n",
    "While Shapely's `nearest_points` -function provides a nice and easy way of conducting the nearest neighbor analysis, it can be quite slow. Using it also requires taking the `unary union` of the point dataset where all the Points are merged into a single layer. This can be a really memory hungry and slow operation, that can cause problems with large point datasets.  \n",
    "\n",
    "Luckily, there is a much faster and memory efficient alternatives for conducting nearest neighbor analysis, based on a function called [BallTree](https://en.wikipedia.org/wiki/Ball_tree) from a [scikit-learn](https://scikit-learn.org/stable/modules/generated/sklearn.neighbors.BallTree.html) library. The Balltree algorithm has some nice features, such as the ability to calculate the distance between neighbors with various different distance metrics. Most importantly the function allows to calculate `euclidian` distance between neighbors (good if your data is in metric crs), as well as `haversine` distance which allows to determine [Great Circle distances](https://en.wikipedia.org/wiki/Great-circle_distance) between locations (good if your data is in lat/lon format). *Note: There is also an algorithm called [KDTree](https://scikit-learn.org/stable/modules/generated/sklearn.neighbors.KDTree.html#sklearn.neighbors.KDTree) in scikit-learn, that is also highly efficient but less flexible in terms of supported distance metrics.* "
   ]
  },
  {
   "cell_type": "markdown",
   "id": "b19ccfff",
   "metadata": {},
   "source": [
    "### Motivation\n",
    "\n",
    "In this tutorial, we go through a very practical example that relates to our daily commute: Where is the closest public transport stop from my place of living? Hence, our aim is to search for each building in Helsinki Region (around 159 000 buildings) the closest public transport stop (~ 8400 stops). The building points have been fetched from OpenStreetMap using a library called [OSMnx](https://github.com/gboeing/osmnx) (we will learn more about this library later), and the public transport stops have been fetched from open [GTFS dataset for Helsinki Region](https://transitfeeds.com/p/helsinki-regional-transport/735) that contains information about public transport stops, schedules etc. "
   ]
  },
  {
   "cell_type": "markdown",
   "id": "20dda126",
   "metadata": {},
   "source": [
    "### Efficient nearest neighbor search with Geopandas and scikit-learn\n",
    "\n",
    "The following examples show how to conduct nearest neighbor analysis efficiently with large datasets. We will first define the functions and see how to use them, and then we go through the code to understand what happened."
   ]
  },
  {
   "cell_type": "markdown",
   "id": "67ebc91a",
   "metadata": {},
   "source": [
    "- Let's first read the datasets into Geopandas. In case of reading the building data, we will here learn a trick how to read the data directly from a ZipFile. It is very practical to know how to do this, as compressing large datasets is a very common procedure."
   ]
  },
  {
   "cell_type": "code",
   "execution_count": null,
   "id": "05bf3d46",
   "metadata": {},
   "outputs": [],
   "source": [
    "import geopandas as gpd\n",
    "from zipfile import ZipFile\n",
    "import io\n",
    "\n",
    "\n",
    "def read_gdf_from_zip(zip_fp):\n",
    "    \"\"\"\n",
    "    Reads a spatial dataset from ZipFile into GeoPandas. Assumes that there is only a single file (such as GeoPackage)\n",
    "    inside the ZipFile.\n",
    "    \"\"\"\n",
    "    with ZipFile(zip_fp) as z:\n",
    "        # Lists all files inside the ZipFile, here assumes that there is only a single file inside\n",
    "        layer = z.namelist()[0]\n",
    "        data = gpd.read_file(io.BytesIO(z.read(layer)))\n",
    "    return data\n",
    "\n",
    "\n",
    "# Filepaths\n",
    "stops = gpd.read_file(\"data/pt_stops_helsinki.gpkg\")\n",
    "buildings = read_gdf_from_zip(\"data/building_points_helsinki.zip\")"
   ]
  },
  {
   "cell_type": "markdown",
   "id": "320e6dfb",
   "metadata": {},
   "source": [
    "- Let's see how our datasets look like:"
   ]
  },
  {
   "cell_type": "code",
   "execution_count": null,
   "id": "09e08102",
   "metadata": {},
   "outputs": [],
   "source": [
    "print(buildings.head(), \"\\n--------\")\n",
    "print(stops.head())"
   ]
  },
  {
   "cell_type": "markdown",
   "id": "f1dc369d",
   "metadata": {},
   "source": [
    "Okay, so both of our datasets consisting points, and based on the coordinates, they seem to be in WGS84 projection.\n",
    "\n",
    "- Let's also make maps out of them to get a better understanding of the data"
   ]
  },
  {
   "cell_type": "code",
   "execution_count": null,
   "id": "b21f0202",
   "metadata": {},
   "outputs": [],
   "source": [
    "%matplotlib inline\n",
    "import matplotlib.pyplot as plt\n",
    "\n",
    "fig, axes = plt.subplots(nrows=1, ncols=2, figsize=(20, 10))\n",
    "\n",
    "# Plot buildings\n",
    "buildings.plot(ax=axes[0], markersize=0.2, alpha=0.5)\n",
    "axes[0].set_title(\"Buildings\")\n",
    "\n",
    "# Plot stops\n",
    "stops.plot(ax=axes[1], markersize=0.2, alpha=0.5, color=\"red\")\n",
    "axes[1].set_title(\"Stops\");"
   ]
  },
  {
   "cell_type": "markdown",
   "id": "4350a9f6",
   "metadata": {},
   "source": [
    "As we can see, we have a very densely distributed Point dataset that shows the location of the buildings (their centroid) in Helsinki Region. On the right, we have public transport stops that seem to cover a bit broader geographical extent with a few train stops reaching further North. Most importantly, we can see from the coordinates and the map that both of the layers share the same coordinate reference system, and they are approximately from the same geographical region. Hence, we are ready to find closest public transport stop (on the right) for each building on the left map.     "
   ]
  },
  {
   "cell_type": "markdown",
   "id": "a249bab7",
   "metadata": {},
   "source": [
    "- Let's first prepare a couple of functions that does the work"
   ]
  },
  {
   "cell_type": "code",
   "execution_count": null,
   "id": "f73af86d",
   "metadata": {},
   "outputs": [],
   "source": [
    "from sklearn.neighbors import BallTree\n",
    "import numpy as np\n",
    "\n",
    "\n",
    "def get_nearest(src_points, candidates, k_neighbors=1):\n",
    "    \"\"\"Find nearest neighbors for all source points from a set of candidate points\"\"\"\n",
    "\n",
    "    # Create tree from the candidate points\n",
    "    tree = BallTree(candidates, leaf_size=15, metric=\"haversine\")\n",
    "\n",
    "    # Find closest points and distances\n",
    "    distances, indices = tree.query(src_points, k=k_neighbors)\n",
    "\n",
    "    # Transpose to get distances and indices into arrays\n",
    "    distances = distances.transpose()\n",
    "    indices = indices.transpose()\n",
    "\n",
    "    # Get closest indices and distances (i.e. array at index 0)\n",
    "    # note: for the second closest points, you would take index 1, etc.\n",
    "    closest = indices[0]\n",
    "    closest_dist = distances[0]\n",
    "\n",
    "    # Return indices and distances\n",
    "    return (closest, closest_dist)\n",
    "\n",
    "\n",
    "def nearest_neighbor(left_gdf, right_gdf, return_dist=False):\n",
    "    \"\"\"\n",
    "    For each point in left_gdf, find closest point in right GeoDataFrame and return them.\n",
    "\n",
    "    NOTICE: Assumes that the input Points are in WGS84 projection (lat/lon).\n",
    "    \"\"\"\n",
    "\n",
    "    left_geom_col = left_gdf.geometry.name\n",
    "    right_geom_col = right_gdf.geometry.name\n",
    "\n",
    "    # Ensure that index in right gdf is formed of sequential numbers\n",
    "    right = right_gdf.copy().reset_index(drop=True)\n",
    "\n",
    "    # Parse coordinates from points and insert them into a numpy array as RADIANS\n",
    "    # Notice: should be in Lat/Lon format\n",
    "    left_radians = np.array(\n",
    "        left_gdf[left_geom_col]\n",
    "        .apply(lambda geom: (geom.y * np.pi / 180, geom.x * np.pi / 180))\n",
    "        .to_list()\n",
    "    )\n",
    "    right_radians = np.array(\n",
    "        right[right_geom_col]\n",
    "        .apply(lambda geom: (geom.y * np.pi / 180, geom.x * np.pi / 180))\n",
    "        .to_list()\n",
    "    )\n",
    "\n",
    "    # Find the nearest points\n",
    "    # -----------------------\n",
    "    # closest ==> index in right_gdf that corresponds to the closest point\n",
    "    # dist ==> distance between the nearest neighbors (in meters)\n",
    "\n",
    "    closest, dist = get_nearest(src_points=left_radians, candidates=right_radians)\n",
    "\n",
    "    # Return points from right GeoDataFrame that are closest to points in left GeoDataFrame\n",
    "    closest_points = right.loc[closest]\n",
    "\n",
    "    # Ensure that the index corresponds the one in left_gdf\n",
    "    closest_points = closest_points.reset_index(drop=True)\n",
    "\n",
    "    # Add distance if requested\n",
    "    if return_dist:\n",
    "        # Convert to meters from radians\n",
    "        earth_radius = 6371000  # meters\n",
    "        closest_points[\"distance\"] = dist * earth_radius\n",
    "\n",
    "    return closest_points"
   ]
  },
  {
   "cell_type": "markdown",
   "id": "f5087a7d",
   "metadata": {},
   "source": [
    "Okay, now we have our functions defined. So let's use them and find the nearest neighbors!"
   ]
  },
  {
   "cell_type": "code",
   "execution_count": null,
   "id": "9eb92573",
   "metadata": {},
   "outputs": [],
   "source": [
    "# Find closest public transport stop for each building and get also the distance based on haversine distance\n",
    "# Note: haversine distance which is implemented here is a bit slower than using e.g. 'euclidean' metric\n",
    "# but useful as we get the distance between points in meters\n",
    "closest_stops = nearest_neighbor(buildings, stops, return_dist=True)\n",
    "\n",
    "# And the result looks like ..\n",
    "closest_stops"
   ]
  },
  {
   "cell_type": "markdown",
   "id": "fc17f906",
   "metadata": {},
   "source": [
    "Great, that didn't take too long! Especially considering that we had quite a few points in our datasets (8400\\*159000=1.33 billion connections). As a result, we have a new GeoDataFrame that reminds a lot the original `stops` dataset. However, as we can see there are much more rows than in the original dataset, and in fact, each row in this dataset corresponds to a single building in the `buildings` dataset. Hence, we should have exactly the same number of closest_stops as there are buildings. Let's confirm this: "
   ]
  },
  {
   "cell_type": "code",
   "execution_count": null,
   "id": "313984fa",
   "metadata": {},
   "outputs": [],
   "source": [
    "# Now we should have exactly the same number of closest_stops as we have buildings\n",
    "print(len(closest_stops), \"==\", len(buildings))"
   ]
  },
  {
   "cell_type": "markdown",
   "id": "94c545e0",
   "metadata": {},
   "source": [
    "Indeed, that seems to be the case. Hence, it is easy to combine these two datasets together. Before continuing our analysis, let's take a bit deeper look, what we actually did with the functions above.  "
   ]
  },
  {
   "cell_type": "markdown",
   "id": "1662ce96",
   "metadata": {},
   "source": [
    "### What did we just do? Explanation.\n",
    "\n",
    "To get a bit more understanding of what just happened, let's go through the essential parts of the two functions we defined earlier, i.e. `nearest_neighbor()` and `get_closest()`.\n",
    "\n",
    "The purpose of `nearest_neighbor()` function is to handle and transform the data from GeoDataFrame into `numpy arrays` (=super-fast data structure) in a format how `BallTree` function wants them. This includes converting the lat/lon coordinates into radians (and back), so that we get the distances between the neighboring points in a correct format: scikit-learn's [haversine distance metric](https://scikit-learn.org/stable/modules/generated/sklearn.neighbors.DistanceMetric.html) wants inputs as radians and also outputs the data as radians. To convert a lat/lon coordinate to radian, we use formula: `Radian = Degree * PI / 180`. By doing this, we are able to get the output distance information in meters (even if our coordinates are in decimal degrees). \n",
    "\n",
    "The `get_closest()` function does the actual nearest neighbor search using [BallTree](https://scikit-learn.org/stable/modules/generated/sklearn.neighbors.BallTree.html) function. We initialize the `BallTree` object with the coordinate information from the **right_gdf** (i.e. the point dataset that contains all the nearest neighbor candidates), and we specify the distance metric to be `haversine` so that we get the Great Circle Distances. The `leaf_size` parameter adjusts the tradeoff between the cost of BallTree node traversal and the cost of a brute-force distance estimate. Changing leaf_size will not affect the results of a query, but can significantly impact the speed of a query and the memory required to store the constructed tree. We determine the leaf_size as 15 which has been found to be a good compromise when [benchmarked](https://jakevdp.github.io/blog/2013/04/29/benchmarking-nearest-neighbor-searches-in-python/). After we have built (initialized) the ball-tree, we run the nearest neighbor query with `tree.query(src_points, k=k_neighbors)`, where the src_points are the building-coordinates (as radians) and the `k` -parameter is the number of neighbors we want to calculate (1 in our case as we are only interested in the closest neighbor). Finally, we just re-arrange the data back into a format in which the closest point indices and distances are in separate numpy arrays. \n",
    "\n",
    "**Note:** The functions here assume that your input points are in WGS84 projection. If you pass the points in some other projection, it is highly likely that the distances between nearest neighbors are incorrect. Determining which is the nearest neighbor should not be affected, though.  "
   ]
  },
  {
   "cell_type": "markdown",
   "id": "dba9e914",
   "metadata": {},
   "source": [
    "### Combining the neighboring datasets \n",
    "\n",
    "Okay, now as we have found closest stop for each building in the region, we can easily merge the information about closest stops back to the building layer. The order of the `closest_stops` matches exactly the order in `buildings`, so we can easily merge the datasets based on index. "
   ]
  },
  {
   "cell_type": "code",
   "execution_count": null,
   "id": "be9a63fb",
   "metadata": {},
   "outputs": [],
   "source": [
    "# Rename the geometry of closest stops gdf so that we can easily identify it\n",
    "closest_stops = closest_stops.rename(columns={\"geometry\": \"closest_stop_geom\"})\n",
    "\n",
    "# Merge the datasets by index (for this, it is good to use '.join()' -function)\n",
    "buildings = buildings.join(closest_stops)\n",
    "\n",
    "# Let's see what we have\n",
    "buildings.head()"
   ]
  },
  {
   "cell_type": "markdown",
   "id": "f5de372f",
   "metadata": {},
   "source": [
    "Excellent! Now we have useful information for each building about the closest stop including the `distance` (in meters) and also e.g. the name of the stop in `stop_name` column. \n",
    "\n",
    "- Now it is easy to do some descriptive analysis based on this dataset, that gives information about levels of access to public transport in the region: "
   ]
  },
  {
   "cell_type": "code",
   "execution_count": null,
   "id": "15a3197a",
   "metadata": {},
   "outputs": [],
   "source": [
    "buildings[\"distance\"].describe()"
   ]
  },
  {
   "cell_type": "markdown",
   "id": "7341baea",
   "metadata": {},
   "source": [
    "Okay, as we can see the average distance to public transport in the region is around 300 meters. More than 75 % of the buildings seem to be within within 5 minute walking time (~370 meters with walking speed of 4.5 kmph) which indicates generally a good situation in terms of accessibility levels in the region overall. There seem to be some really remote buildings in the data as well, as the longest distance to closest public transport stop is more than 7 kilometers.\n",
    "\n",
    "- Let's make a map out of the distance information to see if there are some spatial patterns in the data in terms of accessibility levels:"
   ]
  },
  {
   "cell_type": "code",
   "execution_count": null,
   "id": "6084f3c1",
   "metadata": {},
   "outputs": [],
   "source": [
    "buildings.plot(\n",
    "    column=\"distance\",\n",
    "    markersize=0.2,\n",
    "    alpha=0.5,\n",
    "    figsize=(10, 10),\n",
    "    scheme=\"quantiles\",\n",
    "    k=4,\n",
    "    legend=True,\n",
    ")"
   ]
  },
  {
   "cell_type": "markdown",
   "id": "b3a424df",
   "metadata": {},
   "source": [
    "Okay, as we can see, there are some clear spatial patterns in the levels of access to public transport. The buildings with the shortest distances (i.e. best accessibility) are located in the densely populated areas, whereas the buildings locating in the periferial areas (such as islands on the South, and nature areas in the North-West) tend to have longer distance to public transport. "
   ]
  },
  {
   "cell_type": "markdown",
   "id": "d6883c70",
   "metadata": {},
   "source": [
    "### Are the results correct? Validation\n",
    "\n",
    "As a final step, it's good to ensure that our functions are working as they should. This can be done easily by examining the data visually.\n",
    "\n",
    "- Let's first create LineStrings between the building and closest stop points:"
   ]
  },
  {
   "cell_type": "code",
   "execution_count": null,
   "id": "a9c5754e",
   "metadata": {},
   "outputs": [],
   "source": [
    "from shapely.geometry import LineString\n",
    "\n",
    "# Create a link (LineString) between building and stop points\n",
    "buildings[\"link\"] = buildings.apply(\n",
    "    lambda row: LineString([row[\"geometry\"], row[\"closest_stop_geom\"]]), axis=1\n",
    ")\n",
    "\n",
    "# Set link as the active geometry\n",
    "building_links = buildings.copy()\n",
    "building_links = building_links.set_geometry(\"link\")"
   ]
  },
  {
   "cell_type": "markdown",
   "id": "cdca6cb8",
   "metadata": {},
   "source": [
    "- Let's now visualize the building points, stops and the links, and zoom to certain area so that we can investigate the results, and confirm that everything looks correct."
   ]
  },
  {
   "cell_type": "code",
   "execution_count": null,
   "id": "300e37fb",
   "metadata": {},
   "outputs": [],
   "source": [
    "# Plot the connecting links between buildings and stops and color them based on distance\n",
    "ax = building_links.plot(\n",
    "    column=\"distance\",\n",
    "    cmap=\"Greens\",\n",
    "    scheme=\"quantiles\",\n",
    "    k=4,\n",
    "    alpha=0.8,\n",
    "    lw=0.7,\n",
    "    figsize=(13, 10),\n",
    ")\n",
    "ax = buildings.plot(ax=ax, color=\"yellow\", markersize=1, alpha=0.7)\n",
    "ax = stops.plot(ax=ax, markersize=4, marker=\"o\", color=\"red\", alpha=0.9, zorder=3)\n",
    "\n",
    "# Zoom closer\n",
    "ax.set_xlim([24.99, 25.01])\n",
    "ax.set_ylim([60.26, 60.275])\n",
    "\n",
    "# Set map background color to black, which helps with contrast\n",
    "ax.set_facecolor(\"black\")"
   ]
  },
  {
   "cell_type": "markdown",
   "id": "7bab75ff",
   "metadata": {},
   "source": [
    "Voilá, these weird star looking shapes are formed around public transport stops (red) where each link is associated buildings (yellow points) that are closest to the given stop. The color intensity varies according the distance between the stops and buildings. Based on this figure we can conclude that our nearest neighbor search was succesfull and worked as planned.\n"
   ]
  }
 ],
 "metadata": {
  "kernelspec": {
   "display_name": "Python 3 (ipykernel)",
   "language": "python",
   "name": "python3"
  },
  "language_info": {
   "codemirror_mode": {
    "name": "ipython",
    "version": 3
   },
   "file_extension": ".py",
   "mimetype": "text/x-python",
   "name": "python",
   "nbconvert_exporter": "python",
   "pygments_lexer": "ipython3",
   "version": "3.10.9"
  }
 },
 "nbformat": 4,
 "nbformat_minor": 5
}
