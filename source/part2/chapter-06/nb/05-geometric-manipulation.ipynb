{
 "cells": [
  {
   "cell_type": "markdown",
   "id": "70db89f0",
   "metadata": {},
   "source": [
    "# Geometric data manipulations"
   ]
  },
  {
   "cell_type": "markdown",
   "id": "5e8c8dab",
   "metadata": {},
   "source": [
    "Here we demonstrate some of the most common geometry manipulation functions available in geopandas. We will use country borders from Africa as our example data. It is often useful to do geometric manipulations on administrative borders for further analysis and visualization purposes. We will learn how to generate centroids, different outlines and buffer zones for the country polygons. \n",
    "\n",
    "Geopandas comes with some ready-to-use data for country borders from [Natural Earth](https://www.naturalearthdata.com/) which we will use here. "
   ]
  },
  {
   "cell_type": "code",
   "execution_count": null,
   "id": "3035ea5e",
   "metadata": {},
   "outputs": [],
   "source": [
    "import geopandas as gpd\n",
    "import matplotlib.pyplot as plt\n",
    "from pathlib import Path\n",
    "\n",
    "data = gpd.read_file(gpd.datasets.get_path('naturalearth_lowres'))\n",
    "data.head()"
   ]
  },
  {
   "cell_type": "markdown",
   "id": "09d44d3a",
   "metadata": {},
   "source": [
    "Let's continue with only the African continent."
   ]
  },
  {
   "cell_type": "code",
   "execution_count": null,
   "id": "f18acda4",
   "metadata": {},
   "outputs": [],
   "source": [
    "data = data.loc[data[\"continent\"]=='Africa'].copy()"
   ]
  },
  {
   "cell_type": "markdown",
   "id": "6f986ea3",
   "metadata": {},
   "source": [
    "For the purposes of geometric manipulations, we are mainly interested in the geometry column which contains the polygon geometries. Remember, that the data type of the geometry-column is `GeoSeries`. Individual geometries are eventually shapely objects and we can use all of shapely's tools for geometry manipulation directly via geopandas."
   ]
  },
  {
   "cell_type": "code",
   "execution_count": null,
   "id": "3c5b8fd0",
   "metadata": {},
   "outputs": [],
   "source": [
    "# Check contents of the geometry column\n",
    "data[\"geometry\"].head()"
   ]
  },
  {
   "cell_type": "code",
   "execution_count": null,
   "id": "bf17c2a8",
   "metadata": {},
   "outputs": [],
   "source": [
    "# Check data type of the geometry column\n",
    "type(data[\"geometry\"])"
   ]
  },
  {
   "cell_type": "code",
   "execution_count": null,
   "id": "2640dc73",
   "metadata": {},
   "outputs": [],
   "source": [
    "# Check data type of a value in the geometry column\n",
    "type(data[\"geometry\"].values[0])"
   ]
  },
  {
   "cell_type": "markdown",
   "id": "e524d8e9",
   "metadata": {},
   "source": [
    "Let's first plot the original geometries. We can use the in-built plotting function in geopandas to plot the geometries, and `matplotlib.pyplot` to turn off axis lines and labels."
   ]
  },
  {
   "cell_type": "code",
   "execution_count": null,
   "id": "c8e4e801",
   "metadata": {},
   "outputs": [],
   "source": [
    "data.plot(facecolor=\"none\", linewidth=0.2)\n",
    "\n",
    "plt.axis(\"off\")\n",
    "plt.show()"
   ]
  },
  {
   "cell_type": "markdown",
   "id": "11e9d77c",
   "metadata": {
    "tags": []
   },
   "source": [
    "## Centroid\n",
    "\n",
    "Extracting the centroid of geometric features is useful in many cases. Geometric centroid can, for example, be used for locating text labels in visualizations. We can extract the center point of each polygon via the `centroid`-attribute of the geometry-column. "
   ]
  },
  {
   "cell_type": "code",
   "execution_count": null,
   "id": "513407ce",
   "metadata": {},
   "outputs": [],
   "source": [
    "data[\"geometry\"].centroid.head()"
   ]
  },
  {
   "cell_type": "markdown",
   "id": "d0446d74",
   "metadata": {},
   "source": [
    "We can also apply the method directly to the `GeoDataFrame` to achieve the same result."
   ]
  },
  {
   "cell_type": "code",
   "execution_count": null,
   "id": "34b25bc1",
   "metadata": {},
   "outputs": [],
   "source": [
    "data.centroid.head()"
   ]
  },
  {
   "cell_type": "markdown",
   "id": "dde8c7be",
   "metadata": {},
   "source": [
    "Notice that geopandas warns us that we are trying to calculate centroids based on a geographic CRS and that our results are likely incorrect. Let's check what is the CRS definition of our data."
   ]
  },
  {
   "cell_type": "code",
   "execution_count": null,
   "id": "fff612c1",
   "metadata": {},
   "outputs": [],
   "source": [
    "data.crs"
   ]
  },
  {
   "cell_type": "markdown",
   "id": "a828816c",
   "metadata": {},
   "source": [
    "Our data are indeed in a geographic coordinate reference system WGS 84 (EPSG:4326). In order to get valid centroids, we should re-project the data to a projected coordinate reference system."
   ]
  },
  {
   "cell_type": "markdown",
   "id": "9e46cc7f",
   "metadata": {},
   "source": [
    "We can then plot the centroids for a visual check."
   ]
  },
  {
   "cell_type": "code",
   "execution_count": null,
   "id": "20270dc2",
   "metadata": {},
   "outputs": [],
   "source": [
    "data.centroid.plot(markersize=0.1)\n",
    "\n",
    "plt.axis(\"off\")\n",
    "plt.show()"
   ]
  },
  {
   "cell_type": "markdown",
   "id": "c055ea6a",
   "metadata": {},
   "source": [
    "## Unary union\n",
    "\n",
    "We can generate a joint outline for African countries represented in the Natural Earth data through creating a geometric union among all geometries. This could be useful, for example, for visualizing the outlines of a study area. The `unary_union` returns a single geometry object, which is automatically visualized when running the code in a Jupyter Notebook."
   ]
  },
  {
   "cell_type": "code",
   "execution_count": null,
   "id": "201e8215",
   "metadata": {},
   "outputs": [],
   "source": [
    "data.unary_union"
   ]
  },
  {
   "cell_type": "code",
   "execution_count": null,
   "id": "4a09dc1a",
   "metadata": {},
   "outputs": [],
   "source": [
    "type(data.unary_union)"
   ]
  },
  {
   "cell_type": "markdown",
   "id": "d41ed12b",
   "metadata": {},
   "source": [
    "## Simplifying geometries\n",
    "\n",
    "Geometry simplification is a useful process especially when visualizing data that has very detailed geometry. With our sample data, we can generate simplified version of the outline extent. The tolerance parameter controls the level of simplification."
   ]
  },
  {
   "cell_type": "code",
   "execution_count": null,
   "id": "043d2c81",
   "metadata": {},
   "outputs": [],
   "source": [
    "data.unary_union.simplify(tolerance=1)"
   ]
  },
  {
   "cell_type": "code",
   "execution_count": null,
   "id": "56e30466",
   "metadata": {},
   "outputs": [],
   "source": [
    "data.unary_union.simplify(tolerance=10)"
   ]
  },
  {
   "cell_type": "markdown",
   "id": "1684a61e",
   "metadata": {},
   "source": [
    "## Bounding polygon\n",
    "\n",
    "Bounding polygons are useful in many cases for describing the approximate extent of geographic data. A minimum bounding rectangle, also called a bounding box or an envelope is the smallest rectangular polygon surrounding a geometric object. In a `GeoDataFrame`, the `envelope` attribute returns the bounding rectangle for each geometry."
   ]
  },
  {
   "cell_type": "code",
   "execution_count": null,
   "id": "97e9b2da",
   "metadata": {},
   "outputs": [],
   "source": [
    "data.envelope.head()"
   ]
  },
  {
   "cell_type": "markdown",
   "id": "ca420340",
   "metadata": {},
   "source": [
    "In order to get the bounding rectangle for the whole layer, we  first create an union of all geometries using `unary_union`, and then create the bounding rectangle for that polygon."
   ]
  },
  {
   "cell_type": "code",
   "execution_count": null,
   "id": "b4f4fa02",
   "metadata": {},
   "outputs": [],
   "source": [
    "data.unary_union.envelope"
   ]
  },
  {
   "cell_type": "markdown",
   "id": "503304c5",
   "metadata": {},
   "source": [
    "Corner coordinates of the bounding box for a `GeoDataFrame` can be fetched via the `total_bounds` attribute. The `bounds` attribute returns the bounding coordinates of each feature."
   ]
  },
  {
   "cell_type": "code",
   "execution_count": null,
   "id": "71b34782",
   "metadata": {},
   "outputs": [],
   "source": [
    "data.total_bounds"
   ]
  },
  {
   "cell_type": "code",
   "execution_count": null,
   "id": "4716ca4d",
   "metadata": {},
   "outputs": [],
   "source": [
    "data.bounds.head()"
   ]
  },
  {
   "cell_type": "markdown",
   "id": "77a0fb3f",
   "metadata": {},
   "source": [
    "### Convex hull\n",
    "\n",
    "A bit more detailed delineation of the data extent can be extracted using a convex hull which represents the smalles possible polygon that contains all points in an object. If we apply the convex hull method on the whole `GeoDataFrame`, we will get a GeoSeries containing a convex hull for each polygon separately."
   ]
  },
  {
   "cell_type": "code",
   "execution_count": null,
   "id": "bb36174e",
   "metadata": {},
   "outputs": [],
   "source": [
    "data.convex_hull.head()"
   ]
  },
  {
   "cell_type": "markdown",
   "id": "43b74573",
   "metadata": {},
   "source": [
    "In order to create a covex hull for the whole extent, we need to first create an union of all polygons. "
   ]
  },
  {
   "cell_type": "code",
   "execution_count": null,
   "id": "a5787843",
   "metadata": {},
   "outputs": [],
   "source": [
    "data.unary_union.convex_hull"
   ]
  },
  {
   "cell_type": "markdown",
   "id": "2be02342",
   "metadata": {},
   "source": [
    "## Buffer\n",
    "\n",
    "Buffering is a common spatial operation that has a multitude of use cases in spatial analyses. For example, in transport network analyses, it is good to fetch the transport network also from outside the study area in order to capture routes that go beyond the study area border. \n",
    "\n",
    "The distance parameter in the `buffer` function defines the radius or the buffer (according to the coordinate reference system of the data)."
   ]
  },
  {
   "cell_type": "code",
   "execution_count": null,
   "id": "3edab62f",
   "metadata": {},
   "outputs": [],
   "source": [
    "# 5 km buffer for the travel time matrix extent\n",
    "data.buffer(5).head()"
   ]
  },
  {
   "cell_type": "markdown",
   "id": "9c497d6b",
   "metadata": {
    "tags": []
   },
   "source": [
    "\n",
    "\n",
    "## Dissolving and merging geometries\n",
    "\n",
    "Data aggregation refers to a process where we combine data into groups. Spatial data aggregation refers to combining geometries into coarser spatial units based on some attributes. The process may also include the calculation of summary statistics. \n",
    "\n",
    "In pandas, we learned how to group and aggregate data using the `groupby`method. In geopandas, there is a function called `dissolve()` that groups the data based on an anttribute column and unions the geometries for each group in that attribute. \n",
    "\n",
    "Here we will conduct a simple dissolve operation through combining national borders by continent."
   ]
  },
  {
   "cell_type": "code",
   "execution_count": null,
   "id": "6599efec",
   "metadata": {},
   "outputs": [],
   "source": [
    "# Conduct the aggregation\n",
    "dissolved = data.dissolve(by=\"continent\")\n",
    "\n",
    "# Check the result\n",
    "dissolved"
   ]
  },
  {
   "cell_type": "markdown",
   "id": "2c4cfd0a",
   "metadata": {},
   "source": [
    "The column used for dissolving the data can now be found in the index."
   ]
  },
  {
   "cell_type": "code",
   "execution_count": null,
   "id": "098f5a4e",
   "metadata": {},
   "outputs": [],
   "source": [
    "dissolved.index"
   ]
  },
  {
   "cell_type": "markdown",
   "id": "3a88282c",
   "metadata": {},
   "source": [
    "The dissolved data should have as many rows of data as there were unique values in the column - one row for each unique value. Let's compare the number of cells in the layers before and after the aggregation."
   ]
  },
  {
   "cell_type": "code",
   "execution_count": null,
   "id": "ad5a2536",
   "metadata": {},
   "outputs": [],
   "source": [
    "print(\"Rows in original intersection GeoDataFrame:\", len(data))\n",
    "print(\"Rows in dissolved layer:\", len(dissolved))"
   ]
  },
  {
   "cell_type": "markdown",
   "id": "cd4a8e63",
   "metadata": {},
   "source": [
    "Indeed the number of rows in our data has decreased. For each row, the original polygon geometries have been dissolved. "
   ]
  }
 ],
 "metadata": {
  "kernelspec": {
   "display_name": "Python 3 (ipykernel)",
   "language": "python",
   "name": "python3"
  }
 },
 "nbformat": 4,
 "nbformat_minor": 5
}
