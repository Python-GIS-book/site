{
 "cells": [
  {
   "cell_type": "markdown",
   "id": "faa65b59",
   "metadata": {},
   "source": [
    "# Introduction to spatial data analysis with geopandas\n",
    "\n",
    "Now as we have learned how to create and represent geographic data in Python using `shapely` objects, we will continue and use [geopandas](https://geopandas.org/) [^geopandas] as our main tool for spatial data analysis. Geopandas extends the capacities of pandas (which we covered in the Part I of the book) with geospatial operations. The main data structures in geopandas are `GeoSeries` and `GeoDataFrame` which extend the capabilities of `Series` and `DataFrames` from pandas. This means that we can use many familiar methods from pandas also when working with geopandas and spatial features. A `GeoDataFrame` is basically a `pandas.DataFrame` that contains one column for geometries. The geometry column is a `GeoSeries` which contains the geometries  as `shapely` objects (points, lines, polygons, multipolygons etc.). \n",
    "\n",
    "## Getting started with geopandas"
   ]
  },
  {
   "cell_type": "markdown",
   "id": "47b88e99",
   "metadata": {},
   "source": [
    "![_**Figure 6.10**. Geometry column in a GeoDataFrame._](../img/geodataframe.png)\n",
    "\n",
    "_**Figure 6.10**. Geometry column in a GeoDataFrame._\n",
    "\n",
    "Similar to importing import pandas as `pd`, we will import geopandas as `gpd`:"
   ]
  },
  {
   "cell_type": "code",
   "execution_count": 1,
   "id": "d1f9eb39-cf4b-4eae-85b7-200e6b80dcb9",
   "metadata": {
    "tags": [
     "remove_cell"
    ]
   },
   "outputs": [],
   "source": [
    "import os\n",
    "os.environ['USE_PYGEOS'] = '0'\n",
    "import geopandas"
   ]
  },
  {
   "cell_type": "code",
   "execution_count": 2,
   "id": "8dc0c3d0",
   "metadata": {},
   "outputs": [],
   "source": [
    "import geopandas as gpd"
   ]
  },
  {
   "cell_type": "markdown",
   "id": "9b4ee3e0",
   "metadata": {},
   "source": [
    "## Reading a file\n",
    "\n",
    "In `geopandas`, we can use a generic function `.from_file()` for reading in various data formats. The data-folder contains some census data from Austin, Texas downloaded from the [U.S Census bureau](https://www.census.gov/programs-surveys/acs/data.html) [^us_census]. Let's first define the path to the file."
   ]
  },
  {
   "cell_type": "code",
   "execution_count": 3,
   "id": "606cfa1c",
   "metadata": {},
   "outputs": [
    {
     "name": "stdout",
     "output_type": "stream",
     "text": [
      "data/Austin/austin_pop_2019.gpkg\n"
     ]
    }
   ],
   "source": [
    "from pathlib import Path\n",
    "\n",
    "data_folder = Path(\"data\")\n",
    "fp = data_folder/ \"Austin\" / \"austin_pop_2019.gpkg\"\n",
    "print(fp)"
   ]
  },
  {
   "cell_type": "markdown",
   "id": "97366979-b3f7-4345-a589-a00a0e895730",
   "metadata": {},
   "source": [
    "Now we can pass this filepath to `geopandas`."
   ]
  },
  {
   "cell_type": "code",
   "execution_count": 4,
   "id": "db42e539",
   "metadata": {},
   "outputs": [],
   "source": [
    "data = gpd.read_file(fp)"
   ]
  },
  {
   "cell_type": "markdown",
   "id": "3c82314a",
   "metadata": {},
   "source": [
    "Let's check the data type."
   ]
  },
  {
   "cell_type": "code",
   "execution_count": 5,
   "id": "dbb84a0d",
   "metadata": {
    "collapsed": false,
    "jupyter": {
     "outputs_hidden": false
    }
   },
   "outputs": [
    {
     "data": {
      "text/plain": [
       "geopandas.geodataframe.GeoDataFrame"
      ]
     },
     "execution_count": 5,
     "metadata": {},
     "output_type": "execute_result"
    }
   ],
   "source": [
    "type(data)"
   ]
  },
  {
   "cell_type": "markdown",
   "id": "2028763e",
   "metadata": {},
   "source": [
    "Here we see that our `data` -variable is a `GeoDataFrame` which extends the functionalities of\n",
    "`DataFrame` to handle spatial data. We can apply many familiar `pandas` methods to explore the contents of our `GeoDataFrame`. Let's have a closer look at the first rows of the data. "
   ]
  },
  {
   "cell_type": "code",
   "execution_count": 6,
   "id": "64f2c58f",
   "metadata": {
    "collapsed": false,
    "jupyter": {
     "outputs_hidden": false
    }
   },
   "outputs": [
    {
     "data": {
      "text/html": [
       "<div>\n",
       "<style scoped>\n",
       "    .dataframe tbody tr th:only-of-type {\n",
       "        vertical-align: middle;\n",
       "    }\n",
       "\n",
       "    .dataframe tbody tr th {\n",
       "        vertical-align: top;\n",
       "    }\n",
       "\n",
       "    .dataframe thead th {\n",
       "        text-align: right;\n",
       "    }\n",
       "</style>\n",
       "<table border=\"1\" class=\"dataframe\">\n",
       "  <thead>\n",
       "    <tr style=\"text-align: right;\">\n",
       "      <th></th>\n",
       "      <th>pop2019</th>\n",
       "      <th>tract</th>\n",
       "      <th>geometry</th>\n",
       "    </tr>\n",
       "  </thead>\n",
       "  <tbody>\n",
       "    <tr>\n",
       "      <th>0</th>\n",
       "      <td>6070.0</td>\n",
       "      <td>002422</td>\n",
       "      <td>POLYGON ((615643.487 3338728.496, 615645.477 3...</td>\n",
       "    </tr>\n",
       "    <tr>\n",
       "      <th>1</th>\n",
       "      <td>2203.0</td>\n",
       "      <td>001751</td>\n",
       "      <td>POLYGON ((618576.586 3359381.053, 618614.330 3...</td>\n",
       "    </tr>\n",
       "    <tr>\n",
       "      <th>2</th>\n",
       "      <td>7419.0</td>\n",
       "      <td>002411</td>\n",
       "      <td>POLYGON ((619200.163 3341784.654, 619270.849 3...</td>\n",
       "    </tr>\n",
       "    <tr>\n",
       "      <th>3</th>\n",
       "      <td>4229.0</td>\n",
       "      <td>000401</td>\n",
       "      <td>POLYGON ((621623.757 3350508.165, 621656.294 3...</td>\n",
       "    </tr>\n",
       "    <tr>\n",
       "      <th>4</th>\n",
       "      <td>4589.0</td>\n",
       "      <td>002313</td>\n",
       "      <td>POLYGON ((621630.247 3345130.744, 621717.926 3...</td>\n",
       "    </tr>\n",
       "  </tbody>\n",
       "</table>\n",
       "</div>"
      ],
      "text/plain": [
       "   pop2019   tract                                           geometry\n",
       "0   6070.0  002422  POLYGON ((615643.487 3338728.496, 615645.477 3...\n",
       "1   2203.0  001751  POLYGON ((618576.586 3359381.053, 618614.330 3...\n",
       "2   7419.0  002411  POLYGON ((619200.163 3341784.654, 619270.849 3...\n",
       "3   4229.0  000401  POLYGON ((621623.757 3350508.165, 621656.294 3...\n",
       "4   4589.0  002313  POLYGON ((621630.247 3345130.744, 621717.926 3..."
      ]
     },
     "execution_count": 6,
     "metadata": {},
     "output_type": "execute_result"
    }
   ],
   "source": [
    "data.head()"
   ]
  },
  {
   "cell_type": "markdown",
   "id": "f42d8a0a",
   "metadata": {},
   "source": [
    "#### Question 6.2\n",
    "\n",
    "Figure out the following information from our input data using your `pandas` skills:\n",
    "    \n",
    "- Number of rows?\n",
    "- Number of census tracts (based on column `tract`)?\n",
    "- Total population (based on column `pop2019`)?"
   ]
  },
  {
   "cell_type": "code",
   "execution_count": 7,
   "id": "e3101fec",
   "metadata": {
    "tags": [
     "remove_cell"
    ]
   },
   "outputs": [],
   "source": [
    "# You can use this cell to enter your solution."
   ]
  },
  {
   "cell_type": "code",
   "execution_count": 8,
   "id": "fb8e9b76",
   "metadata": {
    "tags": [
     "remove_book_cell",
     "hide_cell"
    ]
   },
   "outputs": [
    {
     "name": "stdout",
     "output_type": "stream",
     "text": [
      "Number of rows 130\n",
      "Number of census tract 130\n",
      "Total population 611935.0\n"
     ]
    }
   ],
   "source": [
    "# Solution \n",
    "\n",
    "print(\"Number of rows\", len(data))\n",
    "print(\"Number of census tract\", data[\"tract\"].nunique())\n",
    "print(\"Total population\", data[\"pop2019\"].sum())"
   ]
  },
  {
   "cell_type": "markdown",
   "id": "cbe464d8",
   "metadata": {},
   "source": [
    "It is always a good idea to explore your data also on a map. Creating a simple map from a `GeoDataFrame` is really easy. You can use the ``.plot()`` -function from geopandas that creates a map based on the geometries of the data. `geopandas` actually uses `matplotlib` for plotting which we introduced in Part 1 of this book. Let's try it out, and do a quick visualization of our data."
   ]
  },
  {
   "cell_type": "code",
   "execution_count": 9,
   "id": "cfb617c9",
   "metadata": {
    "collapsed": false,
    "jupyter": {
     "outputs_hidden": false
    }
   },
   "outputs": [
    {
     "data": {
      "text/plain": [
       "<AxesSubplot: >"
      ]
     },
     "execution_count": 9,
     "metadata": {},
     "output_type": "execute_result"
    },
    {
     "data": {
      "image/png": "[encoded data removed]",
      "text/plain": [
       "<Figure size 640x480 with 1 Axes>"
      ]
     },
     "metadata": {},
     "output_type": "display_data"
    }
   ],
   "source": [
    "data.plot()"
   ]
  },
  {
   "cell_type": "markdown",
   "id": "40dd1f34",
   "metadata": {},
   "source": [
    "_**Figure 6.11**. Census tract polygons for Austin, Texas, USA._\n",
    "\n",
    "Voilá! Now we have a quick overview of the geometries in this data. The x and y axes in the plot are based on the coordiante values of the geometries."
   ]
  },
  {
   "cell_type": "markdown",
   "id": "861f9bff",
   "metadata": {},
   "source": [
    "## Geometries in geopandas\n",
    "\n",
    "A `GeoDataFrame` has one column for storing geometries. By default, `geopandas` looks for the geometries from a column called `geometry`. It is also possible to define other columns as the geometry column. Th geometry column is a `GeoSeries` that contains shapely's geometric objects.  Let's have a look at the geometry column of our sample data."
   ]
  },
  {
   "cell_type": "code",
   "execution_count": 10,
   "id": "eeaf22f4",
   "metadata": {
    "collapsed": false,
    "jupyter": {
     "outputs_hidden": false
    }
   },
   "outputs": [
    {
     "data": {
      "text/plain": [
       "0    POLYGON ((615643.487 3338728.496, 615645.477 3...\n",
       "1    POLYGON ((618576.586 3359381.053, 618614.330 3...\n",
       "2    POLYGON ((619200.163 3341784.654, 619270.849 3...\n",
       "3    POLYGON ((621623.757 3350508.165, 621656.294 3...\n",
       "4    POLYGON ((621630.247 3345130.744, 621717.926 3...\n",
       "Name: geometry, dtype: geometry"
      ]
     },
     "execution_count": 10,
     "metadata": {},
     "output_type": "execute_result"
    }
   ],
   "source": [
    "data[\"geometry\"].head()"
   ]
  },
  {
   "cell_type": "markdown",
   "id": "ee7b7cce",
   "metadata": {},
   "source": [
    "As we can see here,  the `geometry` column contains polygon geometries. Since these polygons are  `shapely` objects, it is possible to use `shapely` methods for handling them also in `geopandas`. Many of the methods can be applied all at once to the whole `GeoDataFrame`. \n",
    "\n",
    "Let's proceed to calculating area of the census tract polygons. At this point, it is good to note that the census data are in a metric coordinate reference system, so the area values will be given in square meters."
   ]
  },
  {
   "cell_type": "code",
   "execution_count": 11,
   "id": "582806b2",
   "metadata": {},
   "outputs": [
    {
     "data": {
      "text/plain": [
       "0      4.029772e+06\n",
       "1      1.532030e+06\n",
       "2      3.960344e+06\n",
       "3      2.181762e+06\n",
       "4      2.431208e+06\n",
       "           ...     \n",
       "125    2.321182e+06\n",
       "126    4.388407e+06\n",
       "127    1.702764e+06\n",
       "128    3.540893e+06\n",
       "129    2.054702e+06\n",
       "Length: 130, dtype: float64"
      ]
     },
     "execution_count": 11,
     "metadata": {},
     "output_type": "execute_result"
    }
   ],
   "source": [
    "data[\"geometry\"].area"
   ]
  },
  {
   "cell_type": "markdown",
   "id": "05b2057b-67c8-4443-baa2-dba527805635",
   "metadata": {},
   "source": [
    "The same result can be achieved by using the syntax `data.area`. Let's convert the area values from square meters to square kilometers and store them into a new column."
   ]
  },
  {
   "cell_type": "code",
   "execution_count": 12,
   "id": "997fc7d0-fda3-4dec-884f-6e631a78d5c7",
   "metadata": {},
   "outputs": [],
   "source": [
    "# Get area and convert from m2 to km2\n",
    "data[\"area_km2\"] = data.area / 1000000"
   ]
  },
  {
   "cell_type": "markdown",
   "id": "0490560a",
   "metadata": {},
   "source": [
    "Check the output."
   ]
  },
  {
   "cell_type": "code",
   "execution_count": 13,
   "id": "8c7ced87-0bf1-4713-bec3-53c8c8cd6065",
   "metadata": {},
   "outputs": [
    {
     "data": {
      "text/plain": [
       "0    4.029772\n",
       "1    1.532030\n",
       "2    3.960344\n",
       "3    2.181762\n",
       "4    2.431208\n",
       "Name: area_km2, dtype: float64"
      ]
     },
     "execution_count": 13,
     "metadata": {},
     "output_type": "execute_result"
    }
   ],
   "source": [
    "data[\"area_km2\"].head()"
   ]
  },
  {
   "cell_type": "markdown",
   "id": "7f7fd975-d531-4edb-8fb1-b24ff09792a0",
   "metadata": {},
   "source": [
    "#### Question 6.3\n",
    "\n",
    "Using your `pandas` skills, create a new column `pop_density_km2` and populate it with population density values (population / km2) calculated based on columns `pop2019` and `area_km2`. Print out answers to the following questions:\n",
    "\n",
    "- What was the average population density in 2019?\n",
    "- What was the maximum population density per census tract?"
   ]
  },
  {
   "cell_type": "code",
   "execution_count": 14,
   "id": "099893e9-6fbc-4bf7-98ec-c1f3fe986f57",
   "metadata": {
    "tags": [
     "remove_cell"
    ]
   },
   "outputs": [],
   "source": [
    "# Use this cell to enter your solution."
   ]
  },
  {
   "cell_type": "code",
   "execution_count": 15,
   "id": "ea520200-adf0-403d-a6cf-eff52c8a7523",
   "metadata": {
    "tags": [
     "remove_book_cell",
     "hide_cell"
    ]
   },
   "outputs": [
    {
     "name": "stdout",
     "output_type": "stream",
     "text": [
      "Average: 2397 pop/km2\n",
      "Maximum: 11324 pop/km2\n"
     ]
    }
   ],
   "source": [
    "# Solution \n",
    "\n",
    "# Calculate population density\n",
    "data[\"pop_density_km2\"] = data[\"pop2019\"] / data[\"area_km2\"]\n",
    "\n",
    "# Print out average and maximum values\n",
    "print(\"Average:\", \n",
    "      round(data[\"pop_density_km2\"].mean()), \"pop/km2\")\n",
    "\n",
    "print(\"Maximum:\", \n",
    "      round(data[\"pop_density_km2\"].max()), \"pop/km2\")"
   ]
  },
  {
   "cell_type": "markdown",
   "id": "98c064a1",
   "metadata": {},
   "source": [
    "## Writing data into a file\n",
    "\n",
    "It is possible to export spatial data into various data formats using the `.to_file()` method in `geopandas`. Let's practice writing data into the geopackage file format. Before proceeding, let's check how the data looks like at this point."
   ]
  },
  {
   "cell_type": "code",
   "execution_count": 16,
   "id": "5803bf11",
   "metadata": {},
   "outputs": [
    {
     "data": {
      "text/html": [
       "<div>\n",
       "<style scoped>\n",
       "    .dataframe tbody tr th:only-of-type {\n",
       "        vertical-align: middle;\n",
       "    }\n",
       "\n",
       "    .dataframe tbody tr th {\n",
       "        vertical-align: top;\n",
       "    }\n",
       "\n",
       "    .dataframe thead th {\n",
       "        text-align: right;\n",
       "    }\n",
       "</style>\n",
       "<table border=\"1\" class=\"dataframe\">\n",
       "  <thead>\n",
       "    <tr style=\"text-align: right;\">\n",
       "      <th></th>\n",
       "      <th>pop2019</th>\n",
       "      <th>tract</th>\n",
       "      <th>geometry</th>\n",
       "      <th>area_km2</th>\n",
       "      <th>pop_density_km2</th>\n",
       "    </tr>\n",
       "  </thead>\n",
       "  <tbody>\n",
       "    <tr>\n",
       "      <th>0</th>\n",
       "      <td>6070.0</td>\n",
       "      <td>002422</td>\n",
       "      <td>POLYGON ((615643.487 3338728.496, 615645.477 3...</td>\n",
       "      <td>4.029772</td>\n",
       "      <td>1506.288769</td>\n",
       "    </tr>\n",
       "    <tr>\n",
       "      <th>1</th>\n",
       "      <td>2203.0</td>\n",
       "      <td>001751</td>\n",
       "      <td>POLYGON ((618576.586 3359381.053, 618614.330 3...</td>\n",
       "      <td>1.532030</td>\n",
       "      <td>1437.961408</td>\n",
       "    </tr>\n",
       "    <tr>\n",
       "      <th>2</th>\n",
       "      <td>7419.0</td>\n",
       "      <td>002411</td>\n",
       "      <td>POLYGON ((619200.163 3341784.654, 619270.849 3...</td>\n",
       "      <td>3.960344</td>\n",
       "      <td>1873.322183</td>\n",
       "    </tr>\n",
       "    <tr>\n",
       "      <th>3</th>\n",
       "      <td>4229.0</td>\n",
       "      <td>000401</td>\n",
       "      <td>POLYGON ((621623.757 3350508.165, 621656.294 3...</td>\n",
       "      <td>2.181762</td>\n",
       "      <td>1938.341868</td>\n",
       "    </tr>\n",
       "    <tr>\n",
       "      <th>4</th>\n",
       "      <td>4589.0</td>\n",
       "      <td>002313</td>\n",
       "      <td>POLYGON ((621630.247 3345130.744, 621717.926 3...</td>\n",
       "      <td>2.431208</td>\n",
       "      <td>1887.538655</td>\n",
       "    </tr>\n",
       "  </tbody>\n",
       "</table>\n",
       "</div>"
      ],
      "text/plain": [
       "   pop2019   tract                                           geometry  \\\n",
       "0   6070.0  002422  POLYGON ((615643.487 3338728.496, 615645.477 3...   \n",
       "1   2203.0  001751  POLYGON ((618576.586 3359381.053, 618614.330 3...   \n",
       "2   7419.0  002411  POLYGON ((619200.163 3341784.654, 619270.849 3...   \n",
       "3   4229.0  000401  POLYGON ((621623.757 3350508.165, 621656.294 3...   \n",
       "4   4589.0  002313  POLYGON ((621630.247 3345130.744, 621717.926 3...   \n",
       "\n",
       "   area_km2  pop_density_km2  \n",
       "0  4.029772      1506.288769  \n",
       "1  1.532030      1437.961408  \n",
       "2  3.960344      1873.322183  \n",
       "3  2.181762      1938.341868  \n",
       "4  2.431208      1887.538655  "
      ]
     },
     "execution_count": 16,
     "metadata": {},
     "output_type": "execute_result"
    }
   ],
   "source": [
    "data.head()"
   ]
  },
  {
   "cell_type": "markdown",
   "id": "c04c429b-6a82-4def-bad4-fdb909e99f4c",
   "metadata": {},
   "source": [
    "Let's create a folder  (if it doens't exist) and file name for our result. We will use geopackage also as the output format. "
   ]
  },
  {
   "cell_type": "code",
   "execution_count": 17,
   "id": "d8d9eacf",
   "metadata": {},
   "outputs": [],
   "source": [
    "# Create a output path for the data\n",
    "output_folder = Path(\"data/results\")\n",
    "\n",
    "if not output_folder.exists():\n",
    "    output_folder.mkdir()\n",
    "\n",
    "output_fp = output_folder / \"austin_pop_density_2019.gpkg\""
   ]
  },
  {
   "cell_type": "markdown",
   "id": "ea0d867d-5031-4d0a-b230-ab39e553505c",
   "metadata": {},
   "source": [
    "Write the data into a file using the `.to_file()` method."
   ]
  },
  {
   "cell_type": "code",
   "execution_count": 18,
   "id": "49d317f9",
   "metadata": {},
   "outputs": [],
   "source": [
    "data.to_file(output_fp)"
   ]
  },
  {
   "cell_type": "markdown",
   "id": "32bd2bc1",
   "metadata": {},
   "source": [
    "#### Question 6.4\n",
    "\n",
    "Read the output file using `geopandas` and check that the data looks ok."
   ]
  },
  {
   "cell_type": "code",
   "execution_count": 19,
   "id": "ad7325ea",
   "metadata": {
    "tags": [
     "remove_cell"
    ]
   },
   "outputs": [],
   "source": [
    "# Use this cell to enter your solution."
   ]
  },
  {
   "cell_type": "code",
   "execution_count": 20,
   "id": "c947fbba",
   "metadata": {
    "tags": [
     "remove_book_cell",
     "hide_cell"
    ]
   },
   "outputs": [
    {
     "data": {
      "text/html": [
       "<div>\n",
       "<style scoped>\n",
       "    .dataframe tbody tr th:only-of-type {\n",
       "        vertical-align: middle;\n",
       "    }\n",
       "\n",
       "    .dataframe tbody tr th {\n",
       "        vertical-align: top;\n",
       "    }\n",
       "\n",
       "    .dataframe thead th {\n",
       "        text-align: right;\n",
       "    }\n",
       "</style>\n",
       "<table border=\"1\" class=\"dataframe\">\n",
       "  <thead>\n",
       "    <tr style=\"text-align: right;\">\n",
       "      <th></th>\n",
       "      <th>pop2019</th>\n",
       "      <th>tract</th>\n",
       "      <th>area_km2</th>\n",
       "      <th>pop_density_km2</th>\n",
       "      <th>geometry</th>\n",
       "    </tr>\n",
       "  </thead>\n",
       "  <tbody>\n",
       "    <tr>\n",
       "      <th>0</th>\n",
       "      <td>6070.0</td>\n",
       "      <td>002422</td>\n",
       "      <td>4.029772</td>\n",
       "      <td>1506.288769</td>\n",
       "      <td>POLYGON ((615643.487 3338728.496, 615645.477 3...</td>\n",
       "    </tr>\n",
       "    <tr>\n",
       "      <th>1</th>\n",
       "      <td>2203.0</td>\n",
       "      <td>001751</td>\n",
       "      <td>1.532030</td>\n",
       "      <td>1437.961408</td>\n",
       "      <td>POLYGON ((618576.586 3359381.053, 618614.330 3...</td>\n",
       "    </tr>\n",
       "    <tr>\n",
       "      <th>2</th>\n",
       "      <td>7419.0</td>\n",
       "      <td>002411</td>\n",
       "      <td>3.960344</td>\n",
       "      <td>1873.322183</td>\n",
       "      <td>POLYGON ((619200.163 3341784.654, 619270.849 3...</td>\n",
       "    </tr>\n",
       "    <tr>\n",
       "      <th>3</th>\n",
       "      <td>4229.0</td>\n",
       "      <td>000401</td>\n",
       "      <td>2.181762</td>\n",
       "      <td>1938.341868</td>\n",
       "      <td>POLYGON ((621623.757 3350508.165, 621656.294 3...</td>\n",
       "    </tr>\n",
       "    <tr>\n",
       "      <th>4</th>\n",
       "      <td>4589.0</td>\n",
       "      <td>002313</td>\n",
       "      <td>2.431208</td>\n",
       "      <td>1887.538655</td>\n",
       "      <td>POLYGON ((621630.247 3345130.744, 621717.926 3...</td>\n",
       "    </tr>\n",
       "  </tbody>\n",
       "</table>\n",
       "</div>"
      ],
      "text/plain": [
       "   pop2019   tract  area_km2  pop_density_km2  \\\n",
       "0   6070.0  002422  4.029772      1506.288769   \n",
       "1   2203.0  001751  1.532030      1437.961408   \n",
       "2   7419.0  002411  3.960344      1873.322183   \n",
       "3   4229.0  000401  2.181762      1938.341868   \n",
       "4   4589.0  002313  2.431208      1887.538655   \n",
       "\n",
       "                                            geometry  \n",
       "0  POLYGON ((615643.487 3338728.496, 615645.477 3...  \n",
       "1  POLYGON ((618576.586 3359381.053, 618614.330 3...  \n",
       "2  POLYGON ((619200.163 3341784.654, 619270.849 3...  \n",
       "3  POLYGON ((621623.757 3350508.165, 621656.294 3...  \n",
       "4  POLYGON ((621630.247 3345130.744, 621717.926 3...  "
      ]
     },
     "execution_count": 20,
     "metadata": {},
     "output_type": "execute_result"
    }
   ],
   "source": [
    "# Solution\n",
    "\n",
    "temp = gpd.read_file(output_fp)\n",
    "\n",
    "# Check first rows\n",
    "temp.head()"
   ]
  },
  {
   "cell_type": "code",
   "execution_count": 21,
   "id": "64223fd7",
   "metadata": {
    "tags": [
     "remove_book_cell",
     "hide_cell"
    ]
   },
   "outputs": [
    {
     "data": {
      "text/plain": [
       "<AxesSubplot: >"
      ]
     },
     "execution_count": 21,
     "metadata": {},
     "output_type": "execute_result"
    },
    {
     "data": {
      "image/png": "[encoded data removed]",
      "text/plain": [
       "<Figure size 640x480 with 1 Axes>"
      ]
     },
     "metadata": {},
     "output_type": "display_data"
    }
   ],
   "source": [
    "# Solution\n",
    "\n",
    "# You can also plot the data for a visual check\n",
    "temp.plot()"
   ]
  },
  {
   "cell_type": "markdown",
   "id": "e930a43f",
   "metadata": {},
   "source": [
    "## Footnotes\n",
    "\n",
    "[^geopandas]: <https://geopandas.org/>\n",
    "[^NLS_topodata]: <https://www.maanmittauslaitos.fi/en/maps-and-spatial-data/expert-users/product-descriptions/topographic-database>\n",
    "[^NLS_lisence]: <https://www.maanmittauslaitos.fi/en/opendata-licence-cc40>\n",
    "[^OGC_sfa]: <https://www.ogc.org/standards/sfa>\n",
    "[^paituli]: <https://avaa.tdata.fi/web/paituli/latauspalvelu>\n",
    "[^topodata_fair]: <https://etsin.fairdata.fi/dataset/5023ecc7-914a-4494-9e32-d0a39d3b56ae>\n",
    "[^us_census]: <https://www.census.gov/programs-surveys/acs/data.html>"
   ]
  }
 ],
 "metadata": {
  "kernelspec": {
   "display_name": "Python 3 (ipykernel)",
   "language": "python",
   "name": "python3"
  },
  "language_info": {
   "codemirror_mode": {
    "name": "ipython",
    "version": 3
   },
   "file_extension": ".py",
   "mimetype": "text/x-python",
   "name": "python",
   "nbconvert_exporter": "python",
   "pygments_lexer": "ipython3",
   "version": "3.10.9"
  }
 },
 "nbformat": 4,
 "nbformat_minor": 5
}
