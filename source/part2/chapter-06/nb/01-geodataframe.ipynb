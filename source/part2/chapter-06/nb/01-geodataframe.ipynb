{
 "cells": [
  {
   "cell_type": "markdown",
   "id": "74d2f3e3",
   "metadata": {
    "editable": true,
    "slideshow": {
     "slide_type": ""
    },
    "tags": []
   },
   "source": [
    "# Introduction to data structures in geopandas\n",
    "\n",
    "Now that you have seen how to create and represent geometric objects in Python using shapely, we will continue on learning various GIS techniques using a library called **geopandas** [^geopandas]. Geopandas is a library designed to make working with geospatial data in Python easier. It extends the data types used by pandas (which we covered in Part I) to allow geospatial operations and the handling of coordinate reference systems. Essentially, it provides a high-level interface for vector data (like points, lines, and polygons) that integrates with the existing pandas data analysis framework, as well as the extensive Python GIS ecosystem (see Figure 5.1 in Chapter 5). Geopandas is one of the core libraries for GIS in Python and it is widely used in different sectors (academia, industry, etc.) for geographic data analysis. In the next sections, we will introduce the basic data structures that are used to work with geographic data using geopandas, namely `GeoSeries` and `GeoDataFrame`. "
   ]
  },
  {
   "cell_type": "markdown",
   "id": "91e6e44b-312f-4d87-b86b-94c8e77b28b9",
   "metadata": {
    "editable": true,
    "slideshow": {
     "slide_type": ""
    },
    "tags": []
   },
   "source": [
    "## What is a GeoDataFrame?\n",
    "\n",
    "The main data structures in geopandas are `GeoSeries` and `GeoDataFrame`. Essentially, they extend the capabilities of `Series` and `DataFrames` from pandas. This means that we can use many familiar methods from pandas also when working with geopandas and geograpchic data. A `GeoDataFrame` is basically like a `pandas.DataFrame` that contains a dedicated column for storing geometries (see Figure 6.10). The geometry column is a `GeoSeries` which contains the geometries as shapely objects (points, lines, polygons, multipolygons etc.). As we learned in the previous section, shapely provides many useful attributes and methods to work with geometries. Luckily, these same functionalities can be directly applied to `GeoSeries` making it convenient to work with data layers that may contain thousands or even millions of geographic features. In this section, you will learn various useful techniques and tools bundled in geopandas that help you to work with geographic data in vector format."
   ]
  },
  {
   "cell_type": "markdown",
   "id": "1757ab02",
   "metadata": {
    "editable": true,
    "slideshow": {
     "slide_type": ""
    },
    "tags": []
   },
   "source": [
    "![_**Figure 6.10**. Geometry column in a GeoDataFrame._](../img/geodataframe.png)\n",
    "\n",
    "_**Figure 6.10**. Geometry column in a GeoDataFrame._"
   ]
  },
  {
   "cell_type": "markdown",
   "id": "7780e264",
   "metadata": {
    "editable": true,
    "slideshow": {
     "slide_type": ""
    },
    "tags": []
   },
   "source": [
    "## Reading a file\n",
    "\n",
    "Like with `pandas`, a typical first step when starting to work with `geopandas` is to read data from a given file. In `geopandas`, we can use a generic function `.from_file()` for reading geospatial data from various data formats, such as the ones introduced in Chapter 5. The data folder contains census data from Austin, Texas downloaded from the [U.S Census bureau](https://www.census.gov/programs-surveys/acs/data.html) [^us_census] which we will use to introduce some of the basic data input/output functionalities of `geopandas`. Let's start by defining the path to the file that we want to access: "
   ]
  },
  {
   "cell_type": "code",
   "execution_count": 1,
   "id": "735816cf",
   "metadata": {
    "editable": true,
    "slideshow": {
     "slide_type": ""
    },
    "tags": []
   },
   "outputs": [
    {
     "name": "stdout",
     "output_type": "stream",
     "text": [
      "data/Austin/austin_pop_2019.gpkg\n"
     ]
    }
   ],
   "source": [
    "from pathlib import Path\n",
    "\n",
    "data_folder = Path(\"data/Austin\")\n",
    "fp = data_folder / \"austin_pop_2019.gpkg\"\n",
    "print(fp)"
   ]
  },
  {
   "cell_type": "markdown",
   "id": "3276eecd",
   "metadata": {
    "editable": true,
    "slideshow": {
     "slide_type": ""
    },
    "tags": []
   },
   "source": [
    "Similar to importing `pandas`, we will first import geopandas as `gpd` which allows us to start using the library. Then we will read the file by passing the filepath to `.read_file()` function of `geopandas`:"
   ]
  },
  {
   "cell_type": "code",
   "execution_count": 2,
   "id": "c9d2e2f0",
   "metadata": {
    "editable": true,
    "slideshow": {
     "slide_type": ""
    },
    "tags": []
   },
   "outputs": [],
   "source": [
    "import geopandas as gpd\n",
    "\n",
    "data = gpd.read_file(fp)"
   ]
  },
  {
   "cell_type": "markdown",
   "id": "783d64c2",
   "metadata": {
    "editable": true,
    "slideshow": {
     "slide_type": ""
    },
    "tags": []
   },
   "source": [
    "You can use the `.read_file()` command in this way to read data from many different vector formats (GeoPackage, Shapefile, GeoJSON, etc.). Hence, it is very easy to start working with geographic data using geopandas. Let's take a look at the data type of our `data` variable:"
   ]
  },
  {
   "cell_type": "code",
   "execution_count": 3,
   "id": "4f4e21c7",
   "metadata": {
    "collapsed": false,
    "editable": true,
    "jupyter": {
     "outputs_hidden": false
    },
    "slideshow": {
     "slide_type": ""
    },
    "tags": []
   },
   "outputs": [
    {
     "data": {
      "text/plain": [
       "geopandas.geodataframe.GeoDataFrame"
      ]
     },
     "execution_count": 3,
     "metadata": {},
     "output_type": "execute_result"
    }
   ],
   "source": [
    "type(data)"
   ]
  },
  {
   "cell_type": "markdown",
   "id": "399c6fca",
   "metadata": {
    "editable": true,
    "slideshow": {
     "slide_type": ""
    },
    "tags": []
   },
   "source": [
    "Here we see that our `data` -variable is a `GeoDataFrame` which extends the functionalities of `DataFrame` to handle spatial data as discussed earlier. We can apply many familiar `pandas` methods to explore the contents of our `GeoDataFrame`. Let's have a closer look at the first rows of the data: "
   ]
  },
  {
   "cell_type": "code",
   "execution_count": 4,
   "id": "7cabc879",
   "metadata": {
    "collapsed": false,
    "editable": true,
    "jupyter": {
     "outputs_hidden": false
    },
    "slideshow": {
     "slide_type": ""
    },
    "tags": []
   },
   "outputs": [
    {
     "data": {
      "text/html": [
       "<div>\n",
       "<style scoped>\n",
       "    .dataframe tbody tr th:only-of-type {\n",
       "        vertical-align: middle;\n",
       "    }\n",
       "\n",
       "    .dataframe tbody tr th {\n",
       "        vertical-align: top;\n",
       "    }\n",
       "\n",
       "    .dataframe thead th {\n",
       "        text-align: right;\n",
       "    }\n",
       "</style>\n",
       "<table border=\"1\" class=\"dataframe\">\n",
       "  <thead>\n",
       "    <tr style=\"text-align: right;\">\n",
       "      <th></th>\n",
       "      <th>pop2019</th>\n",
       "      <th>tract</th>\n",
       "      <th>geometry</th>\n",
       "    </tr>\n",
       "  </thead>\n",
       "  <tbody>\n",
       "    <tr>\n",
       "      <th>0</th>\n",
       "      <td>6070.0</td>\n",
       "      <td>002422</td>\n",
       "      <td>POLYGON ((615643.487 3338728.496, 615645.477 3...</td>\n",
       "    </tr>\n",
       "    <tr>\n",
       "      <th>1</th>\n",
       "      <td>2203.0</td>\n",
       "      <td>001751</td>\n",
       "      <td>POLYGON ((618576.586 3359381.053, 618614.33 33...</td>\n",
       "    </tr>\n",
       "    <tr>\n",
       "      <th>2</th>\n",
       "      <td>7419.0</td>\n",
       "      <td>002411</td>\n",
       "      <td>POLYGON ((619200.163 3341784.654, 619270.849 3...</td>\n",
       "    </tr>\n",
       "    <tr>\n",
       "      <th>3</th>\n",
       "      <td>4229.0</td>\n",
       "      <td>000401</td>\n",
       "      <td>POLYGON ((621623.757 3350508.165, 621656.294 3...</td>\n",
       "    </tr>\n",
       "    <tr>\n",
       "      <th>4</th>\n",
       "      <td>4589.0</td>\n",
       "      <td>002313</td>\n",
       "      <td>POLYGON ((621630.247 3345130.744, 621717.926 3...</td>\n",
       "    </tr>\n",
       "  </tbody>\n",
       "</table>\n",
       "</div>"
      ],
      "text/plain": [
       "   pop2019   tract                                           geometry\n",
       "0   6070.0  002422  POLYGON ((615643.487 3338728.496, 615645.477 3...\n",
       "1   2203.0  001751  POLYGON ((618576.586 3359381.053, 618614.33 33...\n",
       "2   7419.0  002411  POLYGON ((619200.163 3341784.654, 619270.849 3...\n",
       "3   4229.0  000401  POLYGON ((621623.757 3350508.165, 621656.294 3...\n",
       "4   4589.0  002313  POLYGON ((621630.247 3345130.744, 621717.926 3..."
      ]
     },
     "execution_count": 4,
     "metadata": {},
     "output_type": "execute_result"
    }
   ],
   "source": [
    "data.head()"
   ]
  },
  {
   "cell_type": "markdown",
   "id": "dcb86ef0-d6a9-4d63-b1c3-66b302efb4a1",
   "metadata": {
    "editable": true,
    "slideshow": {
     "slide_type": ""
    },
    "tags": []
   },
   "source": [
    "We can see that there are three columns in our `GeoDataFrame`. The columns `pop2019` and `tract` represent attribute information in our data, namely the number of people living on a given census tract and a unique id-number for the tract, wherease the column `geometry` contains the geographic data (polygons) for each census tract."
   ]
  },
  {
   "cell_type": "markdown",
   "id": "faec28e0",
   "metadata": {
    "editable": true,
    "slideshow": {
     "slide_type": ""
    },
    "tags": []
   },
   "source": [
    "It is always a good idea to explore your geographic data on a map. Creating a simple map from a `GeoDataFrame` is really easy. You can use the `.plot()` function from geopandas to create a map based on the geometries of the data. `geopandas` actually uses `matplotlib` for plotting which we introduced in Part 1 of this book. Let's try it out, and do a quick visualization of our data."
   ]
  },
  {
   "cell_type": "code",
   "execution_count": 5,
   "id": "8f6b7b27",
   "metadata": {
    "collapsed": false,
    "editable": true,
    "jupyter": {
     "outputs_hidden": false
    },
    "slideshow": {
     "slide_type": ""
    },
    "tags": []
   },
   "outputs": [
    {
     "data": {
      "text/plain": [
       "<Axes: >"
      ]
     },
     "execution_count": 5,
     "metadata": {},
     "output_type": "execute_result"
    },
    {
     "data": {
      "image/png": "[encoded data removed]",
      "text/plain": [
       "<Figure size 640x480 with 1 Axes>"
      ]
     },
     "metadata": {},
     "output_type": "display_data"
    }
   ],
   "source": [
    "data.plot()"
   ]
  },
  {
   "cell_type": "markdown",
   "id": "a4a9b7dd",
   "metadata": {
    "editable": true,
    "slideshow": {
     "slide_type": ""
    },
    "tags": []
   },
   "source": [
    "_**Figure 6.11**. Census tract polygons for Austin, Texas, USA._\n",
    "\n",
    "Voilá! Here is our first map created with geopandas! This map gives a quick overview of how the geometries of the cencus tracts are located in the given region. The `x` and `y` axes in the plot are based on the coordinate values of the geometries which are in this case represented as meters."
   ]
  },
  {
   "cell_type": "markdown",
   "id": "26fdeb5c",
   "metadata": {
    "editable": true,
    "slideshow": {
     "slide_type": ""
    },
    "tags": [
     "question"
    ]
   },
   "source": [
    "#### Question 6.2\n",
    "\n",
    "Figure out the following information from our input data using your `pandas` skills:\n",
    "    \n",
    "- Number of rows?\n",
    "- Number of census tracts (based on column `tract`)?\n",
    "- Total population (based on column `pop2019`)?"
   ]
  },
  {
   "cell_type": "code",
   "execution_count": 6,
   "id": "520ecc09",
   "metadata": {
    "editable": true,
    "slideshow": {
     "slide_type": ""
    },
    "tags": [
     "remove_cell"
    ]
   },
   "outputs": [],
   "source": [
    "# You can use this cell to enter your solution."
   ]
  },
  {
   "cell_type": "code",
   "execution_count": 7,
   "id": "c92f7f98",
   "metadata": {
    "editable": true,
    "slideshow": {
     "slide_type": ""
    },
    "tags": [
     "remove_book_cell",
     "hide-cell"
    ]
   },
   "outputs": [
    {
     "name": "stdout",
     "output_type": "stream",
     "text": [
      "Number of rows 130\n",
      "Number of census tract 130\n",
      "Total population 611935.0\n"
     ]
    }
   ],
   "source": [
    "# Solution\n",
    "\n",
    "print(\"Number of rows\", len(data))\n",
    "print(\"Number of census tract\", data[\"tract\"].nunique())\n",
    "print(\"Total population\", data[\"pop2019\"].sum())"
   ]
  },
  {
   "cell_type": "markdown",
   "id": "98018549",
   "metadata": {
    "editable": true,
    "slideshow": {
     "slide_type": ""
    },
    "tags": []
   },
   "source": [
    "## Geometries in geopandas\n",
    "\n",
    "By default, `geopandas` looks for the geometries from a column called `geometry`, which is ultimately a `GeoSeries` data structure containing shapely geometric objects. Let's have a closer look at the geometry column of our data:"
   ]
  },
  {
   "cell_type": "code",
   "execution_count": 8,
   "id": "9e49d8f5",
   "metadata": {
    "collapsed": false,
    "editable": true,
    "jupyter": {
     "outputs_hidden": false
    },
    "slideshow": {
     "slide_type": ""
    },
    "tags": []
   },
   "outputs": [
    {
     "data": {
      "text/plain": [
       "0    POLYGON ((615643.487 3338728.496, 615645.477 3...\n",
       "1    POLYGON ((618576.586 3359381.053, 618614.33 33...\n",
       "2    POLYGON ((619200.163 3341784.654, 619270.849 3...\n",
       "3    POLYGON ((621623.757 3350508.165, 621656.294 3...\n",
       "4    POLYGON ((621630.247 3345130.744, 621717.926 3...\n",
       "Name: geometry, dtype: geometry"
      ]
     },
     "execution_count": 8,
     "metadata": {},
     "output_type": "execute_result"
    }
   ],
   "source": [
    "data[\"geometry\"].head()"
   ]
  },
  {
   "cell_type": "markdown",
   "id": "b771565c",
   "metadata": {
    "editable": true,
    "slideshow": {
     "slide_type": ""
    },
    "tags": []
   },
   "source": [
    "As we can see here,  the `geometry` column contains polygon geometries. The last line above reveals that the data type (`dtype`) of this column is `geometry`. Hence, in a similar manner as `pandas` can identify automatically that specific column contains e.g. integer values, geopandas has identified that the data type of a column containing `shapely.geometry` objects is `geometry`. As we learned earlier, the `shapely.geometry` objects have various useful attributes and methods that we can use to work with geographic data. Luckily, it is possible to use these shapely methods directly in geopandas and apply them to a whole `GeoSeries` without a need to access individual geometries one by one. With this in mind, let's proceed and calculate the area of each census tract polygon. Calculating an area of all geometries in your data can be done easily by using a command `.area` that comes with the `GeoDataFrame` object. As a reminder, the census data are in a metric coordinate reference system, so the area values will be given in square meters:"
   ]
  },
  {
   "cell_type": "code",
   "execution_count": 9,
   "id": "bd479270",
   "metadata": {
    "editable": true,
    "slideshow": {
     "slide_type": ""
    },
    "tags": []
   },
   "outputs": [
    {
     "data": {
      "text/plain": [
       "0      4.029772e+06\n",
       "1      1.532030e+06\n",
       "2      3.960344e+06\n",
       "3      2.181762e+06\n",
       "4      2.431208e+06\n",
       "           ...     \n",
       "125    2.321182e+06\n",
       "126    4.388407e+06\n",
       "127    1.702764e+06\n",
       "128    3.540893e+06\n",
       "129    2.054702e+06\n",
       "Length: 130, dtype: float64"
      ]
     },
     "execution_count": 9,
     "metadata": {},
     "output_type": "execute_result"
    }
   ],
   "source": [
    "data[\"geometry\"].area"
   ]
  },
  {
   "cell_type": "markdown",
   "id": "fa37f73f",
   "metadata": {
    "editable": true,
    "slideshow": {
     "slide_type": ""
    },
    "tags": []
   },
   "source": [
    "The same result can be achieved by using the syntax `data.area`. Let's convert the area values from square meters to square kilometers and store them into a new column called `area_km2`:"
   ]
  },
  {
   "cell_type": "code",
   "execution_count": 10,
   "id": "5cb53090",
   "metadata": {
    "editable": true,
    "slideshow": {
     "slide_type": ""
    },
    "tags": []
   },
   "outputs": [
    {
     "data": {
      "text/html": [
       "<div>\n",
       "<style scoped>\n",
       "    .dataframe tbody tr th:only-of-type {\n",
       "        vertical-align: middle;\n",
       "    }\n",
       "\n",
       "    .dataframe tbody tr th {\n",
       "        vertical-align: top;\n",
       "    }\n",
       "\n",
       "    .dataframe thead th {\n",
       "        text-align: right;\n",
       "    }\n",
       "</style>\n",
       "<table border=\"1\" class=\"dataframe\">\n",
       "  <thead>\n",
       "    <tr style=\"text-align: right;\">\n",
       "      <th></th>\n",
       "      <th>pop2019</th>\n",
       "      <th>tract</th>\n",
       "      <th>geometry</th>\n",
       "      <th>area_km2</th>\n",
       "    </tr>\n",
       "  </thead>\n",
       "  <tbody>\n",
       "    <tr>\n",
       "      <th>0</th>\n",
       "      <td>6070.0</td>\n",
       "      <td>002422</td>\n",
       "      <td>POLYGON ((615643.487 3338728.496, 615645.477 3...</td>\n",
       "      <td>4.029772</td>\n",
       "    </tr>\n",
       "    <tr>\n",
       "      <th>1</th>\n",
       "      <td>2203.0</td>\n",
       "      <td>001751</td>\n",
       "      <td>POLYGON ((618576.586 3359381.053, 618614.33 33...</td>\n",
       "      <td>1.532030</td>\n",
       "    </tr>\n",
       "    <tr>\n",
       "      <th>2</th>\n",
       "      <td>7419.0</td>\n",
       "      <td>002411</td>\n",
       "      <td>POLYGON ((619200.163 3341784.654, 619270.849 3...</td>\n",
       "      <td>3.960344</td>\n",
       "    </tr>\n",
       "    <tr>\n",
       "      <th>3</th>\n",
       "      <td>4229.0</td>\n",
       "      <td>000401</td>\n",
       "      <td>POLYGON ((621623.757 3350508.165, 621656.294 3...</td>\n",
       "      <td>2.181762</td>\n",
       "    </tr>\n",
       "    <tr>\n",
       "      <th>4</th>\n",
       "      <td>4589.0</td>\n",
       "      <td>002313</td>\n",
       "      <td>POLYGON ((621630.247 3345130.744, 621717.926 3...</td>\n",
       "      <td>2.431208</td>\n",
       "    </tr>\n",
       "  </tbody>\n",
       "</table>\n",
       "</div>"
      ],
      "text/plain": [
       "   pop2019   tract                                           geometry  \\\n",
       "0   6070.0  002422  POLYGON ((615643.487 3338728.496, 615645.477 3...   \n",
       "1   2203.0  001751  POLYGON ((618576.586 3359381.053, 618614.33 33...   \n",
       "2   7419.0  002411  POLYGON ((619200.163 3341784.654, 619270.849 3...   \n",
       "3   4229.0  000401  POLYGON ((621623.757 3350508.165, 621656.294 3...   \n",
       "4   4589.0  002313  POLYGON ((621630.247 3345130.744, 621717.926 3...   \n",
       "\n",
       "   area_km2  \n",
       "0  4.029772  \n",
       "1  1.532030  \n",
       "2  3.960344  \n",
       "3  2.181762  \n",
       "4  2.431208  "
      ]
     },
     "execution_count": 10,
     "metadata": {},
     "output_type": "execute_result"
    }
   ],
   "source": [
    "data[\"area_km2\"] = data.area / 1000000\n",
    "data.head()"
   ]
  },
  {
   "cell_type": "markdown",
   "id": "171eb0d0-e303-447d-8981-f81568577dda",
   "metadata": {
    "editable": true,
    "slideshow": {
     "slide_type": ""
    },
    "tags": []
   },
   "source": [
    "As we can see, now we added a new column into our `GeoDataFrame` which contains the area of each polygon as square kilometers. Now you have succesfully conducted your first geocomputational analysis in Python! Quite easy isn't it? We can also very easily visualize the data and make a nice choropleth map by using the area of a given geometry to determine the color for it. To do this, we can use the parameter `column` of the `.plot()` method in geopandas to specify that the color for each polygon should be based on the values stored in the `area_km2` column:  "
   ]
  },
  {
   "cell_type": "code",
   "execution_count": 11,
   "id": "86c538db-4f54-4514-a17e-61a9ad89014a",
   "metadata": {
    "editable": true,
    "slideshow": {
     "slide_type": ""
    },
    "tags": []
   },
   "outputs": [
    {
     "data": {
      "text/plain": [
       "<Axes: >"
      ]
     },
     "execution_count": 11,
     "metadata": {},
     "output_type": "execute_result"
    },
    {
     "data": {
      "image/png": "[encoded data removed]",
      "text/plain": [
       "<Figure size 640x480 with 1 Axes>"
      ]
     },
     "metadata": {},
     "output_type": "display_data"
    }
   ],
   "source": [
    "data.plot(column=\"area_km2\")"
   ]
  },
  {
   "cell_type": "markdown",
   "id": "d10ccee1-be12-40cf-baa3-f629581243cb",
   "metadata": {
    "editable": true,
    "slideshow": {
     "slide_type": ""
    },
    "tags": []
   },
   "source": [
    "_**Figure 6.12**. A map showing census tracts colored based on the size of the polygon._\n",
    "\n",
    "As a result, we can more easily spot the larger polygons from the map with brighter colors. There are various ways to modify the appearance of the map and colors, which we will learn later in Chapter 8."
   ]
  },
  {
   "cell_type": "markdown",
   "id": "41f2f708",
   "metadata": {
    "editable": true,
    "slideshow": {
     "slide_type": ""
    },
    "tags": [
     "question"
    ]
   },
   "source": [
    "#### Question 6.3\n",
    "\n",
    "Using your `pandas` skills, create a new column `pop_density_km2` and populate it with population density values (population / km2) calculated based on columns `pop2019` and `area_km2`. Print out answers to the following questions:\n",
    "\n",
    "- What was the average population density in 2019?\n",
    "- What was the maximum population density per census tract?"
   ]
  },
  {
   "cell_type": "code",
   "execution_count": 12,
   "id": "cde00632",
   "metadata": {
    "editable": true,
    "slideshow": {
     "slide_type": ""
    },
    "tags": [
     "remove_cell"
    ]
   },
   "outputs": [],
   "source": [
    "# Use this cell to enter your solution."
   ]
  },
  {
   "cell_type": "code",
   "execution_count": 13,
   "id": "43f81436",
   "metadata": {
    "editable": true,
    "slideshow": {
     "slide_type": ""
    },
    "tags": [
     "remove_book_cell",
     "hide-cell"
    ]
   },
   "outputs": [
    {
     "name": "stdout",
     "output_type": "stream",
     "text": [
      "Average: 2397 pop/km2\n",
      "Maximum: 11324 pop/km2\n"
     ]
    }
   ],
   "source": [
    "# Solution\n",
    "\n",
    "# Calculate population density\n",
    "data[\"pop_density_km2\"] = data[\"pop2019\"] / data[\"area_km2\"]\n",
    "\n",
    "# Print out average and maximum values\n",
    "print(\"Average:\", round(data[\"pop_density_km2\"].mean()), \"pop/km2\")\n",
    "\n",
    "print(\"Maximum:\", round(data[\"pop_density_km2\"].max()), \"pop/km2\")"
   ]
  },
  {
   "cell_type": "markdown",
   "id": "c9277e54",
   "metadata": {
    "editable": true,
    "slideshow": {
     "slide_type": ""
    },
    "tags": []
   },
   "source": [
    "## Writing data into a file\n",
    "\n",
    "In a similar way as reading data, writing the contents of your `GeoDataFrame` into a specific file is one of the most typical operations when working with geographic data. It is possible to export the `GeoDataFrame` into various data formats using the `.to_file()` method. Let's start by learning how we can write data into a `GeoPackage`. Before proceeding, let's see how the data looks like at this point:"
   ]
  },
  {
   "cell_type": "code",
   "execution_count": 14,
   "id": "28eb7d38",
   "metadata": {
    "editable": true,
    "slideshow": {
     "slide_type": ""
    },
    "tags": []
   },
   "outputs": [
    {
     "data": {
      "text/html": [
       "<div>\n",
       "<style scoped>\n",
       "    .dataframe tbody tr th:only-of-type {\n",
       "        vertical-align: middle;\n",
       "    }\n",
       "\n",
       "    .dataframe tbody tr th {\n",
       "        vertical-align: top;\n",
       "    }\n",
       "\n",
       "    .dataframe thead th {\n",
       "        text-align: right;\n",
       "    }\n",
       "</style>\n",
       "<table border=\"1\" class=\"dataframe\">\n",
       "  <thead>\n",
       "    <tr style=\"text-align: right;\">\n",
       "      <th></th>\n",
       "      <th>pop2019</th>\n",
       "      <th>tract</th>\n",
       "      <th>geometry</th>\n",
       "      <th>area_km2</th>\n",
       "      <th>pop_density_km2</th>\n",
       "    </tr>\n",
       "  </thead>\n",
       "  <tbody>\n",
       "    <tr>\n",
       "      <th>0</th>\n",
       "      <td>6070.0</td>\n",
       "      <td>002422</td>\n",
       "      <td>POLYGON ((615643.487 3338728.496, 615645.477 3...</td>\n",
       "      <td>4.029772</td>\n",
       "      <td>1506.288769</td>\n",
       "    </tr>\n",
       "    <tr>\n",
       "      <th>1</th>\n",
       "      <td>2203.0</td>\n",
       "      <td>001751</td>\n",
       "      <td>POLYGON ((618576.586 3359381.053, 618614.33 33...</td>\n",
       "      <td>1.532030</td>\n",
       "      <td>1437.961408</td>\n",
       "    </tr>\n",
       "    <tr>\n",
       "      <th>2</th>\n",
       "      <td>7419.0</td>\n",
       "      <td>002411</td>\n",
       "      <td>POLYGON ((619200.163 3341784.654, 619270.849 3...</td>\n",
       "      <td>3.960344</td>\n",
       "      <td>1873.322183</td>\n",
       "    </tr>\n",
       "    <tr>\n",
       "      <th>3</th>\n",
       "      <td>4229.0</td>\n",
       "      <td>000401</td>\n",
       "      <td>POLYGON ((621623.757 3350508.165, 621656.294 3...</td>\n",
       "      <td>2.181762</td>\n",
       "      <td>1938.341868</td>\n",
       "    </tr>\n",
       "    <tr>\n",
       "      <th>4</th>\n",
       "      <td>4589.0</td>\n",
       "      <td>002313</td>\n",
       "      <td>POLYGON ((621630.247 3345130.744, 621717.926 3...</td>\n",
       "      <td>2.431208</td>\n",
       "      <td>1887.538655</td>\n",
       "    </tr>\n",
       "  </tbody>\n",
       "</table>\n",
       "</div>"
      ],
      "text/plain": [
       "   pop2019   tract                                           geometry  \\\n",
       "0   6070.0  002422  POLYGON ((615643.487 3338728.496, 615645.477 3...   \n",
       "1   2203.0  001751  POLYGON ((618576.586 3359381.053, 618614.33 33...   \n",
       "2   7419.0  002411  POLYGON ((619200.163 3341784.654, 619270.849 3...   \n",
       "3   4229.0  000401  POLYGON ((621623.757 3350508.165, 621656.294 3...   \n",
       "4   4589.0  002313  POLYGON ((621630.247 3345130.744, 621717.926 3...   \n",
       "\n",
       "   area_km2  pop_density_km2  \n",
       "0  4.029772      1506.288769  \n",
       "1  1.532030      1437.961408  \n",
       "2  3.960344      1873.322183  \n",
       "3  2.181762      1938.341868  \n",
       "4  2.431208      1887.538655  "
      ]
     },
     "execution_count": 14,
     "metadata": {},
     "output_type": "execute_result"
    }
   ],
   "source": [
    "data.head()"
   ]
  },
  {
   "cell_type": "markdown",
   "id": "db787d70",
   "metadata": {
    "editable": true,
    "slideshow": {
     "slide_type": ""
    },
    "tags": []
   },
   "source": [
    "Writing the contents of this `GeoDataFrame` into a file can be done using the `.to_file()` method. To use the method, we only need to pass the filepath to the output file. Geopandas automatically identifies the correct format based on the file extension that have been written after the dot in the file path. For instance in the example below, the text `.gpkg` at the end of the `output_fp` variable determines that the `GeoDataFrame` will be written in GeoPackage format:"
   ]
  },
  {
   "cell_type": "code",
   "execution_count": 15,
   "id": "d2874985",
   "metadata": {
    "editable": true,
    "slideshow": {
     "slide_type": ""
    },
    "tags": []
   },
   "outputs": [],
   "source": [
    "# Create a output path for the data\n",
    "output_fp = \"data/Temp/austin_pop_density_2019.gpkg\"\n",
    "\n",
    "# Write the file\n",
    "data.to_file(output_fp)"
   ]
  },
  {
   "cell_type": "markdown",
   "id": "703405bd-bce1-450c-8c80-3d0fcd79941c",
   "metadata": {
    "editable": true,
    "slideshow": {
     "slide_type": ""
    },
    "tags": []
   },
   "source": [
    "Now we have successfully stored the data into a file called `austin_pop_density_2019.gpkg`. Notice, that if you have an existing file with the same name, geopandas will automatically overwrite the contents (without asking). Hence, it is good to be a bit mindful about the naming of the files whenever writing data to disk. "
   ]
  },
  {
   "cell_type": "markdown",
   "id": "14a7403f",
   "metadata": {
    "editable": true,
    "slideshow": {
     "slide_type": ""
    },
    "tags": [
     "question"
    ]
   },
   "source": [
    "#### Question 6.4\n",
    "\n",
    "Read the output file using `geopandas` and check that the data looks ok."
   ]
  },
  {
   "cell_type": "code",
   "execution_count": 16,
   "id": "0989efb6",
   "metadata": {
    "editable": true,
    "slideshow": {
     "slide_type": ""
    },
    "tags": [
     "remove_cell"
    ]
   },
   "outputs": [],
   "source": [
    "# Use this cell to enter your solution."
   ]
  },
  {
   "cell_type": "code",
   "execution_count": 17,
   "id": "4deb1841",
   "metadata": {
    "editable": true,
    "slideshow": {
     "slide_type": ""
    },
    "tags": [
     "remove_book_cell",
     "hide-cell"
    ]
   },
   "outputs": [
    {
     "data": {
      "text/html": [
       "<div>\n",
       "<style scoped>\n",
       "    .dataframe tbody tr th:only-of-type {\n",
       "        vertical-align: middle;\n",
       "    }\n",
       "\n",
       "    .dataframe tbody tr th {\n",
       "        vertical-align: top;\n",
       "    }\n",
       "\n",
       "    .dataframe thead th {\n",
       "        text-align: right;\n",
       "    }\n",
       "</style>\n",
       "<table border=\"1\" class=\"dataframe\">\n",
       "  <thead>\n",
       "    <tr style=\"text-align: right;\">\n",
       "      <th></th>\n",
       "      <th>pop2019</th>\n",
       "      <th>tract</th>\n",
       "      <th>area_km2</th>\n",
       "      <th>pop_density_km2</th>\n",
       "      <th>geometry</th>\n",
       "    </tr>\n",
       "  </thead>\n",
       "  <tbody>\n",
       "    <tr>\n",
       "      <th>0</th>\n",
       "      <td>6070.0</td>\n",
       "      <td>002422</td>\n",
       "      <td>4.029772</td>\n",
       "      <td>1506.288769</td>\n",
       "      <td>POLYGON ((615643.487 3338728.496, 615645.477 3...</td>\n",
       "    </tr>\n",
       "    <tr>\n",
       "      <th>1</th>\n",
       "      <td>2203.0</td>\n",
       "      <td>001751</td>\n",
       "      <td>1.532030</td>\n",
       "      <td>1437.961408</td>\n",
       "      <td>POLYGON ((618576.586 3359381.053, 618614.33 33...</td>\n",
       "    </tr>\n",
       "    <tr>\n",
       "      <th>2</th>\n",
       "      <td>7419.0</td>\n",
       "      <td>002411</td>\n",
       "      <td>3.960344</td>\n",
       "      <td>1873.322183</td>\n",
       "      <td>POLYGON ((619200.163 3341784.654, 619270.849 3...</td>\n",
       "    </tr>\n",
       "    <tr>\n",
       "      <th>3</th>\n",
       "      <td>4229.0</td>\n",
       "      <td>000401</td>\n",
       "      <td>2.181762</td>\n",
       "      <td>1938.341868</td>\n",
       "      <td>POLYGON ((621623.757 3350508.165, 621656.294 3...</td>\n",
       "    </tr>\n",
       "    <tr>\n",
       "      <th>4</th>\n",
       "      <td>4589.0</td>\n",
       "      <td>002313</td>\n",
       "      <td>2.431208</td>\n",
       "      <td>1887.538655</td>\n",
       "      <td>POLYGON ((621630.247 3345130.744, 621717.926 3...</td>\n",
       "    </tr>\n",
       "  </tbody>\n",
       "</table>\n",
       "</div>"
      ],
      "text/plain": [
       "   pop2019   tract  area_km2  pop_density_km2  \\\n",
       "0   6070.0  002422  4.029772      1506.288769   \n",
       "1   2203.0  001751  1.532030      1437.961408   \n",
       "2   7419.0  002411  3.960344      1873.322183   \n",
       "3   4229.0  000401  2.181762      1938.341868   \n",
       "4   4589.0  002313  2.431208      1887.538655   \n",
       "\n",
       "                                            geometry  \n",
       "0  POLYGON ((615643.487 3338728.496, 615645.477 3...  \n",
       "1  POLYGON ((618576.586 3359381.053, 618614.33 33...  \n",
       "2  POLYGON ((619200.163 3341784.654, 619270.849 3...  \n",
       "3  POLYGON ((621623.757 3350508.165, 621656.294 3...  \n",
       "4  POLYGON ((621630.247 3345130.744, 621717.926 3...  "
      ]
     },
     "execution_count": 17,
     "metadata": {},
     "output_type": "execute_result"
    }
   ],
   "source": [
    "# Solution\n",
    "\n",
    "temp = gpd.read_file(output_fp)\n",
    "\n",
    "# Check first rows\n",
    "temp.head()\n",
    "\n",
    "# You can also plot the data for a visual check by uncommenting the following\n",
    "# temp.plot()"
   ]
  },
  {
   "cell_type": "markdown",
   "id": "c60da535",
   "metadata": {
    "editable": true,
    "slideshow": {
     "slide_type": ""
    },
    "tags": []
   },
   "source": [
    "## Different file formats for reading and writing geographic data \n",
    "\n",
    "There are various GIS data formats available such as [Shapefile](https://en.wikipedia.org/wiki/Shapefile) [^shp], [GeoJSON](https://en.wikipedia.org/wiki/GeoJSON) [^GeoJson], [KML](https://en.wikipedia.org/wiki/Keyhole_Markup_Language) [^KML], and [GeoPackage](https://en.wikipedia.org/wiki/GeoPackage) [^GPKG]. Geopandas is capable of reading data from all of these formats (plus many more). In the following, we will show some typical examples how to read (and write) data from different sources. The main point in this section is to demonstrate the basic syntax for reading and writing data using short code snippets. You can find the example datasets in the data-folder. However, most of the example databases do not exists, but you can use and modify the example syntax according to your own setup."
   ]
  },
  {
   "cell_type": "markdown",
   "id": "fa75f290",
   "metadata": {
    "editable": true,
    "slideshow": {
     "slide_type": ""
    },
    "tags": []
   },
   "source": [
    "### Reading vector data\n",
    "\n",
    "When we use the `.from_file()` function for reading data in various formats, geopandas actually uses a library called **fiona** under the hood to read the data (in most cases). This means that you can read and write all data formats that are supported by fiona. It is easy to find out all the data formats that are supported by default by calling `fiona.supported_drivers`: "
   ]
  },
  {
   "cell_type": "code",
   "execution_count": 18,
   "id": "605c8442",
   "metadata": {
    "editable": true,
    "slideshow": {
     "slide_type": ""
    },
    "tags": []
   },
   "outputs": [
    {
     "data": {
      "text/plain": [
       "{'DXF': 'rw',\n",
       " 'CSV': 'raw',\n",
       " 'OpenFileGDB': 'raw',\n",
       " 'ESRIJSON': 'r',\n",
       " 'ESRI Shapefile': 'raw',\n",
       " 'FlatGeobuf': 'raw',\n",
       " 'GeoJSON': 'raw',\n",
       " 'GeoJSONSeq': 'raw',\n",
       " 'GPKG': 'raw',\n",
       " 'GML': 'rw',\n",
       " 'OGR_GMT': 'rw',\n",
       " 'GPX': 'rw',\n",
       " 'Idrisi': 'r',\n",
       " 'MapInfo File': 'raw',\n",
       " 'DGN': 'raw',\n",
       " 'PCIDSK': 'raw',\n",
       " 'OGR_PDS': 'r',\n",
       " 'S57': 'r',\n",
       " 'SQLite': 'raw',\n",
       " 'TopoJSON': 'r'}"
      ]
     },
     "execution_count": 18,
     "metadata": {},
     "output_type": "execute_result"
    }
   ],
   "source": [
    "import geopandas as gpd\n",
    "import fiona\n",
    "\n",
    "fiona.supported_drivers"
   ]
  },
  {
   "cell_type": "markdown",
   "id": "7d4ff695",
   "metadata": {
    "editable": true,
    "slideshow": {
     "slide_type": ""
    },
    "tags": []
   },
   "source": [
    "As we can see, by default there are 20 different file formats that are supported for reading data. In the list of supported drivers, `r` is for file formats that fiona/geopandas can be read, and `w` is for file formats it can write. Letter `a` marks formats for which fiona/geopandas can append new data to existing files. Let's read the same Austin census data in a Shapefile format to see the basic syntax:"
   ]
  },
  {
   "cell_type": "code",
   "execution_count": 19,
   "id": "1fd0ae21",
   "metadata": {
    "editable": true,
    "slideshow": {
     "slide_type": ""
    },
    "tags": []
   },
   "outputs": [
    {
     "data": {
      "text/html": [
       "<div>\n",
       "<style scoped>\n",
       "    .dataframe tbody tr th:only-of-type {\n",
       "        vertical-align: middle;\n",
       "    }\n",
       "\n",
       "    .dataframe tbody tr th {\n",
       "        vertical-align: top;\n",
       "    }\n",
       "\n",
       "    .dataframe thead th {\n",
       "        text-align: right;\n",
       "    }\n",
       "</style>\n",
       "<table border=\"1\" class=\"dataframe\">\n",
       "  <thead>\n",
       "    <tr style=\"text-align: right;\">\n",
       "      <th></th>\n",
       "      <th>fid</th>\n",
       "      <th>pop2019</th>\n",
       "      <th>tract</th>\n",
       "      <th>geometry</th>\n",
       "    </tr>\n",
       "  </thead>\n",
       "  <tbody>\n",
       "    <tr>\n",
       "      <th>0</th>\n",
       "      <td>1.0</td>\n",
       "      <td>6070.0</td>\n",
       "      <td>002422</td>\n",
       "      <td>POLYGON ((615643.487 3338728.496, 615645.477 3...</td>\n",
       "    </tr>\n",
       "    <tr>\n",
       "      <th>1</th>\n",
       "      <td>2.0</td>\n",
       "      <td>2203.0</td>\n",
       "      <td>001751</td>\n",
       "      <td>POLYGON ((618576.586 3359381.053, 618614.33 33...</td>\n",
       "    </tr>\n",
       "    <tr>\n",
       "      <th>2</th>\n",
       "      <td>3.0</td>\n",
       "      <td>7419.0</td>\n",
       "      <td>002411</td>\n",
       "      <td>POLYGON ((619200.163 3341784.654, 619270.849 3...</td>\n",
       "    </tr>\n",
       "    <tr>\n",
       "      <th>3</th>\n",
       "      <td>4.0</td>\n",
       "      <td>4229.0</td>\n",
       "      <td>000401</td>\n",
       "      <td>POLYGON ((621623.757 3350508.165, 621656.294 3...</td>\n",
       "    </tr>\n",
       "    <tr>\n",
       "      <th>4</th>\n",
       "      <td>5.0</td>\n",
       "      <td>4589.0</td>\n",
       "      <td>002313</td>\n",
       "      <td>POLYGON ((621630.247 3345130.744, 621717.926 3...</td>\n",
       "    </tr>\n",
       "  </tbody>\n",
       "</table>\n",
       "</div>"
      ],
      "text/plain": [
       "   fid  pop2019   tract                                           geometry\n",
       "0  1.0   6070.0  002422  POLYGON ((615643.487 3338728.496, 615645.477 3...\n",
       "1  2.0   2203.0  001751  POLYGON ((618576.586 3359381.053, 618614.33 33...\n",
       "2  3.0   7419.0  002411  POLYGON ((619200.163 3341784.654, 619270.849 3...\n",
       "3  4.0   4229.0  000401  POLYGON ((621623.757 3350508.165, 621656.294 3...\n",
       "4  5.0   4589.0  002313  POLYGON ((621630.247 3345130.744, 621717.926 3..."
      ]
     },
     "execution_count": 19,
     "metadata": {},
     "output_type": "execute_result"
    }
   ],
   "source": [
    "# Read Esri Shapefile\n",
    "fp = data_folder / \"austin_pop_2019.shp\"\n",
    "data = gpd.read_file(fp)\n",
    "data.head()"
   ]
  },
  {
   "cell_type": "markdown",
   "id": "c02b009c",
   "metadata": {
    "editable": true,
    "slideshow": {
     "slide_type": ""
    },
    "tags": []
   },
   "source": [
    "As you can see, nothing except the file extension at the end of the filename changed, from `.gpkg` into `.shp`. The same syntax works for other common vector data formats, such as GeoJSON or MapInfo TAB format:"
   ]
  },
  {
   "cell_type": "code",
   "execution_count": 20,
   "id": "dc1c8e4c",
   "metadata": {
    "editable": true,
    "slideshow": {
     "slide_type": ""
    },
    "tags": []
   },
   "outputs": [],
   "source": [
    "# Read file from Geopackage\n",
    "fp = \"data/Austin/austin_pop_2019.gpkg\"\n",
    "data = gpd.read_file(fp)\n",
    "\n",
    "# Read file from GeoJSON\n",
    "fp = \"data/Austin/austin_pop_2019.geojson\"\n",
    "data = gpd.read_file(fp)\n",
    "\n",
    "# Read file from Geodatabase\n",
    "fp = \"data/Austin/austin_pop_2019.gdb\"\n",
    "data = gpd.read_file(fp)\n",
    "\n",
    "# Read file from MapInfo TAB\n",
    "fp = \"data/Austin/austin_pop_2019.tab\"\n",
    "data = gpd.read_file(fp)"
   ]
  },
  {
   "cell_type": "markdown",
   "id": "3a5469b8",
   "metadata": {
    "editable": true,
    "slideshow": {
     "slide_type": ""
    },
    "tags": []
   },
   "source": [
    "Some file formats such as GeoPackage may contain multiple layers with different names which can be speficied using the `layer` -parameter. Our example geopackage file has only one layer with the same name as the file, so we don't actually need to specify it to read in the data, but we can of course:"
   ]
  },
  {
   "cell_type": "code",
   "execution_count": 21,
   "id": "b2e961dd",
   "metadata": {
    "editable": true,
    "slideshow": {
     "slide_type": ""
    },
    "tags": []
   },
   "outputs": [],
   "source": [
    "# Read spesific layer from Geopackage\n",
    "fp = \"data/Austin/austin_pop_2019.gpkg\"\n",
    "data = gpd.read_file(fp, layer=\"austin_pop_2019\")"
   ]
  },
  {
   "cell_type": "markdown",
   "id": "3a10ae5b",
   "metadata": {
    "editable": true,
    "slideshow": {
     "slide_type": ""
    },
    "tags": []
   },
   "source": [
    "In some cases, such as when reading KML file format, geopandas does not automatically support reading the data:"
   ]
  },
  {
   "cell_type": "code",
   "execution_count": 22,
   "id": "fbcc0399-d3e8-4ac1-bfb8-c7cdc484ed85",
   "metadata": {
    "editable": true,
    "slideshow": {
     "slide_type": ""
    },
    "tags": [
     "hide-output",
     "skip"
    ]
   },
   "outputs": [],
   "source": [
    "# Read file from KML\n",
    "fp = \"data/Austin/austin_pop_2019.kml\"\n",
    "data = gpd.read_file(fp)"
   ]
  },
  {
   "cell_type": "markdown",
   "id": "12931be9-a5cc-4ea3-ace6-99c24705327a",
   "metadata": {
    "editable": true,
    "slideshow": {
     "slide_type": ""
    },
    "tags": [
     "remove_book_cell"
    ]
   },
   "source": [
    "![Unsupported driver error.](../img/unsupported_driver_error.png)"
   ]
  },
  {
   "cell_type": "raw",
   "id": "e1eb2704-deb2-4de4-8c87-13e8f0962482",
   "metadata": {
    "editable": true,
    "raw_mimetype": "",
    "slideshow": {
     "slide_type": ""
    },
    "tags": [
     "hide-cell"
    ]
   },
   "source": [
    "% This cell is only needed to produce a figure for display in the hard copy of the book.\n",
    "\\adjustimage{max size={0.9\\linewidth}{0.9\\paperheight}, center, nofloat}{../img/unsupported_driver_error.png}\n",
    "{ \\hspace*{\\fill} \\\\}"
   ]
  },
  {
   "cell_type": "markdown",
   "id": "4b4a9d1f-2173-43de-a611-e93cf5dcd473",
   "metadata": {
    "editable": true,
    "slideshow": {
     "slide_type": ""
    },
    "tags": []
   },
   "source": [
    "In case you receive an error that says something like `DriverError: unsupported driver: XXXXX`, it means that the given data format is not ready for reading by default. Luckily, most often you are still able to read the data after telling geopandas that it is okay to read the data from a given data format. As an example, here we tell the geopandas to support KML file format by adding `LIBKML` to supported drivers, and specify that it is possible to data read and write data with this file format (by adding `\"rw\"`):"
   ]
  },
  {
   "cell_type": "code",
   "execution_count": 23,
   "id": "88d7cd37",
   "metadata": {
    "editable": true,
    "slideshow": {
     "slide_type": ""
    },
    "tags": []
   },
   "outputs": [
    {
     "ename": "AttributeError",
     "evalue": "'NoneType' object has no attribute 'drvsupport'",
     "output_type": "error",
     "traceback": [
      "\u001b[0;31m---------------------------------------------------------------------------\u001b[0m",
      "\u001b[0;31mAttributeError\u001b[0m                            Traceback (most recent call last)",
      "Cell \u001b[0;32mIn[23], line 2\u001b[0m\n\u001b[1;32m      1\u001b[0m \u001b[38;5;66;03m# Enable KML driver\u001b[39;00m\n\u001b[0;32m----> 2\u001b[0m \u001b[43mgpd\u001b[49m\u001b[38;5;241;43m.\u001b[39;49m\u001b[43mio\u001b[49m\u001b[38;5;241;43m.\u001b[39;49m\u001b[43mfile\u001b[49m\u001b[38;5;241;43m.\u001b[39;49m\u001b[43mfiona\u001b[49m\u001b[38;5;241;43m.\u001b[39;49m\u001b[43mdrvsupport\u001b[49m\u001b[38;5;241m.\u001b[39msupported_drivers[\u001b[38;5;124m\"\u001b[39m\u001b[38;5;124mLIBKML\u001b[39m\u001b[38;5;124m\"\u001b[39m] \u001b[38;5;241m=\u001b[39m \u001b[38;5;124m\"\u001b[39m\u001b[38;5;124mrw\u001b[39m\u001b[38;5;124m\"\u001b[39m\n\u001b[1;32m      4\u001b[0m \u001b[38;5;66;03m# Read file from KML\u001b[39;00m\n\u001b[1;32m      5\u001b[0m fp \u001b[38;5;241m=\u001b[39m \u001b[38;5;124m\"\u001b[39m\u001b[38;5;124mdata/Austin/austin_pop_2019.kml\u001b[39m\u001b[38;5;124m\"\u001b[39m\n",
      "\u001b[0;31mAttributeError\u001b[0m: 'NoneType' object has no attribute 'drvsupport'"
     ]
    }
   ],
   "source": [
    "# Enable KML driver\n",
    "gpd.io.file.fiona.drvsupport.supported_drivers[\"LIBKML\"] = \"rw\"\n",
    "\n",
    "# Read file from KML\n",
    "fp = \"data/Austin/austin_pop_2019.kml\"\n",
    "data = gpd.read_file(fp)\n",
    "\n",
    "type(data)"
   ]
  },
  {
   "cell_type": "markdown",
   "id": "f92ea022-6298-49ec-93f1-33cfd873a896",
   "metadata": {},
   "source": [
    "Note that the KML file format isn't a format that is fully supported in geopandas, so there may be additional data columns read into the `data` GeoDataFrame. Thus, we will extract only the columns of interest before proceeding."
   ]
  },
  {
   "cell_type": "code",
   "execution_count": null,
   "id": "0469631c-0f45-4fd3-bced-6cc9b9b014dc",
   "metadata": {},
   "outputs": [],
   "source": [
    "data = data[[\"pop2019\", \"tract\", \"geometry\"]]"
   ]
  },
  {
   "cell_type": "markdown",
   "id": "b45bd90c-21db-4f85-962b-cb66112f9a87",
   "metadata": {
    "editable": true,
    "slideshow": {
     "slide_type": ""
    },
    "tags": []
   },
   "source": [
    "After this small adjustment, geopandas is able to read the KML file into a `GeoDataFrame` without a problem. In a similar manner, you can also enable some other file formats that are not enabled by default for reading and/or writing."
   ]
  },
  {
   "cell_type": "markdown",
   "id": "f8c66372-4827-448f-b7c6-7ff87ddb43a7",
   "metadata": {
    "editable": true,
    "slideshow": {
     "slide_type": ""
    },
    "tags": []
   },
   "source": [
    "Lastly, we demonstrate how it is possible to read data directly from a ZIP file format which can be quite useful especially if you are working with large datasets or a collection of multiple files stored into a single ZIP archive. ZIP file is an archive data format where the data is compressed efficiently. For instance, after zipping Shapefiles, the disk space needed to store the data in the given format will be significantly lower. To read the data from ZIP files, we can use the built-in Python library called **zipfile** and its `ZipFile` object which makes it possible to work with compressed ZIP files. The following example shows how to read data from a compressed ZIP file. Let's start by opening the file into a variable `z` and then read the names of the files stored inside the archive with the method `.namelist()`:"
   ]
  },
  {
   "cell_type": "code",
   "execution_count": 24,
   "id": "fdb58df4-73cc-466c-9238-4ef5c3f166ce",
   "metadata": {
    "editable": true,
    "slideshow": {
     "slide_type": ""
    },
    "tags": []
   },
   "outputs": [
    {
     "name": "stdout",
     "output_type": "stream",
     "text": [
      "['building_points_helsinki.gpkg']\n"
     ]
    }
   ],
   "source": [
    "from zipfile import ZipFile\n",
    "\n",
    "fp = \"data/Helsinki/building_points_helsinki.zip\"\n",
    "\n",
    "with ZipFile(fp) as z:\n",
    "    print(z.namelist())"
   ]
  },
  {
   "cell_type": "markdown",
   "id": "5bed787a-6142-434a-a1e7-fc7bbdb1d984",
   "metadata": {
    "editable": true,
    "slideshow": {
     "slide_type": ""
    },
    "tags": []
   },
   "source": [
    "As you can see, the given `ZipFile` which is opened in variable `z` contains only a single GeoPackage called `building_points_helsinki.gpkg`. The `with ZipFile(fp) as z:` command here is a standard Python convention to open files in read-format from ZIP files. To read the contents of the GeoPackage stored inside the file, we first need use the `.read()` function of the opened `ZipFile` object to read the contents of the file into bytes. After this step, we need to pass these bytes into a `BytesIO` in-memory file buffer by using the built-in `io` library. A file buffer is an in-memory file-like object that can be used as a temporary storage or buffer for bytes-like data. Instead of writing data directly to a physical file on a disk, it allows you to write the data into a `BytesIO` object, which stores the data in computer's memory. This file buffer can then be used by geopandas to read the actual contents of the file into a `GeoDataFrame`. This might sound a bit complicated, but it actually requires only a few lines of code:"
   ]
  },
  {
   "cell_type": "code",
   "execution_count": 25,
   "id": "1b810b14-1bef-4247-a3bf-73512682626c",
   "metadata": {
    "editable": true,
    "slideshow": {
     "slide_type": ""
    },
    "tags": []
   },
   "outputs": [
    {
     "name": "stderr",
     "output_type": "stream",
     "text": [
      "/Users/tenkanh2/micromamba/envs/python-gis-book/lib/python3.12/site-packages/pyogrio/raw.py:196: RuntimeWarning: File /vsimem/04d72e8d69a9484e8f1b4a910615df0f has GPKG application_id, but non conformant file extension\n",
      "  return ogr_read(\n"
     ]
    }
   ],
   "source": [
    "import io\n",
    "\n",
    "with ZipFile(fp) as z:\n",
    "    # Pick the first text in the name-list\n",
    "    name_of_the_file = z.namelist()[0]\n",
    "\n",
    "    # Read the data into filebuffer\n",
    "    file_buffer = io.BytesIO(z.read(name_of_the_file))\n",
    "\n",
    "    # Read the filebuffer into Geopandas\n",
    "    buildings = gpd.read_file(file_buffer)"
   ]
  },
  {
   "cell_type": "code",
   "execution_count": 26,
   "id": "960a89d5-4d5b-4150-8cc1-ffab4fb891af",
   "metadata": {
    "editable": true,
    "slideshow": {
     "slide_type": ""
    },
    "tags": []
   },
   "outputs": [
    {
     "data": {
      "text/html": [
       "<div>\n",
       "<style scoped>\n",
       "    .dataframe tbody tr th:only-of-type {\n",
       "        vertical-align: middle;\n",
       "    }\n",
       "\n",
       "    .dataframe tbody tr th {\n",
       "        vertical-align: top;\n",
       "    }\n",
       "\n",
       "    .dataframe thead th {\n",
       "        text-align: right;\n",
       "    }\n",
       "</style>\n",
       "<table border=\"1\" class=\"dataframe\">\n",
       "  <thead>\n",
       "    <tr style=\"text-align: right;\">\n",
       "      <th></th>\n",
       "      <th>name</th>\n",
       "      <th>geometry</th>\n",
       "    </tr>\n",
       "  </thead>\n",
       "  <tbody>\n",
       "    <tr>\n",
       "      <th>0</th>\n",
       "      <td>None</td>\n",
       "      <td>POINT (24.85584 60.20727)</td>\n",
       "    </tr>\n",
       "    <tr>\n",
       "      <th>1</th>\n",
       "      <td>Uimastadion</td>\n",
       "      <td>POINT (24.93045 60.18882)</td>\n",
       "    </tr>\n",
       "    <tr>\n",
       "      <th>2</th>\n",
       "      <td>None</td>\n",
       "      <td>POINT (24.95113 60.16994)</td>\n",
       "    </tr>\n",
       "    <tr>\n",
       "      <th>3</th>\n",
       "      <td>Hartwall Arena</td>\n",
       "      <td>POINT (24.92918 60.2057)</td>\n",
       "    </tr>\n",
       "    <tr>\n",
       "      <th>4</th>\n",
       "      <td>Talli</td>\n",
       "      <td>POINT (24.92607 60.21346)</td>\n",
       "    </tr>\n",
       "  </tbody>\n",
       "</table>\n",
       "</div>"
      ],
      "text/plain": [
       "             name                   geometry\n",
       "0            None  POINT (24.85584 60.20727)\n",
       "1     Uimastadion  POINT (24.93045 60.18882)\n",
       "2            None  POINT (24.95113 60.16994)\n",
       "3  Hartwall Arena   POINT (24.92918 60.2057)\n",
       "4           Talli  POINT (24.92607 60.21346)"
      ]
     },
     "execution_count": 26,
     "metadata": {},
     "output_type": "execute_result"
    }
   ],
   "source": [
    "buildings.head()"
   ]
  },
  {
   "cell_type": "markdown",
   "id": "a62a66d2-d150-4382-92dc-570585efd648",
   "metadata": {
    "editable": true,
    "slideshow": {
     "slide_type": ""
    },
    "tags": []
   },
   "source": [
    "Ta-da! Now we have succesfully read the GeoPackage from the given ZIP file into a variable `buildings`. In many cases you might have multiple files stored inside a ZIP archive. Following and modifying the examples above (namely the `name_of_the_file` and `fp` variables), you can easily explore the files that are stored inside a given ZIP file and read any geographic data stored in the file into geopandas."
   ]
  },
  {
   "cell_type": "markdown",
   "id": "ba7a85f4",
   "metadata": {
    "editable": true,
    "slideshow": {
     "slide_type": ""
    },
    "tags": []
   },
   "source": [
    "### Writing vector data\n",
    "\n",
    "We can save spatial data to various vector data formats using the `.to_file()` method of the `GeoDataFrame`. Similarly as when reading data, this functionality also relies on the fiona library under the hood. When writing a `GeoDataFrame` into a file, you basically only need to pass a filename/path to the `.to_file()` method, which will then write the data into the given file. It is possible to specify the output file format using the `driver` parameter. However, for most file formats it is not needed as the tool is able to infer the driver from the file extension (similarly as when reading data):"
   ]
  },
  {
   "cell_type": "code",
   "execution_count": 27,
   "id": "1fadf9b2",
   "metadata": {
    "editable": true,
    "slideshow": {
     "slide_type": ""
    },
    "tags": []
   },
   "outputs": [
    {
     "name": "stderr",
     "output_type": "stream",
     "text": [
      "/var/folders/f7/rhmqxfmx40s4yv9bhh7skq4m0000gp/T/ipykernel_65528/2785338299.py:3: UserWarning: Column names longer than 10 characters will be truncated when saved to ESRI Shapefile.\n",
      "  data.to_file(outfp)\n",
      "/Users/tenkanh2/micromamba/envs/python-gis-book/lib/python3.12/site-packages/pyogrio/raw.py:709: RuntimeWarning: Normalized/laundered field name: 'description' to 'descriptio'\n",
      "  ogr_write(\n",
      "/Users/tenkanh2/micromamba/envs/python-gis-book/lib/python3.12/site-packages/pyogrio/raw.py:709: RuntimeWarning: Field timestamp create as date field, though DateTime requested.\n",
      "  ogr_write(\n",
      "/Users/tenkanh2/micromamba/envs/python-gis-book/lib/python3.12/site-packages/pyogrio/raw.py:709: RuntimeWarning: Field begin create as date field, though DateTime requested.\n",
      "  ogr_write(\n",
      "/Users/tenkanh2/micromamba/envs/python-gis-book/lib/python3.12/site-packages/pyogrio/raw.py:709: RuntimeWarning: Field end create as date field, though DateTime requested.\n",
      "  ogr_write(\n",
      "/Users/tenkanh2/micromamba/envs/python-gis-book/lib/python3.12/site-packages/pyogrio/raw.py:709: RuntimeWarning: Normalized/laundered field name: 'altitudeMode' to 'altitudeMo'\n",
      "  ogr_write(\n"
     ]
    },
    {
     "ename": "DataLayerError",
     "evalue": "Unable to create new layers in this single file dataset.",
     "output_type": "error",
     "traceback": [
      "\u001b[0;31m---------------------------------------------------------------------------\u001b[0m",
      "\u001b[0;31mCPLE_AppDefinedError\u001b[0m                      Traceback (most recent call last)",
      "File \u001b[0;32m~/micromamba/envs/python-gis-book/lib/python3.12/site-packages/pyogrio/_io.pyx:2183\u001b[0m, in \u001b[0;36mpyogrio._io.create_ogr_dataset_layer\u001b[0;34m()\u001b[0m\n",
      "File \u001b[0;32m~/micromamba/envs/python-gis-book/lib/python3.12/site-packages/pyogrio/_err.pyx:183\u001b[0m, in \u001b[0;36mpyogrio._err.exc_wrap_pointer\u001b[0;34m()\u001b[0m\n",
      "\u001b[0;31mCPLE_AppDefinedError\u001b[0m: Unable to create new layers in this single file dataset.",
      "\nDuring handling of the above exception, another exception occurred:\n",
      "\u001b[0;31mDataLayerError\u001b[0m                            Traceback (most recent call last)",
      "Cell \u001b[0;32mIn[27], line 7\u001b[0m\n\u001b[1;32m      5\u001b[0m \u001b[38;5;66;03m# Write to MapInfo Tab\u001b[39;00m\n\u001b[1;32m      6\u001b[0m outfp \u001b[38;5;241m=\u001b[39m \u001b[38;5;124m\"\u001b[39m\u001b[38;5;124mdata/Temp/austin_pop_2019.tab\u001b[39m\u001b[38;5;124m\"\u001b[39m\n\u001b[0;32m----> 7\u001b[0m \u001b[43mdata\u001b[49m\u001b[38;5;241;43m.\u001b[39;49m\u001b[43mto_file\u001b[49m\u001b[43m(\u001b[49m\u001b[43moutfp\u001b[49m\u001b[43m)\u001b[49m\n\u001b[1;32m      9\u001b[0m \u001b[38;5;66;03m# Write to Geopackage\u001b[39;00m\n\u001b[1;32m     10\u001b[0m outfp \u001b[38;5;241m=\u001b[39m \u001b[38;5;124m\"\u001b[39m\u001b[38;5;124mdata/Temp/austin_pop_2019.gpkg\u001b[39m\u001b[38;5;124m\"\u001b[39m\n",
      "File \u001b[0;32m~/micromamba/envs/python-gis-book/lib/python3.12/site-packages/geopandas/geodataframe.py:1536\u001b[0m, in \u001b[0;36mGeoDataFrame.to_file\u001b[0;34m(self, filename, driver, schema, index, **kwargs)\u001b[0m\n\u001b[1;32m   1441\u001b[0m \u001b[38;5;250m\u001b[39m\u001b[38;5;124;03m\"\"\"Write the ``GeoDataFrame`` to a file.\u001b[39;00m\n\u001b[1;32m   1442\u001b[0m \n\u001b[1;32m   1443\u001b[0m \u001b[38;5;124;03mBy default, an ESRI shapefile is written, but any OGR data source\u001b[39;00m\n\u001b[0;32m   (...)\u001b[0m\n\u001b[1;32m   1532\u001b[0m \n\u001b[1;32m   1533\u001b[0m \u001b[38;5;124;03m\"\"\"\u001b[39;00m\n\u001b[1;32m   1534\u001b[0m \u001b[38;5;28;01mfrom\u001b[39;00m \u001b[38;5;21;01mgeopandas\u001b[39;00m\u001b[38;5;21;01m.\u001b[39;00m\u001b[38;5;21;01mio\u001b[39;00m\u001b[38;5;21;01m.\u001b[39;00m\u001b[38;5;21;01mfile\u001b[39;00m \u001b[38;5;28;01mimport\u001b[39;00m _to_file\n\u001b[0;32m-> 1536\u001b[0m \u001b[43m_to_file\u001b[49m\u001b[43m(\u001b[49m\u001b[38;5;28;43mself\u001b[39;49m\u001b[43m,\u001b[49m\u001b[43m \u001b[49m\u001b[43mfilename\u001b[49m\u001b[43m,\u001b[49m\u001b[43m \u001b[49m\u001b[43mdriver\u001b[49m\u001b[43m,\u001b[49m\u001b[43m \u001b[49m\u001b[43mschema\u001b[49m\u001b[43m,\u001b[49m\u001b[43m \u001b[49m\u001b[43mindex\u001b[49m\u001b[43m,\u001b[49m\u001b[43m \u001b[49m\u001b[38;5;241;43m*\u001b[39;49m\u001b[38;5;241;43m*\u001b[39;49m\u001b[43mkwargs\u001b[49m\u001b[43m)\u001b[49m\n",
      "File \u001b[0;32m~/micromamba/envs/python-gis-book/lib/python3.12/site-packages/geopandas/io/file.py:686\u001b[0m, in \u001b[0;36m_to_file\u001b[0;34m(df, filename, driver, schema, index, mode, crs, engine, metadata, **kwargs)\u001b[0m\n\u001b[1;32m    683\u001b[0m     \u001b[38;5;28;01mraise\u001b[39;00m \u001b[38;5;167;01mValueError\u001b[39;00m(\u001b[38;5;124mf\u001b[39m\u001b[38;5;124m\"\u001b[39m\u001b[38;5;124m'\u001b[39m\u001b[38;5;124mmode\u001b[39m\u001b[38;5;124m'\u001b[39m\u001b[38;5;124m should be one of \u001b[39m\u001b[38;5;124m'\u001b[39m\u001b[38;5;124mw\u001b[39m\u001b[38;5;124m'\u001b[39m\u001b[38;5;124m or \u001b[39m\u001b[38;5;124m'\u001b[39m\u001b[38;5;124ma\u001b[39m\u001b[38;5;124m'\u001b[39m\u001b[38;5;124m, got \u001b[39m\u001b[38;5;124m'\u001b[39m\u001b[38;5;132;01m{\u001b[39;00mmode\u001b[38;5;132;01m}\u001b[39;00m\u001b[38;5;124m'\u001b[39m\u001b[38;5;124m instead\u001b[39m\u001b[38;5;124m\"\u001b[39m)\n\u001b[1;32m    685\u001b[0m \u001b[38;5;28;01mif\u001b[39;00m engine \u001b[38;5;241m==\u001b[39m \u001b[38;5;124m\"\u001b[39m\u001b[38;5;124mpyogrio\u001b[39m\u001b[38;5;124m\"\u001b[39m:\n\u001b[0;32m--> 686\u001b[0m     \u001b[43m_to_file_pyogrio\u001b[49m\u001b[43m(\u001b[49m\u001b[43mdf\u001b[49m\u001b[43m,\u001b[49m\u001b[43m \u001b[49m\u001b[43mfilename\u001b[49m\u001b[43m,\u001b[49m\u001b[43m \u001b[49m\u001b[43mdriver\u001b[49m\u001b[43m,\u001b[49m\u001b[43m \u001b[49m\u001b[43mschema\u001b[49m\u001b[43m,\u001b[49m\u001b[43m \u001b[49m\u001b[43mcrs\u001b[49m\u001b[43m,\u001b[49m\u001b[43m \u001b[49m\u001b[43mmode\u001b[49m\u001b[43m,\u001b[49m\u001b[43m \u001b[49m\u001b[43mmetadata\u001b[49m\u001b[43m,\u001b[49m\u001b[43m \u001b[49m\u001b[38;5;241;43m*\u001b[39;49m\u001b[38;5;241;43m*\u001b[39;49m\u001b[43mkwargs\u001b[49m\u001b[43m)\u001b[49m\n\u001b[1;32m    687\u001b[0m \u001b[38;5;28;01melif\u001b[39;00m engine \u001b[38;5;241m==\u001b[39m \u001b[38;5;124m\"\u001b[39m\u001b[38;5;124mfiona\u001b[39m\u001b[38;5;124m\"\u001b[39m:\n\u001b[1;32m    688\u001b[0m     _to_file_fiona(df, filename, driver, schema, crs, mode, metadata, \u001b[38;5;241m*\u001b[39m\u001b[38;5;241m*\u001b[39mkwargs)\n",
      "File \u001b[0;32m~/micromamba/envs/python-gis-book/lib/python3.12/site-packages/geopandas/io/file.py:748\u001b[0m, in \u001b[0;36m_to_file_pyogrio\u001b[0;34m(df, filename, driver, schema, crs, mode, metadata, **kwargs)\u001b[0m\n\u001b[1;32m    745\u001b[0m \u001b[38;5;28;01mif\u001b[39;00m \u001b[38;5;129;01mnot\u001b[39;00m df\u001b[38;5;241m.\u001b[39mcolumns\u001b[38;5;241m.\u001b[39mis_unique:\n\u001b[1;32m    746\u001b[0m     \u001b[38;5;28;01mraise\u001b[39;00m \u001b[38;5;167;01mValueError\u001b[39;00m(\u001b[38;5;124m\"\u001b[39m\u001b[38;5;124mGeoDataFrame cannot contain duplicated column names.\u001b[39m\u001b[38;5;124m\"\u001b[39m)\n\u001b[0;32m--> 748\u001b[0m \u001b[43mpyogrio\u001b[49m\u001b[38;5;241;43m.\u001b[39;49m\u001b[43mwrite_dataframe\u001b[49m\u001b[43m(\u001b[49m\u001b[43mdf\u001b[49m\u001b[43m,\u001b[49m\u001b[43m \u001b[49m\u001b[43mfilename\u001b[49m\u001b[43m,\u001b[49m\u001b[43m \u001b[49m\u001b[43mdriver\u001b[49m\u001b[38;5;241;43m=\u001b[39;49m\u001b[43mdriver\u001b[49m\u001b[43m,\u001b[49m\u001b[43m \u001b[49m\u001b[43mmetadata\u001b[49m\u001b[38;5;241;43m=\u001b[39;49m\u001b[43mmetadata\u001b[49m\u001b[43m,\u001b[49m\u001b[43m \u001b[49m\u001b[38;5;241;43m*\u001b[39;49m\u001b[38;5;241;43m*\u001b[39;49m\u001b[43mkwargs\u001b[49m\u001b[43m)\u001b[49m\n",
      "File \u001b[0;32m~/micromamba/envs/python-gis-book/lib/python3.12/site-packages/pyogrio/geopandas.py:654\u001b[0m, in \u001b[0;36mwrite_dataframe\u001b[0;34m(df, path, layer, driver, encoding, geometry_type, promote_to_multi, nan_as_null, append, use_arrow, dataset_metadata, layer_metadata, metadata, dataset_options, layer_options, **kwargs)\u001b[0m\n\u001b[1;32m    651\u001b[0m \u001b[38;5;28;01mif\u001b[39;00m geometry_column \u001b[38;5;129;01mis\u001b[39;00m \u001b[38;5;129;01mnot\u001b[39;00m \u001b[38;5;28;01mNone\u001b[39;00m:\n\u001b[1;32m    652\u001b[0m     geometry \u001b[38;5;241m=\u001b[39m to_wkb(geometry\u001b[38;5;241m.\u001b[39mvalues)\n\u001b[0;32m--> 654\u001b[0m \u001b[43mwrite\u001b[49m\u001b[43m(\u001b[49m\n\u001b[1;32m    655\u001b[0m \u001b[43m    \u001b[49m\u001b[43mpath\u001b[49m\u001b[43m,\u001b[49m\n\u001b[1;32m    656\u001b[0m \u001b[43m    \u001b[49m\u001b[43mlayer\u001b[49m\u001b[38;5;241;43m=\u001b[39;49m\u001b[43mlayer\u001b[49m\u001b[43m,\u001b[49m\n\u001b[1;32m    657\u001b[0m \u001b[43m    \u001b[49m\u001b[43mdriver\u001b[49m\u001b[38;5;241;43m=\u001b[39;49m\u001b[43mdriver\u001b[49m\u001b[43m,\u001b[49m\n\u001b[1;32m    658\u001b[0m \u001b[43m    \u001b[49m\u001b[43mgeometry\u001b[49m\u001b[38;5;241;43m=\u001b[39;49m\u001b[43mgeometry\u001b[49m\u001b[43m,\u001b[49m\n\u001b[1;32m    659\u001b[0m \u001b[43m    \u001b[49m\u001b[43mfield_data\u001b[49m\u001b[38;5;241;43m=\u001b[39;49m\u001b[43mfield_data\u001b[49m\u001b[43m,\u001b[49m\n\u001b[1;32m    660\u001b[0m \u001b[43m    \u001b[49m\u001b[43mfield_mask\u001b[49m\u001b[38;5;241;43m=\u001b[39;49m\u001b[43mfield_mask\u001b[49m\u001b[43m,\u001b[49m\n\u001b[1;32m    661\u001b[0m \u001b[43m    \u001b[49m\u001b[43mfields\u001b[49m\u001b[38;5;241;43m=\u001b[39;49m\u001b[43mfields\u001b[49m\u001b[43m,\u001b[49m\n\u001b[1;32m    662\u001b[0m \u001b[43m    \u001b[49m\u001b[43mcrs\u001b[49m\u001b[38;5;241;43m=\u001b[39;49m\u001b[43mcrs\u001b[49m\u001b[43m,\u001b[49m\n\u001b[1;32m    663\u001b[0m \u001b[43m    \u001b[49m\u001b[43mgeometry_type\u001b[49m\u001b[38;5;241;43m=\u001b[39;49m\u001b[43mgeometry_type\u001b[49m\u001b[43m,\u001b[49m\n\u001b[1;32m    664\u001b[0m \u001b[43m    \u001b[49m\u001b[43mencoding\u001b[49m\u001b[38;5;241;43m=\u001b[39;49m\u001b[43mencoding\u001b[49m\u001b[43m,\u001b[49m\n\u001b[1;32m    665\u001b[0m \u001b[43m    \u001b[49m\u001b[43mpromote_to_multi\u001b[49m\u001b[38;5;241;43m=\u001b[39;49m\u001b[43mpromote_to_multi\u001b[49m\u001b[43m,\u001b[49m\n\u001b[1;32m    666\u001b[0m \u001b[43m    \u001b[49m\u001b[43mnan_as_null\u001b[49m\u001b[38;5;241;43m=\u001b[39;49m\u001b[43mnan_as_null\u001b[49m\u001b[43m,\u001b[49m\n\u001b[1;32m    667\u001b[0m \u001b[43m    \u001b[49m\u001b[43mappend\u001b[49m\u001b[38;5;241;43m=\u001b[39;49m\u001b[43mappend\u001b[49m\u001b[43m,\u001b[49m\n\u001b[1;32m    668\u001b[0m \u001b[43m    \u001b[49m\u001b[43mdataset_metadata\u001b[49m\u001b[38;5;241;43m=\u001b[39;49m\u001b[43mdataset_metadata\u001b[49m\u001b[43m,\u001b[49m\n\u001b[1;32m    669\u001b[0m \u001b[43m    \u001b[49m\u001b[43mlayer_metadata\u001b[49m\u001b[38;5;241;43m=\u001b[39;49m\u001b[43mlayer_metadata\u001b[49m\u001b[43m,\u001b[49m\n\u001b[1;32m    670\u001b[0m \u001b[43m    \u001b[49m\u001b[43mmetadata\u001b[49m\u001b[38;5;241;43m=\u001b[39;49m\u001b[43mmetadata\u001b[49m\u001b[43m,\u001b[49m\n\u001b[1;32m    671\u001b[0m \u001b[43m    \u001b[49m\u001b[43mdataset_options\u001b[49m\u001b[38;5;241;43m=\u001b[39;49m\u001b[43mdataset_options\u001b[49m\u001b[43m,\u001b[49m\n\u001b[1;32m    672\u001b[0m \u001b[43m    \u001b[49m\u001b[43mlayer_options\u001b[49m\u001b[38;5;241;43m=\u001b[39;49m\u001b[43mlayer_options\u001b[49m\u001b[43m,\u001b[49m\n\u001b[1;32m    673\u001b[0m \u001b[43m    \u001b[49m\u001b[43mgdal_tz_offsets\u001b[49m\u001b[38;5;241;43m=\u001b[39;49m\u001b[43mgdal_tz_offsets\u001b[49m\u001b[43m,\u001b[49m\n\u001b[1;32m    674\u001b[0m \u001b[43m    \u001b[49m\u001b[38;5;241;43m*\u001b[39;49m\u001b[38;5;241;43m*\u001b[39;49m\u001b[43mkwargs\u001b[49m\u001b[43m,\u001b[49m\n\u001b[1;32m    675\u001b[0m \u001b[43m\u001b[49m\u001b[43m)\u001b[49m\n",
      "File \u001b[0;32m~/micromamba/envs/python-gis-book/lib/python3.12/site-packages/pyogrio/raw.py:709\u001b[0m, in \u001b[0;36mwrite\u001b[0;34m(path, geometry, field_data, fields, field_mask, layer, driver, geometry_type, crs, encoding, promote_to_multi, nan_as_null, append, dataset_metadata, layer_metadata, metadata, dataset_options, layer_options, gdal_tz_offsets, **kwargs)\u001b[0m\n\u001b[1;32m    704\u001b[0m \u001b[38;5;66;03m# preprocess kwargs and split in dataset and layer creation options\u001b[39;00m\n\u001b[1;32m    705\u001b[0m dataset_kwargs, layer_kwargs \u001b[38;5;241m=\u001b[39m _preprocess_options_kwargs(\n\u001b[1;32m    706\u001b[0m     driver, dataset_options, layer_options, kwargs\n\u001b[1;32m    707\u001b[0m )\n\u001b[0;32m--> 709\u001b[0m \u001b[43mogr_write\u001b[49m\u001b[43m(\u001b[49m\n\u001b[1;32m    710\u001b[0m \u001b[43m    \u001b[49m\u001b[43mpath\u001b[49m\u001b[43m,\u001b[49m\n\u001b[1;32m    711\u001b[0m \u001b[43m    \u001b[49m\u001b[43mlayer\u001b[49m\u001b[38;5;241;43m=\u001b[39;49m\u001b[43mlayer\u001b[49m\u001b[43m,\u001b[49m\n\u001b[1;32m    712\u001b[0m \u001b[43m    \u001b[49m\u001b[43mdriver\u001b[49m\u001b[38;5;241;43m=\u001b[39;49m\u001b[43mdriver\u001b[49m\u001b[43m,\u001b[49m\n\u001b[1;32m    713\u001b[0m \u001b[43m    \u001b[49m\u001b[43mgeometry\u001b[49m\u001b[38;5;241;43m=\u001b[39;49m\u001b[43mgeometry\u001b[49m\u001b[43m,\u001b[49m\n\u001b[1;32m    714\u001b[0m \u001b[43m    \u001b[49m\u001b[43mgeometry_type\u001b[49m\u001b[38;5;241;43m=\u001b[39;49m\u001b[43mgeometry_type\u001b[49m\u001b[43m,\u001b[49m\n\u001b[1;32m    715\u001b[0m \u001b[43m    \u001b[49m\u001b[43mfield_data\u001b[49m\u001b[38;5;241;43m=\u001b[39;49m\u001b[43mfield_data\u001b[49m\u001b[43m,\u001b[49m\n\u001b[1;32m    716\u001b[0m \u001b[43m    \u001b[49m\u001b[43mfield_mask\u001b[49m\u001b[38;5;241;43m=\u001b[39;49m\u001b[43mfield_mask\u001b[49m\u001b[43m,\u001b[49m\n\u001b[1;32m    717\u001b[0m \u001b[43m    \u001b[49m\u001b[43mfields\u001b[49m\u001b[38;5;241;43m=\u001b[39;49m\u001b[43mfields\u001b[49m\u001b[43m,\u001b[49m\n\u001b[1;32m    718\u001b[0m \u001b[43m    \u001b[49m\u001b[43mcrs\u001b[49m\u001b[38;5;241;43m=\u001b[39;49m\u001b[43mcrs\u001b[49m\u001b[43m,\u001b[49m\n\u001b[1;32m    719\u001b[0m \u001b[43m    \u001b[49m\u001b[43mencoding\u001b[49m\u001b[38;5;241;43m=\u001b[39;49m\u001b[43mencoding\u001b[49m\u001b[43m,\u001b[49m\n\u001b[1;32m    720\u001b[0m \u001b[43m    \u001b[49m\u001b[43mpromote_to_multi\u001b[49m\u001b[38;5;241;43m=\u001b[39;49m\u001b[43mpromote_to_multi\u001b[49m\u001b[43m,\u001b[49m\n\u001b[1;32m    721\u001b[0m \u001b[43m    \u001b[49m\u001b[43mnan_as_null\u001b[49m\u001b[38;5;241;43m=\u001b[39;49m\u001b[43mnan_as_null\u001b[49m\u001b[43m,\u001b[49m\n\u001b[1;32m    722\u001b[0m \u001b[43m    \u001b[49m\u001b[43mappend\u001b[49m\u001b[38;5;241;43m=\u001b[39;49m\u001b[43mappend\u001b[49m\u001b[43m,\u001b[49m\n\u001b[1;32m    723\u001b[0m \u001b[43m    \u001b[49m\u001b[43mdataset_metadata\u001b[49m\u001b[38;5;241;43m=\u001b[39;49m\u001b[43mdataset_metadata\u001b[49m\u001b[43m,\u001b[49m\n\u001b[1;32m    724\u001b[0m \u001b[43m    \u001b[49m\u001b[43mlayer_metadata\u001b[49m\u001b[38;5;241;43m=\u001b[39;49m\u001b[43mlayer_metadata\u001b[49m\u001b[43m,\u001b[49m\n\u001b[1;32m    725\u001b[0m \u001b[43m    \u001b[49m\u001b[43mdataset_kwargs\u001b[49m\u001b[38;5;241;43m=\u001b[39;49m\u001b[43mdataset_kwargs\u001b[49m\u001b[43m,\u001b[49m\n\u001b[1;32m    726\u001b[0m \u001b[43m    \u001b[49m\u001b[43mlayer_kwargs\u001b[49m\u001b[38;5;241;43m=\u001b[39;49m\u001b[43mlayer_kwargs\u001b[49m\u001b[43m,\u001b[49m\n\u001b[1;32m    727\u001b[0m \u001b[43m    \u001b[49m\u001b[43mgdal_tz_offsets\u001b[49m\u001b[38;5;241;43m=\u001b[39;49m\u001b[43mgdal_tz_offsets\u001b[49m\u001b[43m,\u001b[49m\n\u001b[1;32m    728\u001b[0m \u001b[43m\u001b[49m\u001b[43m)\u001b[49m\n",
      "File \u001b[0;32m~/micromamba/envs/python-gis-book/lib/python3.12/site-packages/pyogrio/_io.pyx:2298\u001b[0m, in \u001b[0;36mpyogrio._io.ogr_write\u001b[0;34m()\u001b[0m\n",
      "File \u001b[0;32m~/micromamba/envs/python-gis-book/lib/python3.12/site-packages/pyogrio/_io.pyx:2197\u001b[0m, in \u001b[0;36mpyogrio._io.create_ogr_dataset_layer\u001b[0;34m()\u001b[0m\n",
      "\u001b[0;31mDataLayerError\u001b[0m: Unable to create new layers in this single file dataset."
     ]
    }
   ],
   "source": [
    "# Write to Shapefile\n",
    "outfp = \"data/Temp/austin_pop_2019.shp\"\n",
    "data.to_file(outfp)\n",
    "\n",
    "# Write to MapInfo Tab\n",
    "outfp = \"data/Temp/austin_pop_2019.tab\"\n",
    "data.to_file(outfp)\n",
    "\n",
    "# Write to Geopackage\n",
    "outfp = \"data/Temp/austin_pop_2019.gpkg\"\n",
    "data.to_file(outfp, driver=\"GPKG\")\n",
    "\n",
    "# Write to GeoJSON\n",
    "outfp = \"data/Temp/austin_pop_2019.geojson\"\n",
    "data.to_file(outfp, driver=\"GeoJSON\")\n",
    "\n",
    "# Write to KML\n",
    "outfp = \"data/Temp/austin_pop_2019.kml\"\n",
    "data.to_file(outfp, driver=\"LIBKML\")\n",
    "\n",
    "# Write to File Geodatabase\n",
    "outfp = \"data/Temp/austin_pop_2019.gdb\"\n",
    "data.to_file(outfp, driver=\"OpenFileGDB\")"
   ]
  },
  {
   "cell_type": "code",
   "execution_count": null,
   "id": "f37a3be5-4f0e-41cf-9ebd-cf48708082df",
   "metadata": {},
   "outputs": [],
   "source": [
    "print(data.head())"
   ]
  },
  {
   "cell_type": "markdown",
   "id": "e451b126",
   "metadata": {
    "editable": true,
    "slideshow": {
     "slide_type": ""
    },
    "tags": []
   },
   "source": [
    "## Creating a GeoDataFrame from scratch\n",
    "\n",
    "It is possible to create spatial data from scratch by using shapely's geometric objects and geopandas. This is useful as it makes it easy to convert, for example, a text file that contains coordinates into geospatial data layers. Let's first create a simple `GeoDataFrame` based on coordinate information that represents the outlines of the Senate square in Helsinki, Finland. The coordinates below demonstrates the corners of the Senate square, which we can use to create a `Polygon` object in a similar manner as we learned earlier in this chapter:"
   ]
  },
  {
   "cell_type": "code",
   "execution_count": null,
   "id": "e791f5fd",
   "metadata": {
    "editable": true,
    "slideshow": {
     "slide_type": ""
    },
    "tags": []
   },
   "outputs": [],
   "source": [
    "from shapely.geometry import Polygon\n",
    "\n",
    "coordinates = [\n",
    "    (24.950899, 60.169158),\n",
    "    (24.953492, 60.169158),\n",
    "    (24.953510, 60.170104),\n",
    "    (24.950958, 60.169990),\n",
    "]\n",
    "\n",
    "poly = Polygon(coordinates)"
   ]
  },
  {
   "cell_type": "markdown",
   "id": "1dac87d9",
   "metadata": {
    "editable": true,
    "slideshow": {
     "slide_type": ""
    },
    "tags": []
   },
   "source": [
    "Now we can use this polygon and create a `GeoDataFrame` from scratch with geopandas. The data can be passed in as a list-like object. In our case, we will only have one row and one column of data. We can pass the polygon inside a list, and name the column as `geometry` so that geopandas will know to use the contents of that column as the source for geometries. Additionally, we could define the coordinate reference system for the data which we will learn in the next chapter."
   ]
  },
  {
   "cell_type": "code",
   "execution_count": null,
   "id": "712160ba",
   "metadata": {
    "editable": true,
    "slideshow": {
     "slide_type": ""
    },
    "tags": []
   },
   "outputs": [],
   "source": [
    "newdata = gpd.GeoDataFrame(data=[poly], columns=[\"geometry\"])\n",
    "newdata"
   ]
  },
  {
   "cell_type": "markdown",
   "id": "0aaeb053",
   "metadata": {
    "editable": true,
    "slideshow": {
     "slide_type": ""
    },
    "tags": []
   },
   "source": [
    "In this way, we can easily create a `GeoDataFrame` without any attribute data. However, quite often you also want to attach attribute information along with your geometry. We can create a `GeoDataFrame` from scratch with multiple attributes by passing a Python `dictionary` into the `GeoDataFrame` object as follows: "
   ]
  },
  {
   "cell_type": "code",
   "execution_count": null,
   "id": "36433916-c3ba-481d-bd52-d2a80d2378fb",
   "metadata": {
    "editable": true,
    "slideshow": {
     "slide_type": ""
    },
    "tags": []
   },
   "outputs": [],
   "source": [
    "gdf_data = {\n",
    "    \"geometry\": [poly],\n",
    "    \"name\": \"Senate Square\",\n",
    "    \"city\": \"Helsinki\",\n",
    "    \"year\": 2023,\n",
    "}\n",
    "new_data_extended = gpd.GeoDataFrame(gdf_data)\n",
    "print(new_data_extended)"
   ]
  },
  {
   "cell_type": "markdown",
   "id": "59b0ac71",
   "metadata": {
    "editable": true,
    "slideshow": {
     "slide_type": ""
    },
    "tags": []
   },
   "source": [
    "There it is! Now we have four columns in our data, one representing the geometry and other columns with additional attribute information. "
   ]
  },
  {
   "cell_type": "markdown",
   "id": "a83b254b",
   "metadata": {
    "editable": true,
    "slideshow": {
     "slide_type": ""
    },
    "tags": []
   },
   "source": [
    "## Creating a GeoDataFrame from a text file"
   ]
  },
  {
   "cell_type": "markdown",
   "id": "06f16d87",
   "metadata": {
    "editable": true,
    "slideshow": {
     "slide_type": ""
    },
    "tags": []
   },
   "source": [
    "One rather typical situation that you might encounter when working with your course mates or colleagues, is that you receive data that has coordinates but they are stored e.g. in a delimited textfile (or an Excel file). In this case, you cannot directly read the data into `GeoDataFrame` from the text file, but it needs to be converted into geospatial data using the coordinate information. In such a case, we can make use of the pandas, geopandas and shapely libraries for turning the data from a text file into a fully functional `GeoDataFrame`. To demonstrate this, we have some example data below that contains point coordinates of airports derived from [openflights.org](https://openflights.org/data.html) [^openflights]. The operation of turning this data into a `GeoDataFrame` begins with reading the data with pandas into a `DataFrame`. Let's read a couple of useful columns from the data for further processing:"
   ]
  },
  {
   "cell_type": "code",
   "execution_count": null,
   "id": "7cbc25d6",
   "metadata": {
    "editable": true,
    "slideshow": {
     "slide_type": ""
    },
    "tags": []
   },
   "outputs": [],
   "source": [
    "import pandas as pd\n",
    "\n",
    "airports = pd.read_csv(\n",
    "    \"data/Airports/airports.txt\",\n",
    "    usecols=[\"Airport ID\", \"Name\", \"City\", \"Country\", \"Latitude\", \"Longitude\"],\n",
    ")\n",
    "airports.head()"
   ]
  },
  {
   "cell_type": "code",
   "execution_count": null,
   "id": "2d6545eb-4670-41df-9243-96ee70abbe60",
   "metadata": {
    "editable": true,
    "slideshow": {
     "slide_type": ""
    },
    "tags": []
   },
   "outputs": [],
   "source": [
    "type(airports)"
   ]
  },
  {
   "cell_type": "code",
   "execution_count": null,
   "id": "f1642d2f",
   "metadata": {
    "editable": true,
    "slideshow": {
     "slide_type": ""
    },
    "tags": []
   },
   "outputs": [],
   "source": [
    "len(airports)"
   ]
  },
  {
   "cell_type": "markdown",
   "id": "8fc9c2df",
   "metadata": {
    "editable": true,
    "slideshow": {
     "slide_type": ""
    },
    "tags": []
   },
   "source": [
    "As we can see, now the data was read from a textfile into a regular pandas `DataFrame`. In a similar manner, you can read data with coordinates from numerous file formats supported by pandas. Our data covers over 7000 airports with specific attribute information including the coordinates in the `Latitude` and `Longitude` columns. We can use this coordinate information for turning this data into a `GeoDataFrame` and ultimately visualizing the data on a map. There is a handy function in geopandas called `.points_from_xy()` for generating an array of `Point` objects based on `x` and `y` coordinates. This function assumes that x-coordinates represent longitude and the y-coordinates represent latitude. The following code snippet shows how we can create geometries for the airports based on these coordinates:"
   ]
  },
  {
   "cell_type": "code",
   "execution_count": null,
   "id": "69d12f09",
   "metadata": {
    "editable": true,
    "slideshow": {
     "slide_type": ""
    },
    "tags": []
   },
   "outputs": [],
   "source": [
    "airports[\"geometry\"] = gpd.points_from_xy(\n",
    "    x=airports[\"Longitude\"], y=airports[\"Latitude\"]\n",
    ")\n",
    "\n",
    "airports = gpd.GeoDataFrame(airports)\n",
    "airports.head()"
   ]
  },
  {
   "cell_type": "code",
   "execution_count": null,
   "id": "88588ca9-0702-4313-b220-a3d6b654ebcb",
   "metadata": {
    "editable": true,
    "slideshow": {
     "slide_type": ""
    },
    "tags": []
   },
   "outputs": [],
   "source": [
    "type(airports)"
   ]
  },
  {
   "cell_type": "markdown",
   "id": "f3980e1a",
   "metadata": {
    "editable": true,
    "slideshow": {
     "slide_type": ""
    },
    "tags": []
   },
   "source": [
    "The `GeoDataFrame` was created with a couple of steps. First, we created a new column called `geometry` into the `DataFrame` and used the `.points_from_xy()` function to turn the coordinates into shapely `Point` objects. At this stage, the data is still in a `DataFrame` format, but we can easily convert the data into a `GeoDataFrame`. The second command in the code snippet converts the pandas `DataFrame` into a `GeoDataFrame` which then has all the capabilities and tools bundled with geopandas. After these two steps, we have succesfully turned the data into geospatial format and we can for example plot the data on a map:"
   ]
  },
  {
   "cell_type": "code",
   "execution_count": null,
   "id": "b21b6edb",
   "metadata": {
    "editable": true,
    "slideshow": {
     "slide_type": ""
    },
    "tags": []
   },
   "outputs": [],
   "source": [
    "airports.plot(markersize=0.1)"
   ]
  },
  {
   "cell_type": "markdown",
   "id": "1dbb692c",
   "metadata": {
    "editable": true,
    "slideshow": {
     "slide_type": ""
    },
    "tags": []
   },
   "source": [
    "_**Figure 6.13**. A basic plot showing the airports from openflights.org._"
   ]
  },
  {
   "cell_type": "markdown",
   "id": "dc15dc10",
   "metadata": {
    "editable": true,
    "slideshow": {
     "slide_type": ""
    },
    "tags": []
   },
   "source": [
    "## Footnotes\n",
    "\n",
    "[^GeoJson]: <https://en.wikipedia.org/wiki/GeoJSON>\n",
    "[^geopandas]: <https://geopandas.org/>\n",
    "[^GPKG]: <https://en.wikipedia.org/wiki/GeoPackage>\n",
    "[^KML]: <https://en.wikipedia.org/wiki/Keyhole_Markup_Language>\n",
    "[^NLS_topodata]: <https://www.maanmittauslaitos.fi/en/maps-and-spatial-data/expert-users/product-descriptions/topographic-database>\n",
    "[^NLS_lisence]: <https://www.maanmittauslaitos.fi/en/opendata-licence-cc40>\n",
    "[^OGC_sfa]: <https://www.ogc.org/standards/sfa>\n",
    "[^openflights]: <https://openflights.org/data.html>\n",
    "[^paituli]: <https://avaa.tdata.fi/web/paituli/latauspalvelu>\n",
    "[^shp]: <https://en.wikipedia.org/wiki/Shapefile> \n",
    "[^topodata_fair]: <https://etsin.fairdata.fi/dataset/5023ecc7-914a-4494-9e32-d0a39d3b56ae>\n",
    "[^us_census]: <https://www.census.gov/programs-surveys/acs/data.html>"
   ]
  }
 ],
 "metadata": {
  "kernelspec": {
   "display_name": "Python 3 (ipykernel)",
   "language": "python",
   "name": "python3"
  },
  "language_info": {
   "codemirror_mode": {
    "name": "ipython",
    "version": 3
   },
   "file_extension": ".py",
   "mimetype": "text/x-python",
   "name": "python",
   "nbconvert_exporter": "python",
   "pygments_lexer": "ipython3",
   "version": "3.12.5"
  }
 },
 "nbformat": 4,
 "nbformat_minor": 5
}
