{
 "cells": [
  {
   "cell_type": "markdown",
   "id": "486a9000",
   "metadata": {},
   "source": [
    "# Operations between multiple datasets\n",
    "\n",
    "<!---\n",
    "- Selecting data based on spatial relationships\n",
    "- Overlay analysis\n",
    "- Spatial join, nearest join\n",
    "- Distance operations\n",
    "- Spatial index\n",
    "-->\n",
    "\n",
    "Add introductory text.\n"
   ]
  }
 ],
 "metadata": {
  "kernelspec": {
   "display_name": "Python 3 (ipykernel)",
   "language": "python",
   "name": "python3"
  },
  "language_info": {
   "codemirror_mode": {
    "name": "ipython",
    "version": 3
   },
   "file_extension": ".py",
   "mimetype": "text/x-python",
   "name": "python",
   "nbconvert_exporter": "python",
   "pygments_lexer": "ipython3",
   "version": "3.10.9"
  }
 },
 "nbformat": 4,
 "nbformat_minor": 5
}
