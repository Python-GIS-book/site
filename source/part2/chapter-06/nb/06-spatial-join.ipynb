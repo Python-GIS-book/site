{
 "cells": [
  {
   "cell_type": "markdown",
   "id": "b0380128",
   "metadata": {},
   "source": [
    "# Spatial join\n",
    "\n",
    "Spatial join is yet another classic GIS problem. Getting attributes from one layer and transferring them into another layer based on their spatial relationship is something you most likely need to do on a regular basis. In the previous section (Chapter 6.6), we learned how to perform spatial queries, such as investigating if a Point is located within a Polygon. We can use this same logic to conduct a spatial join between two layers based on their spatial relationship and transfer the information stored in one layer into the other. We could, for example, join the attributes of a polygon layer into a point layer where each point would get the attributes of a polygon that `intersects` with the point. **Figure 6.xx** illustrates this logic by showing how we can combine information from two layers (Land use and Buildings) into the point layer that represents the locations of four properties. Each layer has their own attribute information shown on the right. The table at the bottom of the figure shows the result after both of these layers have been combined with the properties layer. The logic for merging the information between layers is based on how the individual points in the Properties layer intersect with different land use areas (commercial, residential, industrial, or natural) and the building footprints. Spatial join is always conducted between two layers at a time. Hence, in practice, to be able to make a spatial join between three layers, we first need to make a spatial join between Properties and Land use and store this into an intermediate result. After the first join, you need to make another spatial join with this intermediate result and the third layer, namely the Buildings dataset, which in our case will be the final result shown at the bottom. As a result, we now have enriched our data with many additional attributes from the other layers that are stored as separate columns in the table. In a similar manner, you could also continue joining data (attributes) from other layers as long as you need.  \n",
    "\n",
    "![_**Figure 6.XX**. Spatial join allows you to combine attribute information from multiple layers based on spatial relationship._](../img/spatial-join-basic-idea.png)\n",
    "\n",
    "_**Figure 6.XX**. Spatial join allows you to combine attribute information from multiple layers based on spatial relationship._\n"
   ]
  },
  {
   "cell_type": "markdown",
   "id": "1eb60600-ca08-41a3-a32b-c5dec2e35a6a",
   "metadata": {},
   "source": [
    "![_**Figure 6.XX**. Different approaches to join two data layers with each other based on spatial relationships._](../img/spatial-join-alternatives.png)\n",
    "\n",
    "_**Figure 6.XX**. Different approaches to join two data layers with each other based on spatial relationships._\n",
    "\n",
    "\n",
    "Luckily, [spatial join is already implemented in Geopandas](http://geopandas.org/mergingdata.html#spatial-joins), thus we do not need to create our own function for doing it. There are three possible types of join that can be applied in spatial join that are determined with ``op`` -parameter in the ``gpd.sjoin()`` -function:\n",
    "\n",
    "-  ``\"intersects\"``\n",
    "-  ``\"within\"``\n",
    "-  ``\"contains\"``\n",
    "\n",
    "Sounds familiar? Yep, all of those spatial relationships were discussed in the [Point in Polygon lesson](point-in-polygon.ipynb), thus you should know how they work. \n",
    "\n",
    "Furthermore, pay attention to the different options for the type of join via the `how` parameter; \"left\", \"right\" and \"inner\". You can read more about these options in the [geopandas sjoin documentation](http://geopandas.org/mergingdata.html#sjoin-arguments) and pandas guide for [merge, join and concatenate](https://pandas.pydata.org/pandas-docs/stable/user_guide/merging.html).\n",
    "\n",
    "Let's perform a spatial join between these two layers:\n",
    "- **Addresses:** the geocoded address-point (we created this Shapefile in the geocoding tutorial)\n",
    "- **Population grid:** 250m x 250m grid polygon layer that contains population information from the Helsinki Region.\n",
    "    - The population grid a dataset is produced by the **Helsinki Region Environmental\n",
    "Services Authority (HSY)** (see [this page](https://www.hsy.fi/fi/asiantuntijalle/avoindata/Sivut/AvoinData.aspx?dataID=7) to access data from different years).\n",
    "    - You can download the data from [from this link](https://www.hsy.fi/sites/AvoinData/AvoinData/SYT/Tietoyhteistyoyksikko/Shape%20(Esri)/V%C3%A4est%C3%B6tietoruudukko/Vaestotietoruudukko_2018_SHP.zip) in the  [Helsinki Region Infroshare\n",
    "(HRI) open data portal](https://hri.fi/en_gb/).\n"
   ]
  },
  {
   "cell_type": "markdown",
   "id": "ec64016a",
   "metadata": {},
   "source": [
    "- Here, we will access the data directly from the HSY wfs:\n",
    "\n",
    "<!-- #endregion -->"
   ]
  },
  {
   "cell_type": "code",
   "execution_count": 1,
   "id": "0dd1de4d-8390-4267-a518-cecf7179a619",
   "metadata": {},
   "outputs": [],
   "source": [
    "import geopandas as gpd\n",
    "from pyproj import CRS\n",
    "import requests\n",
    "import geojson\n",
    "\n",
    "# Specify the url for web feature service\n",
    "url = \"https://kartta.hsy.fi/geoserver/wfs\"\n",
    "\n",
    "# Specify parameters (read data in json format).\n",
    "# Available feature types in this particular data source: http://geo.stat.fi/geoserver/vaestoruutu/wfs?service=wfs&version=2.0.0&request=describeFeatureType\n",
    "params = dict(\n",
    "    service=\"WFS\",\n",
    "    version=\"2.0.0\",\n",
    "    request=\"GetFeature\",\n",
    "    typeName=\"asuminen_ja_maankaytto:Vaestotietoruudukko_2018\",\n",
    "    outputFormat=\"json\",\n",
    ")\n",
    "\n",
    "# Fetch data from WFS using requests\n",
    "r = requests.get(url, params=params)\n",
    "\n",
    "# Create GeoDataFrame from geojson\n",
    "pop = gpd.GeoDataFrame.from_features(geojson.loads(r.content))"
   ]
  },
  {
   "cell_type": "markdown",
   "id": "809d282b",
   "metadata": {},
   "source": [
    "Check the result: "
   ]
  },
  {
   "cell_type": "code",
   "execution_count": 2,
   "id": "af65caf4",
   "metadata": {},
   "outputs": [
    {
     "data": {
      "text/html": [
       "<div>\n",
       "<style scoped>\n",
       "    .dataframe tbody tr th:only-of-type {\n",
       "        vertical-align: middle;\n",
       "    }\n",
       "\n",
       "    .dataframe tbody tr th {\n",
       "        vertical-align: top;\n",
       "    }\n",
       "\n",
       "    .dataframe thead th {\n",
       "        text-align: right;\n",
       "    }\n",
       "</style>\n",
       "<table border=\"1\" class=\"dataframe\">\n",
       "  <thead>\n",
       "    <tr style=\"text-align: right;\">\n",
       "      <th></th>\n",
       "      <th>geometry</th>\n",
       "      <th>index</th>\n",
       "      <th>asukkaita</th>\n",
       "      <th>asvaljyys</th>\n",
       "      <th>ika0_9</th>\n",
       "      <th>ika10_19</th>\n",
       "      <th>ika20_29</th>\n",
       "      <th>ika30_39</th>\n",
       "      <th>ika40_49</th>\n",
       "      <th>ika50_59</th>\n",
       "      <th>ika60_69</th>\n",
       "      <th>ika70_79</th>\n",
       "      <th>ika_yli80</th>\n",
       "    </tr>\n",
       "  </thead>\n",
       "  <tbody>\n",
       "    <tr>\n",
       "      <th>0</th>\n",
       "      <td>POLYGON ((25472499.995 6689749.005, 25472499.9...</td>\n",
       "      <td>688</td>\n",
       "      <td>9</td>\n",
       "      <td>28.0</td>\n",
       "      <td>99</td>\n",
       "      <td>99</td>\n",
       "      <td>99</td>\n",
       "      <td>99</td>\n",
       "      <td>99</td>\n",
       "      <td>99</td>\n",
       "      <td>99</td>\n",
       "      <td>99</td>\n",
       "      <td>99</td>\n",
       "    </tr>\n",
       "    <tr>\n",
       "      <th>1</th>\n",
       "      <td>POLYGON ((25472499.995 6685998.998, 25472499.9...</td>\n",
       "      <td>703</td>\n",
       "      <td>5</td>\n",
       "      <td>51.0</td>\n",
       "      <td>99</td>\n",
       "      <td>99</td>\n",
       "      <td>99</td>\n",
       "      <td>99</td>\n",
       "      <td>99</td>\n",
       "      <td>99</td>\n",
       "      <td>99</td>\n",
       "      <td>99</td>\n",
       "      <td>99</td>\n",
       "    </tr>\n",
       "    <tr>\n",
       "      <th>2</th>\n",
       "      <td>POLYGON ((25472499.995 6684249.004, 25472499.9...</td>\n",
       "      <td>710</td>\n",
       "      <td>8</td>\n",
       "      <td>44.0</td>\n",
       "      <td>99</td>\n",
       "      <td>99</td>\n",
       "      <td>99</td>\n",
       "      <td>99</td>\n",
       "      <td>99</td>\n",
       "      <td>99</td>\n",
       "      <td>99</td>\n",
       "      <td>99</td>\n",
       "      <td>99</td>\n",
       "    </tr>\n",
       "    <tr>\n",
       "      <th>3</th>\n",
       "      <td>POLYGON ((25472499.995 6683999.005, 25472499.9...</td>\n",
       "      <td>711</td>\n",
       "      <td>5</td>\n",
       "      <td>90.0</td>\n",
       "      <td>99</td>\n",
       "      <td>99</td>\n",
       "      <td>99</td>\n",
       "      <td>99</td>\n",
       "      <td>99</td>\n",
       "      <td>99</td>\n",
       "      <td>99</td>\n",
       "      <td>99</td>\n",
       "      <td>99</td>\n",
       "    </tr>\n",
       "    <tr>\n",
       "      <th>4</th>\n",
       "      <td>POLYGON ((25472499.995 6682998.998, 25472499.9...</td>\n",
       "      <td>715</td>\n",
       "      <td>11</td>\n",
       "      <td>41.0</td>\n",
       "      <td>99</td>\n",
       "      <td>99</td>\n",
       "      <td>99</td>\n",
       "      <td>99</td>\n",
       "      <td>99</td>\n",
       "      <td>99</td>\n",
       "      <td>99</td>\n",
       "      <td>99</td>\n",
       "      <td>99</td>\n",
       "    </tr>\n",
       "  </tbody>\n",
       "</table>\n",
       "</div>"
      ],
      "text/plain": [
       "                                            geometry  index  asukkaita  \\\n",
       "0  POLYGON ((25472499.995 6689749.005, 25472499.9...    688          9   \n",
       "1  POLYGON ((25472499.995 6685998.998, 25472499.9...    703          5   \n",
       "2  POLYGON ((25472499.995 6684249.004, 25472499.9...    710          8   \n",
       "3  POLYGON ((25472499.995 6683999.005, 25472499.9...    711          5   \n",
       "4  POLYGON ((25472499.995 6682998.998, 25472499.9...    715         11   \n",
       "\n",
       "   asvaljyys  ika0_9  ika10_19  ika20_29  ika30_39  ika40_49  ika50_59  \\\n",
       "0       28.0      99        99        99        99        99        99   \n",
       "1       51.0      99        99        99        99        99        99   \n",
       "2       44.0      99        99        99        99        99        99   \n",
       "3       90.0      99        99        99        99        99        99   \n",
       "4       41.0      99        99        99        99        99        99   \n",
       "\n",
       "   ika60_69  ika70_79  ika_yli80  \n",
       "0        99        99         99  \n",
       "1        99        99         99  \n",
       "2        99        99         99  \n",
       "3        99        99         99  \n",
       "4        99        99         99  "
      ]
     },
     "execution_count": 2,
     "metadata": {},
     "output_type": "execute_result"
    }
   ],
   "source": [
    "pop.head()"
   ]
  },
  {
   "cell_type": "markdown",
   "id": "f8f96b47",
   "metadata": {},
   "source": [
    "Okey so we have multiple columns in the dataset but the most important\n",
    "one here is the column `asukkaita` (\"population\" in Finnish) that\n",
    "tells the amount of inhabitants living under that polygon.\n",
    "\n",
    "-  Let's change the name of that column into `pop18` so that it is\n",
    "   more intuitive. As you might remember, we can easily rename (Geo)DataFrame column names using the ``rename()`` function where we pass a dictionary of new column names like this: ``columns={'oldname': 'newname'}``."
   ]
  },
  {
   "cell_type": "code",
   "execution_count": 3,
   "id": "dd77be1d",
   "metadata": {},
   "outputs": [
    {
     "data": {
      "text/plain": [
       "Index(['geometry', 'index', 'pop18', 'asvaljyys', 'ika0_9', 'ika10_19',\n",
       "       'ika20_29', 'ika30_39', 'ika40_49', 'ika50_59', 'ika60_69', 'ika70_79',\n",
       "       'ika_yli80'],\n",
       "      dtype='object')"
      ]
     },
     "execution_count": 3,
     "metadata": {},
     "output_type": "execute_result"
    }
   ],
   "source": [
    "# Change the name of a column\n",
    "pop = pop.rename(columns={\"asukkaita\": \"pop18\"})\n",
    "\n",
    "# Check the column names\n",
    "pop.columns"
   ]
  },
  {
   "cell_type": "markdown",
   "id": "b78ade30",
   "metadata": {},
   "source": [
    "Let's also get rid of all unnecessary columns by selecting only columns that we need i.e. ``pop18`` and ``geometry``"
   ]
  },
  {
   "cell_type": "code",
   "execution_count": 4,
   "id": "d183ae85",
   "metadata": {},
   "outputs": [],
   "source": [
    "# Subset columns\n",
    "pop = pop[[\"pop18\", \"geometry\"]]"
   ]
  },
  {
   "cell_type": "code",
   "execution_count": 5,
   "id": "6715cf86",
   "metadata": {},
   "outputs": [
    {
     "data": {
      "text/html": [
       "<div>\n",
       "<style scoped>\n",
       "    .dataframe tbody tr th:only-of-type {\n",
       "        vertical-align: middle;\n",
       "    }\n",
       "\n",
       "    .dataframe tbody tr th {\n",
       "        vertical-align: top;\n",
       "    }\n",
       "\n",
       "    .dataframe thead th {\n",
       "        text-align: right;\n",
       "    }\n",
       "</style>\n",
       "<table border=\"1\" class=\"dataframe\">\n",
       "  <thead>\n",
       "    <tr style=\"text-align: right;\">\n",
       "      <th></th>\n",
       "      <th>pop18</th>\n",
       "      <th>geometry</th>\n",
       "    </tr>\n",
       "  </thead>\n",
       "  <tbody>\n",
       "    <tr>\n",
       "      <th>0</th>\n",
       "      <td>9</td>\n",
       "      <td>POLYGON ((25472499.995 6689749.005, 25472499.9...</td>\n",
       "    </tr>\n",
       "    <tr>\n",
       "      <th>1</th>\n",
       "      <td>5</td>\n",
       "      <td>POLYGON ((25472499.995 6685998.998, 25472499.9...</td>\n",
       "    </tr>\n",
       "    <tr>\n",
       "      <th>2</th>\n",
       "      <td>8</td>\n",
       "      <td>POLYGON ((25472499.995 6684249.004, 25472499.9...</td>\n",
       "    </tr>\n",
       "    <tr>\n",
       "      <th>3</th>\n",
       "      <td>5</td>\n",
       "      <td>POLYGON ((25472499.995 6683999.005, 25472499.9...</td>\n",
       "    </tr>\n",
       "    <tr>\n",
       "      <th>4</th>\n",
       "      <td>11</td>\n",
       "      <td>POLYGON ((25472499.995 6682998.998, 25472499.9...</td>\n",
       "    </tr>\n",
       "  </tbody>\n",
       "</table>\n",
       "</div>"
      ],
      "text/plain": [
       "   pop18                                           geometry\n",
       "0      9  POLYGON ((25472499.995 6689749.005, 25472499.9...\n",
       "1      5  POLYGON ((25472499.995 6685998.998, 25472499.9...\n",
       "2      8  POLYGON ((25472499.995 6684249.004, 25472499.9...\n",
       "3      5  POLYGON ((25472499.995 6683999.005, 25472499.9...\n",
       "4     11  POLYGON ((25472499.995 6682998.998, 25472499.9..."
      ]
     },
     "execution_count": 5,
     "metadata": {},
     "output_type": "execute_result"
    }
   ],
   "source": [
    "pop.head()"
   ]
  },
  {
   "cell_type": "markdown",
   "id": "8c08755b",
   "metadata": {},
   "source": [
    "Now we have cleaned the data and have only those columns that we need\n",
    "for our analysis."
   ]
  },
  {
   "cell_type": "markdown",
   "id": "8dd11214",
   "metadata": {},
   "source": [
    "## Join the layers\n",
    "\n",
    "Now we are ready to perform the spatial join between the two layers that\n",
    "we have. The aim here is to get information about **how many people live\n",
    "in a polygon that contains an individual address-point** . Thus, we want\n",
    "to join attributes from the population layer we just modified into the\n",
    "addresses point layer ``addresses.shp`` that we created trough gecoding in the previous section.\n",
    "\n",
    "-  Read the addresses layer into memory:"
   ]
  },
  {
   "cell_type": "code",
   "execution_count": 6,
   "id": "540aa99d",
   "metadata": {},
   "outputs": [],
   "source": [
    "# Addresses filpath\n",
    "addr_fp = \"data/Helsinki/addresses.shp\"\n",
    "\n",
    "# Read data\n",
    "addresses = gpd.read_file(addr_fp)"
   ]
  },
  {
   "cell_type": "code",
   "execution_count": 7,
   "id": "081b011d",
   "metadata": {},
   "outputs": [
    {
     "data": {
      "text/html": [
       "<div>\n",
       "<style scoped>\n",
       "    .dataframe tbody tr th:only-of-type {\n",
       "        vertical-align: middle;\n",
       "    }\n",
       "\n",
       "    .dataframe tbody tr th {\n",
       "        vertical-align: top;\n",
       "    }\n",
       "\n",
       "    .dataframe thead th {\n",
       "        text-align: right;\n",
       "    }\n",
       "</style>\n",
       "<table border=\"1\" class=\"dataframe\">\n",
       "  <thead>\n",
       "    <tr style=\"text-align: right;\">\n",
       "      <th></th>\n",
       "      <th>address</th>\n",
       "      <th>id</th>\n",
       "      <th>addr</th>\n",
       "      <th>geometry</th>\n",
       "    </tr>\n",
       "  </thead>\n",
       "  <tbody>\n",
       "    <tr>\n",
       "      <th>0</th>\n",
       "      <td>Ruoholahti, 14, Itämerenkatu, Ruoholahti, Läns...</td>\n",
       "      <td>1000</td>\n",
       "      <td>Itämerenkatu 14, 00101 Helsinki, Finland</td>\n",
       "      <td>POINT (24.91556 60.16320)</td>\n",
       "    </tr>\n",
       "    <tr>\n",
       "      <th>1</th>\n",
       "      <td>Kamppi, 1, Kampinkuja, Kamppi, Eteläinen suurp...</td>\n",
       "      <td>1001</td>\n",
       "      <td>Kampinkuja 1, 00100 Helsinki, Finland</td>\n",
       "      <td>POINT (24.93166 60.16905)</td>\n",
       "    </tr>\n",
       "    <tr>\n",
       "      <th>2</th>\n",
       "      <td>Bangkok9, 8, Kaivokatu, Keskusta, Kluuvi, Etel...</td>\n",
       "      <td>1002</td>\n",
       "      <td>Kaivokatu 8, 00101 Helsinki, Finland</td>\n",
       "      <td>POINT (24.94168 60.16996)</td>\n",
       "    </tr>\n",
       "    <tr>\n",
       "      <th>3</th>\n",
       "      <td>Hermannin rantatie, Verkkosaari, Kalasatama, S...</td>\n",
       "      <td>1003</td>\n",
       "      <td>Hermannin rantatie 1, 00580 Helsinki, Finland</td>\n",
       "      <td>POINT (24.97865 60.19005)</td>\n",
       "    </tr>\n",
       "    <tr>\n",
       "      <th>4</th>\n",
       "      <td>9, Tyynenmerenkatu, Jätkäsaari, Länsisatama, E...</td>\n",
       "      <td>1005</td>\n",
       "      <td>Tyynenmerenkatu 9, 00220 Helsinki, Finland</td>\n",
       "      <td>POINT (24.92151 60.15662)</td>\n",
       "    </tr>\n",
       "  </tbody>\n",
       "</table>\n",
       "</div>"
      ],
      "text/plain": [
       "                                             address    id  \\\n",
       "0  Ruoholahti, 14, Itämerenkatu, Ruoholahti, Läns...  1000   \n",
       "1  Kamppi, 1, Kampinkuja, Kamppi, Eteläinen suurp...  1001   \n",
       "2  Bangkok9, 8, Kaivokatu, Keskusta, Kluuvi, Etel...  1002   \n",
       "3  Hermannin rantatie, Verkkosaari, Kalasatama, S...  1003   \n",
       "4  9, Tyynenmerenkatu, Jätkäsaari, Länsisatama, E...  1005   \n",
       "\n",
       "                                            addr                   geometry  \n",
       "0       Itämerenkatu 14, 00101 Helsinki, Finland  POINT (24.91556 60.16320)  \n",
       "1          Kampinkuja 1, 00100 Helsinki, Finland  POINT (24.93166 60.16905)  \n",
       "2           Kaivokatu 8, 00101 Helsinki, Finland  POINT (24.94168 60.16996)  \n",
       "3  Hermannin rantatie 1, 00580 Helsinki, Finland  POINT (24.97865 60.19005)  \n",
       "4     Tyynenmerenkatu 9, 00220 Helsinki, Finland  POINT (24.92151 60.15662)  "
      ]
     },
     "execution_count": 7,
     "metadata": {},
     "output_type": "execute_result"
    }
   ],
   "source": [
    "# Check the head of the file\n",
    "addresses.head()"
   ]
  },
  {
   "cell_type": "markdown",
   "id": "7c14b38e",
   "metadata": {},
   "source": [
    "In order to do a spatial join, the layers need to be in the same projection\n",
    "\n",
    "- Check the crs of input layers:"
   ]
  },
  {
   "cell_type": "code",
   "execution_count": 8,
   "id": "f8505a88",
   "metadata": {},
   "outputs": [
    {
     "data": {
      "text/plain": [
       "<Geographic 2D CRS: EPSG:4326>\n",
       "Name: WGS 84\n",
       "Axis Info [ellipsoidal]:\n",
       "- Lat[north]: Geodetic latitude (degree)\n",
       "- Lon[east]: Geodetic longitude (degree)\n",
       "Area of Use:\n",
       "- name: World.\n",
       "- bounds: (-180.0, -90.0, 180.0, 90.0)\n",
       "Datum: World Geodetic System 1984 ensemble\n",
       "- Ellipsoid: WGS 84\n",
       "- Prime Meridian: Greenwich"
      ]
     },
     "execution_count": 8,
     "metadata": {},
     "output_type": "execute_result"
    }
   ],
   "source": [
    "addresses.crs"
   ]
  },
  {
   "cell_type": "code",
   "execution_count": 9,
   "id": "f7503f06",
   "metadata": {},
   "outputs": [],
   "source": [
    "pop.crs"
   ]
  },
  {
   "cell_type": "markdown",
   "id": "f46d19bf",
   "metadata": {},
   "source": [
    "If the crs information is missing from the population grid, we can **define the coordinate reference system** as **ETRS GK-25 (EPSG:3879)** because we know what it is based on the [population grid metadata](https://hri.fi/data/dataset/vaestotietoruudukko). "
   ]
  },
  {
   "cell_type": "code",
   "execution_count": 10,
   "id": "b4311ad9",
   "metadata": {},
   "outputs": [],
   "source": [
    "# Define crs\n",
    "pop.crs = CRS.from_epsg(3879).to_wkt()"
   ]
  },
  {
   "cell_type": "code",
   "execution_count": 11,
   "id": "33bbaebd",
   "metadata": {},
   "outputs": [
    {
     "data": {
      "text/plain": [
       "<Derived Projected CRS: EPSG:3879>\n",
       "Name: ETRS89 / GK25FIN\n",
       "Axis Info [cartesian]:\n",
       "- N[north]: Northing (metre)\n",
       "- E[east]: Easting (metre)\n",
       "Area of Use:\n",
       "- name: Finland - nominally onshore between 24°30'E and 25°30'E but may be used in adjacent areas if a municipality chooses to use one zone over its whole extent.\n",
       "- bounds: (24.5, 59.94, 25.5, 68.9)\n",
       "Coordinate Operation:\n",
       "- name: Finland Gauss-Kruger zone 25\n",
       "- method: Transverse Mercator\n",
       "Datum: European Terrestrial Reference System 1989 ensemble\n",
       "- Ellipsoid: GRS 1980\n",
       "- Prime Meridian: Greenwich"
      ]
     },
     "execution_count": 11,
     "metadata": {},
     "output_type": "execute_result"
    }
   ],
   "source": [
    "pop.crs"
   ]
  },
  {
   "cell_type": "code",
   "execution_count": 12,
   "id": "094b316b",
   "metadata": {},
   "outputs": [
    {
     "data": {
      "text/plain": [
       "False"
      ]
     },
     "execution_count": 12,
     "metadata": {},
     "output_type": "execute_result"
    }
   ],
   "source": [
    "# Are the layers in the same projection?\n",
    "addresses.crs == pop.crs"
   ]
  },
  {
   "cell_type": "markdown",
   "id": "c02bdc10",
   "metadata": {},
   "source": [
    "Let's re-project addresses to the projection of the population layer:"
   ]
  },
  {
   "cell_type": "code",
   "execution_count": 13,
   "id": "043b2f2a",
   "metadata": {},
   "outputs": [],
   "source": [
    "addresses = addresses.to_crs(pop.crs)"
   ]
  },
  {
   "cell_type": "markdown",
   "id": "16ef61af",
   "metadata": {},
   "source": [
    "-  Let's make sure that the coordinate reference system of the layers\n",
    "are identical"
   ]
  },
  {
   "cell_type": "code",
   "execution_count": 14,
   "id": "f75defb6",
   "metadata": {},
   "outputs": [
    {
     "name": "stdout",
     "output_type": "stream",
     "text": [
      "PROJCRS[\"ETRS89 / GK25FIN\",BASEGEOGCRS[\"ETRS89\",ENSEMBLE[\"European Terrestrial Reference System 1989 ensemble\",MEMBER[\"European Terrestrial Reference Frame 1989\"],MEMBER[\"European Terrestrial Reference Frame 1990\"],MEMBER[\"European Terrestrial Reference Frame 1991\"],MEMBER[\"European Terrestrial Reference Frame 1992\"],MEMBER[\"European Terrestrial Reference Frame 1993\"],MEMBER[\"European Terrestrial Reference Frame 1994\"],MEMBER[\"European Terrestrial Reference Frame 1996\"],MEMBER[\"European Terrestrial Reference Frame 1997\"],MEMBER[\"European Terrestrial Reference Frame 2000\"],MEMBER[\"European Terrestrial Reference Frame 2005\"],MEMBER[\"European Terrestrial Reference Frame 2014\"],ELLIPSOID[\"GRS 1980\",6378137,298.257222101,LENGTHUNIT[\"metre\",1]],ENSEMBLEACCURACY[0.1]],PRIMEM[\"Greenwich\",0,ANGLEUNIT[\"degree\",0.0174532925199433]],ID[\"EPSG\",4258]],CONVERSION[\"Finland Gauss-Kruger zone 25\",METHOD[\"Transverse Mercator\",ID[\"EPSG\",9807]],PARAMETER[\"Latitude of natural origin\",0,ANGLEUNIT[\"degree\",0.0174532925199433],ID[\"EPSG\",8801]],PARAMETER[\"Longitude of natural origin\",25,ANGLEUNIT[\"degree\",0.0174532925199433],ID[\"EPSG\",8802]],PARAMETER[\"Scale factor at natural origin\",1,SCALEUNIT[\"unity\",1],ID[\"EPSG\",8805]],PARAMETER[\"False easting\",25500000,LENGTHUNIT[\"metre\",1],ID[\"EPSG\",8806]],PARAMETER[\"False northing\",0,LENGTHUNIT[\"metre\",1],ID[\"EPSG\",8807]]],CS[Cartesian,2],AXIS[\"northing (N)\",north,ORDER[1],LENGTHUNIT[\"metre\",1]],AXIS[\"easting (E)\",east,ORDER[2],LENGTHUNIT[\"metre\",1]],USAGE[SCOPE[\"Cadastre, engineering survey, topographic mapping (large scale).\"],AREA[\"Finland - nominally onshore between 24°30'E and 25°30'E but may be used in adjacent areas if a municipality chooses to use one zone over its whole extent.\"],BBOX[59.94,24.5,68.9,25.5]],ID[\"EPSG\",3879]]\n",
      "PROJCRS[\"ETRS89 / GK25FIN\",BASEGEOGCRS[\"ETRS89\",ENSEMBLE[\"European Terrestrial Reference System 1989 ensemble\",MEMBER[\"European Terrestrial Reference Frame 1989\"],MEMBER[\"European Terrestrial Reference Frame 1990\"],MEMBER[\"European Terrestrial Reference Frame 1991\"],MEMBER[\"European Terrestrial Reference Frame 1992\"],MEMBER[\"European Terrestrial Reference Frame 1993\"],MEMBER[\"European Terrestrial Reference Frame 1994\"],MEMBER[\"European Terrestrial Reference Frame 1996\"],MEMBER[\"European Terrestrial Reference Frame 1997\"],MEMBER[\"European Terrestrial Reference Frame 2000\"],MEMBER[\"European Terrestrial Reference Frame 2005\"],MEMBER[\"European Terrestrial Reference Frame 2014\"],ELLIPSOID[\"GRS 1980\",6378137,298.257222101,LENGTHUNIT[\"metre\",1]],ENSEMBLEACCURACY[0.1]],PRIMEM[\"Greenwich\",0,ANGLEUNIT[\"degree\",0.0174532925199433]],ID[\"EPSG\",4258]],CONVERSION[\"Finland Gauss-Kruger zone 25\",METHOD[\"Transverse Mercator\",ID[\"EPSG\",9807]],PARAMETER[\"Latitude of natural origin\",0,ANGLEUNIT[\"degree\",0.0174532925199433],ID[\"EPSG\",8801]],PARAMETER[\"Longitude of natural origin\",25,ANGLEUNIT[\"degree\",0.0174532925199433],ID[\"EPSG\",8802]],PARAMETER[\"Scale factor at natural origin\",1,SCALEUNIT[\"unity\",1],ID[\"EPSG\",8805]],PARAMETER[\"False easting\",25500000,LENGTHUNIT[\"metre\",1],ID[\"EPSG\",8806]],PARAMETER[\"False northing\",0,LENGTHUNIT[\"metre\",1],ID[\"EPSG\",8807]]],CS[Cartesian,2],AXIS[\"northing (N)\",north,ORDER[1],LENGTHUNIT[\"metre\",1]],AXIS[\"easting (E)\",east,ORDER[2],LENGTHUNIT[\"metre\",1]],USAGE[SCOPE[\"Cadastre, engineering survey, topographic mapping (large scale).\"],AREA[\"Finland - nominally onshore between 24°30'E and 25°30'E but may be used in adjacent areas if a municipality chooses to use one zone over its whole extent.\"],BBOX[59.94,24.5,68.9,25.5]],ID[\"EPSG\",3879]]\n"
     ]
    },
    {
     "data": {
      "text/plain": [
       "True"
      ]
     },
     "execution_count": 14,
     "metadata": {},
     "output_type": "execute_result"
    }
   ],
   "source": [
    "# Check the crs of address points\n",
    "print(addresses.crs)\n",
    "\n",
    "# Check the crs of population layer\n",
    "print(pop.crs)\n",
    "\n",
    "# Do they match now?\n",
    "addresses.crs == pop.crs"
   ]
  },
  {
   "cell_type": "markdown",
   "id": "620ceb80",
   "metadata": {},
   "source": [
    "Now they should be identical. Thus, we can be sure that when doing spatial\n",
    "queries between layers the locations match and we get the right results\n",
    "e.g. from the spatial join that we are conducting here.\n",
    "\n",
    "-  Let's now join the attributes from ``pop`` GeoDataFrame into\n",
    "   ``addresses`` GeoDataFrame by using ``gpd.sjoin()`` -function:"
   ]
  },
  {
   "cell_type": "code",
   "execution_count": 15,
   "id": "287fcc2b",
   "metadata": {},
   "outputs": [],
   "source": [
    "# Make a spatial join\n",
    "join = gpd.sjoin(addresses, pop, how=\"inner\", predicate=\"within\")"
   ]
  },
  {
   "cell_type": "code",
   "execution_count": 16,
   "id": "07012ea2",
   "metadata": {},
   "outputs": [
    {
     "data": {
      "text/html": [
       "<div>\n",
       "<style scoped>\n",
       "    .dataframe tbody tr th:only-of-type {\n",
       "        vertical-align: middle;\n",
       "    }\n",
       "\n",
       "    .dataframe tbody tr th {\n",
       "        vertical-align: top;\n",
       "    }\n",
       "\n",
       "    .dataframe thead th {\n",
       "        text-align: right;\n",
       "    }\n",
       "</style>\n",
       "<table border=\"1\" class=\"dataframe\">\n",
       "  <thead>\n",
       "    <tr style=\"text-align: right;\">\n",
       "      <th></th>\n",
       "      <th>address</th>\n",
       "      <th>id</th>\n",
       "      <th>addr</th>\n",
       "      <th>geometry</th>\n",
       "      <th>index_right</th>\n",
       "      <th>pop18</th>\n",
       "    </tr>\n",
       "  </thead>\n",
       "  <tbody>\n",
       "    <tr>\n",
       "      <th>0</th>\n",
       "      <td>Ruoholahti, 14, Itämerenkatu, Ruoholahti, Läns...</td>\n",
       "      <td>1000</td>\n",
       "      <td>Itämerenkatu 14, 00101 Helsinki, Finland</td>\n",
       "      <td>POINT (25495311.608 6672258.695)</td>\n",
       "      <td>3252</td>\n",
       "      <td>515</td>\n",
       "    </tr>\n",
       "    <tr>\n",
       "      <th>1</th>\n",
       "      <td>Kamppi, 1, Kampinkuja, Kamppi, Eteläinen suurp...</td>\n",
       "      <td>1001</td>\n",
       "      <td>Kampinkuja 1, 00100 Helsinki, Finland</td>\n",
       "      <td>POINT (25496206.216 6672909.016)</td>\n",
       "      <td>3364</td>\n",
       "      <td>182</td>\n",
       "    </tr>\n",
       "    <tr>\n",
       "      <th>2</th>\n",
       "      <td>Bangkok9, 8, Kaivokatu, Keskusta, Kluuvi, Etel...</td>\n",
       "      <td>1002</td>\n",
       "      <td>Kaivokatu 8, 00101 Helsinki, Finland</td>\n",
       "      <td>POINT (25496762.723 6673010.538)</td>\n",
       "      <td>3488</td>\n",
       "      <td>38</td>\n",
       "    </tr>\n",
       "    <tr>\n",
       "      <th>10</th>\n",
       "      <td>Rautatientori, Kaisaniemi, Kluuvi, Eteläinen s...</td>\n",
       "      <td>1011</td>\n",
       "      <td>Rautatientori 1, 00100 Helsinki, Finland</td>\n",
       "      <td>POINT (25496896.718 6673162.114)</td>\n",
       "      <td>3488</td>\n",
       "      <td>38</td>\n",
       "    </tr>\n",
       "    <tr>\n",
       "      <th>3</th>\n",
       "      <td>Hermannin rantatie, Verkkosaari, Kalasatama, S...</td>\n",
       "      <td>1003</td>\n",
       "      <td>Hermannin rantatie 1, 00580 Helsinki, Finland</td>\n",
       "      <td>POINT (25498815.415 6675246.744)</td>\n",
       "      <td>3822</td>\n",
       "      <td>61</td>\n",
       "    </tr>\n",
       "  </tbody>\n",
       "</table>\n",
       "</div>"
      ],
      "text/plain": [
       "                                              address    id  \\\n",
       "0   Ruoholahti, 14, Itämerenkatu, Ruoholahti, Läns...  1000   \n",
       "1   Kamppi, 1, Kampinkuja, Kamppi, Eteläinen suurp...  1001   \n",
       "2   Bangkok9, 8, Kaivokatu, Keskusta, Kluuvi, Etel...  1002   \n",
       "10  Rautatientori, Kaisaniemi, Kluuvi, Eteläinen s...  1011   \n",
       "3   Hermannin rantatie, Verkkosaari, Kalasatama, S...  1003   \n",
       "\n",
       "                                             addr  \\\n",
       "0        Itämerenkatu 14, 00101 Helsinki, Finland   \n",
       "1           Kampinkuja 1, 00100 Helsinki, Finland   \n",
       "2            Kaivokatu 8, 00101 Helsinki, Finland   \n",
       "10       Rautatientori 1, 00100 Helsinki, Finland   \n",
       "3   Hermannin rantatie 1, 00580 Helsinki, Finland   \n",
       "\n",
       "                            geometry  index_right  pop18  \n",
       "0   POINT (25495311.608 6672258.695)         3252    515  \n",
       "1   POINT (25496206.216 6672909.016)         3364    182  \n",
       "2   POINT (25496762.723 6673010.538)         3488     38  \n",
       "10  POINT (25496896.718 6673162.114)         3488     38  \n",
       "3   POINT (25498815.415 6675246.744)         3822     61  "
      ]
     },
     "execution_count": 16,
     "metadata": {},
     "output_type": "execute_result"
    }
   ],
   "source": [
    "join.head()"
   ]
  },
  {
   "cell_type": "markdown",
   "id": "4e360109",
   "metadata": {},
   "source": [
    "Awesome! Now we have performed a successful spatial join where we got\n",
    "two new columns into our ``join`` GeoDataFrame, i.e. ``index_right``\n",
    "that tells the index of the matching polygon in the population grid and\n",
    "``pop18`` which is the population in the cell where the address-point is\n",
    "located.\n",
    "\n",
    "- Let's still check how many rows of data we have now:"
   ]
  },
  {
   "cell_type": "code",
   "execution_count": 17,
   "id": "514abd72",
   "metadata": {},
   "outputs": [
    {
     "data": {
      "text/plain": [
       "31"
      ]
     },
     "execution_count": 17,
     "metadata": {},
     "output_type": "execute_result"
    }
   ],
   "source": [
    "len(join)"
   ]
  },
  {
   "cell_type": "markdown",
   "id": "1de6cb2a",
   "metadata": {},
   "source": [
    "Did we lose some data here? \n",
    "\n",
    "- Check how many addresses we had originally:"
   ]
  },
  {
   "cell_type": "code",
   "execution_count": 18,
   "id": "8cbcacb5",
   "metadata": {},
   "outputs": [
    {
     "data": {
      "text/plain": [
       "34"
      ]
     },
     "execution_count": 18,
     "metadata": {},
     "output_type": "execute_result"
    }
   ],
   "source": [
    "len(addresses)"
   ]
  },
  {
   "cell_type": "markdown",
   "id": "c7891a4a",
   "metadata": {},
   "source": [
    "If we plot the layers on top of each other, we can observe that some of the points are located outside the populated grid squares (increase figure size if you can't see this properly!)"
   ]
  },
  {
   "cell_type": "code",
   "execution_count": 19,
   "id": "b864ade2",
   "metadata": {},
   "outputs": [
    {
     "data": {
      "text/plain": [
       "<AxesSubplot: >"
      ]
     },
     "execution_count": 19,
     "metadata": {},
     "output_type": "execute_result"
    },
    {
     "data": {
      "image/png": "[encoded data removed]",
      "text/plain": [
       "<Figure size 1500x800 with 1 Axes>"
      ]
     },
     "metadata": {},
     "output_type": "display_data"
    }
   ],
   "source": [
    "import matplotlib.pyplot as plt\n",
    "\n",
    "# Create a figure with one subplot\n",
    "fig, ax = plt.subplots(figsize=(15, 8))\n",
    "\n",
    "# Plot population grid\n",
    "pop.plot(ax=ax)\n",
    "\n",
    "# Plot points\n",
    "addresses.plot(ax=ax, color=\"red\", markersize=5)"
   ]
  },
  {
   "cell_type": "markdown",
   "id": "32d911cf",
   "metadata": {},
   "source": [
    "_**Figure 6.34**. ADD PROPER FIGURE CAPTION!._\n",
    "\n",
    "Let's also visualize the joined output:"
   ]
  },
  {
   "cell_type": "markdown",
   "id": "20dffa6a",
   "metadata": {},
   "source": [
    "Plot the points and use the ``pop18`` column to indicate the color.\n",
    "   ``cmap`` -parameter tells to use a sequential colormap for the\n",
    "   values, ``markersize`` adjusts the size of a point, ``scheme`` parameter can be used to adjust the classification method based on [pysal](http://pysal.readthedocs.io/en/latest/library/esda/mapclassify.html), and ``legend`` tells that we want to have a legend:\n"
   ]
  },
  {
   "cell_type": "code",
   "execution_count": 20,
   "id": "32ec86d1",
   "metadata": {},
   "outputs": [
    {
     "data": {
      "image/png": "[encoded data removed]",
      "text/plain": [
       "<Figure size 1000x600 with 1 Axes>"
      ]
     },
     "metadata": {},
     "output_type": "display_data"
    }
   ],
   "source": [
    "# Create a figure with one subplot\n",
    "fig, ax = plt.subplots(figsize=(10, 6))\n",
    "\n",
    "# Plot the points with population info\n",
    "join.plot(\n",
    "    ax=ax, column=\"pop18\", cmap=\"Reds\", markersize=15, scheme=\"quantiles\", legend=True\n",
    ")\n",
    "\n",
    "# Add title\n",
    "plt.title(\"Amount of inhabitants living close the the point\")\n",
    "\n",
    "# Remove white space around the figure\n",
    "plt.tight_layout()"
   ]
  },
  {
   "cell_type": "markdown",
   "id": "fd3305dc",
   "metadata": {},
   "source": [
    "_**Figure 6.35**. ADD PROPER FIGURE CAPTION!._\n",
    "\n",
    "In a similar way, we can plot the original population grid and check the overall population distribution in Helsinki:"
   ]
  },
  {
   "cell_type": "code",
   "execution_count": 21,
   "id": "85fe80b4",
   "metadata": {},
   "outputs": [
    {
     "data": {
      "image/png": "[encoded data removed]",
      "text/plain": [
       "<Figure size 1000x600 with 1 Axes>"
      ]
     },
     "metadata": {},
     "output_type": "display_data"
    }
   ],
   "source": [
    "# Create a figure with one subplot\n",
    "fig, ax = plt.subplots(figsize=(10, 6))\n",
    "\n",
    "# Plot the grid with population info\n",
    "pop.plot(ax=ax, column=\"pop18\", cmap=\"Reds\", scheme=\"quantiles\", legend=True)\n",
    "\n",
    "# Add title\n",
    "plt.title(\"Population 2018 in 250 x 250 m grid squares\")\n",
    "\n",
    "# Remove white space around the figure\n",
    "plt.tight_layout()"
   ]
  },
  {
   "cell_type": "markdown",
   "id": "0cab70a1",
   "metadata": {},
   "source": [
    "_**Figure 6.36**. ADD PROPER FIGURE CAPTION!._\n",
    "\n",
    "Finally, let's save the result point layer into a file:"
   ]
  },
  {
   "cell_type": "code",
   "execution_count": 22,
   "id": "86f990b4",
   "metadata": {},
   "outputs": [
    {
     "name": "stderr",
     "output_type": "stream",
     "text": [
      "/var/folders/lp/cjwc88bd3w10sg327y_4ghg0fsk7jj/T/ipykernel_88124/1364550869.py:5: UserWarning: Column names longer than 10 characters will be truncated when saved to ESRI Shapefile.\n",
      "  join.to_file(outfp)\n"
     ]
    }
   ],
   "source": [
    "# Output path\n",
    "outfp = \"data/Helsinki/addresses_population.shp\"\n",
    "\n",
    "# Save to disk\n",
    "join.to_file(outfp)"
   ]
  },
  {
   "cell_type": "markdown",
   "id": "5ce23d41",
   "metadata": {},
   "source": [
    "## Spatial join nearest\n",
    "\n",
    "ADD Materials"
   ]
  }
 ],
 "metadata": {
  "kernelspec": {
   "display_name": "Python 3 (ipykernel)",
   "language": "python",
   "name": "python3"
  },
  "language_info": {
   "codemirror_mode": {
    "name": "ipython",
    "version": 3
   },
   "file_extension": ".py",
   "mimetype": "text/x-python",
   "name": "python",
   "nbconvert_exporter": "python",
   "pygments_lexer": "ipython3",
   "version": "3.11.5"
  }
 },
 "nbformat": 4,
 "nbformat_minor": 5
}
