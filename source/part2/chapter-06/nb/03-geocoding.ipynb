{
 "cells": [
  {
   "cell_type": "markdown",
   "id": "c1c1b23a",
   "metadata": {},
   "source": [
    "# Geocoding\n",
    "\n",
    "Geocoding is the process of transforming place names or addresses into coordinates. In this section we will learn how to geocode addresses using `geopandas` and [geopy](https://geopy.readthedocs.io/en/stable/) [^geopy].\n",
    "\n",
    "Geopy and other geocoding libaries (such as [geocoder](http://geocoder.readthedocs.io/)) make it easy to locate the coordinates of addresses, cities, countries, and landmarks across the globe using web services (\"geocoders\"). In practice, geocoders are often *{term}`Application Programming Interfaces (APIs) <API>`* where you can send requests, and receive responses in the form of place names, addresses and coordinates. Geopy offers access to several geocoding services, such as [Photon](https://photon.komoot.io/]) [^photon] and [Nominatim](https://nominatim.org/) [^nominatim] that rely on data from OpenStreetMap, among various other services. Check the [geopy documentation](https://geopy.readthedocs.io/en/stable/) [^geopy] for more a list of supported geocoding services and usage details.\n",
    "\n",
    "Geocoding services might require an API key in order to use them. (i.e. you\n",
    "need to register for the service before you can access results from their API).\n",
    "Furthermore, rate limiting also restrict the use of these services. The\n",
    "geocoding process might end up in an error if you are making too many requests\n",
    "in a short time period (eg.  trying to geocode large number of addresses). If you pay for the geocoding service, you can naturally make more requests to the\n",
    "API.\n",
    "\n",
    "In this lesson we will use the Nominatim geocoder for locating a relatively\n",
    "small number of addresses. \n",
    "\n",
    "It is important to pay attention to the geocoding providers' Terms of Use. For example, the Nominatim API is not meant for super heavy use. Nominatim doesn't require the use of an API key, but the usage of the Nominatim service is rate-limited to 1 request per second (3600 / hour). Users also need to provide an identifier for their application, and give appropriate attribution to using OpenStreetMap data. You can read more about Nominatim usage policy in [here](https://operations.osmfoundation.org/policies/nominatim/) [^nominatim_toc]. When using Nominatim via `geopandas` and `geopy`, we can specify a custom a custom `user_agent` parameter to idenfy our application, and we can add a `timeout` to allow enough time to get the response from the service. \n",
    "\n"
   ]
  },
  {
   "cell_type": "markdown",
   "id": "758885c5",
   "metadata": {},
   "source": [
    "### Geocoding addresses\n",
    "\n",
    "We will geocode addresses stored in a text file called `addresses.txt`. These addresses are located in the Helsinki Region in Southern Finland. The first rows of the data look like this:\n",
    "\n",
    "```\n",
    "id;addr\n",
    "1000;Itämerenkatu 14, 00101 Helsinki, Finland\n",
    "1001;Kampinkuja 1, 00100 Helsinki, Finland\n",
    "1002;Kaivokatu 8, 00101 Helsinki, Finland\n",
    "1003;Hermannin rantatie 1, 00580 Helsinki, Finland\n",
    "```\n",
    "\n",
    "We have an `id` for each row and an address on column `addr`. Let's first read the data into a pandas DataFrame using the `read_csv()` -function."
   ]
  },
  {
   "cell_type": "code",
   "execution_count": null,
   "id": "9ef04b32",
   "metadata": {
    "deletable": true,
    "editable": true
   },
   "outputs": [],
   "source": [
    "# Import necessary modules\n",
    "import pandas as pd\n",
    "import geopandas as gpd\n",
    "from shapely.geometry import Point\n",
    "\n",
    "# Filepath\n",
    "fp = r\"../data/Helsinki/addresses.txt\"\n",
    "\n",
    "# Read the data\n",
    "data = pd.read_csv(fp, sep=\";\")"
   ]
  },
  {
   "cell_type": "markdown",
   "id": "4f1637b9",
   "metadata": {},
   "source": [
    "Let's check that we imported the file correctly."
   ]
  },
  {
   "cell_type": "code",
   "execution_count": null,
   "id": "26cefaee",
   "metadata": {},
   "outputs": [],
   "source": [
    "len(data)"
   ]
  },
  {
   "cell_type": "code",
   "execution_count": null,
   "id": "43b627a2",
   "metadata": {
    "collapsed": false,
    "deletable": true,
    "editable": true,
    "jupyter": {
     "outputs_hidden": false
    }
   },
   "outputs": [],
   "source": [
    "data.head()"
   ]
  },
  {
   "cell_type": "markdown",
   "id": "96e7a69d",
   "metadata": {
    "deletable": true,
    "editable": true
   },
   "source": [
    "Now we have our data in a `DataFrame` and we can geocode our addresses using the the geocoding function in `geopandas` that uses `geopy` package in the background. The function geocodes a list of addresses (strings) and return a `GeoDataFrame` containing the resulting point objects in ``geometry`` column. \n",
    "\n",
    "Here we import the geocoding function and geocode the addresses (column `addr`) using Nominatim. Note that we need to provide a custom string (name of your application) in the `user_agent` parameter. We can also add the `timeout`-parameter to specifies how many seconds to wait for a response from the service."
   ]
  },
  {
   "cell_type": "code",
   "execution_count": null,
   "id": "0b15c23a",
   "metadata": {
    "collapsed": false,
    "deletable": true,
    "editable": true,
    "jupyter": {
     "outputs_hidden": false
    }
   },
   "outputs": [],
   "source": [
    "# Import the geocoding tool\n",
    "from geopandas.tools import geocode\n",
    "\n",
    "# Geocode addresses using Nominatim. \n",
    "# You can provide your own\n",
    "geo = geocode(data[\"addr\"], \n",
    "              provider=\"nominatim\", \n",
    "              user_agent=\"pythongis_book\", \n",
    "              timeout=4)"
   ]
  },
  {
   "cell_type": "code",
   "execution_count": null,
   "id": "00c484e9",
   "metadata": {},
   "outputs": [],
   "source": [
    "geo.head()"
   ]
  },
  {
   "cell_type": "markdown",
   "id": "3f06f174",
   "metadata": {
    "deletable": true,
    "editable": true,
    "lines_to_next_cell": 0
   },
   "source": [
    "And Voilà! As a result we have a GeoDataFrame that contains an `address`-column containing the geocoded addresses and a `geometry` column containing `Point`-objects representing the geographic locations of the addresses. Notice that these addresses are given However, the ``id`` column is not there. Thus, we need to join the\n",
    "information from ``data`` into our new GeoDataFrame ``geo``, thus making\n",
    "a Table Join."
   ]
  },
  {
   "cell_type": "markdown",
   "id": "c71be8c4",
   "metadata": {},
   "source": [
    "\n"
   ]
  },
  {
   "cell_type": "markdown",
   "id": "f618d908",
   "metadata": {},
   "source": [
    "<div class=\"alert alert-info\">\n",
    "\n",
    "**Rate-limiting**\n",
    "\n",
    "When geocoding a large dataframe, you might encounter an error when geocoding. In case you get a time out error, try first using the `timeout` parameter as we did above (allow the service a bit more time to respond). In case of Too Many Requests error, you have hit the rate-limit of the service, and you should slow down your requests. To our convenience, geopy provides additional tools for taking into account rate limits in geocoding services. This script adapts the usage of [geopy RateLimiter](https://geopy.readthedocs.io/en/stable/#geopy.extra.rate_limiter.RateLimiter) to our input data:\n",
    "\n",
    "```\n",
    "from geopy.geocoders import Nominatim\n",
    "from geopy.extra.rate_limiter import RateLimiter\n",
    "from shapely.geometry import Point\n",
    "\n",
    "# Initiate geocoder\n",
    "geolocator = Nominatim(user_agent='autogis_xx')\n",
    "\n",
    "# Create a geopy rate limiter:\n",
    "geocode_with_delay = RateLimiter(geolocator.geocode, min_delay_seconds=1)\n",
    "\n",
    "# Apply the geocoder with delay using the rate limiter:\n",
    "data['temp'] = data['addr'].apply(geocode_with_delay)\n",
    "\n",
    "# Get point coordinates from the GeoPy location object on each row:\n",
    "data[\"coords\"] = data['temp'].apply(lambda loc: tuple(loc.point) if loc else None)\n",
    "\n",
    "# Create shapely point objects to geometry column:\n",
    "data[\"geometry\"] = data[\"coords\"].apply(Point)\n",
    "```\n",
    "All in all, remember that \n",
    "</div>"
   ]
  },
  {
   "cell_type": "markdown",
   "id": "197cb0f0",
   "metadata": {},
   "source": [
    "Now it is easy to save our address points into a Shapefile"
   ]
  },
  {
   "cell_type": "code",
   "execution_count": null,
   "id": "e8ed64c9",
   "metadata": {
    "deletable": true,
    "editable": true
   },
   "outputs": [],
   "source": [
    "# Output file path\n",
    "outfp = r\"../data/Results/addresses.shp\"\n",
    "\n",
    "# Save to Shapefile\n",
    "join.to_file(outfp)"
   ]
  },
  {
   "cell_type": "markdown",
   "id": "772198fc",
   "metadata": {
    "deletable": true,
    "editable": true
   },
   "source": [
    "That's it. Now we have successfully geocoded those addresses into Points\n",
    "and made a Shapefile out of them. Easy isn't it!"
   ]
  },
  {
   "cell_type": "markdown",
   "id": "c6a3774c",
   "metadata": {
    "deletable": true,
    "editable": true
   },
   "source": [
    "Nominatim works relatively nicely if you have well defined and well-known addresses such as the ones that we used in this tutorial. In practice, the address needs to exist in the OpenStreetMap database. Sometimes, however, you might want to geocode a \"point-of-interest\", such as a museum, only based on it's name. If the museum name is not on OpenStreetMap, Nominatim won't provide any results for it, but you might be able to geocode the place using some other geocoder."
   ]
  },
  {
   "cell_type": "markdown",
   "id": "31b5bd2d",
   "metadata": {},
   "source": [
    "## Footnotes\n",
    "\n",
    "[^shp]: <https://en.wikipedia.org/wiki/Shapefile> \n",
    "[^GeoJson]: <https://en.wikipedia.org/wiki/GeoJSON>\n",
    "[^geopy]: <https://geopy.readthedocs.io/en/stable/>\n",
    "[^GPKG]: <https://en.wikipedia.org/wiki/GeoPackage>\n",
    "[^KML]: <https://en.wikipedia.org/wiki/Keyhole_Markup_Language> \n",
    "[^nominatim]: <https://nominatim.org/>\n",
    "[^nominatim_toc]: <https://operations.osmfoundation.org/policies/nominatim/>\n",
    "[^photon]: <https://photon.komoot.io/>"
   ]
  }
 ],
 "metadata": {
  "kernelspec": {
   "display_name": "Python 3 (ipykernel)",
   "language": "python",
   "name": "python3"
  },
  "language_info": {
   "codemirror_mode": {
    "name": "ipython",
    "version": 3
   },
   "file_extension": ".py",
   "mimetype": "text/x-python",
   "name": "python",
   "nbconvert_exporter": "python",
   "pygments_lexer": "ipython3",
   "version": "3.10.9"
  }
 },
 "nbformat": 4,
 "nbformat_minor": 5
}
