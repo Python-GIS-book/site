{
 "cells": [
  {
   "cell_type": "markdown",
   "id": "4b527591",
   "metadata": {},
   "source": [
    "# Working with Map Projections"
   ]
  },
  {
   "cell_type": "markdown",
   "id": "89e3ff8a",
   "metadata": {},
   "source": [
    "## Managing Coordinate Reference Systems in Python\n",
    "\n",
    "In Chapter 5, we learned how the Coordinate Reference System (CRS) ultimately describes how geometries are related to the places on Earth and what are the core components of a CRS. Our main tool for managing coordinate reference systems is the [PROJ library](https://proj.org/) [^proj] which can be used through the [pyproj Python library](https://pyproj4.github.io/pyproj/stable/) [^pyproj]. `Pyproj` can be used to access the CRS information of a given geographic dataset and also for reprojecting the data from one coordinate system to another. In the following, we will demonstrate how to work with coordinate reference systems in `geopandas` by using a country border dataset from Europe. We will reproject the dataset from the original WGS84 coordinate system into a Lambert Azimuthal Equal Area projection which is the projection EU [recommends for Europe](http://mapref.org/LinkedDocuments/MapProjectionsForEurope-EUR-20120.pdf) [^EU_projection].\n",
    "\n",
    "Let's start by reading the data from the `eu_countries_2022.gpkg` file. When reading the data into `GeoDataFrame` with `geopandas`, the CRS information is automatically read from the datafile and stored into the `.crs` attribute:"
   ]
  },
  {
   "cell_type": "code",
   "execution_count": 4,
   "id": "78765e3a",
   "metadata": {},
   "outputs": [
    {
     "name": "stdout",
     "output_type": "stream",
     "text": [
      "<class 'pyproj.crs.crs.CRS'>\n"
     ]
    },
    {
     "data": {
      "text/plain": [
       "<Geographic 2D CRS: EPSG:4326>\n",
       "Name: WGS 84\n",
       "Axis Info [ellipsoidal]:\n",
       "- Lat[north]: Geodetic latitude (degree)\n",
       "- Lon[east]: Geodetic longitude (degree)\n",
       "Area of Use:\n",
       "- name: World.\n",
       "- bounds: (-180.0, -90.0, 180.0, 90.0)\n",
       "Datum: World Geodetic System 1984 ensemble\n",
       "- Ellipsoid: WGS 84\n",
       "- Prime Meridian: Greenwich"
      ]
     },
     "execution_count": 4,
     "metadata": {},
     "output_type": "execute_result"
    }
   ],
   "source": [
    "import geopandas as gpd\n",
    "\n",
    "# Read the file\n",
    "fp = \"data/EU_countries/eu_countries_2022.gpkg\"\n",
    "data = gpd.read_file(fp)\n",
    "\n",
    "# What is the type?\n",
    "print(type(data.crs))\n",
    "\n",
    "# Check the coordinate reference system information\n",
    "data.crs"
   ]
  },
  {
   "cell_type": "markdown",
   "id": "418b9da5",
   "metadata": {},
   "source": [
    "What `geopandas` returns here is in fact a CRS object from the `pyproj` library. The EPSG code of our data is `4326` which refers to the WGS84 coordinate system. You will encounter this EPSG-code frequenctly in the geospatial world as it is perhaps the most commonly used coordinate reference system in the world. As we learned earlier, the EPSG number is an identification code that tells which is the coordinate system of a given dataset. In this case, we could also guess the probable CRS by looking at the coordinates values in the `geometry` column which are longitude and latitudes decimal degrees:"
   ]
  },
  {
   "cell_type": "code",
   "execution_count": 5,
   "id": "2e864d44",
   "metadata": {},
   "outputs": [
    {
     "data": {
      "text/plain": [
       "0    MULTIPOLYGON (((13.68400 46.43750, 13.51100 46...\n",
       "1    MULTIPOLYGON (((6.31560 50.49700, 6.40500 50.3...\n",
       "2    MULTIPOLYGON (((28.49800 43.43410, 28.06020 43...\n",
       "3    MULTIPOLYGON (((16.94980 48.53580, 16.85110 48...\n",
       "4    MULTIPOLYGON (((32.94170 34.64180, 32.55900 34...\n",
       "Name: geometry, dtype: geometry"
      ]
     },
     "execution_count": 5,
     "metadata": {},
     "output_type": "execute_result"
    }
   ],
   "source": [
    "data[\"geometry\"].head()"
   ]
  },
  {
   "cell_type": "markdown",
   "id": "704d5e91",
   "metadata": {},
   "source": [
    "As we can see, the coordinate values of the Polygons indeed look like {term}`decimal degrees`, so everything seems to be in order. WGS84 is not really a good coordinate system for representing European borders on a map because the areas get distorted. Hence, it is a good idea to convert these geometries into [Lambert Azimuthal Equal Area projection](http://spatialreference.org/ref/epsg/etrs89-etrs-laea/) [^LAEA] (EPSG:3035) which is a good option for creating maps with country-level data in Europe.\n",
    "\n",
    "Changing from one coordinate system to another is a simple task to do in `geopandas`, as we can use the `.to_crs()` -method which is a built-in function of the GeoDataFrame. The function has two alternative parameters 1) `crs` and 2) `epgs` that can be used to make the coordinate transformation and re-project the data into the CRS that you want to use. \n",
    "\n",
    "- Let's re-project our data into `EPSG 3035` using `epsg` -parameter:"
   ]
  },
  {
   "cell_type": "code",
   "execution_count": null,
   "id": "0f93a555",
   "metadata": {},
   "outputs": [],
   "source": [
    "# Let's make a backup copy of our data\n",
    "data_wgs84 = data.copy()\n",
    "\n",
    "# Reproject the data\n",
    "data = data.to_crs(epsg=3035)"
   ]
  },
  {
   "cell_type": "code",
   "execution_count": null,
   "id": "926795b1",
   "metadata": {},
   "outputs": [],
   "source": [
    "# Check the new geometry values\n",
    "data[\"geometry\"].head()"
   ]
  },
  {
   "cell_type": "markdown",
   "id": "10adeb3c",
   "metadata": {},
   "source": [
    "And here we go, the coordinate values in the geometries have changed! Now we have successfully changed the projection of our layer into a new one, i.e. to `ETRS-LAEA` projection. \n",
    "\n",
    "To really understand what is going on, it is good to explore our data visually. Let's compare the datasets by making\n",
    "maps out of them.\n"
   ]
  },
  {
   "cell_type": "code",
   "execution_count": null,
   "id": "abe4563b",
   "metadata": {},
   "outputs": [],
   "source": [
    "data_wgs84.crs"
   ]
  },
  {
   "cell_type": "code",
   "execution_count": null,
   "id": "195efbbe",
   "metadata": {},
   "outputs": [],
   "source": [
    "import matplotlib.pyplot as plt\n",
    "\n",
    "# Make subplots that are next to each other\n",
    "fig, (ax1, ax2) = plt.subplots(nrows=1, ncols=2, figsize=(12, 12))\n",
    "\n",
    "# Plot the data in WGS84 CRS\n",
    "data_wgs84.plot(ax=ax1, facecolor=\"gray\")\n",
    "\n",
    "# Add title\n",
    "ax1.set_title(\"WGS84\")\n",
    "\n",
    "# Plot the one with ETRS-LAEA projection\n",
    "data.plot(ax=ax2, facecolor=\"blue\")\n",
    "\n",
    "# Add title\n",
    "ax2.set_title(\"ETRS Lambert Azimuthal Equal Area projection\")\n",
    "\n",
    "# Set aspect ratio as 1\n",
    "ax1.set_aspect(aspect=1)\n",
    "ax2.set_aspect(aspect=1)\n",
    "\n",
    "# Remove empty white space around the plot\n",
    "plt.tight_layout()"
   ]
  },
  {
   "cell_type": "markdown",
   "id": "5d7e7a84",
   "metadata": {},
   "source": [
    "_**Figure 6.X**. Map of Europe plotted with two different coordinate reference systems._\n",
    "\n",
    "Indeed, the maps look quite different, and the re-projected one looks much better in Europe as the areas especially in the north are more realistic and not so stretched as in WGS84.\n",
    "\n",
    "Finally, let's save our projected layer into a Shapefile so that we can use it later. Note, even if the crs information is stored in the .prj file, it might be a good idea also to include crs info in the filename:"
   ]
  },
  {
   "cell_type": "code",
   "execution_count": null,
   "id": "13b878af",
   "metadata": {},
   "outputs": [],
   "source": [
    "# Ouput filepath\n",
    "outfp = \"L2_data/Europe_borders_epsg3035.shp\"\n",
    "\n",
    "# Save to disk\n",
    "data.to_file(outfp)"
   ]
  },
  {
   "cell_type": "markdown",
   "id": "c3677e83",
   "metadata": {},
   "source": [
    "## Dealing with different CRS formats"
   ]
  },
  {
   "cell_type": "markdown",
   "id": "cf1d9ff1",
   "metadata": {},
   "source": [
    "There are various ways to present Coordinate Reference System information, such as [PROJ strings](https://proj.org/usage/quickstart.html), `EPSG codes`, `Well-Known-Text (WKT)`, `JSON`. It is likely that you will encounter some of these when working with spatial data obtained from different sources. Being able to convert the CRS information from one format to another is needed every now and then, hence, it is useful to know a few tricks how to do this.\n",
    "\n",
    "Luckily, dealing with CRS information is easy in Python using the [pyproj](https://pyproj4.github.io/pyproj/stable/) library. In fact, `pyproj` is a Python wrapper around a software called [PROJ](https://proj.org/) (maintained by [OSGeo](https://www.osgeo.org/) community), which is widely used tool for conducting coordinate transformations in various GIS softwares. `Pyproj` is also used under the hood in Geopandas, and it handles all the CRS definitions and coordinate transformations (reprojecting from CRS to another as we did earlier). \n",
    "\n",
    "As the CRS in different spatial datasets differ fairly often (i.e. one might have coordinates defined in decimal degrees while the other one has them in meters), it is a common procedure to reproject (transform) different layers into a common CRS. It is important that the layers are in the same coordinate reference system when analyzing the spatial relationships between the layers, for example, when making a Point in Polygon -query, or other type of overlay analysis."
   ]
  },
  {
   "cell_type": "markdown",
   "id": "c2cdbaeb",
   "metadata": {},
   "source": [
    "### Overview\n",
    "\n",
    "The following code cell prints out a summary summary of different ways of representing crs information using pyproj CRS. Here, we use the crs of the original European borders layer as a starting point:"
   ]
  },
  {
   "cell_type": "code",
   "execution_count": null,
   "id": "d791c44f",
   "metadata": {},
   "outputs": [],
   "source": [
    "### Import CRS class from pyproj\n",
    "from pyproj import CRS"
   ]
  },
  {
   "cell_type": "code",
   "execution_count": null,
   "id": "81b626fb",
   "metadata": {},
   "outputs": [],
   "source": [
    "# PROJ dictionary:\n",
    "crs_dict = data_wgs84.crs\n",
    "\n",
    "# pyproj CRS object:\n",
    "crs_object = CRS(data_wgs84.crs)\n",
    "\n",
    "# EPSG code (here, the input crs information is a bit vague so we need to lower the confidence threshold)\n",
    "crs_epsg = CRS(data_wgs84.crs).to_epsg(min_confidence=25)\n",
    "\n",
    "# PROJ string\n",
    "crs_proj4 = CRS(data_wgs84.crs).to_proj4()\n",
    "\n",
    "# Well-Known Text (WKT)\n",
    "crs_wkt = CRS(data_wgs84.crs).to_wkt()"
   ]
  },
  {
   "cell_type": "code",
   "execution_count": null,
   "id": "a07f0ba6",
   "metadata": {},
   "outputs": [],
   "source": [
    "print(\"PROJ dictionary:\\n\", crs_dict)\n",
    "print(\"\\nCRS object:\\n\", crs_object)\n",
    "print(\"\\nEPSG code: \\n\", crs_epsg)\n",
    "print(\"\\nPROJ string: \\n\", crs_proj4)\n",
    "print(\"\\nWell-Known Text (WKT):\\n\", crs_wkt)"
   ]
  },
  {
   "cell_type": "markdown",
   "id": "89b50c23",
   "metadata": {},
   "source": [
    "### Pyproj CRS object\n",
    "\n",
    "Next, let's see how it is possible to easily extract useful information from CRS, and transform CRS information from format to another. `pyproj` -library has a [class](https://docs.python.org/3/tutorial/classes.html) called [CRS](https://pyproj4.github.io/pyproj/dev/api/crs.html) that provides many useful functionalities for dealing with CRS information."
   ]
  },
  {
   "cell_type": "code",
   "execution_count": null,
   "id": "4ccca951",
   "metadata": {},
   "outputs": [],
   "source": [
    "# Let's see the current CRS of our data\n",
    "print(data.crs)"
   ]
  },
  {
   "cell_type": "markdown",
   "id": "6298f386",
   "metadata": {},
   "source": [
    "Printing the crs using the print() statement gives us the EPSG code. \n",
    "\n",
    "However, let's see how the same information looks like in other formats such as `WKT` or `Proj4` text. For this we need to use the `CRS` class.  "
   ]
  },
  {
   "cell_type": "markdown",
   "id": "cb8cce0b",
   "metadata": {},
   "source": [
    "<div class=\"alert alert-info\">\n",
    "\n",
    "**Note**\n",
    "    \n",
    "The following examples have been tested to work with `pyproj` version `2.6.1` and `geopandas` version `0.8.1`. You can check package versions by running the `conda list` -command.\n",
    "   \n",
    "</div>"
   ]
  },
  {
   "cell_type": "code",
   "execution_count": null,
   "id": "97156cb1",
   "metadata": {},
   "outputs": [],
   "source": [
    "# Initialize the CRS class for epsg code 3035:\n",
    "crs_object = CRS.from_epsg(3035)\n",
    "crs_object"
   ]
  },
  {
   "cell_type": "markdown",
   "id": "27eaa1d9",
   "metadata": {},
   "source": [
    "As we can see, the `CRS` object contains a of information about the coordinate reference system such as the `Name` of the CRS (ETRS89/LAEA Europe), the `area` where the CRS is in use (*Europe* with bounds *(-16.1, 32.88, 40.18, 84.17)*), and the `Datum` (European Terrestrial Reference System 1989). \n",
    "\n",
    "We can also easily parse this information individually as follows: "
   ]
  },
  {
   "cell_type": "code",
   "execution_count": null,
   "id": "1a1af16f",
   "metadata": {},
   "outputs": [],
   "source": [
    "# Name\n",
    "print(\"Name:\", crs_object.name)\n",
    "\n",
    "# Coordinate system\n",
    "print(\"Coordinate system:\", crs_object.coordinate_system)\n",
    "\n",
    "# Bounds of the area where CRS is used\n",
    "print(\"Bounds:\", crs_object.area_of_use.bounds)"
   ]
  },
  {
   "cell_type": "markdown",
   "id": "c7933950",
   "metadata": {},
   "source": [
    "You can explore all the possible information that can be extracted from the CRS by typing `crs_object.` and pressing Tabulator. \n",
    "\n",
    "Let's see how we can convert the crs information from one format to another. Quite often it is useful to know the EPSG code of the CRS. Next, we will conduct a few transformations to demonstrate the capabilities of the `CRS` class."
   ]
  },
  {
   "cell_type": "code",
   "execution_count": null,
   "id": "f7bef0c8",
   "metadata": {},
   "outputs": [],
   "source": [
    "# Retrive CRS information in WKT format\n",
    "crs_wkt = crs_object.to_wkt()\n",
    "print(crs_wkt)"
   ]
  },
  {
   "cell_type": "markdown",
   "id": "b0ca65ba",
   "metadata": {},
   "source": [
    "As we can see, the `WKT` format contains a *lot* of information. Typically, e.g. the `.prj` file of a Shapefile contains the information in this format. Let's see how it is possible to extract `EPSG` code from this. For doing it, we need to re-initialize the CRS object, this time from the `WKT` text presentation.   "
   ]
  },
  {
   "cell_type": "code",
   "execution_count": null,
   "id": "efa959a8",
   "metadata": {},
   "outputs": [],
   "source": [
    "# Retrieve EPSG code from WKT text\n",
    "epsg = CRS(crs_wkt).to_epsg()\n",
    "print(epsg)"
   ]
  },
  {
   "cell_type": "markdown",
   "id": "b16ed133",
   "metadata": {},
   "source": [
    "<div class=\"alert alert-info\">\n",
    "\n",
    "**Not able to recognize epsg?**\n",
    "    \n",
    "Sometimes `to_epsg()` isn't able to recognize the EPSG code from the WKT representation. This can happen if the WKT information is missing some details. Luckily, we can easily adjust the minimum level of confidence for matching the CRS info and the EPSG code. We can do this by adjusting a parameter `min_confidence` when calling the function. By default, the confidence level is 70 %, but it is also possible to set a lower confidence threshold. \n",
    "    \n",
    "The coordinate information of our input shapefile is incomplete, and does not yield an epsg value with default setting: However, CRS is able to determine the EPSG value with a lower confidence treshold: \n",
    "    \n",
    "```\n",
    "# Let's try to extract the EPSG code from the crs of our original data:\n",
    "CRS(data.crs).to_epsg()\n",
    ">>> None\n",
    "    \n",
    "# Let's try it again with a lower confidence requirement (25 %)\n",
    "CRS(data.crs).to_epsg(min_confidence=25)\n",
    ">>> 3035\n",
    "```\n",
    "However, be cautious when using this, as guessing the EPSG from \"exotic\" coordinate reference systems might also provide false results. \n",
    "</div>"
   ]
  },
  {
   "cell_type": "markdown",
   "id": "c6f92347",
   "metadata": {},
   "source": [
    "Let's now save our data to disk using the `WKT` format as the crs of our GeoDataFrame. WKT is a [preferred output format](https://proj.org/faq.html#what-is-the-best-format-for-describing-coordinate-reference-systems) when storing crs information as text."
   ]
  },
  {
   "cell_type": "code",
   "execution_count": null,
   "id": "1c9f4b80",
   "metadata": {},
   "outputs": [],
   "source": [
    "# Re-define the CRS of the input GeoDataFrame\n",
    "data.crs = CRS.from_epsg(3035).to_wkt()"
   ]
  },
  {
   "cell_type": "code",
   "execution_count": null,
   "id": "c0792a12",
   "metadata": {},
   "outputs": [],
   "source": [
    "print(data.crs)"
   ]
  },
  {
   "cell_type": "code",
   "execution_count": null,
   "id": "13c7f8fc",
   "metadata": {},
   "outputs": [],
   "source": [
    "# Ouput filepath\n",
    "outfp = \"L2_data/Europe_borders_epsg3035.shp\"\n",
    "\n",
    "# Save to disk\n",
    "# data.to_file(outfp)"
   ]
  },
  {
   "cell_type": "markdown",
   "id": "e4966dc7",
   "metadata": {},
   "source": [
    "That's it. \n",
    "\n",
    "\n",
    "**HINT**: A module called [PyCRS](https://github.com/karimbahgat/PyCRS) can also be useful library as it contains information and supports many different coordinate reference definitions, such as OGC WKT (v1), ESRI WKT, Proj4, and any EPSG, ESRI, or SR-ORG code available from spatialreference.org."
   ]
  },
  {
   "cell_type": "markdown",
   "id": "b7d351f2",
   "metadata": {},
   "source": [
    "## Global map projections\n",
    "\n",
    "Finally, let's play around with global map projections :) `L2_data` folder conaints a layer `ne_110m_admin_0_countries.shp` that represents the country borders of the world. The data was fownloaded from https://www.naturalearthdata.com/. \n",
    "\n",
    "#### Check your understanding\n",
    "\n",
    "<div class=\"alert alert-info\">\n",
    "\n",
    "    \n",
    "Read in a global dataset and plot three maps with different projections! See hints and projection definitions from:\n",
    "    \n",
    "- http://geopandas.org/projections.html\n",
    "- https://pyproj4.github.io/pyproj/dev/api/crs.html\n",
    "- https://spatialreference.org/\n",
    "    \n",
    "When plotting the maps, think about the advantages and disadvantages of different world map projections.\n",
    "   \n",
    "</div>\n"
   ]
  },
  {
   "cell_type": "code",
   "execution_count": null,
   "id": "71884678",
   "metadata": {},
   "outputs": [],
   "source": [
    "# Read in data\n",
    "fp = \"L2_data/ne_110m_admin_0_countries/ne_110m_admin_0_countries.shp\"\n",
    "admin = gpd.read_file(fp)"
   ]
  },
  {
   "cell_type": "code",
   "execution_count": null,
   "id": "5044ee84",
   "metadata": {},
   "outputs": [],
   "source": [
    "# Check input crs\n",
    "admin.crs"
   ]
  },
  {
   "cell_type": "code",
   "execution_count": null,
   "id": "fc5acf90",
   "metadata": {},
   "outputs": [],
   "source": [
    "# Set fig size\n",
    "plt.rcParams[\"figure.figsize\"] = [12, 6]"
   ]
  },
  {
   "cell_type": "code",
   "execution_count": null,
   "id": "89624468",
   "metadata": {},
   "outputs": [],
   "source": [
    "# Plot in original crs\n",
    "admin.plot()\n",
    "plt.title(\"WGS84\")"
   ]
  },
  {
   "cell_type": "markdown",
   "id": "0cb1898b",
   "metadata": {},
   "source": [
    "_**Figure 6.X**. Global map plotted in WGS 84._"
   ]
  },
  {
   "cell_type": "code",
   "execution_count": null,
   "id": "18518ade",
   "metadata": {},
   "outputs": [],
   "source": [
    "# Define projection as web mercator, 3785\n",
    "web_mercator = CRS.from_epsg(3785)\n",
    "\n",
    "# Re-project and plot\n",
    "admin.to_crs(web_mercator).plot()\n",
    "\n",
    "# Remove x and y axis\n",
    "plt.axis(\"off\")\n",
    "plt.title(\"Web mercator\")"
   ]
  },
  {
   "cell_type": "markdown",
   "id": "758c0c5e",
   "metadata": {},
   "source": [
    "_**Figure 6.X**. Global map plotted in Web Mercator._"
   ]
  },
  {
   "cell_type": "markdown",
   "id": "10909ce3",
   "metadata": {},
   "source": [
    "_**Figure 6.X**. Global map plotted in Eckert IV._"
   ]
  },
  {
   "cell_type": "code",
   "execution_count": null,
   "id": "43fa6c42",
   "metadata": {},
   "outputs": [],
   "source": [
    "# Define an orthographic projection, centered in Finland! from: http://www.statsmapsnpix.com/2019/09/globe-projections-and-insets-in-qgis.html\n",
    "ortho = CRS.from_proj4(\n",
    "    \"+proj=ortho +lat_0=60.00 +lon_0=23.0000 +x_0=0 +y_0=0 +a=6370997 +b=6370997 +units=m +no_defs\"\n",
    ")\n",
    "\n",
    "# Re-project and plot\n",
    "admin.to_crs(ortho).plot()\n",
    "\n",
    "# Remove x and y axis\n",
    "plt.axis(\"off\")\n",
    "plt.title(\"Orthographic\")"
   ]
  },
  {
   "cell_type": "markdown",
   "id": "5e19482c",
   "metadata": {},
   "source": [
    "_**Figure 6.X**. Global map plotted in an orthographic projection._"
   ]
  },
  {
   "cell_type": "markdown",
   "id": "ec5cef4e",
   "metadata": {},
   "source": [
    "## Summary\n",
    "That's it! In this section we learned how to:\n",
    "\n",
    "1. reproject (transform) the geometries from crs to another using the `to_crs()` -function in GeoPandas\n",
    "2. Define the coordinate reference system in different formats using `pyproj` `CRS`"
   ]
  },
  {
   "cell_type": "markdown",
   "id": "834764c3",
   "metadata": {},
   "source": [
    "## Footnotes\n",
    "\n",
    "[^proj]: <https://proj.org/>\n",
    "[^pyproj]: <https://pyproj4.github.io/pyproj/stable/>\n",
    "[^EU_projection]: <http://mapref.org/LinkedDocuments/MapProjectionsForEurope-EUR-20120.pdf>\n",
    "[^LAEA]: <https://spatialreference.org/ref/epsg/etrs89-etrs-laea/>"
   ]
  }
 ],
 "metadata": {
  "kernelspec": {
   "display_name": "Python 3 (ipykernel)",
   "language": "python",
   "name": "python3"
  },
  "language_info": {
   "codemirror_mode": {
    "name": "ipython",
    "version": 3
   },
   "file_extension": ".py",
   "mimetype": "text/x-python",
   "name": "python",
   "nbconvert_exporter": "python",
   "pygments_lexer": "ipython3",
   "version": "3.10.9"
  }
 },
 "nbformat": 4,
 "nbformat_minor": 5
}
