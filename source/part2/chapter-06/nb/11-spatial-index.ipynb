{
 "cells": [
  {
   "cell_type": "markdown",
   "id": "5736c433",
   "metadata": {},
   "source": [
    "## Spatial index - How to boost spatial queries?\n",
    "\n",
    "While using the technique from previous examples produces correct results, it is in fact quite slow from performance point of view. Especially when having large datasets (quite typical nowadays), the point in polygon queries can become frustratingly slow, which can be a nerve-racking experience for a busy geo-data scientist. \n",
    "\n",
    "Luckily there is an easy and widely used solution called **spatial index** that can significantly boost the performance of your spatial queries. Various alternative techniques has been developed to boost spatial queries, but one of the most popular one and widely used is a spatial index based on [R-tree](https://en.wikipedia.org/wiki/R-tree) data structure. \n",
    "\n",
    "The core idea behind the **R-tree** is to form a tree-like data structure where nearby objects are grouped together, and their geographical extent (minimum bounding box) is inserted into the data structure (i.e. R-tree). This bounding box then represents the whole group of geometries as one level (typically called as \"page\" or \"node\") in the data structure. This process is repeated several times, which produces a tree-like structure where different levels are connected to each other. This structure makes the query times for finding a single object from the data much faster, as the algorithm does not need to travel through all geometries in the data. In the example below, we can see how the geometries have been grouped into several sub-groups (lower part of the picture) and inserted into a tree structure (upper part) where there exists two groups on the highest level (`R1` and `R2`), which are again grouped into five lower level groups (`R3-R7`):\n",
    "\n",
    "![Rtree](../img/Rtree-IBM.png)\n",
    "Simple example of an R-tree for 2D rectanges (source: [IBM](https://www.ibm.com/support/knowledgecenter/en/SSGU8G_11.50.0/com.ibm.rtree.doc/sii-overview-27706.htm))\n",
    "\n",
    "In the next tutorial we will learn how to significantly improve the query times for finding points that are within a given polygon. We will use data that represents all road intersections in the Uusimaa Region of Finland, and count the number of intersections on a postal code level. *Why would you do such a thing?*, well, one could for example try to understand the vitality of city blocks following [Jane Jacobs'](https://en.wikipedia.org/wiki/Jane_Jacobs) ideas. \n",
    "\n",
    "### Motivation\n",
    "\n",
    "As a motivation for counting intersections, we can use an example/theory from [Jane Jacobs'](https://en.wikipedia.org/wiki/Jane_Jacobs) classic book [\"The Death and Life of Great American Cities\"](https://en.wikipedia.org/wiki/The_Death_and_Life_of_Great_American_Cities) (1961), where she defines four requirements\n",
    "that makes a vital/vibrant city:\n",
    "\n",
    " 1. \"The district, and indeed as many of its internal parts as possible, must serve more than one primary function; preferably more than two. \n",
    "These must insure the presence of people who go outdoors on different schedules and are in the place for different purposes, \n",
    "but who are able to use many facilities in common.\" *(--> One could use e.g. OSM data to understand the diversity of services etc.)*\n",
    "\n",
    "2. \"Most blocks must be short; that is, streets and **opportunities to turn corners** must be frequent.\" --> intersections!\n",
    "\n",
    "\n",
    "3. \"The district must mingle buildings that vary in age and condition, including a good proportion of old ones so that they vary in the economic yield they must produce. This mingling must be fairly close-grained.\" (--> one could use e.g. existing building datasets that are available for many cities in Finland)\n",
    "\n",
    "4. \"There must be a sufficiently dence concentration of people, for whatever purposes they may be there. This includes dence concentration in the case of people who are there because of residence.\" \n",
    "\n",
    "The following tutorial only covers one aspect of these four (2.), but it certainly would be possible to measure all 4 aspects if combining more datasets together.\n",
    "\n",
    "\n",
    "## Spatial index with Geopandas \n",
    "\n",
    "In this tutorial, we will first go through a step by step example showing how spatial index works, and in the end we put things together and produce a practical function for doing fast spatial queries. "
   ]
  },
  {
   "cell_type": "markdown",
   "id": "81d14c99",
   "metadata": {},
   "source": [
    "- Let's start by reading data representing road intersections (parsed from [Digiroad road network data](https://vayla.fi/web/en/open-data/digiroad/data#.Xca1TzP7Q2w)) and postal code areas (obtained from [Statistics Finland](https://www.tilastokeskus.fi/tup/karttaaineistot/postinumeroalueet.html)). In this time, we will read the data from Geopackage files:"
   ]
  },
  {
   "cell_type": "code",
   "execution_count": null,
   "id": "835b56f4-f7df-4fa9-a4a5-0add4df109a0",
   "metadata": {},
   "outputs": [],
   "source": [
    "import geopandas as gpd\n",
    "\n",
    "# Filepaths\n",
    "intersections_fp = \"data/uusimaa_intersections.gpkg\"\n",
    "postcode_areas_fp = \"data/uusimaa_postal_code_areas.gpkg\"\n",
    "\n",
    "intersections = gpd.read_file(intersections_fp)\n",
    "postcode_areas = gpd.read_file(postcode_areas_fp)\n",
    "\n",
    "# Let's check first rows\n",
    "print(intersections.head(), \"\\n-------\")\n",
    "print(postcode_areas.head())"
   ]
  },
  {
   "cell_type": "markdown",
   "id": "eba5e873",
   "metadata": {},
   "source": [
    "- Let's see how many intersections and postal code areas we have:"
   ]
  },
  {
   "cell_type": "code",
   "execution_count": null,
   "id": "fb5dc948",
   "metadata": {},
   "outputs": [],
   "source": [
    "print(\"Number of intersections:\", len(intersections))\n",
    "print(\"Number of postal code areas:\", len(postcode_areas))"
   ]
  },
  {
   "cell_type": "markdown",
   "id": "162260ef",
   "metadata": {},
   "source": [
    "Okay, as we can see there are 63.5 thousand intersections in the region and 370 postal code areas. These are not yet huge datasets, but big enough so that we can see the benefits in using a spatial index. "
   ]
  },
  {
   "cell_type": "markdown",
   "id": "28b3654d",
   "metadata": {},
   "source": [
    "- Let's still explore quickly how our datasets look on a map before doing the point in polygon queries."
   ]
  },
  {
   "cell_type": "code",
   "execution_count": null,
   "id": "866e2d8e",
   "metadata": {},
   "outputs": [],
   "source": [
    "%matplotlib inline\n",
    "ax = postcode_areas.plot(color=\"red\", edgecolor=\"black\", alpha=0.5)\n",
    "ax = intersections.plot(ax=ax, color=\"yellow\", markersize=1, alpha=0.5)\n",
    "\n",
    "# Zoom to closer (comment out the following to see the full extent of the data)\n",
    "ax.set_xlim([380000, 395000])\n",
    "ax.set_ylim([6667500, 6680000])"
   ]
  },
  {
   "cell_type": "markdown",
   "id": "26147765",
   "metadata": {},
   "source": [
    "As we can see from the map, we have a large number of points (intersections) that are scattered around the city. \n",
    "\n",
    "Next, we want to calculate how many of those points are inside each postal code area visible on the map. For doing this, we are going to take advantage of spatial index.\n",
    "\n",
    "- Building a spatial index for GeoDataFrame is easy in Geopandas. We can extract that by calling an attribute `.sindex`. "
   ]
  },
  {
   "cell_type": "code",
   "execution_count": null,
   "id": "97c2506d",
   "metadata": {},
   "outputs": [],
   "source": [
    "# Let's build spatial index for intersection points\n",
    "intersection_sindex = intersections.sindex\n",
    "\n",
    "# Let's see what it is\n",
    "intersection_sindex"
   ]
  },
  {
   "cell_type": "markdown",
   "id": "655b526b",
   "metadata": {},
   "source": [
    "Okay, as we can see the variable contains a `SpatialIndex` object. Fundamentally, this object contains now the geometries in an R-tree data structure as introduced in the beginning of this page. \n",
    "\n",
    "From this spatial index, we can e.g. see, how the geometries have been grouped in the spatial index. \n",
    "\n",
    "- Let's see how many groups we have, and extract some basic information from them. We can extract this information using `.leaves()` function."
   ]
  },
  {
   "cell_type": "code",
   "execution_count": null,
   "id": "667b3136",
   "metadata": {},
   "outputs": [],
   "source": [
    "# How many groups do we have?\n",
    "print(\"Number of groups:\", len(intersection_sindex.leaves()), \"\\n\")\n",
    "\n",
    "# Print some basic info for few of them\n",
    "n_iterations = 10\n",
    "for i, group in enumerate(intersection_sindex.leaves()):\n",
    "    group_idx, indices, bbox = group\n",
    "    print(\n",
    "        \"Group\", group_idx, \"contains \", len(indices), \"geometries, bounding box:\", bbox\n",
    "    )\n",
    "    i += 1\n",
    "    if i == n_iterations:\n",
    "        break"
   ]
  },
  {
   "cell_type": "markdown",
   "id": "7bb7f3b8",
   "metadata": {},
   "source": [
    "We seem to have 908 groups formed in the R-tree, and as we can see, each group seem to consist of 70 geometries. Okay, now as we understand a bit what the `R-tree` index is like. Let's take that into action.\n",
    "\n",
    "For conducting fast spatial queries, we can utilize the spatial index of the intersections, and compare the geometry of a given postal code area to the **bounding boxes** of points inside the R-tree spatial index. Let's start with a single postal code area, to keep things simple."
   ]
  },
  {
   "cell_type": "code",
   "execution_count": null,
   "id": "e930be77",
   "metadata": {},
   "outputs": [],
   "source": [
    "# Select a postal code area representing the city center of Helsinki\n",
    "city_center_zip_area = postcode_areas.loc[postcode_areas[\"posti_alue\"] == \"00100\"]\n",
    "city_center_zip_area.plot()"
   ]
  },
  {
   "cell_type": "markdown",
   "id": "7c477f06",
   "metadata": {},
   "source": [
    " Okay, now we can make a spatial query in which we want to select all the points, that are inside this Polygon. We conduct the point in polygon query in two steps: \n",
    " \n",
    " - **first**, we compare the bounds of the Polygon into the spatial index of the Points. This gives us point **candidates** that are likely to be within the Polygon (at this stage based on the MBR of the points that is stored inside the R-tree).\n",
    " - **secondly**, we go through the candidate points and make a normal spatial intersection query that gives us the accurate results:"
   ]
  },
  {
   "cell_type": "code",
   "execution_count": null,
   "id": "1e265148",
   "metadata": {},
   "outputs": [],
   "source": [
    "# Get the bounding box coordinates of the Polygon as a list\n",
    "bounds = list(city_center_zip_area.bounds.values[0])\n",
    "\n",
    "# Get the indices of the Points that are likely to be inside the bounding box of the given Polygon\n",
    "point_candidate_idx = list(intersection_sindex.intersection(bounds))\n",
    "point_candidates = intersections.loc[point_candidate_idx]\n",
    "\n",
    "# Let's see what we have now\n",
    "ax = city_center_zip_area.plot(color=\"red\", alpha=0.5)\n",
    "ax = point_candidates.plot(ax=ax, color=\"black\", markersize=2)"
   ]
  },
  {
   "cell_type": "markdown",
   "id": "e62c28a7",
   "metadata": {},
   "source": [
    "Aha, as we can see, now we have successfully selected such points from the dataset that intersect with the **bounding box** of the Polygon. I.e. we conducted the first step of the process. \n",
    "\n",
    "Next, let's do the final selection using a \"normal\" intersect query, which is however, much faster because there is no need to go through all 63.5 thousand points in the full dataset:"
   ]
  },
  {
   "cell_type": "code",
   "execution_count": null,
   "id": "0869e770",
   "metadata": {},
   "outputs": [],
   "source": [
    "# Make the precise Point in Polygon query\n",
    "final_selection = point_candidates.loc[\n",
    "    point_candidates.intersects(city_center_zip_area[\"geometry\"].values[0])\n",
    "]\n",
    "\n",
    "# Let's see what we have now\n",
    "ax = city_center_zip_area.plot(color=\"red\", alpha=0.5)\n",
    "ax = final_selection.plot(ax=ax, color=\"black\", markersize=2)"
   ]
  },
  {
   "cell_type": "markdown",
   "id": "5022b7e7",
   "metadata": {},
   "source": [
    "### Putting pieces together - Performance comparisons\n",
    "\n",
    "Following functions both conduct the spatial query that we saw previously, the first one **without** utilizing spatial index and the second one **with** spatial index. We can use them and compare the performance, so that we can get an idea how much the spatial index affects the performance time-wise."
   ]
  },
  {
   "cell_type": "code",
   "execution_count": null,
   "id": "67dff2ef",
   "metadata": {},
   "outputs": [],
   "source": [
    "def intersect_using_spatial_index(source_gdf, intersecting_gdf):\n",
    "    \"\"\"\n",
    "    Conduct spatial intersection using spatial index for candidates GeoDataFrame to make queries faster.\n",
    "    Note, with this function, you can have multiple Polygons in the 'intersecting_gdf' and it will return all the points\n",
    "    intersect with ANY of those geometries.\n",
    "    \"\"\"\n",
    "    source_sindex = source_gdf.sindex\n",
    "    possible_matches_index = []\n",
    "\n",
    "    # 'itertuples()' function is a faster version of 'iterrows()'\n",
    "    for other in intersecting_gdf.itertuples():\n",
    "        bounds = other.geometry.bounds\n",
    "        c = list(source_sindex.intersection(bounds))\n",
    "        possible_matches_index += c\n",
    "\n",
    "    # Get unique candidates\n",
    "    unique_candidate_matches = list(set(possible_matches_index))\n",
    "    possible_matches = source_gdf.iloc[unique_candidate_matches]\n",
    "\n",
    "    # Conduct the actual intersect\n",
    "    result = possible_matches.loc[\n",
    "        possible_matches.intersects(intersecting_gdf.unary_union)\n",
    "    ]\n",
    "    return result\n",
    "\n",
    "\n",
    "def normal_intersect(source_gdf, intersecting_gdf):\n",
    "    \"\"\"\n",
    "    Conduct spatial intersection without spatial index.\n",
    "    Note, with this function, you can have multiple Polygons in the 'intersecting_gdf' and it will return all the points\n",
    "    intersect with ANY of those geometries.\n",
    "    \"\"\"\n",
    "\n",
    "    matches = []\n",
    "\n",
    "    # 'itertuples()' function is a faster version of 'iterrows()'\n",
    "    for other in intersecting_gdf.itertuples():\n",
    "        c = list(source_gdf.loc[source_gdf.intersects(other.geometry)].index)\n",
    "        matches += c\n",
    "\n",
    "    # Get all points that are intersecting with the Polygons\n",
    "    unique_matches = list(set(matches))\n",
    "    result = source_gdf.loc[source_gdf.index.isin(unique_matches)]\n",
    "    return result"
   ]
  },
  {
   "cell_type": "markdown",
   "id": "efb99475",
   "metadata": {},
   "source": [
    "- Let's compare their performance and time it. Here we utilize a special IPython magic function called `%timeit` that allows to test how long it takes to run a specific function (it actually runs the function multiple times to get a more representative timing). "
   ]
  },
  {
   "cell_type": "code",
   "execution_count": null,
   "id": "b96c498b",
   "metadata": {},
   "outputs": [],
   "source": [
    "# Test the spatial query with spatial index\n",
    "%timeit intersect_using_spatial_index(source_gdf=intersections, intersecting_gdf=city_center_zip_area)"
   ]
  },
  {
   "cell_type": "code",
   "execution_count": null,
   "id": "1bfa3daf",
   "metadata": {},
   "outputs": [],
   "source": [
    "# Test the spatial query without spatial index\n",
    "%timeit normal_intersect(source_gdf=intersections, intersecting_gdf=city_center_zip_area)"
   ]
  },
  {
   "cell_type": "markdown",
   "id": "85bfc4c6",
   "metadata": {},
   "source": [
    "Okay, as these tests demonstrate, using the spatial index gives a significant boost in the performance, by being around 17x faster. \n",
    "\n",
    "Making the spatial query only with a single Polygon (as in the example) might not make a big difference, but having hundreds or thousands of Polygons, and wanting to find all points that are inside those ones, start to make a drastic difference."
   ]
  },
  {
   "cell_type": "markdown",
   "id": "dddf5f81",
   "metadata": {},
   "source": [
    "### Counting the intersections\n",
    "\n",
    "The ultimate goal of this tutorial was to count the intersections per postal code. We can do that easily and fast with Geopandas, by conducting a `spatial join` between the two datasets. Spatial join in Geopandas is highly performant, and in fact, it utilizes spatial index to make the queries fast. The following parts might include a bit advanced tricks that we have not covered, but for the sake of completeness, the following steps count the intersections per postal code area. Finally, we plot a density of the intersections as a number of intersections per square kilometer (per postal code area). "
   ]
  },
  {
   "cell_type": "code",
   "execution_count": null,
   "id": "4830cb3d",
   "metadata": {},
   "outputs": [],
   "source": [
    "# Count intersections by postal code area\n",
    "intersection_cnt = (\n",
    "    gpd.sjoin(postcode_areas, intersections).groupby(\"posti_alue\").size().reset_index()\n",
    ")\n",
    "intersection_cnt.head()"
   ]
  },
  {
   "cell_type": "code",
   "execution_count": null,
   "id": "1a86a0cc",
   "metadata": {},
   "outputs": [],
   "source": [
    "# Merge with postcode data and plot\n",
    "intersection_cnt = intersection_cnt.rename(columns={0: \"intersection_cnt\"})\n",
    "postcode_areas = postcode_areas.merge(intersection_cnt, on=\"posti_alue\")\n",
    "postcode_areas"
   ]
  },
  {
   "cell_type": "code",
   "execution_count": null,
   "id": "d4a1ba00",
   "metadata": {},
   "outputs": [],
   "source": [
    "# Plot intersection density (number of intersections per square kilometer inside a Postal code)\n",
    "m2_to_km2_converter = 1000000\n",
    "postcode_areas[\"intersection_density\"] = postcode_areas[\"intersection_cnt\"] / (\n",
    "    postcode_areas.area / m2_to_km2_converter\n",
    ")\n",
    "postcode_areas.plot(\"intersection_density\", cmap=\"RdYlBu_r\", legend=True)"
   ]
  },
  {
   "cell_type": "markdown",
   "id": "a51a2460",
   "metadata": {},
   "source": [
    "From the map, we can see that the intersection density is clearly highest in the city center areas of Helsinki (red colored areas). "
   ]
  },
  {
   "cell_type": "markdown",
   "id": "f83f5ded",
   "metadata": {},
   "source": [
    "### Note\n",
    "\n",
    "As we have learned from this tutorial, spatial index can make the spatial queries significantly faster. There is however, a specific situation in which spatial index does not provide any improvements for the performance: if your polygon and points have more or less similar spatial extent (bounding box), the spatial index does not help to make the queries faster due to its design in working on a level of bounding boxes. This happens e.g. in following case:\n",
    "\n",
    "![los-angeles-boundary-intersections.png](../img/los-angeles-boundary-intersections.png)\n",
    "*Example of a situation where spatial index does not provide boost in performance* (Source: [G. Boeing, 2016](https://geoffboeing.com/2016/10/r-tree-spatial-index-python/))"
   ]
  },
  {
   "cell_type": "markdown",
   "id": "d1ef8fa6",
   "metadata": {},
   "source": [
    "As we can see, in the map, there is a complex Polygon that share more or less identical extent as the point layer, which is problematic from performance point of view.\n",
    "\n",
    "There is, however, a nice strategy to deal with this kind of situation, by sub-dividing the Polygon into smaller subsets (having also smaller bounding boxes) that will enable the spatial index to boost the queries:\n",
    "\n",
    "![los-angeles-boundary-quadrats-intersections](../img/los-angeles-boundary-quadrats-intersections.png).\n",
    "\n",
    "You can read more about this strategy from an excellent post from [G. Boeing](https://geoffboeing.com/2016/10/r-tree-spatial-index-python/)."
   ]
  }
 ],
 "metadata": {
  "kernelspec": {
   "display_name": "Python 3 (ipykernel)",
   "language": "python",
   "name": "python3"
  },
  "language_info": {
   "codemirror_mode": {
    "name": "ipython",
    "version": 3
   },
   "file_extension": ".py",
   "mimetype": "text/x-python",
   "name": "python",
   "nbconvert_exporter": "python",
   "pygments_lexer": "ipython3",
   "version": "3.10.9"
  }
 },
 "nbformat": 4,
 "nbformat_minor": 5
}
