{
 "cells": [
  {
   "cell_type": "markdown",
   "id": "82301030-6868-4fd1-9f92-49d4e8e344a6",
   "metadata": {},
   "source": [
    "# Introduction to spatial accessibility\n",
    "\n",
    "**This section is under construction**"
   ]
  },
  {
   "cell_type": "code",
   "execution_count": null,
   "id": "3a295813-0d16-4072-a403-3243bb4ea11a",
   "metadata": {},
   "outputs": [],
   "source": []
  }
 ],
 "metadata": {
  "kernelspec": {
   "display_name": "Python 3 (ipykernel)",
   "language": "python",
   "name": "python3"
  },
  "language_info": {
   "codemirror_mode": {
    "name": "ipython",
    "version": 3
   },
   "file_extension": ".py",
   "mimetype": "text/x-python",
   "name": "python",
   "nbconvert_exporter": "python",
   "pygments_lexer": "ipython3",
   "version": "3.12.9"
  }
 },
 "nbformat": 4,
 "nbformat_minor": 5
}
