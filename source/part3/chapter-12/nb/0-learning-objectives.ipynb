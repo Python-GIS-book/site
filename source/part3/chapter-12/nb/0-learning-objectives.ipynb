{
 "cells": [
  {
   "cell_type": "markdown",
   "id": "dc42f212-789b-4115-a134-f621321926f9",
   "metadata": {
    "editable": true,
    "slideshow": {
     "slide_type": ""
    },
    "tags": [
     "learning_objectives"
    ]
   },
   "source": [
    "# Learning objectives"
   ]
  },
  {
   "cell_type": "markdown",
   "id": "516d6250-3e61-4a4e-bc22-233850151637",
   "metadata": {
    "editable": true,
    "slideshow": {
     "slide_type": ""
    },
    "tags": []
   },
   "source": [
    "Chapter 12 focuses on a case study related to watersheds. Watershed analysis is the process of analyzing the landscape and hydrology of watersheds, i.e. land areas where surface water drains to a common outlet, such as a river, lake, or ocean. In our case we aim to understand how factors (e.g. the area or topographic relief) vary within a set of river watersheds. By doing this we are able to explore relationships related to landscape uplift and erosion.\n"
   ]
  },
  {
   "cell_type": "markdown",
   "id": "c033c3e9-1ecb-4f8d-ac47-509c66d7cd45",
   "metadata": {
    "editable": true,
    "slideshow": {
     "slide_type": ""
    },
    "tags": [
     "lo_box"
    ]
   },
   "source": [
    "```{admonition} Learning objectives\n",
    ":class: tip\n",
    "\n",
    "At the end of this chapter, you should be able to:\n",
    "\n",
    "- Understand the basic concepts related to watershed analysis\n",
    "- Analyze various topographic factors influencing watersheds \n",
    "\n",
    "```"
   ]
  }
 ],
 "metadata": {
  "kernelspec": {
   "display_name": "Python 3 (ipykernel)",
   "language": "python",
   "name": "python3"
  },
  "language_info": {
   "codemirror_mode": {
    "name": "ipython",
    "version": 3
   },
   "file_extension": ".py",
   "mimetype": "text/x-python",
   "name": "python",
   "nbconvert_exporter": "python",
   "pygments_lexer": "ipython3",
   "version": "3.12.5"
  }
 },
 "nbformat": 4,
 "nbformat_minor": 5
}
