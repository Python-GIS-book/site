{
 "cells": [
  {
   "cell_type": "markdown",
   "id": "f57cb50a-6adf-4687-b4c6-d0652865eb7c",
   "metadata": {
    "editable": true,
    "slideshow": {
     "slide_type": ""
    },
    "tags": []
   },
   "source": [
    "# Watershed analysis with pysheds\n",
    "\n",
    "In this case study we will cover how to extract watersheds and perform some example analyses of the elevation data in each watershed."
   ]
  },
  {
   "cell_type": "markdown",
   "id": "1e9bfc3d-3527-4717-9ee8-ca2eb0bbb062",
   "metadata": {
    "editable": true,
    "slideshow": {
     "slide_type": ""
    },
    "tags": []
   },
   "source": [
    "## Introduction\n",
    "\n",
    "In this case study we will explore drainage basin hypsometry. To get started, we'll present a quick overview of some of the key background topics, as this could be a new topic for some readers. If you're already familiar with delineating watersheds and hypsometry, feel free to skip ahead to the next section."
   ]
  },
  {
   "cell_type": "markdown",
   "id": "4cd8c5c9-4173-4713-a7e1-da2c3887e82f",
   "metadata": {},
   "source": [
    "### What is basin hypsometry?\n",
    "\n",
    "A logical place to start is with defining basin hypsometry, why it is of interest, and what we need to be able to perform hypsometric analysis of a drainage basin. *{term}`Hypsometry <hypsometry>`* refers to the measurement of the distribution of elevations of Earth's (or other planet's) surface elevations within a given area. In essence, it is a means to explore how much land area is within different elevation ranges, similar to calculating a histogram of elevations. On Earth, for instance, we can observe that the majority of land area is at elevations within 800 meters of sea level, while little land area is at elevations greater than three kilometers. Drainage basin hypsometry refers to the measurement of the distribution of elevations within a river drainage basin (or watershed). Drainage basins are the land areas upstream of some point where a river flows out of its valley (the outlet). These regions are the hypothetical areas where any water flowing along Earth's surface would flow into the river being analyzed.\n",
    "\n",
    "So, why do we care about drainage basin hypsometry? There are a few reasons basin hypsometry can be of interest, with one of them being the fact that the distribution of elevations in a drainage basin can tell us something about the geological processes that have shaped the land surface in the drainage basin. Rivers and glaciers carve their valleys into the underlying soil/rock in drainage basins, eroding the landscape and altering the distribution of elevations within the basin. In a classic article, Strahler (1952) presented the essence of basin hypsometry, noting that ..."
   ]
  },
  {
   "cell_type": "markdown",
   "id": "1d9097cd-2fa1-47e8-8982-9bc81eb4a0fb",
   "metadata": {},
   "source": [
    "## Getting started\n",
    "\n",
    "We can start by importing the libraries we need for this analysis. In this case, we will be using `xarray`, `rioxarray`, `pysheds`, `geopandas`, and `geocube` in addition to more familiar packages such as `matplotlib` and `numpy`. We will also use some custom functions from the `basin_functions.py` file, which you are welcome to check out if you want to know more about how the functions work."
   ]
  },
  {
   "cell_type": "code",
   "execution_count": 1,
   "id": "0058c9c3-2fe9-4c2a-92db-0260d3a19963",
   "metadata": {},
   "outputs": [
    {
     "name": "stderr",
     "output_type": "stream",
     "text": [
      "OMP: Info #276: omp_set_nested routine deprecated, please use omp_set_max_active_levels instead.\n"
     ]
    }
   ],
   "source": [
    "from basin_functions import *\n",
    "from geocube.vector import vectorize\n",
    "import geopandas as gpd\n",
    "import matplotlib.colors as colors\n",
    "import matplotlib.pyplot as plt\n",
    "import numpy as np\n",
    "import pandas as pd\n",
    "from pysheds.grid import Grid\n",
    "from pysheds.view import Raster, ViewFinder\n",
    "import rioxarray as rxr\n",
    "import xarray as xr"
   ]
  },
  {
   "cell_type": "markdown",
   "id": "ef2fde83-2b70-4508-827f-9d149e0d730f",
   "metadata": {
    "editable": true,
    "slideshow": {
     "slide_type": ""
    },
    "tags": []
   },
   "source": [
    "## Loading the digital elevation data\n",
    "\n",
    "A mosaic of the data used for this case study has already been created and is provided as a geotiff image online at the address listed with the variable `bucket_dem_fp` below. This digital elevation model (DEM) covers the central portion of the southern island of New Zealand. The DEM data is from the [ALOS World 3D-30m digital surface model](https://www.eorc.jaxa.jp/ALOS/en/dataset/aw3d30/aw3d30_e.htm) [^alos] with approximately 30 m spatial resolution (e.g., {cite}`Tadono2014`). Information about how the data have been processed to produce the mosaic we will use can be found in the {doc}`data for New Zealand section </data/New-Zealand-data>` online. We will be using this elevation data to extract and analyze river drainage basins on the western side of the New Zealand Alps.\n",
    "\n",
    "To start, we can read in the data using `rioxarray`."
   ]
  },
  {
   "cell_type": "code",
   "execution_count": 2,
   "id": "ceacea8a-51ca-487f-8231-766d9e8d3c7a",
   "metadata": {
    "editable": true,
    "slideshow": {
     "slide_type": ""
    },
    "tags": []
   },
   "outputs": [],
   "source": [
    "# S3 bucket containing the data\n",
    "bucket_home = \"https://a3s.fi/swift/v1/AUTH_0914d8aff9684df589041a759b549fc2/PythonGIS/\"\n",
    "bucket_dem_file = \"elevation/new_zealand/south_island_nz.tif\"\n",
    "bucket_dem_fp = bucket_home + bucket_dem_file\n",
    "\n",
    "# Read the input data file\n",
    "south_island = rxr.open_rasterio(bucket_dem_fp).drop_vars(\"band\")[0]"
   ]
  },
  {
   "cell_type": "markdown",
   "id": "a2fab03a-b5ff-49a9-9737-271cffad57e4",
   "metadata": {},
   "source": [
    "Now we can have a look at the data in a bit more detail by printing out the `xarray` `DataArray` called `south_island`."
   ]
  },
  {
   "cell_type": "code",
   "execution_count": 3,
   "id": "7b92e535-ca76-4ba6-b0f7-3a176f35f5ea",
   "metadata": {},
   "outputs": [
    {
     "data": {
      "text/html": [
       "<div><svg style=\"position: absolute; width: 0; height: 0; overflow: hidden\">\n",
       "<defs>\n",
       "<symbol id=\"icon-database\" viewBox=\"0 0 32 32\">\n",
       "<path d=\"M16 0c-8.837 0-16 2.239-16 5v4c0 2.761 7.163 5 16 5s16-2.239 16-5v-4c0-2.761-7.163-5-16-5z\"></path>\n",
       "<path d=\"M16 17c-8.837 0-16-2.239-16-5v6c0 2.761 7.163 5 16 5s16-2.239 16-5v-6c0 2.761-7.163 5-16 5z\"></path>\n",
       "<path d=\"M16 26c-8.837 0-16-2.239-16-5v6c0 2.761 7.163 5 16 5s16-2.239 16-5v-6c0 2.761-7.163 5-16 5z\"></path>\n",
       "</symbol>\n",
       "<symbol id=\"icon-file-text2\" viewBox=\"0 0 32 32\">\n",
       "<path d=\"M28.681 7.159c-0.694-0.947-1.662-2.053-2.724-3.116s-2.169-2.030-3.116-2.724c-1.612-1.182-2.393-1.319-2.841-1.319h-15.5c-1.378 0-2.5 1.121-2.5 2.5v27c0 1.378 1.122 2.5 2.5 2.5h23c1.378 0 2.5-1.122 2.5-2.5v-19.5c0-0.448-0.137-1.23-1.319-2.841zM24.543 5.457c0.959 0.959 1.712 1.825 2.268 2.543h-4.811v-4.811c0.718 0.556 1.584 1.309 2.543 2.268zM28 29.5c0 0.271-0.229 0.5-0.5 0.5h-23c-0.271 0-0.5-0.229-0.5-0.5v-27c0-0.271 0.229-0.5 0.5-0.5 0 0 15.499-0 15.5 0v7c0 0.552 0.448 1 1 1h7v19.5z\"></path>\n",
       "<path d=\"M23 26h-14c-0.552 0-1-0.448-1-1s0.448-1 1-1h14c0.552 0 1 0.448 1 1s-0.448 1-1 1z\"></path>\n",
       "<path d=\"M23 22h-14c-0.552 0-1-0.448-1-1s0.448-1 1-1h14c0.552 0 1 0.448 1 1s-0.448 1-1 1z\"></path>\n",
       "<path d=\"M23 18h-14c-0.552 0-1-0.448-1-1s0.448-1 1-1h14c0.552 0 1 0.448 1 1s-0.448 1-1 1z\"></path>\n",
       "</symbol>\n",
       "</defs>\n",
       "</svg>\n",
       "<style>/* CSS stylesheet for displaying xarray objects in jupyterlab.\n",
       " *\n",
       " */\n",
       "\n",
       ":root {\n",
       "  --xr-font-color0: var(--jp-content-font-color0, rgba(0, 0, 0, 1));\n",
       "  --xr-font-color2: var(--jp-content-font-color2, rgba(0, 0, 0, 0.54));\n",
       "  --xr-font-color3: var(--jp-content-font-color3, rgba(0, 0, 0, 0.38));\n",
       "  --xr-border-color: var(--jp-border-color2, #e0e0e0);\n",
       "  --xr-disabled-color: var(--jp-layout-color3, #bdbdbd);\n",
       "  --xr-background-color: var(--jp-layout-color0, white);\n",
       "  --xr-background-color-row-even: var(--jp-layout-color1, white);\n",
       "  --xr-background-color-row-odd: var(--jp-layout-color2, #eeeeee);\n",
       "}\n",
       "\n",
       "html[theme=dark],\n",
       "html[data-theme=dark],\n",
       "body[data-theme=dark],\n",
       "body.vscode-dark {\n",
       "  --xr-font-color0: rgba(255, 255, 255, 1);\n",
       "  --xr-font-color2: rgba(255, 255, 255, 0.54);\n",
       "  --xr-font-color3: rgba(255, 255, 255, 0.38);\n",
       "  --xr-border-color: #1F1F1F;\n",
       "  --xr-disabled-color: #515151;\n",
       "  --xr-background-color: #111111;\n",
       "  --xr-background-color-row-even: #111111;\n",
       "  --xr-background-color-row-odd: #313131;\n",
       "}\n",
       "\n",
       ".xr-wrap {\n",
       "  display: block !important;\n",
       "  min-width: 300px;\n",
       "  max-width: 700px;\n",
       "}\n",
       "\n",
       ".xr-text-repr-fallback {\n",
       "  /* fallback to plain text repr when CSS is not injected (untrusted notebook) */\n",
       "  display: none;\n",
       "}\n",
       "\n",
       ".xr-header {\n",
       "  padding-top: 6px;\n",
       "  padding-bottom: 6px;\n",
       "  margin-bottom: 4px;\n",
       "  border-bottom: solid 1px var(--xr-border-color);\n",
       "}\n",
       "\n",
       ".xr-header > div,\n",
       ".xr-header > ul {\n",
       "  display: inline;\n",
       "  margin-top: 0;\n",
       "  margin-bottom: 0;\n",
       "}\n",
       "\n",
       ".xr-obj-type,\n",
       ".xr-array-name {\n",
       "  margin-left: 2px;\n",
       "  margin-right: 10px;\n",
       "}\n",
       "\n",
       ".xr-obj-type {\n",
       "  color: var(--xr-font-color2);\n",
       "}\n",
       "\n",
       ".xr-sections {\n",
       "  padding-left: 0 !important;\n",
       "  display: grid;\n",
       "  grid-template-columns: 150px auto auto 1fr 20px 20px;\n",
       "}\n",
       "\n",
       ".xr-section-item {\n",
       "  display: contents;\n",
       "}\n",
       "\n",
       ".xr-section-item input {\n",
       "  display: none;\n",
       "}\n",
       "\n",
       ".xr-section-item input + label {\n",
       "  color: var(--xr-disabled-color);\n",
       "}\n",
       "\n",
       ".xr-section-item input:enabled + label {\n",
       "  cursor: pointer;\n",
       "  color: var(--xr-font-color2);\n",
       "}\n",
       "\n",
       ".xr-section-item input:enabled + label:hover {\n",
       "  color: var(--xr-font-color0);\n",
       "}\n",
       "\n",
       ".xr-section-summary {\n",
       "  grid-column: 1;\n",
       "  color: var(--xr-font-color2);\n",
       "  font-weight: 500;\n",
       "}\n",
       "\n",
       ".xr-section-summary > span {\n",
       "  display: inline-block;\n",
       "  padding-left: 0.5em;\n",
       "}\n",
       "\n",
       ".xr-section-summary-in:disabled + label {\n",
       "  color: var(--xr-font-color2);\n",
       "}\n",
       "\n",
       ".xr-section-summary-in + label:before {\n",
       "  display: inline-block;\n",
       "  content: '►';\n",
       "  font-size: 11px;\n",
       "  width: 15px;\n",
       "  text-align: center;\n",
       "}\n",
       "\n",
       ".xr-section-summary-in:disabled + label:before {\n",
       "  color: var(--xr-disabled-color);\n",
       "}\n",
       "\n",
       ".xr-section-summary-in:checked + label:before {\n",
       "  content: '▼';\n",
       "}\n",
       "\n",
       ".xr-section-summary-in:checked + label > span {\n",
       "  display: none;\n",
       "}\n",
       "\n",
       ".xr-section-summary,\n",
       ".xr-section-inline-details {\n",
       "  padding-top: 4px;\n",
       "  padding-bottom: 4px;\n",
       "}\n",
       "\n",
       ".xr-section-inline-details {\n",
       "  grid-column: 2 / -1;\n",
       "}\n",
       "\n",
       ".xr-section-details {\n",
       "  display: none;\n",
       "  grid-column: 1 / -1;\n",
       "  margin-bottom: 5px;\n",
       "}\n",
       "\n",
       ".xr-section-summary-in:checked ~ .xr-section-details {\n",
       "  display: contents;\n",
       "}\n",
       "\n",
       ".xr-array-wrap {\n",
       "  grid-column: 1 / -1;\n",
       "  display: grid;\n",
       "  grid-template-columns: 20px auto;\n",
       "}\n",
       "\n",
       ".xr-array-wrap > label {\n",
       "  grid-column: 1;\n",
       "  vertical-align: top;\n",
       "}\n",
       "\n",
       ".xr-preview {\n",
       "  color: var(--xr-font-color3);\n",
       "}\n",
       "\n",
       ".xr-array-preview,\n",
       ".xr-array-data {\n",
       "  padding: 0 5px !important;\n",
       "  grid-column: 2;\n",
       "}\n",
       "\n",
       ".xr-array-data,\n",
       ".xr-array-in:checked ~ .xr-array-preview {\n",
       "  display: none;\n",
       "}\n",
       "\n",
       ".xr-array-in:checked ~ .xr-array-data,\n",
       ".xr-array-preview {\n",
       "  display: inline-block;\n",
       "}\n",
       "\n",
       ".xr-dim-list {\n",
       "  display: inline-block !important;\n",
       "  list-style: none;\n",
       "  padding: 0 !important;\n",
       "  margin: 0;\n",
       "}\n",
       "\n",
       ".xr-dim-list li {\n",
       "  display: inline-block;\n",
       "  padding: 0;\n",
       "  margin: 0;\n",
       "}\n",
       "\n",
       ".xr-dim-list:before {\n",
       "  content: '(';\n",
       "}\n",
       "\n",
       ".xr-dim-list:after {\n",
       "  content: ')';\n",
       "}\n",
       "\n",
       ".xr-dim-list li:not(:last-child):after {\n",
       "  content: ',';\n",
       "  padding-right: 5px;\n",
       "}\n",
       "\n",
       ".xr-has-index {\n",
       "  font-weight: bold;\n",
       "}\n",
       "\n",
       ".xr-var-list,\n",
       ".xr-var-item {\n",
       "  display: contents;\n",
       "}\n",
       "\n",
       ".xr-var-item > div,\n",
       ".xr-var-item label,\n",
       ".xr-var-item > .xr-var-name span {\n",
       "  background-color: var(--xr-background-color-row-even);\n",
       "  margin-bottom: 0;\n",
       "}\n",
       "\n",
       ".xr-var-item > .xr-var-name:hover span {\n",
       "  padding-right: 5px;\n",
       "}\n",
       "\n",
       ".xr-var-list > li:nth-child(odd) > div,\n",
       ".xr-var-list > li:nth-child(odd) > label,\n",
       ".xr-var-list > li:nth-child(odd) > .xr-var-name span {\n",
       "  background-color: var(--xr-background-color-row-odd);\n",
       "}\n",
       "\n",
       ".xr-var-name {\n",
       "  grid-column: 1;\n",
       "}\n",
       "\n",
       ".xr-var-dims {\n",
       "  grid-column: 2;\n",
       "}\n",
       "\n",
       ".xr-var-dtype {\n",
       "  grid-column: 3;\n",
       "  text-align: right;\n",
       "  color: var(--xr-font-color2);\n",
       "}\n",
       "\n",
       ".xr-var-preview {\n",
       "  grid-column: 4;\n",
       "}\n",
       "\n",
       ".xr-index-preview {\n",
       "  grid-column: 2 / 5;\n",
       "  color: var(--xr-font-color2);\n",
       "}\n",
       "\n",
       ".xr-var-name,\n",
       ".xr-var-dims,\n",
       ".xr-var-dtype,\n",
       ".xr-preview,\n",
       ".xr-attrs dt {\n",
       "  white-space: nowrap;\n",
       "  overflow: hidden;\n",
       "  text-overflow: ellipsis;\n",
       "  padding-right: 10px;\n",
       "}\n",
       "\n",
       ".xr-var-name:hover,\n",
       ".xr-var-dims:hover,\n",
       ".xr-var-dtype:hover,\n",
       ".xr-attrs dt:hover {\n",
       "  overflow: visible;\n",
       "  width: auto;\n",
       "  z-index: 1;\n",
       "}\n",
       "\n",
       ".xr-var-attrs,\n",
       ".xr-var-data,\n",
       ".xr-index-data {\n",
       "  display: none;\n",
       "  background-color: var(--xr-background-color) !important;\n",
       "  padding-bottom: 5px !important;\n",
       "}\n",
       "\n",
       ".xr-var-attrs-in:checked ~ .xr-var-attrs,\n",
       ".xr-var-data-in:checked ~ .xr-var-data,\n",
       ".xr-index-data-in:checked ~ .xr-index-data {\n",
       "  display: block;\n",
       "}\n",
       "\n",
       ".xr-var-data > table {\n",
       "  float: right;\n",
       "}\n",
       "\n",
       ".xr-var-name span,\n",
       ".xr-var-data,\n",
       ".xr-index-name div,\n",
       ".xr-index-data,\n",
       ".xr-attrs {\n",
       "  padding-left: 25px !important;\n",
       "}\n",
       "\n",
       ".xr-attrs,\n",
       ".xr-var-attrs,\n",
       ".xr-var-data,\n",
       ".xr-index-data {\n",
       "  grid-column: 1 / -1;\n",
       "}\n",
       "\n",
       "dl.xr-attrs {\n",
       "  padding: 0;\n",
       "  margin: 0;\n",
       "  display: grid;\n",
       "  grid-template-columns: 125px auto;\n",
       "}\n",
       "\n",
       ".xr-attrs dt,\n",
       ".xr-attrs dd {\n",
       "  padding: 0;\n",
       "  margin: 0;\n",
       "  float: left;\n",
       "  padding-right: 10px;\n",
       "  width: auto;\n",
       "}\n",
       "\n",
       ".xr-attrs dt {\n",
       "  font-weight: normal;\n",
       "  grid-column: 1;\n",
       "}\n",
       "\n",
       ".xr-attrs dt:hover span {\n",
       "  display: inline-block;\n",
       "  background: var(--xr-background-color);\n",
       "  padding-right: 10px;\n",
       "}\n",
       "\n",
       ".xr-attrs dd {\n",
       "  grid-column: 2;\n",
       "  white-space: pre-wrap;\n",
       "  word-break: break-all;\n",
       "}\n",
       "\n",
       ".xr-icon-database,\n",
       ".xr-icon-file-text2,\n",
       ".xr-no-icon {\n",
       "  display: inline-block;\n",
       "  vertical-align: middle;\n",
       "  width: 1em;\n",
       "  height: 1.5em !important;\n",
       "  stroke-width: 0;\n",
       "  stroke: currentColor;\n",
       "  fill: currentColor;\n",
       "}\n",
       "</style><pre class='xr-text-repr-fallback'>&lt;xarray.DataArray (y: 10800, x: 18000)&gt; Size: 389MB\n",
       "[194400000 values with dtype=int16]\n",
       "Coordinates:\n",
       "  * x            (x) float64 144kB 167.5 167.5 167.5 167.5 ... 172.5 172.5 172.5\n",
       "  * y            (y) float64 86kB -41.8 -41.8 -41.8 -41.8 ... -44.8 -44.8 -44.8\n",
       "    spatial_ref  int64 8B 0\n",
       "Attributes:\n",
       "    TIFFTAG_XRESOLUTION:  1\n",
       "    TIFFTAG_YRESOLUTION:  1\n",
       "    AREA_OR_POINT:        Area\n",
       "    scale_factor:         1.0\n",
       "    add_offset:           0.0</pre><div class='xr-wrap' style='display:none'><div class='xr-header'><div class='xr-obj-type'>xarray.DataArray</div><div class='xr-array-name'></div><ul class='xr-dim-list'><li><span class='xr-has-index'>y</span>: 10800</li><li><span class='xr-has-index'>x</span>: 18000</li></ul></div><ul class='xr-sections'><li class='xr-section-item'><div class='xr-array-wrap'><input id='section-b9cacd98-f81c-4222-b0bc-bc0f74a10aef' class='xr-array-in' type='checkbox' checked><label for='section-b9cacd98-f81c-4222-b0bc-bc0f74a10aef' title='Show/hide data repr'><svg class='icon xr-icon-database'><use xlink:href='#icon-database'></use></svg></label><div class='xr-array-preview xr-preview'><span>...</span></div><div class='xr-array-data'><pre>[194400000 values with dtype=int16]</pre></div></div></li><li class='xr-section-item'><input id='section-13f05f5c-20a4-4558-b6da-1e998a8ea3d1' class='xr-section-summary-in' type='checkbox'  checked><label for='section-13f05f5c-20a4-4558-b6da-1e998a8ea3d1' class='xr-section-summary' >Coordinates: <span>(3)</span></label><div class='xr-section-inline-details'></div><div class='xr-section-details'><ul class='xr-var-list'><li class='xr-var-item'><div class='xr-var-name'><span class='xr-has-index'>x</span></div><div class='xr-var-dims'>(x)</div><div class='xr-var-dtype'>float64</div><div class='xr-var-preview xr-preview'>167.5 167.5 167.5 ... 172.5 172.5</div><input id='attrs-61d0c0c2-3f28-4ba4-8caa-d22e4fbd2d36' class='xr-var-attrs-in' type='checkbox' disabled><label for='attrs-61d0c0c2-3f28-4ba4-8caa-d22e4fbd2d36' title='Show/Hide attributes'><svg class='icon xr-icon-file-text2'><use xlink:href='#icon-file-text2'></use></svg></label><input id='data-3f61f75c-57bf-45a1-9e63-54c65e1d1a9d' class='xr-var-data-in' type='checkbox'><label for='data-3f61f75c-57bf-45a1-9e63-54c65e1d1a9d' title='Show/Hide data repr'><svg class='icon xr-icon-database'><use xlink:href='#icon-database'></use></svg></label><div class='xr-var-attrs'><dl class='xr-attrs'></dl></div><div class='xr-var-data'><pre>array([167.500139, 167.500417, 167.500694, ..., 172.499306, 172.499583,\n",
       "       172.499861])</pre></div></li><li class='xr-var-item'><div class='xr-var-name'><span class='xr-has-index'>y</span></div><div class='xr-var-dims'>(y)</div><div class='xr-var-dtype'>float64</div><div class='xr-var-preview xr-preview'>-41.8 -41.8 -41.8 ... -44.8 -44.8</div><input id='attrs-d8d494bf-e991-404b-8b71-acdd2eca9e53' class='xr-var-attrs-in' type='checkbox' disabled><label for='attrs-d8d494bf-e991-404b-8b71-acdd2eca9e53' title='Show/Hide attributes'><svg class='icon xr-icon-file-text2'><use xlink:href='#icon-file-text2'></use></svg></label><input id='data-c396d460-d001-4213-8e6b-8f72ea844ddd' class='xr-var-data-in' type='checkbox'><label for='data-c396d460-d001-4213-8e6b-8f72ea844ddd' title='Show/Hide data repr'><svg class='icon xr-icon-database'><use xlink:href='#icon-database'></use></svg></label><div class='xr-var-attrs'><dl class='xr-attrs'></dl></div><div class='xr-var-data'><pre>array([-41.800139, -41.800417, -41.800694, ..., -44.799306, -44.799583,\n",
       "       -44.799861])</pre></div></li><li class='xr-var-item'><div class='xr-var-name'><span>spatial_ref</span></div><div class='xr-var-dims'>()</div><div class='xr-var-dtype'>int64</div><div class='xr-var-preview xr-preview'>0</div><input id='attrs-c91a9e11-4397-48be-9ef8-60d6210ac4e8' class='xr-var-attrs-in' type='checkbox' ><label for='attrs-c91a9e11-4397-48be-9ef8-60d6210ac4e8' title='Show/Hide attributes'><svg class='icon xr-icon-file-text2'><use xlink:href='#icon-file-text2'></use></svg></label><input id='data-fb9ef268-1b16-4dea-bc0f-a1262f130c37' class='xr-var-data-in' type='checkbox'><label for='data-fb9ef268-1b16-4dea-bc0f-a1262f130c37' title='Show/Hide data repr'><svg class='icon xr-icon-database'><use xlink:href='#icon-database'></use></svg></label><div class='xr-var-attrs'><dl class='xr-attrs'><dt><span>crs_wkt :</span></dt><dd>GEOGCS[&quot;WGS 84&quot;,DATUM[&quot;WGS_1984&quot;,SPHEROID[&quot;WGS 84&quot;,6378137,298.257223563,AUTHORITY[&quot;EPSG&quot;,&quot;7030&quot;]],AUTHORITY[&quot;EPSG&quot;,&quot;6326&quot;]],PRIMEM[&quot;Greenwich&quot;,0,AUTHORITY[&quot;EPSG&quot;,&quot;8901&quot;]],UNIT[&quot;degree&quot;,0.0174532925199433,AUTHORITY[&quot;EPSG&quot;,&quot;9122&quot;]],AXIS[&quot;Latitude&quot;,NORTH],AXIS[&quot;Longitude&quot;,EAST],AUTHORITY[&quot;EPSG&quot;,&quot;4326&quot;]]</dd><dt><span>semi_major_axis :</span></dt><dd>6378137.0</dd><dt><span>semi_minor_axis :</span></dt><dd>6356752.314245179</dd><dt><span>inverse_flattening :</span></dt><dd>298.257223563</dd><dt><span>reference_ellipsoid_name :</span></dt><dd>WGS 84</dd><dt><span>longitude_of_prime_meridian :</span></dt><dd>0.0</dd><dt><span>prime_meridian_name :</span></dt><dd>Greenwich</dd><dt><span>geographic_crs_name :</span></dt><dd>WGS 84</dd><dt><span>horizontal_datum_name :</span></dt><dd>World Geodetic System 1984</dd><dt><span>grid_mapping_name :</span></dt><dd>latitude_longitude</dd><dt><span>spatial_ref :</span></dt><dd>GEOGCS[&quot;WGS 84&quot;,DATUM[&quot;WGS_1984&quot;,SPHEROID[&quot;WGS 84&quot;,6378137,298.257223563,AUTHORITY[&quot;EPSG&quot;,&quot;7030&quot;]],AUTHORITY[&quot;EPSG&quot;,&quot;6326&quot;]],PRIMEM[&quot;Greenwich&quot;,0,AUTHORITY[&quot;EPSG&quot;,&quot;8901&quot;]],UNIT[&quot;degree&quot;,0.0174532925199433,AUTHORITY[&quot;EPSG&quot;,&quot;9122&quot;]],AXIS[&quot;Latitude&quot;,NORTH],AXIS[&quot;Longitude&quot;,EAST],AUTHORITY[&quot;EPSG&quot;,&quot;4326&quot;]]</dd><dt><span>GeoTransform :</span></dt><dd>167.50000000000003 0.0002777777777777799 0.0 -41.800000000000004 0.0 -0.0002777777777777787</dd></dl></div><div class='xr-var-data'><pre>array(0)</pre></div></li></ul></div></li><li class='xr-section-item'><input id='section-79bdb173-f0a0-433e-ac11-ceb3efd052a1' class='xr-section-summary-in' type='checkbox'  ><label for='section-79bdb173-f0a0-433e-ac11-ceb3efd052a1' class='xr-section-summary' >Indexes: <span>(2)</span></label><div class='xr-section-inline-details'></div><div class='xr-section-details'><ul class='xr-var-list'><li class='xr-var-item'><div class='xr-index-name'><div>x</div></div><div class='xr-index-preview'>PandasIndex</div><div></div><input id='index-38af5826-7349-4601-90e2-b1e2d46e863d' class='xr-index-data-in' type='checkbox'/><label for='index-38af5826-7349-4601-90e2-b1e2d46e863d' title='Show/Hide index repr'><svg class='icon xr-icon-database'><use xlink:href='#icon-database'></use></svg></label><div class='xr-index-data'><pre>PandasIndex(Index([167.50013888888893,  167.5004166666667,  167.5006944444445,\n",
       "       167.50097222222226, 167.50125000000003, 167.50152777777782,\n",
       "        167.5018055555556, 167.50208333333336, 167.50236111111116,\n",
       "       167.50263888888892,\n",
       "       ...\n",
       "        172.4973611111112, 172.49763888888896, 172.49791666666675,\n",
       "       172.49819444444452,  172.4984722222223,  172.4987500000001,\n",
       "       172.49902777777785, 172.49930555555562, 172.49958333333342,\n",
       "        172.4998611111112],\n",
       "      dtype=&#x27;float64&#x27;, name=&#x27;x&#x27;, length=18000))</pre></div></li><li class='xr-var-item'><div class='xr-index-name'><div>y</div></div><div class='xr-index-preview'>PandasIndex</div><div></div><input id='index-5864faba-2f62-4988-a8e0-1bb51bcf1833' class='xr-index-data-in' type='checkbox'/><label for='index-5864faba-2f62-4988-a8e0-1bb51bcf1833' title='Show/Hide index repr'><svg class='icon xr-icon-database'><use xlink:href='#icon-database'></use></svg></label><div class='xr-index-data'><pre>PandasIndex(Index([-41.800138888888895,  -41.80041666666667,  -41.80069444444445,\n",
       "        -41.80097222222223,           -41.80125, -41.801527777777785,\n",
       "        -41.80180555555556,  -41.80208333333334,  -41.80236111111112,\n",
       "        -41.80263888888889,\n",
       "       ...\n",
       "        -44.79736111111113, -44.797638888888905,  -44.79791666666668,\n",
       "        -44.79819444444446,  -44.79847222222224,  -44.79875000000002,\n",
       "       -44.799027777777795,  -44.79930555555557,  -44.79958333333335,\n",
       "        -44.79986111111113],\n",
       "      dtype=&#x27;float64&#x27;, name=&#x27;y&#x27;, length=10800))</pre></div></li></ul></div></li><li class='xr-section-item'><input id='section-9911415e-d74a-4c62-bfc4-27ce0c6863bd' class='xr-section-summary-in' type='checkbox'  checked><label for='section-9911415e-d74a-4c62-bfc4-27ce0c6863bd' class='xr-section-summary' >Attributes: <span>(5)</span></label><div class='xr-section-inline-details'></div><div class='xr-section-details'><dl class='xr-attrs'><dt><span>TIFFTAG_XRESOLUTION :</span></dt><dd>1</dd><dt><span>TIFFTAG_YRESOLUTION :</span></dt><dd>1</dd><dt><span>AREA_OR_POINT :</span></dt><dd>Area</dd><dt><span>scale_factor :</span></dt><dd>1.0</dd><dt><span>add_offset :</span></dt><dd>0.0</dd></dl></div></li></ul></div></div>"
      ],
      "text/plain": [
       "<xarray.DataArray (y: 10800, x: 18000)> Size: 389MB\n",
       "[194400000 values with dtype=int16]\n",
       "Coordinates:\n",
       "  * x            (x) float64 144kB 167.5 167.5 167.5 167.5 ... 172.5 172.5 172.5\n",
       "  * y            (y) float64 86kB -41.8 -41.8 -41.8 -41.8 ... -44.8 -44.8 -44.8\n",
       "    spatial_ref  int64 8B 0\n",
       "Attributes:\n",
       "    TIFFTAG_XRESOLUTION:  1\n",
       "    TIFFTAG_YRESOLUTION:  1\n",
       "    AREA_OR_POINT:        Area\n",
       "    scale_factor:         1.0\n",
       "    add_offset:           0.0"
      ]
     },
     "execution_count": 3,
     "metadata": {},
     "output_type": "execute_result"
    }
   ],
   "source": [
    "south_island"
   ]
  },
  {
   "cell_type": "markdown",
   "id": "672da085-9c3a-465c-856c-93911fa72109",
   "metadata": {},
   "source": [
    "As we can see above we have a dataset with around 194 million elevations (18000 longitude points and 10800 latitude points). The values at each point are the elevation of the surface or `NaN` if the points are below sea level or missing from the DEM."
   ]
  },
  {
   "cell_type": "markdown",
   "id": "5dff935d-6414-4361-aba8-a2e1d242fcc8",
   "metadata": {},
   "source": [
    "## Extracting watersheds using pysheds\n",
    "\n",
    "### Overview of watershed delineation\n",
    "\n",
    "The next step in our workflow is to load the DEM into `pysheds` [^pysheds] to start working on the steps to define the boundaries of the watersheds. `pysheds` is a Python library designed for [efficient processing of DEM data and extraction of watersheds](https://mattbartos.com/pysheds/). However, before we get into using `pysheds`, it would be good to review some of the steps needed to define boundaries of watersheds.\n",
    "\n",
    "The process of watershed delineation is essentially defining the points that lie upstream (or up slope) of a specified outlet point on a digital elevation model. Outlet points can be found various ways, and in this case study they were simply selected visually from [Google Maps](https://www.google.com/maps) by finding the locations where rivers along the western side of the New Zealand Alps between roughly 42.4 °S and 44.0 °S exit their valleys. This latitude range corresponds roughly to a long, linear segment of the [Alpine Fault](https://en.wikipedia.org/wiki/Alpine_Fault), the boundary between the Australian and Pacific tectonic plates.\n",
    "\n",
    "However, once outlet points have been selected, there are still several important steps for processing a DEM such that watersheds can be defined. For instance, the DEM must be updated such that a route to the outlet points can be found using the assumption that water will flow to neighboring cells at lower elevations. The first set of steps are collectively referred to as \"hydrological conditioning\" of the DEM. Conditioning steps include:\n",
    "\n",
    "- Filling pits in the DEM. Pits are individual cells in the DEM that have no neighbor cell with a lower elevation (outlet). The elevations of pits must be increased to the point that their height is equal to or greater than at least one neighbor cell.\n",
    "- Filling depressions in the DEM. Similar to filling pits, groups of cells that have no outlet (depressions) must be filled (have their elevation increased) such that the elevation is equal to or greater than at least one neighbor cell.\n",
    "- Resolving flats. Water cannot flow downhill in flat regions of a DEM, such as a lake. Thus, flat regions in the DEM also need to be corrected such that water can always flow to a downstream outlet.\n",
    "\n",
    "Once the DEM has been conditioned, there are a few additional steps needed to produce the necessary information for watershed delineation, which are performed using the updated DEM. These steps include:\n",
    "\n",
    "- Determining flow directions. In order to be able to define the watershed it is necessary to identify all DEM cells where water would be routed to the defined watershed outlet. Flow directions indicate the direction in which water would be expected to flow from every cell in the DEM, which allows the directions to be traced upstream from the outlet to the point where flow directions diverge at the boundary of the watershed.\n",
    "- Determining flow accumulation. Flow accumulation is a calculation of how many upstream cells drain into each cell in the DEM. This isn't strictly needed for watershed delineation, but can be helpful in finding river channels in the DEM if selected outlet points are not located exactly in a channel cell. We will return to this below.\n",
    "\n",
    "Once these steps have been completed, it is possible to delineate a watershed upstream of a specified outlet point."
   ]
  },
  {
   "cell_type": "markdown",
   "id": "09f2492b-6f50-457c-acde-80dec1e5ef16",
   "metadata": {
    "editable": true,
    "slideshow": {
     "slide_type": ""
    },
    "tags": []
   },
   "source": [
    "### Reading the DEM into pysheds\n",
    "\n",
    "At this stage we can begin the DEM processing steps using `pysheds`. The first step is to read in the DEM. To do this, we need to define the elevation data that will be used (`data`), the affine transformation matrix (`affine`), the coordinate reference system (`crs`), and the value used to indicate missing data (`nodata`). As a reminder, the affine transformation matrix and coordinate reference system values were introduced in Sections 7.2 and 7.4. The values used in the case are defined below.\n",
    "\n",
    "And it is worthwhile to note that it is also possible to read geotiff DEMs into `pysheds` directly. In this case study, the data are read in using `rioxarray` because we have seen this before and {doc}`pre-processing of the data was done to create a mosaic </data/New-Zealand-data>` using `rioxarray`. As a reminder, creating mosaics of raster data was covered in Section 7.3."
   ]
  },
  {
   "cell_type": "code",
   "execution_count": 4,
   "id": "ceb460d0-0792-48dc-b690-73fe2b7697f9",
   "metadata": {
    "editable": true,
    "slideshow": {
     "slide_type": ""
    },
    "tags": []
   },
   "outputs": [],
   "source": [
    "data = south_island.data\n",
    "affine = south_island.rio.transform()\n",
    "crs = south_island.rio.crs\n",
    "# Keep same data type as DEM values for nodata\n",
    "nodata = data.dtype.type(-9999)"
   ]
  },
  {
   "cell_type": "markdown",
   "id": "4b8b93d6-4a48-4bd7-89a7-44ef09e28d30",
   "metadata": {},
   "source": [
    "The values above can then be used to define the `pysheds` `ViewFinder`, which defines the spatial reference system for the DEM. After defining the `ViewFinder`, the elevation data can be read in using the `pysheds` `Raster()` function."
   ]
  },
  {
   "cell_type": "code",
   "execution_count": 5,
   "id": "9696ce0b-db03-4b7d-9831-52659a3dc1e1",
   "metadata": {},
   "outputs": [],
   "source": [
    "viewfinder = ViewFinder(affine=affine, shape=data.shape, crs=crs, nodata=nodata)\n",
    "dem = Raster(data, viewfinder=viewfinder)"
   ]
  },
  {
   "cell_type": "markdown",
   "id": "15f4a6fd-caae-41ba-863c-76e1ea42e013",
   "metadata": {},
   "source": [
    "Finally, a `pysheds` `Grid` object is created, which allows visualization of the DEM data and the use of various `Grid` methods for processing the elevation data."
   ]
  },
  {
   "cell_type": "code",
   "execution_count": 6,
   "id": "bb0a4dc4-66b6-4149-b466-fbbfe5f24c92",
   "metadata": {},
   "outputs": [],
   "source": [
    "# Create grid\n",
    "grid = Grid.from_raster(dem)"
   ]
  },
  {
   "cell_type": "markdown",
   "id": "a5609d31-6456-4e82-b28f-21fce001e5dc",
   "metadata": {
    "editable": true,
    "slideshow": {
     "slide_type": ""
    },
    "tags": []
   },
   "source": [
    "### Preparing a DEM for analysis in pysheds\n",
    "\n",
    "Now we are ready to begin processing the data. As noted above, we're working with a fairly large DEM (~194 million points). The processing of the data with `pysheds` generally goes smoothly, but it is possible that the JupyterLab kernel might crash at some stage. As a result, we will use an additional variable below (`checkpoint`), which will write output to files at different stages and allow us to restart the processing from various points if the kernel crashes. If you do not want to want checkpoint output written to the `checkpoint_data` directory, set `checkpoint` to `False`.\n",
    "\n",
    "Also, we note here that some output plots and supplementary information are provided only in the online version of this book at <https://pythongis.org>. These additional materials are not presented in the print version of the book to save space (and are not needed to understand this case study)."
   ]
  },
  {
   "cell_type": "code",
   "execution_count": 7,
   "id": "3807e8d0-2165-44e8-aac9-731342080f11",
   "metadata": {
    "editable": true,
    "slideshow": {
     "slide_type": ""
    },
    "tags": []
   },
   "outputs": [],
   "source": [
    "checkpoint = True"
   ]
  },
  {
   "cell_type": "markdown",
   "id": "d3e0d94d-81ea-4066-907d-12c1fb90e8be",
   "metadata": {},
   "source": [
    "The first step in the process is to detect any pits in the DEM, which can be done using the `.detect_pits()` `Grid` method."
   ]
  },
  {
   "cell_type": "code",
   "execution_count": 8,
   "id": "412b3d9e-9248-40c9-93d2-350c50f7dd80",
   "metadata": {
    "editable": true,
    "slideshow": {
     "slide_type": ""
    },
    "tags": []
   },
   "outputs": [
    {
     "name": "stdout",
     "output_type": "stream",
     "text": [
      "Number of pits found: 626348\n"
     ]
    }
   ],
   "source": [
    "# Detect number of pits in DEM\n",
    "pits = grid.detect_pits(dem)\n",
    "npits = np.count_nonzero(pits)\n",
    "\n",
    "# Check number of pits\n",
    "print(f\"Number of pits found: {npits}\")"
   ]
  },
  {
   "cell_type": "markdown",
   "id": "3dcd7321-bcf5-4a6b-83c3-ab9a8ee96b44",
   "metadata": {
    "editable": true,
    "slideshow": {
     "slide_type": ""
    },
    "tags": [
     "remove_book_cell"
    ]
   },
   "source": [
    "After detecting the pits it is possible to visualize their locations by plotting the `pits` values, as shown below. Unfortunately in this case, the number of elevations is so large that the 626,348 pits are not visible in the resulting plot. For smaller DEMs these points could be visible."
   ]
  },
  {
   "cell_type": "code",
   "execution_count": 9,
   "id": "2c762f54-d31b-480d-8a56-d4de97234e8a",
   "metadata": {
    "editable": true,
    "slideshow": {
     "slide_type": ""
    },
    "tags": [
     "remove_book_cell"
    ]
   },
   "outputs": [
    {
     "data": {
      "image/png": "[encoded data removed]",
      "text/plain": [
       "<Figure size 800x600 with 1 Axes>"
      ]
     },
     "metadata": {
      "needs_background": "light"
     },
     "output_type": "display_data"
    }
   ],
   "source": [
    "# Plot pits if more than zero\n",
    "if npits > 0:\n",
    "    # Plot pits\n",
    "    fig, ax = plt.subplots(figsize=(8, 6))\n",
    "    fig.patch.set_alpha(0)\n",
    "\n",
    "    plt.imshow(pits, cmap=\"Greys_r\", zorder=1)\n",
    "    plt.title(\"Pits\", size=14)\n",
    "    plt.tight_layout()"
   ]
  },
  {
   "cell_type": "markdown",
   "id": "b87ddba3-b06c-4fd7-ac1f-0bd85d668206",
   "metadata": {
    "editable": true,
    "slideshow": {
     "slide_type": ""
    },
    "tags": [
     "remove_book_cell"
    ]
   },
   "source": [
    "_Visualization of the pits detected in the raw DEM._"
   ]
  },
  {
   "cell_type": "markdown",
   "id": "d74ac675-9b56-4c72-8f5c-c54fd68e9c54",
   "metadata": {
    "editable": true,
    "slideshow": {
     "slide_type": ""
    },
    "tags": []
   },
   "source": [
    "As there are clearly many pits in the DEM (626,348), it is necessary to next fill in the pits using the `.fill_pits()` method. After doing this, we can check that the pits have been filled using an `assert` statement."
   ]
  },
  {
   "cell_type": "code",
   "execution_count": 10,
   "id": "76fcf532-35dd-4c05-a306-cebe652eeb83",
   "metadata": {
    "editable": true,
    "slideshow": {
     "slide_type": ""
    },
    "tags": []
   },
   "outputs": [],
   "source": [
    "# Fill pits and check they have been filled\n",
    "pit_filled_dem = grid.fill_pits(dem)\n",
    "pits = grid.detect_pits(pit_filled_dem)\n",
    "assert not pits.any()"
   ]
  },
  {
   "cell_type": "markdown",
   "id": "76ae9323-fffe-4a14-8bcd-18adaeaa12f9",
   "metadata": {
    "editable": true,
    "slideshow": {
     "slide_type": ""
    },
    "tags": []
   },
   "source": [
    "So, now all pits have been filled, but other depressions may still exist in the DEM, which we will now detect (and fill if they exist). We can detect depressions using the `detect_depressions()` method."
   ]
  },
  {
   "cell_type": "code",
   "execution_count": 11,
   "id": "a482d7f1-b82e-406f-9a49-57a6aeecc1de",
   "metadata": {
    "editable": true,
    "slideshow": {
     "slide_type": ""
    },
    "tags": []
   },
   "outputs": [],
   "source": [
    "# Detect depressions - Slow. May take 5 minutes or more.\n",
    "depressions = grid.detect_depressions(pit_filled_dem)"
   ]
  },
  {
   "cell_type": "code",
   "execution_count": null,
   "id": "8c9748ae-f56f-4a8b-82ac-4d60c1d595aa",
   "metadata": {
    "editable": true,
    "slideshow": {
     "slide_type": ""
    },
    "tags": []
   },
   "outputs": [],
   "source": [
    "# ADD REMOVE CELL TAG\n",
    "\n",
    "# Plot depressions\n",
    "fig, ax = plt.subplots(figsize=(8, 6))\n",
    "fig.patch.set_alpha(0)\n",
    "\n",
    "plt.imshow(depressions, cmap=\"Greys_r\", zorder=1)\n",
    "plt.title(\"Depressions\", size=14)\n",
    "plt.tight_layout()"
   ]
  },
  {
   "cell_type": "markdown",
   "id": "7a5d2a4a-ab02-416d-89c0-09a3635d3242",
   "metadata": {},
   "source": [
    "## Write output to file\n",
    "\n",
    "Since the step above took a few minutes, let's save the current output to a file in case there is a need to start over from this point at some stage in the future."
   ]
  },
  {
   "cell_type": "code",
   "execution_count": null,
   "id": "886da718-f652-44a0-905f-a921eb45093e",
   "metadata": {},
   "outputs": [],
   "source": [
    "if checkpoint:\n",
    "    # Write dataset to file\n",
    "    grid.to_raster(\n",
    "        pit_filled_dem,\n",
    "        \"checkpoint_data/pit_filled_dem.tif\",\n",
    "        blockxsize=16,\n",
    "        blockysize=16,\n",
    "    )\n",
    "    # NOTE: Need to use \"int\" for dtype to avoid write error for boolean values\n",
    "    grid.to_raster(\n",
    "        depressions,\n",
    "        \"checkpoint_data/detected_depressions.tif\",\n",
    "        dtype=int,\n",
    "        blockxsize=16,\n",
    "        blockysize=16,\n",
    "    )"
   ]
  },
  {
   "cell_type": "code",
   "execution_count": null,
   "id": "b3efc5c3-25e4-4e62-b371-6536723521a8",
   "metadata": {},
   "outputs": [],
   "source": [
    "continue_from_here = False\n",
    "if continue_from_here:\n",
    "    grid, pit_filled_dem = continue_pysheds(\"checkpoint_data/pit_filled_dem.tif\")\n",
    "    _, depressions = continue_pysheds(\"checkpoint_data/detected_depressions.tif\")"
   ]
  },
  {
   "cell_type": "code",
   "execution_count": null,
   "id": "39eae28d-6ebc-47fb-90d0-a43b7fd5cbb8",
   "metadata": {},
   "outputs": [],
   "source": [
    "# Fill depressions - Slow, takes 5-10 minutes...\n",
    "flooded_dem = grid.fill_depressions(pit_filled_dem)\n",
    "depressions = grid.detect_depressions(flooded_dem)\n",
    "assert not depressions.any()"
   ]
  },
  {
   "cell_type": "code",
   "execution_count": null,
   "id": "3b07d6c1-328d-464e-96fd-610989292aa6",
   "metadata": {},
   "outputs": [],
   "source": [
    "if checkpoint:\n",
    "    # Write dataset to file\n",
    "    grid.to_raster(\n",
    "        flooded_dem, \"checkpoint_data/flooded_dem.tif\", blockxsize=16, blockysize=16\n",
    "    )"
   ]
  },
  {
   "cell_type": "code",
   "execution_count": null,
   "id": "302e50e6-ab9d-4e28-ae66-9e76a5636bef",
   "metadata": {},
   "outputs": [],
   "source": [
    "continue_from_here = False\n",
    "if continue_from_here:\n",
    "    grid, flooded_dem = continue_pysheds(\"checkpoint_data/flooded_dem.tif\")"
   ]
  },
  {
   "cell_type": "code",
   "execution_count": null,
   "id": "c91cb841-6fce-44c7-b4bf-526abf3c4493",
   "metadata": {},
   "outputs": [],
   "source": [
    "# Detect flats\n",
    "flats = grid.detect_flats(flooded_dem)"
   ]
  },
  {
   "cell_type": "code",
   "execution_count": null,
   "id": "5d6af2c5-735d-48dd-af00-bbe0c5c6b6ca",
   "metadata": {},
   "outputs": [],
   "source": [
    "# ADD REMOVE CELL TAG\n",
    "\n",
    "# Plot flats\n",
    "fig, ax = plt.subplots(figsize=(8, 6))\n",
    "fig.patch.set_alpha(0)\n",
    "\n",
    "plt.imshow(flats, cmap=\"Greys_r\", zorder=1)\n",
    "plt.title(\"Flats\", size=14)\n",
    "plt.tight_layout()"
   ]
  },
  {
   "cell_type": "code",
   "execution_count": null,
   "id": "d4ba9db9-5552-4544-8456-c636f14b594f",
   "metadata": {},
   "outputs": [],
   "source": [
    "# Resolve flats\n",
    "inflated_dem = grid.resolve_flats(flooded_dem)\n",
    "flats = grid.detect_flats(inflated_dem)"
   ]
  },
  {
   "cell_type": "code",
   "execution_count": null,
   "id": "d4c16f28-d08d-44a9-9552-cb46a7b844f7",
   "metadata": {},
   "outputs": [],
   "source": [
    "# ADD REMOVE CELL TAG\n",
    "\n",
    "# Plot flats, if requested\n",
    "fig, ax = plt.subplots(figsize=(8, 6))\n",
    "fig.patch.set_alpha(0)\n",
    "\n",
    "plt.imshow(flats, cmap=\"Greys_r\", zorder=1)\n",
    "plt.title(\"Flats\", size=14)\n",
    "plt.tight_layout()"
   ]
  },
  {
   "cell_type": "code",
   "execution_count": null,
   "id": "9d3961ad-2e10-4fc1-b17b-473f774e7397",
   "metadata": {},
   "outputs": [],
   "source": [
    "# Compute flow direction based on corrected DEM (D8)\n",
    "fdir = grid.flowdir(inflated_dem)\n",
    "\n",
    "# Compute flow accumulation based on computed flow direction\n",
    "acc = grid.accumulation(fdir)"
   ]
  },
  {
   "cell_type": "code",
   "execution_count": null,
   "id": "0758e0c1-8354-43a8-8dc7-52c60c00b751",
   "metadata": {},
   "outputs": [],
   "source": [
    "# ADD REMOVE CELL TAG\n",
    "\n",
    "# Plot flow accumulation, if requested\n",
    "fig, ax = plt.subplots(figsize=(8, 6))\n",
    "fig.patch.set_alpha(0)\n",
    "im = ax.imshow(\n",
    "    acc,\n",
    "    zorder=2,\n",
    "    cmap=\"cubehelix\",\n",
    "    norm=colors.LogNorm(1, acc.max()),\n",
    "    interpolation=\"bilinear\",\n",
    ")\n",
    "plt.colorbar(im, ax=ax, label=\"Upstream Cells\")\n",
    "plt.title(\"Flow Accumulation\", size=14)\n",
    "plt.tight_layout()"
   ]
  },
  {
   "cell_type": "code",
   "execution_count": null,
   "id": "090e60ac-8940-48b2-90cf-44a3c6288ea5",
   "metadata": {},
   "outputs": [],
   "source": [
    "if checkpoint:\n",
    "    # Write flow accumulation and directions to file\n",
    "    grid.to_raster(\n",
    "        acc, \"checkpoint_data/flow_accumulation.tif\", blockxsize=16, blockysize=16\n",
    "    )\n",
    "    grid.to_raster(\n",
    "        fdir, \"checkpoint_data/flow_directions.tif\", blockxsize=16, blockysize=16\n",
    "    )"
   ]
  },
  {
   "cell_type": "code",
   "execution_count": null,
   "id": "8d36ad9a-76e3-4df7-a3a4-c9749d71d7f0",
   "metadata": {},
   "outputs": [],
   "source": [
    "continue_from_here = False\n",
    "if continue_from_here:\n",
    "    grid, acc = continue_pysheds(\"checkpoint_data/flow_accumulation.tif\")\n",
    "    _, fdir = continue_pysheds(\"checkpoint_data/flow_directions.tif\")"
   ]
  },
  {
   "cell_type": "code",
   "execution_count": null,
   "id": "2025ec21-f162-4cd6-9363-4716061f8ec0",
   "metadata": {},
   "outputs": [],
   "source": [
    "pour_points = [\n",
    "    (168.723432, -44.060960),  # Big, glacial (Arawhata River)\n",
    "    (168.838838, -44.023259),  # Small, glacial (Waiatoto River)\n",
    "    (168.942363, -43.971371),  # Small, fluvial (Turnbull River)\n",
    "    (168.987365, -43.952888),  # Medium, fluvial? (Okuru River)\n",
    "    (169.144604, -43.935653),  # Big, mixed (Haast River)\n",
    "    (169.351885, -43.785118),  # Medium, glacial (Moeraki River)\n",
    "    (169.497063, -43.716472),  # Medium, mixed (Paringa River)\n",
    "    (169.593608, -43.666203),  # Medium, mixed (Mahitahi River)\n",
    "    (169.695061, -43.617701),  # Medium, mixed (Jacobs River)\n",
    "    (169.808933, -43.576726),  # Medium-big, mixed (Karangarua River)\n",
    "    (169.965037, -43.498121),  # Medium, mixed (Cook River)\n",
    "    (170.008772, -43.478192),  # Medium, mixed (Fox River, glaciers present)\n",
    "    (170.070511, -43.443732),  # Medium, fluvial? (Waikukupa River)\n",
    "    (170.102720, -43.425248),  # Small, fluvial? (Omoeroa River)\n",
    "    (170.182282, -43.394347),  # Medium, glacial (Waiho River)\n",
    "    (170.274318, -43.343211),  # Small, fluvial (Waitangitaona River)\n",
    "    (170.302801, -43.326779),  # Small, fluvial? (Darnley Creek)\n",
    "    (170.403417, -43.285756),  # Big, mixed (Whataroa River)\n",
    "    (170.525003, -43.217547),  # Medium, mixed (Poerua River)\n",
    "    (170.624160, -43.158141),  # Big, mixed (Wanganui River)\n",
    "    (170.729994, -43.107470),  # Medium, fluvial? (Waitaha River)\n",
    "    (170.820316, -43.064461),  # Small, fluvial (Kakapotahi River?)\n",
    "    (170.869467, -43.014418),  # Medium, fluvial (Mikonui River)\n",
    "    (171.012521, -42.957962),  # Big, mixed (Hokitika River)\n",
    "    (171.131477, -42.910875),  # Small, fluvial (Toaroha River)\n",
    "    (171.150106, -42.903147),  # Small, fluvial (Kokatahi River)\n",
    "    (171.165837, -42.884519),  # Medium, mixed (Styx River)\n",
    "    (171.238172, -42.840905),  # Medium, mixed (Arahura River)\n",
    "    (171.405012, -42.755411),  # Big, mixed (Taipo River)\n",
    "    (171.467475, -42.733149),  # Very big, mixed (Taramakau River)\n",
    "    (171.626527, -42.649998),  # Small, fluvial (Crooked River)\n",
    "    (171.682798, -42.618596),  # Small, fluvial (Evans River)\n",
    "    (171.733798, -42.612758),  # Medium, mixed fluvial (Haupiri River)\n",
    "    (171.886492, -42.568796),  # Medium, fluvial (Waikiti River)\n",
    "    (171.979749, -42.559885),  # Medium, mixed (Tutaekuri River)\n",
    "    (171.995805, -42.546945),  # Medium, fluvial (Waiheke River)\n",
    "    (172.012893, -42.471985),  # Medium, mixed (Robinson River)\n",
    "    (172.136101, -42.411857),  # Small, mixed (Blue Grey River)\n",
    "]"
   ]
  },
  {
   "cell_type": "code",
   "execution_count": null,
   "id": "3dac3a6c-13c4-4984-abb3-4c066d8d0e78",
   "metadata": {},
   "outputs": [],
   "source": [
    "river_names = [\n",
    "    \"Arawhata River\",\n",
    "    \"Waiatoto River\",\n",
    "    \"Turnbull River\",\n",
    "    \"Okuru River\",\n",
    "    \"Haast River\",\n",
    "    \"Moeraki River\",\n",
    "    \"Paringa River\",\n",
    "    \"Mahitahi River\",\n",
    "    \"Jacobs River\",\n",
    "    \"Karangarua River\",\n",
    "    \"Cook River\",\n",
    "    \"Fox River\",\n",
    "    \"Waikukupa River\",\n",
    "    \"Omoeroa River\",\n",
    "    \"Waiho River\",\n",
    "    \"Waitangitaona River\",\n",
    "    \"Darnley Creek\",\n",
    "    \"Whataroa River\",\n",
    "    \"Poerua River\",\n",
    "    \"Wanganui River\",\n",
    "    \"Waitaha River\",\n",
    "    \"Kakapotahi River?\",\n",
    "    \"Mikonui River\",\n",
    "    \"Hokitika River\",\n",
    "    \"Toaroha River\",\n",
    "    \"Kokatahi River\",\n",
    "    \"Styx River\",\n",
    "    \"Arahura River\",\n",
    "    \"Taipo River\",\n",
    "    \"Taramakau River\",\n",
    "    \"Crooked River\",\n",
    "    \"Evans River\",\n",
    "    \"Haupiri River\",\n",
    "    \"Waikiti River\",\n",
    "    \"Tutaekuri River\",\n",
    "    \"Waiheke River\",\n",
    "    \"Robinson River\",\n",
    "    \"Blue Grey River\",\n",
    "]"
   ]
  },
  {
   "cell_type": "code",
   "execution_count": null,
   "id": "b6c8ce1d-7736-4000-a843-4c6d5eb9701e",
   "metadata": {},
   "outputs": [],
   "source": [
    "# Loop over river outlets and extract catchments\n",
    "\n",
    "catchments = []\n",
    "snap_points = []\n",
    "catch_number = 0\n",
    "print(\"Processing catchments\", end=\"\")\n",
    "for pour_point in pour_points:\n",
    "    catch_number += 1\n",
    "    print(\".\", end=\"\", flush=True)\n",
    "    x_snap, y_snap = grid.snap_to_mask(acc > 1000, pour_point)\n",
    "\n",
    "    # Save snapped pour points to a list for later use\n",
    "    snap_points.append((x_snap, y_snap))\n",
    "\n",
    "    # Delineate the catchment\n",
    "    catch = grid.catchment(x=x_snap, y=y_snap, fdir=fdir, xytype=\"coordinate\")\n",
    "\n",
    "    # Append catchment to list\n",
    "    catchments.append(catch)\n",
    "\n",
    "print(\"done.\")"
   ]
  },
  {
   "cell_type": "code",
   "execution_count": null,
   "id": "899d8e9f-804a-42ee-88db-c54e0458e6f9",
   "metadata": {},
   "outputs": [],
   "source": [
    "catchment_number = 15\n",
    "cur_catch = catchments[catchment_number]\n",
    "\n",
    "# Clip and set view extent\n",
    "grid.clip_to(cur_catch)\n",
    "catch_view = grid.view(cur_catch)\n",
    "fdir_view = grid.view(fdir)\n",
    "acc_view = grid.view(acc, nodata=np.nan)\n",
    "dem_view = grid.view(dem, nodata=np.nan)\n",
    "\n",
    "# Plot the catchment\n",
    "fig, axes = plt.subplots(2, 2, figsize=(10, 6))\n",
    "fig.patch.set_alpha(0)\n",
    "\n",
    "plt.grid(\"on\", zorder=0)\n",
    "\n",
    "im = axes[0, 0].imshow(catch_view, extent=grid.extent, zorder=1, cmap=\"Greys_r\")\n",
    "im = axes[0, 1].imshow(dem_view, extent=grid.extent, zorder=1, cmap=\"viridis\")\n",
    "im = axes[1, 0].imshow(fdir_view, extent=grid.extent, zorder=1, cmap=\"viridis\")\n",
    "im = axes[1, 1].imshow(\n",
    "    acc_view,\n",
    "    extent=grid.extent,\n",
    "    zorder=2,\n",
    "    cmap=\"cubehelix\",\n",
    "    norm=colors.LogNorm(1, acc.max()),\n",
    "    interpolation=\"bilinear\",\n",
    ")\n",
    "\n",
    "plt.xlabel(\"Longitude\")\n",
    "plt.ylabel(\"Latitude\")\n",
    "plt.suptitle(\"Delineated Catchment\", size=14)\n",
    "plt.tight_layout()"
   ]
  },
  {
   "cell_type": "code",
   "execution_count": null,
   "id": "c20369e0-f89b-4e9b-acbc-ca4b49064825",
   "metadata": {},
   "outputs": [],
   "source": [
    "# Compute distance to outlet\n",
    "dist = grid.distance_to_outlet(\n",
    "    x=snap_points[catchment_number][0],\n",
    "    y=snap_points[catchment_number][1],\n",
    "    fdir=fdir,\n",
    "    xytype=\"coordinate\",\n",
    ")"
   ]
  },
  {
   "cell_type": "code",
   "execution_count": null,
   "id": "bfb3efe1-db88-427e-9a67-58ad485974ce",
   "metadata": {},
   "outputs": [],
   "source": [
    "# ADD REMOVE CELL TAG\n",
    "\n",
    "fig, ax = plt.subplots(figsize=(8, 6))\n",
    "fig.patch.set_alpha(0)\n",
    "plt.grid(\"on\", zorder=0)\n",
    "im = ax.imshow(dist, extent=grid.extent, zorder=2, cmap=\"cubehelix_r\")\n",
    "plt.colorbar(im, ax=ax, label=\"Distance to outlet (cells)\")\n",
    "plt.xlabel(\"Longitude\")\n",
    "plt.ylabel(\"Latitude\")\n",
    "plt.title(\"Distance to outlet\", size=14)"
   ]
  },
  {
   "cell_type": "code",
   "execution_count": null,
   "id": "e4d63e37-5069-41a7-9955-658067c03903",
   "metadata": {},
   "outputs": [],
   "source": [
    "# Extract river network\n",
    "branches = grid.extract_river_network(fdir, acc > 100)"
   ]
  },
  {
   "cell_type": "code",
   "execution_count": null,
   "id": "75ab3b9f-e8f2-44dd-bd06-e0ef78c6db25",
   "metadata": {},
   "outputs": [],
   "source": [
    "# ADD REMOVE CELL TAG\n",
    "\n",
    "fig, ax = plt.subplots(figsize=(8.5, 6.5))\n",
    "\n",
    "plt.xlim(grid.bbox[0], grid.bbox[2])\n",
    "plt.ylim(grid.bbox[1], grid.bbox[3])\n",
    "ax.set_aspect(\"equal\")\n",
    "\n",
    "for branch in branches[\"features\"]:\n",
    "    line = np.asarray(branch[\"geometry\"][\"coordinates\"])\n",
    "    plt.plot(line[:, 0], line[:, 1])\n",
    "\n",
    "plt.title(\"Channel network (>100 accumulation)\", size=14);"
   ]
  },
  {
   "cell_type": "code",
   "execution_count": null,
   "id": "8f7d0ca6-8adb-4184-b0f8-7c20ff968c04",
   "metadata": {},
   "outputs": [],
   "source": [
    "# CUT THIS?\n",
    "\n",
    "strahler = grid.stream_order(fdir, acc > 100)\n",
    "\n",
    "fig, ax = plt.subplots(figsize=(8, 6))\n",
    "fig.patch.set_alpha(0)\n",
    "plt.grid(\"on\", zorder=0)\n",
    "cmap = colors.ListedColormap(\n",
    "    [\"white\", \"tab:blue\", \"tab:orange\", \"tab:green\", \"tab:red\"]\n",
    ")  # , \"tab:purple\"])\n",
    "im = ax.imshow(strahler, extent=grid.extent, cmap=cmap)\n",
    "plt.colorbar(im, ax=ax, label=\"Strahler stream order\")\n",
    "plt.xlabel(\"Longitude\")\n",
    "plt.ylabel(\"Latitude\")\n",
    "plt.title(\"Strahler stream order\", size=14)"
   ]
  },
  {
   "cell_type": "code",
   "execution_count": null,
   "id": "b4938e80-f187-44c0-a6ee-062ac35e3e0f",
   "metadata": {},
   "outputs": [],
   "source": [
    "# Convert catchment data for xarray\n",
    "catchment = dem_view\n",
    "data = catchment.data\n",
    "\n",
    "# Get latitude and longitude ranges\n",
    "lat = np.unique(catchment.coords[:, 0])\n",
    "# Get latitude points in correct order (reverse order of array values)\n",
    "lat = np.flip(lat)\n",
    "lon = np.unique(catchment.coords[:, 1])\n",
    "\n",
    "catch_xr = xr.DataArray(catchment.base, coords={\"y\": lat, \"x\": lon}, dims=[\"y\", \"x\"])"
   ]
  },
  {
   "cell_type": "markdown",
   "id": "167bbbd3-84bb-47bf-b1ad-1ae564045c3f",
   "metadata": {},
   "source": [
    "For convenience, the conversion to xarray has been saved as a function called `to_xarray()` in the `basin_functions.py` file."
   ]
  },
  {
   "cell_type": "code",
   "execution_count": null,
   "id": "71a20500-cdbd-486d-a7a1-cd8ba2c54a6f",
   "metadata": {},
   "outputs": [],
   "source": [
    "fig, ax = plt.subplots(1, 1)\n",
    "catch_xr.plot(ax=ax, cmap=\"plasma\")\n",
    "ax.axis(\"equal\")\n",
    "plt.show()"
   ]
  },
  {
   "cell_type": "code",
   "execution_count": null,
   "id": "a3c912b5-11e8-47e6-8dd9-0a41537f7c83",
   "metadata": {},
   "outputs": [],
   "source": [
    "nbins = 20\n",
    "counts, bins = np.histogram(catch_xr.values[~np.isnan(catch_xr.values)], bins=nbins)"
   ]
  },
  {
   "cell_type": "code",
   "execution_count": null,
   "id": "1bb972fc-5e93-4e3e-9e26-2171f88a42c6",
   "metadata": {},
   "outputs": [],
   "source": [
    "# ADD REMOVE CELL TAG?\n",
    "\n",
    "# Plot elevation histogram\n",
    "fig, ax = plt.subplots(1, 1)\n",
    "ax.hist(catch_xr.values[~np.isnan(catch_xr.values)], bins=nbins)\n",
    "ax.set_xlabel(\"Elevation (m)\")\n",
    "ax.set_ylabel(\"Number of occurences\")\n",
    "plt.tight_layout()"
   ]
  },
  {
   "cell_type": "code",
   "execution_count": null,
   "id": "9d4597c1-cfc1-4388-9eb2-ce6b5e1d9d76",
   "metadata": {},
   "outputs": [],
   "source": [
    "# Calculate elevation histogram\n",
    "catch_elev = catch_xr.values[~np.isnan(catch_xr.values)]\n",
    "binsize = 50.0\n",
    "minbin = catch_elev.min() - catch_elev.min() % +binsize\n",
    "maxbin = catch_elev.max() - catch_elev.max() % -binsize\n",
    "nbins = np.arange(minbin, maxbin + 1.0, binsize)\n",
    "counts, bins = np.histogram(catch_elev, bins=nbins)"
   ]
  },
  {
   "cell_type": "code",
   "execution_count": null,
   "id": "edc753b6-af92-4a6a-9d28-ef702203bdff",
   "metadata": {},
   "outputs": [],
   "source": [
    "# Plot elevation histogram\n",
    "fig, ax = plt.subplots(1, 1)\n",
    "ax.hist(catch_elev, bins=nbins)\n",
    "ax.set_xlabel(\"Elevation (m)\")\n",
    "ax.set_ylabel(\"Number of occurences\")\n",
    "plt.tight_layout()"
   ]
  },
  {
   "cell_type": "code",
   "execution_count": null,
   "id": "f8c2a9ab-597a-42bc-9dc6-7174ecc30452",
   "metadata": {},
   "outputs": [],
   "source": [
    "# Normalize area distribution\n",
    "norm_counts = counts.cumsum() / counts.cumsum().max()\n",
    "\n",
    "# Convert to area above min elevation\n",
    "norm_counts = 1 - norm_counts\n",
    "\n",
    "# Normalize elevations\n",
    "norm_bins = (bins - bins.min()) / (bins.max() - bins.min())"
   ]
  },
  {
   "cell_type": "code",
   "execution_count": null,
   "id": "c1d5e439-a5d1-4b61-9f7c-994305d0a2de",
   "metadata": {},
   "outputs": [],
   "source": [
    "# Calculate hypsometric integral\n",
    "bin_width = norm_bins[1] - norm_bins[0]\n",
    "hyps_integral = sum(norm_counts * bin_width)\n",
    "print(f\"Hypsometric integral: {abs(hyps_integral):.3f}\")"
   ]
  },
  {
   "cell_type": "code",
   "execution_count": null,
   "id": "b9c6d184-db93-4122-a959-c92bdb9c16af",
   "metadata": {},
   "outputs": [],
   "source": [
    "fig, ax = plt.subplots(1, 1)\n",
    "# ax.plot(bins[:-1], counts, \"k+\")\n",
    "ax.plot(norm_counts, bins[:-1], \"r\", label=\"Basin hypsometric curve\")\n",
    "ax.set_xlabel(\"Area fraction above elevation\")\n",
    "ax.set_ylabel(\"Elevation (m)\")\n",
    "ax.plot(\n",
    "    [0.0, 1.0],\n",
    "    [bins[:-1].max(), bins[:-1].min()],\n",
    "    \"--\",\n",
    "    color=\"gray\",\n",
    "    label=\"Linear reference\",\n",
    ")\n",
    "ax.legend()\n",
    "ax.set_xlim(0.0, 1.0)\n",
    "ax.set_ylim(bins[:-1].min(), bins[:-1].max())\n",
    "ax.text(\n",
    "    0.05,\n",
    "    (0.05 * bins[:-1].max()) + bins[:-1].min(),\n",
    "    f\"Hypsometric integral: {abs(hyps_integral):.3f}\",\n",
    ");"
   ]
  },
  {
   "cell_type": "code",
   "execution_count": null,
   "id": "f148a4f8-7fdd-4aad-aaa3-1e375e3ff84d",
   "metadata": {},
   "outputs": [],
   "source": [
    "# Loop over all catchments and calculate\n",
    "# 1. Flow direction, flow accumulation, distance to outlet, channel network\n",
    "# 2. Hypsometric integrals\n",
    "\n",
    "# Create empty lists for storing outputs\n",
    "catchment_numbers = []\n",
    "catchment_lons = []\n",
    "catchment_lats = []\n",
    "catchment_areas = []\n",
    "catchment_min_elevs = []\n",
    "catchment_max_elevs = []\n",
    "catchment_reliefs = []\n",
    "catchment_his = []\n",
    "catchment_boundaries = []\n",
    "\n",
    "print(\"Processing catchments\", end=\"\")\n",
    "\n",
    "for i in range(len(catchments)):\n",
    "    catchment_number = i + 1\n",
    "    cur_catch = catchments[i]\n",
    "    # Clip and set view extent\n",
    "    grid.clip_to(cur_catch)\n",
    "    dem_view = grid.view(dem, nodata=np.nan)\n",
    "    fdir_view = grid.view(fdir)\n",
    "    acc_view = grid.view(acc, nodata=np.nan)\n",
    "    # Compute distance to outlet\n",
    "    dist = grid.distance_to_outlet(\n",
    "        x=snap_points[i][0],\n",
    "        y=snap_points[i][1],\n",
    "        fdir=fdir,\n",
    "        xytype=\"coordinate\",\n",
    "    )\n",
    "    branches = grid.extract_river_network(fdir, acc > 100)\n",
    "\n",
    "    # Save in xarray\n",
    "    catchment = dem_view\n",
    "    data = catchment.data\n",
    "    lat = np.unique(catchment.coords[:, 0])\n",
    "    lat = np.flip(lat)\n",
    "    lon = np.unique(catchment.coords[:, 1])\n",
    "    catch_xr = xr.DataArray(\n",
    "        catchment.base, coords={\"y\": lat, \"x\": lon}, dims=[\"y\", \"x\"]\n",
    "    )\n",
    "\n",
    "    # Save elevations without NaN values\n",
    "    catch_elev = catch_xr.values[~np.isnan(catch_xr.values)]\n",
    "\n",
    "    # Calculate elevation histogram\n",
    "    counts, bins = calculate_hypsometry(catch_elev)\n",
    "\n",
    "    # Calculate hypsometric integral\n",
    "    hyps_integral = calculate_hypsometric_integral(counts, bins)\n",
    "\n",
    "    # Extract vector boundary of catchment\n",
    "    catch_xr.name = f\"Catchment {catchment_number}\"\n",
    "    catch_gdf = vectorize(catch_xr.astype(\"float32\"))\n",
    "    catch_gdf = catch_gdf.dropna(subset=f\"Catchment {catchment_number}\")\n",
    "    catch_gdf = catch_gdf.set_crs(\"epsg:4326\")\n",
    "    dissolved = catch_gdf.dissolve(method=\"unary\")\n",
    "    dissolved = dissolved.rename(columns={\"geometry\": \"basin_boundary\"})\n",
    "\n",
    "    # Append catchment info to lists\n",
    "    catchment_numbers.append(catchment_number)\n",
    "    catchment_lons.append(pour_points[i][0])\n",
    "    catchment_lats.append(pour_points[i][1])\n",
    "    catchment_areas.append(round(calculate_area(catch_elev), 1))\n",
    "    catchment_min_elevs.append(catch_elev.min())\n",
    "    catchment_max_elevs.append(catch_elev.max())\n",
    "    catchment_reliefs.append(calculate_relief(catch_elev))\n",
    "    catchment_his.append(round(hyps_integral, 3))\n",
    "    catchment_boundaries.append(dissolved[\"basin_boundary\"].values[0])\n",
    "\n",
    "    # Print some crap\n",
    "    # print(f\"Hypsometric  integral for catchment {i+1}: {abs(hyps_integral):.3f}\")\n",
    "    print(\".\", end=\"\", flush=True)\n",
    "print(\"done.\")"
   ]
  },
  {
   "cell_type": "code",
   "execution_count": null,
   "id": "e0b37690-78c7-4ba2-a955-1d9516b79fe9",
   "metadata": {},
   "outputs": [],
   "source": [
    "data = {\n",
    "    \"Catchment number\": catchment_numbers,\n",
    "    \"River name\": river_names,\n",
    "    \"Outlet longitude (deg.)\": catchment_lons,\n",
    "    \"Outlet latitude (deg.)\": catchment_lats,\n",
    "    \"Area (sq. km)\": catchment_areas,\n",
    "    \"Min. elevation (m)\": catchment_min_elevs,\n",
    "    \"Max. elevation (m)\": catchment_max_elevs,\n",
    "    \"Relief (m)\": catchment_reliefs,\n",
    "    \"Hypsometric integral\": catchment_his,\n",
    "    \"Basin boundary\": catchment_boundaries,\n",
    "}\n",
    "\n",
    "catchment_df = pd.DataFrame(data)\n",
    "catchment_df.head()"
   ]
  },
  {
   "cell_type": "code",
   "execution_count": null,
   "id": "92ce09a5-2078-4a40-bc48-c8bbe5fe2d1f",
   "metadata": {},
   "outputs": [],
   "source": [
    "catchment_df[\"geometry\"] = gpd.points_from_xy(\n",
    "    x=catchment_df[\"Outlet longitude (deg.)\"], y=catchment_df[\"Outlet latitude (deg.)\"]\n",
    ")\n",
    "\n",
    "catchment_gdf = gpd.GeoDataFrame(catchment_df, crs=\"epsg:4326\")"
   ]
  },
  {
   "cell_type": "markdown",
   "id": "47276dfb-09fa-4382-a1bb-cbf44854ebd7",
   "metadata": {
    "editable": true,
    "slideshow": {
     "slide_type": ""
    },
    "tags": []
   },
   "source": [
    "Read in data for the [Alpine Fault](https://data.gns.cri.nz/af/) [^alpinefault] ({cite}`Langridge2016`)."
   ]
  },
  {
   "cell_type": "code",
   "execution_count": null,
   "id": "1d5c10a1-fa08-4b05-a244-d1c678765fba",
   "metadata": {},
   "outputs": [],
   "source": [
    "# Read fault data from Geopackage\n",
    "bucket_fault_file = \"features/new_zealand/alpine_fault.gpkg\"\n",
    "bucket_fault_fp = bucket_home + bucket_fault_file\n",
    "\n",
    "fault_df = gpd.read_file(bucket_fault_fp)"
   ]
  },
  {
   "cell_type": "code",
   "execution_count": null,
   "id": "789a33ac-aad7-4b74-8946-bd9d33ad8bad",
   "metadata": {},
   "outputs": [],
   "source": [
    "basin_color_field = \"Hypsometric integral\"\n",
    "m = fault_df.loc[fault_df[\"name\"] == \"Alpine Fault\"].explore(\n",
    "    column=\"name\", cmap=\"gist_gray\"\n",
    ")\n",
    "catchment_gdf[\"Points\"] = catchment_gdf[\"geometry\"]\n",
    "catchment_gdf = catchment_gdf.set_geometry(\"Basin boundary\")\n",
    "m = catchment_gdf.explore(\n",
    "    m=m,\n",
    "    column=basin_color_field,\n",
    "    cmap=\"plasma\",\n",
    ")\n",
    "catchment_gdf = catchment_gdf.set_geometry(\"Points\")\n",
    "m = catchment_gdf.explore(m=m, color=\"black\", marker_kwds={\"radius\": 2})\n",
    "m"
   ]
  },
  {
   "cell_type": "markdown",
   "id": "b6ced5cf-7094-4357-b845-e3df5dad5069",
   "metadata": {},
   "source": [
    "## Next steps\n",
    "\n",
    "- Clean up the crap above\n",
    "- Make things work such that you can loop over all catchments and produce an xarray dataset for each catchment containing:\n",
    "\n",
    "    - Elevation model\n",
    "    - Flow directions\n",
    "    - Flow accumulation\n",
    "    - Flow distance\n",
    "    - Rasterized river network?\n",
    "\n",
    "Perhaps some other metadata could also be exported from pysheds before going to xarray, but this needs to be looked over.\n",
    "\n",
    "## Next next steps\n",
    "\n",
    "- Once the above is done, it would be good to explore calculating the basin hypsometries, hypsometric integrals, and classifying basins according to their hypsometric integral values (fluvial, glacial, etc.).\n",
    "- Finally, it would be cool to have an interactive map at the end where this info could be found by selecting basins"
   ]
  },
  {
   "cell_type": "markdown",
   "id": "aecf2472-ec97-4293-8752-a2331d1b7d21",
   "metadata": {
    "editable": true,
    "slideshow": {
     "slide_type": ""
    },
    "tags": []
   },
   "source": [
    "## Footnotes\n",
    "\n",
    "[^affine]: <https://mattbartos.com/pysheds/raster.html>\n",
    "[^alos]: <https://www.eorc.jaxa.jp/ALOS/en/dataset/aw3d30/aw3d30_e.htm>\n",
    "[^alpinefault]: <https://data.gns.cri.nz/af/>\n",
    "[^pysheds]: <https://mattbartos.com/pysheds/>\n"
   ]
  }
 ],
 "metadata": {
  "kernelspec": {
   "display_name": "Python 3 (ipykernel)",
   "language": "python",
   "name": "python3"
  },
  "language_info": {
   "codemirror_mode": {
    "name": "ipython",
    "version": 3
   },
   "file_extension": ".py",
   "mimetype": "text/x-python",
   "name": "python",
   "nbconvert_exporter": "python",
   "pygments_lexer": "ipython3",
   "version": "3.12.5"
  }
 },
 "nbformat": 4,
 "nbformat_minor": 5
}
