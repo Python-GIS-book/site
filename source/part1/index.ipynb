{
 "cells": [
  {
   "cell_type": "markdown",
   "id": "243fefc4-4309-4500-a54c-5abb08bfcc43",
   "metadata": {
    "editable": true,
    "slideshow": {
     "slide_type": ""
    },
    "tags": []
   },
   "source": [
    "# Overview and learning goals"
   ]
  },
  {
   "cell_type": "markdown",
   "id": "0e9a4df7-ebd3-4a61-a61f-26abac15ca1f",
   "metadata": {
    "editable": true,
    "slideshow": {
     "slide_type": ""
    },
    "tags": [
     "learning_goals"
    ]
   },
   "source": [
    "## Learning goals\n",
    "\n",
    "At the end of this part, you should be able to:\n",
    "\n",
    "1. Write programs that are easy to understand and share\n",
    "2. Record a log of the changes you make to your programs\n",
    "3. Create programs that ensure your science is reproducible\n",
    "4. Produce simple, effective data visualizations that make your results accessible and easy to understand"
   ]
  },
  {
   "cell_type": "markdown",
   "id": "4c2cb48e-c857-4b5e-9d40-bb63a1273488",
   "metadata": {
    "editable": true,
    "slideshow": {
     "slide_type": ""
    },
    "tags": []
   },
   "source": [
    "This part of the book covers basic programming skills in Python, introduces data analysis with Python, and provides an introduction to basic data visualization. Chapter 1 provides the essential background about computers, programming, and the book's Python environment so that you are able to get started. Chapter 2 presents an overview of basic programming concepts and how to use them in the Python programming language. Chapter 3 introduces how to perform basic data analysis using modern Python tools. And Chapter 4 covers the basics of how to visualize data using Python."
   ]
  }
 ],
 "metadata": {
  "kernelspec": {
   "display_name": "Python 3 (ipykernel)",
   "language": "python",
   "name": "python3"
  },
  "language_info": {
   "codemirror_mode": {
    "name": "ipython",
    "version": 3
   },
   "file_extension": ".py",
   "mimetype": "text/x-python",
   "name": "python",
   "nbconvert_exporter": "python",
   "pygments_lexer": "ipython3",
   "version": "3.11.5"
  }
 },
 "nbformat": 4,
 "nbformat_minor": 5
}
