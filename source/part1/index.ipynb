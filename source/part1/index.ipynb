{
 "cells": [
  {
   "cell_type": "markdown",
   "id": "243fefc4-4309-4500-a54c-5abb08bfcc43",
   "metadata": {},
   "source": [
    "# Overview and learning goals"
   ]
  },
  {
   "cell_type": "markdown",
   "id": "4c2cb48e-c857-4b5e-9d40-bb63a1273488",
   "metadata": {},
   "source": [
    "This part of the book will cover basic programming skills in Python, introduce data analysis with Python, and basic data visualization."
   ]
  },
  {
   "cell_type": "markdown",
   "id": "0e9a4df7-ebd3-4a61-a61f-26abac15ca1f",
   "metadata": {
    "editable": true,
    "slideshow": {
     "slide_type": ""
    },
    "tags": [
     "learning_goals"
    ]
   },
   "source": [
    "## Learning goals\n",
    "\n",
    "The goal of the first part of this book is to learn to program in Python. However, in addition to learning to program, we hope to help you learn a number of other skills related to open science. These include:\n",
    "\n",
    "1. Writing programs that are easy to understand and share\n",
    "2. Keeping a log of the changes you make to your programs\n",
    "3. Creating programs that ensure your science is reproducible\n",
    "4. Producing simple, effective data visualizations that make your results accessible and easy to understand"
   ]
  },
  {
   "cell_type": "markdown",
   "id": "f823842f-098d-42e0-8a6f-8db5c74e2512",
   "metadata": {
    "editable": true,
    "slideshow": {
     "slide_type": ""
    },
    "tags": []
   },
   "source": [
    "## Chapters in this part\n",
    "\n",
    "- [1: Getting started](chapter-01/index)\n",
    "- [2: Basic programming concepts](chapter-02/index)\n",
    "- [3: Introduction to data analysis](chapter-03/index)\n",
    "- [4: Introduction to data visualization](chapter-04/index)"
   ]
  }
 ],
 "metadata": {
  "kernelspec": {
   "display_name": "Python 3 (ipykernel)",
   "language": "python",
   "name": "python3"
  },
  "language_info": {
   "codemirror_mode": {
    "name": "ipython",
    "version": 3
   },
   "file_extension": ".py",
   "mimetype": "text/x-python",
   "name": "python",
   "nbconvert_exporter": "python",
   "pygments_lexer": "ipython3",
   "version": "3.11.5"
  }
 },
 "nbformat": 4,
 "nbformat_minor": 5
}
