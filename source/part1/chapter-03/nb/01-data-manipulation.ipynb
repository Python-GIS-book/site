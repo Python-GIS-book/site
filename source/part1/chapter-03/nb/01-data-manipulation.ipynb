{
 "cells": [
  {
   "cell_type": "markdown",
   "metadata": {
    "deletable": true,
    "editable": true,
    "slideshow": {
     "slide_type": ""
    },
    "tags": []
   },
   "source": [
    "# Common tabular operations in pandas\n",
    "\n",
    "We have new learned the basics of `pandas` data structures (i.e., `Series` and `DataFrame`) and you should be familiar with some methods for loading and exploring `pandas` data. Next, we will continue exploring the `pandas` data analysis functionalities, and see how it can be used for data manipulation, conducting simple calculations, and making selections based on specific criteria."
   ]
  },
  {
   "cell_type": "markdown",
   "metadata": {
    "editable": true,
    "slideshow": {
     "slide_type": ""
    },
    "tags": []
   },
   "source": [
    "## Basic calculations\n",
    "\n",
    "One of the most common things to do in `pandas` is to create new columns based on calculations between different variables (columns). Next, we will learn how to do this using the same input data (`data/kumpula-summer-2024.txt`) as in the previous section. We will first load it using the `pd.read_csv()` method. Remember, that the first 8 lines contains the metadata which we will skip. This time, let's store the filepath as a separate variable in order to make the code more readable and easier to change afterwards (a good practice)."
   ]
  },
  {
   "cell_type": "code",
   "execution_count": 1,
   "metadata": {
    "collapsed": false,
    "deletable": true,
    "editable": true,
    "jupyter": {
     "outputs_hidden": false
    }
   },
   "outputs": [],
   "source": [
    "import pandas as pd\n",
    "\n",
    "# Define file path:\n",
    "fp = \"data/kumpula-summer-2024.txt\"\n",
    "\n",
    "# Read in the data from the file (starting at row 9):\n",
    "data = pd.read_csv(fp, skiprows=8)"
   ]
  },
  {
   "cell_type": "markdown",
   "metadata": {},
   "source": [
    "As a first step, it is always good to remember to check the data after reading it. This way we can be sure that everything looks as it should."
   ]
  },
  {
   "cell_type": "code",
   "execution_count": 2,
   "metadata": {},
   "outputs": [
    {
     "data": {
      "text/html": [
       "<div>\n",
       "<style scoped>\n",
       "    .dataframe tbody tr th:only-of-type {\n",
       "        vertical-align: middle;\n",
       "    }\n",
       "\n",
       "    .dataframe tbody tr th {\n",
       "        vertical-align: top;\n",
       "    }\n",
       "\n",
       "    .dataframe thead th {\n",
       "        text-align: right;\n",
       "    }\n",
       "</style>\n",
       "<table border=\"1\" class=\"dataframe\">\n",
       "  <thead>\n",
       "    <tr style=\"text-align: right;\">\n",
       "      <th></th>\n",
       "      <th>YEARMODA</th>\n",
       "      <th>MAX</th>\n",
       "      <th>MIN</th>\n",
       "      <th>TEMP1</th>\n",
       "      <th>TEMP2</th>\n",
       "    </tr>\n",
       "  </thead>\n",
       "  <tbody>\n",
       "    <tr>\n",
       "      <th>0</th>\n",
       "      <td>20240601</td>\n",
       "      <td>26.2</td>\n",
       "      <td>18.4</td>\n",
       "      <td>24.2</td>\n",
       "      <td>23.2</td>\n",
       "    </tr>\n",
       "    <tr>\n",
       "      <th>1</th>\n",
       "      <td>20240602</td>\n",
       "      <td>24.4</td>\n",
       "      <td>17.1</td>\n",
       "      <td>20.7</td>\n",
       "      <td>24.2</td>\n",
       "    </tr>\n",
       "    <tr>\n",
       "      <th>2</th>\n",
       "      <td>20240603</td>\n",
       "      <td>25.7</td>\n",
       "      <td>15.2</td>\n",
       "      <td>22.5</td>\n",
       "      <td>23.1</td>\n",
       "    </tr>\n",
       "    <tr>\n",
       "      <th>3</th>\n",
       "      <td>20240604</td>\n",
       "      <td>24.6</td>\n",
       "      <td>15.7</td>\n",
       "      <td>19.3</td>\n",
       "      <td>24.6</td>\n",
       "    </tr>\n",
       "    <tr>\n",
       "      <th>4</th>\n",
       "      <td>20240605</td>\n",
       "      <td>23.4</td>\n",
       "      <td>12.8</td>\n",
       "      <td>20.3</td>\n",
       "      <td>23.2</td>\n",
       "    </tr>\n",
       "  </tbody>\n",
       "</table>\n",
       "</div>"
      ],
      "text/plain": [
       "   YEARMODA   MAX   MIN  TEMP1  TEMP2\n",
       "0  20240601  26.2  18.4   24.2   23.2\n",
       "1  20240602  24.4  17.1   20.7   24.2\n",
       "2  20240603  25.7  15.2   22.5   23.1\n",
       "3  20240604  24.6  15.7   19.3   24.6\n",
       "4  20240605  23.4  12.8   20.3   23.2"
      ]
     },
     "execution_count": 2,
     "metadata": {},
     "output_type": "execute_result"
    }
   ],
   "source": [
    "data.head()"
   ]
  },
  {
   "cell_type": "markdown",
   "metadata": {},
   "source": [
    "Everything seems to be OK. Now we can start by creating a new column `DIFF` in our `DataFrame`. This can be done by specifying the name of the column and giving it some default value (in this case the decimal number `0.0`)."
   ]
  },
  {
   "cell_type": "code",
   "execution_count": 3,
   "metadata": {
    "collapsed": false,
    "deletable": true,
    "editable": true,
    "jupyter": {
     "outputs_hidden": false
    }
   },
   "outputs": [
    {
     "data": {
      "text/html": [
       "<div>\n",
       "<style scoped>\n",
       "    .dataframe tbody tr th:only-of-type {\n",
       "        vertical-align: middle;\n",
       "    }\n",
       "\n",
       "    .dataframe tbody tr th {\n",
       "        vertical-align: top;\n",
       "    }\n",
       "\n",
       "    .dataframe thead th {\n",
       "        text-align: right;\n",
       "    }\n",
       "</style>\n",
       "<table border=\"1\" class=\"dataframe\">\n",
       "  <thead>\n",
       "    <tr style=\"text-align: right;\">\n",
       "      <th></th>\n",
       "      <th>YEARMODA</th>\n",
       "      <th>MAX</th>\n",
       "      <th>MIN</th>\n",
       "      <th>TEMP1</th>\n",
       "      <th>TEMP2</th>\n",
       "      <th>DIFF</th>\n",
       "    </tr>\n",
       "  </thead>\n",
       "  <tbody>\n",
       "    <tr>\n",
       "      <th>0</th>\n",
       "      <td>20240601</td>\n",
       "      <td>26.2</td>\n",
       "      <td>18.4</td>\n",
       "      <td>24.2</td>\n",
       "      <td>23.2</td>\n",
       "      <td>0.0</td>\n",
       "    </tr>\n",
       "    <tr>\n",
       "      <th>1</th>\n",
       "      <td>20240602</td>\n",
       "      <td>24.4</td>\n",
       "      <td>17.1</td>\n",
       "      <td>20.7</td>\n",
       "      <td>24.2</td>\n",
       "      <td>0.0</td>\n",
       "    </tr>\n",
       "    <tr>\n",
       "      <th>2</th>\n",
       "      <td>20240603</td>\n",
       "      <td>25.7</td>\n",
       "      <td>15.2</td>\n",
       "      <td>22.5</td>\n",
       "      <td>23.1</td>\n",
       "      <td>0.0</td>\n",
       "    </tr>\n",
       "    <tr>\n",
       "      <th>3</th>\n",
       "      <td>20240604</td>\n",
       "      <td>24.6</td>\n",
       "      <td>15.7</td>\n",
       "      <td>19.3</td>\n",
       "      <td>24.6</td>\n",
       "      <td>0.0</td>\n",
       "    </tr>\n",
       "    <tr>\n",
       "      <th>4</th>\n",
       "      <td>20240605</td>\n",
       "      <td>23.4</td>\n",
       "      <td>12.8</td>\n",
       "      <td>20.3</td>\n",
       "      <td>23.2</td>\n",
       "      <td>0.0</td>\n",
       "    </tr>\n",
       "  </tbody>\n",
       "</table>\n",
       "</div>"
      ],
      "text/plain": [
       "   YEARMODA   MAX   MIN  TEMP1  TEMP2  DIFF\n",
       "0  20240601  26.2  18.4   24.2   23.2   0.0\n",
       "1  20240602  24.4  17.1   20.7   24.2   0.0\n",
       "2  20240603  25.7  15.2   22.5   23.1   0.0\n",
       "3  20240604  24.6  15.7   19.3   24.6   0.0\n",
       "4  20240605  23.4  12.8   20.3   23.2   0.0"
      ]
     },
     "execution_count": 3,
     "metadata": {},
     "output_type": "execute_result"
    }
   ],
   "source": [
    "data[\"DIFF\"] = 0.0\n",
    "data.head()"
   ]
  },
  {
   "cell_type": "markdown",
   "metadata": {
    "deletable": true,
    "editable": true
   },
   "source": [
    "As we can see, now we have a new column `DIFF` in our `DataFrame` that has value `0.0` for all rows. When creating a new column, you can initialize it with any value you want. Typically, the value could be a number (`0.0` as we use here), but it could also be `None` (i.e., nothing), some text (e.g., `\"test text\"`), or more or less any other value or object that can be represented as a single item. You could even initialize the column by storing a function inside the cells if you like. Let's continue by checking the data type of our new column."
   ]
  },
  {
   "cell_type": "code",
   "execution_count": 4,
   "metadata": {
    "collapsed": false,
    "deletable": true,
    "editable": true,
    "jupyter": {
     "outputs_hidden": false
    },
    "slideshow": {
     "slide_type": ""
    },
    "tags": []
   },
   "outputs": [
    {
     "data": {
      "text/plain": [
       "dtype('float64')"
      ]
     },
     "execution_count": 4,
     "metadata": {},
     "output_type": "execute_result"
    }
   ],
   "source": [
    "data[\"DIFF\"].dtypes"
   ]
  },
  {
   "cell_type": "markdown",
   "metadata": {
    "deletable": true,
    "editable": true
   },
   "source": [
    "As we can see, `pandas` created a new column and automatically recognized that the data type is `float64` as we passed a `0.0` value to it. Great, but what about making those calculations with `pandas` as promised at the start of this section? Next, we will calculate the difference between the `MAX` and `MIN` columns to get an idea how much the temperatures have been varied on different days. The result will be updated into the column `DIFF` that we created earlier. A typical way of performing calculations such as this is to access the set of `Series` (columns) from the `DataFrame` that interests us and perform the mathematical calculation using the selected columns. Typically you store the result directly into a column in the `DataFrame`, such as shown below."
   ]
  },
  {
   "cell_type": "code",
   "execution_count": 5,
   "metadata": {
    "collapsed": false,
    "deletable": true,
    "editable": true,
    "jupyter": {
     "outputs_hidden": false
    }
   },
   "outputs": [
    {
     "data": {
      "text/html": [
       "<div>\n",
       "<style scoped>\n",
       "    .dataframe tbody tr th:only-of-type {\n",
       "        vertical-align: middle;\n",
       "    }\n",
       "\n",
       "    .dataframe tbody tr th {\n",
       "        vertical-align: top;\n",
       "    }\n",
       "\n",
       "    .dataframe thead th {\n",
       "        text-align: right;\n",
       "    }\n",
       "</style>\n",
       "<table border=\"1\" class=\"dataframe\">\n",
       "  <thead>\n",
       "    <tr style=\"text-align: right;\">\n",
       "      <th></th>\n",
       "      <th>YEARMODA</th>\n",
       "      <th>MAX</th>\n",
       "      <th>MIN</th>\n",
       "      <th>TEMP1</th>\n",
       "      <th>TEMP2</th>\n",
       "      <th>DIFF</th>\n",
       "    </tr>\n",
       "  </thead>\n",
       "  <tbody>\n",
       "    <tr>\n",
       "      <th>0</th>\n",
       "      <td>20240601</td>\n",
       "      <td>26.2</td>\n",
       "      <td>18.4</td>\n",
       "      <td>24.2</td>\n",
       "      <td>23.2</td>\n",
       "      <td>7.8</td>\n",
       "    </tr>\n",
       "    <tr>\n",
       "      <th>1</th>\n",
       "      <td>20240602</td>\n",
       "      <td>24.4</td>\n",
       "      <td>17.1</td>\n",
       "      <td>20.7</td>\n",
       "      <td>24.2</td>\n",
       "      <td>7.3</td>\n",
       "    </tr>\n",
       "    <tr>\n",
       "      <th>2</th>\n",
       "      <td>20240603</td>\n",
       "      <td>25.7</td>\n",
       "      <td>15.2</td>\n",
       "      <td>22.5</td>\n",
       "      <td>23.1</td>\n",
       "      <td>10.5</td>\n",
       "    </tr>\n",
       "    <tr>\n",
       "      <th>3</th>\n",
       "      <td>20240604</td>\n",
       "      <td>24.6</td>\n",
       "      <td>15.7</td>\n",
       "      <td>19.3</td>\n",
       "      <td>24.6</td>\n",
       "      <td>8.9</td>\n",
       "    </tr>\n",
       "    <tr>\n",
       "      <th>4</th>\n",
       "      <td>20240605</td>\n",
       "      <td>23.4</td>\n",
       "      <td>12.8</td>\n",
       "      <td>20.3</td>\n",
       "      <td>23.2</td>\n",
       "      <td>10.6</td>\n",
       "    </tr>\n",
       "  </tbody>\n",
       "</table>\n",
       "</div>"
      ],
      "text/plain": [
       "   YEARMODA   MAX   MIN  TEMP1  TEMP2  DIFF\n",
       "0  20240601  26.2  18.4   24.2   23.2   7.8\n",
       "1  20240602  24.4  17.1   20.7   24.2   7.3\n",
       "2  20240603  25.7  15.2   22.5   23.1  10.5\n",
       "3  20240604  24.6  15.7   19.3   24.6   8.9\n",
       "4  20240605  23.4  12.8   20.3   23.2  10.6"
      ]
     },
     "execution_count": 5,
     "metadata": {},
     "output_type": "execute_result"
    }
   ],
   "source": [
    "data[\"DIFF\"] = data[\"MAX\"] - data[\"MIN\"]\n",
    "data.head()"
   ]
  },
  {
   "cell_type": "markdown",
   "metadata": {
    "deletable": true,
    "editable": true
   },
   "source": [
    "As expected, the output from the calculations was stored into the `DIFF` column. Conducting calculations like this is extremely fast in `pandas` because the math operations happen in a vectorized manner. This means that instead of looping over individual values of the `DataFrame` and comparing them to each other individually, calculating the difference happens simultaneously at all rows. You can also create new columns on the fly when doing the calculation (i.e., the column does not have to exist beforehand). Furthermore, it is possible to use any kind of math algebra (e.g., subtraction, addition, multiplication, division, exponentiation, etc.) when creating new columns. We can, for example, calculate another estimate of the average daily temperature by averaging the values in the `TEMP1` and `TEMP2` columns and storing the result as `TEMP`."
   ]
  },
  {
   "cell_type": "code",
   "execution_count": 6,
   "metadata": {
    "collapsed": false,
    "deletable": true,
    "editable": true,
    "jupyter": {
     "outputs_hidden": false
    },
    "lines_to_next_cell": 2
   },
   "outputs": [
    {
     "data": {
      "text/html": [
       "<div>\n",
       "<style scoped>\n",
       "    .dataframe tbody tr th:only-of-type {\n",
       "        vertical-align: middle;\n",
       "    }\n",
       "\n",
       "    .dataframe tbody tr th {\n",
       "        vertical-align: top;\n",
       "    }\n",
       "\n",
       "    .dataframe thead th {\n",
       "        text-align: right;\n",
       "    }\n",
       "</style>\n",
       "<table border=\"1\" class=\"dataframe\">\n",
       "  <thead>\n",
       "    <tr style=\"text-align: right;\">\n",
       "      <th></th>\n",
       "      <th>YEARMODA</th>\n",
       "      <th>MAX</th>\n",
       "      <th>MIN</th>\n",
       "      <th>TEMP1</th>\n",
       "      <th>TEMP2</th>\n",
       "      <th>DIFF</th>\n",
       "      <th>TEMP</th>\n",
       "    </tr>\n",
       "  </thead>\n",
       "  <tbody>\n",
       "    <tr>\n",
       "      <th>0</th>\n",
       "      <td>20240601</td>\n",
       "      <td>26.2</td>\n",
       "      <td>18.4</td>\n",
       "      <td>24.2</td>\n",
       "      <td>23.2</td>\n",
       "      <td>7.8</td>\n",
       "      <td>23.70</td>\n",
       "    </tr>\n",
       "    <tr>\n",
       "      <th>1</th>\n",
       "      <td>20240602</td>\n",
       "      <td>24.4</td>\n",
       "      <td>17.1</td>\n",
       "      <td>20.7</td>\n",
       "      <td>24.2</td>\n",
       "      <td>7.3</td>\n",
       "      <td>22.45</td>\n",
       "    </tr>\n",
       "    <tr>\n",
       "      <th>2</th>\n",
       "      <td>20240603</td>\n",
       "      <td>25.7</td>\n",
       "      <td>15.2</td>\n",
       "      <td>22.5</td>\n",
       "      <td>23.1</td>\n",
       "      <td>10.5</td>\n",
       "      <td>22.80</td>\n",
       "    </tr>\n",
       "    <tr>\n",
       "      <th>3</th>\n",
       "      <td>20240604</td>\n",
       "      <td>24.6</td>\n",
       "      <td>15.7</td>\n",
       "      <td>19.3</td>\n",
       "      <td>24.6</td>\n",
       "      <td>8.9</td>\n",
       "      <td>21.95</td>\n",
       "    </tr>\n",
       "    <tr>\n",
       "      <th>4</th>\n",
       "      <td>20240605</td>\n",
       "      <td>23.4</td>\n",
       "      <td>12.8</td>\n",
       "      <td>20.3</td>\n",
       "      <td>23.2</td>\n",
       "      <td>10.6</td>\n",
       "      <td>21.75</td>\n",
       "    </tr>\n",
       "  </tbody>\n",
       "</table>\n",
       "</div>"
      ],
      "text/plain": [
       "   YEARMODA   MAX   MIN  TEMP1  TEMP2  DIFF   TEMP\n",
       "0  20240601  26.2  18.4   24.2   23.2   7.8  23.70\n",
       "1  20240602  24.4  17.1   20.7   24.2   7.3  22.45\n",
       "2  20240603  25.7  15.2   22.5   23.1  10.5  22.80\n",
       "3  20240604  24.6  15.7   19.3   24.6   8.9  21.95\n",
       "4  20240605  23.4  12.8   20.3   23.2  10.6  21.75"
      ]
     },
     "execution_count": 6,
     "metadata": {},
     "output_type": "execute_result"
    }
   ],
   "source": [
    "data[\"TEMP\"] = (data[\"TEMP1\"] + data[\"TEMP2\"]) / 2\n",
    "data.head()"
   ]
  },
  {
   "cell_type": "markdown",
   "metadata": {
    "editable": true,
    "slideshow": {
     "slide_type": ""
    },
    "tags": [
     "question"
    ]
   },
   "source": [
    "#### Question 3.4\n",
    "\n",
    "Calculate the temperatures in Kelvins using the Celsius values and store the result in a new column called `TEMP_KELVIN` in our `DataFrame`. Zero Kelvins is is -273.15 degrees Celsius as we learned in Chapter 2, and the formula for converting degrees Celsius (C) to Kelvins (K) is thus $T_{K} = T_{C} + 273.15$."
   ]
  },
  {
   "cell_type": "code",
   "execution_count": 7,
   "metadata": {
    "editable": true,
    "slideshow": {
     "slide_type": ""
    },
    "tags": [
     "remove_cell"
    ]
   },
   "outputs": [],
   "source": [
    "# Use this cell to enter your solution."
   ]
  },
  {
   "cell_type": "code",
   "execution_count": 8,
   "metadata": {
    "editable": true,
    "slideshow": {
     "slide_type": ""
    },
    "tags": [
     "hide-cell",
     "remove_book_cell"
    ]
   },
   "outputs": [],
   "source": [
    "# Solution\n",
    "\n",
    "data[\"TEMP_KELVIN\"] = data[\"TEMP\"] + 273.15"
   ]
  },
  {
   "cell_type": "markdown",
   "metadata": {
    "deletable": true,
    "editable": true,
    "slideshow": {
     "slide_type": ""
    },
    "tags": []
   },
   "source": [
    "## Selecting and updating data\n",
    "\n",
    "We often want to make selections from our data and only use specific rows from a `DataFrame` in the analysis. There are multiple ways of selecting subsets from a `pandas` `DataFrame` that can be based on specific index values, for example, or using some predefined criteria to make the selection such as selecting all rows where values in column `X` are larger than `0.0`. Next, we will go through the most useful ways of selecting specific rows, columns, and individual values."
   ]
  },
  {
   "cell_type": "markdown",
   "metadata": {
    "editable": true,
    "slideshow": {
     "slide_type": ""
    },
    "tags": []
   },
   "source": [
    "### Selecting rows and columns\n",
    "\n",
    "One common way of selecting only specific rows from a `DataFrame` is done via the concept of slicing. Getting a slice of data in `pandas` can be done in a similar manner as with normal Python lists, by specifying an index range inside square brackets: `DataFrame[start_index:stop_index]`. Let's select the first five rows and assign them to a variable called `selection`. Here, we will first see how selecting the data based on index values works just like with \"normal\" Python lists."
   ]
  },
  {
   "cell_type": "code",
   "execution_count": 9,
   "metadata": {
    "collapsed": false,
    "deletable": true,
    "editable": true,
    "jupyter": {
     "outputs_hidden": false
    },
    "slideshow": {
     "slide_type": ""
    },
    "tags": []
   },
   "outputs": [
    {
     "data": {
      "text/html": [
       "<div>\n",
       "<style scoped>\n",
       "    .dataframe tbody tr th:only-of-type {\n",
       "        vertical-align: middle;\n",
       "    }\n",
       "\n",
       "    .dataframe tbody tr th {\n",
       "        vertical-align: top;\n",
       "    }\n",
       "\n",
       "    .dataframe thead th {\n",
       "        text-align: right;\n",
       "    }\n",
       "</style>\n",
       "<table border=\"1\" class=\"dataframe\">\n",
       "  <thead>\n",
       "    <tr style=\"text-align: right;\">\n",
       "      <th></th>\n",
       "      <th>YEARMODA</th>\n",
       "      <th>MAX</th>\n",
       "      <th>MIN</th>\n",
       "      <th>TEMP1</th>\n",
       "      <th>TEMP2</th>\n",
       "      <th>DIFF</th>\n",
       "      <th>TEMP</th>\n",
       "      <th>TEMP_KELVIN</th>\n",
       "    </tr>\n",
       "  </thead>\n",
       "  <tbody>\n",
       "    <tr>\n",
       "      <th>0</th>\n",
       "      <td>20240601</td>\n",
       "      <td>26.2</td>\n",
       "      <td>18.4</td>\n",
       "      <td>24.2</td>\n",
       "      <td>23.2</td>\n",
       "      <td>7.8</td>\n",
       "      <td>23.70</td>\n",
       "      <td>296.85</td>\n",
       "    </tr>\n",
       "    <tr>\n",
       "      <th>1</th>\n",
       "      <td>20240602</td>\n",
       "      <td>24.4</td>\n",
       "      <td>17.1</td>\n",
       "      <td>20.7</td>\n",
       "      <td>24.2</td>\n",
       "      <td>7.3</td>\n",
       "      <td>22.45</td>\n",
       "      <td>295.60</td>\n",
       "    </tr>\n",
       "    <tr>\n",
       "      <th>2</th>\n",
       "      <td>20240603</td>\n",
       "      <td>25.7</td>\n",
       "      <td>15.2</td>\n",
       "      <td>22.5</td>\n",
       "      <td>23.1</td>\n",
       "      <td>10.5</td>\n",
       "      <td>22.80</td>\n",
       "      <td>295.95</td>\n",
       "    </tr>\n",
       "    <tr>\n",
       "      <th>3</th>\n",
       "      <td>20240604</td>\n",
       "      <td>24.6</td>\n",
       "      <td>15.7</td>\n",
       "      <td>19.3</td>\n",
       "      <td>24.6</td>\n",
       "      <td>8.9</td>\n",
       "      <td>21.95</td>\n",
       "      <td>295.10</td>\n",
       "    </tr>\n",
       "    <tr>\n",
       "      <th>4</th>\n",
       "      <td>20240605</td>\n",
       "      <td>23.4</td>\n",
       "      <td>12.8</td>\n",
       "      <td>20.3</td>\n",
       "      <td>23.2</td>\n",
       "      <td>10.6</td>\n",
       "      <td>21.75</td>\n",
       "      <td>294.90</td>\n",
       "    </tr>\n",
       "  </tbody>\n",
       "</table>\n",
       "</div>"
      ],
      "text/plain": [
       "   YEARMODA   MAX   MIN  TEMP1  TEMP2  DIFF   TEMP  TEMP_KELVIN\n",
       "0  20240601  26.2  18.4   24.2   23.2   7.8  23.70       296.85\n",
       "1  20240602  24.4  17.1   20.7   24.2   7.3  22.45       295.60\n",
       "2  20240603  25.7  15.2   22.5   23.1  10.5  22.80       295.95\n",
       "3  20240604  24.6  15.7   19.3   24.6   8.9  21.95       295.10\n",
       "4  20240605  23.4  12.8   20.3   23.2  10.6  21.75       294.90"
      ]
     },
     "execution_count": 9,
     "metadata": {},
     "output_type": "execute_result"
    }
   ],
   "source": [
    "selection = data[0:5]\n",
    "selection"
   ]
  },
  {
   "cell_type": "markdown",
   "metadata": {
    "deletable": true,
    "editable": true,
    "slideshow": {
     "slide_type": ""
    },
    "tags": []
   },
   "source": [
    "Here we have selected the first five rows (index `0`-`4`) using the integer index. Notice that the logic here is similar to how Python's `list` slicing (or `range()` function) works; the value on the right side of the colon (here number `5`) is the stop value, which is excluded from the range selection. Hence, the syntax is `[start_index:stop_index]`. In addition, the parameter `:step` could be added at the end in indicate the step size between values (`1` by default). "
   ]
  },
  {
   "cell_type": "markdown",
   "metadata": {
    "deletable": true,
    "editable": true,
    "slideshow": {
     "slide_type": ""
    },
    "tags": []
   },
   "source": [
    "Selections like the previous example are possible, but there is a better and more flexible way of selecting data using the [`pandas` `.loc[]` label-based indexer](https://pandas.pydata.org/pandas-docs/stable/reference/api/pandas.DataFrame.loc.html) [^loc]. As the name suggests, `.loc[]` selects data based on axis labels (row and column labels). This alone does not necessarily tell much to you at this point, but `.loc[]` makes it possible to conduct more specific selections, such as allowing you to choose which columns are chosen when selecting a subset of rows. It also makes possible to benefit from row labels that are not necessarily sequential numbers (as has been the case with all our examples thus far). For instance, you can make selections for rows indexed by dates or timestamps. Hence, `.loc[]` can become very handy when working with time series data (we will learn more about this later). Let's now test out the `.loc[]` label indexer by selecting values from column `TEMP` from rows `0`-`5`."
   ]
  },
  {
   "cell_type": "code",
   "execution_count": 10,
   "metadata": {
    "collapsed": false,
    "deletable": true,
    "editable": true,
    "jupyter": {
     "outputs_hidden": false
    },
    "slideshow": {
     "slide_type": ""
    },
    "tags": []
   },
   "outputs": [
    {
     "data": {
      "text/plain": [
       "0    23.70\n",
       "1    22.45\n",
       "2    22.80\n",
       "3    21.95\n",
       "4    21.75\n",
       "5    17.05\n",
       "Name: TEMP, dtype: float64"
      ]
     },
     "execution_count": 10,
     "metadata": {},
     "output_type": "execute_result"
    }
   ],
   "source": [
    "# Select temp column values on rows 0-5\n",
    "selection = data.loc[0:5, \"TEMP\"]\n",
    "selection"
   ]
  },
  {
   "cell_type": "markdown",
   "metadata": {
    "editable": true,
    "slideshow": {
     "slide_type": ""
    },
    "tags": []
   },
   "source": [
    "Notice that in this case, we get six rows of data (index `0`-`5`)! This happens because we are now doing the selection based on axis labels instead of normal Python collection indices. It is important to notice the difference between these two approaches, as mixing the two may cause confusion, incorrect analysis results, or bugs in your code. We recommend to use `.loc[]` whenever possible (there are specific cases when you may want to use other approaches). The basic syntax for using `.loc[]` is:\n",
    " \n",
    "```python\n",
    ".loc[first_included_label:last_included_label, columns]\n",
    "```\n",
    "\n",
    "By looking at the syntax, you might imagine that it is possible to select multiple columns when using `.loc[]`. We can test this by selecting the `TEMP` and `TEMP_KELVIN` columns from a set of rows by passing the selected column names inside a list."
   ]
  },
  {
   "cell_type": "code",
   "execution_count": 11,
   "metadata": {
    "collapsed": false,
    "deletable": true,
    "editable": true,
    "jupyter": {
     "outputs_hidden": false
    },
    "slideshow": {
     "slide_type": ""
    },
    "tags": []
   },
   "outputs": [
    {
     "data": {
      "text/html": [
       "<div>\n",
       "<style scoped>\n",
       "    .dataframe tbody tr th:only-of-type {\n",
       "        vertical-align: middle;\n",
       "    }\n",
       "\n",
       "    .dataframe tbody tr th {\n",
       "        vertical-align: top;\n",
       "    }\n",
       "\n",
       "    .dataframe thead th {\n",
       "        text-align: right;\n",
       "    }\n",
       "</style>\n",
       "<table border=\"1\" class=\"dataframe\">\n",
       "  <thead>\n",
       "    <tr style=\"text-align: right;\">\n",
       "      <th></th>\n",
       "      <th>TEMP</th>\n",
       "      <th>TEMP_KELVIN</th>\n",
       "    </tr>\n",
       "  </thead>\n",
       "  <tbody>\n",
       "    <tr>\n",
       "      <th>0</th>\n",
       "      <td>23.70</td>\n",
       "      <td>296.85</td>\n",
       "    </tr>\n",
       "    <tr>\n",
       "      <th>1</th>\n",
       "      <td>22.45</td>\n",
       "      <td>295.60</td>\n",
       "    </tr>\n",
       "    <tr>\n",
       "      <th>2</th>\n",
       "      <td>22.80</td>\n",
       "      <td>295.95</td>\n",
       "    </tr>\n",
       "    <tr>\n",
       "      <th>3</th>\n",
       "      <td>21.95</td>\n",
       "      <td>295.10</td>\n",
       "    </tr>\n",
       "    <tr>\n",
       "      <th>4</th>\n",
       "      <td>21.75</td>\n",
       "      <td>294.90</td>\n",
       "    </tr>\n",
       "    <tr>\n",
       "      <th>5</th>\n",
       "      <td>17.05</td>\n",
       "      <td>290.20</td>\n",
       "    </tr>\n",
       "  </tbody>\n",
       "</table>\n",
       "</div>"
      ],
      "text/plain": [
       "    TEMP  TEMP_KELVIN\n",
       "0  23.70       296.85\n",
       "1  22.45       295.60\n",
       "2  22.80       295.95\n",
       "3  21.95       295.10\n",
       "4  21.75       294.90\n",
       "5  17.05       290.20"
      ]
     },
     "execution_count": 11,
     "metadata": {},
     "output_type": "execute_result"
    }
   ],
   "source": [
    "selection = data.loc[0:5, [\"TEMP\", \"TEMP_KELVIN\"]]\n",
    "selection"
   ]
  },
  {
   "cell_type": "markdown",
   "metadata": {
    "editable": true,
    "slideshow": {
     "slide_type": ""
    },
    "tags": []
   },
   "source": [
    "As a result, we now have a new `DataFrame` with two columns and 6 rows (i.e., index labels ranging from `0` to `5`)."
   ]
  },
  {
   "cell_type": "markdown",
   "metadata": {
    "editable": true,
    "slideshow": {
     "slide_type": ""
    },
    "tags": [
     "question"
    ]
   },
   "source": [
    "#### Question 3.5\n",
    "\n",
    "Calculate the mean temperature for the last seven days of August 2024. Do the selection using the row index values."
   ]
  },
  {
   "cell_type": "code",
   "execution_count": 12,
   "metadata": {
    "editable": true,
    "slideshow": {
     "slide_type": ""
    },
    "tags": [
     "remove_cell"
    ]
   },
   "outputs": [],
   "source": [
    "# Use this cell to enter your solution."
   ]
  },
  {
   "cell_type": "code",
   "execution_count": 13,
   "metadata": {
    "editable": true,
    "slideshow": {
     "slide_type": ""
    },
    "tags": [
     "hide-cell",
     "remove_book_cell"
    ]
   },
   "outputs": [
    {
     "data": {
      "text/plain": [
       "np.float64(19.671428571428574)"
      ]
     },
     "execution_count": 13,
     "metadata": {},
     "output_type": "execute_result"
    }
   ],
   "source": [
    "# Solution\n",
    "\n",
    "data.loc[85:91, \"TEMP\"].mean()"
   ]
  },
  {
   "cell_type": "markdown",
   "metadata": {
    "editable": true,
    "slideshow": {
     "slide_type": ""
    },
    "tags": []
   },
   "source": [
    "### Selecting a single row or value\n",
    "\n",
    "You can also select an individual row from specific position using the `.loc[]` indexing. Here we select all the data values using index `4` (the 5th row)."
   ]
  },
  {
   "cell_type": "code",
   "execution_count": 14,
   "metadata": {
    "collapsed": false,
    "deletable": true,
    "editable": true,
    "jupyter": {
     "outputs_hidden": false
    },
    "slideshow": {
     "slide_type": ""
    },
    "tags": []
   },
   "outputs": [
    {
     "data": {
      "text/plain": [
       "YEARMODA       20240605.00\n",
       "MAX                  23.40\n",
       "MIN                  12.80\n",
       "TEMP1                20.30\n",
       "TEMP2                23.20\n",
       "DIFF                 10.60\n",
       "TEMP                 21.75\n",
       "TEMP_KELVIN         294.90\n",
       "Name: 4, dtype: float64"
      ]
     },
     "execution_count": 14,
     "metadata": {},
     "output_type": "execute_result"
    }
   ],
   "source": [
    "row = data.loc[4]\n",
    "row"
   ]
  },
  {
   "cell_type": "markdown",
   "metadata": {
    "deletable": true,
    "editable": true,
    "slideshow": {
     "slide_type": ""
    },
    "tags": []
   },
   "source": [
    "`.loc[]` indexing returns the values from that row as a `Series` where the indices are actually the column names of the row variables. Hence, you can access the value of an individual column by referring to its index using following format:"
   ]
  },
  {
   "cell_type": "code",
   "execution_count": 15,
   "metadata": {
    "collapsed": false,
    "deletable": true,
    "editable": true,
    "jupyter": {
     "outputs_hidden": false
    },
    "slideshow": {
     "slide_type": ""
    },
    "tags": []
   },
   "outputs": [
    {
     "data": {
      "text/plain": [
       "np.float64(21.75)"
      ]
     },
     "execution_count": 15,
     "metadata": {},
     "output_type": "execute_result"
    }
   ],
   "source": [
    "# Print one attribute from the selected row\n",
    "row[\"TEMP\"]"
   ]
  },
  {
   "cell_type": "markdown",
   "metadata": {
    "editable": true,
    "slideshow": {
     "slide_type": ""
    },
    "tags": []
   },
   "source": [
    "Sometimes it is enough to access a single value in a `DataFrame` directly. In this case, we can use the [`pandas` `.at[]` indexer](https://pandas.pydata.org/pandas-docs/stable/reference/api/pandas.DataFrame.at.html) [^at] instead of `.loc[]`.\n",
    "Let's select the temperature (column `TEMP`) on the first row (index `0`) of our `DataFrame`."
   ]
  },
  {
   "cell_type": "code",
   "execution_count": 16,
   "metadata": {
    "editable": true,
    "slideshow": {
     "slide_type": ""
    },
    "tags": []
   },
   "outputs": [
    {
     "data": {
      "text/plain": [
       "np.float64(23.7)"
      ]
     },
     "execution_count": 16,
     "metadata": {},
     "output_type": "execute_result"
    }
   ],
   "source": [
    "selection.at[0, \"TEMP\"]"
   ]
  },
  {
   "cell_type": "markdown",
   "metadata": {
    "editable": true,
    "slideshow": {
     "slide_type": ""
    },
    "tags": []
   },
   "source": [
    "As an output, we get an individual value `23.7`. `.at[]` works only when accessing a single value, whereas the `.loc[]` can be used to access both single or multiple values at the same time. The end result when fetching a single value with `.loc[]` is exactly the same and the difference between the two approaches is minimal. Hence, we recommend using `.loc[]` in all cases because it is more flexible (`.at[]` is slightly faster but in most cases this does not make a difference)."
   ]
  },
  {
   "cell_type": "code",
   "execution_count": 17,
   "metadata": {
    "editable": true,
    "slideshow": {
     "slide_type": ""
    },
    "tags": []
   },
   "outputs": [
    {
     "data": {
      "text/plain": [
       "np.float64(23.7)"
      ]
     },
     "execution_count": 17,
     "metadata": {},
     "output_type": "execute_result"
    }
   ],
   "source": [
    "selection.loc[0, \"TEMP\"]"
   ]
  },
  {
   "cell_type": "markdown",
   "metadata": {
    "editable": true,
    "slideshow": {
     "slide_type": ""
    },
    "tags": []
   },
   "source": [
    "### Selections based on index positions\n",
    "\n",
    "As we have learned thus far, `.loc[]` and `.at[]` are based on the axis labels, the names of columns and rows. For positional based indexing, `pandas` has an [`.iloc[]` indexer](https://pandas.pydata.org/pandas-docs/stable/reference/api/pandas.DataFrame.iloc.html) [^iloc], which is based on integer value indices. With `.iloc[]` it is also possible to refer to the columns based on their index value (i.e., to a positional number of a column in the `DataFrame`). For example, `data.iloc[0, 0]` would return `20240601` in our example `DataFrame`, which is the value on the first row and first column in the data."
   ]
  },
  {
   "cell_type": "code",
   "execution_count": 18,
   "metadata": {
    "editable": true,
    "slideshow": {
     "slide_type": ""
    },
    "tags": []
   },
   "outputs": [
    {
     "name": "stdout",
     "output_type": "stream",
     "text": [
      "   YEARMODA   MAX   MIN  TEMP1  TEMP2  DIFF   TEMP  TEMP_KELVIN\n",
      "0  20240601  26.2  18.4   24.2   23.2   7.8  23.70       296.85\n",
      "1  20240602  24.4  17.1   20.7   24.2   7.3  22.45       295.60\n",
      "2  20240603  25.7  15.2   22.5   23.1  10.5  22.80       295.95\n",
      "3  20240604  24.6  15.7   19.3   24.6   8.9  21.95       295.10\n",
      "4  20240605  23.4  12.8   20.3   23.2  10.6  21.75       294.90\n",
      "\n",
      "The value at position (0, 0) is 20240601.\n"
     ]
    }
   ],
   "source": [
    "# Check the first rows\n",
    "print(data.head())\n",
    "print()\n",
    "print(f\"The value at position (0, 0) is {data.iloc[0, 0]}.\")"
   ]
  },
  {
   "cell_type": "markdown",
   "metadata": {
    "editable": true,
    "slideshow": {
     "slide_type": ""
    },
    "tags": []
   },
   "source": [
    "The syntax for using `.iloc[]` is: \n",
    "\n",
    "```python\n",
    ".iloc[start_row_position:stop_row_position,\n",
    "      start_column_position:stop_column_position]\n",
    "```\n",
    "\n",
    "Using this syntax, we can access the value on the first row and second column (`TEMP`) as follows:"
   ]
  },
  {
   "cell_type": "code",
   "execution_count": 19,
   "metadata": {
    "editable": true,
    "slideshow": {
     "slide_type": ""
    },
    "tags": []
   },
   "outputs": [
    {
     "data": {
      "text/plain": [
       "np.float64(26.2)"
      ]
     },
     "execution_count": 19,
     "metadata": {},
     "output_type": "execute_result"
    }
   ],
   "source": [
    "data.iloc[0, 1]"
   ]
  },
  {
   "cell_type": "markdown",
   "metadata": {
    "editable": true,
    "slideshow": {
     "slide_type": ""
    },
    "tags": []
   },
   "source": [
    "It is also possible to get ranges of rows and columns with `.iloc[]`. For example, we could select the `YEARMODA` and `TEMP` columns from the first five rows based on their indices (positions) in the data set. Here, we will select rows from positions 0 to 5 and columns from positions 0 to 2."
   ]
  },
  {
   "cell_type": "code",
   "execution_count": 20,
   "metadata": {
    "editable": true,
    "slideshow": {
     "slide_type": ""
    },
    "tags": []
   },
   "outputs": [
    {
     "data": {
      "text/html": [
       "<div>\n",
       "<style scoped>\n",
       "    .dataframe tbody tr th:only-of-type {\n",
       "        vertical-align: middle;\n",
       "    }\n",
       "\n",
       "    .dataframe tbody tr th {\n",
       "        vertical-align: top;\n",
       "    }\n",
       "\n",
       "    .dataframe thead th {\n",
       "        text-align: right;\n",
       "    }\n",
       "</style>\n",
       "<table border=\"1\" class=\"dataframe\">\n",
       "  <thead>\n",
       "    <tr style=\"text-align: right;\">\n",
       "      <th></th>\n",
       "      <th>YEARMODA</th>\n",
       "      <th>MAX</th>\n",
       "    </tr>\n",
       "  </thead>\n",
       "  <tbody>\n",
       "    <tr>\n",
       "      <th>0</th>\n",
       "      <td>20240601</td>\n",
       "      <td>26.2</td>\n",
       "    </tr>\n",
       "    <tr>\n",
       "      <th>1</th>\n",
       "      <td>20240602</td>\n",
       "      <td>24.4</td>\n",
       "    </tr>\n",
       "    <tr>\n",
       "      <th>2</th>\n",
       "      <td>20240603</td>\n",
       "      <td>25.7</td>\n",
       "    </tr>\n",
       "    <tr>\n",
       "      <th>3</th>\n",
       "      <td>20240604</td>\n",
       "      <td>24.6</td>\n",
       "    </tr>\n",
       "    <tr>\n",
       "      <th>4</th>\n",
       "      <td>20240605</td>\n",
       "      <td>23.4</td>\n",
       "    </tr>\n",
       "  </tbody>\n",
       "</table>\n",
       "</div>"
      ],
      "text/plain": [
       "   YEARMODA   MAX\n",
       "0  20240601  26.2\n",
       "1  20240602  24.4\n",
       "2  20240603  25.7\n",
       "3  20240604  24.6\n",
       "4  20240605  23.4"
      ]
     },
     "execution_count": 20,
     "metadata": {},
     "output_type": "execute_result"
    }
   ],
   "source": [
    "selection = data.iloc[0:5, 0:2]\n",
    "selection"
   ]
  },
  {
   "cell_type": "markdown",
   "metadata": {
    "editable": true,
    "slideshow": {
     "slide_type": ""
    },
    "tags": []
   },
   "source": [
    "As a result we indeed get only two columns and the first five rows. It is important to notice is that the behavior in terms of how many rows are returned differs between `.iloc[]` and `.loc[]`. Here, the `.iloc[0:5]` returns 5 rows (following the Python list slicing behavior), whereas using `.loc[0:5]` would return 6 rows (i.e., also including the row at index `5`). \n",
    "    \n",
    "One handy functionality with `.iloc[]` is the ability to fetch data starting from the end of the `DataFrame`, similar to how values can be selected from the end of a Python `list`. It is possible to retrieve the last row in the `DataFrame` by passing a negative number to `.iloc[]`, where value `-1` corresponds to the last row (or column), -2 corresponds to the second to last, and so on. Following this, it is easy to find the value in the last row and column (the final value in the `TEMP_KELVIN` column in our case)."
   ]
  },
  {
   "cell_type": "code",
   "execution_count": 21,
   "metadata": {
    "editable": true,
    "slideshow": {
     "slide_type": ""
    },
    "tags": []
   },
   "outputs": [
    {
     "data": {
      "text/plain": [
       "np.float64(289.45)"
      ]
     },
     "execution_count": 21,
     "metadata": {},
     "output_type": "execute_result"
    }
   ],
   "source": [
    "data.iloc[-1, -1]"
   ]
  },
  {
   "cell_type": "markdown",
   "metadata": {
    "editable": true,
    "slideshow": {
     "slide_type": ""
    },
    "tags": []
   },
   "source": [
    "### Selections using listed criteria\n",
    "\n",
    "Another common way of selecting rows from a `DataFrame` is to provide a list of values that are used for finding matching rows in a specific `DataFrame` column. For example, selecting rows that match specific dates can be done by passing a list of values used as criteria to the [`.isin()` function of `pandas`](https://pandas.pydata.org/pandas-docs/stable/reference/api/pandas.DataFrame.isin.html) [^isin]. This will go through each value in the selected column (in this case `YEARMODA`) and check whether there is a match or not. As an output, the `.isin()` function returns a `Series` of Boolean values (True or False) that can be combined with `.loc[]` to do the final selection that returns only rows that meet the selection criteria. "
   ]
  },
  {
   "cell_type": "code",
   "execution_count": 22,
   "metadata": {
    "editable": true,
    "slideshow": {
     "slide_type": ""
    },
    "tags": []
   },
   "outputs": [
    {
     "data": {
      "text/html": [
       "<div>\n",
       "<style scoped>\n",
       "    .dataframe tbody tr th:only-of-type {\n",
       "        vertical-align: middle;\n",
       "    }\n",
       "\n",
       "    .dataframe tbody tr th {\n",
       "        vertical-align: top;\n",
       "    }\n",
       "\n",
       "    .dataframe thead th {\n",
       "        text-align: right;\n",
       "    }\n",
       "</style>\n",
       "<table border=\"1\" class=\"dataframe\">\n",
       "  <thead>\n",
       "    <tr style=\"text-align: right;\">\n",
       "      <th></th>\n",
       "      <th>YEARMODA</th>\n",
       "      <th>MAX</th>\n",
       "      <th>MIN</th>\n",
       "      <th>TEMP1</th>\n",
       "      <th>TEMP2</th>\n",
       "      <th>DIFF</th>\n",
       "      <th>TEMP</th>\n",
       "      <th>TEMP_KELVIN</th>\n",
       "    </tr>\n",
       "  </thead>\n",
       "  <tbody>\n",
       "    <tr>\n",
       "      <th>0</th>\n",
       "      <td>20240601</td>\n",
       "      <td>26.2</td>\n",
       "      <td>18.4</td>\n",
       "      <td>24.2</td>\n",
       "      <td>23.2</td>\n",
       "      <td>7.8</td>\n",
       "      <td>23.70</td>\n",
       "      <td>296.85</td>\n",
       "    </tr>\n",
       "    <tr>\n",
       "      <th>37</th>\n",
       "      <td>20240708</td>\n",
       "      <td>21.3</td>\n",
       "      <td>13.8</td>\n",
       "      <td>18.6</td>\n",
       "      <td>21.3</td>\n",
       "      <td>7.5</td>\n",
       "      <td>19.95</td>\n",
       "      <td>293.10</td>\n",
       "    </tr>\n",
       "    <tr>\n",
       "      <th>69</th>\n",
       "      <td>20240809</td>\n",
       "      <td>24.1</td>\n",
       "      <td>17.1</td>\n",
       "      <td>22.2</td>\n",
       "      <td>24.1</td>\n",
       "      <td>7.0</td>\n",
       "      <td>23.15</td>\n",
       "      <td>296.30</td>\n",
       "    </tr>\n",
       "  </tbody>\n",
       "</table>\n",
       "</div>"
      ],
      "text/plain": [
       "    YEARMODA   MAX   MIN  TEMP1  TEMP2  DIFF   TEMP  TEMP_KELVIN\n",
       "0   20240601  26.2  18.4   24.2   23.2   7.8  23.70       296.85\n",
       "37  20240708  21.3  13.8   18.6   21.3   7.5  19.95       293.10\n",
       "69  20240809  24.1  17.1   22.2   24.1   7.0  23.15       296.30"
      ]
     },
     "execution_count": 22,
     "metadata": {},
     "output_type": "execute_result"
    }
   ],
   "source": [
    "# List of values that will be used as basis for selecting the rows\n",
    "selection_criteria = [20240601, 20240708, 20240809]\n",
    "\n",
    "# Do the selection based on criteria applied to YEARMODA column\n",
    "data.loc[data[\"YEARMODA\"].isin(selection_criteria)]"
   ]
  },
  {
   "cell_type": "markdown",
   "metadata": {
    "deletable": true,
    "editable": true,
    "slideshow": {
     "slide_type": ""
    },
    "tags": []
   },
   "source": [
    "### Conditional selections\n",
    "\n",
    "One really useful feature in `pandas` is the ability to easily filter and select rows based on a conditional statement. The following example shows how we can check whether the temperature at each row of the `MAX` column is greater than or equal to 25 degrees."
   ]
  },
  {
   "cell_type": "code",
   "execution_count": 23,
   "metadata": {
    "editable": true,
    "slideshow": {
     "slide_type": ""
    },
    "tags": [
     "remove_cell"
    ]
   },
   "outputs": [],
   "source": [
    "# This cell sets the number of lines of pandas output to a maximum of 9\n",
    "# The cell is removed when building the website/book PDF\n",
    "pd.set_option(\"display.max_rows\", 9)"
   ]
  },
  {
   "cell_type": "code",
   "execution_count": 24,
   "metadata": {
    "editable": true,
    "slideshow": {
     "slide_type": ""
    },
    "tags": []
   },
   "outputs": [
    {
     "data": {
      "text/plain": [
       "0      True\n",
       "1     False\n",
       "2      True\n",
       "3     False\n",
       "      ...  \n",
       "88    False\n",
       "89    False\n",
       "90    False\n",
       "91    False\n",
       "Name: MAX, Length: 92, dtype: bool"
      ]
     },
     "execution_count": 24,
     "metadata": {},
     "output_type": "execute_result"
    }
   ],
   "source": [
    "data[\"MAX\"] > 25"
   ]
  },
  {
   "cell_type": "markdown",
   "metadata": {
    "editable": true,
    "slideshow": {
     "slide_type": ""
    },
    "tags": []
   },
   "source": [
    "As a result, we get a `Series` of Boolean values, where the value `True` or `False` at each row determines whether or not our condition was met. This kind of `Series` or `numpy.array` of Boolean values based on some predefined criteria is typically called a mask. We can take advantage of this mask when doing selections with `.loc[]` based on specific criteria. In the following example, we use the same criterion as above and store all rows meeting the criterion into the variable `hot_temps` (\"hot\" temperatures). We can specify the criterion directly inside the square brackets of the `.loc[]` indexer. Let's select rows that have a temperature greater than or equal to 25 degrees."
   ]
  },
  {
   "cell_type": "code",
   "execution_count": 25,
   "metadata": {
    "collapsed": false,
    "deletable": true,
    "editable": true,
    "jupyter": {
     "outputs_hidden": false
    },
    "slideshow": {
     "slide_type": ""
    },
    "tags": []
   },
   "outputs": [
    {
     "data": {
      "text/html": [
       "<div>\n",
       "<style scoped>\n",
       "    .dataframe tbody tr th:only-of-type {\n",
       "        vertical-align: middle;\n",
       "    }\n",
       "\n",
       "    .dataframe tbody tr th {\n",
       "        vertical-align: top;\n",
       "    }\n",
       "\n",
       "    .dataframe thead th {\n",
       "        text-align: right;\n",
       "    }\n",
       "</style>\n",
       "<table border=\"1\" class=\"dataframe\">\n",
       "  <thead>\n",
       "    <tr style=\"text-align: right;\">\n",
       "      <th></th>\n",
       "      <th>YEARMODA</th>\n",
       "      <th>MAX</th>\n",
       "      <th>MIN</th>\n",
       "      <th>TEMP1</th>\n",
       "      <th>TEMP2</th>\n",
       "      <th>DIFF</th>\n",
       "      <th>TEMP</th>\n",
       "      <th>TEMP_KELVIN</th>\n",
       "    </tr>\n",
       "  </thead>\n",
       "  <tbody>\n",
       "    <tr>\n",
       "      <th>0</th>\n",
       "      <td>20240601</td>\n",
       "      <td>26.2</td>\n",
       "      <td>18.4</td>\n",
       "      <td>24.2</td>\n",
       "      <td>23.2</td>\n",
       "      <td>7.8</td>\n",
       "      <td>23.70</td>\n",
       "      <td>296.85</td>\n",
       "    </tr>\n",
       "    <tr>\n",
       "      <th>2</th>\n",
       "      <td>20240603</td>\n",
       "      <td>25.7</td>\n",
       "      <td>15.2</td>\n",
       "      <td>22.5</td>\n",
       "      <td>23.1</td>\n",
       "      <td>10.5</td>\n",
       "      <td>22.80</td>\n",
       "      <td>295.95</td>\n",
       "    </tr>\n",
       "    <tr>\n",
       "      <th>24</th>\n",
       "      <td>20240625</td>\n",
       "      <td>25.7</td>\n",
       "      <td>12.3</td>\n",
       "      <td>20.6</td>\n",
       "      <td>25.0</td>\n",
       "      <td>13.4</td>\n",
       "      <td>22.80</td>\n",
       "      <td>295.95</td>\n",
       "    </tr>\n",
       "    <tr>\n",
       "      <th>25</th>\n",
       "      <td>20240626</td>\n",
       "      <td>25.7</td>\n",
       "      <td>15.9</td>\n",
       "      <td>22.2</td>\n",
       "      <td>25.5</td>\n",
       "      <td>9.8</td>\n",
       "      <td>23.85</td>\n",
       "      <td>297.00</td>\n",
       "    </tr>\n",
       "    <tr>\n",
       "      <th>...</th>\n",
       "      <td>...</td>\n",
       "      <td>...</td>\n",
       "      <td>...</td>\n",
       "      <td>...</td>\n",
       "      <td>...</td>\n",
       "      <td>...</td>\n",
       "      <td>...</td>\n",
       "      <td>...</td>\n",
       "    </tr>\n",
       "    <tr>\n",
       "      <th>54</th>\n",
       "      <td>20240725</td>\n",
       "      <td>26.1</td>\n",
       "      <td>18.5</td>\n",
       "      <td>22.3</td>\n",
       "      <td>26.1</td>\n",
       "      <td>7.6</td>\n",
       "      <td>24.20</td>\n",
       "      <td>297.35</td>\n",
       "    </tr>\n",
       "    <tr>\n",
       "      <th>55</th>\n",
       "      <td>20240726</td>\n",
       "      <td>26.7</td>\n",
       "      <td>17.9</td>\n",
       "      <td>24.3</td>\n",
       "      <td>26.4</td>\n",
       "      <td>8.8</td>\n",
       "      <td>25.35</td>\n",
       "      <td>298.50</td>\n",
       "    </tr>\n",
       "    <tr>\n",
       "      <th>56</th>\n",
       "      <td>20240727</td>\n",
       "      <td>25.1</td>\n",
       "      <td>NaN</td>\n",
       "      <td>22.7</td>\n",
       "      <td>24.8</td>\n",
       "      <td>NaN</td>\n",
       "      <td>23.75</td>\n",
       "      <td>296.90</td>\n",
       "    </tr>\n",
       "    <tr>\n",
       "      <th>85</th>\n",
       "      <td>20240825</td>\n",
       "      <td>25.9</td>\n",
       "      <td>14.4</td>\n",
       "      <td>19.0</td>\n",
       "      <td>25.9</td>\n",
       "      <td>11.5</td>\n",
       "      <td>22.45</td>\n",
       "      <td>295.60</td>\n",
       "    </tr>\n",
       "  </tbody>\n",
       "</table>\n",
       "<p>10 rows × 8 columns</p>\n",
       "</div>"
      ],
      "text/plain": [
       "    YEARMODA   MAX   MIN  TEMP1  TEMP2  DIFF   TEMP  TEMP_KELVIN\n",
       "0   20240601  26.2  18.4   24.2   23.2   7.8  23.70       296.85\n",
       "2   20240603  25.7  15.2   22.5   23.1  10.5  22.80       295.95\n",
       "24  20240625  25.7  12.3   20.6   25.0  13.4  22.80       295.95\n",
       "25  20240626  25.7  15.9   22.2   25.5   9.8  23.85       297.00\n",
       "..       ...   ...   ...    ...    ...   ...    ...          ...\n",
       "54  20240725  26.1  18.5   22.3   26.1   7.6  24.20       297.35\n",
       "55  20240726  26.7  17.9   24.3   26.4   8.8  25.35       298.50\n",
       "56  20240727  25.1   NaN   22.7   24.8   NaN  23.75       296.90\n",
       "85  20240825  25.9  14.4   19.0   25.9  11.5  22.45       295.60\n",
       "\n",
       "[10 rows x 8 columns]"
      ]
     },
     "execution_count": 25,
     "metadata": {},
     "output_type": "execute_result"
    }
   ],
   "source": [
    "hot_temps = data.loc[data[\"MAX\"] >= 25]\n",
    "hot_temps"
   ]
  },
  {
   "cell_type": "markdown",
   "metadata": {
    "deletable": true,
    "editable": true,
    "slideshow": {
     "slide_type": ""
    },
    "tags": []
   },
   "source": [
    "It is also possible to combine multiple criteria at the same time. Combining multiple criteria can be done using the `&` (and) or the `|` (or) operators. Notice, that it is often useful to separate the different conditional clauses with parentheses `()`. Let's select rows having average daily temperatures above 20 degrees from the second half of the summer of 2024 (July 15th onwards)."
   ]
  },
  {
   "cell_type": "code",
   "execution_count": 26,
   "metadata": {
    "collapsed": false,
    "deletable": true,
    "editable": true,
    "jupyter": {
     "outputs_hidden": false
    },
    "slideshow": {
     "slide_type": ""
    },
    "tags": []
   },
   "outputs": [
    {
     "data": {
      "text/html": [
       "<div>\n",
       "<style scoped>\n",
       "    .dataframe tbody tr th:only-of-type {\n",
       "        vertical-align: middle;\n",
       "    }\n",
       "\n",
       "    .dataframe tbody tr th {\n",
       "        vertical-align: top;\n",
       "    }\n",
       "\n",
       "    .dataframe thead th {\n",
       "        text-align: right;\n",
       "    }\n",
       "</style>\n",
       "<table border=\"1\" class=\"dataframe\">\n",
       "  <thead>\n",
       "    <tr style=\"text-align: right;\">\n",
       "      <th></th>\n",
       "      <th>YEARMODA</th>\n",
       "      <th>MAX</th>\n",
       "      <th>MIN</th>\n",
       "      <th>TEMP1</th>\n",
       "      <th>TEMP2</th>\n",
       "      <th>DIFF</th>\n",
       "      <th>TEMP</th>\n",
       "      <th>TEMP_KELVIN</th>\n",
       "    </tr>\n",
       "  </thead>\n",
       "  <tbody>\n",
       "    <tr>\n",
       "      <th>44</th>\n",
       "      <td>20240715</td>\n",
       "      <td>22.3</td>\n",
       "      <td>14.9</td>\n",
       "      <td>19.5</td>\n",
       "      <td>22.0</td>\n",
       "      <td>7.4</td>\n",
       "      <td>20.75</td>\n",
       "      <td>293.90</td>\n",
       "    </tr>\n",
       "    <tr>\n",
       "      <th>45</th>\n",
       "      <td>20240716</td>\n",
       "      <td>24.3</td>\n",
       "      <td>15.4</td>\n",
       "      <td>20.6</td>\n",
       "      <td>24.3</td>\n",
       "      <td>8.9</td>\n",
       "      <td>22.45</td>\n",
       "      <td>295.60</td>\n",
       "    </tr>\n",
       "    <tr>\n",
       "      <th>46</th>\n",
       "      <td>20240717</td>\n",
       "      <td>24.3</td>\n",
       "      <td>17.9</td>\n",
       "      <td>21.6</td>\n",
       "      <td>23.5</td>\n",
       "      <td>6.4</td>\n",
       "      <td>22.55</td>\n",
       "      <td>295.70</td>\n",
       "    </tr>\n",
       "    <tr>\n",
       "      <th>47</th>\n",
       "      <td>20240718</td>\n",
       "      <td>22.5</td>\n",
       "      <td>16.9</td>\n",
       "      <td>19.1</td>\n",
       "      <td>22.5</td>\n",
       "      <td>5.6</td>\n",
       "      <td>20.80</td>\n",
       "      <td>293.95</td>\n",
       "    </tr>\n",
       "    <tr>\n",
       "      <th>...</th>\n",
       "      <td>...</td>\n",
       "      <td>...</td>\n",
       "      <td>...</td>\n",
       "      <td>...</td>\n",
       "      <td>...</td>\n",
       "      <td>...</td>\n",
       "      <td>...</td>\n",
       "      <td>...</td>\n",
       "    </tr>\n",
       "    <tr>\n",
       "      <th>81</th>\n",
       "      <td>20240821</td>\n",
       "      <td>22.3</td>\n",
       "      <td>16.0</td>\n",
       "      <td>20.8</td>\n",
       "      <td>20.6</td>\n",
       "      <td>6.3</td>\n",
       "      <td>20.70</td>\n",
       "      <td>293.85</td>\n",
       "    </tr>\n",
       "    <tr>\n",
       "      <th>82</th>\n",
       "      <td>20240822</td>\n",
       "      <td>22.1</td>\n",
       "      <td>NaN</td>\n",
       "      <td>19.7</td>\n",
       "      <td>20.8</td>\n",
       "      <td>NaN</td>\n",
       "      <td>20.25</td>\n",
       "      <td>293.40</td>\n",
       "    </tr>\n",
       "    <tr>\n",
       "      <th>85</th>\n",
       "      <td>20240825</td>\n",
       "      <td>25.9</td>\n",
       "      <td>14.4</td>\n",
       "      <td>19.0</td>\n",
       "      <td>25.9</td>\n",
       "      <td>11.5</td>\n",
       "      <td>22.45</td>\n",
       "      <td>295.60</td>\n",
       "    </tr>\n",
       "    <tr>\n",
       "      <th>90</th>\n",
       "      <td>20240830</td>\n",
       "      <td>24.6</td>\n",
       "      <td>16.0</td>\n",
       "      <td>20.7</td>\n",
       "      <td>23.5</td>\n",
       "      <td>8.6</td>\n",
       "      <td>22.10</td>\n",
       "      <td>295.25</td>\n",
       "    </tr>\n",
       "  </tbody>\n",
       "</table>\n",
       "<p>27 rows × 8 columns</p>\n",
       "</div>"
      ],
      "text/plain": [
       "    YEARMODA   MAX   MIN  TEMP1  TEMP2  DIFF   TEMP  TEMP_KELVIN\n",
       "44  20240715  22.3  14.9   19.5   22.0   7.4  20.75       293.90\n",
       "45  20240716  24.3  15.4   20.6   24.3   8.9  22.45       295.60\n",
       "46  20240717  24.3  17.9   21.6   23.5   6.4  22.55       295.70\n",
       "47  20240718  22.5  16.9   19.1   22.5   5.6  20.80       293.95\n",
       "..       ...   ...   ...    ...    ...   ...    ...          ...\n",
       "81  20240821  22.3  16.0   20.8   20.6   6.3  20.70       293.85\n",
       "82  20240822  22.1   NaN   19.7   20.8   NaN  20.25       293.40\n",
       "85  20240825  25.9  14.4   19.0   25.9  11.5  22.45       295.60\n",
       "90  20240830  24.6  16.0   20.7   23.5   8.6  22.10       295.25\n",
       "\n",
       "[27 rows x 8 columns]"
      ]
     },
     "execution_count": 26,
     "metadata": {},
     "output_type": "execute_result"
    }
   ],
   "source": [
    "warm_temps = data.loc[(data[\"TEMP\"] > 20) & (data[\"YEARMODA\"] >= 20240715)]\n",
    "warm_temps"
   ]
  },
  {
   "cell_type": "markdown",
   "metadata": {
    "deletable": true,
    "editable": true,
    "slideshow": {
     "slide_type": ""
    },
    "tags": []
   },
   "source": [
    "Now we have a subset of our `DataFrame` with only rows where the `TEMP` is above 20 and the dates in `YEARMODA` column start from the 15th of July. Notice, that the index values (numbers on the left) are still showing the index labels from the original `DataFrame`. This indicates that our result is a slice from the original data."
   ]
  },
  {
   "cell_type": "markdown",
   "metadata": {
    "editable": true,
    "slideshow": {
     "slide_type": ""
    },
    "tags": []
   },
   "source": [
    "Of course, it is possible to reset the index using the `.reset_index()` function, which makes the index numbering to start from 0 and increases the index values in a sequential manner. This is often a useful operation to do because it makes it easier then to slice the data with `.loc[]` or `.iloc[]`. By default `.reset_index()` would make a new column called `index` to store the previous index, which might be useful in some cases. That is not the case here, so we can omit storing the old index by including the parameter `drop=True`."
   ]
  },
  {
   "cell_type": "code",
   "execution_count": 27,
   "metadata": {
    "collapsed": false,
    "deletable": true,
    "editable": true,
    "jupyter": {
     "outputs_hidden": false
    },
    "slideshow": {
     "slide_type": ""
    },
    "tags": []
   },
   "outputs": [
    {
     "data": {
      "text/html": [
       "<div>\n",
       "<style scoped>\n",
       "    .dataframe tbody tr th:only-of-type {\n",
       "        vertical-align: middle;\n",
       "    }\n",
       "\n",
       "    .dataframe tbody tr th {\n",
       "        vertical-align: top;\n",
       "    }\n",
       "\n",
       "    .dataframe thead th {\n",
       "        text-align: right;\n",
       "    }\n",
       "</style>\n",
       "<table border=\"1\" class=\"dataframe\">\n",
       "  <thead>\n",
       "    <tr style=\"text-align: right;\">\n",
       "      <th></th>\n",
       "      <th>YEARMODA</th>\n",
       "      <th>MAX</th>\n",
       "      <th>MIN</th>\n",
       "      <th>TEMP1</th>\n",
       "      <th>TEMP2</th>\n",
       "      <th>DIFF</th>\n",
       "      <th>TEMP</th>\n",
       "      <th>TEMP_KELVIN</th>\n",
       "    </tr>\n",
       "  </thead>\n",
       "  <tbody>\n",
       "    <tr>\n",
       "      <th>0</th>\n",
       "      <td>20240715</td>\n",
       "      <td>22.3</td>\n",
       "      <td>14.9</td>\n",
       "      <td>19.5</td>\n",
       "      <td>22.0</td>\n",
       "      <td>7.4</td>\n",
       "      <td>20.75</td>\n",
       "      <td>293.90</td>\n",
       "    </tr>\n",
       "    <tr>\n",
       "      <th>1</th>\n",
       "      <td>20240716</td>\n",
       "      <td>24.3</td>\n",
       "      <td>15.4</td>\n",
       "      <td>20.6</td>\n",
       "      <td>24.3</td>\n",
       "      <td>8.9</td>\n",
       "      <td>22.45</td>\n",
       "      <td>295.60</td>\n",
       "    </tr>\n",
       "    <tr>\n",
       "      <th>2</th>\n",
       "      <td>20240717</td>\n",
       "      <td>24.3</td>\n",
       "      <td>17.9</td>\n",
       "      <td>21.6</td>\n",
       "      <td>23.5</td>\n",
       "      <td>6.4</td>\n",
       "      <td>22.55</td>\n",
       "      <td>295.70</td>\n",
       "    </tr>\n",
       "    <tr>\n",
       "      <th>3</th>\n",
       "      <td>20240718</td>\n",
       "      <td>22.5</td>\n",
       "      <td>16.9</td>\n",
       "      <td>19.1</td>\n",
       "      <td>22.5</td>\n",
       "      <td>5.6</td>\n",
       "      <td>20.80</td>\n",
       "      <td>293.95</td>\n",
       "    </tr>\n",
       "    <tr>\n",
       "      <th>...</th>\n",
       "      <td>...</td>\n",
       "      <td>...</td>\n",
       "      <td>...</td>\n",
       "      <td>...</td>\n",
       "      <td>...</td>\n",
       "      <td>...</td>\n",
       "      <td>...</td>\n",
       "      <td>...</td>\n",
       "    </tr>\n",
       "    <tr>\n",
       "      <th>23</th>\n",
       "      <td>20240821</td>\n",
       "      <td>22.3</td>\n",
       "      <td>16.0</td>\n",
       "      <td>20.8</td>\n",
       "      <td>20.6</td>\n",
       "      <td>6.3</td>\n",
       "      <td>20.70</td>\n",
       "      <td>293.85</td>\n",
       "    </tr>\n",
       "    <tr>\n",
       "      <th>24</th>\n",
       "      <td>20240822</td>\n",
       "      <td>22.1</td>\n",
       "      <td>NaN</td>\n",
       "      <td>19.7</td>\n",
       "      <td>20.8</td>\n",
       "      <td>NaN</td>\n",
       "      <td>20.25</td>\n",
       "      <td>293.40</td>\n",
       "    </tr>\n",
       "    <tr>\n",
       "      <th>25</th>\n",
       "      <td>20240825</td>\n",
       "      <td>25.9</td>\n",
       "      <td>14.4</td>\n",
       "      <td>19.0</td>\n",
       "      <td>25.9</td>\n",
       "      <td>11.5</td>\n",
       "      <td>22.45</td>\n",
       "      <td>295.60</td>\n",
       "    </tr>\n",
       "    <tr>\n",
       "      <th>26</th>\n",
       "      <td>20240830</td>\n",
       "      <td>24.6</td>\n",
       "      <td>16.0</td>\n",
       "      <td>20.7</td>\n",
       "      <td>23.5</td>\n",
       "      <td>8.6</td>\n",
       "      <td>22.10</td>\n",
       "      <td>295.25</td>\n",
       "    </tr>\n",
       "  </tbody>\n",
       "</table>\n",
       "<p>27 rows × 8 columns</p>\n",
       "</div>"
      ],
      "text/plain": [
       "    YEARMODA   MAX   MIN  TEMP1  TEMP2  DIFF   TEMP  TEMP_KELVIN\n",
       "0   20240715  22.3  14.9   19.5   22.0   7.4  20.75       293.90\n",
       "1   20240716  24.3  15.4   20.6   24.3   8.9  22.45       295.60\n",
       "2   20240717  24.3  17.9   21.6   23.5   6.4  22.55       295.70\n",
       "3   20240718  22.5  16.9   19.1   22.5   5.6  20.80       293.95\n",
       "..       ...   ...   ...    ...    ...   ...    ...          ...\n",
       "23  20240821  22.3  16.0   20.8   20.6   6.3  20.70       293.85\n",
       "24  20240822  22.1   NaN   19.7   20.8   NaN  20.25       293.40\n",
       "25  20240825  25.9  14.4   19.0   25.9  11.5  22.45       295.60\n",
       "26  20240830  24.6  16.0   20.7   23.5   8.6  22.10       295.25\n",
       "\n",
       "[27 rows x 8 columns]"
      ]
     },
     "execution_count": 27,
     "metadata": {},
     "output_type": "execute_result"
    }
   ],
   "source": [
    "warm_temps = warm_temps.reset_index(drop=True)\n",
    "warm_temps"
   ]
  },
  {
   "cell_type": "markdown",
   "metadata": {
    "editable": true,
    "slideshow": {
     "slide_type": ""
    },
    "tags": []
   },
   "source": [
    "As can be seen, now the index values goes from 0 to 26. Resetting the index has now also unlinked the `warm_temps` `DataFrame` from `data`, meaning that it is not a view anymore but an independent `pandas` object. When making selections, it is quite typical that `pandas` might give you warnings if you modify the selected data without first resetting the index or making a copy of the selected data. To demonstrate this, we will make the selection again and create a new column indicating days in which the temperature was \"hot\" (maximum temperature greater than 25 degrees Celsius)."
   ]
  },
  {
   "cell_type": "code",
   "execution_count": 28,
   "metadata": {
    "editable": true,
    "slideshow": {
     "slide_type": ""
    },
    "tags": []
   },
   "outputs": [
    {
     "name": "stderr",
     "output_type": "stream",
     "text": [
      "/var/folders/lp/cjwc88bd3w10sg327y_4ghg0fsk7jj/T/ipykernel_88873/3602583181.py:2: SettingWithCopyWarning: \n",
      "A value is trying to be set on a copy of a slice from a DataFrame.\n",
      "Try using .loc[row_indexer,col_indexer] = value instead\n",
      "\n",
      "See the caveats in the documentation: https://pandas.pydata.org/pandas-docs/stable/user_guide/indexing.html#returning-a-view-versus-a-copy\n",
      "  warm_temps[\"HOT_TEMP\"] = warm_temps[\"MAX\"] > 25\n"
     ]
    }
   ],
   "source": [
    "warm_temps = data.loc[(data[\"TEMP\"] > 20) & (data[\"YEARMODA\"] >= 20240715)]\n",
    "warm_temps[\"HOT_TEMP\"] = warm_temps[\"MAX\"] > 25"
   ]
  },
  {
   "cell_type": "markdown",
   "metadata": {
    "editable": true,
    "slideshow": {
     "slide_type": ""
    },
    "tags": []
   },
   "source": [
    "In this case we have created a new column using the selection, which is a slice from the original data. As a result, `pandas` raises a warning about a possible invalid value assignment. In most cases this warning can be ignored, but it is a good practice to always make a copy when doing selections, especially if you continue working with the selected data and intend modify it further."
   ]
  },
  {
   "cell_type": "code",
   "execution_count": 29,
   "metadata": {
    "editable": true,
    "slideshow": {
     "slide_type": ""
    },
    "tags": []
   },
   "outputs": [],
   "source": [
    "# Make the selection and make a copy\n",
    "warm_temps = data.loc[(data[\"TEMP\"] > 20) & (data[\"YEARMODA\"] >= 20240715)].copy()\n",
    "\n",
    "# Now update the first value of the last column\n",
    "warm_temps[\"HOT_TEMP\"] = warm_temps[\"MAX\"] > 25"
   ]
  },
  {
   "cell_type": "markdown",
   "metadata": {
    "editable": true,
    "slideshow": {
     "slide_type": ""
    },
    "tags": []
   },
   "source": [
    "As we can see, now we did not receive any warnings this time and it would be safe to continue working with this selection without needing to worry that there are some \"hidden linkages\" between the selection and another `DataFrame` that could cause issues (we discuss this more in the next section)."
   ]
  },
  {
   "cell_type": "markdown",
   "metadata": {
    "editable": true,
    "slideshow": {
     "slide_type": ""
    },
    "tags": [
     "question"
    ]
   },
   "source": [
    "#### Question 3.6\n",
    "\n",
    "Calculate the mean temperature for the last seven days of August 2024 again. This time you should select the rows based on a condition for the `YEARMODA` column."
   ]
  },
  {
   "cell_type": "code",
   "execution_count": 30,
   "metadata": {
    "editable": true,
    "slideshow": {
     "slide_type": ""
    },
    "tags": [
     "remove_cell"
    ]
   },
   "outputs": [],
   "source": [
    "# Use this cell to enter your solution."
   ]
  },
  {
   "cell_type": "code",
   "execution_count": 31,
   "metadata": {
    "editable": true,
    "slideshow": {
     "slide_type": ""
    },
    "tags": [
     "hide-cell",
     "remove_book_cell"
    ]
   },
   "outputs": [
    {
     "data": {
      "text/plain": [
       "np.float64(19.671428571428574)"
      ]
     },
     "execution_count": 31,
     "metadata": {},
     "output_type": "execute_result"
    }
   ],
   "source": [
    "# Solution\n",
    "data[\"TEMP\"].loc[data[\"YEARMODA\"] >= 20240825].mean()"
   ]
  },
  {
   "cell_type": "markdown",
   "metadata": {
    "editable": true,
    "slideshow": {
     "slide_type": ""
    },
    "tags": []
   },
   "source": [
    "### View versus a copy\n",
    "\n",
    "As we have seen above, making a selection can sometimes result to something called a view. In such cases, the selection and the original data may still linked to each other. This happens, for example, if you make a selection like above but return only a single column from the original source data. In a situation where you have a view, a change in the original data for that specific column can also change the value in the selection. This behavior can be confusing and yield unexpected consequences, so a good practice to follow is to always make a copy whenever doing selections to unlink the source `DataFrame` from the selection. You can make a copy easily while doing the selection by adding `.copy()` at the end of the selection command."
   ]
  },
  {
   "cell_type": "code",
   "execution_count": 32,
   "metadata": {
    "editable": true,
    "slideshow": {
     "slide_type": ""
    },
    "tags": []
   },
   "outputs": [
    {
     "data": {
      "text/html": [
       "<div>\n",
       "<style scoped>\n",
       "    .dataframe tbody tr th:only-of-type {\n",
       "        vertical-align: middle;\n",
       "    }\n",
       "\n",
       "    .dataframe tbody tr th {\n",
       "        vertical-align: top;\n",
       "    }\n",
       "\n",
       "    .dataframe thead th {\n",
       "        text-align: right;\n",
       "    }\n",
       "</style>\n",
       "<table border=\"1\" class=\"dataframe\">\n",
       "  <thead>\n",
       "    <tr style=\"text-align: right;\">\n",
       "      <th></th>\n",
       "      <th>TEMP</th>\n",
       "      <th>TEMP_KELVIN</th>\n",
       "    </tr>\n",
       "  </thead>\n",
       "  <tbody>\n",
       "    <tr>\n",
       "      <th>0</th>\n",
       "      <td>23.70</td>\n",
       "      <td>296.85</td>\n",
       "    </tr>\n",
       "    <tr>\n",
       "      <th>1</th>\n",
       "      <td>22.45</td>\n",
       "      <td>295.60</td>\n",
       "    </tr>\n",
       "    <tr>\n",
       "      <th>2</th>\n",
       "      <td>22.80</td>\n",
       "      <td>295.95</td>\n",
       "    </tr>\n",
       "    <tr>\n",
       "      <th>3</th>\n",
       "      <td>21.95</td>\n",
       "      <td>295.10</td>\n",
       "    </tr>\n",
       "    <tr>\n",
       "      <th>4</th>\n",
       "      <td>21.75</td>\n",
       "      <td>294.90</td>\n",
       "    </tr>\n",
       "    <tr>\n",
       "      <th>5</th>\n",
       "      <td>17.05</td>\n",
       "      <td>290.20</td>\n",
       "    </tr>\n",
       "  </tbody>\n",
       "</table>\n",
       "</div>"
      ],
      "text/plain": [
       "    TEMP  TEMP_KELVIN\n",
       "0  23.70       296.85\n",
       "1  22.45       295.60\n",
       "2  22.80       295.95\n",
       "3  21.95       295.10\n",
       "4  21.75       294.90\n",
       "5  17.05       290.20"
      ]
     },
     "execution_count": 32,
     "metadata": {},
     "output_type": "execute_result"
    }
   ],
   "source": [
    "selection = data.loc[0:5, [\"TEMP\", \"TEMP_KELVIN\"]].copy()\n",
    "selection"
   ]
  },
  {
   "cell_type": "markdown",
   "metadata": {
    "editable": true,
    "slideshow": {
     "slide_type": ""
    },
    "tags": []
   },
   "source": [
    "Now we have the exact same data in our end result, but we have ensured that the selection is not linked to the original data anymore. To demonstrate what can happen with the view, let's make a selection of a single column from the selection data (which will be a view), and modify the data a bit to demonstrate the consequences if we are not careful."
   ]
  },
  {
   "cell_type": "code",
   "execution_count": 33,
   "metadata": {
    "editable": true,
    "slideshow": {
     "slide_type": ""
    },
    "tags": []
   },
   "outputs": [
    {
     "data": {
      "text/plain": [
       "0    23.70\n",
       "1    22.45\n",
       "2    22.80\n",
       "3    21.95\n",
       "4    21.75\n",
       "5    17.05\n",
       "Name: TEMP, dtype: float64"
      ]
     },
     "execution_count": 33,
     "metadata": {},
     "output_type": "execute_result"
    }
   ],
   "source": [
    "temp = selection[\"TEMP\"]\n",
    "temp"
   ]
  },
  {
   "cell_type": "markdown",
   "metadata": {
    "editable": true,
    "slideshow": {
     "slide_type": ""
    },
    "tags": []
   },
   "source": [
    "Now if we make a change to our original data `selection` it will also influence our values in `temp`."
   ]
  },
  {
   "cell_type": "code",
   "execution_count": 34,
   "metadata": {
    "editable": true,
    "slideshow": {
     "slide_type": ""
    },
    "tags": []
   },
   "outputs": [
    {
     "data": {
      "text/html": [
       "<div>\n",
       "<style scoped>\n",
       "    .dataframe tbody tr th:only-of-type {\n",
       "        vertical-align: middle;\n",
       "    }\n",
       "\n",
       "    .dataframe tbody tr th {\n",
       "        vertical-align: top;\n",
       "    }\n",
       "\n",
       "    .dataframe thead th {\n",
       "        text-align: right;\n",
       "    }\n",
       "</style>\n",
       "<table border=\"1\" class=\"dataframe\">\n",
       "  <thead>\n",
       "    <tr style=\"text-align: right;\">\n",
       "      <th></th>\n",
       "      <th>TEMP</th>\n",
       "      <th>TEMP_KELVIN</th>\n",
       "    </tr>\n",
       "  </thead>\n",
       "  <tbody>\n",
       "    <tr>\n",
       "      <th>0</th>\n",
       "      <td>30.00</td>\n",
       "      <td>296.85</td>\n",
       "    </tr>\n",
       "    <tr>\n",
       "      <th>1</th>\n",
       "      <td>22.45</td>\n",
       "      <td>295.60</td>\n",
       "    </tr>\n",
       "    <tr>\n",
       "      <th>2</th>\n",
       "      <td>22.80</td>\n",
       "      <td>295.95</td>\n",
       "    </tr>\n",
       "    <tr>\n",
       "      <th>3</th>\n",
       "      <td>21.95</td>\n",
       "      <td>295.10</td>\n",
       "    </tr>\n",
       "    <tr>\n",
       "      <th>4</th>\n",
       "      <td>21.75</td>\n",
       "      <td>294.90</td>\n",
       "    </tr>\n",
       "  </tbody>\n",
       "</table>\n",
       "</div>"
      ],
      "text/plain": [
       "    TEMP  TEMP_KELVIN\n",
       "0  30.00       296.85\n",
       "1  22.45       295.60\n",
       "2  22.80       295.95\n",
       "3  21.95       295.10\n",
       "4  21.75       294.90"
      ]
     },
     "execution_count": 34,
     "metadata": {},
     "output_type": "execute_result"
    }
   ],
   "source": [
    "selection.iloc[0, 0] = 30.0\n",
    "selection.head()"
   ]
  },
  {
   "cell_type": "code",
   "execution_count": 35,
   "metadata": {
    "editable": true,
    "slideshow": {
     "slide_type": ""
    },
    "tags": []
   },
   "outputs": [
    {
     "data": {
      "text/plain": [
       "0    30.00\n",
       "1    22.45\n",
       "2    22.80\n",
       "3    21.95\n",
       "4    21.75\n",
       "5    17.05\n",
       "Name: TEMP, dtype: float64"
      ]
     },
     "execution_count": 35,
     "metadata": {},
     "output_type": "execute_result"
    }
   ],
   "source": [
    "# Check the values in temp (which we did not modify)\n",
    "temp"
   ]
  },
  {
   "cell_type": "markdown",
   "metadata": {
    "editable": true,
    "slideshow": {
     "slide_type": ""
    },
    "tags": []
   },
   "source": [
    "As we can see, the value in our `temp` `Series` has changed from `23.70` to `30.00` although we did not make any change to it directly. The change happened because the data objects were still linked to each other."
   ]
  },
  {
   "cell_type": "markdown",
   "metadata": {
    "deletable": true,
    "editable": true,
    "slideshow": {
     "slide_type": ""
    },
    "tags": []
   },
   "source": [
    "## Dealing with missing data\n",
    "\n",
    "As you may have noticed by now, we have several missing values for the temperature minimum, maximum, and average columns (`MIN`, `MAX`, and `TEMP`). These missing values appear as `NaN` (not a number). Having missing data in your data file is quite common and typically you want to deal with these values somehow. Common procedures to deal with `NaN` values are to either remove them from the `DataFrame` or replace (fill) them with some other value. In `pandas`, both of these options are easy to do. Let's first start by checking whether the data we are using has and `NaN` values."
   ]
  },
  {
   "cell_type": "code",
   "execution_count": 36,
   "metadata": {
    "editable": true,
    "slideshow": {
     "slide_type": ""
    },
    "tags": []
   },
   "outputs": [
    {
     "data": {
      "text/html": [
       "<div>\n",
       "<style scoped>\n",
       "    .dataframe tbody tr th:only-of-type {\n",
       "        vertical-align: middle;\n",
       "    }\n",
       "\n",
       "    .dataframe tbody tr th {\n",
       "        vertical-align: top;\n",
       "    }\n",
       "\n",
       "    .dataframe thead th {\n",
       "        text-align: right;\n",
       "    }\n",
       "</style>\n",
       "<table border=\"1\" class=\"dataframe\">\n",
       "  <thead>\n",
       "    <tr style=\"text-align: right;\">\n",
       "      <th></th>\n",
       "      <th>YEARMODA</th>\n",
       "      <th>MAX</th>\n",
       "      <th>MIN</th>\n",
       "      <th>TEMP1</th>\n",
       "      <th>TEMP2</th>\n",
       "      <th>DIFF</th>\n",
       "      <th>TEMP</th>\n",
       "      <th>TEMP_KELVIN</th>\n",
       "      <th>HOT_TEMP</th>\n",
       "    </tr>\n",
       "  </thead>\n",
       "  <tbody>\n",
       "    <tr>\n",
       "      <th>44</th>\n",
       "      <td>20240715</td>\n",
       "      <td>22.3</td>\n",
       "      <td>14.9</td>\n",
       "      <td>19.5</td>\n",
       "      <td>22.0</td>\n",
       "      <td>7.4</td>\n",
       "      <td>20.75</td>\n",
       "      <td>293.90</td>\n",
       "      <td>False</td>\n",
       "    </tr>\n",
       "    <tr>\n",
       "      <th>45</th>\n",
       "      <td>20240716</td>\n",
       "      <td>24.3</td>\n",
       "      <td>15.4</td>\n",
       "      <td>20.6</td>\n",
       "      <td>24.3</td>\n",
       "      <td>8.9</td>\n",
       "      <td>22.45</td>\n",
       "      <td>295.60</td>\n",
       "      <td>False</td>\n",
       "    </tr>\n",
       "    <tr>\n",
       "      <th>46</th>\n",
       "      <td>20240717</td>\n",
       "      <td>24.3</td>\n",
       "      <td>17.9</td>\n",
       "      <td>21.6</td>\n",
       "      <td>23.5</td>\n",
       "      <td>6.4</td>\n",
       "      <td>22.55</td>\n",
       "      <td>295.70</td>\n",
       "      <td>False</td>\n",
       "    </tr>\n",
       "    <tr>\n",
       "      <th>47</th>\n",
       "      <td>20240718</td>\n",
       "      <td>22.5</td>\n",
       "      <td>16.9</td>\n",
       "      <td>19.1</td>\n",
       "      <td>22.5</td>\n",
       "      <td>5.6</td>\n",
       "      <td>20.80</td>\n",
       "      <td>293.95</td>\n",
       "      <td>False</td>\n",
       "    </tr>\n",
       "    <tr>\n",
       "      <th>...</th>\n",
       "      <td>...</td>\n",
       "      <td>...</td>\n",
       "      <td>...</td>\n",
       "      <td>...</td>\n",
       "      <td>...</td>\n",
       "      <td>...</td>\n",
       "      <td>...</td>\n",
       "      <td>...</td>\n",
       "      <td>...</td>\n",
       "    </tr>\n",
       "    <tr>\n",
       "      <th>81</th>\n",
       "      <td>20240821</td>\n",
       "      <td>22.3</td>\n",
       "      <td>16.0</td>\n",
       "      <td>20.8</td>\n",
       "      <td>20.6</td>\n",
       "      <td>6.3</td>\n",
       "      <td>20.70</td>\n",
       "      <td>293.85</td>\n",
       "      <td>False</td>\n",
       "    </tr>\n",
       "    <tr>\n",
       "      <th>82</th>\n",
       "      <td>20240822</td>\n",
       "      <td>22.1</td>\n",
       "      <td>NaN</td>\n",
       "      <td>19.7</td>\n",
       "      <td>20.8</td>\n",
       "      <td>NaN</td>\n",
       "      <td>20.25</td>\n",
       "      <td>293.40</td>\n",
       "      <td>False</td>\n",
       "    </tr>\n",
       "    <tr>\n",
       "      <th>85</th>\n",
       "      <td>20240825</td>\n",
       "      <td>25.9</td>\n",
       "      <td>14.4</td>\n",
       "      <td>19.0</td>\n",
       "      <td>25.9</td>\n",
       "      <td>11.5</td>\n",
       "      <td>22.45</td>\n",
       "      <td>295.60</td>\n",
       "      <td>True</td>\n",
       "    </tr>\n",
       "    <tr>\n",
       "      <th>90</th>\n",
       "      <td>20240830</td>\n",
       "      <td>24.6</td>\n",
       "      <td>16.0</td>\n",
       "      <td>20.7</td>\n",
       "      <td>23.5</td>\n",
       "      <td>8.6</td>\n",
       "      <td>22.10</td>\n",
       "      <td>295.25</td>\n",
       "      <td>False</td>\n",
       "    </tr>\n",
       "  </tbody>\n",
       "</table>\n",
       "<p>27 rows × 9 columns</p>\n",
       "</div>"
      ],
      "text/plain": [
       "    YEARMODA   MAX   MIN  TEMP1  TEMP2  DIFF   TEMP  TEMP_KELVIN  HOT_TEMP\n",
       "44  20240715  22.3  14.9   19.5   22.0   7.4  20.75       293.90     False\n",
       "45  20240716  24.3  15.4   20.6   24.3   8.9  22.45       295.60     False\n",
       "46  20240717  24.3  17.9   21.6   23.5   6.4  22.55       295.70     False\n",
       "47  20240718  22.5  16.9   19.1   22.5   5.6  20.80       293.95     False\n",
       "..       ...   ...   ...    ...    ...   ...    ...          ...       ...\n",
       "81  20240821  22.3  16.0   20.8   20.6   6.3  20.70       293.85     False\n",
       "82  20240822  22.1   NaN   19.7   20.8   NaN  20.25       293.40     False\n",
       "85  20240825  25.9  14.4   19.0   25.9  11.5  22.45       295.60      True\n",
       "90  20240830  24.6  16.0   20.7   23.5   8.6  22.10       295.25     False\n",
       "\n",
       "[27 rows x 9 columns]"
      ]
     },
     "execution_count": 36,
     "metadata": {},
     "output_type": "execute_result"
    }
   ],
   "source": [
    "warm_temps"
   ]
  },
  {
   "cell_type": "markdown",
   "metadata": {
    "editable": true,
    "slideshow": {
     "slide_type": ""
    },
    "tags": []
   },
   "source": [
    "As we can see, the `MIN` and `TEMP` columns are clearly missing values at index `82`. It is also possible to confirm this with `pandas` by accessing a specific `Series` attribute called `.hasnans`, which can be a handy tool when automating a data analysis pipeline. Each `Series` (or column) in the `DataFrame` has this attribute. Let's check whether the `MIN` column contains any `NaN` values."
   ]
  },
  {
   "cell_type": "code",
   "execution_count": 37,
   "metadata": {
    "editable": true,
    "slideshow": {
     "slide_type": ""
    },
    "tags": []
   },
   "outputs": [
    {
     "data": {
      "text/plain": [
       "True"
      ]
     },
     "execution_count": 37,
     "metadata": {},
     "output_type": "execute_result"
    }
   ],
   "source": [
    "warm_temps[\"MIN\"].hasnans"
   ]
  },
  {
   "cell_type": "markdown",
   "metadata": {
    "editable": true,
    "slideshow": {
     "slide_type": ""
    },
    "tags": []
   },
   "source": [
    "The `.hasnans` attribute will be either `True` or `False` depending on whether or not the `Series` contains any `NaN` values. Let's now see how we can remove the missing data values (i.e., clean the data) using the `.dropna()` function. Inside the `.dropna()` function you can pass a list of column(s) in which the `NaN` values should be processed by using the `subset` parameter."
   ]
  },
  {
   "cell_type": "code",
   "execution_count": 38,
   "metadata": {
    "collapsed": false,
    "deletable": true,
    "editable": true,
    "jupyter": {
     "outputs_hidden": false
    },
    "slideshow": {
     "slide_type": ""
    },
    "tags": []
   },
   "outputs": [
    {
     "data": {
      "text/html": [
       "<div>\n",
       "<style scoped>\n",
       "    .dataframe tbody tr th:only-of-type {\n",
       "        vertical-align: middle;\n",
       "    }\n",
       "\n",
       "    .dataframe tbody tr th {\n",
       "        vertical-align: top;\n",
       "    }\n",
       "\n",
       "    .dataframe thead th {\n",
       "        text-align: right;\n",
       "    }\n",
       "</style>\n",
       "<table border=\"1\" class=\"dataframe\">\n",
       "  <thead>\n",
       "    <tr style=\"text-align: right;\">\n",
       "      <th></th>\n",
       "      <th>YEARMODA</th>\n",
       "      <th>MAX</th>\n",
       "      <th>MIN</th>\n",
       "      <th>TEMP1</th>\n",
       "      <th>TEMP2</th>\n",
       "      <th>DIFF</th>\n",
       "      <th>TEMP</th>\n",
       "      <th>TEMP_KELVIN</th>\n",
       "      <th>HOT_TEMP</th>\n",
       "    </tr>\n",
       "  </thead>\n",
       "  <tbody>\n",
       "    <tr>\n",
       "      <th>44</th>\n",
       "      <td>20240715</td>\n",
       "      <td>22.3</td>\n",
       "      <td>14.9</td>\n",
       "      <td>19.5</td>\n",
       "      <td>22.0</td>\n",
       "      <td>7.4</td>\n",
       "      <td>20.75</td>\n",
       "      <td>293.90</td>\n",
       "      <td>False</td>\n",
       "    </tr>\n",
       "    <tr>\n",
       "      <th>45</th>\n",
       "      <td>20240716</td>\n",
       "      <td>24.3</td>\n",
       "      <td>15.4</td>\n",
       "      <td>20.6</td>\n",
       "      <td>24.3</td>\n",
       "      <td>8.9</td>\n",
       "      <td>22.45</td>\n",
       "      <td>295.60</td>\n",
       "      <td>False</td>\n",
       "    </tr>\n",
       "    <tr>\n",
       "      <th>46</th>\n",
       "      <td>20240717</td>\n",
       "      <td>24.3</td>\n",
       "      <td>17.9</td>\n",
       "      <td>21.6</td>\n",
       "      <td>23.5</td>\n",
       "      <td>6.4</td>\n",
       "      <td>22.55</td>\n",
       "      <td>295.70</td>\n",
       "      <td>False</td>\n",
       "    </tr>\n",
       "    <tr>\n",
       "      <th>47</th>\n",
       "      <td>20240718</td>\n",
       "      <td>22.5</td>\n",
       "      <td>16.9</td>\n",
       "      <td>19.1</td>\n",
       "      <td>22.5</td>\n",
       "      <td>5.6</td>\n",
       "      <td>20.80</td>\n",
       "      <td>293.95</td>\n",
       "      <td>False</td>\n",
       "    </tr>\n",
       "    <tr>\n",
       "      <th>...</th>\n",
       "      <td>...</td>\n",
       "      <td>...</td>\n",
       "      <td>...</td>\n",
       "      <td>...</td>\n",
       "      <td>...</td>\n",
       "      <td>...</td>\n",
       "      <td>...</td>\n",
       "      <td>...</td>\n",
       "      <td>...</td>\n",
       "    </tr>\n",
       "    <tr>\n",
       "      <th>79</th>\n",
       "      <td>20240819</td>\n",
       "      <td>22.3</td>\n",
       "      <td>15.1</td>\n",
       "      <td>18.8</td>\n",
       "      <td>22.3</td>\n",
       "      <td>7.2</td>\n",
       "      <td>20.55</td>\n",
       "      <td>293.70</td>\n",
       "      <td>False</td>\n",
       "    </tr>\n",
       "    <tr>\n",
       "      <th>81</th>\n",
       "      <td>20240821</td>\n",
       "      <td>22.3</td>\n",
       "      <td>16.0</td>\n",
       "      <td>20.8</td>\n",
       "      <td>20.6</td>\n",
       "      <td>6.3</td>\n",
       "      <td>20.70</td>\n",
       "      <td>293.85</td>\n",
       "      <td>False</td>\n",
       "    </tr>\n",
       "    <tr>\n",
       "      <th>85</th>\n",
       "      <td>20240825</td>\n",
       "      <td>25.9</td>\n",
       "      <td>14.4</td>\n",
       "      <td>19.0</td>\n",
       "      <td>25.9</td>\n",
       "      <td>11.5</td>\n",
       "      <td>22.45</td>\n",
       "      <td>295.60</td>\n",
       "      <td>True</td>\n",
       "    </tr>\n",
       "    <tr>\n",
       "      <th>90</th>\n",
       "      <td>20240830</td>\n",
       "      <td>24.6</td>\n",
       "      <td>16.0</td>\n",
       "      <td>20.7</td>\n",
       "      <td>23.5</td>\n",
       "      <td>8.6</td>\n",
       "      <td>22.10</td>\n",
       "      <td>295.25</td>\n",
       "      <td>False</td>\n",
       "    </tr>\n",
       "  </tbody>\n",
       "</table>\n",
       "<p>23 rows × 9 columns</p>\n",
       "</div>"
      ],
      "text/plain": [
       "    YEARMODA   MAX   MIN  TEMP1  TEMP2  DIFF   TEMP  TEMP_KELVIN  HOT_TEMP\n",
       "44  20240715  22.3  14.9   19.5   22.0   7.4  20.75       293.90     False\n",
       "45  20240716  24.3  15.4   20.6   24.3   8.9  22.45       295.60     False\n",
       "46  20240717  24.3  17.9   21.6   23.5   6.4  22.55       295.70     False\n",
       "47  20240718  22.5  16.9   19.1   22.5   5.6  20.80       293.95     False\n",
       "..       ...   ...   ...    ...    ...   ...    ...          ...       ...\n",
       "79  20240819  22.3  15.1   18.8   22.3   7.2  20.55       293.70     False\n",
       "81  20240821  22.3  16.0   20.8   20.6   6.3  20.70       293.85     False\n",
       "85  20240825  25.9  14.4   19.0   25.9  11.5  22.45       295.60      True\n",
       "90  20240830  24.6  16.0   20.7   23.5   8.6  22.10       295.25     False\n",
       "\n",
       "[23 rows x 9 columns]"
      ]
     },
     "execution_count": 38,
     "metadata": {},
     "output_type": "execute_result"
    }
   ],
   "source": [
    "cols_to_check = [\"MIN\"]\n",
    "warm_temps_clean = warm_temps.dropna(subset=cols_to_check)\n",
    "warm_temps_clean"
   ]
  },
  {
   "cell_type": "markdown",
   "metadata": {
    "deletable": true,
    "editable": true,
    "slideshow": {
     "slide_type": ""
    },
    "tags": []
   },
   "source": [
    "As you can see by looking at the output above, we now have a `DataFrame` without `NaN` values in the `MIN` column (we have only 23 rows compared to 27 before cleaning). However, you might recall that there may also have been `NaN` values in the `MAX` column. In order to drop all rows containing `NaN` values, we could instead to the following:"
   ]
  },
  {
   "cell_type": "code",
   "execution_count": 39,
   "metadata": {
    "editable": true,
    "slideshow": {
     "slide_type": ""
    },
    "tags": []
   },
   "outputs": [
    {
     "data": {
      "text/html": [
       "<div>\n",
       "<style scoped>\n",
       "    .dataframe tbody tr th:only-of-type {\n",
       "        vertical-align: middle;\n",
       "    }\n",
       "\n",
       "    .dataframe tbody tr th {\n",
       "        vertical-align: top;\n",
       "    }\n",
       "\n",
       "    .dataframe thead th {\n",
       "        text-align: right;\n",
       "    }\n",
       "</style>\n",
       "<table border=\"1\" class=\"dataframe\">\n",
       "  <thead>\n",
       "    <tr style=\"text-align: right;\">\n",
       "      <th></th>\n",
       "      <th>YEARMODA</th>\n",
       "      <th>MAX</th>\n",
       "      <th>MIN</th>\n",
       "      <th>TEMP1</th>\n",
       "      <th>TEMP2</th>\n",
       "      <th>DIFF</th>\n",
       "      <th>TEMP</th>\n",
       "      <th>TEMP_KELVIN</th>\n",
       "      <th>HOT_TEMP</th>\n",
       "    </tr>\n",
       "  </thead>\n",
       "  <tbody>\n",
       "    <tr>\n",
       "      <th>44</th>\n",
       "      <td>20240715</td>\n",
       "      <td>22.3</td>\n",
       "      <td>14.9</td>\n",
       "      <td>19.5</td>\n",
       "      <td>22.0</td>\n",
       "      <td>7.4</td>\n",
       "      <td>20.75</td>\n",
       "      <td>293.90</td>\n",
       "      <td>False</td>\n",
       "    </tr>\n",
       "    <tr>\n",
       "      <th>45</th>\n",
       "      <td>20240716</td>\n",
       "      <td>24.3</td>\n",
       "      <td>15.4</td>\n",
       "      <td>20.6</td>\n",
       "      <td>24.3</td>\n",
       "      <td>8.9</td>\n",
       "      <td>22.45</td>\n",
       "      <td>295.60</td>\n",
       "      <td>False</td>\n",
       "    </tr>\n",
       "    <tr>\n",
       "      <th>46</th>\n",
       "      <td>20240717</td>\n",
       "      <td>24.3</td>\n",
       "      <td>17.9</td>\n",
       "      <td>21.6</td>\n",
       "      <td>23.5</td>\n",
       "      <td>6.4</td>\n",
       "      <td>22.55</td>\n",
       "      <td>295.70</td>\n",
       "      <td>False</td>\n",
       "    </tr>\n",
       "    <tr>\n",
       "      <th>47</th>\n",
       "      <td>20240718</td>\n",
       "      <td>22.5</td>\n",
       "      <td>16.9</td>\n",
       "      <td>19.1</td>\n",
       "      <td>22.5</td>\n",
       "      <td>5.6</td>\n",
       "      <td>20.80</td>\n",
       "      <td>293.95</td>\n",
       "      <td>False</td>\n",
       "    </tr>\n",
       "    <tr>\n",
       "      <th>...</th>\n",
       "      <td>...</td>\n",
       "      <td>...</td>\n",
       "      <td>...</td>\n",
       "      <td>...</td>\n",
       "      <td>...</td>\n",
       "      <td>...</td>\n",
       "      <td>...</td>\n",
       "      <td>...</td>\n",
       "      <td>...</td>\n",
       "    </tr>\n",
       "    <tr>\n",
       "      <th>79</th>\n",
       "      <td>20240819</td>\n",
       "      <td>22.3</td>\n",
       "      <td>15.1</td>\n",
       "      <td>18.8</td>\n",
       "      <td>22.3</td>\n",
       "      <td>7.2</td>\n",
       "      <td>20.55</td>\n",
       "      <td>293.70</td>\n",
       "      <td>False</td>\n",
       "    </tr>\n",
       "    <tr>\n",
       "      <th>81</th>\n",
       "      <td>20240821</td>\n",
       "      <td>22.3</td>\n",
       "      <td>16.0</td>\n",
       "      <td>20.8</td>\n",
       "      <td>20.6</td>\n",
       "      <td>6.3</td>\n",
       "      <td>20.70</td>\n",
       "      <td>293.85</td>\n",
       "      <td>False</td>\n",
       "    </tr>\n",
       "    <tr>\n",
       "      <th>85</th>\n",
       "      <td>20240825</td>\n",
       "      <td>25.9</td>\n",
       "      <td>14.4</td>\n",
       "      <td>19.0</td>\n",
       "      <td>25.9</td>\n",
       "      <td>11.5</td>\n",
       "      <td>22.45</td>\n",
       "      <td>295.60</td>\n",
       "      <td>True</td>\n",
       "    </tr>\n",
       "    <tr>\n",
       "      <th>90</th>\n",
       "      <td>20240830</td>\n",
       "      <td>24.6</td>\n",
       "      <td>16.0</td>\n",
       "      <td>20.7</td>\n",
       "      <td>23.5</td>\n",
       "      <td>8.6</td>\n",
       "      <td>22.10</td>\n",
       "      <td>295.25</td>\n",
       "      <td>False</td>\n",
       "    </tr>\n",
       "  </tbody>\n",
       "</table>\n",
       "<p>21 rows × 9 columns</p>\n",
       "</div>"
      ],
      "text/plain": [
       "    YEARMODA   MAX   MIN  TEMP1  TEMP2  DIFF   TEMP  TEMP_KELVIN  HOT_TEMP\n",
       "44  20240715  22.3  14.9   19.5   22.0   7.4  20.75       293.90     False\n",
       "45  20240716  24.3  15.4   20.6   24.3   8.9  22.45       295.60     False\n",
       "46  20240717  24.3  17.9   21.6   23.5   6.4  22.55       295.70     False\n",
       "47  20240718  22.5  16.9   19.1   22.5   5.6  20.80       293.95     False\n",
       "..       ...   ...   ...    ...    ...   ...    ...          ...       ...\n",
       "79  20240819  22.3  15.1   18.8   22.3   7.2  20.55       293.70     False\n",
       "81  20240821  22.3  16.0   20.8   20.6   6.3  20.70       293.85     False\n",
       "85  20240825  25.9  14.4   19.0   25.9  11.5  22.45       295.60      True\n",
       "90  20240830  24.6  16.0   20.7   23.5   8.6  22.10       295.25     False\n",
       "\n",
       "[21 rows x 9 columns]"
      ]
     },
     "execution_count": 39,
     "metadata": {},
     "output_type": "execute_result"
    }
   ],
   "source": [
    "warm_temps_clean = warm_temps.dropna()\n",
    "warm_temps_clean"
   ]
  },
  {
   "cell_type": "markdown",
   "metadata": {
    "editable": true,
    "slideshow": {
     "slide_type": ""
    },
    "tags": []
   },
   "source": [
    "In this case we can see an additional 2 rows have been dropped due to the `NaN` values that were in the `MAX` column. However, it is using `.dropna()` without the `subset` parameter is not recommended as sometimes it can result in dropping data you may not want to remove. Thus, we generally recommend always using the `subset` parameter with the list of columns from which to remove `NaN` values.\n",
    "\n",
    "Of course, by dropping rows using `.dropna()` you naturally lose data (rows), which might not be an optimal solution for all cases. Because of this, `pandas` also provides an option to fill the `NaN` values with some other value using the `.fillna()` function. Let's instead fill the missing values in our data set the with value `-9999`. Note that we are not giving the `subset` parameter this time."
   ]
  },
  {
   "cell_type": "code",
   "execution_count": 40,
   "metadata": {
    "collapsed": false,
    "deletable": true,
    "editable": true,
    "jupyter": {
     "outputs_hidden": false
    },
    "slideshow": {
     "slide_type": ""
    },
    "tags": []
   },
   "outputs": [
    {
     "data": {
      "text/html": [
       "<div>\n",
       "<style scoped>\n",
       "    .dataframe tbody tr th:only-of-type {\n",
       "        vertical-align: middle;\n",
       "    }\n",
       "\n",
       "    .dataframe tbody tr th {\n",
       "        vertical-align: top;\n",
       "    }\n",
       "\n",
       "    .dataframe thead th {\n",
       "        text-align: right;\n",
       "    }\n",
       "</style>\n",
       "<table border=\"1\" class=\"dataframe\">\n",
       "  <thead>\n",
       "    <tr style=\"text-align: right;\">\n",
       "      <th></th>\n",
       "      <th>YEARMODA</th>\n",
       "      <th>MAX</th>\n",
       "      <th>MIN</th>\n",
       "      <th>TEMP1</th>\n",
       "      <th>TEMP2</th>\n",
       "      <th>DIFF</th>\n",
       "      <th>TEMP</th>\n",
       "      <th>TEMP_KELVIN</th>\n",
       "      <th>HOT_TEMP</th>\n",
       "    </tr>\n",
       "  </thead>\n",
       "  <tbody>\n",
       "    <tr>\n",
       "      <th>44</th>\n",
       "      <td>20240715</td>\n",
       "      <td>22.3</td>\n",
       "      <td>14.9</td>\n",
       "      <td>19.5</td>\n",
       "      <td>22.0</td>\n",
       "      <td>7.4</td>\n",
       "      <td>20.75</td>\n",
       "      <td>293.90</td>\n",
       "      <td>False</td>\n",
       "    </tr>\n",
       "    <tr>\n",
       "      <th>45</th>\n",
       "      <td>20240716</td>\n",
       "      <td>24.3</td>\n",
       "      <td>15.4</td>\n",
       "      <td>20.6</td>\n",
       "      <td>24.3</td>\n",
       "      <td>8.9</td>\n",
       "      <td>22.45</td>\n",
       "      <td>295.60</td>\n",
       "      <td>False</td>\n",
       "    </tr>\n",
       "    <tr>\n",
       "      <th>46</th>\n",
       "      <td>20240717</td>\n",
       "      <td>24.3</td>\n",
       "      <td>17.9</td>\n",
       "      <td>21.6</td>\n",
       "      <td>23.5</td>\n",
       "      <td>6.4</td>\n",
       "      <td>22.55</td>\n",
       "      <td>295.70</td>\n",
       "      <td>False</td>\n",
       "    </tr>\n",
       "    <tr>\n",
       "      <th>47</th>\n",
       "      <td>20240718</td>\n",
       "      <td>22.5</td>\n",
       "      <td>16.9</td>\n",
       "      <td>19.1</td>\n",
       "      <td>22.5</td>\n",
       "      <td>5.6</td>\n",
       "      <td>20.80</td>\n",
       "      <td>293.95</td>\n",
       "      <td>False</td>\n",
       "    </tr>\n",
       "    <tr>\n",
       "      <th>...</th>\n",
       "      <td>...</td>\n",
       "      <td>...</td>\n",
       "      <td>...</td>\n",
       "      <td>...</td>\n",
       "      <td>...</td>\n",
       "      <td>...</td>\n",
       "      <td>...</td>\n",
       "      <td>...</td>\n",
       "      <td>...</td>\n",
       "    </tr>\n",
       "    <tr>\n",
       "      <th>81</th>\n",
       "      <td>20240821</td>\n",
       "      <td>22.3</td>\n",
       "      <td>16.0</td>\n",
       "      <td>20.8</td>\n",
       "      <td>20.6</td>\n",
       "      <td>6.3</td>\n",
       "      <td>20.70</td>\n",
       "      <td>293.85</td>\n",
       "      <td>False</td>\n",
       "    </tr>\n",
       "    <tr>\n",
       "      <th>82</th>\n",
       "      <td>20240822</td>\n",
       "      <td>22.1</td>\n",
       "      <td>-9999.0</td>\n",
       "      <td>19.7</td>\n",
       "      <td>20.8</td>\n",
       "      <td>-9999.0</td>\n",
       "      <td>20.25</td>\n",
       "      <td>293.40</td>\n",
       "      <td>False</td>\n",
       "    </tr>\n",
       "    <tr>\n",
       "      <th>85</th>\n",
       "      <td>20240825</td>\n",
       "      <td>25.9</td>\n",
       "      <td>14.4</td>\n",
       "      <td>19.0</td>\n",
       "      <td>25.9</td>\n",
       "      <td>11.5</td>\n",
       "      <td>22.45</td>\n",
       "      <td>295.60</td>\n",
       "      <td>True</td>\n",
       "    </tr>\n",
       "    <tr>\n",
       "      <th>90</th>\n",
       "      <td>20240830</td>\n",
       "      <td>24.6</td>\n",
       "      <td>16.0</td>\n",
       "      <td>20.7</td>\n",
       "      <td>23.5</td>\n",
       "      <td>8.6</td>\n",
       "      <td>22.10</td>\n",
       "      <td>295.25</td>\n",
       "      <td>False</td>\n",
       "    </tr>\n",
       "  </tbody>\n",
       "</table>\n",
       "<p>27 rows × 9 columns</p>\n",
       "</div>"
      ],
      "text/plain": [
       "    YEARMODA   MAX     MIN  TEMP1  TEMP2    DIFF   TEMP  TEMP_KELVIN  HOT_TEMP\n",
       "44  20240715  22.3    14.9   19.5   22.0     7.4  20.75       293.90     False\n",
       "45  20240716  24.3    15.4   20.6   24.3     8.9  22.45       295.60     False\n",
       "46  20240717  24.3    17.9   21.6   23.5     6.4  22.55       295.70     False\n",
       "47  20240718  22.5    16.9   19.1   22.5     5.6  20.80       293.95     False\n",
       "..       ...   ...     ...    ...    ...     ...    ...          ...       ...\n",
       "81  20240821  22.3    16.0   20.8   20.6     6.3  20.70       293.85     False\n",
       "82  20240822  22.1 -9999.0   19.7   20.8 -9999.0  20.25       293.40     False\n",
       "85  20240825  25.9    14.4   19.0   25.9    11.5  22.45       295.60      True\n",
       "90  20240830  24.6    16.0   20.7   23.5     8.6  22.10       295.25     False\n",
       "\n",
       "[27 rows x 9 columns]"
      ]
     },
     "execution_count": 40,
     "metadata": {},
     "output_type": "execute_result"
    }
   ],
   "source": [
    "warm_temps.fillna(-9999)"
   ]
  },
  {
   "cell_type": "markdown",
   "metadata": {
    "deletable": true,
    "editable": true,
    "slideshow": {
     "slide_type": ""
    },
    "tags": []
   },
   "source": [
    "As a result we now have a `DataFrame` where all `NaN` values in the DataFrame are filled with the value `-9999`. As was the case for the `.dropna()` function, you can fill values in select columns by directing the `.fillna()` function to a specific column (or set of columns)."
   ]
  },
  {
   "cell_type": "code",
   "execution_count": 41,
   "metadata": {
    "editable": true,
    "slideshow": {
     "slide_type": ""
    },
    "tags": []
   },
   "outputs": [
    {
     "data": {
      "text/html": [
       "<div>\n",
       "<style scoped>\n",
       "    .dataframe tbody tr th:only-of-type {\n",
       "        vertical-align: middle;\n",
       "    }\n",
       "\n",
       "    .dataframe tbody tr th {\n",
       "        vertical-align: top;\n",
       "    }\n",
       "\n",
       "    .dataframe thead th {\n",
       "        text-align: right;\n",
       "    }\n",
       "</style>\n",
       "<table border=\"1\" class=\"dataframe\">\n",
       "  <thead>\n",
       "    <tr style=\"text-align: right;\">\n",
       "      <th></th>\n",
       "      <th>YEARMODA</th>\n",
       "      <th>MAX</th>\n",
       "      <th>MIN</th>\n",
       "      <th>TEMP1</th>\n",
       "      <th>TEMP2</th>\n",
       "      <th>DIFF</th>\n",
       "      <th>TEMP</th>\n",
       "      <th>TEMP_KELVIN</th>\n",
       "      <th>HOT_TEMP</th>\n",
       "    </tr>\n",
       "  </thead>\n",
       "  <tbody>\n",
       "    <tr>\n",
       "      <th>44</th>\n",
       "      <td>20240715</td>\n",
       "      <td>22.3</td>\n",
       "      <td>14.9</td>\n",
       "      <td>19.5</td>\n",
       "      <td>22.0</td>\n",
       "      <td>7.4</td>\n",
       "      <td>20.75</td>\n",
       "      <td>293.90</td>\n",
       "      <td>False</td>\n",
       "    </tr>\n",
       "    <tr>\n",
       "      <th>45</th>\n",
       "      <td>20240716</td>\n",
       "      <td>24.3</td>\n",
       "      <td>15.4</td>\n",
       "      <td>20.6</td>\n",
       "      <td>24.3</td>\n",
       "      <td>8.9</td>\n",
       "      <td>22.45</td>\n",
       "      <td>295.60</td>\n",
       "      <td>False</td>\n",
       "    </tr>\n",
       "    <tr>\n",
       "      <th>46</th>\n",
       "      <td>20240717</td>\n",
       "      <td>24.3</td>\n",
       "      <td>17.9</td>\n",
       "      <td>21.6</td>\n",
       "      <td>23.5</td>\n",
       "      <td>6.4</td>\n",
       "      <td>22.55</td>\n",
       "      <td>295.70</td>\n",
       "      <td>False</td>\n",
       "    </tr>\n",
       "    <tr>\n",
       "      <th>47</th>\n",
       "      <td>20240718</td>\n",
       "      <td>22.5</td>\n",
       "      <td>16.9</td>\n",
       "      <td>19.1</td>\n",
       "      <td>22.5</td>\n",
       "      <td>5.6</td>\n",
       "      <td>20.80</td>\n",
       "      <td>293.95</td>\n",
       "      <td>False</td>\n",
       "    </tr>\n",
       "    <tr>\n",
       "      <th>...</th>\n",
       "      <td>...</td>\n",
       "      <td>...</td>\n",
       "      <td>...</td>\n",
       "      <td>...</td>\n",
       "      <td>...</td>\n",
       "      <td>...</td>\n",
       "      <td>...</td>\n",
       "      <td>...</td>\n",
       "      <td>...</td>\n",
       "    </tr>\n",
       "    <tr>\n",
       "      <th>81</th>\n",
       "      <td>20240821</td>\n",
       "      <td>22.3</td>\n",
       "      <td>16.0</td>\n",
       "      <td>20.8</td>\n",
       "      <td>20.6</td>\n",
       "      <td>6.3</td>\n",
       "      <td>20.70</td>\n",
       "      <td>293.85</td>\n",
       "      <td>False</td>\n",
       "    </tr>\n",
       "    <tr>\n",
       "      <th>82</th>\n",
       "      <td>20240822</td>\n",
       "      <td>22.1</td>\n",
       "      <td>-9999.0</td>\n",
       "      <td>19.7</td>\n",
       "      <td>20.8</td>\n",
       "      <td>NaN</td>\n",
       "      <td>20.25</td>\n",
       "      <td>293.40</td>\n",
       "      <td>False</td>\n",
       "    </tr>\n",
       "    <tr>\n",
       "      <th>85</th>\n",
       "      <td>20240825</td>\n",
       "      <td>25.9</td>\n",
       "      <td>14.4</td>\n",
       "      <td>19.0</td>\n",
       "      <td>25.9</td>\n",
       "      <td>11.5</td>\n",
       "      <td>22.45</td>\n",
       "      <td>295.60</td>\n",
       "      <td>True</td>\n",
       "    </tr>\n",
       "    <tr>\n",
       "      <th>90</th>\n",
       "      <td>20240830</td>\n",
       "      <td>24.6</td>\n",
       "      <td>16.0</td>\n",
       "      <td>20.7</td>\n",
       "      <td>23.5</td>\n",
       "      <td>8.6</td>\n",
       "      <td>22.10</td>\n",
       "      <td>295.25</td>\n",
       "      <td>False</td>\n",
       "    </tr>\n",
       "  </tbody>\n",
       "</table>\n",
       "<p>27 rows × 9 columns</p>\n",
       "</div>"
      ],
      "text/plain": [
       "    YEARMODA   MAX     MIN  TEMP1  TEMP2  DIFF   TEMP  TEMP_KELVIN  HOT_TEMP\n",
       "44  20240715  22.3    14.9   19.5   22.0   7.4  20.75       293.90     False\n",
       "45  20240716  24.3    15.4   20.6   24.3   8.9  22.45       295.60     False\n",
       "46  20240717  24.3    17.9   21.6   23.5   6.4  22.55       295.70     False\n",
       "47  20240718  22.5    16.9   19.1   22.5   5.6  20.80       293.95     False\n",
       "..       ...   ...     ...    ...    ...   ...    ...          ...       ...\n",
       "81  20240821  22.3    16.0   20.8   20.6   6.3  20.70       293.85     False\n",
       "82  20240822  22.1 -9999.0   19.7   20.8   NaN  20.25       293.40     False\n",
       "85  20240825  25.9    14.4   19.0   25.9  11.5  22.45       295.60      True\n",
       "90  20240830  24.6    16.0   20.7   23.5   8.6  22.10       295.25     False\n",
       "\n",
       "[27 rows x 9 columns]"
      ]
     },
     "execution_count": 41,
     "metadata": {},
     "output_type": "execute_result"
    }
   ],
   "source": [
    "warm_temps[\"MIN\"] = warm_temps[\"MIN\"].fillna(-9999)\n",
    "warm_temps"
   ]
  },
  {
   "cell_type": "markdown",
   "metadata": {
    "editable": true,
    "slideshow": {
     "slide_type": ""
    },
    "tags": []
   },
   "source": [
    "Notice that now the `NaN` value at index `82` of the `MIN` has been replaced, while the `NaN` value in the `DIFF` column remains.  \n",
    "\n",
    "It is important to be aware, that in many cases filling the data with a specific value is dangerous because you end up modifying the actual data, which might affect the results of your analysis. For example, in the case above we would have dramatically changed the temperature difference columns because the `-9999` values not an actual temperature! Hence, use caution when filling missing values. In some cases, you might have to fill in missing data values for the purpose of saving the data file in a specific format. For example, some GIS software cannot handle missing values. Always pay attention to potential missing data values when reading in data files and performing your data analysis."
   ]
  },
  {
   "cell_type": "markdown",
   "metadata": {
    "editable": true,
    "slideshow": {
     "slide_type": ""
    },
    "tags": []
   },
   "source": [
    "## Data type conversions"
   ]
  },
  {
   "cell_type": "markdown",
   "metadata": {
    "editable": true,
    "slideshow": {
     "slide_type": ""
    },
    "tags": []
   },
   "source": [
    "When doing data analysis, another quite typical operation that needs to be done is to convert values in a column from one data type to another, such as from floating point values to integers. Remember, that we have already performed data type conversions in Chapter 2 using built-in Python functions such as `int()` or `str()`. For values stored in a `pandas` `Series`, we can use the `.astype()` method for converting data types. Let's explore this by converting the temperature values (type `float64`) in the column `TEMP` to be integers (type `int64`). Let's first have a look at the existing data."
   ]
  },
  {
   "cell_type": "code",
   "execution_count": 42,
   "metadata": {
    "editable": true,
    "slideshow": {
     "slide_type": ""
    },
    "tags": []
   },
   "outputs": [
    {
     "data": {
      "text/plain": [
       "0    23.70\n",
       "1    22.45\n",
       "2    22.80\n",
       "3    21.95\n",
       "4    21.75\n",
       "Name: TEMP, dtype: float64"
      ]
     },
     "execution_count": 42,
     "metadata": {},
     "output_type": "execute_result"
    }
   ],
   "source": [
    "data[\"TEMP\"].head()"
   ]
  },
  {
   "cell_type": "markdown",
   "metadata": {
    "editable": true,
    "slideshow": {
     "slide_type": ""
    },
    "tags": []
   },
   "source": [
    "Now we can easily convert those decimal values to integers using `.astype(int)`."
   ]
  },
  {
   "cell_type": "code",
   "execution_count": 43,
   "metadata": {
    "editable": true,
    "slideshow": {
     "slide_type": ""
    },
    "tags": []
   },
   "outputs": [
    {
     "data": {
      "text/plain": [
       "0    23\n",
       "1    22\n",
       "2    22\n",
       "3    21\n",
       "4    21\n",
       "Name: TEMP, dtype: int64"
      ]
     },
     "execution_count": 43,
     "metadata": {},
     "output_type": "execute_result"
    }
   ],
   "source": [
    "data[\"TEMP\"].astype(int).head()"
   ]
  },
  {
   "cell_type": "markdown",
   "metadata": {
    "editable": true,
    "slideshow": {
     "slide_type": ""
    },
    "tags": []
   },
   "source": [
    "Great! As we can see the values were converted to integers. However, this example demonstrates the importance of being careful with type conversions from floating point values to integers. This type conversion simply drops the stuff to the right of the decimal point, so all values are effectively rounded down to the nearest whole number. For example, the first value in our `Series` (`23.7`) was truncated to `23` as an integer when it clearly should be rounded up to `24`. This issue can be resolved by chaining together the `.round()` function with the `.astype()` function. For example, `.round(0).astype(int)` will first round the values to have zero decimal places and then converts those values into integers."
   ]
  },
  {
   "cell_type": "code",
   "execution_count": 44,
   "metadata": {
    "collapsed": false,
    "editable": true,
    "jupyter": {
     "outputs_hidden": false
    },
    "slideshow": {
     "slide_type": ""
    },
    "tags": []
   },
   "outputs": [
    {
     "data": {
      "text/plain": [
       "0    24\n",
       "1    22\n",
       "2    23\n",
       "3    22\n",
       "4    22\n",
       "Name: TEMP, dtype: int64"
      ]
     },
     "execution_count": 44,
     "metadata": {},
     "output_type": "execute_result"
    }
   ],
   "source": [
    "data[\"TEMP\"].round(0).astype(int).head()"
   ]
  },
  {
   "cell_type": "markdown",
   "metadata": {
    "editable": true,
    "slideshow": {
     "slide_type": ""
    },
    "tags": []
   },
   "source": [
    "As we can see, now the integer values are correctly rounded. \n",
    "\n",
    "The `.astype()` method supports converting between all basic Python data types (`int`, `float`, `str`), but it also knows how to convert between more specific `numpy` data types such as `int64`, `int32`, `float64`, `float32` (a full list can be found in the [NumPy documentation](https://numpy.org/doc/stable/user/basics.types.html) [^numpydtypes]). Using the `numpy` data type can useful if you need to be more specific about how many bits should be reserved for storing the values, for example. For instance, `int64` (i.e., a 64-bit integer) can store integer values ranging between -9223372036854775808 and 9223372036854775807, whereas `int16` can only store values from -32768 to 32767. If passing the \"normal\" `int` or `float` to the `astype()` function, `pandas` will automatically store 64-bit numeric values. However, higher the number precision (i.e., the larger number of bits you use), the more physical memory is required to store the data. Hence, in some specific cases dealing with extremely large datasets, it may be useful to be able to specify that the values in specific columns should be stored with lower precision to save memory."
   ]
  },
  {
   "cell_type": "markdown",
   "metadata": {
    "editable": true,
    "slideshow": {
     "slide_type": ""
    },
    "tags": []
   },
   "source": [
    "## Sorting data\n",
    "\n",
    "Quite often it is useful to be able to sort your data (descending/ascending) based on values in some column. This can be done easily with `pandas` using the `.sort_values(by='YourColumnName')` function. Let's first sort the values in ascending order using the `TEMP` column."
   ]
  },
  {
   "cell_type": "code",
   "execution_count": 45,
   "metadata": {
    "collapsed": false,
    "deletable": true,
    "editable": true,
    "jupyter": {
     "outputs_hidden": false
    },
    "slideshow": {
     "slide_type": ""
    },
    "tags": []
   },
   "outputs": [
    {
     "data": {
      "text/html": [
       "<div>\n",
       "<style scoped>\n",
       "    .dataframe tbody tr th:only-of-type {\n",
       "        vertical-align: middle;\n",
       "    }\n",
       "\n",
       "    .dataframe tbody tr th {\n",
       "        vertical-align: top;\n",
       "    }\n",
       "\n",
       "    .dataframe thead th {\n",
       "        text-align: right;\n",
       "    }\n",
       "</style>\n",
       "<table border=\"1\" class=\"dataframe\">\n",
       "  <thead>\n",
       "    <tr style=\"text-align: right;\">\n",
       "      <th></th>\n",
       "      <th>YEARMODA</th>\n",
       "      <th>MAX</th>\n",
       "      <th>MIN</th>\n",
       "      <th>TEMP1</th>\n",
       "      <th>TEMP2</th>\n",
       "      <th>DIFF</th>\n",
       "      <th>TEMP</th>\n",
       "      <th>TEMP_KELVIN</th>\n",
       "    </tr>\n",
       "  </thead>\n",
       "  <tbody>\n",
       "    <tr>\n",
       "      <th>8</th>\n",
       "      <td>20240609</td>\n",
       "      <td>15.5</td>\n",
       "      <td>11.3</td>\n",
       "      <td>12.8</td>\n",
       "      <td>15.4</td>\n",
       "      <td>4.2</td>\n",
       "      <td>14.10</td>\n",
       "      <td>287.25</td>\n",
       "    </tr>\n",
       "    <tr>\n",
       "      <th>35</th>\n",
       "      <td>20240706</td>\n",
       "      <td>19.0</td>\n",
       "      <td>11.3</td>\n",
       "      <td>11.4</td>\n",
       "      <td>18.7</td>\n",
       "      <td>7.7</td>\n",
       "      <td>15.05</td>\n",
       "      <td>288.20</td>\n",
       "    </tr>\n",
       "    <tr>\n",
       "      <th>72</th>\n",
       "      <td>20240812</td>\n",
       "      <td>17.4</td>\n",
       "      <td>12.7</td>\n",
       "      <td>14.7</td>\n",
       "      <td>16.0</td>\n",
       "      <td>4.7</td>\n",
       "      <td>15.35</td>\n",
       "      <td>288.50</td>\n",
       "    </tr>\n",
       "    <tr>\n",
       "      <th>32</th>\n",
       "      <td>20240703</td>\n",
       "      <td>17.4</td>\n",
       "      <td>13.1</td>\n",
       "      <td>14.2</td>\n",
       "      <td>16.6</td>\n",
       "      <td>4.3</td>\n",
       "      <td>15.40</td>\n",
       "      <td>288.55</td>\n",
       "    </tr>\n",
       "    <tr>\n",
       "      <th>...</th>\n",
       "      <td>...</td>\n",
       "      <td>...</td>\n",
       "      <td>...</td>\n",
       "      <td>...</td>\n",
       "      <td>...</td>\n",
       "      <td>...</td>\n",
       "      <td>...</td>\n",
       "      <td>...</td>\n",
       "    </tr>\n",
       "    <tr>\n",
       "      <th>54</th>\n",
       "      <td>20240725</td>\n",
       "      <td>26.1</td>\n",
       "      <td>18.5</td>\n",
       "      <td>22.3</td>\n",
       "      <td>26.1</td>\n",
       "      <td>7.6</td>\n",
       "      <td>24.20</td>\n",
       "      <td>297.35</td>\n",
       "    </tr>\n",
       "    <tr>\n",
       "      <th>26</th>\n",
       "      <td>20240627</td>\n",
       "      <td>NaN</td>\n",
       "      <td>15.3</td>\n",
       "      <td>22.9</td>\n",
       "      <td>26.9</td>\n",
       "      <td>NaN</td>\n",
       "      <td>24.90</td>\n",
       "      <td>298.05</td>\n",
       "    </tr>\n",
       "    <tr>\n",
       "      <th>55</th>\n",
       "      <td>20240726</td>\n",
       "      <td>26.7</td>\n",
       "      <td>17.9</td>\n",
       "      <td>24.3</td>\n",
       "      <td>26.4</td>\n",
       "      <td>8.8</td>\n",
       "      <td>25.35</td>\n",
       "      <td>298.50</td>\n",
       "    </tr>\n",
       "    <tr>\n",
       "      <th>27</th>\n",
       "      <td>20240628</td>\n",
       "      <td>27.2</td>\n",
       "      <td>17.0</td>\n",
       "      <td>25.4</td>\n",
       "      <td>27.2</td>\n",
       "      <td>10.2</td>\n",
       "      <td>26.30</td>\n",
       "      <td>299.45</td>\n",
       "    </tr>\n",
       "  </tbody>\n",
       "</table>\n",
       "<p>92 rows × 8 columns</p>\n",
       "</div>"
      ],
      "text/plain": [
       "    YEARMODA   MAX   MIN  TEMP1  TEMP2  DIFF   TEMP  TEMP_KELVIN\n",
       "8   20240609  15.5  11.3   12.8   15.4   4.2  14.10       287.25\n",
       "35  20240706  19.0  11.3   11.4   18.7   7.7  15.05       288.20\n",
       "72  20240812  17.4  12.7   14.7   16.0   4.7  15.35       288.50\n",
       "32  20240703  17.4  13.1   14.2   16.6   4.3  15.40       288.55\n",
       "..       ...   ...   ...    ...    ...   ...    ...          ...\n",
       "54  20240725  26.1  18.5   22.3   26.1   7.6  24.20       297.35\n",
       "26  20240627   NaN  15.3   22.9   26.9   NaN  24.90       298.05\n",
       "55  20240726  26.7  17.9   24.3   26.4   8.8  25.35       298.50\n",
       "27  20240628  27.2  17.0   25.4   27.2  10.2  26.30       299.45\n",
       "\n",
       "[92 rows x 8 columns]"
      ]
     },
     "execution_count": 45,
     "metadata": {},
     "output_type": "execute_result"
    }
   ],
   "source": [
    "# Sort DataFrame, ascending\n",
    "data.sort_values(by=\"TEMP\")"
   ]
  },
  {
   "cell_type": "markdown",
   "metadata": {
    "deletable": true,
    "editable": true,
    "slideshow": {
     "slide_type": ""
    },
    "tags": []
   },
   "source": [
    "Of course, it is also possible to sort them in descending order by including the `ascending=False` parameter."
   ]
  },
  {
   "cell_type": "code",
   "execution_count": 46,
   "metadata": {
    "collapsed": false,
    "deletable": true,
    "editable": true,
    "jupyter": {
     "outputs_hidden": false
    },
    "slideshow": {
     "slide_type": ""
    },
    "tags": []
   },
   "outputs": [
    {
     "data": {
      "text/html": [
       "<div>\n",
       "<style scoped>\n",
       "    .dataframe tbody tr th:only-of-type {\n",
       "        vertical-align: middle;\n",
       "    }\n",
       "\n",
       "    .dataframe tbody tr th {\n",
       "        vertical-align: top;\n",
       "    }\n",
       "\n",
       "    .dataframe thead th {\n",
       "        text-align: right;\n",
       "    }\n",
       "</style>\n",
       "<table border=\"1\" class=\"dataframe\">\n",
       "  <thead>\n",
       "    <tr style=\"text-align: right;\">\n",
       "      <th></th>\n",
       "      <th>YEARMODA</th>\n",
       "      <th>MAX</th>\n",
       "      <th>MIN</th>\n",
       "      <th>TEMP1</th>\n",
       "      <th>TEMP2</th>\n",
       "      <th>DIFF</th>\n",
       "      <th>TEMP</th>\n",
       "      <th>TEMP_KELVIN</th>\n",
       "    </tr>\n",
       "  </thead>\n",
       "  <tbody>\n",
       "    <tr>\n",
       "      <th>27</th>\n",
       "      <td>20240628</td>\n",
       "      <td>27.2</td>\n",
       "      <td>17.0</td>\n",
       "      <td>25.4</td>\n",
       "      <td>27.2</td>\n",
       "      <td>10.2</td>\n",
       "      <td>26.30</td>\n",
       "      <td>299.45</td>\n",
       "    </tr>\n",
       "    <tr>\n",
       "      <th>55</th>\n",
       "      <td>20240726</td>\n",
       "      <td>26.7</td>\n",
       "      <td>17.9</td>\n",
       "      <td>24.3</td>\n",
       "      <td>26.4</td>\n",
       "      <td>8.8</td>\n",
       "      <td>25.35</td>\n",
       "      <td>298.50</td>\n",
       "    </tr>\n",
       "    <tr>\n",
       "      <th>26</th>\n",
       "      <td>20240627</td>\n",
       "      <td>NaN</td>\n",
       "      <td>15.3</td>\n",
       "      <td>22.9</td>\n",
       "      <td>26.9</td>\n",
       "      <td>NaN</td>\n",
       "      <td>24.90</td>\n",
       "      <td>298.05</td>\n",
       "    </tr>\n",
       "    <tr>\n",
       "      <th>54</th>\n",
       "      <td>20240725</td>\n",
       "      <td>26.1</td>\n",
       "      <td>18.5</td>\n",
       "      <td>22.3</td>\n",
       "      <td>26.1</td>\n",
       "      <td>7.6</td>\n",
       "      <td>24.20</td>\n",
       "      <td>297.35</td>\n",
       "    </tr>\n",
       "    <tr>\n",
       "      <th>...</th>\n",
       "      <td>...</td>\n",
       "      <td>...</td>\n",
       "      <td>...</td>\n",
       "      <td>...</td>\n",
       "      <td>...</td>\n",
       "      <td>...</td>\n",
       "      <td>...</td>\n",
       "      <td>...</td>\n",
       "    </tr>\n",
       "    <tr>\n",
       "      <th>32</th>\n",
       "      <td>20240703</td>\n",
       "      <td>17.4</td>\n",
       "      <td>13.1</td>\n",
       "      <td>14.2</td>\n",
       "      <td>16.6</td>\n",
       "      <td>4.3</td>\n",
       "      <td>15.40</td>\n",
       "      <td>288.55</td>\n",
       "    </tr>\n",
       "    <tr>\n",
       "      <th>72</th>\n",
       "      <td>20240812</td>\n",
       "      <td>17.4</td>\n",
       "      <td>12.7</td>\n",
       "      <td>14.7</td>\n",
       "      <td>16.0</td>\n",
       "      <td>4.7</td>\n",
       "      <td>15.35</td>\n",
       "      <td>288.50</td>\n",
       "    </tr>\n",
       "    <tr>\n",
       "      <th>35</th>\n",
       "      <td>20240706</td>\n",
       "      <td>19.0</td>\n",
       "      <td>11.3</td>\n",
       "      <td>11.4</td>\n",
       "      <td>18.7</td>\n",
       "      <td>7.7</td>\n",
       "      <td>15.05</td>\n",
       "      <td>288.20</td>\n",
       "    </tr>\n",
       "    <tr>\n",
       "      <th>8</th>\n",
       "      <td>20240609</td>\n",
       "      <td>15.5</td>\n",
       "      <td>11.3</td>\n",
       "      <td>12.8</td>\n",
       "      <td>15.4</td>\n",
       "      <td>4.2</td>\n",
       "      <td>14.10</td>\n",
       "      <td>287.25</td>\n",
       "    </tr>\n",
       "  </tbody>\n",
       "</table>\n",
       "<p>92 rows × 8 columns</p>\n",
       "</div>"
      ],
      "text/plain": [
       "    YEARMODA   MAX   MIN  TEMP1  TEMP2  DIFF   TEMP  TEMP_KELVIN\n",
       "27  20240628  27.2  17.0   25.4   27.2  10.2  26.30       299.45\n",
       "55  20240726  26.7  17.9   24.3   26.4   8.8  25.35       298.50\n",
       "26  20240627   NaN  15.3   22.9   26.9   NaN  24.90       298.05\n",
       "54  20240725  26.1  18.5   22.3   26.1   7.6  24.20       297.35\n",
       "..       ...   ...   ...    ...    ...   ...    ...          ...\n",
       "32  20240703  17.4  13.1   14.2   16.6   4.3  15.40       288.55\n",
       "72  20240812  17.4  12.7   14.7   16.0   4.7  15.35       288.50\n",
       "35  20240706  19.0  11.3   11.4   18.7   7.7  15.05       288.20\n",
       "8   20240609  15.5  11.3   12.8   15.4   4.2  14.10       287.25\n",
       "\n",
       "[92 rows x 8 columns]"
      ]
     },
     "execution_count": 46,
     "metadata": {},
     "output_type": "execute_result"
    }
   ],
   "source": [
    "# Sort DataFrame, descending\n",
    "data.sort_values(by=\"TEMP\", ascending=False)"
   ]
  },
  {
   "cell_type": "markdown",
   "metadata": {
    "editable": true,
    "slideshow": {
     "slide_type": ""
    },
    "tags": []
   },
   "source": [
    "In some situations, you might need to sort values based on multiple columns simultaneously, which is sometimes referred to as multi-level sorting. This can be done by passing a list of column names to the `by` parameter. When you sort the data based on multiple columns, sometimes you also might want to sort your data in a way that the first-level sorting happens in ascending order and the second-level sorting happens in descending order. An example situation for this kind of sorting could be when sorting the temperatures first by weekday (Monday, Tuesday, etc.) and then ordering the values for each weekday in descending order. This would always show the warmest temperature for a given day of the week first. Let's modify our data a bit to demonstrate this. We will add a new column that has information about the weekday. The 1st of June, 2024 was a Saturday, so we start from that."
   ]
  },
  {
   "cell_type": "code",
   "execution_count": 47,
   "metadata": {
    "editable": true,
    "slideshow": {
     "slide_type": ""
    },
    "tags": []
   },
   "outputs": [
    {
     "data": {
      "text/html": [
       "<div>\n",
       "<style scoped>\n",
       "    .dataframe tbody tr th:only-of-type {\n",
       "        vertical-align: middle;\n",
       "    }\n",
       "\n",
       "    .dataframe tbody tr th {\n",
       "        vertical-align: top;\n",
       "    }\n",
       "\n",
       "    .dataframe thead th {\n",
       "        text-align: right;\n",
       "    }\n",
       "</style>\n",
       "<table border=\"1\" class=\"dataframe\">\n",
       "  <thead>\n",
       "    <tr style=\"text-align: right;\">\n",
       "      <th></th>\n",
       "      <th>YEARMODA</th>\n",
       "      <th>MAX</th>\n",
       "      <th>MIN</th>\n",
       "      <th>TEMP1</th>\n",
       "      <th>TEMP2</th>\n",
       "      <th>DIFF</th>\n",
       "      <th>TEMP</th>\n",
       "      <th>TEMP_KELVIN</th>\n",
       "      <th>WEEKDAY</th>\n",
       "    </tr>\n",
       "  </thead>\n",
       "  <tbody>\n",
       "    <tr>\n",
       "      <th>0</th>\n",
       "      <td>20240601</td>\n",
       "      <td>26.2</td>\n",
       "      <td>18.4</td>\n",
       "      <td>24.2</td>\n",
       "      <td>23.2</td>\n",
       "      <td>7.8</td>\n",
       "      <td>23.70</td>\n",
       "      <td>296.85</td>\n",
       "      <td>Sat</td>\n",
       "    </tr>\n",
       "    <tr>\n",
       "      <th>1</th>\n",
       "      <td>20240602</td>\n",
       "      <td>24.4</td>\n",
       "      <td>17.1</td>\n",
       "      <td>20.7</td>\n",
       "      <td>24.2</td>\n",
       "      <td>7.3</td>\n",
       "      <td>22.45</td>\n",
       "      <td>295.60</td>\n",
       "      <td>Sun</td>\n",
       "    </tr>\n",
       "    <tr>\n",
       "      <th>2</th>\n",
       "      <td>20240603</td>\n",
       "      <td>25.7</td>\n",
       "      <td>15.2</td>\n",
       "      <td>22.5</td>\n",
       "      <td>23.1</td>\n",
       "      <td>10.5</td>\n",
       "      <td>22.80</td>\n",
       "      <td>295.95</td>\n",
       "      <td>Mon</td>\n",
       "    </tr>\n",
       "    <tr>\n",
       "      <th>3</th>\n",
       "      <td>20240604</td>\n",
       "      <td>24.6</td>\n",
       "      <td>15.7</td>\n",
       "      <td>19.3</td>\n",
       "      <td>24.6</td>\n",
       "      <td>8.9</td>\n",
       "      <td>21.95</td>\n",
       "      <td>295.10</td>\n",
       "      <td>Tue</td>\n",
       "    </tr>\n",
       "    <tr>\n",
       "      <th>...</th>\n",
       "      <td>...</td>\n",
       "      <td>...</td>\n",
       "      <td>...</td>\n",
       "      <td>...</td>\n",
       "      <td>...</td>\n",
       "      <td>...</td>\n",
       "      <td>...</td>\n",
       "      <td>...</td>\n",
       "      <td>...</td>\n",
       "    </tr>\n",
       "    <tr>\n",
       "      <th>88</th>\n",
       "      <td>20240828</td>\n",
       "      <td>21.6</td>\n",
       "      <td>14.2</td>\n",
       "      <td>18.7</td>\n",
       "      <td>21.3</td>\n",
       "      <td>7.4</td>\n",
       "      <td>20.00</td>\n",
       "      <td>293.15</td>\n",
       "      <td>Wed</td>\n",
       "    </tr>\n",
       "    <tr>\n",
       "      <th>89</th>\n",
       "      <td>20240829</td>\n",
       "      <td>21.9</td>\n",
       "      <td>NaN</td>\n",
       "      <td>16.6</td>\n",
       "      <td>21.8</td>\n",
       "      <td>NaN</td>\n",
       "      <td>19.20</td>\n",
       "      <td>292.35</td>\n",
       "      <td>Thu</td>\n",
       "    </tr>\n",
       "    <tr>\n",
       "      <th>90</th>\n",
       "      <td>20240830</td>\n",
       "      <td>24.6</td>\n",
       "      <td>16.0</td>\n",
       "      <td>20.7</td>\n",
       "      <td>23.5</td>\n",
       "      <td>8.6</td>\n",
       "      <td>22.10</td>\n",
       "      <td>295.25</td>\n",
       "      <td>Fri</td>\n",
       "    </tr>\n",
       "    <tr>\n",
       "      <th>91</th>\n",
       "      <td>20240831</td>\n",
       "      <td>NaN</td>\n",
       "      <td>13.7</td>\n",
       "      <td>13.9</td>\n",
       "      <td>18.7</td>\n",
       "      <td>NaN</td>\n",
       "      <td>16.30</td>\n",
       "      <td>289.45</td>\n",
       "      <td>Sat</td>\n",
       "    </tr>\n",
       "  </tbody>\n",
       "</table>\n",
       "<p>92 rows × 9 columns</p>\n",
       "</div>"
      ],
      "text/plain": [
       "    YEARMODA   MAX   MIN  TEMP1  TEMP2  DIFF   TEMP  TEMP_KELVIN WEEKDAY\n",
       "0   20240601  26.2  18.4   24.2   23.2   7.8  23.70       296.85     Sat\n",
       "1   20240602  24.4  17.1   20.7   24.2   7.3  22.45       295.60     Sun\n",
       "2   20240603  25.7  15.2   22.5   23.1  10.5  22.80       295.95     Mon\n",
       "3   20240604  24.6  15.7   19.3   24.6   8.9  21.95       295.10     Tue\n",
       "..       ...   ...   ...    ...    ...   ...    ...          ...     ...\n",
       "88  20240828  21.6  14.2   18.7   21.3   7.4  20.00       293.15     Wed\n",
       "89  20240829  21.9   NaN   16.6   21.8   NaN  19.20       292.35     Thu\n",
       "90  20240830  24.6  16.0   20.7   23.5   8.6  22.10       295.25     Fri\n",
       "91  20240831   NaN  13.7   13.9   18.7   NaN  16.30       289.45     Sat\n",
       "\n",
       "[92 rows x 9 columns]"
      ]
     },
     "execution_count": 47,
     "metadata": {},
     "output_type": "execute_result"
    }
   ],
   "source": [
    "# Create a list of weekdays that matches with our data\n",
    "# The data covers 13 weeks + 1 day (altogether 92 days)\n",
    "week_days = [\"Sat\", \"Sun\", \"Mon\", \"Tue\", \"Wed\", \"Thu\", \"Fri\"]\n",
    "day_list = 13 * week_days + week_days[:1]\n",
    "\n",
    "# Add the weekdays to our DataFrame\n",
    "data[\"WEEKDAY\"] = day_list\n",
    "data"
   ]
  },
  {
   "cell_type": "markdown",
   "metadata": {
    "editable": true,
    "slideshow": {
     "slide_type": ""
    },
    "tags": []
   },
   "source": [
    "Now we have a new column with information about the weekday of each row. Next, we can test how to sort the values, so that we order the data by weekday and within each weekday the temperatures are in descending order. You can adjust how the ordering works by passing a list of Boolean values to the `ascending` parameter."
   ]
  },
  {
   "cell_type": "code",
   "execution_count": 48,
   "metadata": {
    "editable": true,
    "slideshow": {
     "slide_type": ""
    },
    "tags": []
   },
   "outputs": [
    {
     "data": {
      "text/html": [
       "<div>\n",
       "<style scoped>\n",
       "    .dataframe tbody tr th:only-of-type {\n",
       "        vertical-align: middle;\n",
       "    }\n",
       "\n",
       "    .dataframe tbody tr th {\n",
       "        vertical-align: top;\n",
       "    }\n",
       "\n",
       "    .dataframe thead th {\n",
       "        text-align: right;\n",
       "    }\n",
       "</style>\n",
       "<table border=\"1\" class=\"dataframe\">\n",
       "  <thead>\n",
       "    <tr style=\"text-align: right;\">\n",
       "      <th></th>\n",
       "      <th>YEARMODA</th>\n",
       "      <th>MAX</th>\n",
       "      <th>MIN</th>\n",
       "      <th>TEMP1</th>\n",
       "      <th>TEMP2</th>\n",
       "      <th>DIFF</th>\n",
       "      <th>TEMP</th>\n",
       "      <th>TEMP_KELVIN</th>\n",
       "      <th>WEEKDAY</th>\n",
       "    </tr>\n",
       "  </thead>\n",
       "  <tbody>\n",
       "    <tr>\n",
       "      <th>27</th>\n",
       "      <td>20240628</td>\n",
       "      <td>27.2</td>\n",
       "      <td>17.0</td>\n",
       "      <td>25.4</td>\n",
       "      <td>27.2</td>\n",
       "      <td>10.2</td>\n",
       "      <td>26.30</td>\n",
       "      <td>299.45</td>\n",
       "      <td>Fri</td>\n",
       "    </tr>\n",
       "    <tr>\n",
       "      <th>55</th>\n",
       "      <td>20240726</td>\n",
       "      <td>26.7</td>\n",
       "      <td>17.9</td>\n",
       "      <td>24.3</td>\n",
       "      <td>26.4</td>\n",
       "      <td>8.8</td>\n",
       "      <td>25.35</td>\n",
       "      <td>298.50</td>\n",
       "      <td>Fri</td>\n",
       "    </tr>\n",
       "    <tr>\n",
       "      <th>69</th>\n",
       "      <td>20240809</td>\n",
       "      <td>24.1</td>\n",
       "      <td>17.1</td>\n",
       "      <td>22.2</td>\n",
       "      <td>24.1</td>\n",
       "      <td>7.0</td>\n",
       "      <td>23.15</td>\n",
       "      <td>296.30</td>\n",
       "      <td>Fri</td>\n",
       "    </tr>\n",
       "    <tr>\n",
       "      <th>90</th>\n",
       "      <td>20240830</td>\n",
       "      <td>24.6</td>\n",
       "      <td>16.0</td>\n",
       "      <td>20.7</td>\n",
       "      <td>23.5</td>\n",
       "      <td>8.6</td>\n",
       "      <td>22.10</td>\n",
       "      <td>295.25</td>\n",
       "      <td>Fri</td>\n",
       "    </tr>\n",
       "    <tr>\n",
       "      <th>...</th>\n",
       "      <td>...</td>\n",
       "      <td>...</td>\n",
       "      <td>...</td>\n",
       "      <td>...</td>\n",
       "      <td>...</td>\n",
       "      <td>...</td>\n",
       "      <td>...</td>\n",
       "      <td>...</td>\n",
       "      <td>...</td>\n",
       "    </tr>\n",
       "    <tr>\n",
       "      <th>88</th>\n",
       "      <td>20240828</td>\n",
       "      <td>21.6</td>\n",
       "      <td>14.2</td>\n",
       "      <td>18.7</td>\n",
       "      <td>21.3</td>\n",
       "      <td>7.4</td>\n",
       "      <td>20.00</td>\n",
       "      <td>293.15</td>\n",
       "      <td>Wed</td>\n",
       "    </tr>\n",
       "    <tr>\n",
       "      <th>18</th>\n",
       "      <td>20240619</td>\n",
       "      <td>17.8</td>\n",
       "      <td>12.8</td>\n",
       "      <td>16.1</td>\n",
       "      <td>16.8</td>\n",
       "      <td>5.0</td>\n",
       "      <td>16.45</td>\n",
       "      <td>289.60</td>\n",
       "      <td>Wed</td>\n",
       "    </tr>\n",
       "    <tr>\n",
       "      <th>11</th>\n",
       "      <td>20240612</td>\n",
       "      <td>17.9</td>\n",
       "      <td>11.1</td>\n",
       "      <td>14.9</td>\n",
       "      <td>17.5</td>\n",
       "      <td>6.8</td>\n",
       "      <td>16.20</td>\n",
       "      <td>289.35</td>\n",
       "      <td>Wed</td>\n",
       "    </tr>\n",
       "    <tr>\n",
       "      <th>32</th>\n",
       "      <td>20240703</td>\n",
       "      <td>17.4</td>\n",
       "      <td>13.1</td>\n",
       "      <td>14.2</td>\n",
       "      <td>16.6</td>\n",
       "      <td>4.3</td>\n",
       "      <td>15.40</td>\n",
       "      <td>288.55</td>\n",
       "      <td>Wed</td>\n",
       "    </tr>\n",
       "  </tbody>\n",
       "</table>\n",
       "<p>92 rows × 9 columns</p>\n",
       "</div>"
      ],
      "text/plain": [
       "    YEARMODA   MAX   MIN  TEMP1  TEMP2  DIFF   TEMP  TEMP_KELVIN WEEKDAY\n",
       "27  20240628  27.2  17.0   25.4   27.2  10.2  26.30       299.45     Fri\n",
       "55  20240726  26.7  17.9   24.3   26.4   8.8  25.35       298.50     Fri\n",
       "69  20240809  24.1  17.1   22.2   24.1   7.0  23.15       296.30     Fri\n",
       "90  20240830  24.6  16.0   20.7   23.5   8.6  22.10       295.25     Fri\n",
       "..       ...   ...   ...    ...    ...   ...    ...          ...     ...\n",
       "88  20240828  21.6  14.2   18.7   21.3   7.4  20.00       293.15     Wed\n",
       "18  20240619  17.8  12.8   16.1   16.8   5.0  16.45       289.60     Wed\n",
       "11  20240612  17.9  11.1   14.9   17.5   6.8  16.20       289.35     Wed\n",
       "32  20240703  17.4  13.1   14.2   16.6   4.3  15.40       288.55     Wed\n",
       "\n",
       "[92 rows x 9 columns]"
      ]
     },
     "execution_count": 48,
     "metadata": {},
     "output_type": "execute_result"
    }
   ],
   "source": [
    "data.sort_values(by=[\"WEEKDAY\", \"TEMP\"], ascending=[True, False])"
   ]
  },
  {
   "cell_type": "markdown",
   "metadata": {
    "editable": true,
    "slideshow": {
     "slide_type": ""
    },
    "tags": []
   },
   "source": [
    "As a result the data are now ordered first by weekday (i.e., the same weekday values are grouped) and the within these weekdays the temperature values are sorted in descending order showing the warmest day first. Ordering data in this manner based on multiple criteria can sometimes be very useful when analyzing your data."
   ]
  },
  {
   "cell_type": "markdown",
   "metadata": {
    "editable": true,
    "slideshow": {
     "slide_type": ""
    },
    "tags": []
   },
   "source": [
    "## Table join: Combining DataFrames using a common key"
   ]
  },
  {
   "cell_type": "markdown",
   "metadata": {},
   "source": [
    "### Basic logic of a table join\n",
    "\n",
    "Joining data between two or more `DataFrame` objects is a common task when doing data analysis. The minimum requirement for being able to combine data between two (or more) `DataFrame` objects (or tables) is to have at least one common attribute (called a key) that is identical in both `DataFrame` objects. Figure 3.4 illustrates the logic of a table join. In this case, we want to merge the precipitation data from Kumpula weather station to the temperature data that we worked earlier in this chapter. The common key in this case is the time information in the `YEARMODA` column in the left `DataFrame` and the `Date` column in the right `DataFrame`. The column names of the keys can be different (as in our case), but the values stored in these columns should correspond to each other so that it is possible to match the records between tables. The attribute values of the key can contain data in any format (dates, text, numbers, etc.). Hence, the data is not limited to dates or integers as demonstrated in this example. \n",
    "\n",
    "![_**Figure 3.4**. Joining precipitation data from the right DataFrame to the left based on common key._](../img/Table-join.png)\n",
    "\n",
    "_**Figure 3.4**. Joining precipitation data from the right DataFrame to the left based on common key._"
   ]
  },
  {
   "cell_type": "markdown",
   "metadata": {},
   "source": [
    "### Table join using pandas `.merge()`\n",
    "\n",
    "In the following example, we first read some precipitation data for the Kumpula weather station and then join this data with the `DataFrame` containing the average temperature data we have worked with. Merging two `DataFrame` objects together based on a common key (or multiple keys) can be done easily with `pandas` using the `.merge()` function. The column that represents the key can be specified using the `on` parameter if the key column is identical in both `DataFrame` objects. In our case, the `DataFrame` columns containing common values have different names. Thus, we need to separately specify the key for the left `DataFrame` using the parameter `left_on` and use the parameter `right_on` for the right `DataFrame`."
   ]
  },
  {
   "cell_type": "code",
   "execution_count": 49,
   "metadata": {},
   "outputs": [
    {
     "data": {
      "text/html": [
       "<div>\n",
       "<style scoped>\n",
       "    .dataframe tbody tr th:only-of-type {\n",
       "        vertical-align: middle;\n",
       "    }\n",
       "\n",
       "    .dataframe tbody tr th {\n",
       "        vertical-align: top;\n",
       "    }\n",
       "\n",
       "    .dataframe thead th {\n",
       "        text-align: right;\n",
       "    }\n",
       "</style>\n",
       "<table border=\"1\" class=\"dataframe\">\n",
       "  <thead>\n",
       "    <tr style=\"text-align: right;\">\n",
       "      <th></th>\n",
       "      <th>Date</th>\n",
       "      <th>Precipitation amount [mm]</th>\n",
       "      <th>Average temperature [deg. C]</th>\n",
       "      <th>Maximum temperature [deg. C]</th>\n",
       "      <th>Minimum temperature [deg. C]</th>\n",
       "    </tr>\n",
       "  </thead>\n",
       "  <tbody>\n",
       "    <tr>\n",
       "      <th>0</th>\n",
       "      <td>20240601</td>\n",
       "      <td>0.7</td>\n",
       "      <td>22.3</td>\n",
       "      <td>27.2</td>\n",
       "      <td>17.6</td>\n",
       "    </tr>\n",
       "    <tr>\n",
       "      <th>1</th>\n",
       "      <td>20240602</td>\n",
       "      <td>0.1</td>\n",
       "      <td>20.8</td>\n",
       "      <td>24.9</td>\n",
       "      <td>16.9</td>\n",
       "    </tr>\n",
       "    <tr>\n",
       "      <th>2</th>\n",
       "      <td>20240603</td>\n",
       "      <td>0.0</td>\n",
       "      <td>20.8</td>\n",
       "      <td>26.7</td>\n",
       "      <td>15.0</td>\n",
       "    </tr>\n",
       "    <tr>\n",
       "      <th>3</th>\n",
       "      <td>20240604</td>\n",
       "      <td>-1.0</td>\n",
       "      <td>20.2</td>\n",
       "      <td>25.1</td>\n",
       "      <td>15.4</td>\n",
       "    </tr>\n",
       "    <tr>\n",
       "      <th>4</th>\n",
       "      <td>20240605</td>\n",
       "      <td>-1.0</td>\n",
       "      <td>18.6</td>\n",
       "      <td>24.0</td>\n",
       "      <td>12.4</td>\n",
       "    </tr>\n",
       "  </tbody>\n",
       "</table>\n",
       "</div>"
      ],
      "text/plain": [
       "       Date  Precipitation amount [mm]  Average temperature [deg. C]  \\\n",
       "0  20240601                        0.7                          22.3   \n",
       "1  20240602                        0.1                          20.8   \n",
       "2  20240603                        0.0                          20.8   \n",
       "3  20240604                       -1.0                          20.2   \n",
       "4  20240605                       -1.0                          18.6   \n",
       "\n",
       "   Maximum temperature [deg. C]  Minimum temperature [deg. C]  \n",
       "0                          27.2                          17.6  \n",
       "1                          24.9                          16.9  \n",
       "2                          26.7                          15.0  \n",
       "3                          25.1                          15.4  \n",
       "4                          24.0                          12.4  "
      ]
     },
     "execution_count": 49,
     "metadata": {},
     "output_type": "execute_result"
    }
   ],
   "source": [
    "# Read precipitation data and show first rows\n",
    "precip = pd.read_csv(\"data/kumpula-temps-precip-summer-2024.txt\")\n",
    "precip.head()"
   ]
  },
  {
   "cell_type": "code",
   "execution_count": 50,
   "metadata": {},
   "outputs": [
    {
     "data": {
      "text/html": [
       "<div>\n",
       "<style scoped>\n",
       "    .dataframe tbody tr th:only-of-type {\n",
       "        vertical-align: middle;\n",
       "    }\n",
       "\n",
       "    .dataframe tbody tr th {\n",
       "        vertical-align: top;\n",
       "    }\n",
       "\n",
       "    .dataframe thead th {\n",
       "        text-align: right;\n",
       "    }\n",
       "</style>\n",
       "<table border=\"1\" class=\"dataframe\">\n",
       "  <thead>\n",
       "    <tr style=\"text-align: right;\">\n",
       "      <th></th>\n",
       "      <th>YEARMODA</th>\n",
       "      <th>MAX</th>\n",
       "      <th>MIN</th>\n",
       "      <th>TEMP1</th>\n",
       "      <th>TEMP2</th>\n",
       "      <th>DIFF</th>\n",
       "      <th>TEMP</th>\n",
       "      <th>TEMP_KELVIN</th>\n",
       "      <th>WEEKDAY</th>\n",
       "      <th>Date</th>\n",
       "      <th>Precipitation amount [mm]</th>\n",
       "      <th>Average temperature [deg. C]</th>\n",
       "      <th>Maximum temperature [deg. C]</th>\n",
       "      <th>Minimum temperature [deg. C]</th>\n",
       "    </tr>\n",
       "  </thead>\n",
       "  <tbody>\n",
       "    <tr>\n",
       "      <th>0</th>\n",
       "      <td>20240601</td>\n",
       "      <td>26.2</td>\n",
       "      <td>18.4</td>\n",
       "      <td>24.2</td>\n",
       "      <td>23.2</td>\n",
       "      <td>7.8</td>\n",
       "      <td>23.70</td>\n",
       "      <td>296.85</td>\n",
       "      <td>Sat</td>\n",
       "      <td>20240601</td>\n",
       "      <td>0.7</td>\n",
       "      <td>22.3</td>\n",
       "      <td>27.2</td>\n",
       "      <td>17.6</td>\n",
       "    </tr>\n",
       "    <tr>\n",
       "      <th>1</th>\n",
       "      <td>20240602</td>\n",
       "      <td>24.4</td>\n",
       "      <td>17.1</td>\n",
       "      <td>20.7</td>\n",
       "      <td>24.2</td>\n",
       "      <td>7.3</td>\n",
       "      <td>22.45</td>\n",
       "      <td>295.60</td>\n",
       "      <td>Sun</td>\n",
       "      <td>20240602</td>\n",
       "      <td>0.1</td>\n",
       "      <td>20.8</td>\n",
       "      <td>24.9</td>\n",
       "      <td>16.9</td>\n",
       "    </tr>\n",
       "    <tr>\n",
       "      <th>2</th>\n",
       "      <td>20240603</td>\n",
       "      <td>25.7</td>\n",
       "      <td>15.2</td>\n",
       "      <td>22.5</td>\n",
       "      <td>23.1</td>\n",
       "      <td>10.5</td>\n",
       "      <td>22.80</td>\n",
       "      <td>295.95</td>\n",
       "      <td>Mon</td>\n",
       "      <td>20240603</td>\n",
       "      <td>0.0</td>\n",
       "      <td>20.8</td>\n",
       "      <td>26.7</td>\n",
       "      <td>15.0</td>\n",
       "    </tr>\n",
       "    <tr>\n",
       "      <th>3</th>\n",
       "      <td>20240604</td>\n",
       "      <td>24.6</td>\n",
       "      <td>15.7</td>\n",
       "      <td>19.3</td>\n",
       "      <td>24.6</td>\n",
       "      <td>8.9</td>\n",
       "      <td>21.95</td>\n",
       "      <td>295.10</td>\n",
       "      <td>Tue</td>\n",
       "      <td>20240604</td>\n",
       "      <td>-1.0</td>\n",
       "      <td>20.2</td>\n",
       "      <td>25.1</td>\n",
       "      <td>15.4</td>\n",
       "    </tr>\n",
       "    <tr>\n",
       "      <th>4</th>\n",
       "      <td>20240605</td>\n",
       "      <td>23.4</td>\n",
       "      <td>12.8</td>\n",
       "      <td>20.3</td>\n",
       "      <td>23.2</td>\n",
       "      <td>10.6</td>\n",
       "      <td>21.75</td>\n",
       "      <td>294.90</td>\n",
       "      <td>Wed</td>\n",
       "      <td>20240605</td>\n",
       "      <td>-1.0</td>\n",
       "      <td>18.6</td>\n",
       "      <td>24.0</td>\n",
       "      <td>12.4</td>\n",
       "    </tr>\n",
       "  </tbody>\n",
       "</table>\n",
       "</div>"
      ],
      "text/plain": [
       "   YEARMODA   MAX   MIN  TEMP1  TEMP2  DIFF   TEMP  TEMP_KELVIN WEEKDAY  \\\n",
       "0  20240601  26.2  18.4   24.2   23.2   7.8  23.70       296.85     Sat   \n",
       "1  20240602  24.4  17.1   20.7   24.2   7.3  22.45       295.60     Sun   \n",
       "2  20240603  25.7  15.2   22.5   23.1  10.5  22.80       295.95     Mon   \n",
       "3  20240604  24.6  15.7   19.3   24.6   8.9  21.95       295.10     Tue   \n",
       "4  20240605  23.4  12.8   20.3   23.2  10.6  21.75       294.90     Wed   \n",
       "\n",
       "       Date  Precipitation amount [mm]  Average temperature [deg. C]  \\\n",
       "0  20240601                        0.7                          22.3   \n",
       "1  20240602                        0.1                          20.8   \n",
       "2  20240603                        0.0                          20.8   \n",
       "3  20240604                       -1.0                          20.2   \n",
       "4  20240605                       -1.0                          18.6   \n",
       "\n",
       "   Maximum temperature [deg. C]  Minimum temperature [deg. C]  \n",
       "0                          27.2                          17.6  \n",
       "1                          24.9                          16.9  \n",
       "2                          26.7                          15.0  \n",
       "3                          25.1                          15.4  \n",
       "4                          24.0                          12.4  "
      ]
     },
     "execution_count": 50,
     "metadata": {},
     "output_type": "execute_result"
    }
   ],
   "source": [
    "# Make a table join\n",
    "join = data.merge(precip, left_on=\"YEARMODA\", right_on=\"Date\")\n",
    "join.head()"
   ]
  },
  {
   "cell_type": "markdown",
   "metadata": {},
   "source": [
    "Now we have merged all the information from the right `DataFrame` into the left one and stored the result in variable `join`. By doing this, we can analyze the relationship between the daily average temperature and precipitation, for example, to understand whether the temperature is lower when it rains. Currently, however, the `join` `DataFrame` also contains some variables that are not necessarily useful for us. A useful trick to do when joining is to limit the number of columns that will be kept from the right `DataFrame`. This can be done by chaining a simple column selection while doing the merge as shown next. When doing this, it is important to remember that the `key` column on the right `DataFrame` must be part of the selection for the table join to work.  "
   ]
  },
  {
   "cell_type": "code",
   "execution_count": 51,
   "metadata": {},
   "outputs": [
    {
     "data": {
      "text/html": [
       "<div>\n",
       "<style scoped>\n",
       "    .dataframe tbody tr th:only-of-type {\n",
       "        vertical-align: middle;\n",
       "    }\n",
       "\n",
       "    .dataframe tbody tr th {\n",
       "        vertical-align: top;\n",
       "    }\n",
       "\n",
       "    .dataframe thead th {\n",
       "        text-align: right;\n",
       "    }\n",
       "</style>\n",
       "<table border=\"1\" class=\"dataframe\">\n",
       "  <thead>\n",
       "    <tr style=\"text-align: right;\">\n",
       "      <th></th>\n",
       "      <th>YEARMODA</th>\n",
       "      <th>MAX</th>\n",
       "      <th>MIN</th>\n",
       "      <th>TEMP1</th>\n",
       "      <th>TEMP2</th>\n",
       "      <th>DIFF</th>\n",
       "      <th>TEMP</th>\n",
       "      <th>TEMP_KELVIN</th>\n",
       "      <th>WEEKDAY</th>\n",
       "      <th>Date</th>\n",
       "      <th>Precipitation amount [mm]</th>\n",
       "    </tr>\n",
       "  </thead>\n",
       "  <tbody>\n",
       "    <tr>\n",
       "      <th>0</th>\n",
       "      <td>20240601</td>\n",
       "      <td>26.2</td>\n",
       "      <td>18.4</td>\n",
       "      <td>24.2</td>\n",
       "      <td>23.2</td>\n",
       "      <td>7.8</td>\n",
       "      <td>23.70</td>\n",
       "      <td>296.85</td>\n",
       "      <td>Sat</td>\n",
       "      <td>20240601</td>\n",
       "      <td>0.7</td>\n",
       "    </tr>\n",
       "    <tr>\n",
       "      <th>1</th>\n",
       "      <td>20240602</td>\n",
       "      <td>24.4</td>\n",
       "      <td>17.1</td>\n",
       "      <td>20.7</td>\n",
       "      <td>24.2</td>\n",
       "      <td>7.3</td>\n",
       "      <td>22.45</td>\n",
       "      <td>295.60</td>\n",
       "      <td>Sun</td>\n",
       "      <td>20240602</td>\n",
       "      <td>0.1</td>\n",
       "    </tr>\n",
       "    <tr>\n",
       "      <th>2</th>\n",
       "      <td>20240603</td>\n",
       "      <td>25.7</td>\n",
       "      <td>15.2</td>\n",
       "      <td>22.5</td>\n",
       "      <td>23.1</td>\n",
       "      <td>10.5</td>\n",
       "      <td>22.80</td>\n",
       "      <td>295.95</td>\n",
       "      <td>Mon</td>\n",
       "      <td>20240603</td>\n",
       "      <td>0.0</td>\n",
       "    </tr>\n",
       "    <tr>\n",
       "      <th>3</th>\n",
       "      <td>20240604</td>\n",
       "      <td>24.6</td>\n",
       "      <td>15.7</td>\n",
       "      <td>19.3</td>\n",
       "      <td>24.6</td>\n",
       "      <td>8.9</td>\n",
       "      <td>21.95</td>\n",
       "      <td>295.10</td>\n",
       "      <td>Tue</td>\n",
       "      <td>20240604</td>\n",
       "      <td>-1.0</td>\n",
       "    </tr>\n",
       "    <tr>\n",
       "      <th>4</th>\n",
       "      <td>20240605</td>\n",
       "      <td>23.4</td>\n",
       "      <td>12.8</td>\n",
       "      <td>20.3</td>\n",
       "      <td>23.2</td>\n",
       "      <td>10.6</td>\n",
       "      <td>21.75</td>\n",
       "      <td>294.90</td>\n",
       "      <td>Wed</td>\n",
       "      <td>20240605</td>\n",
       "      <td>-1.0</td>\n",
       "    </tr>\n",
       "  </tbody>\n",
       "</table>\n",
       "</div>"
      ],
      "text/plain": [
       "   YEARMODA   MAX   MIN  TEMP1  TEMP2  DIFF   TEMP  TEMP_KELVIN WEEKDAY  \\\n",
       "0  20240601  26.2  18.4   24.2   23.2   7.8  23.70       296.85     Sat   \n",
       "1  20240602  24.4  17.1   20.7   24.2   7.3  22.45       295.60     Sun   \n",
       "2  20240603  25.7  15.2   22.5   23.1  10.5  22.80       295.95     Mon   \n",
       "3  20240604  24.6  15.7   19.3   24.6   8.9  21.95       295.10     Tue   \n",
       "4  20240605  23.4  12.8   20.3   23.2  10.6  21.75       294.90     Wed   \n",
       "\n",
       "       Date  Precipitation amount [mm]  \n",
       "0  20240601                        0.7  \n",
       "1  20240602                        0.1  \n",
       "2  20240603                        0.0  \n",
       "3  20240604                       -1.0  \n",
       "4  20240605                       -1.0  "
      ]
     },
     "execution_count": 51,
     "metadata": {},
     "output_type": "execute_result"
    }
   ],
   "source": [
    "# Make another join but only keep the attribute of interest\n",
    "join2 = data.merge(precip[[\"Date\", \"Precipitation amount [mm]\"]], left_on=\"YEARMODA\", right_on=\"Date\")\n",
    "join2.head()"
   ]
  },
  {
   "cell_type": "markdown",
   "metadata": {},
   "source": [
    "As can be seen in the `DataFrame` above, now only the column `Date` and the attribute of interest `Precipitation amount [mm]` were joined and kept in the output from the right `DataFrame`. A similar trick can also be applied to the left `DataFrame` by adding the selection before the `.merge()` call. \n",
    "\n",
    "In our case, doing the table join was fairly straightforward because we had only one unique record per day in both `DataFrame` objects. However, in some cases you might have multiple records in one or the other of the `DataFrame` objects (e.g., hourly observations vs. daily observations). This can in specific cases cause issues (not always!), incorrect analysis results, and other undesired consequences if not taken into account properly. This kind of mismatch in number of records per table can be handled by first aggregating the hourly data to a daily average, for example. You can learn more about these aggregation techniques in the following sections."
   ]
  },
  {
   "cell_type": "markdown",
   "metadata": {
    "editable": true,
    "slideshow": {
     "slide_type": ""
    },
    "tags": []
   },
   "source": [
    "## Footnotes\n",
    "\n",
    "[^at]: <https://pandas.pydata.org/pandas-docs/stable/reference/api/pandas.DataFrame.at.html>\n",
    "[^iloc]: <https://pandas.pydata.org/pandas-docs/stable/reference/api/pandas.DataFrame.iloc.html>\n",
    "[^isin]: <https://pandas.pydata.org/pandas-docs/stable/reference/api/pandas.DataFrame.isin.html>\n",
    "[^loc]: <https://pandas.pydata.org/pandas-docs/stable/reference/api/pandas.DataFrame.loc.html>\n",
    "[^numpydtypes]: <https://numpy.org/doc/stable/user/basics.types.html>"
   ]
  }
 ],
 "metadata": {
  "anaconda-cloud": {},
  "kernelspec": {
   "display_name": "Python 3 (ipykernel)",
   "language": "python",
   "name": "python3"
  },
  "language_info": {
   "codemirror_mode": {
    "name": "ipython",
    "version": 3
   },
   "file_extension": ".py",
   "mimetype": "text/x-python",
   "name": "python",
   "nbconvert_exporter": "python",
   "pygments_lexer": "ipython3",
   "version": "3.12.5"
  }
 },
 "nbformat": 4,
 "nbformat_minor": 4
}
