{
 "cells": [
  {
   "cell_type": "markdown",
   "id": "e0abe2f5-b6d4-4790-9134-ce1de59dac95",
   "metadata": {},
   "source": [
    "# Quickly getting started (without installing Python)"
   ]
  },
  {
   "cell_type": "markdown",
   "id": "989a7f75-4f65-4f3b-b745-aa8d7040711e",
   "metadata": {},
   "source": [
    "One of the convenient features of the JupyterLab environment is that users interact with their code through a web browser. This means you can interact with Jupyter Notebooks that are saved locally on your computer or on a remote server/website. However, unlike a normal web page, interacting with Jupyter Notebooks does require a Jupyter server is running to be able to provide the interactive functionality in the notebook."
   ]
  },
  {
   "cell_type": "markdown",
   "id": "69d62979-29b7-4a2d-afd4-7db05e4600ce",
   "metadata": {},
   "source": [
    "## Free cloud services for Jupyter notebooks\n",
    "\n",
    "Fortunately, there are a number of free online services that provide support for interacting with Jupyter Notebooks, and make it easy for you to quickly explore how they work. Below, we provide a very brief overview of two of the more popular free services and some links for how to get started using them."
   ]
  },
  {
   "cell_type": "markdown",
   "id": "3bd2776a-b226-4ede-a756-0a7d63695b8d",
   "metadata": {},
   "source": [
    "### Binder\n",
    "\n",
    "[Binder](https://mybinder.org)[^Binder] is a freely available service related to the [Jupyter Project](https://jupyter.org)[^Jupyter] that allows users to create cloud-based computing environments that can be used to execute Jupyter Notebooks. The notebooks can be hosted in a variety of locations, including on [GitHub.com](https://github.com), and their website at [mybinder.org](https://mybinder.org) provides detailed instructions about how to create your own computing environments. For use with this book, you can launch interactive versions of the notebook files used to produce the book materials on the book website at [pythongis.org](https://pythongis.org) by clicking on the \"rocket ship icon\" (Figure 1.15). This is the easiest way to get started learning Python and exploring the book materials!\n",
    "\n",
    "![_**Figure 1.15**. The \"rocket ship icon\" that can be used to launch interactive versions of notebooks from the book website._](../img/binder-rocket-ship.png)\n",
    "   \n",
    "_**Figure 1.15**. The \"rocket ship icon\" that can be used to launch interactive versions of notebooks from the book website._\n",
    "\n",
    "Please note, however, that there are a few important limitations to using the Binder service:\n",
    "\n",
    "- The server will [become inactive after approximately 10 minutes of inactivity](https://mybinder.readthedocs.io/en/latest/about/user-guidelines.html#how-long-will-my-binder-session-last), which means you may need to reconnect in order to continue working with your notebook(s) and may possibly lose your changes.\n",
    "- There is no persistent storage, so it is not possible to store changes to your notebooks using Binder. If you are interested in saving your changes, it may be best to read Section 1.6 about how to install Python on your own computer."
   ]
  },
  {
   "cell_type": "markdown",
   "id": "07e4e129-5e7c-4974-9ff4-8831a7e2c98c",
   "metadata": {},
   "source": [
    "### Google Colaboratory (Colab)\n",
    "\n",
    "[Google Colab](https://colab.research.google.com/)[^Colab] is another free service provided by Google that can be used to interact with Jupyter Notebooks, although it differs from Binder in both the interface to the notebooks and its features. The interface is a more consistent with that of other Google applications and some terms differ from the equivalents used in JupyterLab, for example. However, a nice feature about Google Colab is that multiple people can work together on the same notebooks at the same time, and it is possible to save your modifications! More information about Google Colab can be found at <https://colab.research.google.com/>."
   ]
  },
  {
   "cell_type": "markdown",
   "id": "4b6a4fe2-f223-439a-a638-f35bdefd8bd8",
   "metadata": {},
   "source": [
    "## Footnotes\n",
    "\n",
    "[^Binder]: <https://mybinder.org>\n",
    "[^Colab]: <https://colab.research.google.com/>\n",
    "[^Jupyter]: <https://jupyter.org>"
   ]
  }
 ],
 "metadata": {
  "kernelspec": {
   "display_name": "Python 3 (ipykernel)",
   "language": "python",
   "name": "python3"
  },
  "language_info": {
   "codemirror_mode": {
    "name": "ipython",
    "version": 3
   },
   "file_extension": ".py",
   "mimetype": "text/x-python",
   "name": "python",
   "nbconvert_exporter": "python",
   "pygments_lexer": "ipython3",
   "version": "3.9.7"
  }
 },
 "nbformat": 4,
 "nbformat_minor": 5
}
