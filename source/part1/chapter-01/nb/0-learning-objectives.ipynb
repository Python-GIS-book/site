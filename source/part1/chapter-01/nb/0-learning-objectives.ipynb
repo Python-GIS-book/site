{
 "cells": [
  {
   "cell_type": "markdown",
   "id": "dc42f212-789b-4115-a134-f621321926f9",
   "metadata": {
    "editable": true,
    "slideshow": {
     "slide_type": ""
    },
    "tags": [
     "learning_objectives"
    ]
   },
   "source": [
    "# Learning objectives\n",
    "\n",
    "At the end of this chapter, you should be able to:\n",
    "\n",
    "- Explain the fundamental elements of computers and programming languages\n",
    "- Describe why Python is a useful programming language to learn\n",
    "- Explain different ways to run Python programs and why we use Jupyter notebooks in this book\n",
    "- Use Jupyter notebooks online and install Python on your own computer"
   ]
  },
  {
   "cell_type": "markdown",
   "id": "26eced9f-6819-478b-80e9-bde766817da7",
   "metadata": {
    "editable": true,
    "slideshow": {
     "slide_type": ""
    },
    "tags": []
   },
   "source": [
    "Chapter 1 provides the essential background information needed to get started programming in Python.\n",
    "This chapter introduces basic concepts related to computers and programming, and provides some basic information about the programming environment used in this book, including how to install Python on your own computer."
   ]
  }
 ],
 "metadata": {
  "kernelspec": {
   "display_name": "Python 3 (ipykernel)",
   "language": "python",
   "name": "python3"
  },
  "language_info": {
   "codemirror_mode": {
    "name": "ipython",
    "version": 3
   },
   "file_extension": ".py",
   "mimetype": "text/x-python",
   "name": "python",
   "nbconvert_exporter": "python",
   "pygments_lexer": "ipython3",
   "version": "3.11.5"
  }
 },
 "nbformat": 4,
 "nbformat_minor": 5
}
