{
 "cells": [
  {
   "cell_type": "markdown",
   "id": "20728ee0-d809-4c25-8314-273ae799363d",
   "metadata": {
    "editable": true,
    "slideshow": {
     "slide_type": ""
    },
    "tags": [
     "learning_objectives"
    ]
   },
   "source": [
    "# Learning objectives"
   ]
  },
  {
   "cell_type": "markdown",
   "id": "ab2cec8a-667b-453a-8d06-9b43e1672df1",
   "metadata": {
    "editable": true,
    "slideshow": {
     "slide_type": ""
    },
    "tags": []
   },
   "source": [
    "Chapter 1 provides the essential background information needed to get started programming in Python.\n",
    "This chapter introduces basic concepts related to computers and programming, and provides some basic information about the programming environment used in this book, including how to install Python on your own computer."
   ]
  },
  {
   "cell_type": "markdown",
   "id": "6c09b7b4-3490-4caf-bcd5-f7c2ad3bcf1e",
   "metadata": {
    "editable": true,
    "slideshow": {
     "slide_type": ""
    },
    "tags": [
     "lo_box"
    ]
   },
   "source": [
    "```{admonition} Learning objectives\n",
    ":class: tip\n",
    "\n",
    "At the end of this chapter, you should be able to:\n",
    "\n",
    "- Explain the fundamental elements of computers and programming languages\n",
    "- Describe why Python is a useful programming language to learn\n",
    "- Explain different ways to run Python programs and why we use Jupyter notebooks in this book\n",
    "- Use Jupyter notebooks online and install Python on your own computer\n",
    "\n",
    "```"
   ]
  }
 ],
 "metadata": {
  "kernelspec": {
   "display_name": "Python 3 (ipykernel)",
   "language": "python",
   "name": "python3"
  },
  "language_info": {
   "codemirror_mode": {
    "name": "ipython",
    "version": 3
   },
   "file_extension": ".py",
   "mimetype": "text/x-python",
   "name": "python",
   "nbconvert_exporter": "python",
   "pygments_lexer": "ipython3",
   "version": "3.11.5"
  }
 },
 "nbformat": 4,
 "nbformat_minor": 5
}
