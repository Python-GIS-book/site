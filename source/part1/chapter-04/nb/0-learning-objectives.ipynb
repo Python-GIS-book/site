{
 "cells": [
  {
   "cell_type": "markdown",
   "id": "20728ee0-d809-4c25-8314-273ae799363d",
   "metadata": {
    "editable": true,
    "slideshow": {
     "slide_type": ""
    },
    "tags": [
     "learning_objectives"
    ]
   },
   "source": [
    "# Learning objectives"
   ]
  },
  {
   "cell_type": "markdown",
   "id": "a3420dae-f3f1-4c5f-adff-3afd463c30a0",
   "metadata": {
    "editable": true,
    "slideshow": {
     "slide_type": ""
    },
    "tags": []
   },
   "source": [
    "Chapter four provides an introduction to the essentials of data visualization in Python using the matplotlib library.\n",
    "This chapter presents an overview of various data visualization libraries available in Python and demonstrates how to create common visualizations using the matplotlib library."
   ]
  },
  {
   "cell_type": "markdown",
   "id": "6c09b7b4-3490-4caf-bcd5-f7c2ad3bcf1e",
   "metadata": {
    "editable": true,
    "slideshow": {
     "slide_type": ""
    },
    "tags": [
     "lo_box"
    ]
   },
   "source": [
    "```{admonition} Learning objectives\n",
    ":class: tip\n",
    "\n",
    "At the end of this chapter, you should be able to:\n",
    "\n",
    "- Describe some of the different libraries available for data visualization in Python\n",
    "- List the important elements of a plot\n",
    "- Create and manipulate line, bar, and sets of plots using the matplotlib libary\n",
    "- Explain key elements of effective line plots\n",
    "\n",
    "```"
   ]
  }
 ],
 "metadata": {
  "kernelspec": {
   "display_name": "Python 3 (ipykernel)",
   "language": "python",
   "name": "python3"
  },
  "language_info": {
   "codemirror_mode": {
    "name": "ipython",
    "version": 3
   },
   "file_extension": ".py",
   "mimetype": "text/x-python",
   "name": "python",
   "nbconvert_exporter": "python",
   "pygments_lexer": "ipython3",
   "version": "3.11.5"
  }
 },
 "nbformat": 4,
 "nbformat_minor": 5
}
