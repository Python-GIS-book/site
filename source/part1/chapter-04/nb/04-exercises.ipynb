{
 "cells": [
  {
   "cell_type": "markdown",
   "id": "1ef85d09-d927-40a4-ba58-b5ae3d15e9a4",
   "metadata": {},
   "source": [
    "# Exercises\n",
    "\n",
    "To be added..."
   ]
  }
 ],
 "metadata": {
  "kernelspec": {
   "display_name": "Python 3 (ipykernel)",
   "language": "python",
   "name": "python3"
  },
  "language_info": {
   "codemirror_mode": {
    "name": "ipython",
    "version": 3
   },
   "file_extension": ".py",
   "mimetype": "text/x-python",
   "name": "python",
   "nbconvert_exporter": "python",
   "pygments_lexer": "ipython3",
   "version": "3.11.5"
  }
 },
 "nbformat": 4,
 "nbformat_minor": 5
}
