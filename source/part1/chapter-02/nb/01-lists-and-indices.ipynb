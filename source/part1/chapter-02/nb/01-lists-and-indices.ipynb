{
 "cells": [
  {
   "cell_type": "markdown",
   "id": "ad2c1a2c-38d0-45f8-9eb1-2879fb6c4f4e",
   "metadata": {
    "editable": true,
    "slideshow": {
     "slide_type": ""
    },
    "tags": []
   },
   "source": [
    "# Lists and indices\n",
    "\n",
    "In the previous section, we learned a bit about variables, their values, and data types. We will now continue with a new data type called a *{term}`list`*. Using a list, we can store many related values together with a single variable. In Python, there are several different types of data that can be used to store values together in a *{term}`collection`*, and a list is the simplest type.\n",
    "\n",
    "To explore lists, we will be using data related to [Finnish Meteorological Institute (FMI) observation stations](http://en.ilmatieteenlaitos.fi/observation-stations) [^FMI_stations]. For each station, a number of pieces of information are given, including the name of the station, an FMI station ID number (FMISID), its latitude, its longitude, and the station type."
   ]
  },
  {
   "cell_type": "markdown",
   "id": "51beee37-f32e-49b2-a725-dce8ebb34ca8",
   "metadata": {
    "editable": true,
    "slideshow": {
     "slide_type": ""
    },
    "tags": []
   },
   "source": [
    "## Creating a list\n",
    "\n",
    "Let’s first create a `list` of some station names and print it out."
   ]
  },
  {
   "cell_type": "code",
   "execution_count": 1,
   "id": "8be5b6d5-90e7-4099-b879-bf4c4b4b1f08",
   "metadata": {
    "editable": true,
    "slideshow": {
     "slide_type": ""
    },
    "tags": []
   },
   "outputs": [],
   "source": [
    "station_names = [\n",
    "    \"Helsinki Harmaja\",\n",
    "    \"Helsinki Kaisaniemi\",\n",
    "    \"Helsinki Kaivopuisto\",\n",
    "    \"Helsinki Kumpula\",\n",
    "]"
   ]
  },
  {
   "cell_type": "code",
   "execution_count": 2,
   "id": "e00fd512-d108-4a25-b7b0-cb9ef68106d1",
   "metadata": {},
   "outputs": [
    {
     "data": {
      "text/plain": [
       "['Helsinki Harmaja',\n",
       " 'Helsinki Kaisaniemi',\n",
       " 'Helsinki Kaivopuisto',\n",
       " 'Helsinki Kumpula']"
      ]
     },
     "execution_count": 2,
     "metadata": {},
     "output_type": "execute_result"
    }
   ],
   "source": [
    "station_names"
   ]
  },
  {
   "cell_type": "markdown",
   "id": "0cc14fbe-8785-423f-a547-b3ca32ad7af2",
   "metadata": {},
   "source": [
    "We can also check the type of the `station_names` list using the `type()` function."
   ]
  },
  {
   "cell_type": "code",
   "execution_count": 3,
   "id": "8ae41935-8af7-4c23-b027-86a0ff0963e5",
   "metadata": {},
   "outputs": [
    {
     "data": {
      "text/plain": [
       "list"
      ]
     },
     "execution_count": 3,
     "metadata": {},
     "output_type": "execute_result"
    }
   ],
   "source": [
    "type(station_names)"
   ]
  },
  {
   "cell_type": "markdown",
   "id": "4e9acbaf-f1f8-4b92-bd49-489a3637b832",
   "metadata": {},
   "source": [
    "Here we have a list of 4 station name values in a list called `station_names`. As you can see, the `type()` function recognizes this as a `list`. Lists can be created using the square brackets `[` and `]`, with commas separating the values in the list."
   ]
  },
  {
   "cell_type": "markdown",
   "id": "73bacceb-ef8c-49bd-ac97-0f06b1e8d496",
   "metadata": {},
   "source": [
    "### Number of items in a list\n",
    "\n",
    "You can find the length of a list using the `len()` function."
   ]
  },
  {
   "cell_type": "code",
   "execution_count": 4,
   "id": "cabf96e7-9d3b-4135-a61e-6aa0f211a2d0",
   "metadata": {},
   "outputs": [
    {
     "data": {
      "text/plain": [
       "4"
      ]
     },
     "execution_count": 4,
     "metadata": {},
     "output_type": "execute_result"
    }
   ],
   "source": [
    "len(station_names)"
   ]
  },
  {
   "cell_type": "markdown",
   "id": "c9f6070c-5510-4176-8a0b-18b4f34dff26",
   "metadata": {},
   "source": [
    "Just as expected, there are 4 values in our `list` and `len(station_names)` returns a value of `4`."
   ]
  },
  {
   "cell_type": "markdown",
   "id": "fe40b88e-8631-46a4-a390-e962f39a3641",
   "metadata": {},
   "source": [
    "## Index values\n",
    "\n",
    "To access an individual value in a list we need to use an *{term}`index`* value. An index value is a number that refers to a given position in the list. Let's check out the first value in our `list` as an example by printing out `station_names[1]`:"
   ]
  },
  {
   "cell_type": "code",
   "execution_count": 5,
   "id": "cfbd38a3-df25-4b2e-92c6-fa8451b3ed14",
   "metadata": {},
   "outputs": [
    {
     "data": {
      "text/plain": [
       "'Helsinki Kaisaniemi'"
      ]
     },
     "execution_count": 5,
     "metadata": {},
     "output_type": "execute_result"
    }
   ],
   "source": [
    "station_names[1]"
   ]
  },
  {
   "cell_type": "markdown",
   "id": "857f9ca2-8e96-4791-b500-96383d26b4c1",
   "metadata": {},
   "source": [
    "Wait, what? This is the second value in the list we’ve created, what is wrong? As it turns out, Python (and many other programming languages) start values stored in collections with the index value `0`. Thus, to get the value for the first item in a list, we must use index `0`. Let's print out the value at index `0` of `station_names`."
   ]
  },
  {
   "cell_type": "code",
   "execution_count": 6,
   "id": "bbe6b9c0-260d-4c4f-988b-ff8689232546",
   "metadata": {},
   "outputs": [
    {
     "data": {
      "text/plain": [
       "'Helsinki Harmaja'"
      ]
     },
     "execution_count": 6,
     "metadata": {},
     "output_type": "execute_result"
    }
   ],
   "source": [
    "station_names[0]"
   ]
  },
  {
   "cell_type": "markdown",
   "id": "e2cba3d1-ac82-46f7-94d3-253e5c37244a",
   "metadata": {},
   "source": [
    "OK, that makes sense, but it may take some getting used to..."
   ]
  },
  {
   "cell_type": "markdown",
   "id": "f35534ed-68b5-43ca-a147-eebd3efea753",
   "metadata": {
    "jp-MarkdownHeadingCollapsed": true
   },
   "source": [
    "### A useful analog - Bill the vending machine\n",
    "\n",
    "As it turns out, index values are extremely useful, common in many programming languages, yet often a point of confusion for new programmers. Thus, we need to have a trick for remembering what an index value is and how they are used. For this, we need to be introduced to Bill (Figure 2.1).\n",
    "\n",
    "\n",
    "![_**Figure 2.1**. Bill, the vending machine._](../img/bill-the-vending-machine.png)\n",
    "\n",
    "_**Figure 2.1**. Bill, the vending machine._\n",
    "\n",
    "As you can see, Bill is a vending machine that contains 6 items. Like Python lists, the list of items available from Bill starts at 0 and increases in increments of 1.\n",
    "\n",
    "The way Bill works is that you insert your money, then select the location of the item you wish to receive. In an analogy to Python, we could say Bill is simply a list of food items and the buttons you push to get them are the index values. For example, if you would like to buy a taco from Bill, you would push button `3`. If we had a Python list called `Bill`, an equivalent operation would simply be\n",
    "\n",
    "```python\n",
    "print(Bill[3])\n",
    "\n",
    "Taco\n",
    "```"
   ]
  },
  {
   "cell_type": "markdown",
   "id": "27a6e544-6a33-41c9-a149-2637656e145b",
   "metadata": {},
   "source": [
    "### Index value tips\n",
    "\n",
    "In our example `station_names` list we can easily see it contains 4 values. Thus, we should be able to use this to find the value of the last item in the list, right? What happens if you print the value from the `station_names` list at index `4`, the value of the length of the list?"
   ]
  },
  {
   "cell_type": "code",
   "execution_count": 7,
   "id": "5046619f-8c32-42f6-b9c1-55b23a5d35b2",
   "metadata": {
    "tags": [
     "raises-exception"
    ]
   },
   "outputs": [
    {
     "ename": "IndexError",
     "evalue": "list index out of range",
     "output_type": "error",
     "traceback": [
      "\u001b[0;31m---------------------------------------------------------------------------\u001b[0m",
      "\u001b[0;31mIndexError\u001b[0m                                Traceback (most recent call last)",
      "Cell \u001b[0;32mIn[7], line 1\u001b[0m\n\u001b[0;32m----> 1\u001b[0m \u001b[43mstation_names\u001b[49m\u001b[43m[\u001b[49m\u001b[38;5;241;43m4\u001b[39;49m\u001b[43m]\u001b[49m\n",
      "\u001b[0;31mIndexError\u001b[0m: list index out of range"
     ]
    }
   ],
   "source": [
    "station_names[4]"
   ]
  },
  {
   "cell_type": "markdown",
   "id": "6fefdf11-8c45-4d21-a576-a53f3215addf",
   "metadata": {},
   "source": [
    "An `IndexError`? That’s right, since our list starts with index `0` and has 4 values, the index of the last item in the list is `len(station_names) - 1`. That isn’t ideal, but fortunately there’s a nice trick in Python to find the last item in a list. Let's first print the `station_names` list to remind us of the values that are in it."
   ]
  },
  {
   "cell_type": "code",
   "execution_count": 8,
   "id": "fb10d6e1-5cf5-4049-ac9d-704b1caf43ff",
   "metadata": {},
   "outputs": [
    {
     "data": {
      "text/plain": [
       "['Helsinki Harmaja',\n",
       " 'Helsinki Kaisaniemi',\n",
       " 'Helsinki Kaivopuisto',\n",
       " 'Helsinki Kumpula']"
      ]
     },
     "execution_count": 8,
     "metadata": {},
     "output_type": "execute_result"
    }
   ],
   "source": [
    "station_names"
   ]
  },
  {
   "cell_type": "markdown",
   "id": "c32f84ed-8651-4dec-b557-309a9d5595e9",
   "metadata": {},
   "source": [
    "To find the value at the end of a list, we can print the value at index `-1`. To go further up a list in reverse, we can simply use larger negative numbers, such as index `-4`."
   ]
  },
  {
   "cell_type": "code",
   "execution_count": 9,
   "id": "6e103127-2ff0-4688-823b-4f1a00ef9c54",
   "metadata": {},
   "outputs": [
    {
     "data": {
      "text/plain": [
       "'Helsinki Kumpula'"
      ]
     },
     "execution_count": 9,
     "metadata": {},
     "output_type": "execute_result"
    }
   ],
   "source": [
    "station_names[-1]"
   ]
  },
  {
   "cell_type": "code",
   "execution_count": 10,
   "id": "b76a8963-1dfc-4c2c-b195-7fbd964a87ca",
   "metadata": {},
   "outputs": [
    {
     "data": {
      "text/plain": [
       "'Helsinki Harmaja'"
      ]
     },
     "execution_count": 10,
     "metadata": {},
     "output_type": "execute_result"
    }
   ],
   "source": [
    "station_names[-4]"
   ]
  },
  {
   "cell_type": "markdown",
   "id": "07e21dbc-7ae3-43e3-abc6-20c89d4f4bb3",
   "metadata": {},
   "source": [
    "Yes, in Python you can go backwards through lists by using negative index values. Index `-1` gives the last value in the list and index `-len(list)` would give the first. Of course, you still need to keep the index values within their ranges. What happens if you check the value at index `-5`?"
   ]
  },
  {
   "cell_type": "code",
   "execution_count": 11,
   "id": "22346bcf-63cf-4389-8584-a80f7f61ee1c",
   "metadata": {
    "tags": [
     "raises-exception"
    ]
   },
   "outputs": [
    {
     "ename": "IndexError",
     "evalue": "list index out of range",
     "output_type": "error",
     "traceback": [
      "\u001b[0;31m---------------------------------------------------------------------------\u001b[0m",
      "\u001b[0;31mIndexError\u001b[0m                                Traceback (most recent call last)",
      "Cell \u001b[0;32mIn[11], line 1\u001b[0m\n\u001b[0;32m----> 1\u001b[0m \u001b[43mstation_names\u001b[49m\u001b[43m[\u001b[49m\u001b[38;5;241;43m-\u001b[39;49m\u001b[38;5;241;43m5\u001b[39;49m\u001b[43m]\u001b[49m\n",
      "\u001b[0;31mIndexError\u001b[0m: list index out of range"
     ]
    }
   ],
   "source": [
    "station_names[-5]"
   ]
  },
  {
   "cell_type": "markdown",
   "id": "e31ed383-abd9-48ef-a5bf-45757246868a",
   "metadata": {
    "editable": true,
    "slideshow": {
     "slide_type": ""
    },
    "tags": []
   },
   "source": [
    "#### Question 2.6\n",
    "\n",
    "Which animal is at index -2 in the Python list below?\n",
    "\n",
    "```python\n",
    "cute_animals = [\"bunny\", \"chick\", \"duckling\", \"kitten\", \"puppy\"]\n",
    "```"
   ]
  },
  {
   "cell_type": "code",
   "execution_count": 12,
   "id": "d3994ad3-706b-457d-9ffa-78e60e08600c",
   "metadata": {
    "editable": true,
    "slideshow": {
     "slide_type": ""
    },
    "tags": [
     "remove_cell"
    ]
   },
   "outputs": [],
   "source": [
    "# Use this cell to enter your solution."
   ]
  },
  {
   "cell_type": "code",
   "execution_count": 13,
   "id": "2b503430-d59c-44f6-859b-8493ba1a243a",
   "metadata": {
    "editable": true,
    "slideshow": {
     "slide_type": ""
    },
    "tags": [
     "remove_book_cell",
     "hide-cell"
    ]
   },
   "outputs": [
    {
     "data": {
      "text/plain": [
       "'kitten'"
      ]
     },
     "execution_count": 13,
     "metadata": {},
     "output_type": "execute_result"
    }
   ],
   "source": [
    "# Solution\n",
    "\n",
    "cute_animals = [\"bunny\", \"chick\", \"duckling\", \"kitten\", \"puppy\"]\n",
    "cute_animals[-2]"
   ]
  },
  {
   "cell_type": "markdown",
   "id": "fe86ea51-bdef-41bc-a5f2-bb4d7e3e8654",
   "metadata": {
    "editable": true,
    "slideshow": {
     "slide_type": ""
    },
    "tags": []
   },
   "source": [
    "## Modifying values in lists\n",
    "\n",
    "Another nice feature of lists is that they are *{term}`mutable`*, meaning that the values in a list that has been defined are able to be modified. The *{term}`immutable`* equivalent of a list in Python is called a *{term}`tuple`*, which we will use later in this part of the book. Consider a list of the observation station types corresponding to the station names in the `station_names` list."
   ]
  },
  {
   "cell_type": "code",
   "execution_count": 14,
   "id": "aaba6fb9-f349-4c2c-b072-007d76675a01",
   "metadata": {},
   "outputs": [
    {
     "data": {
      "text/plain": [
       "['Weather stations',\n",
       " 'Weather stations',\n",
       " 'Weather stations',\n",
       " 'Weather stations']"
      ]
     },
     "execution_count": 14,
     "metadata": {},
     "output_type": "execute_result"
    }
   ],
   "source": [
    "station_types = [\n",
    "    \"Weather stations\",\n",
    "    \"Weather stations\",\n",
    "    \"Weather stations\",\n",
    "    \"Weather stations\",\n",
    "]\n",
    "station_types"
   ]
  },
  {
   "cell_type": "markdown",
   "id": "d12e86d2-12f6-4199-bb3d-b31a99617dd5",
   "metadata": {},
   "source": [
    "Let's change the value for `station_types[2]` to be `'Mareographs'` and print out the `station_types` list again."
   ]
  },
  {
   "cell_type": "code",
   "execution_count": 15,
   "id": "586e11a5-c437-4026-acf3-dcd361c66967",
   "metadata": {},
   "outputs": [
    {
     "data": {
      "text/plain": [
       "['Weather stations', 'Weather stations', 'Mareographs', 'Weather stations']"
      ]
     },
     "execution_count": 15,
     "metadata": {},
     "output_type": "execute_result"
    }
   ],
   "source": [
    "station_types[2] = \"Mareographs\"\n",
    "station_types"
   ]
  },
  {
   "cell_type": "markdown",
   "id": "3517bee9-a44e-406b-ab99-ed9ee3028e59",
   "metadata": {},
   "source": [
    "## Data types in lists\n",
    "\n",
    "One of the benefits of a list is that they can be used to store more than one type of data. Let’s consider that instead of having a list of each station name, FMISID, latitude, etc. we would like to have a list of all of the values for a single station. In this case we will create a new `list` for the Helsinki Kaivopuisto station."
   ]
  },
  {
   "cell_type": "code",
   "execution_count": 16,
   "id": "55dda794-2df7-4b29-bfe8-c6e774932e85",
   "metadata": {},
   "outputs": [],
   "source": [
    "station_name = \"Helsinki Kaivopuisto\""
   ]
  },
  {
   "cell_type": "code",
   "execution_count": 17,
   "id": "c335ce2a-3042-4d34-a7cd-e6a2cf1e1d04",
   "metadata": {},
   "outputs": [],
   "source": [
    "station_id = 132310"
   ]
  },
  {
   "cell_type": "code",
   "execution_count": 18,
   "id": "3c9ec255-7d04-4283-88d5-1016f6e7a405",
   "metadata": {},
   "outputs": [],
   "source": [
    "station_lat = 60.15"
   ]
  },
  {
   "cell_type": "code",
   "execution_count": 19,
   "id": "b080f141-5d11-47fc-987b-6cafcc89a074",
   "metadata": {},
   "outputs": [],
   "source": [
    "station_lon = 24.96"
   ]
  },
  {
   "cell_type": "code",
   "execution_count": 20,
   "id": "02c2025c-7d4a-4414-98f2-a0060b27468f",
   "metadata": {},
   "outputs": [],
   "source": [
    "station_type = \"Mareographs\""
   ]
  },
  {
   "cell_type": "markdown",
   "id": "056f20a1-99f2-4ac5-aa98-9edefcfa9bbe",
   "metadata": {},
   "source": [
    "Now that we have defined five variables related to the Helsinki Kaivopuisto station, we can combine them in a list similar to how we have done previously."
   ]
  },
  {
   "cell_type": "code",
   "execution_count": 21,
   "id": "19f2e51c-a9ba-4f50-a4bc-3315e612cff3",
   "metadata": {
    "tags": []
   },
   "outputs": [
    {
     "data": {
      "text/plain": [
       "['Helsinki Kaivopuisto', 132310, 60.15, 24.96, 'Mareographs']"
      ]
     },
     "execution_count": 21,
     "metadata": {},
     "output_type": "execute_result"
    }
   ],
   "source": [
    "station_hel_kaivo = [station_name, station_id, station_lat, station_lon, station_type]\n",
    "station_hel_kaivo"
   ]
  },
  {
   "cell_type": "markdown",
   "id": "fc371886-de8c-4669-9eb3-db6c267b7e85",
   "metadata": {},
   "source": [
    "Here we have one list with 3 different types of data in it. We can confirm this using the `type()` function. Let's check the type of `station_hel_kaivo` and the types of the values at indices `0-2`."
   ]
  },
  {
   "cell_type": "code",
   "execution_count": 22,
   "id": "4db15b94-6bd8-4157-b305-94739f9c32d1",
   "metadata": {},
   "outputs": [
    {
     "data": {
      "text/plain": [
       "list"
      ]
     },
     "execution_count": 22,
     "metadata": {},
     "output_type": "execute_result"
    }
   ],
   "source": [
    "type(station_hel_kaivo)"
   ]
  },
  {
   "cell_type": "code",
   "execution_count": 23,
   "id": "53005bba-416f-4f14-b3de-b6d56d8b15d8",
   "metadata": {},
   "outputs": [
    {
     "data": {
      "text/plain": [
       "str"
      ]
     },
     "execution_count": 23,
     "metadata": {},
     "output_type": "execute_result"
    }
   ],
   "source": [
    "type(station_hel_kaivo[0])  # The station name"
   ]
  },
  {
   "cell_type": "code",
   "execution_count": 24,
   "id": "0cb4b3cf-9887-4ffb-9134-9a0f72a911a1",
   "metadata": {},
   "outputs": [
    {
     "data": {
      "text/plain": [
       "int"
      ]
     },
     "execution_count": 24,
     "metadata": {},
     "output_type": "execute_result"
    }
   ],
   "source": [
    "type(station_hel_kaivo[1])  # The FMISID"
   ]
  },
  {
   "cell_type": "code",
   "execution_count": 25,
   "id": "b36e871e-f58b-4703-8364-b9e9e3747915",
   "metadata": {},
   "outputs": [
    {
     "data": {
      "text/plain": [
       "float"
      ]
     },
     "execution_count": 25,
     "metadata": {},
     "output_type": "execute_result"
    }
   ],
   "source": [
    "type(station_hel_kaivo[2])  # The station latitude"
   ]
  },
  {
   "cell_type": "markdown",
   "id": "f24b047e-4e1f-4a9f-915c-77a4785bec75",
   "metadata": {},
   "source": [
    "Note that although it is possible to have different types of data in a Python list, you are generally encouraged to create lists containing the same data types. Data science workflows are often built around handling collections of data of the same type and having multiple data types in a list may cause problems for software you are trying to use."
   ]
  },
  {
   "cell_type": "markdown",
   "id": "eba55b75-18c1-400a-9e0a-64c4950e8b39",
   "metadata": {},
   "source": [
    "## Common list operations\n",
    "\n",
    "### Adding and removing values from lists\n",
    "\n",
    "In addition to modifying list values, we can add and remove values from lists to change their content and lengths. Let’s consider that we no longer want to include the first value in the `station_names` list. Since we have not seen that `list` in a bit, let's first print it out."
   ]
  },
  {
   "cell_type": "code",
   "execution_count": 26,
   "id": "38228547-5a3d-4c4c-85ef-f29a77859857",
   "metadata": {},
   "outputs": [
    {
     "data": {
      "text/plain": [
       "['Helsinki Harmaja',\n",
       " 'Helsinki Kaisaniemi',\n",
       " 'Helsinki Kaivopuisto',\n",
       " 'Helsinki Kumpula']"
      ]
     },
     "execution_count": 26,
     "metadata": {},
     "output_type": "execute_result"
    }
   ],
   "source": [
    "station_names"
   ]
  },
  {
   "cell_type": "markdown",
   "id": "081582db-afc2-4170-8153-72171fe12d24",
   "metadata": {},
   "source": [
    "The `del` statement allows values in lists to be removed. It can also be used to delete values from memory in Python. To remove the first value from the `station_names` list, we can simply type `del station_names[0]`. If you then print out the `station_names` list, you should see the first value has been removed."
   ]
  },
  {
   "cell_type": "code",
   "execution_count": 27,
   "id": "16aaa2db-3ef9-4557-907c-39bfa841d14f",
   "metadata": {},
   "outputs": [],
   "source": [
    "del station_names[0]"
   ]
  },
  {
   "cell_type": "code",
   "execution_count": 28,
   "id": "c92ba73b-2f56-4bad-b529-b27cb174f792",
   "metadata": {},
   "outputs": [
    {
     "data": {
      "text/plain": [
       "['Helsinki Kaisaniemi', 'Helsinki Kaivopuisto', 'Helsinki Kumpula']"
      ]
     },
     "execution_count": 28,
     "metadata": {},
     "output_type": "execute_result"
    }
   ],
   "source": [
    "station_names"
   ]
  },
  {
   "cell_type": "markdown",
   "id": "58d302da-e9f3-4b35-8ec1-f52376526200",
   "metadata": {},
   "source": [
    "In addition to the `del` statement, there are two other common approaches for removing items from lists in Python. Let's consider both with an example list called `demo_list`.\n",
    "\n",
    "- `demo_list.remove(value)`: Will iterate over the list `demo_list` and remove the first item with a value equal to `value`\n",
    "- `demo_list.pop(index)`: Will remove the item at index `index` from the list `demo_list`"
   ]
  },
  {
   "cell_type": "markdown",
   "id": "a476a29c-d0d7-41d6-84fc-f3714f1ddd77",
   "metadata": {},
   "source": [
    "If we would instead like to add a few more stations to the `station_names` list, we can type `station_names.append('List item to add')`, where `'List item to add'` would be the text, for example, that would be added as a new item in the list. Let's add two values to our `list`: `'Helsinki lighthouse'` and `'Helsinki Malmi airfield'` and check the list contents after this."
   ]
  },
  {
   "cell_type": "code",
   "execution_count": 29,
   "id": "76e59bd8-d1de-4d29-8d2e-085548eaeb02",
   "metadata": {},
   "outputs": [],
   "source": [
    "station_names.append(\"Helsinki lighthouse\")\n",
    "station_names.append(\"Helsinki Malmi airfield\")"
   ]
  },
  {
   "cell_type": "code",
   "execution_count": 30,
   "id": "6dacecc2-65fc-4e22-ade2-e9e8bb8ac4d0",
   "metadata": {},
   "outputs": [
    {
     "data": {
      "text/plain": [
       "['Helsinki Kaisaniemi',\n",
       " 'Helsinki Kaivopuisto',\n",
       " 'Helsinki Kumpula',\n",
       " 'Helsinki lighthouse',\n",
       " 'Helsinki Malmi airfield']"
      ]
     },
     "execution_count": 30,
     "metadata": {},
     "output_type": "execute_result"
    }
   ],
   "source": [
    "station_names"
   ]
  },
  {
   "cell_type": "markdown",
   "id": "e2fa2350-79f9-469f-8023-55ced6f35a08",
   "metadata": {},
   "source": [
    "As you can see, we add values one at a time using `station_names.append()`. `list.append()` is called a {term}`method` in Python, which is a function that works for a given data type (a list in this case)."
   ]
  },
  {
   "cell_type": "markdown",
   "id": "7df1f334-e3e3-42a1-a11b-5e76db1bf45b",
   "metadata": {},
   "source": [
    "### Caution: Data types and their methods\n",
    "\n",
    "Let’s consider our `station_names` list. As we know, we already have data in the list `station_names` and we can modify that data using built-in methods such as `station_names.append()`. In this case, the method `.append()` is something that exists for the `list` data type, but not for other data types. It is intuitive that you might like to add (or append) things to a list, but perhaps it does not make sense to append to other data types. Let's create a variable `station_name_length` that we can use to store the length of the list `station_names`. We can then print the value of `station_name_length` to confirm the length is correct."
   ]
  },
  {
   "cell_type": "code",
   "execution_count": 31,
   "id": "053c8301-92e9-4182-bea5-0477f5b30264",
   "metadata": {},
   "outputs": [],
   "source": [
    "station_name_length = len(station_names)"
   ]
  },
  {
   "cell_type": "code",
   "execution_count": 32,
   "id": "cf2c0bd3-fe0d-4db1-badb-b4b8667943cc",
   "metadata": {},
   "outputs": [
    {
     "data": {
      "text/plain": [
       "5"
      ]
     },
     "execution_count": 32,
     "metadata": {},
     "output_type": "execute_result"
    }
   ],
   "source": [
    "station_name_length"
   ]
  },
  {
   "cell_type": "markdown",
   "id": "19728279-7180-40a5-ab86-9f8a60886e66",
   "metadata": {},
   "source": [
    "If we check the data type of `station_name_length`, we can see it is an integer value as expected."
   ]
  },
  {
   "cell_type": "code",
   "execution_count": 33,
   "id": "afc0324f-9f28-45d9-b348-98172c2db825",
   "metadata": {},
   "outputs": [
    {
     "data": {
      "text/plain": [
       "int"
      ]
     },
     "execution_count": 33,
     "metadata": {},
     "output_type": "execute_result"
    }
   ],
   "source": [
    "type(station_name_length)"
   ]
  },
  {
   "cell_type": "markdown",
   "id": "0fd60d0b-8e21-4818-a7fe-c2de92fb40d0",
   "metadata": {},
   "source": [
    "Let's see what happens if we try to append the value `1` to `station_name_length`."
   ]
  },
  {
   "cell_type": "code",
   "execution_count": 34,
   "id": "2d7f9d09-56be-411f-8a34-b8c271a9ada0",
   "metadata": {
    "tags": [
     "raises-exception"
    ]
   },
   "outputs": [
    {
     "ename": "AttributeError",
     "evalue": "'int' object has no attribute 'append'",
     "output_type": "error",
     "traceback": [
      "\u001b[0;31m---------------------------------------------------------------------------\u001b[0m",
      "\u001b[0;31mAttributeError\u001b[0m                            Traceback (most recent call last)",
      "Cell \u001b[0;32mIn[34], line 1\u001b[0m\n\u001b[0;32m----> 1\u001b[0m \u001b[43mstation_name_length\u001b[49m\u001b[38;5;241;43m.\u001b[39;49m\u001b[43mappend\u001b[49m(\u001b[38;5;241m1\u001b[39m)\n",
      "\u001b[0;31mAttributeError\u001b[0m: 'int' object has no attribute 'append'"
     ]
    }
   ],
   "source": [
    "station_name_length.append(1)"
   ]
  },
  {
   "cell_type": "markdown",
   "id": "177bfffd-965b-4b34-9820-ccffaffacd66",
   "metadata": {},
   "source": [
    "Here we get an `AttributeError` because there is no method built in to the `int` data type to append to `int` data. While `.append()` makes sense for `list` data, it is not sensible for `int` data, which is the reason no such method exists for `int` data."
   ]
  },
  {
   "cell_type": "markdown",
   "id": "4f3208b3-73e5-4575-a43c-64f009694dca",
   "metadata": {},
   "source": [
    "### Counting and locating values in lists\n",
    "\n",
    "With lists we can do a number of useful things, such as count the number of times a value occurs in a list or where it occurs. The `.count()` method can be used to find the number of instances of an item in a list. For instance, we can check to see how many times `'Helsinki Kumpula'` occurs in our list `station_names` by typing `station_names.count('Helsinki Kumpula')`. "
   ]
  },
  {
   "cell_type": "code",
   "execution_count": 35,
   "id": "a23b070a-f5b1-4966-830f-007c187b07e4",
   "metadata": {},
   "outputs": [
    {
     "data": {
      "text/plain": [
       "1"
      ]
     },
     "execution_count": 35,
     "metadata": {},
     "output_type": "execute_result"
    }
   ],
   "source": [
    "station_names.count(\"Helsinki Kumpula\")"
   ]
  },
  {
   "cell_type": "markdown",
   "id": "cbc321ba-6592-4ca9-9fc4-cbb82fae5fa0",
   "metadata": {},
   "source": [
    "Similarly, we can use the `.index()` method to find the index value of a given item in a list. Let's find the index of `'Helsinki Kumpula'` in the `station_names` list."
   ]
  },
  {
   "cell_type": "code",
   "execution_count": 36,
   "id": "34930848-c8f1-4582-9bc0-5fbceaa46257",
   "metadata": {},
   "outputs": [
    {
     "data": {
      "text/plain": [
       "2"
      ]
     },
     "execution_count": 36,
     "metadata": {},
     "output_type": "execute_result"
    }
   ],
   "source": [
    "station_names.index(\"Helsinki Kumpula\")"
   ]
  },
  {
   "cell_type": "markdown",
   "id": "5c5a3e66-c703-442b-bf1a-4bc9a4d981a8",
   "metadata": {},
   "source": [
    "The good news here is that our selected station name is only in the list once. Should we need to modify it for some reason, we also now know where it is in the list (index `2`).\n",
    "\n",
    "There are two other common methods for lists that are quite useful. "
   ]
  },
  {
   "cell_type": "markdown",
   "id": "d19a7301-b2d2-4f69-b84f-e80cd51ff4ba",
   "metadata": {},
   "source": [
    "### Reversing a list\n",
    "\n",
    "The `.reverse()` method can be used to reverse the order of items in a list. Let's reverse our `station_names` list and then print the results."
   ]
  },
  {
   "cell_type": "code",
   "execution_count": 37,
   "id": "ab925aca-9729-49b1-85f2-a03d7918267f",
   "metadata": {},
   "outputs": [],
   "source": [
    "station_names.reverse()"
   ]
  },
  {
   "cell_type": "code",
   "execution_count": 38,
   "id": "d6d50eb9-4c44-4165-9f95-dd7090bc7f6f",
   "metadata": {},
   "outputs": [
    {
     "data": {
      "text/plain": [
       "['Helsinki Malmi airfield',\n",
       " 'Helsinki lighthouse',\n",
       " 'Helsinki Kumpula',\n",
       " 'Helsinki Kaivopuisto',\n",
       " 'Helsinki Kaisaniemi']"
      ]
     },
     "execution_count": 38,
     "metadata": {},
     "output_type": "execute_result"
    }
   ],
   "source": [
    "station_names"
   ]
  },
  {
   "cell_type": "markdown",
   "id": "eddd47a8-4c54-4ea1-86ae-c88d0b04293e",
   "metadata": {},
   "source": [
    "Yay, it works! A common mistake when reversing lists is to do something like `station_names = station_names.reverse()`. **Do not do this!** When reversing lists with `.reverse()` the `None` value is returned (this is why there is no screen ouput when running `station_names.reverse()`). If you then assign the output of `station_names.reverse()` to `station_names` you will reverse the list but then overwrite its contents with the returned value `None`. This means you’ve deleted the contents of your list!"
   ]
  },
  {
   "cell_type": "markdown",
   "id": "eae4bf7b-5162-4aa6-b6de-da3c2a08a922",
   "metadata": {},
   "source": [
    "### Sorting a list\n",
    "\n",
    "The `.sort()` method works the same way as reversing a list. Let's sort our `station_names` list and print its contents."
   ]
  },
  {
   "cell_type": "code",
   "execution_count": 39,
   "id": "e2ec1cd7-c887-4750-985a-8e4dfe2f7099",
   "metadata": {},
   "outputs": [],
   "source": [
    "station_names.sort()  # Notice no output here..."
   ]
  },
  {
   "cell_type": "code",
   "execution_count": 40,
   "id": "f0e0f163-3fc4-455a-8e7c-bc78c2360513",
   "metadata": {},
   "outputs": [
    {
     "data": {
      "text/plain": [
       "['Helsinki Kaisaniemi',\n",
       " 'Helsinki Kaivopuisto',\n",
       " 'Helsinki Kumpula',\n",
       " 'Helsinki Malmi airfield',\n",
       " 'Helsinki lighthouse']"
      ]
     },
     "execution_count": 40,
     "metadata": {},
     "output_type": "execute_result"
    }
   ],
   "source": [
    "station_names"
   ]
  },
  {
   "cell_type": "markdown",
   "id": "b4348c1a-55b0-462d-8ca0-f7a1c353e19f",
   "metadata": {},
   "source": [
    "As you can see, the list has been sorted alphabetically using the `.sort()` method, but there is no screen output when this occurs. Again, if you were to assign that output to `station_names` the list would get sorted but the contents would then be assigned `None`. And as you may have noticed, `Helsinki Malmi airfield` comes before `Helsinki lighthouse` in the sorted list. This is because alphabetical sorting in Python places capital letters before lowercase letters."
   ]
  },
  {
   "cell_type": "markdown",
   "id": "2db084d0-9dcf-4129-b454-758ddd5db7ea",
   "metadata": {
    "editable": true,
    "slideshow": {
     "slide_type": ""
    },
    "tags": []
   },
   "source": [
    "## Footnotes\n",
    "\n",
    "[^FMI_stations]: <http://en.ilmatieteenlaitos.fi/observation-stations>"
   ]
  }
 ],
 "metadata": {
  "kernelspec": {
   "display_name": "Python 3 (ipykernel)",
   "language": "python",
   "name": "python3"
  },
  "language_info": {
   "codemirror_mode": {
    "name": "ipython",
    "version": 3
   },
   "file_extension": ".py",
   "mimetype": "text/x-python",
   "name": "python",
   "nbconvert_exporter": "python",
   "pygments_lexer": "ipython3",
   "version": "3.12.5"
  }
 },
 "nbformat": 4,
 "nbformat_minor": 5
}
