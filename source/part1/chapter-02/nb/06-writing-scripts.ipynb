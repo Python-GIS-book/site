{
 "cells": [
  {
   "cell_type": "markdown",
   "metadata": {
    "editable": true,
    "slideshow": {
     "slide_type": ""
    },
    "tags": []
   },
   "source": [
    "# Writing script files\n",
    "\n",
    "Up to this point we have been keeping our Python code and Markdown comments in a single Jupyter notebook document.\n",
    "This is great, but there are some cases, like when you have long Python code blocks or a set of functions used in many notebooks, in which you may want to have Python code in a separate document to make sure your Jupyter notebook is easy to read (and use).\n",
    "An alternative to typing in all of the commands you would like to run is the list them in a Python *{term}`script`* file.\n",
    "A Python script file is simply a file containing a list of the commands you would like to run, normally with one command per line, and formatted in the same way as if you were to type them in.\n",
    "Python script files traditionally use the `.py` file extension in their names."
   ]
  },
  {
   "cell_type": "markdown",
   "metadata": {},
   "source": [
    "## The general concept of a script file\n",
    "\n",
    "Because a Python script file is simply a list of commands that you might otherwise type into a Python cell in a Jupyter notebook or a Python console, we can quite easily create a basic script file and test things out."
   ]
  },
  {
   "cell_type": "markdown",
   "metadata": {
    "editable": true,
    "slideshow": {
     "slide_type": ""
    },
    "tags": []
   },
   "source": [
    "### Getting started\n",
    "\n",
    "First, we need to create a new text file by clicking on **File** -> **New** -> **Python File** in the JupyterLab menu bar.\n",
    "\n",
    "![_**Figure 2.5**. Creating a new Python file in JupyterLab._](../img/new-python-file.png)\n",
    "\n",
    "_**Figure 2.5**. Creating a new Python file in JupyterLab._\n",
    "\n",
    "This will create a new tab in your JupyterLab window that should look something like that below, a blank slate.\n",
    "\n",
    "![_**Figure 2.6**. The new empty Python file in JupyterLab._](../img/new-python-tab.png)\n",
    "\n",
    "_**Figure 2.6**. Creating a new Python file in JupyterLab._\n",
    "\n",
    "Start by copying and pasting the text below into your new text file editor panel.\n",
    "\n",
    "```python\n",
    "def celsius_to_fahr(temp_celsius):\n",
    "    return 9/5 * temp_celsius + 32\n",
    "```"
   ]
  },
  {
   "cell_type": "markdown",
   "metadata": {
    "editable": true,
    "slideshow": {
     "slide_type": ""
    },
    "tags": []
   },
   "source": [
    "## Saving a Python file\n",
    "\n",
    "As it turns out, Python scripts are just regular text files with the `.py` file extension to identify them as source code for Python. By default, new Python files in JupyterLab will have the name `untitled.py`. You can rename the file by right clicking on the `untitled.py` file in the file browser and renaming it `temp_converter.py`.\n",
    "\n",
    "![_**Figure 2.7**. Renaming a file in JupyterLab._](../img/rename-python-file-part-1.png)\n",
    "\n",
    "_**Figure 2.7**. Renaming a file in JupyterLab._\n",
    "\n",
    "![_**Figure 2.8**. File renaming dialog in JupyterLab._](../img/rename-python-file-part-2.png)\n",
    "\n",
    "_**Figure 2.8**. Renaming a file in JupyterLab._\n",
    "\n",
    "Be sure to save your `temp_converter.py` file after making your changes. We'll return later to some best practices for writing script files, but for now let's continue with how to use our functions saved in the Python file we just created."
   ]
  },
  {
   "cell_type": "markdown",
   "metadata": {
    "editable": true,
    "slideshow": {
     "slide_type": ""
    },
    "tags": []
   },
   "source": [
    "## Saving and loading functions\n",
    "\n",
    "Naturally, after saving functions such as the one above to a script file, it is important to know how to access those functions from within a Juypter notebook. As noted earlier, quite often it is useful to create a dedicated function library for functions that you use frequently when doing data analysis, for example. Basically this is done by listing useful functions in a single `.py` file from which you can then import and use them whenever needed."
   ]
  },
  {
   "cell_type": "markdown",
   "metadata": {
    "editable": true,
    "slideshow": {
     "slide_type": ""
    },
    "tags": []
   },
   "source": [
    "### Saving functions in a script file\n",
    "\n",
    "Before we move on to discussing how to use functions in a script file, let's add a few more functions we have been using to our script. Simply copy and paste the text below into your `temp_converter.py` file leaving two blank lines between each function.\n",
    "\n",
    "```python\n",
    "def kelvins_to_celsius(temp_kelvins):\n",
    "    return temp_kelvins - 273.15\n",
    "\n",
    "\n",
    "def kelvins_to_fahr(temp_kelvins):\n",
    "    temp_celsius = kelvins_to_celsius(temp_kelvins)\n",
    "    temp_fahr = celsius_to_fahr(temp_celsius)\n",
    "    return temp_fahr\n",
    "```\n",
    "\n",
    "Don't forget to save your changes!"
   ]
  },
  {
   "cell_type": "markdown",
   "metadata": {
    "editable": true,
    "slideshow": {
     "slide_type": ""
    },
    "tags": []
   },
   "source": [
    "## Calling functions from a script file\n",
    "\n",
    "Now that we have saved our temperature conversion functions into a script file we can start using them."
   ]
  },
  {
   "cell_type": "markdown",
   "metadata": {},
   "source": [
    "### Making sure we're in the right working directory\n",
    "\n",
    "Hopefully you have saved your `temp_converter.py` file in the same location as this Jupyter notebook (`06-writing-scripts.ipynb`). If so, that's good, but we need to do one more thing to be able to start working with the script file. We need to change the working directory in Jupyter Lab to be the one where the `temp_converter.py` exists.\n",
    "\n",
    "First, we can see which files are present in the directory where we are currently working using an IPython magic command called `%ls`."
   ]
  },
  {
   "cell_type": "code",
   "execution_count": 1,
   "metadata": {
    "editable": true,
    "slideshow": {
     "slide_type": ""
    },
    "tags": []
   },
   "outputs": [
    {
     "name": "stdout",
     "output_type": "stream",
     "text": [
      "0-learning-objectives.ipynb      05-functions.ipynb\n",
      "00-python-basics.ipynb           06-writing-scripts.ipynb\n",
      "01-lists-and-indices.ipynb       07-modules.ipynb\n",
      "02-text-and-numbers.ipynb        08-exercises.ipynb\n",
      "03-for-loops.ipynb               temp_converter.py\n",
      "04-conditional-statements.ipynb\n"
     ]
    }
   ],
   "source": [
    "%ls"
   ]
  },
  {
   "cell_type": "markdown",
   "metadata": {
    "editable": true,
    "slideshow": {
     "slide_type": ""
    },
    "tags": []
   },
   "source": [
    "`%ls` allows us to see the files located in the directory where we are currently working. Your output from `%ls` may look different than that above, but don't worry. As long as you see the file `temp_converter.py`, you should be all set to proceed.\n",
    "\n",
    "If you do not see the `temp_converter.py` file in the list of files from `%ls`, then you will need to take an additional few steps, which differ depending on what files you see.\n",
    "\n",
    "- If you see the list of notebooks above (e.g., `00-motivation.ipynb`, `01-computers-and-programs.ipynb`, ...) but do note see the `temp_converter.py` file, then you should make sure you have saved the `temp_converter.py` file in the notebooks directory for Chapter 2. The easiest way to do this would be to use the file browser in JupyterLab, find the `temp_converter.py` file, right click on it and select **Copy**, navigate to the `part1/chapter-02/nb` directory in the file browser, and right click again in the space beneath the list of files to paste a copy of the `temp_converter.py` file in that location.\n",
    "- If you do not see the list of notebooks above, you may need to change directories to be in the Chapter 2 notebooks directory. For example, if you see\n",
    "\n",
    "    ```bash\n",
    "    _static          conf.py          index.rst        requirements.txt\n",
    "    authors.rst      data             part1\n",
    "    back-matter      environment.rst  part2\n",
    "    bibtex.json      front-matter     part3\n",
    "    ```\n",
    "\n",
    "    you are working in the base `source` directory. You can change directories to the notebooks directory for Chapter 2 by typing\n",
    "\n",
    "    ```ipython\n",
    "    %cd part1/chapter-02/nb\n",
    "    ```\n",
    "\n",
    "\n",
    "### Confirming we are in the correct directory\n",
    "\n",
    "If all has gone well you should now see `temp_converter.py` among the files when you type `%ls` in a Python cell. Try that out below."
   ]
  },
  {
   "cell_type": "code",
   "execution_count": 2,
   "metadata": {
    "editable": true,
    "slideshow": {
     "slide_type": ""
    },
    "tags": []
   },
   "outputs": [
    {
     "name": "stdout",
     "output_type": "stream",
     "text": [
      "0-learning-objectives.ipynb      05-functions.ipynb\n",
      "00-python-basics.ipynb           06-writing-scripts.ipynb\n",
      "01-lists-and-indices.ipynb       07-modules.ipynb\n",
      "02-text-and-numbers.ipynb        08-exercises.ipynb\n",
      "03-for-loops.ipynb               temp_converter.py\n",
      "04-conditional-statements.ipynb\n"
     ]
    }
   ],
   "source": [
    "%ls"
   ]
  },
  {
   "cell_type": "markdown",
   "metadata": {},
   "source": [
    "If you see `temp_converter.py` in the list of files above you are all set to continue."
   ]
  },
  {
   "cell_type": "markdown",
   "metadata": {
    "editable": true,
    "slideshow": {
     "slide_type": ""
    },
    "tags": []
   },
   "source": [
    "### Importing our script functions\n",
    "\n",
    "Let's now import our `celsius_to_fahr()` function from the `temp_converter.py` script file by adding a specific `import` statement in the Python cell below: `from temp_converter import celsius_to_fahr`"
   ]
  },
  {
   "cell_type": "code",
   "execution_count": 3,
   "metadata": {
    "editable": true,
    "slideshow": {
     "slide_type": ""
    },
    "tags": [
     "remove_cell"
    ]
   },
   "outputs": [
    {
     "name": "stdout",
     "output_type": "stream",
     "text": [
      "/Users/whipp/Work/Research/manuscripts/drafts/Python-GIS-book/site-git/source/_static/part1/chapter-02\n"
     ]
    }
   ],
   "source": [
    "# DO NOT RUN THIS CELL\n",
    "# This cell is only needed for generating the web page and book documents\n",
    "%cd ../../../_static/part1/chapter-02/"
   ]
  },
  {
   "cell_type": "code",
   "execution_count": 4,
   "metadata": {
    "editable": true,
    "slideshow": {
     "slide_type": ""
    },
    "tags": [
     "raises-exception"
    ]
   },
   "outputs": [],
   "source": [
    "from temp_converter import celsius_to_fahr"
   ]
  },
  {
   "cell_type": "markdown",
   "metadata": {
    "editable": true,
    "slideshow": {
     "slide_type": ""
    },
    "tags": []
   },
   "source": [
    "### Using our script functions\n",
    "\n",
    "Let's now use the function so that we can see that it is working. We can print the temperature in Fahrenheit at which water freezes using our `celsius_to_fahr()` function in the cell below."
   ]
  },
  {
   "cell_type": "code",
   "execution_count": 5,
   "metadata": {
    "editable": true,
    "slideshow": {
     "slide_type": ""
    },
    "tags": []
   },
   "outputs": [
    {
     "name": "stdout",
     "output_type": "stream",
     "text": [
      "The freezing point of water in Fahrenheit is: 32.0\n"
     ]
    }
   ],
   "source": [
    "print(f\"The freezing point of water in Fahrenheit is: {celsius_to_fahr(0)}\")"
   ]
  },
  {
   "cell_type": "markdown",
   "metadata": {
    "editable": true,
    "slideshow": {
     "slide_type": ""
    },
    "tags": []
   },
   "source": [
    "You should get following output:\n",
    "\n",
    "```code\n",
    "The freezing point of water in Fahrenheit is: 32.0\n",
    "```"
   ]
  },
  {
   "cell_type": "markdown",
   "metadata": {},
   "source": [
    "### Other ways of importing functions\n",
    "\n",
    "It is also possible to import more than one function at a time by listing and separating them with a comma.\n",
    "\n",
    "```python\n",
    "from my_script import func1, func2, func3\n",
    "```\n",
    "\n",
    "Additionally, it is sometimes useful to import the whole script and all of its functions at once. This can be done using a different `import` statement, which we can use and then test that all of the imported functions work. This time we can type `import temp_converter as tc`."
   ]
  },
  {
   "cell_type": "code",
   "execution_count": 6,
   "metadata": {
    "editable": true,
    "slideshow": {
     "slide_type": ""
    },
    "tags": [
     "raises-exception"
    ]
   },
   "outputs": [],
   "source": [
    "import temp_converter as tc"
   ]
  },
  {
   "cell_type": "markdown",
   "metadata": {
    "editable": true,
    "slideshow": {
     "slide_type": ""
    },
    "tags": []
   },
   "source": [
    "Just like the examples we have seen earlier with the `math` library, such as using `math.sin()`, we can now use our functions such as `tc.celsius_to_fahr()`. In the cells below, test our functions as they were used above by printing the freezing point of water in Fahrenheit, absolute zero in Celsius, and absolute zero in Fahrenheit."
   ]
  },
  {
   "cell_type": "code",
   "execution_count": 7,
   "metadata": {
    "editable": true,
    "slideshow": {
     "slide_type": ""
    },
    "tags": [
     "raises-exception"
    ]
   },
   "outputs": [
    {
     "name": "stdout",
     "output_type": "stream",
     "text": [
      "The freezing point of water in Fahrenheit is: 32.0\n"
     ]
    }
   ],
   "source": [
    "print(f\"The freezing point of water in Fahrenheit is: {tc.celsius_to_fahr(0)}\")"
   ]
  },
  {
   "cell_type": "code",
   "execution_count": 8,
   "metadata": {
    "editable": true,
    "slideshow": {
     "slide_type": ""
    },
    "tags": [
     "raises-exception"
    ]
   },
   "outputs": [
    {
     "name": "stdout",
     "output_type": "stream",
     "text": [
      "Absolute zero in Celsius is: -273.15\n"
     ]
    }
   ],
   "source": [
    "print(f\"Absolute zero in Celsius is: {tc.kelvins_to_celsius(temp_kelvins=0)}\")"
   ]
  },
  {
   "cell_type": "code",
   "execution_count": 9,
   "metadata": {
    "editable": true,
    "slideshow": {
     "slide_type": ""
    },
    "tags": [
     "raises-exception"
    ]
   },
   "outputs": [
    {
     "name": "stdout",
     "output_type": "stream",
     "text": [
      "Absolute zero in Fahrenheit is: -459.66999999999996\n"
     ]
    }
   ],
   "source": [
    "print(f\"Absolute zero in Fahrenheit is: {tc.kelvins_to_fahr(temp_kelvins=0)}\")"
   ]
  },
  {
   "cell_type": "markdown",
   "metadata": {
    "editable": true,
    "slideshow": {
     "slide_type": ""
    },
    "tags": []
   },
   "source": [
    "## Creating a temperature calculator\n",
    "\n",
    "The functions above have had only one parameter, but now we will add another function with multiple parameters. In this case we will create a simple `temp_calculator()` function that accepts temperatures in Kelvins and returns either Celsius or Fahrenheit. The new function will have two parameters:\n",
    "\n",
    "- `temp_k` = The parameter for passing temperature in Kelvins\n",
    "- `convert_to` = The parameter that determines whether the output should be in degrees Celsius or Fahrenheit (using the letters `C` or `F`)"
   ]
  },
  {
   "cell_type": "markdown",
   "metadata": {
    "editable": true,
    "slideshow": {
     "slide_type": ""
    },
    "tags": []
   },
   "source": [
    "### Defining the function\n",
    "\n",
    "Let's start defining our function by giving it a name and listing the parameters.\n",
    "\n",
    "```python\n",
    "def temp_calculator(temp_k, convert_to):\n",
    "```"
   ]
  },
  {
   "cell_type": "markdown",
   "metadata": {
    "editable": true,
    "slideshow": {
     "slide_type": ""
    },
    "tags": []
   },
   "source": [
    "### Adding some conditional statements\n",
    "\n",
    "Next, we need to add conditional statements that check whether the desired output temperature should be in degrees Celsius or Fahrenheit, and then call the corresponding function from the `temp_converter.py` script file.\n",
    "\n",
    "```python\n",
    "def temp_calculator(temp_k, convert_to):\n",
    "    # Check if the user wants temperatures in Celsius\n",
    "    if convert_to == \"C\":\n",
    "        # Convert the value to Celsius using the dedicated function for\n",
    "        # the task from the temp_converter.py script file\n",
    "        converted_temp = kelvins_to_celsius(temp_kelvins=temp_k)\n",
    "    elif convert_to == \"F\":\n",
    "        # Convert the value to Fahrenheit using the dedicated function\n",
    "        # for the task from the temp_converter.py script file\n",
    "        converted_temp = kelvins_to_fahr(temp_kelvins=temp_k)\n",
    "```"
   ]
  },
  {
   "cell_type": "markdown",
   "metadata": {
    "editable": true,
    "slideshow": {
     "slide_type": ""
    },
    "tags": []
   },
   "source": [
    "### Returning the result\n",
    "\n",
    "Next, we need to add a `return` statement so that our function sends back the value that we are interested in.\n",
    "\n",
    "```python\n",
    "def temp_calculator(temp_k, convert_to):\n",
    "    # Check if the user wants temperatures in Celsius\n",
    "    if convert_to == \"C\":\n",
    "        # Convert the value to Celsius using the dedicated function for\n",
    "        # the task from the temp_converter.py script file\n",
    "        converted_temp = kelvins_to_celsius(temp_kelvins=temp_k)\n",
    "    elif convert_to == \"F\":\n",
    "        # Convert the value to Fahrenheit using the dedicated function\n",
    "        # for the task from the temp_converter.py script file\n",
    "        converted_temp = kelvins_to_fahr(temp_kelvins=temp_k)\n",
    "    # Return the result\n",
    "    return converted_temp\n",
    "```"
   ]
  },
  {
   "cell_type": "markdown",
   "metadata": {
    "editable": true,
    "slideshow": {
     "slide_type": ""
    },
    "tags": []
   },
   "source": [
    "### Adding a docstring\n",
    "\n",
    "Finally, since we want to be good programmers, we should add a short docstring at the beginning of our function that explains what the function does and how the parameters work.\n",
    "\n",
    "```python\n",
    "def temp_calculator(temp_k, convert_to):\n",
    "    \"\"\"\n",
    "    Converts temperature in Kelvins to Celsius or Fahrenheit.\n",
    "\n",
    "    Parameters\n",
    "    ----------\n",
    "    temp_k: <numerical>\n",
    "        Temperature in Kelvins\n",
    "    convert_to: <str>\n",
    "        Target temperature that can be either Celsius ('C') or\n",
    "        Fahrenheit ('F'). Supported values: 'C' | 'F'\n",
    "\n",
    "    Returns\n",
    "    -------\n",
    "    <float>\n",
    "        Converted temperature.\n",
    "    \"\"\"\n",
    "\n",
    "    # Check if the user wants temperatures in Celsius\n",
    "    if convert_to == \"C\":\n",
    "        # Convert the value to Celsius using the dedicated function for\n",
    "        # the task from the temp_converter.py script file\n",
    "        converted_temp = kelvins_to_celsius(temp_kelvins=temp_k)\n",
    "    elif convert_to == \"F\":\n",
    "        # Convert the value to Fahrenheit using the dedicated function\n",
    "        # for the task from the temp_converter.py script file\n",
    "        converted_temp = kelvins_to_fahr(temp_kelvins=temp_k)\n",
    "    # Return the result\n",
    "    return converted_temp\n",
    "```\n",
    "\n",
    "At this point, we can copy and paste the function into the `temp_converter.py` script file and proceed to testing things out."
   ]
  },
  {
   "cell_type": "markdown",
   "metadata": {
    "editable": true,
    "slideshow": {
     "slide_type": ""
    },
    "tags": []
   },
   "source": [
    "### Testing the new function\n",
    "\n",
    "Now we have a temperature calculator that has a simple option that allows the user to select the temperature unit for output using the `convert_to` parameter. \n",
    "\n",
    "At this point we need to re-import the functions from the `temp_calculator.py` script file. However, when working in a Jupyter Notebook, reloading modules can be a bit challenging. The easiest option is to restart the IPython kernel by going to **Kernel** -> **Restart kernel...** in the menu bar. Note that this will delete all variables currently stored in memory in the Jupyter notebook you're using, so you may need to re-run some cells. After restarting the kernel, you can re-import the functions from the `temp_converter.py` script file by typing:\n",
    "\n",
    "```python\n",
    "import temp_converter as tc\n",
    "```\n",
    "\n",
    "We can check that this step worked as expected by using the `help()` function in Python to see how our function should be used (since we added a short docstring at the beginning of the function). Try running `help(temp_calculator)` in the cell below to see the docstring."
   ]
  },
  {
   "cell_type": "code",
   "execution_count": 10,
   "metadata": {
    "editable": true,
    "slideshow": {
     "slide_type": ""
    },
    "tags": [
     "raises-exception"
    ]
   },
   "outputs": [
    {
     "name": "stdout",
     "output_type": "stream",
     "text": [
      "Help on function temp_calculator in module temp_converter:\n",
      "\n",
      "temp_calculator(temp_k, convert_to)\n",
      "    Function for converting temperature in Kelvins to Celsius or Fahrenheit.\n",
      "\n",
      "    Parameters\n",
      "    ----------\n",
      "    temp_k: <numerical>\n",
      "        Temperature in Kelvins\n",
      "    convert_to: <str>\n",
      "        Target temperature that can be either Celsius ('C') or Fahrenheit ('F'). Supported values: 'C' | 'F'\n",
      "\n",
      "    Returns\n",
      "    -------\n",
      "    <float>\n",
      "        Converted temperature.\n",
      "\n"
     ]
    }
   ],
   "source": [
    "help(tc.temp_calculator)"
   ]
  },
  {
   "cell_type": "markdown",
   "metadata": {
    "editable": true,
    "slideshow": {
     "slide_type": ""
    },
    "tags": []
   },
   "source": [
    "### Using the temp calculator function\n",
    "\n",
    "Finally, let's see how our function works!"
   ]
  },
  {
   "cell_type": "code",
   "execution_count": 11,
   "metadata": {
    "editable": true,
    "slideshow": {
     "slide_type": ""
    },
    "tags": []
   },
   "outputs": [],
   "source": [
    "temp_kelvin = 30"
   ]
  },
  {
   "cell_type": "code",
   "execution_count": 12,
   "metadata": {
    "editable": true,
    "slideshow": {
     "slide_type": ""
    },
    "tags": [
     "raises-exception"
    ]
   },
   "outputs": [],
   "source": [
    "temperature_c = tc.temp_calculator(temp_k=temp_kelvin, convert_to=\"C\")"
   ]
  },
  {
   "cell_type": "code",
   "execution_count": 13,
   "metadata": {
    "editable": true,
    "slideshow": {
     "slide_type": ""
    },
    "tags": [
     "raises-exception"
    ]
   },
   "outputs": [
    {
     "name": "stdout",
     "output_type": "stream",
     "text": [
      "30 Kelvins is -243.15 degrees Celsius.\n"
     ]
    }
   ],
   "source": [
    "print(f\"{temp_kelvin} Kelvins is {temperature_c:.2f} degrees Celsius.\")"
   ]
  }
 ],
 "metadata": {
  "kernelspec": {
   "display_name": "Python 3 (ipykernel)",
   "language": "python",
   "name": "python3"
  },
  "language_info": {
   "codemirror_mode": {
    "name": "ipython",
    "version": 3
   },
   "file_extension": ".py",
   "mimetype": "text/x-python",
   "name": "python",
   "nbconvert_exporter": "python",
   "pygments_lexer": "ipython3",
   "version": "3.12.5"
  }
 },
 "nbformat": 4,
 "nbformat_minor": 4
}
