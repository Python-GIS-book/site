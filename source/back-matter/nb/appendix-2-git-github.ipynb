{
 "cells": [
  {
   "cell_type": "markdown",
   "id": "476c94f8-ff9e-460c-96d9-0e204545295b",
   "metadata": {},
   "source": [
    "# A.3 Version control with git/GitHub"
   ]
  },
  {
   "cell_type": "markdown",
   "id": "53310c9f-a259-484c-a0e4-5a285efa3757",
   "metadata": {},
   "source": [
    "Content to be added."
   ]
  },
  {
   "cell_type": "code",
   "execution_count": null,
   "id": "6799a0a8-e0c7-4c6f-89ab-a9db8dbaf2cd",
   "metadata": {},
   "outputs": [],
   "source": []
  }
 ],
 "metadata": {
  "kernelspec": {
   "display_name": "Python 3 (ipykernel)",
   "language": "python",
   "name": "python3"
  },
  "language_info": {
   "codemirror_mode": {
    "name": "ipython",
    "version": 3
   },
   "file_extension": ".py",
   "mimetype": "text/x-python",
   "name": "python",
   "nbconvert_exporter": "python",
   "pygments_lexer": "ipython3",
   "version": "3.12.5"
  }
 },
 "nbformat": 4,
 "nbformat_minor": 5
}
