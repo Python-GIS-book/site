{
 "cells": [
  {
   "cell_type": "markdown",
   "id": "fc22eab9-bbb8-4f50-8b15-3733153b42ab",
   "metadata": {},
   "source": [
    "# Python programming best practices"
   ]
  },
  {
   "cell_type": "markdown",
   "id": "5bff4703-4d5f-4b06-904c-d5fedd680ee3",
   "metadata": {},
   "source": [
    "This book aims to introduce you to programming in Python, but also to good programming practices. These comprise practical tips based on practices used by professional programmers that help them write better programs that are easier to understand and share with others. To say it differently, there are many ways to learn to program and we want to help you learn how to program the right way!"
   ]
  },
  {
   "cell_type": "markdown",
   "id": "f4d88afc-286b-4755-8009-0ae1b6ddec3d",
   "metadata": {},
   "source": [
    "## Best practice 1: Selecting variable names\n",
    "\n",
    "The selection of variable names might seem insignificant in some ways, but poorly chosen variable names can be confusing, unclear, or even misleading. Thus, we provide some examples of both poorly and well chosen variable names below along with some tips for formatting of your variables.\n",
    "\n",
    "### Some \"not-so-good\" variable names\n",
    "\n",
    "Let's first consider some examples of problematic variable names.\n",
    "\n",
    "```python\n",
    "s = \"101533\"\n",
    "sid = \"101533\"\n",
    "```\n",
    "\n",
    "Here we have two variable names that are nice and short, but it is not particularly clear what kind of value they are being used to store. The variables `s` and `sid` are simply too short and cannot communicate what they should be used for in the code. You might think you know what they are for at the moment, but imagine not looking at the code for a few months. Would you know then? What about if you share the code with a friend? Would they know? Probably not.\n",
    "\n",
    "Let's consider another example.\n",
    "\n",
    "```python\n",
    "finnishmeteorlogicalinstituteobservationstationidentificationnumber = \"101533\"\n",
    "```\n",
    "\n",
    "Here we have the opposite problem. The variable name `finnishmeteorologicalinstituteobservationstationidentificationnumber` potentially provides more information about what the variable represents (the identification number of a Finnish Meteorological Institute observation station), but it does so in a format that is not easy to read nor something you're likely to want to type more than once. The previous examples were too short, but now we have a variable name that is too long (and hard to read as a result)."
   ]
  },
  {
   "cell_type": "markdown",
   "id": "aa96fe31-835d-4c24-a664-49fa466eb9d8",
   "metadata": {},
   "source": [
    "### Selecting \"good\" variable names\n",
    "\n",
    "A good variable name should:\n",
    "\n",
    "1. Be clear and concise. \n",
    "\n",
    "2. Be written in English. A general coding practice is to write code with variable names in English, as that is the most likely common language between programmers. Thus, variable names such as `muuttuja`, the word for \"variable\" in Finnish should be avoided. Note that `muuttuja` is not a good name for other reasons as well.\n",
    "\n",
    "3. Not contain special characters. Python supports use of special characters by way of various encoding options that can be given in a program. That said, it is better to avoid variables such as `lämpötila` (the Finnish word for temperature) because encoding issues can arise in some cases. It is recommended to stick to the [standard printable ASCII character set](https://en.wikipedia.org/wiki/ASCII#Printable_characters) [^ascii] to be safe.\n",
    "\n",
    "4. Not conflict with any [Python keywords](https://www.geeksforgeeks.org/python-keywords/) [^keywords], such as `for`, `True`, `False`, `and`, `if`, or `else`. These are reserved for special operations in Python and cannot be used as variable names.\n",
    "\n",
    "With this in mind, let's now consider two formats commonly used for formatting Python variables."
   ]
  },
  {
   "cell_type": "markdown",
   "id": "89866bee-b1a1-4fd3-99f9-ac87d678e655",
   "metadata": {},
   "source": [
    "### Recommended variable format 1: pothole_case naming\n",
    "\n",
    "*{term}`pothole_case naming <Pothole case>`* uses lowercase words separated by underscores `_`. This is our suggested format as the underscores make it easy to read the variable and do not add much to the length of the variable name. As an example, consider the variable `temp_celsius`. Considering our earlier examples of poor variable names, we could instead write the following.\n",
    "\n",
    "```python\n",
    "fmi_station_id = \"101533\"\n",
    "```\n",
    "\n",
    "Here, our variable name conveys all of the essential information we need, while remaining easy to read.\n",
    "\n",
    "### Recommended variable format 2: camelCase naming\n",
    "\n",
    "*{term}`camelCase or CamelCase naming <Camel case>`* uses capitalization of the first letter of words in a variable name to make it easier to read. In some cases the first letter of the variable may be capitalized. The variable `tempFahrenheit` is one example of camelCase. Considering the earlier examples, we could use camelCase to write the following.\n",
    "\n",
    "```python\n",
    "fmiStationID = \"101533\"\n",
    "stationID = \"101533\"\n",
    "```\n",
    "\n",
    "Again, this variable name is clear and easy to read.\n",
    "\n",
    "### General recommendation\n",
    "\n",
    "The choice from the formatting options above is yours, but as you may have seen, we tend to utilize pothole_case naming most often in this book. This is because we feel it is the easiest to read and seems to be most common amongst Python programmers. You are welcome to use either option, as long as you are consistent in the use. It might take an extra second of thought, but selecting and formatting your variables can make a big difference in the ease of use of your Python programs!"
   ]
  },
  {
   "cell_type": "markdown",
   "id": "c54ed29a-7ab4-4b9d-8b7c-4c734b44f6cb",
   "metadata": {},
   "source": [
    "## Best practice 2: Describing your code\n",
    "\n",
    "You code ultimately decides what will be executed by a program, but providing some descriptive text is important for helping users (including you) understand what the code is used for and how certain sections work. In a Jupyter notebook, this text can take two basic forms:\n",
    "\n",
    "- Code comments: Text within your Python programs that does not get executed when the software is run. This text is mixed within the code and often used to describe how some or all of the code works. There are several styles of code comments in Python, which are described in more detail later in this appendix.\n",
    "- Markdown text: Text written as plain text with a simple syntax that can be rendered with rich formatting (bold, italics, different font sizes, colors, etc.). In Jupyter notebooks this text is written in Markdown cells and displayed as rich text when the cells are executed. In contrast to code comments, this text is generally intended to provide a broader description of the code or other things needed to understand what you code does.\n",
    "\n",
    "Below you can find some examples of both below code comments and Markdown text, along with some tips."
   ]
  },
  {
   "cell_type": "markdown",
   "id": "358dc1d7-ff5f-4d15-a5fb-a994fbb89375",
   "metadata": {},
   "source": [
    "### Do I need to describe my code?\n",
    "\n",
    "Absolutely! Providing comments or Markdown text to describe your code is essential for a number of reasons:\n",
    "\n",
    "1. Code descriptions make it easier to understand your code. Although good variable names can help you and other users better understand what you code does, your Jupyter notebooks and/or script files are seldom short enough for you to be able to read over the entire code at once and fully understand what is going on. For this reason, comments and Markdown text are essential parts of making sure your notebooks are easy to use and understand section by section.\n",
    "2. Code descriptions make it easier for other users to use your code. Even when writing simple software it is worthwhile to take the time to include some extra documentation about how it works. Everyone has their own tendencies in how they write their software and by including a few comments and/or Markdown text you can make it much easier for people to understand and use your work.\n",
    "3. Writing code descriptions can help you debug your code. Over time you will gain more experience with understanding why some piece of code does not work the way it should. One way to help fix (or debug) your code is to add comments stating what each line does. By taking things step by step, you may find that your code actually does not do what you thought, and this can help you be able to find and fix issues.\n",
    "4. Code descriptions are a big part of why Jupyter notebooks are so powerful. Code comments are quite helpful in general, but one of the biggest features of a Jupyter notebook is the ability to mix rich text with your code. With this platform you can even write scientific texts with embedded code cells to be able to perform calculations, analyze data, and visualize your results. This powerful platform is an excellent open science tool that provides a clear means to reproduce your results on demand.\n",
    "\n",
    "Below we review the main forms of code descriptions we recommend using in your Jupyter notebooks and Python script files."
   ]
  },
  {
   "cell_type": "markdown",
   "id": "cf4b8663-9175-418c-965a-af008d2e2075",
   "metadata": {},
   "source": [
    "### But the Internet says I should not comment my code...\n",
    "\n",
    "Some programmers advocate that people should not need to comment their code if it is easily understood. In essence, the argument is that if you need comments to understand what the code does, it is not good code. The advice is not that you should never comment in your code, but rather that comments are really only needed to describe why something is done a given way (not what is done). While this is true to a degree, this advice does not apply to most of us.\n",
    "\n",
    "Most of us are only just getting started with programming, and our comments serve a bit different purpose. For new programmers, comments make sure we understand what each line of our code does and helps others who you share your code with understand as well. In addition, writing comments can make you pause, look at your code, and then come up with a way to describe what you have done. For new programmers, this makes for excellent practice!"
   ]
  },
  {
   "cell_type": "markdown",
   "id": "c9061bdb-ae46-4c7f-b3ce-3d12b541b18b",
   "metadata": {},
   "source": [
    "### Code comments - single-line comments\n",
    "\n",
    "Single-line comments begin with the `#` character, typically as the first character on the line, and everything to the right of that character will be ignored by the Python interpreter. These comments are most frequently used to describe individual lines of code or a small group of related lines. Let's have a look at an example.\n",
    "\n",
    "```python\n",
    "# This is a line comment. It will be ignored when this cell is run\n",
    "```\n",
    "\n",
    "If you were to run the cell above, nothing would happen. The `#` character indicates the line contains a comment and the Python interpreter simply skips over this line (the only line in that cell).\n",
    "\n",
    "Let's have a look at a few more examples.\n",
    "\n",
    "```python\n",
    "# This list has the names of FMI observation stations in Helsinki\n",
    "station_names = [\n",
    "    \"Helsinki Harmaja\",\n",
    "    \"Helsinki Kaisaniemi\",\n",
    "    \"Helsinki Kaivopuisto\",\n",
    "    \"Helsinki Kumpula\",\n",
    "]\n",
    "```\n",
    "\n",
    "```python\n",
    "# Print the last station name\n",
    "print(station_names[-1])  \n",
    "```\n",
    "\n",
    "In the examples above you can see some of the ways in which single-line comments can be used in Python. We encourage you to add line comments within your Python cells to help explain what your code does, especially if there are several lines within a given code cell."
   ]
  },
  {
   "cell_type": "markdown",
   "id": "eb66a719-0ffa-4646-aeed-1c8d8802b396",
   "metadata": {},
   "source": [
    "## Code comments - block comments\n",
    "\n",
    "Block comments are somewhat similar to single line comments in format, but comprise several lines of consecutive comments rather than just one. These can be useful in situations where a single line comment is not sufficient to describe the code below it or when commenting out several lines of code during debugging, for example. Let's have a look at a few examples of block comments below.\n",
    "\n",
    "```python\n",
    "# This doesn't work, so I'm commenting it out for now\n",
    "# my_life.append(lots_of_money)\n",
    "```\n",
    "\n",
    "```python\n",
    "# Produce a set of subplots showing data from the:\n",
    "# - Helsinki Harmaja station\n",
    "# - Helsinki Kaisaniemi station\n",
    "# - Helsinki Kaivopuisto station\n",
    "# - Helsinki Kumpula station\n",
    "fig, ax = plt.subplots(2, 2)\n",
    "...\n",
    "```\n",
    "\n",
    "As you can see, the syntax is familiar for block comments and using them can make sense for helping make your code easier to understand. However, it can become quite tedious to write many lines of block comments, so we'll consider another option below."
   ]
  },
  {
   "cell_type": "markdown",
   "id": "37cf5e05-ba19-469c-987c-9dd71d6c43e5",
   "metadata": {},
   "source": [
    "### Code comments - inline comments\n",
    "\n",
    "Finally, it is also possible to have inline comments in Python that are formatted similarly to single-line comments but located on the same line as some Python code (typically with at least two spaces after the code). We can see some examples below, but note that inline comments should be used sparingly as single-line comments are generally preferable.\n",
    "\n",
    "```python\n",
    "# NO: Unnecessary inline comment example below\n",
    "print(f\"station_names[0]\"  # Print the name of the first station\n",
    "```\n",
    "\n",
    "```python\n",
    "# OK: This is a case where an inline comment could be OK\n",
    "ax2.axis([xmin, xmax, -max_depth / 1000, 0])  # Plot depth in km rather than meters\n",
    "```"
   ]
  },
  {
   "cell_type": "markdown",
   "id": "067e9d8a-7310-4520-bf66-920c1e0f59c4",
   "metadata": {},
   "source": [
    "### Code comments - multi-line comments\n",
    "\n",
    "Multi-line comments are similar to both the single line and block comments described earlier; they are embedded within your code and are not executed when a code cell is run. You can begin a multi-line comment with three quotation marks `\"\"\"` and end it with the same thing, three quotation marks `\"\"\"`. Although it is possible to also create multi-line comments using single quotes (`'''`), use of double quotes (`\"\"\"`) is recommended [to be consistent with PEP 257](https://peps.python.org/pep-0257/) [^pep257] about {term}`docstrings <Docstring>`. Everything between the groups of quotation marks will be ignored. Let's see some examples.\n",
    "\n",
    "```python\n",
    "\"\"\"This text will also be ignored.\n",
    "Even if it is spread across multiple lines.\n",
    "Cool! \n",
    "\"\"\"\n",
    "```\n",
    "\n",
    "```python\n",
    "\"\"\"The list below contains names of FMI observation stations in Helsinki.\n",
    "More information and a complete list of stations can be found at \n",
    "https://en.ilmatieteenlaitos.fi/observation-stations.\n",
    "\"\"\"\n",
    "station_names = [\n",
    "    \"Helsinki Harmaja\",\n",
    "    \"Helsinki Kaisaniemi\",\n",
    "    \"Helsinki Kaivopuisto\",\n",
    "    \"Helsinki Kumpula\",\n",
    "]\n",
    "```\n",
    "\n",
    "```python\n",
    "\"\"\"None of the code below works, commenting this out for now.\n",
    "step_one = learn_to_code()\n",
    "step_two = become_programmer()\n",
    "step_three = ???\n",
    "step_four = profit()\n",
    "\"\"\"\n",
    "```\n",
    "\n",
    "As you may recognize, multi-line comments are recommended to be formatted similarly to docstrings and can be a convenient way to have longer code descriptions or comment out larger numbers of lines of code."
   ]
  },
  {
   "cell_type": "markdown",
   "id": "ae27b980-d1ff-41dc-a329-3ab01fad654a",
   "metadata": {},
   "source": [
    "## Markdown text\n",
    "\n",
    "Finally, as noted at the start of this best practice topic, we can also use Markdown text cells to provide information about how our code works. The Markdown text is not a replacement for line or block comments in the code cells, but rather a place to provide a broader description of the code. Let's see an example of the use of a Markdown cell below under the heading \"Data source\". We can first see the Markdown syntax, then the rich-text rendered result. The Markdown syntax is below.\n",
    "\n",
    "```markdown\n",
    "### Data source\n",
    "\n",
    "Data used in this example comprises observation station:\n",
    "\n",
    "- names\n",
    "- locations\n",
    "- types\n",
    "- identification codes\n",
    "\n",
    "These data are sourced from the [Finnish Meterological Institute website](https://en.ilmatieteenlaitos.fi/observation-stations) and are freely available.\n",
    "The data be easily merged into Python lists manually for further analysis.\n",
    "An example Python cell with select observation station names in Helsinki is below.\n",
    "**NOTE**: These are only some of the observation stations in Helsinki.\n",
    "```"
   ]
  },
  {
   "cell_type": "markdown",
   "id": "033f3a5b-ca74-4c6d-8afd-d6be88d6e5c7",
   "metadata": {},
   "source": [
    "And when that Markdown code is executed, the resulting rich text is shown below.\n",
    "\n",
    "### Data source\n",
    "\n",
    "Data used in this example comprises observation station:\n",
    "\n",
    "- names\n",
    "- locations\n",
    "- types\n",
    "- identification codes\n",
    "\n",
    "These data are sourced from the [Finnish Meterological Institute website](https://en.ilmatieteenlaitos.fi/observation-stations) and are freely available.\n",
    "The data be easily merged into Python lists manually for further analysis.\n",
    "An example Python cell with select observation station names in Helsinki is below.\n",
    "**NOTE**: These are only some of the observation stations in Helsinki."
   ]
  },
  {
   "cell_type": "markdown",
   "id": "fb920a0d-9f3f-49fb-8c42-83564880486f",
   "metadata": {},
   "source": [
    "In the example above, you clearly see the benefit of the Markdown cells for providing nicely formatted text to support the code block beneath it. We can also embed images and other features that make the Jupyter notebook document a powerful tool for studying and learning. You can find more about the capabilities of Markdown on the [Markdown Guide Basic Syntax](https://www.markdownguide.org/basic-syntax/) [^markdown_basic] and [Extended Syntax](https://www.markdownguide.org/extended-syntax/) [^markdown_extended] guides."
   ]
  },
  {
   "cell_type": "markdown",
   "id": "09133534-3d51-4be7-aae2-8a1b947cea56",
   "metadata": {},
   "source": [
    "## Using modules\n",
    "\n",
    "### Import modules at the start of your files\n",
    "\n",
    "According to the good coding practices described in [PEP 8](https://peps.python.org/pep-0008/#imports) [^pep8], we should always import modules at the top of a file. In this section, we have demonstrated how to import different modules along the way, but in general it is better to import required modules as the very first thing. PEP 8 refers more to traditional script files, but we can apply the guideline to Jupyter Notebook files as well by placing `import` statements in the first code cell of the notebook.\n",
    "\n",
    "### Avoid importing functions using wildcards\n",
    "\n",
    "It is best not to import many functions from a module using the form `from X import *`, where `X` is a Python module. `from X import *` will import all of the functions in module X, and though you might think this is helpful, it is much better to simply `import X` or `import X as Y` to maintain the connection between the functions and their module. In addition to losing the connection between the module and the function, it is much more likely you will encounter conflicting function names when using `from X import *`.\n",
    "\n",
    "### Choose logical names when renaming on import\n",
    "\n",
    "Do not use confusing names when renaming on import. Be smart when you import modules, and follow generally used conventions (`import pandas as pd` is a good way to do things!). If you want to make the module name shorter on import, pick a reasonable abbreviation. For instance, `import matplotlib as m` could be confusing, especially if we used `import math as m` above and might do so in other Jupyter notebooks or script files. Similarly, `import matplotlib as math` is perfectly OK syntax in Python, but bound to cause trouble. Remember, people need to be able to read and understand the code you write. Keep it simple and logical."
   ]
  },
  {
   "cell_type": "markdown",
   "id": "8dcf2c9f-d9ba-4fb9-85c1-9ff560cc77c7",
   "metadata": {},
   "source": [
    "## Footnotes\n",
    "\n",
    "[^ascii]: <https://en.wikipedia.org/wiki/ASCII#Printable_character_table>\n",
    "[^keywords]: <https://www.geeksforgeeks.org/python-keywords/>\n",
    "[^markdown_basic]: <https://www.markdownguide.org/basic-syntax/>\n",
    "[^markdown_extended]: <https://www.markdownguide.org/extended-syntax/>\n",
    "[^pep8]: <https://peps.python.org/pep-0008/#imports>\n",
    "[^pep257]: <https://peps.python.org/pep-0257/>"
   ]
  }
 ],
 "metadata": {
  "kernelspec": {
   "display_name": "Python 3 (ipykernel)",
   "language": "python",
   "name": "python3"
  },
  "language_info": {
   "codemirror_mode": {
    "name": "ipython",
    "version": 3
   },
   "file_extension": ".py",
   "mimetype": "text/x-python",
   "name": "python",
   "nbconvert_exporter": "python",
   "pygments_lexer": "ipython3",
   "version": "3.12.9"
  }
 },
 "nbformat": 4,
 "nbformat_minor": 5
}
