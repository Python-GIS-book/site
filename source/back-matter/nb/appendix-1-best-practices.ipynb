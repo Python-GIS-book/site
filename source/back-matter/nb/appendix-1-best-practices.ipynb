{
 "cells": [
  {
   "cell_type": "markdown",
   "id": "fc22eab9-bbb8-4f50-8b15-3733153b42ab",
   "metadata": {},
   "source": [
    "# Python programming best practices"
   ]
  },
  {
   "cell_type": "markdown",
   "id": "5bff4703-4d5f-4b06-904c-d5fedd680ee3",
   "metadata": {},
   "source": [
    "This book aims to introduce you to programming in Python, but also to good programming practices. These comprise practical tips based on practices used by professional programmers that help them write better programs that are easier to understand and share with others. To say it differently, there are many ways to learn to program and we want to help you learn how to program the right way!"
   ]
  },
  {
   "cell_type": "markdown",
   "id": "f4d88afc-286b-4755-8009-0ae1b6ddec3d",
   "metadata": {},
   "source": [
    "## Best practice 1: Selecting variable names\n",
    "\n",
    "The selection of variable names might seem insignificant in some ways, but poorly chosen variable names can be confusing, unclear, or even misleading. Thus, we provide some examples of both poorly and well chosen variable names below along with some tips for formatting of your variables.\n",
    "\n",
    "### Some \"not-so-good\" variable names\n",
    "\n",
    "Let's first consider some examples of problematic variable names.\n",
    "\n",
    "```python\n",
    "s = \"101533\"\n",
    "sid = \"101533\"\n",
    "```\n",
    "\n",
    "Here we have two variable names that are nice and short, but it is not particularly clear what kind of value they are being used to store. The variables `s` and `sid` are simply too short and cannot communicate what they should be used for in the code. You might think you know what they are for at the moment, but imagine not looking at the code for a few months. Would you know then? What about if you share the code with a friend? Would they know? Probably not.\n",
    "\n",
    "Let's consider another example.\n",
    "\n",
    "```python\n",
    "finnishmeteorlogicalinstituteobservationstationidentificationnumber = \"101533\"\n",
    "```\n",
    "\n",
    "Here we have the opposite problem. The variable name `finnishmeteorologicalinstituteobservationstationidentificationnumber` potentially provides more information about what the variable represents (the identification number of a Finnish Meteorological Institute observation station), but it does so in a format that is not easy to read nor something you're likely to want to type more than once. The previous examples were too short, but now we have a variable name that is too long (and hard to read as a result)."
   ]
  },
  {
   "cell_type": "markdown",
   "id": "aa96fe31-835d-4c24-a664-49fa466eb9d8",
   "metadata": {},
   "source": [
    "### Selecting \"good\" variable names\n",
    "\n",
    "A good variable name should:\n",
    "\n",
    "1. Be clear and concise. \n",
    "\n",
    "2. Be written in English. A general coding practice is to write code with variable names in English, as that is the most likely common language between programmers. Thus, variable names such as `muuttuja`, the word for \"variable\" in Finnish should be avoided. Note that `muuttuja` is not a good name for other reasons as well.\n",
    "\n",
    "3. Not contain special characters. Python supports use of special characters by way of various encoding options that can be given in a program. That said, it is better to avoid variables such as `lämpötila` (the Finnish word for temperature) because encoding issues can arise in some cases. It is recommended to stick to the [standard printable ASCII character set](https://en.wikipedia.org/wiki/ASCII#Printable_characters) [^ascii] to be safe.\n",
    "\n",
    "4. Not conflict with any [Python keywords](https://www.geeksforgeeks.org/python-keywords/) [^keywords], such as `for`, `True`, `False`, `and`, `if`, or `else`. These are reserved for special operations in Python and cannot be used as variable names.\n",
    "\n",
    "With this in mind, let's now consider two formats commonly used for formatting Python variables."
   ]
  },
  {
   "cell_type": "markdown",
   "id": "89866bee-b1a1-4fd3-99f9-ac87d678e655",
   "metadata": {},
   "source": [
    "### Recommended variable format 1: pothole_case naming\n",
    "\n",
    "*{term}`pothole_case naming <Pothole case>`* uses lowercase words separated by underscores `_`. This is our suggested format as the underscores make it easy to read the variable and do not add much to the length of the variable name. As an example, consider the variable `temp_celsius`. Considering our earlier examples of poor variable names, we could instead write the following.\n",
    "\n",
    "```python\n",
    "fmi_station_id = \"101533\"\n",
    "```\n",
    "\n",
    "Here, our variable name conveys all of the essential information we need, while remaining easy to read.\n",
    "\n",
    "### Recommended variable format 2: camelCase naming\n",
    "\n",
    "*{term}`camelCase or CamelCase naming <Camel case>`* uses capitalization of the first letter of words in a variable name to make it easier to read. In some cases the first letter of the variable may be capitalized. The variable `tempFahrenheit` is one example of camelCase. Considering the earlier examples, we could use camelCase to write the following.\n",
    "\n",
    "```python\n",
    "fmiStationID = \"101533\"\n",
    "stationID = \"101533\"\n",
    "```\n",
    "\n",
    "Again, this variable name is clear and easy to read.\n",
    "\n",
    "### General recommendation\n",
    "\n",
    "The choice from the formatting options above is yours, but as you may have seen, we tend to utilize pothole_case naming most often in this book. This is because we feel it is the easiest to read and seems to be most common amongst Python programmers. You are welcome to use either option, as long as you are consistent in the use. It might take an extra second of thought, but selecting and formatting your variables can make a big difference in the ease of use of your Python programs!"
   ]
  },
  {
   "cell_type": "markdown",
   "id": "c54ed29a-7ab4-4b9d-8b7c-4c734b44f6cb",
   "metadata": {},
   "source": [
    "## Best practice 2: Describing your code\n",
    "\n",
    "You code ultimately decides what will be executed by a program, but providing some descriptive text is important for helping users (including you) understand what the code is used for and how certain sections work. In a Jupyter notebook, this text can take two basic forms:\n",
    "\n",
    "- Code comments: Text within your Python programs that does not get executed when the software is run. This text is mixed within the code and often used to describe how some or all of the code works. There are several styles of code comments in Python, which are described in more detail later in this appendix.\n",
    "- Markdown text: Text written as plain text with a simple syntax that can be rendered with rich formatting (bold, italics, different font sizes, colors, etc.). In Jupyter notebooks this text is written in Markdown cells and displayed as rich text when the cells are executed. In contrast to code comments, this text is generally intended to provide a broader description of the code or other things needed to understand what you code does.\n",
    "\n",
    "Below you can find some examples of both below code comments and Markdown text, along with some tips."
   ]
  },
  {
   "cell_type": "markdown",
   "id": "358dc1d7-ff5f-4d15-a5fb-a994fbb89375",
   "metadata": {},
   "source": [
    "### Do I need to describe my code?\n",
    "\n",
    "Absolutely! Providing comments or Markdown text to describe your code is essential for a number of reasons:\n",
    "\n",
    "1. Code descriptions make it easier to understand your code. Although good variable names can help you and other users better understand what you code does, your Jupyter notebooks and/or script files are seldom short enough for you to be able to read over the entire code at once and fully understand what is going on. For this reason, comments and Markdown text are essential parts of making sure your notebooks are easy to use and understand section by section.\n",
    "2. Code descriptions make it easier for other users to use your code. Even when writing simple software it is worthwhile to take the time to include some extra documentation about how it works. Everyone has their own tendencies in how they write their software and by including a few comments and/or Markdown text you can make it much easier for people to understand and use your work.\n",
    "3. Writing code descriptions can help you debug your code. Over time you will gain more experience with understanding why some piece of code does not work the way it should. One way to help fix (or debug) your code is to add comments stating what each line does. By taking things step by step, you may find that your code actually does not do what you thought, and this can help you be able to find and fix issues.\n",
    "4. Code descriptions are a big part of why Jupyter notebooks are so powerful. Code comments are quite helpful in general, but one of the biggest features of a Jupyter notebook is the ability to mix rich text with your code. With this platform you can even write scientific texts with embedded code cells to be able to perform calculations, analyze data, and visualize your results. This powerful platform is an excellent open science tool that provides a clear means to reproduce your results on demand.\n",
    "\n",
    "Below we review the main forms of code descriptions we recommend using in your Jupyter notebooks and Python script files."
   ]
  },
  {
   "cell_type": "markdown",
   "id": "cf4b8663-9175-418c-965a-af008d2e2075",
   "metadata": {},
   "source": [
    "### But the Internet says I should not comment my code...\n",
    "\n",
    "Some programmers advocate that people should not need to comment their code if it is easily understood. In essence, the argument is that if you need comments to understand what the code does, it is not good code. The advice is not that you should never comment in your code, but rather that comments are really only needed to describe why something is done a given way (not what is done). While this is true to a degree, this advice does not apply to most of us.\n",
    "\n",
    "Most of us are only just getting started with programming, and our comments serve a bit different purpose. For new programmers, comments make sure we understand what each line of our code does and helps others who you share your code with understand as well. In addition, writing comments can make you pause, look at your code, and then come up with a way to describe what you have done. For new programmers, this makes for excellent practice!"
   ]
  },
  {
   "cell_type": "markdown",
   "id": "c9061bdb-ae46-4c7f-b3ce-3d12b541b18b",
   "metadata": {},
   "source": [
    "### Code comments - single-line comments\n",
    "\n",
    "Single-line comments begin with the `#` character, typically as the first character on the line, and everything to the right of that character will be ignored by the Python interpreter. These comments are most frequently used to describe individual lines of code or a small group of related lines. Let's have a look at an example.\n",
    "\n",
    "```python\n",
    "# This is a line comment. It will be ignored when this cell is run\n",
    "```\n",
    "\n",
    "If you were to run the cell above, nothing would happen. The `#` character indicates the line contains a comment and the Python interpreter simply skips over this line (the only line in that cell).\n",
    "\n",
    "Let's have a look at a few more examples.\n",
    "\n",
    "```python\n",
    "# This list has the names of FMI observation stations in Helsinki\n",
    "station_names = [\n",
    "    \"Helsinki Harmaja\",\n",
    "    \"Helsinki Kaisaniemi\",\n",
    "    \"Helsinki Kaivopuisto\",\n",
    "    \"Helsinki Kumpula\",\n",
    "]\n",
    "```\n",
    "\n",
    "```python\n",
    "# Print the last station name\n",
    "print(station_names[-1])  \n",
    "```\n",
    "\n",
    "In the examples above you can see some of the ways in which single-line comments can be used in Python. We encourage you to add line comments within your Python cells to help explain what your code does, especially if there are several lines within a given code cell."
   ]
  },
  {
   "cell_type": "markdown",
   "id": "eb66a719-0ffa-4646-aeed-1c8d8802b396",
   "metadata": {},
   "source": [
    "### Code comments - block comments\n",
    "\n",
    "Block comments are somewhat similar to single line comments in format, but comprise several lines of consecutive comments rather than just one. These can be useful in situations where a single line comment is not sufficient to describe the code below it or when commenting out several lines of code during debugging, for example. Let's have a look at a few examples of block comments below.\n",
    "\n",
    "```python\n",
    "# This doesn't work, so I'm commenting it out for now\n",
    "# my_life.append(lots_of_money)\n",
    "```\n",
    "\n",
    "```python\n",
    "# Produce a set of subplots showing data from the:\n",
    "# - Helsinki Harmaja station\n",
    "# - Helsinki Kaisaniemi station\n",
    "# - Helsinki Kaivopuisto station\n",
    "# - Helsinki Kumpula station\n",
    "fig, ax = plt.subplots(2, 2)\n",
    "...\n",
    "```\n",
    "\n",
    "As you can see, the syntax is familiar for block comments and using them can make sense for helping make your code easier to understand. However, it can become quite tedious to write many lines of block comments, so we'll consider another option below."
   ]
  },
  {
   "cell_type": "markdown",
   "id": "37cf5e05-ba19-469c-987c-9dd71d6c43e5",
   "metadata": {},
   "source": [
    "### Code comments - inline comments\n",
    "\n",
    "Finally, it is also possible to have inline comments in Python that are formatted similarly to single-line comments but located on the same line as some Python code (typically with at least two spaces after the code). We can see some examples below, but note that inline comments should be used sparingly as single-line comments are generally preferable.\n",
    "\n",
    "```python\n",
    "# NO: Unnecessary inline comment example below\n",
    "print(f\"station_names[0]\"  # Print the name of the first station\n",
    "```\n",
    "\n",
    "```python\n",
    "# OK: This is a case where an inline comment could be OK\n",
    "ax2.axis([xmin, xmax, -max_depth / 1000, 0])  # Plot depth in km rather than meters\n",
    "```"
   ]
  },
  {
   "cell_type": "markdown",
   "id": "067e9d8a-7310-4520-bf66-920c1e0f59c4",
   "metadata": {},
   "source": [
    "### Code comments - multi-line comments\n",
    "\n",
    "Multi-line comments are similar to both the single line and block comments described earlier; they are embedded within your code and are not executed when a code cell is run. You can begin a multi-line comment with three quotation marks `\"\"\"` and end it with the same thing, three quotation marks `\"\"\"`. Although it is possible to also create multi-line comments using single quotes (`'''`), use of double quotes (`\"\"\"`) is recommended [to be consistent with PEP 257](https://peps.python.org/pep-0257/) [^pep257] about {term}`docstrings <Docstring>`. Everything between the groups of quotation marks will be ignored. Let's see some examples.\n",
    "\n",
    "```python\n",
    "\"\"\"This text will also be ignored.\n",
    "Even if it is spread across multiple lines.\n",
    "Cool! \n",
    "\"\"\"\n",
    "```\n",
    "\n",
    "```python\n",
    "\"\"\"The list below contains names of FMI observation stations in Helsinki.\n",
    "More information and a complete list of stations can be found at \n",
    "https://en.ilmatieteenlaitos.fi/observation-stations.\n",
    "\"\"\"\n",
    "station_names = [\n",
    "    \"Helsinki Harmaja\",\n",
    "    \"Helsinki Kaisaniemi\",\n",
    "    \"Helsinki Kaivopuisto\",\n",
    "    \"Helsinki Kumpula\",\n",
    "]\n",
    "```\n",
    "\n",
    "```python\n",
    "\"\"\"None of the code below works, commenting this out for now.\n",
    "step_one = learn_to_code()\n",
    "step_two = become_programmer()\n",
    "step_three = ???\n",
    "step_four = profit()\n",
    "\"\"\"\n",
    "```\n",
    "\n",
    "As you may recognize, multi-line comments are recommended to be formatted similarly to docstrings and can be a convenient way to have longer code descriptions or comment out larger numbers of lines of code."
   ]
  },
  {
   "cell_type": "markdown",
   "id": "ae27b980-d1ff-41dc-a329-3ab01fad654a",
   "metadata": {},
   "source": [
    "### Markdown text\n",
    "\n",
    "Finally, as noted at the start of this best practice topic, we can also use Markdown text cells to provide information about how our code works. The Markdown text is not a replacement for line or block comments in the code cells, but rather a place to provide a broader description of the code. Let's see an example of the use of a Markdown cell below under the heading \"Data source\". We can first see the Markdown syntax, then the rich-text rendered result. The Markdown syntax is below.\n",
    "\n",
    "```markdown\n",
    "#### Data source\n",
    "\n",
    "Data used in this example comprises observation station:\n",
    "\n",
    "- names\n",
    "- locations\n",
    "- types\n",
    "- identification codes\n",
    "\n",
    "These data are sourced from the [Finnish Meterological Institute website](https://en.ilmatieteenlaitos.fi/observation-stations) and are freely available.\n",
    "The data be easily merged into Python lists manually for further analysis.\n",
    "An example Python cell with select observation station names in Helsinki is below.\n",
    "**NOTE**: These are only some of the observation stations in Helsinki.\n",
    "```"
   ]
  },
  {
   "cell_type": "markdown",
   "id": "033f3a5b-ca74-4c6d-8afd-d6be88d6e5c7",
   "metadata": {},
   "source": [
    "And when that Markdown code is executed, the resulting rich text is shown below.\n",
    "\n",
    "#### Data source\n",
    "\n",
    "Data used in this example comprises observation station:\n",
    "\n",
    "- names\n",
    "- locations\n",
    "- types\n",
    "- identification codes\n",
    "\n",
    "These data are sourced from the [Finnish Meterological Institute website](https://en.ilmatieteenlaitos.fi/observation-stations) and are freely available.\n",
    "The data be easily merged into Python lists manually for further analysis.\n",
    "An example Python cell with select observation station names in Helsinki is below.\n",
    "**NOTE**: These are only some of the observation stations in Helsinki."
   ]
  },
  {
   "cell_type": "markdown",
   "id": "fb920a0d-9f3f-49fb-8c42-83564880486f",
   "metadata": {},
   "source": [
    "In the example above, you clearly see the benefit of the Markdown cells for providing nicely formatted text to support the code block beneath it. We can also embed images and other features that make the Jupyter notebook document a powerful tool for studying and learning. You can find more about the capabilities of Markdown on the [Markdown Guide Basic Syntax](https://www.markdownguide.org/basic-syntax/) [^markdown_basic] and [Extended Syntax](https://www.markdownguide.org/extended-syntax/) [^markdown_extended] guides."
   ]
  },
  {
   "cell_type": "markdown",
   "id": "2f06383b-e3d0-4305-a9e8-a3cdbd93a65f",
   "metadata": {},
   "source": [
    "## Best practice 3: Writing readable code\n",
    "\n",
    "This best practice focuses on writing code that is easy to read. The basic idea here is that well formatted Python code is easier to read and understand."
   ]
  },
  {
   "cell_type": "markdown",
   "id": "b807b6db-b2f6-4021-8584-29e97994ff98",
   "metadata": {},
   "source": [
    "### Working code vs readable code\n",
    "\n",
    "As you may have noticed, Python forces you to indent your code when writing loops and conditional statements. Without the indentation the code simply will not work and you will likely see an `IndentationError`.\n",
    "\n",
    "However, there are many cases in which you are able to write code that runs without errors, but you (or others!) might have a difficult time reading it and understanding what the code actually does. \n",
    "\n",
    "Ideally, our Python code would be understandable both for the computer and for humans reading it. [Coding conventions](https://en.wikipedia.org/wiki/Coding_conventions) [^coding_conventions] are a set of generally agreed guidelines for writing code in a specific programming language. Coding conventions help programmers to write code with formatting that is consistent and easy to read. Consistency and readability are important for sharing your code with others, and also for helping your own brain to follow along!\n",
    "\n",
    "![_**Figure A.X**. The dangers of coding without coding conventions. Source: <https://xkcd.com/1513/>._](../img/code_quality.png)\n",
    "\n",
    "_**Figure A.X**. The dangers of coding without coding conventions. Source: <https://xkcd.com/1513/>._"
   ]
  },
  {
   "cell_type": "markdown",
   "id": "ec7da07d-4537-4d64-bdf6-4e00a4e6f1a7",
   "metadata": {},
   "source": [
    "### The PEP 8 Style Guide\n",
    "\n",
    "[The PEP 8 Style Guide for Python Code](https://peps.python.org/pep-0008/) [^pep8] gives coding conventions that help us write code that is readable (by humans!) and consistent with code written by others.\n",
    "\n",
    "PEP 8 goes far beyond the scope of what you might learn in this book, so we recommend that you re-visit the guidelines every now and then when learning new things. Here, we will summarize some of the most relevant highlights that you can start applying to your code right away!"
   ]
  },
  {
   "cell_type": "markdown",
   "id": "27c5cad2-6f9e-46fd-bbe1-678b81e93844",
   "metadata": {},
   "source": [
    "### Maximum line length\n",
    "\n",
    "The PEP 8 guide states all lines should be limited to [79 characters max](https://peps.python.org/pep-0008/#maximum-line-length). Comments (single-line, block, or multi-line) should be limited to 72 characters. Note that we use a line length limit of 88 characters on the online version of this book and 74 characters for the printed book. The character limit according to PEP 8 is 79 characters, but often a slightly longer line (up to 90 characters) helps with readability (and sometimes formats, such as the printed book only allow so many characters to fit on a given line).\n",
    "\n",
    "One of the guiding principles of Python is that [\"Simple is better than complex\"](https://peps.python.org/pep-0020/#the-zen-of-python), but sometimes you might end up having a line of code that exceeds 79 characters, for example, when defining lists. \n",
    "\n",
    "Fortunately, Python is able to interpret the code correctly from multiple lines within parentheses, brackets and braces, allowing you to avoid excessively long lines in many cases."
   ]
  },
  {
   "cell_type": "code",
   "execution_count": null,
   "id": "819193c6-751a-41df-a648-0088c3bde487",
   "metadata": {},
   "outputs": [],
   "source": [
    "# Implicit line continuation inside brackets\n",
    "us_cities = [\"Detroit\", \"Chicago\", \"Denver\", \"Boston\", \n",
    "            \"Portland\", \"San Francisco\", \"Houston\", \"Orlando\"]"
   ]
  },
  {
   "cell_type": "markdown",
   "id": "6fc097ed-3b51-4965-8fc5-63b62a26b80e",
   "metadata": {},
   "source": [
    "Note that the backslash character `\\` might be required to break a line when using more complicated statements such as the `with` statement. You can find more examples of how to handle such situations in the [PEP 8 documentation](https://peps.python.org/pep-0008/#maximum-line-length) [^pep8_length]."
   ]
  },
  {
   "cell_type": "markdown",
   "id": "2ca3c11e-47eb-4099-b697-e80202a4614a",
   "metadata": {},
   "source": [
    "### Indentation\n",
    "\n",
    "Indentation is an essential part of the Python code layout. As you may have seen with `for` loops and conditional statements, some things in Python will not work correctly without consistent indentation. PEP 8 recommends using [4 spaces per indentation level](https://peps.python.org/pep-0008/#indentation). \n",
    "\n",
    "Let's have a look at an example with `if` statements. The indented line tells Python what to do if the condition is `True`. Notice the 4 spaces for the indentation."
   ]
  },
  {
   "cell_type": "code",
   "execution_count": null,
   "id": "56234c54-0246-402b-88e5-602b04dca5c3",
   "metadata": {},
   "outputs": [],
   "source": [
    "weather = \"Rain\"\n",
    "wind = \"Windy\"\n",
    "\n",
    "if (weather == \"Rain\") and (wind == \"Windy\"):\n",
    "    print('Just stay at home')"
   ]
  },
  {
   "cell_type": "markdown",
   "id": "58005c3b-3f10-4630-b0c1-6471952e22a6",
   "metadata": {},
   "source": [
    "Following PEP 8, it is also possible to break the conditional expression into multiple lines if needed. Notice the extra parentheses in this case."
   ]
  },
  {
   "cell_type": "code",
   "execution_count": null,
   "id": "369074e6-17ab-4e73-b3e8-e040aea6dbb6",
   "metadata": {},
   "outputs": [],
   "source": [
    "if ((weather == \"Rain\") \n",
    "    and (wind == \"Windy\")):\n",
    "    print(\"Just stay at home\")"
   ]
  },
  {
   "cell_type": "markdown",
   "id": "fc259702-2bc3-49d4-9005-aabc48cef5b5",
   "metadata": {},
   "source": [
    "To increase readability of this `if` statement, we could add extra indentation to the continuation line of the conditional statement. This is valid Python syntax in line with PEP 8. As you might expect, it is recommended that the additional indendation be 4 spaces."
   ]
  },
  {
   "cell_type": "code",
   "execution_count": null,
   "id": "1f5844ed-7746-41d8-8b7f-1c325bf265c0",
   "metadata": {},
   "outputs": [],
   "source": [
    "if ((weather == \"Rain\") \n",
    "        and (wind == \"Windy\")):\n",
    "    print(\"Just stay at home\")"
   ]
  },
  {
   "cell_type": "markdown",
   "id": "59cc0eec-e4e4-4b40-bc6a-d13b288e6d6e",
   "metadata": {},
   "source": [
    "In the cases above, the first option with the conditional expression on a single line is probably best, as it is not that long after all.\n",
    "\n",
    "In addition, indentation is needed when breaking one command onto multiple lines, such as in our example with the list `us_cities` in the section about maximum line length. In that case we used the implied line continuation inside the brackets. Following the PEP 8 indentation guidelines, we can define `us_cities` also using a [hanging indent](https://peps.python.org/pep-0008/#fn-hi). Note that there is no value on the first line of a list formatted this way."
   ]
  },
  {
   "cell_type": "code",
   "execution_count": null,
   "id": "14818f9f-dfeb-4b10-925d-8faf536f2aa0",
   "metadata": {},
   "outputs": [],
   "source": [
    "# Hanging indentation:\n",
    "us_cities = [\n",
    "    \"Detroit\", \"Chicago\", \"Denver\", \"Boston\", \n",
    "    \"Portland\", \"San Francisco\", \"Houston\", \"Orlando\"]"
   ]
  },
  {
   "cell_type": "markdown",
   "id": "936a3435-c7b3-44e5-aa22-3285e123719b",
   "metadata": {},
   "source": [
    "You can find more examples of indentation in the [PEP 8 documentation](https://peps.python.org/pep-0008/#indentation) [^pep8_indentation]."
   ]
  },
  {
   "cell_type": "markdown",
   "id": "9ec347ab-46fc-4180-970d-ec79ed65fc85",
   "metadata": {},
   "source": [
    "### Whitespace and binary operators\n",
    "\n",
    "PEP 8 states that binary operators should be [surrounded by a single space on either side](https://peps.python.org/pep-0008/#other-recommendations).\n",
    "\n",
    "We should always do this with:\n",
    "\n",
    "- assignment (`=`)\n",
    "- augmented assignment (`+=`, `-=`, etc.)\n",
    "- comparisons (`==`, `<`, `>`, `!=`, `<>`, `<=`, `>=`, `in`, `not in`, `is`, `is not`)\n",
    "- Booleans (`and`, `or`, `not`)"
   ]
  },
  {
   "cell_type": "code",
   "execution_count": null,
   "id": "31f38fb6-18f9-4318-a19b-ac711804b1dc",
   "metadata": {},
   "outputs": [],
   "source": [
    "# yes\n",
    "i = 1\n",
    "i = i + 1\n",
    "i += 1"
   ]
  },
  {
   "cell_type": "code",
   "execution_count": null,
   "id": "157c19f7-4df5-4422-8a7e-eb43319885d3",
   "metadata": {},
   "outputs": [],
   "source": [
    "# no\n",
    "i=1\n",
    "i=i+1\n",
    "i +=1"
   ]
  },
  {
   "cell_type": "markdown",
   "id": "06211b1c-7ac7-48ba-b738-5252cb6c9248",
   "metadata": {},
   "source": [
    "If using operators with different priorities you can also do this."
   ]
  },
  {
   "cell_type": "code",
   "execution_count": null,
   "id": "a64afe6f-e174-47ac-81c0-74ac005993de",
   "metadata": {},
   "outputs": [],
   "source": [
    "# yes\n",
    "a = 1\n",
    "b = 2\n",
    "c = (a+b) * (a-b)"
   ]
  },
  {
   "cell_type": "markdown",
   "id": "edee8f94-df68-4b15-acdf-f175b81f27ef",
   "metadata": {},
   "source": [
    "### Avoid extraneous whitespace\n",
    "\n",
    "PEP 8 also recommends avoiding [having a space between the function name and parentheses when calling a function](https://peps.python.org/pep-0008/#whitespace-in-expressions-and-statements)."
   ]
  },
  {
   "cell_type": "code",
   "execution_count": null,
   "id": "40eced67-7e55-4286-bc78-7462dd18472e",
   "metadata": {},
   "outputs": [],
   "source": [
    "# yes\n",
    "print(\"Hello\")"
   ]
  },
  {
   "cell_type": "code",
   "execution_count": null,
   "id": "1566f59a-9d40-4411-80c5-e4568bd6905e",
   "metadata": {},
   "outputs": [],
   "source": [
    "# no\n",
    "print (\"Hello\")"
   ]
  },
  {
   "cell_type": "markdown",
   "id": "8b088c13-fd47-495d-8cea-ffc7c2666718",
   "metadata": {},
   "source": [
    "### Write one statement per line    \n",
    "\n",
    "For readability, it is advised in PEP 8 to [avoid writing multiple statements on the same line](https://peps.python.org/pep-0008/#other-recommendations)."
   ]
  },
  {
   "cell_type": "code",
   "execution_count": null,
   "id": "ee6658a5-1caf-46dc-86bb-345576811f47",
   "metadata": {},
   "outputs": [],
   "source": [
    "# yes\n",
    "print(\"Hello\")\n",
    "print(\"world\")"
   ]
  },
  {
   "cell_type": "code",
   "execution_count": null,
   "id": "72df9e05-eb8e-4afe-bc4e-796f1d589a14",
   "metadata": {},
   "outputs": [],
   "source": [
    "# no\n",
    "print(\"Hello\"); print(\"world\")"
   ]
  },
  {
   "cell_type": "code",
   "execution_count": null,
   "id": "7d3ae699-238f-4523-81f6-def66f5c8756",
   "metadata": {},
   "outputs": [],
   "source": [
    "# yes\n",
    "temperature = 17\n",
    "if temperature > 25: \n",
    "    print(f\"{temperature} is greater than 25\")"
   ]
  },
  {
   "cell_type": "code",
   "execution_count": null,
   "id": "27298232-93ae-48af-9b1a-5ea474dfb4e6",
   "metadata": {},
   "outputs": [],
   "source": [
    "# no\n",
    "temperature = 17\n",
    "if temperature > 25: print(f\"{temperature} is greater than 25\")"
   ]
  },
  {
   "cell_type": "markdown",
   "id": "720bcff4-b9ae-4371-9470-407ac3a5374c",
   "metadata": {},
   "source": [
    "### Code readability versus code length?\n",
    "\n",
    "You often have to find a balance between code readability and code length when writing efficient and readable code. [Compound statements](https://docs.python.org/3/reference/compound_stmts.html#compound-statements) [^compound_statements] are a way of writing multiple statements on the same line to make the code shorter but they can be more difficult to read, especially for less experienced programmers. Thus, [PEP 8 recommends avoiding compound statements in general](https://peps.python.org/pep-0008/#other-recommendations). However, sometimes squeezing multiple statements might your best option. You you just have to judge for yourself which option makes the code most readable and use that."
   ]
  },
  {
   "cell_type": "markdown",
   "id": "46575aa9-04c7-4f00-a29c-3084c8851e0b",
   "metadata": {},
   "source": [
    "### List comprehensions\n",
    "\n",
    "One puzzling example regarding the number of statements per line is the use of list comprehensions when defining lists. [List comprehensions](https://docs.python.org/3/tutorial/datastructures.html#list-comprehensions) [^list_comprehensions] are a useful approach for creating lists in a concise way. We do not cover list comprehensions in this book, but below is a short example from the [Python documentation](https://docs.python.org/3/tutorial/datastructures.html#list-comprehensions). In some cases, list comprehensions might make your code more readable and concise. In other cases, you might end up writing an excessively long statement that is difficult to read. Below we can compare two options that both produce the same output.\n",
    "\n",
    "The first option iterates over a `range` using a `for` loop, squares all values, and appends them to a `list`."
   ]
  },
  {
   "cell_type": "code",
   "execution_count": null,
   "id": "e6b9d90b-eb5a-4d9c-bff8-30178d772302",
   "metadata": {},
   "outputs": [],
   "source": [
    "squares = []\n",
    "for x in range(10):\n",
    "    squares.append(x**2)"
   ]
  },
  {
   "cell_type": "markdown",
   "id": "f67316c1-7441-4c6f-9cce-737cb9a948b7",
   "metadata": {},
   "source": [
    "The second option does the same thing using a list comprehension."
   ]
  },
  {
   "cell_type": "code",
   "execution_count": null,
   "id": "55cfabf3-7261-4d67-821e-b74ad2b29013",
   "metadata": {},
   "outputs": [],
   "source": [
    "squares = [x**2 for x in range(10)]"
   ]
  },
  {
   "cell_type": "markdown",
   "id": "6c22c9a0-f1ac-463f-8831-f4b6ea463528",
   "metadata": {},
   "source": [
    "Both approaches are fine and you are free to choose the option that you think makes your code more readable."
   ]
  },
  {
   "cell_type": "markdown",
   "id": "09133534-3d51-4be7-aae2-8a1b947cea56",
   "metadata": {},
   "source": [
    "## Best practice 4: Using modules\n",
    "\n",
    "**What should be added here???**\n",
    "\n",
    "\n",
    "\n",
    "The use of modules is introduced in Chapter 2.8 including some essential  \n",
    "\n",
    "### Import modules at the start of your files\n",
    "\n",
    "According to the good coding practices described in [PEP 8](https://peps.python.org/pep-0008/#imports) [^pep8_imports], we should always import modules at the top of a file. In this section, we have demonstrated how to import different modules along the way, but in general it is better to import required modules as the very first thing. PEP 8 refers more to traditional script files, but we can apply the guideline to Jupyter Notebook files as well by placing `import` statements in the first code cell of the notebook.\n",
    "\n",
    "### Avoid importing functions using wildcards\n",
    "\n",
    "It is best not to import many functions from a module using the form `from X import *`, where `X` is a Python module. `from X import *` will import all of the functions in module X, and though you might think this is helpful, it is much better to simply `import X` or `import X as Y` to maintain the connection between the functions and their module. In addition to losing the connection between the module and the function, it is much more likely you will encounter conflicting function names when using `from X import *`.\n",
    "\n",
    "### Choose logical names when renaming on import\n",
    "\n",
    "Do not use confusing names when renaming on import. Be smart when you import modules, and follow generally used conventions (`import pandas as pd` is a good way to do things!). If you want to make the module name shorter on import, pick a reasonable abbreviation. For instance, `import matplotlib as m` could be confusing, especially if we used `import math as m` above and might do so in other Jupyter notebooks or script files. Similarly, `import matplotlib as math` is perfectly OK syntax in Python, but bound to cause trouble. Remember, people need to be able to read and understand the code you write. Keep it simple and logical."
   ]
  },
  {
   "cell_type": "markdown",
   "id": "4162a8a6-a045-4f6d-9def-586a7635e57f",
   "metadata": {},
   "source": [
    "## Best practice 5: Using assertions\n",
    "\n",
    "[Defensive programming](https://en.wikipedia.org/wiki/Defensive_programming) aims to maximize the reliability and overall quality of a piece of software. For us, this means that we should take steps to handle unexpected input values in our code, and to provide helpful error messages that provide meaningful guidance to the user when a program raises an exception. We can take steps toward writing more reliable software by utilizing a helpful features in Python: Assertions.\n",
    "\n",
    "### Assertions\n",
    "\n",
    "{term}`Assertions <Assertion>` are a way to assert, or ensure, that the values being used in your scripts are going to be suitable for what the code does. Let's start by considering the function `convert_kph_ms()` that converts wind speeds from kilometers per hour to meters per second. We can define and use the function in the cell below."
   ]
  },
  {
   "cell_type": "code",
   "execution_count": 1,
   "id": "14933b69-3436-47af-a689-a1d6fe5364b7",
   "metadata": {},
   "outputs": [
    {
     "name": "stdout",
     "output_type": "stream",
     "text": [
      "A wind speed of 9 km/hr is 2.5 m/s.\n"
     ]
    }
   ],
   "source": [
    "def convert_kph_ms(speed):\n",
    "    \"\"\"Converts velocity (speed) in km/hr to m/s\"\"\"\n",
    "    return speed * 1000 / 3600\n",
    "\n",
    "\n",
    "wind_speed_km = 9\n",
    "wind_speed_ms = convert_kph_ms(wind_speed_km)\n",
    "\n",
    "print(f\"A wind speed of {wind_speed_km} km/hr is {wind_speed_ms} m/s.\")"
   ]
  },
  {
   "cell_type": "markdown",
   "id": "67c5402d-1905-4ad7-a9e7-9303e00c2f60",
   "metadata": {},
   "source": [
    "This all seems fine but you might want to ensure that the values for the wind speed are not negative numbers, since speed is the magnitude of the wind velocity and should always be positive or zero. An assertion can be used to enforce this condition by adding an `assert` statement to the function."
   ]
  },
  {
   "cell_type": "code",
   "execution_count": 2,
   "id": "4af0607f-0a65-4118-b072-b56ee4aa9de5",
   "metadata": {},
   "outputs": [
    {
     "name": "stdout",
     "output_type": "stream",
     "text": [
      "A wind speed of 9 km/hr is 2.5 m/s.\n"
     ]
    }
   ],
   "source": [
    "def convert_kph_ms(speed):\n",
    "    \"\"\"Converts velocity (speed) in km/hr to m/s\"\"\"\n",
    "    assert speed >= 0.0\n",
    "    return speed * 1000 / 3600\n",
    "\n",
    "\n",
    "wind_speed_km = 9\n",
    "wind_speed_ms = convert_kph_ms(wind_speed_km)\n",
    "\n",
    "print(f\"A wind speed of {wind_speed_km} km/hr is {wind_speed_ms} m/s.\")"
   ]
  },
  {
   "cell_type": "markdown",
   "id": "feaf7dea-c889-46f4-ae77-634f4f16b27f",
   "metadata": {},
   "source": [
    "OK, so everything still works when using a positive value for `speed` but what happens if a negative value is given for the wind speed?"
   ]
  },
  {
   "cell_type": "code",
   "execution_count": 3,
   "id": "526b7c60-200e-42e4-9291-4e6e62af3f5c",
   "metadata": {},
   "outputs": [
    {
     "ename": "AssertionError",
     "evalue": "",
     "output_type": "error",
     "traceback": [
      "\u001b[31m---------------------------------------------------------------------------\u001b[39m",
      "\u001b[31mAssertionError\u001b[39m                            Traceback (most recent call last)",
      "\u001b[36mCell\u001b[39m\u001b[36m \u001b[39m\u001b[32mIn[3]\u001b[39m\u001b[32m, line 2\u001b[39m\n\u001b[32m      1\u001b[39m wind_speed_km = -\u001b[32m27\u001b[39m\n\u001b[32m----> \u001b[39m\u001b[32m2\u001b[39m wind_speed_ms = \u001b[43mconvert_kph_ms\u001b[49m\u001b[43m(\u001b[49m\u001b[43mwind_speed_km\u001b[49m\u001b[43m)\u001b[49m\n\u001b[32m      4\u001b[39m \u001b[38;5;28mprint\u001b[39m(\u001b[33mf\u001b[39m\u001b[33m\"\u001b[39m\u001b[33mA wind speed of \u001b[39m\u001b[38;5;132;01m{\u001b[39;00mwind_speed_km\u001b[38;5;132;01m}\u001b[39;00m\u001b[33m km/hr is \u001b[39m\u001b[38;5;132;01m{\u001b[39;00mwind_speed_ms\u001b[38;5;132;01m}\u001b[39;00m\u001b[33m m/s.\u001b[39m\u001b[33m\"\u001b[39m)\n",
      "\u001b[36mCell\u001b[39m\u001b[36m \u001b[39m\u001b[32mIn[2]\u001b[39m\u001b[32m, line 3\u001b[39m, in \u001b[36mconvert_kph_ms\u001b[39m\u001b[34m(speed)\u001b[39m\n\u001b[32m      1\u001b[39m \u001b[38;5;28;01mdef\u001b[39;00m\u001b[38;5;250m \u001b[39m\u001b[34mconvert_kph_ms\u001b[39m(speed):\n\u001b[32m      2\u001b[39m \u001b[38;5;250m    \u001b[39m\u001b[33;03m\"\"\"Converts velocity (speed) in km/hr to m/s\"\"\"\u001b[39;00m\n\u001b[32m----> \u001b[39m\u001b[32m3\u001b[39m     \u001b[38;5;28;01massert\u001b[39;00m speed >= \u001b[32m0.0\u001b[39m\n\u001b[32m      4\u001b[39m     \u001b[38;5;28;01mreturn\u001b[39;00m speed * \u001b[32m1000\u001b[39m / \u001b[32m3600\u001b[39m\n",
      "\u001b[31mAssertionError\u001b[39m: "
     ]
    }
   ],
   "source": [
    "wind_speed_km = -27\n",
    "wind_speed_ms = convert_kph_ms(wind_speed_km)\n",
    "\n",
    "print(f\"A wind speed of {wind_speed_km} km/hr is {wind_speed_ms} m/s.\")"
   ]
  },
  {
   "cell_type": "markdown",
   "id": "b45bb22d-8f0e-4d4d-8df4-b6d656287f08",
   "metadata": {},
   "source": [
    "Now we get an `AssertionError` when a negative value is provided. This `AssertionError` is produced because of the `assert` statement in the function definition. If the condition listed after `assert` is `False`, an `AssertionError` will be raised when the code is executed.\n",
    "\n",
    "This is a definite improvement compared to the first example using the `convert_kph_ms()` function, however it would be much better to provide the user with some information about why this assertion exists. Fortunately, we can do this simply by adding some text after the condition in the assertion."
   ]
  },
  {
   "cell_type": "code",
   "execution_count": 4,
   "id": "b8023f8a-dd31-4a89-811e-242cc5c49309",
   "metadata": {},
   "outputs": [
    {
     "ename": "AssertionError",
     "evalue": "Wind speed values must be positive or zero",
     "output_type": "error",
     "traceback": [
      "\u001b[31m---------------------------------------------------------------------------\u001b[39m",
      "\u001b[31mAssertionError\u001b[39m                            Traceback (most recent call last)",
      "\u001b[36mCell\u001b[39m\u001b[36m \u001b[39m\u001b[32mIn[4]\u001b[39m\u001b[32m, line 8\u001b[39m\n\u001b[32m      4\u001b[39m     \u001b[38;5;28;01mreturn\u001b[39;00m speed * \u001b[32m1000\u001b[39m / \u001b[32m3600\u001b[39m\n\u001b[32m      7\u001b[39m wind_speed_km = -\u001b[32m27\u001b[39m\n\u001b[32m----> \u001b[39m\u001b[32m8\u001b[39m wind_speed_ms = \u001b[43mconvert_kph_ms\u001b[49m\u001b[43m(\u001b[49m\u001b[43mwind_speed_km\u001b[49m\u001b[43m)\u001b[49m\n\u001b[32m     10\u001b[39m \u001b[38;5;28mprint\u001b[39m(\u001b[33mf\u001b[39m\u001b[33m\"\u001b[39m\u001b[33mA wind speed of \u001b[39m\u001b[38;5;132;01m{\u001b[39;00mwind_speed_km\u001b[38;5;132;01m}\u001b[39;00m\u001b[33m km/hr is \u001b[39m\u001b[38;5;132;01m{\u001b[39;00mwind_speed_ms\u001b[38;5;132;01m}\u001b[39;00m\u001b[33m m/s.\u001b[39m\u001b[33m\"\u001b[39m)\n",
      "\u001b[36mCell\u001b[39m\u001b[36m \u001b[39m\u001b[32mIn[4]\u001b[39m\u001b[32m, line 3\u001b[39m, in \u001b[36mconvert_kph_ms\u001b[39m\u001b[34m(speed)\u001b[39m\n\u001b[32m      1\u001b[39m \u001b[38;5;28;01mdef\u001b[39;00m\u001b[38;5;250m \u001b[39m\u001b[34mconvert_kph_ms\u001b[39m(speed):\n\u001b[32m      2\u001b[39m \u001b[38;5;250m    \u001b[39m\u001b[33;03m\"\"\"Converts velocity (speed) in km/hr to m/s\"\"\"\u001b[39;00m\n\u001b[32m----> \u001b[39m\u001b[32m3\u001b[39m     \u001b[38;5;28;01massert\u001b[39;00m speed >= \u001b[32m0.0\u001b[39m, \u001b[33m\"\u001b[39m\u001b[33mWind speed values must be positive or zero\u001b[39m\u001b[33m\"\u001b[39m\n\u001b[32m      4\u001b[39m     \u001b[38;5;28;01mreturn\u001b[39;00m speed * \u001b[32m1000\u001b[39m / \u001b[32m3600\u001b[39m\n",
      "\u001b[31mAssertionError\u001b[39m: Wind speed values must be positive or zero"
     ]
    }
   ],
   "source": [
    "def convert_kph_ms(speed):\n",
    "    \"\"\"Converts velocity (speed) in km/hr to m/s\"\"\"\n",
    "    assert speed >= 0.0, \"Wind speed values must be positive or zero\"\n",
    "    return speed * 1000 / 3600\n",
    "\n",
    "\n",
    "wind_speed_km = -27\n",
    "wind_speed_ms = convert_kph_ms(wind_speed_km)\n",
    "\n",
    "print(f\"A wind speed of {wind_speed_km} km/hr is {wind_speed_ms} m/s.\")"
   ]
  },
  {
   "cell_type": "markdown",
   "id": "23322251-7bd6-4f4f-aa44-e67ea3c49cae",
   "metadata": {},
   "source": [
    "Nice! Now we see that when the `AssertionError` is raised, the message informs us about why it happened without having to interpret the code. The message also makes it easy to fix our value for `wind_speed_km` to work with the `convert_kph_ms()` function.\n",
    "\n",
    "In general, assertions take the following form:\n",
    "\n",
    "```python\n",
    "assert <some condition>, \"Error message to display\"\n",
    "```\n",
    "\n",
    "So they start with an `assert` statement, then list a logical test for some condition, and optionally have a text string that follows the condition, separated by a comma. If the test evaluates as `True` then nothing happens and the code continues. Otherwise, the code stops, an `AssertionError` is displayed, and any included text is written to the screen."
   ]
  },
  {
   "cell_type": "markdown",
   "id": "9ec4a603-e933-4ecc-b20a-9709ffba880e",
   "metadata": {},
   "source": [
    "### Multiple assertions - a bad example\n",
    "\n",
    "Of course, you may want to have several assertions in a function in order to ensure it works as expected and provides meaningful output. In our case, we might first want to check that the value provided for conversion from km/hr to m/s is a number. If it is not, we would not be able to convert the units properly. Let's add a second assertion to make sure our function is \"safe\"."
   ]
  },
  {
   "cell_type": "code",
   "execution_count": 5,
   "id": "3420347c-c832-4b11-977e-ffe17ebd819a",
   "metadata": {},
   "outputs": [
    {
     "ename": "AssertionError",
     "evalue": "Wind speed values must be numbers",
     "output_type": "error",
     "traceback": [
      "\u001b[31m---------------------------------------------------------------------------\u001b[39m",
      "\u001b[31mAssertionError\u001b[39m                            Traceback (most recent call last)",
      "\u001b[36mCell\u001b[39m\u001b[36m \u001b[39m\u001b[32mIn[5]\u001b[39m\u001b[32m, line 11\u001b[39m\n\u001b[32m      7\u001b[39m     \u001b[38;5;28;01mreturn\u001b[39;00m speed * \u001b[32m1000\u001b[39m / \u001b[32m3600\u001b[39m\n\u001b[32m     10\u001b[39m wind_speed_km = \u001b[33m\"\u001b[39m\u001b[33mdog\u001b[39m\u001b[33m\"\u001b[39m\n\u001b[32m---> \u001b[39m\u001b[32m11\u001b[39m wind_speed_ms = \u001b[43mconvert_kph_ms\u001b[49m\u001b[43m(\u001b[49m\u001b[43mwind_speed_km\u001b[49m\u001b[43m)\u001b[49m\n\u001b[32m     13\u001b[39m \u001b[38;5;28mprint\u001b[39m(\u001b[33mf\u001b[39m\u001b[33m\"\u001b[39m\u001b[33mA wind speed of \u001b[39m\u001b[38;5;132;01m{\u001b[39;00mwind_speed_km\u001b[38;5;132;01m}\u001b[39;00m\u001b[33m km/hr is \u001b[39m\u001b[38;5;132;01m{\u001b[39;00mwind_speed_ms\u001b[38;5;132;01m}\u001b[39;00m\u001b[33m m/s.\u001b[39m\u001b[33m\"\u001b[39m)\n",
      "\u001b[36mCell\u001b[39m\u001b[36m \u001b[39m\u001b[32mIn[5]\u001b[39m\u001b[32m, line 4\u001b[39m, in \u001b[36mconvert_kph_ms\u001b[39m\u001b[34m(speed)\u001b[39m\n\u001b[32m      1\u001b[39m \u001b[38;5;28;01mdef\u001b[39;00m\u001b[38;5;250m \u001b[39m\u001b[34mconvert_kph_ms\u001b[39m(speed):\n\u001b[32m      2\u001b[39m \u001b[38;5;250m    \u001b[39m\u001b[33;03m\"\"\"Converts velocity (speed) in km/hr to m/s\"\"\"\u001b[39;00m\n\u001b[32m      3\u001b[39m     \u001b[38;5;28;01massert\u001b[39;00m (\n\u001b[32m----> \u001b[39m\u001b[32m4\u001b[39m         \u001b[38;5;28mtype\u001b[39m(speed) == \u001b[38;5;28mint\u001b[39m \u001b[38;5;129;01mor\u001b[39;00m \u001b[38;5;28mtype\u001b[39m(speed) == \u001b[38;5;28mfloat\u001b[39m\n\u001b[32m      5\u001b[39m     ), \u001b[33m\"\u001b[39m\u001b[33mWind speed values must be numbers\u001b[39m\u001b[33m\"\u001b[39m\n\u001b[32m      6\u001b[39m     \u001b[38;5;28;01massert\u001b[39;00m speed >= \u001b[32m0.0\u001b[39m, \u001b[33m\"\u001b[39m\u001b[33mWind speed values must be positive or zero\u001b[39m\u001b[33m\"\u001b[39m\n\u001b[32m      7\u001b[39m     \u001b[38;5;28;01mreturn\u001b[39;00m speed * \u001b[32m1000\u001b[39m / \u001b[32m3600\u001b[39m\n",
      "\u001b[31mAssertionError\u001b[39m: Wind speed values must be numbers"
     ]
    }
   ],
   "source": [
    "def convert_kph_ms(speed):\n",
    "    \"\"\"Converts velocity (speed) in km/hr to m/s\"\"\"\n",
    "    assert (\n",
    "        type(speed) == int or type(speed) == float\n",
    "    ), \"Wind speed values must be numbers\"\n",
    "    assert speed >= 0.0, \"Wind speed values must be positive or zero\"\n",
    "    return speed * 1000 / 3600\n",
    "\n",
    "\n",
    "wind_speed_km = \"dog\"\n",
    "wind_speed_ms = convert_kph_ms(wind_speed_km)\n",
    "\n",
    "print(f\"A wind speed of {wind_speed_km} km/hr is {wind_speed_ms} m/s.\")"
   ]
  },
  {
   "cell_type": "markdown",
   "id": "b726717c-2627-48fd-bdb8-4efd3043dc0a",
   "metadata": {},
   "source": [
    "OK, so that works. Now, if the user attempts to give a data type that is not `int` or `float`, the function will raise an `AssertionError` indicating a number is expected for the function to work. This is fine, but there are reasons why you may not want to include assertions of this type in a function.\n",
    "\n",
    "You might think that it would be useful to use an assertion to check the type of `speed` in our function in order to avoid getting a `TypeError` if an incompatible data type is provided. However, this is not really a good idea. The reason is that a `TypeError` is designed to indicate you have incompatible data types. Thus is makes no sense to raise an `AssertionError` that does the same thing. Thus, it is better to allow the code to fail with a `TypeError` in such cases and reserve the assertions for testing values that should be used or produced by the code."
   ]
  },
  {
   "cell_type": "markdown",
   "id": "f7b88f60-8cd1-4571-9b26-a314dd7fbaa8",
   "metadata": {},
   "source": [
    "### Multiple assertions - a better example\n",
    "\n",
    "So we might not want to check our data type compatibility using assertions, but we can include a second assertion to ensure the input wind speed is a reasonable number. In this case, we can assume that the wind speed being converted was measured on Earth, and thus should be lower than [the fastest wind speed ever measured](https://en.wikipedia.org/wiki/Wind_speed#Highest_speed), 408 km/hr. Let's add that condition."
   ]
  },
  {
   "cell_type": "code",
   "execution_count": 6,
   "id": "356dcd26-0b21-4df2-b2cc-957f26c915c7",
   "metadata": {},
   "outputs": [
    {
     "ename": "TypeError",
     "evalue": "'>=' not supported between instances of 'str' and 'float'",
     "output_type": "error",
     "traceback": [
      "\u001b[31m---------------------------------------------------------------------------\u001b[39m",
      "\u001b[31mTypeError\u001b[39m                                 Traceback (most recent call last)",
      "\u001b[36mCell\u001b[39m\u001b[36m \u001b[39m\u001b[32mIn[6]\u001b[39m\u001b[32m, line 9\u001b[39m\n\u001b[32m      5\u001b[39m     \u001b[38;5;28;01mreturn\u001b[39;00m speed * \u001b[32m1000\u001b[39m / \u001b[32m3600\u001b[39m\n\u001b[32m      8\u001b[39m wind_speed_km = \u001b[33m\"\u001b[39m\u001b[33m409\u001b[39m\u001b[33m\"\u001b[39m\n\u001b[32m----> \u001b[39m\u001b[32m9\u001b[39m wind_speed_ms = \u001b[43mconvert_kph_ms\u001b[49m\u001b[43m(\u001b[49m\u001b[43mwind_speed_km\u001b[49m\u001b[43m)\u001b[49m\n\u001b[32m     11\u001b[39m \u001b[38;5;28mprint\u001b[39m(\u001b[33mf\u001b[39m\u001b[33m\"\u001b[39m\u001b[33mA wind speed of \u001b[39m\u001b[38;5;132;01m{\u001b[39;00mwind_speed_km\u001b[38;5;132;01m}\u001b[39;00m\u001b[33m km/hr is \u001b[39m\u001b[38;5;132;01m{\u001b[39;00mwind_speed_ms\u001b[38;5;132;01m}\u001b[39;00m\u001b[33m m/s.\u001b[39m\u001b[33m\"\u001b[39m)\n",
      "\u001b[36mCell\u001b[39m\u001b[36m \u001b[39m\u001b[32mIn[6]\u001b[39m\u001b[32m, line 3\u001b[39m, in \u001b[36mconvert_kph_ms\u001b[39m\u001b[34m(speed)\u001b[39m\n\u001b[32m      1\u001b[39m \u001b[38;5;28;01mdef\u001b[39;00m\u001b[38;5;250m \u001b[39m\u001b[34mconvert_kph_ms\u001b[39m(speed):\n\u001b[32m      2\u001b[39m \u001b[38;5;250m    \u001b[39m\u001b[33;03m\"\"\"Converts velocity (speed) in km/hr to m/s\"\"\"\u001b[39;00m\n\u001b[32m----> \u001b[39m\u001b[32m3\u001b[39m     \u001b[38;5;28;01massert\u001b[39;00m \u001b[43mspeed\u001b[49m\u001b[43m \u001b[49m\u001b[43m>\u001b[49m\u001b[43m=\u001b[49m\u001b[43m \u001b[49m\u001b[32;43m0.0\u001b[39;49m, \u001b[33m\"\u001b[39m\u001b[33mWind speed values must be positive or zero\u001b[39m\u001b[33m\"\u001b[39m\n\u001b[32m      4\u001b[39m     \u001b[38;5;28;01massert\u001b[39;00m speed <= \u001b[32m408.0\u001b[39m, \u001b[33m\"\u001b[39m\u001b[33mWind speed exceeds fastest winds ever measured\u001b[39m\u001b[33m\"\u001b[39m\n\u001b[32m      5\u001b[39m     \u001b[38;5;28;01mreturn\u001b[39;00m speed * \u001b[32m1000\u001b[39m / \u001b[32m3600\u001b[39m\n",
      "\u001b[31mTypeError\u001b[39m: '>=' not supported between instances of 'str' and 'float'"
     ]
    }
   ],
   "source": [
    "def convert_kph_ms(speed):\n",
    "    \"\"\"Converts velocity (speed) in km/hr to m/s\"\"\"\n",
    "    assert speed >= 0.0, \"Wind speed values must be positive or zero\"\n",
    "    assert speed <= 408.0, \"Wind speed exceeds fastest winds ever measured\"\n",
    "    return speed * 1000 / 3600\n",
    "\n",
    "\n",
    "wind_speed_km = \"409\"\n",
    "wind_speed_ms = convert_kph_ms(wind_speed_km)\n",
    "\n",
    "print(f\"A wind speed of {wind_speed_km} km/hr is {wind_speed_ms} m/s.\")"
   ]
  },
  {
   "cell_type": "markdown",
   "id": "8575acbd-ec9b-4403-b751-d7d1c8d967e5",
   "metadata": {},
   "source": [
    "This is a better example for two reasons:\n",
    "\n",
    "1. We now allow a `TypeError` when incompatible data types are used in our function, which is a clear and familiar error message.\n",
    "2. We use assertions to check the values used in the function make sense for its intended use. If we want to help users convert wind speeds on Earth, we provide bounds that make sure they are using reasonable input values. Thus, we help them use our function the correct way.\n",
    "\n",
    "Combined, these assertions ensure our function handles common mistakes and provide the user with helpful feedback to be able to use the function properly.\n",
    "\n",
    "One thing that is important to note about assertions is that although we use them here to check that our function input values are reasonable, this is not generally the suggested use. Instead, more advanced programmers recommend using assertions only to test that your code is working properly internally. For example, you would use assertions to check for things that should not happen, such as functions that duplicate values in lists when they should not. The reason it is not recommended to use assertions for testing user input values or the existence of files is that assertions can be disabled using flags when running a Python program. Thus, it is possible they could be ignored entirely. This is fine when debugging code, but obviously not desired when users are running your programs. If you're interested in more details, you can find more in [an article on using assertions in the Python wiki](https://wiki.python.org/moin/UsingAssertionsEffectively) [^wiki_assertions] or on the [Software Carpentry website](https://swcarpentry.github.io/python-novice-inflammation/10-defensive.html) [^swc_assertions]."
   ]
  },
  {
   "cell_type": "markdown",
   "id": "8dcf2c9f-d9ba-4fb9-85c1-9ff560cc77c7",
   "metadata": {},
   "source": [
    "## Footnotes\n",
    "\n",
    "[^ascii]: <https://en.wikipedia.org/wiki/ASCII#Printable_character_table>\n",
    "[^coding_conventions]: <https://en.wikipedia.org/wiki/Coding_conventions>\n",
    "[^compound_statements]: <https://docs.python.org/3/reference/compound_stmts.html#compound-statements>\n",
    "[^keywords]: <https://www.geeksforgeeks.org/python-keywords/>\n",
    "[^list_comprehensions]: <>\n",
    "[^markdown_basic]: <https://www.markdownguide.org/basic-syntax/>\n",
    "[^markdown_extended]: <https://www.markdownguide.org/extended-syntax/>\n",
    "[^pep8]: <https://peps.python.org/pep-0008/>\n",
    "[^pep8_imports]: <https://peps.python.org/pep-0008/#imports>\n",
    "[^pep8_indentation]: <https://peps.python.org/pep-0008/#indentation>\n",
    "[^pep8_length]: <https://peps.python.org/pep-0008/#maximum-line-length>\n",
    "[^pep257]: <https://peps.python.org/pep-0257/>\n",
    "[^swc_assertions]: <https://swcarpentry.github.io/python-novice-inflammation/10-defensive.html>\n",
    "[^wiki_assertions]: <https://wiki.python.org/moin/UsingAssertionsEffectively>"
   ]
  }
 ],
 "metadata": {
  "kernelspec": {
   "display_name": "Python 3 (ipykernel)",
   "language": "python",
   "name": "python3"
  },
  "language_info": {
   "codemirror_mode": {
    "name": "ipython",
    "version": 3
   },
   "file_extension": ".py",
   "mimetype": "text/x-python",
   "name": "python",
   "nbconvert_exporter": "python",
   "pygments_lexer": "ipython3",
   "version": "3.12.9"
  }
 },
 "nbformat": 4,
 "nbformat_minor": 5
}
