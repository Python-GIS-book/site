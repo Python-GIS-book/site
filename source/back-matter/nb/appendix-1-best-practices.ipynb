{
 "cells": [
  {
   "cell_type": "markdown",
   "id": "fc22eab9-bbb8-4f50-8b15-3733153b42ab",
   "metadata": {},
   "source": [
    "# Python programming best practices"
   ]
  },
  {
   "cell_type": "markdown",
   "id": "5bff4703-4d5f-4b06-904c-d5fedd680ee3",
   "metadata": {},
   "source": [
    "Content to be added."
   ]
  },
  {
   "cell_type": "markdown",
   "id": "09133534-3d51-4be7-aae2-8a1b947cea56",
   "metadata": {},
   "source": [
    "## Using modules\n",
    "\n",
    "### Import modules at the start of your files\n",
    "\n",
    "According to the good coding practices described in [PEP 8](https://peps.python.org/pep-0008/#imports) [^pep8], we should always import modules at the top of a file. In this section, we have demonstrated how to import different modules along the way, but in general it is better to import required modules as the very first thing. PEP 8 refers more to traditional script files, but we can apply the guideline to Jupyter Notebook files as well by placing `import` statements in the first code cell of the notebook.\n",
    "\n",
    "### Avoid importing functions using wildcards\n",
    "\n",
    "It is best not to import many functions from a module using the form `from X import *`, where `X` is a Python module. `from X import *` will import all of the functions in module X, and though you might think this is helpful, it is much better to simply `import X` or `import X as Y` to maintain the connection between the functions and their module. In addition to losing the connection between the module and the function, it is much more likely you will encounter conflicting function names when using `from X import *`.\n",
    "\n",
    "### Choose logical names when renaming on import\n",
    "\n",
    "Do not use confusing names when renaming on import. Be smart when you import modules, and follow generally used conventions (`import pandas as pd` is a good way to do things!). If you want to make the module name shorter on import, pick a reasonable abbreviation. For instance, `import matplotlib as m` could be confusing, especially if we used `import math as m` above and might do so in other Jupyter notebooks or script files. Similarly, `import matplotlib as math` is perfectly OK syntax in Python, but bound to cause trouble. Remember, people need to be able to read and understand the code you write. Keep it simple and logical."
   ]
  },
  {
   "cell_type": "markdown",
   "id": "8dcf2c9f-d9ba-4fb9-85c1-9ff560cc77c7",
   "metadata": {},
   "source": [
    "## Footnotes\n",
    "\n",
    "[^pep8]: <https://peps.python.org/pep-0008/#imports>"
   ]
  }
 ],
 "metadata": {
  "kernelspec": {
   "display_name": "Python 3 (ipykernel)",
   "language": "python",
   "name": "python3"
  },
  "language_info": {
   "codemirror_mode": {
    "name": "ipython",
    "version": 3
   },
   "file_extension": ".py",
   "mimetype": "text/x-python",
   "name": "python",
   "nbconvert_exporter": "python",
   "pygments_lexer": "ipython3",
   "version": "3.12.9"
  }
 },
 "nbformat": 4,
 "nbformat_minor": 5
}
