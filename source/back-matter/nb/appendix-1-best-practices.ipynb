{
 "cells": [
  {
   "cell_type": "markdown",
   "id": "fc22eab9-bbb8-4f50-8b15-3733153b42ab",
   "metadata": {},
   "source": [
    "# Python programming best practices"
   ]
  },
  {
   "cell_type": "markdown",
   "id": "5bff4703-4d5f-4b06-904c-d5fedd680ee3",
   "metadata": {},
   "source": [
    "This book aims to introduce you to programming in Python, but also to good programming practices. These comprise practical tips based on practices used by professional programmers that help them write better programs that are easier to understand and share with others. To say it differently, there are many ways to learn to program and we want to help you learn how to program the right way!"
   ]
  },
  {
   "cell_type": "markdown",
   "id": "f4d88afc-286b-4755-8009-0ae1b6ddec3d",
   "metadata": {},
   "source": [
    "## Selecting variable names\n",
    "\n",
    "The selection of variable names might seem insignificant in some ways, but poorly chosen variable names can be confusing, unclear, or even misleading. Thus, we provide some examples of both poorly and well chosen variable names below along with some tips for formatting of your variables.\n",
    "\n",
    "### Some \"not-so-good\" variable names\n",
    "\n",
    "Let's first consider some examples of problematic variable names.\n",
    "\n",
    "```python\n",
    "s = \"101533\"\n",
    "sid = \"101533\"\n",
    "```\n",
    "\n",
    "Here we have two variable names that are nice and short, but it is not particularly clear what kind of value they are being used to store. The variables `s` and `sid` are simply too short and cannot communicate what they should be used for in the code. You might think you know what they are for at the moment, but imagine not looking at the code for a few months. Would you know then? What about if you share the code with a friend? Would they know? Probably not.\n",
    "\n",
    "Let's consider another example.\n",
    "\n",
    "```python\n",
    "finnishmeteorlogicalinstituteobservationstationidentificationnumber = \"101533\"\n",
    "```\n",
    "\n",
    "Here we have the opposite problem. The variable name `finnishmeteorologicalinstituteobservationstationidentificationnumber` potentially provides more information about what the variable represents (the identification number of a Finnish Meteorological Institute observation station), but it does so in a format that is not easy to read nor something you're likely to want to type more than once. The previous examples were too short, but now we have a variable name that is too long (and hard to read as a result)."
   ]
  },
  {
   "cell_type": "markdown",
   "id": "aa96fe31-835d-4c24-a664-49fa466eb9d8",
   "metadata": {},
   "source": [
    "### Selecting \"good\" variable names\n",
    "\n",
    "A good variable name should:\n",
    "\n",
    "1. Be clear and concise. \n",
    "\n",
    "2. Be written in English. A general coding practice is to write code with variable names in English, as that is the most likely common language between programmers. Thus, variable names such as `muuttuja`, the word for \"variable\" in Finnish should be avoided. Note that `muuttuja` is not a good name for other reasons as well.\n",
    "\n",
    "3. Not contain special characters. Python supports use of special characters by way of various encoding options that can be given in a program. That said, it is better to avoid variables such as `lämpötila` (the Finnish word for temperature) because encoding issues can arise in some cases. It is recommended to stick to the [standard printable ASCII character set](https://en.wikipedia.org/wiki/ASCII#Printable_characters) [^ascii] to be safe.\n",
    "\n",
    "4. Not conflict with any [Python keywords](https://www.geeksforgeeks.org/python-keywords/) [^keywords], such as `for`, `True`, `False`, `and`, `if`, or `else`. These are reserved for special operations in Python and cannot be used as variable names.\n",
    "\n",
    "With this in mind, let's now consider two formats commonly used for formatting Python variables."
   ]
  },
  {
   "cell_type": "markdown",
   "id": "89866bee-b1a1-4fd3-99f9-ac87d678e655",
   "metadata": {},
   "source": [
    "### Recommended variable format 1: pothole_case naming\n",
    "\n",
    "*{term}`pothole_case naming <Pothole case>`* uses lowercase words separated by underscores `_`. This is our suggested format as the underscores make it easy to read the variable and do not add much to the length of the variable name. As an example, consider the variable `temp_celsius`. Considering our earlier examples of poor variable names, we could instead write the following.\n",
    "\n",
    "```python\n",
    "fmi_station_id = \"101533\"\n",
    "```\n",
    "\n",
    "Here, our variable name conveys all of the essential information we need, while remaining easy to read.\n",
    "\n",
    "### Recommended variable format 1: camelCase naming\n",
    "\n",
    "*{term}`camelCase or CamelCase naming <Camel case>`* uses capitalization of the first letter of words in a variable name to make it easier to read. In some cases the first letter of the variable may be capitalized. The variable `tempFahrenheit` is one example of camelCase. Considering the earlier examples, we could use camelCase to write the following.\n",
    "\n",
    "```python\n",
    "fmiStationID = \"101533\"\n",
    "stationID = \"101533\"\n",
    "```\n",
    "\n",
    "Again, this variable name is clear and easy to read.\n",
    "\n",
    "### General recommendation\n",
    "\n",
    "The choice from the formatting options above is yours, but as you may have seen, we tend to utilize pothole_case naming most often in this book. This is because we feel it is the easiest to read and seems to be most common amongst Python programmers. You are welcome to use either option, as long as you are consistent in the use. It might take an extra second of thought, but selecting and formatting your variables can make a big difference in the ease of use of your Python programs!"
   ]
  },
  {
   "cell_type": "markdown",
   "id": "09133534-3d51-4be7-aae2-8a1b947cea56",
   "metadata": {},
   "source": [
    "## Using modules\n",
    "\n",
    "### Import modules at the start of your files\n",
    "\n",
    "According to the good coding practices described in [PEP 8](https://peps.python.org/pep-0008/#imports) [^pep8], we should always import modules at the top of a file. In this section, we have demonstrated how to import different modules along the way, but in general it is better to import required modules as the very first thing. PEP 8 refers more to traditional script files, but we can apply the guideline to Jupyter Notebook files as well by placing `import` statements in the first code cell of the notebook.\n",
    "\n",
    "### Avoid importing functions using wildcards\n",
    "\n",
    "It is best not to import many functions from a module using the form `from X import *`, where `X` is a Python module. `from X import *` will import all of the functions in module X, and though you might think this is helpful, it is much better to simply `import X` or `import X as Y` to maintain the connection between the functions and their module. In addition to losing the connection between the module and the function, it is much more likely you will encounter conflicting function names when using `from X import *`.\n",
    "\n",
    "### Choose logical names when renaming on import\n",
    "\n",
    "Do not use confusing names when renaming on import. Be smart when you import modules, and follow generally used conventions (`import pandas as pd` is a good way to do things!). If you want to make the module name shorter on import, pick a reasonable abbreviation. For instance, `import matplotlib as m` could be confusing, especially if we used `import math as m` above and might do so in other Jupyter notebooks or script files. Similarly, `import matplotlib as math` is perfectly OK syntax in Python, but bound to cause trouble. Remember, people need to be able to read and understand the code you write. Keep it simple and logical."
   ]
  },
  {
   "cell_type": "markdown",
   "id": "8dcf2c9f-d9ba-4fb9-85c1-9ff560cc77c7",
   "metadata": {},
   "source": [
    "## Footnotes\n",
    "\n",
    "[^ascii]: <https://en.wikipedia.org/wiki/ASCII#Printable_character_table>\n",
    "[^keywords]: <https://www.geeksforgeeks.org/python-keywords/>\n",
    "[^pep8]: <https://peps.python.org/pep-0008/#imports>"
   ]
  }
 ],
 "metadata": {
  "kernelspec": {
   "display_name": "Python 3 (ipykernel)",
   "language": "python",
   "name": "python3"
  },
  "language_info": {
   "codemirror_mode": {
    "name": "ipython",
    "version": 3
   },
   "file_extension": ".py",
   "mimetype": "text/x-python",
   "name": "python",
   "nbconvert_exporter": "python",
   "pygments_lexer": "ipython3",
   "version": "3.12.9"
  }
 },
 "nbformat": 4,
 "nbformat_minor": 5
}
