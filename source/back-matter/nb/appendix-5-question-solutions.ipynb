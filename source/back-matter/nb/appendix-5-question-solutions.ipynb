{
 "cells": [
  {
   "cell_type": "markdown",
   "id": "442407cc-e877-47e6-b523-4455b9536b0d",
   "metadata": {
    "editable": true,
    "slideshow": {
     "slide_type": ""
    },
    "tags": []
   },
   "source": [
    "# B.1 Question solutions"
   ]
  },
  {
   "cell_type": "markdown",
   "id": "bcba608f-7a52-4a60-aa9f-0349fa2e589a",
   "metadata": {
    "editable": true,
    "slideshow": {
     "slide_type": ""
    },
    "tags": []
   },
   "source": [
    "## Chapter 2"
   ]
  },
  {
   "cell_type": "markdown",
   "id": "788748ad-ae1f-48b3-9e56-bf0d97f27524",
   "metadata": {},
   "source": [
    "### Question 2.1\n",
    "\n",
    "```python\n",
    "math.sin(math.pi)\n",
    "```"
   ]
  },
  {
   "cell_type": "markdown",
   "id": "b9fd2f7d-2fdc-43f6-955b-3254dbd23d78",
   "metadata": {},
   "source": [
    "### Question 2.2\n",
    "\n",
    "```python\n",
    "my_variable = \"Python is cool!\"\n",
    "my_variable\n",
    "```"
   ]
  },
  {
   "cell_type": "markdown",
   "id": "cb2b660a-7768-4c0b-8902-13e6e6a8863a",
   "metadata": {},
   "source": [
    "### Question 2.3\n",
    "\n",
    "```python\n",
    "# Solutions may vary\n",
    "first_variable = \"Python\"\n",
    "second_variable = \" is cool!\"\n",
    "\n",
    "print(first_variable + second_variable)  # Works\n",
    "print(5 * first_variable)                # Works\n",
    "print(first_variable - second_variable)  # Fails\n",
    "```"
   ]
  },
  {
   "cell_type": "markdown",
   "id": "4c696dec-1c2f-4488-b11a-3b0e1d379ab2",
   "metadata": {
    "editable": true,
    "slideshow": {
     "slide_type": ""
    },
    "tags": []
   },
   "source": [
    "### Question 2.4\n",
    "\n",
    "```python\n",
    "82.0\n",
    "```"
   ]
  },
  {
   "cell_type": "markdown",
   "id": "47b85bfd-e57a-4a5a-8811-ad525e06ea9f",
   "metadata": {
    "editable": true,
    "slideshow": {
     "slide_type": ""
    },
    "tags": []
   },
   "source": [
    "### Question 2.5\n",
    "\n",
    "```python\n",
    "ValueError\n",
    "```"
   ]
  },
  {
   "cell_type": "markdown",
   "id": "5fde4571-f5c0-4208-986f-9c933c209b36",
   "metadata": {
    "editable": true,
    "slideshow": {
     "slide_type": ""
    },
    "tags": []
   },
   "source": [
    "### Question 2.6\n",
    "\n",
    "```python\n",
    "'kitten'\n",
    "```"
   ]
  },
  {
   "cell_type": "markdown",
   "id": "7ca19c29-c65b-479c-b4ef-0ad6fb5136aa",
   "metadata": {
    "editable": true,
    "slideshow": {
     "slide_type": ""
    },
    "tags": []
   },
   "source": [
    "### Question 2.7\n",
    "\n",
    "```python\n",
    "for i in range(2, 9, 3):\n",
    "    print(i)\n",
    "```"
   ]
  },
  {
   "cell_type": "markdown",
   "id": "caae1229-6e57-425d-a658-9bdbd677dd52",
   "metadata": {},
   "source": [
    "### Question 2.8\n",
    "\n",
    "```bash\n",
    "11\n",
    "7\n",
    "11\n",
    "15\n",
    "11\n",
    "```"
   ]
  },
  {
   "cell_type": "markdown",
   "id": "39398562-d2d5-4817-a5d6-b6526b2bc071",
   "metadata": {},
   "source": [
    "### Question 2.9\n",
    "\n",
    "```python\n",
    "weather = \"rain\"\n",
    "\n",
    "if weather == \"rain\":\n",
    "    print(\"Wear a raincoat\")\n",
    "    print(\"Wear rain boots\")\n",
    "else:\n",
    "    print(\"No rainwear needed\")\n",
    "```"
   ]
  },
  {
   "cell_type": "markdown",
   "id": "a9206124-0cd6-42dd-a37c-733f05c7b4ea",
   "metadata": {},
   "source": [
    "### Question 2.10\n",
    "\n",
    "```python\n",
    "'B'\n",
    "```"
   ]
  },
  {
   "cell_type": "markdown",
   "id": "112498aa-b679-4236-a8fd-fea88170405c",
   "metadata": {},
   "source": [
    "### Question 2.11\n",
    "\n",
    "```python\n",
    "weather = \"rain\"\n",
    "wind_speed = 14\n",
    "comfort_limit = 10\n",
    "\n",
    "# If it is windy or raining, print \"stay at home\",\n",
    "# otherwise (else) print \"go out and enjoy the weather!\"\n",
    "if (weather == \"rain\") or (wind_speed >= comfort_limit):\n",
    "    print(\"Just stay at home\")\n",
    "else:\n",
    "    print(\"Go out and enjoy the weather! :)\")\n",
    "```"
   ]
  },
  {
   "cell_type": "markdown",
   "id": "c1298184-0ede-4de9-96bd-f4ff0e3e3eef",
   "metadata": {
    "editable": true,
    "slideshow": {
     "slide_type": ""
    },
    "tags": []
   },
   "source": [
    "### Question 2.12\n",
    "```python\n",
    "def celsius_to_newton(temp_celsius):\n",
    "    return temp_celsius * 0.33\n",
    "```"
   ]
  },
  {
   "cell_type": "markdown",
   "id": "71154383-cd9e-405a-ae1d-fdc2f8e34476",
   "metadata": {
    "editable": true,
    "slideshow": {
     "slide_type": ""
    },
    "tags": []
   },
   "source": [
    "## Chapter 3"
   ]
  },
  {
   "cell_type": "markdown",
   "id": "33f45cd2-9aa9-4c65-9933-42cc6446d5b1",
   "metadata": {},
   "source": [
    "### Question 3.1\n",
    "```python\n",
    "temp_data = pd.read_csv(\n",
    "    \"data/kumpula-summer-2024.txt\", skiprows=8, usecols=[\"YEARMODA\", \"TEMP1\"]\n",
    ")\n",
    "```"
   ]
  },
  {
   "cell_type": "markdown",
   "id": "24a4bd8b-1b8e-4561-8773-6a322ce4120f",
   "metadata": {},
   "source": [
    "### Question 3.2\n",
    "```python\n",
    "len(data.columns)\n",
    "```"
   ]
  },
  {
   "cell_type": "markdown",
   "id": "ce597cc0-502d-4a54-9f79-036d1685e074",
   "metadata": {},
   "source": [
    "### Question 3.3\n",
    "```python\n",
    "data[[\"TEMP1\", \"TEMP2\", \"MAX\", \"MIN\"]].describe()\n",
    "```"
   ]
  },
  {
   "cell_type": "markdown",
   "id": "9657de37-ec4b-430a-b2dd-8287c3f5467b",
   "metadata": {},
   "source": [
    "### Question 3.4\n",
    "```python\n",
    "data[\"TEMP_KELVIN\"] = data[\"TEMP\"] + 273.15\n",
    "```"
   ]
  },
  {
   "cell_type": "markdown",
   "id": "81f76b3e-a609-4364-99f9-fa93ace69ec9",
   "metadata": {},
   "source": [
    "### Question 3.5\n",
    "```python\n",
    "data.loc[85:91, \"TEMP\"].mean()\n",
    "```"
   ]
  },
  {
   "cell_type": "markdown",
   "id": "73383765-f1ba-4715-8e8c-b82cadbc0165",
   "metadata": {},
   "source": [
    "### Question 3.6\n",
    "```python\n",
    "data[\"TEMP\"].loc[data[\"YEARMODA\"] >= 20240825].mean()\n",
    "```"
   ]
  },
  {
   "cell_type": "markdown",
   "id": "1069c1f1-8121-41af-9c5b-d1481d4f6b1e",
   "metadata": {},
   "source": [
    "### Question 3.7\n",
    "```python\n",
    "data[\"MONTH\"] = data[\"DATE_STR\"].str.slice(start=4, stop=6)\n",
    "```"
   ]
  },
  {
   "cell_type": "markdown",
   "id": "8c7a08f7-1c4f-46fb-8fe6-35c9f1c07164",
   "metadata": {
    "editable": true,
    "slideshow": {
     "slide_type": ""
    },
    "tags": []
   },
   "source": [
    "## Chapter 4\n",
    "\n",
    "4.1\n",
    "```python\n",
    "# Define dates\n",
    "start_time = pd.to_datetime(\"201910011800\")\n",
    "end_time = pd.to_datetime(\"201910020000\")\n",
    "warm_time = pd.to_datetime(\"201910012055\")\n",
    "\n",
    "# Adjust axis limits\n",
    "ax = oct1_temps.plot(\n",
    "    style=\"k--\",\n",
    "    title=\"Helsinki-Vantaa temperatures\",\n",
    "    xlabel=\"Date\",\n",
    "    ylabel=\"Temperature [°F]\",\n",
    "    xlim=[start_time, end_time],\n",
    "    ylim=[35.0, 44.0],\n",
    "    label=\"Observed temperature\",\n",
    "    figsize=(12, 6),\n",
    ")\n",
    "\n",
    "# Add plot text\n",
    "ax.text(warm_time, 43.0, \"Warmest temperature in the evening ->\")\n",
    "ax.legend(loc=4)\n",
    "```\n",
    "\n",
    "4.2\n",
    "```python\n",
    "len(data.dropna())\n",
    "```\n",
    "\n",
    "4.3\n",
    "```python\n",
    "# Create the new figure and subplots\n",
    "fig, axs = plt.subplots(nrows=1, ncols=2, figsize=(12, 5))\n",
    "\n",
    "# Rename the axes for ease of use\n",
    "ax1 = axs[0]\n",
    "ax2 = axs[1]\n",
    "\n",
    "# Set plot line width\n",
    "line_width = 1.5\n",
    "\n",
    "# Plot data\n",
    "winter_temps.plot(\n",
    "    ax=ax1,\n",
    "    c=\"blue\",\n",
    "    lw=line_width,\n",
    "    ylim=[min_temp, max_temp],\n",
    "    xlabel=\"Date\",\n",
    "    ylabel=\"Temperature [°C]\",\n",
    "    grid=True,\n",
    ")\n",
    "summer_temps.plot(\n",
    "    ax=ax2,\n",
    "    c=\"green\",\n",
    "    lw=line_width,\n",
    "    ylim=[min_temp, max_temp],\n",
    "    xlabel=\"Date\",\n",
    "    grid=True,\n",
    ")\n",
    "\n",
    "# Set figure title\n",
    "fig.suptitle(\n",
    "    \"2012-2013 Winter and summer temperature observations - Helsinki-Vantaa airport\"\n",
    ")\n",
    "\n",
    "# Rotate the x-axis labels so they don't overlap\n",
    "plt.setp(ax1.xaxis.get_majorticklabels(), rotation=20)\n",
    "plt.setp(ax2.xaxis.get_majorticklabels(), rotation=20)\n",
    "\n",
    "# Season label text\n",
    "ax1.text(pd.to_datetime(\"20130215\"), -25, \"Winter\")\n",
    "ax2.text(pd.to_datetime(\"20130815\"), -25, \"Summer\")\n",
    "```"
   ]
  },
  {
   "cell_type": "markdown",
   "id": "24d4eb8f-ba3a-4ae1-bf64-0718ddd733e6",
   "metadata": {
    "editable": true,
    "slideshow": {
     "slide_type": ""
    },
    "tags": []
   },
   "source": [
    "## Chapter 6\n",
    "\n",
    "6.1\n",
    "\n",
    "```python\n",
    "\n",
    "# Triangle\n",
    "Polygon([(0, 0), (2, 4), (4, 0)])\n",
    "\n",
    "# Square\n",
    "Polygon([(0, 0), (0, 4), (4, 4), (4, 0)])\n",
    "\n",
    "# Circle (using a buffer around a point)\n",
    "point = Point((0, 0))\n",
    "point.buffer(1)\n",
    "\n",
    "```\n",
    "\n",
    "6.2\n",
    "\n",
    "```python\n",
    "\n",
    "print(\"Number of rows\", len(data[\"CLASS\"]))\n",
    "print(\"Number of classes\", data[\"CLASS\"].nunique())\n",
    "print(\"Number of groups\", data[\"GROUP\"].nunique())\n",
    "\n",
    "```\n",
    "\n",
    "\n",
    "6.3\n",
    "\n",
    "```python\n",
    "\n",
    "# Calculate population density\n",
    "data[\"pop_density_km2\"] = data[\"pop2019\"] / data[\"area_km2\"]\n",
    "\n",
    "# Print out average and maximum values\n",
    "print(\"Average:\", \n",
    "      round(data[\"pop_density_km2\"].mean()), \"pop/km2\")\n",
    "\n",
    "print(\"Maximum:\", \n",
    "      round(data[\"pop_density_km2\"].max()), \"pop/km2\")\n",
    "\n",
    "```\n",
    "\n",
    "6.4\n",
    "\n",
    "```python\n",
    "\n",
    "# Save to file\n",
    "temp = gpd.read_file(output_fp)\n",
    "\n",
    "# Check first rows\n",
    "temp.head()\n",
    "\n",
    "# You can also plot the data for a visual check\n",
    "temp.plot()\n",
    "\n",
    "```\n",
    "\n",
    "6.5\n",
    "\n",
    "```python\n",
    "# Plot the admin borders as background\n",
    "ax1 = data.plot(color=\"grey\")\n",
    "\n",
    "# Plot the buffer zone of dense areas on top\n",
    "dissolved.loc[dissolved[\"dense\"]==1].buffer(500).plot(ax=ax1, \n",
    "                                                      alpha=0.5, \n",
    "                                                      color=\"yellow\")\n",
    "```\n",
    "\n",
    "6.6\n",
    "\n",
    "```python\n",
    "# Select Finland and reproject\n",
    "finland_wgs84 = data_wgs84.loc[data_wgs84[\"NAME_ENGL\"]==\"Finland\"].copy()\n",
    "finland_etrs89 = finland_wgs84.to_crs(epsg=3067)\n",
    "\n",
    "# Make subplots that are next to each other\n",
    "fig, (ax1, ax2) = plt.subplots(nrows=1, ncols=2, figsize=(1, 1))\n",
    "\n",
    "# Plot the data in WGS84 CRS\n",
    "finland_wgs84.plot(ax=ax1, facecolor=\"gray\")\n",
    "\n",
    "# Plot the one with ETRS-LAEA projection\n",
    "finland_etrs89.plot(ax=ax2, facecolor=\"blue\", edgecolor=\"white\", lw=0.5)\n",
    "\n",
    "# Add titles\n",
    "ax1.set_title(\"WGS84\")\n",
    "ax2.set_title(\"ETRS89 / TM35FIN\")\n",
    "\n",
    "# Set aspect ratio as 1\n",
    "ax1.set_aspect(aspect=1)\n",
    "ax2.set_aspect(aspect=1)\n",
    "\n",
    "# Remove empty white space around the plot\n",
    "plt.tight_layout()\n",
    "```\n",
    "\n",
    "6.7\n",
    "\n",
    "```python\n",
    "\n",
    "# Example list of addresses\n",
    "adress_list = [\"Pietari Kalmin katu 5, Helsinki, Finland\", \n",
    "               \"Konetekniikka 1, Espoo, Finland\"]\n",
    "\n",
    "# Do the geocoding\n",
    "geo = geocode(\n",
    "    adress_list, provider=\"nominatim\", user_agent=\"pythongis_book\", timeout=10\n",
    ")\n",
    "\n",
    "# Check if the result looks correct on a map\n",
    "geo.explore()\n",
    "```\n",
    "\n",
    "6.8\n",
    "\n",
    "```python\n",
    "print(\"Line a is equal to line b: \", line_a.equals(line_b))\n",
    "```\n",
    "\n",
    "6.9\n",
    "```python\n",
    "# Check column names in the spatial join result\n",
    "print(districts_with_points.columns.values)\n",
    "\n",
    "# Group by district name\n",
    "grouped = districts_with_points.groupby(\"Name\")\n",
    "\n",
    "# Count the number of rows (adress locations) in each district\n",
    "grouped.index_right.count()\n",
    "```\n",
    "\n",
    "6.10\n",
    "\n",
    "```python\n",
    "\n",
    "# Join information from address points to the grid\n",
    "result = pop_grid.sjoin(addresses)\n",
    "\n",
    "# Check the structure\n",
    "print(result.head(2))\n",
    "\n",
    "# Visualize the result\n",
    "result.explore()\n",
    "\n",
    "```\n",
    "How does the result differ from the version where we joined information from the grids to the points? \n",
    "- this result has polygon geometry in stead of points\n",
    "- order of the columns is different\n",
    "  \n",
    "What would be the benefit of doing the join this way around?\n",
    "- If your research question is related to the population grid, then it might make more sense to join additional information to those statistical units.\n",
    "- If the point data would be somehow sensitive, joining the information to a coarser spatial unit might be meaningful\n",
    "\n",
    "\n",
    "6.11\n",
    "\n",
    "```python\n",
    "#insert solution here\n",
    "```\n",
    "\n",
    "6.12\n",
    "\n",
    "```python\n",
    "\n",
    "# Create a 200 meter buffer\n",
    "stop_buffer = stops.copy()\n",
    "stop_buffer[\"geometry\"] = stops.buffer(200)\n",
    "\n",
    "# Find all the building points intersecting with the buffer\n",
    "buffer_buildings = stop_buffer.sjoin(building_points, predicate=\"intersects\")\n",
    "\n",
    "# Calculate the number of buildings per stop by grouping\n",
    "building_count = buffer_buildings.groupby(\"stop_id\").stop_name.count().to_frame().reset_index()\n",
    "\n",
    "# Now the \"stop_name\" column contains information about building count, rename\n",
    "building_count = building_count.rename(columns={\"stop_name\": \"building_cnt_buffer\"})\n",
    "\n",
    "# Join the information into the stops\n",
    "stop_buffer = stop_buffer.merge(building_count, on=\"stop_id\")\n",
    "\n",
    "# As a result, we should have identical number of buildings identified per stop (see the last two columns)\n",
    "stop_buffer.head()\n",
    "```"
   ]
  }
 ],
 "metadata": {
  "kernelspec": {
   "display_name": "Python 3 (ipykernel)",
   "language": "python",
   "name": "python3"
  },
  "language_info": {
   "codemirror_mode": {
    "name": "ipython",
    "version": 3
   },
   "file_extension": ".py",
   "mimetype": "text/x-python",
   "name": "python",
   "nbconvert_exporter": "python",
   "pygments_lexer": "ipython3",
   "version": "3.12.5"
  }
 },
 "nbformat": 4,
 "nbformat_minor": 5
}
