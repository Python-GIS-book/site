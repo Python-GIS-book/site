{
 "cells": [
  {
   "cell_type": "markdown",
   "id": "4d144c83-07f7-4456-ac9e-1c5c3c6a68f1",
   "metadata": {},
   "source": [
    "# Using Python script files"
   ]
  },
  {
   "cell_type": "markdown",
   "id": "597cf151-3d33-4b34-b39c-1e561736f636",
   "metadata": {},
   "source": [
    "Content to be added."
   ]
  },
  {
   "cell_type": "code",
   "execution_count": null,
   "id": "d8a38f0f-8589-40fc-b44b-584a35361934",
   "metadata": {},
   "outputs": [],
   "source": []
  }
 ],
 "metadata": {
  "kernelspec": {
   "display_name": "Python 3 (ipykernel)",
   "language": "python",
   "name": "python3"
  },
  "language_info": {
   "codemirror_mode": {
    "name": "ipython",
    "version": 3
   },
   "file_extension": ".py",
   "mimetype": "text/x-python",
   "name": "python",
   "nbconvert_exporter": "python",
   "pygments_lexer": "ipython3",
   "version": "3.12.9"
  }
 },
 "nbformat": 4,
 "nbformat_minor": 5
}
