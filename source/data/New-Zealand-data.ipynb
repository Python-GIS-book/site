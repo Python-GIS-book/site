{
 "cells": [
  {
   "cell_type": "markdown",
   "id": "9ed1dbdb-6cdc-404f-b8c2-31a636ebd879",
   "metadata": {
    "editable": true,
    "slideshow": {
     "slide_type": ""
    },
    "tags": []
   },
   "source": [
    "# Datasets for New Zealand\n",
    "\n",
    "Description and pre-processing steps to be added.\n",
    "\n",
    "1. Extract downloaded files in this directory (`New-Zealand`).\n",
    "2. Run `preprocessing.py` script functions."
   ]
  },
  {
   "cell_type": "markdown",
   "id": "dc917c61-77bd-445f-82a2-c24b7f02ee00",
   "metadata": {
    "editable": true,
    "slideshow": {
     "slide_type": ""
    },
    "tags": []
   },
   "source": [
    "## Digital elevation data\n",
    "\n",
    "Data available online at <https://a3s.fi/swift/v1/AUTH_0914d8aff9684df589041a759b549fc2/PythonGIS/elevation/new_zealand/dem.zip>.\n",
    "\n",
    "Ensure you are in the `New-Zealand` directory (i.e., `pwd` returns `.../data/New-Zealand` and then run the following cell."
   ]
  },
  {
   "cell_type": "code",
   "execution_count": null,
   "id": "39316141-0ada-42dd-80d7-a829a471732f",
   "metadata": {
    "editable": true,
    "slideshow": {
     "slide_type": ""
    },
    "tags": []
   },
   "outputs": [],
   "source": [
    "cd New-Zealand"
   ]
  },
  {
   "cell_type": "code",
   "execution_count": null,
   "id": "47100c6d-11a4-4b3f-ba04-bee58697ca75",
   "metadata": {
    "editable": true,
    "slideshow": {
     "slide_type": ""
    },
    "tags": []
   },
   "outputs": [],
   "source": [
    "from preprocessing import make_dem_mosiac\n",
    "\n",
    "make_dem_mosiac()"
   ]
  },
  {
   "cell_type": "markdown",
   "id": "316c2698-56f0-444c-8a7a-430c34c81527",
   "metadata": {
    "editable": true,
    "slideshow": {
     "slide_type": ""
    },
    "tags": []
   },
   "source": [
    "## Fault data\n",
    "\n",
    "Data available online at <https://a3s.fi/swift/v1/AUTH_0914d8aff9684df589041a759b549fc2/PythonGIS/features/new_zealand/shp.zip>."
   ]
  },
  {
   "cell_type": "code",
   "execution_count": null,
   "id": "47835e94-0df8-4d6f-a4d5-4186f2a331f4",
   "metadata": {
    "editable": true,
    "slideshow": {
     "slide_type": ""
    },
    "tags": []
   },
   "outputs": [],
   "source": [
    "from preprocessing import convert_fault_to_gpkg\n",
    "\n",
    "convert_fault_to_gpkg()"
   ]
  }
 ],
 "metadata": {
  "kernelspec": {
   "display_name": "Python 3 (ipykernel)",
   "language": "python",
   "name": "python3"
  },
  "language_info": {
   "codemirror_mode": {
    "name": "ipython",
    "version": 3
   },
   "file_extension": ".py",
   "mimetype": "text/x-python",
   "name": "python",
   "nbconvert_exporter": "python",
   "pygments_lexer": "ipython3",
   "version": "3.12.5"
  }
 },
 "nbformat": 4,
 "nbformat_minor": 5
}
