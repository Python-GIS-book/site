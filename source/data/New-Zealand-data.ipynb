{
 "cells": [
  {
   "cell_type": "markdown",
   "id": "9ed1dbdb-6cdc-404f-b8c2-31a636ebd879",
   "metadata": {
    "editable": true,
    "slideshow": {
     "slide_type": ""
    },
    "tags": []
   },
   "source": [
    "# Datasets for New Zealand"
   ]
  },
  {
   "cell_type": "markdown",
   "id": "9572d447-87b5-4b65-869b-8b3f0e8fa63f",
   "metadata": {},
   "source": [
    "The datasets for New Zealand comprise two types of data: (1) digital elevation model (DEM) data in GeoTIFF format, and (2) fault trace data in Esri Shapefile format. Details about how each dataset has been processed can be found below. Information about the sources of the data can be found in the associated `README.md` files for each data type."
   ]
  },
  {
   "cell_type": "markdown",
   "id": "dc917c61-77bd-445f-82a2-c24b7f02ee00",
   "metadata": {
    "editable": true,
    "slideshow": {
     "slide_type": ""
    },
    "tags": []
   },
   "source": [
    "## Digital elevation data\n",
    "\n",
    "The DEM data comprise a set of GeoTIFF files from the [ALOS World 3D-30m digital surface model](https://www.eorc.jaxa.jp/ALOS/en/dataset/aw3d30/aw3d30_e.htm) with approximately 30 m spatial resolution. The original source data are available online at <https://a3s.fi/swift/v1/AUTH_0914d8aff9684df589041a759b549fc2/PythonGIS/elevation/new_zealand/dem.zip>.\n",
    "\n",
    "### Data pre-processing\n",
    "\n",
    "These data are used in a case study in Chapter 12, and the source file used in that case study is a mosiac GeoTIFF file created from a set of the original data files. The mosaic file can be created from the original files as follows:\n",
    "\n",
    "1. Download the source data files from <https://a3s.fi/swift/v1/AUTH_0914d8aff9684df589041a759b549fc2/PythonGIS/elevation/new_zealand/dem.zip>.\n",
    "2. Move the downloaded file in the the `New-Zealand` directory.\n",
    "3. Extract the downloaded files in the `New-Zealand` directory. This can be done using the `unzip` command on macOS or Linux (e.g., `unzip dem.zip` or however you like otherwise. If you extract the files using the `unzip` command, be sure you are in the `New-Zealand` directory (i.e., `pwd` returns `.../data/New-Zealand`.\n",
    "4. In a Python interpreter window or JupyterLab change directories into the `New-Zealand` directory.\n",
    "5. Import the `make_dem_mosaic` function from the `preprocesing.py` file (i.e., `from preprocessing import make_dem_mosiac`).\n",
    "6. Run the `make_dem_mosaic()` function to create the mosaic."
   ]
  },
  {
   "cell_type": "markdown",
   "id": "316c2698-56f0-444c-8a7a-430c34c81527",
   "metadata": {
    "editable": true,
    "slideshow": {
     "slide_type": ""
    },
    "tags": []
   },
   "source": [
    "## Fault data\n",
    "\n",
    "The fault data comprise Esri Shapefiles from the [New Zealand active fault datasets (NZAFD) website](https://data.gns.cri.nz/af/) from GNS Science, Te Pū Ao, New Zealand. The original data files are available online at <https://a3s.fi/swift/v1/AUTH_0914d8aff9684df589041a759b549fc2/PythonGIS/features/new_zealand/shp.zip>.\n",
    "\n",
    "### Data pre-processing\n",
    "\n",
    "These data are also used in the case study in Chapter 12 and the Shapefile data were converted to a `geopandas` `GeoPackage` to make it easier to load and work with. The pre-processing steps are listed below:\n",
    "\n",
    "1. Download the source data files from <https://a3s.fi/swift/v1/AUTH_0914d8aff9684df589041a759b549fc2/PythonGIS/features/new_zealand/shp.zip>.\n",
    "2. Move the downloaded file in the the `New-Zealand` directory.\n",
    "3. Extract the downloaded files in the `New-Zealand` directory. This can be done using the `unzip` command on macOS or Linux (e.g., `unzip shp.zip` or however you like otherwise. If you extract the files using the `unzip` command, be sure you are in the `New-Zealand` directory (i.e., `pwd` returns `.../data/New-Zealand`.\n",
    "4. In a Python interpreter window or JupyterLab change directories into the `New-Zealand` directory.\n",
    "5. Import the `convert_fault_to_gpkg` function from the `preprocesing.py` file (i.e., `from preprocessing import convert_fault_to_gpkg`).\n",
    "6. Run the `convert_fault_to_gpkg()` function to create the `GeoPackage`."
   ]
  }
 ],
 "metadata": {
  "kernelspec": {
   "display_name": "Python 3 (ipykernel)",
   "language": "python",
   "name": "python3"
  },
  "language_info": {
   "codemirror_mode": {
    "name": "ipython",
    "version": 3
   },
   "file_extension": ".py",
   "mimetype": "text/x-python",
   "name": "python",
   "nbconvert_exporter": "python",
   "pygments_lexer": "ipython3",
   "version": "3.12.5"
  }
 },
 "nbformat": 4,
 "nbformat_minor": 5
}
