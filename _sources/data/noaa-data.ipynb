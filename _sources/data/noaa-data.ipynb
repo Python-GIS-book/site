{
 "cells": [
  {
   "cell_type": "markdown",
   "metadata": {
    "pycharm": {
     "name": "#%% md\n"
    }
   },
   "source": [
    "# NOAA Weather data\n",
    "\n",
    "In Chapter 2, we use openly available weather observation data derived from National Oceanic and Atmospheric Administration (NOAA). \n",
    "The data is available under **ADD LICENSE IF EXISTS**. \n",
    "\n",
    "## Weather observations for Kumpula, Helsinki (Finland)\n",
    "\n",
    "The file [\"Kumpula-June-2016-w-metadata.txt\"](../part1/chapter-02/nb/data/Kumpula-June-2016-w-metadata.txt) includes data retrieved from NOAA 7 climate database [^urlnoaa1]  and it contains observed daily mean, minimum, and maximum temperatures from June 2016, recorded by a weather observation station in Kumpula. \n",
    "\n",
    "## Weather observations for Finland\n",
    "\n",
    "Weather observation data from Finland was [downloaded from NOAA](https://www7.ncdc.noaa.gov/CDO/cdopoemain.cmd?datasetabbv=DS3505&countryabbv=&georegionabbv=&resolution=40). The data from NOAA contains a number of files as there is also *metadata* included with the package, such as a list of stations ([data/6367598020644stn.txt](data/6367598020644stn.txt)), details about the weather observations at each station ([data/6367598020644inv.txt](data/6367598020644inv.txt)), and a data description containing e.g. information about what different columns names mean ([data/3505doc.txt](data/3505doc.txt)). Note that the list of stations is for all 15 stations in Finland. The actual observations are stored in \n",
    "\n",
    "## Footnotes\n",
    "\n",
    "[^urlnoaa1]: <https://www.ncdc.noaa.gov/cdo-web/datasets/>"
   ]
  },
  {
   "cell_type": "code",
   "execution_count": null,
   "metadata": {
    "pycharm": {
     "name": "#%%\n"
    }
   },
   "outputs": [],
   "source": []
  }
 ],
 "metadata": {
  "kernelspec": {
   "display_name": "Python 3 (ipykernel)",
   "language": "python",
   "name": "python3"
  },
  "language_info": {
   "codemirror_mode": {
    "name": "ipython",
    "version": 3
   },
   "file_extension": ".py",
   "mimetype": "text/x-python",
   "name": "python",
   "nbconvert_exporter": "python",
   "pygments_lexer": "ipython3",
   "version": "3.9.7"
  }
 },
 "nbformat": 4,
 "nbformat_minor": 4
}