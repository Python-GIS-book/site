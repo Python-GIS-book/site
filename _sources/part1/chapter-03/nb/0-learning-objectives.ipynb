{
 "cells": [
  {
   "cell_type": "markdown",
   "id": "20728ee0-d809-4c25-8314-273ae799363d",
   "metadata": {
    "editable": true,
    "slideshow": {
     "slide_type": ""
    },
    "tags": [
     "learning_objectives"
    ]
   },
   "source": [
    "# Learning objectives"
   ]
  },
  {
   "cell_type": "markdown",
   "id": "ab2cec8a-667b-453a-8d06-9b43e1672df1",
   "metadata": {
    "editable": true,
    "slideshow": {
     "slide_type": ""
    },
    "tags": []
   },
   "source": [
    "Chapter three introduces the basics of data analysis in Python using the pandas library. The goal is to be able to read and manipulate table data in files to be able to perform common data analysis tasks such as calculating averages over a given time period."
   ]
  },
  {
   "cell_type": "markdown",
   "id": "6c09b7b4-3490-4caf-bcd5-f7c2ad3bcf1e",
   "metadata": {
    "editable": true,
    "slideshow": {
     "slide_type": ""
    },
    "tags": [
     "lo_box"
    ]
   },
   "source": [
    "```{admonition} Learning objectives\n",
    ":class: tip\n",
    "\n",
    "At the end of this chapter, you should be able to:\n",
    "\n",
    "- Read and explore tabluar data in Python using the pandas library\n",
    "- Perform basic data analysis using pandas data structures and functions\n",
    "- Clean datasets to remove missing values\n",
    "- Use your own functions to process table data\n",
    "- Manipulate data tables that include dates/times (temporal datasets) and resample their values\n",
    "\n",
    "```"
   ]
  }
 ],
 "metadata": {
  "kernelspec": {
   "display_name": "Python 3 (ipykernel)",
   "language": "python",
   "name": "python3"
  },
  "language_info": {
   "codemirror_mode": {
    "name": "ipython",
    "version": 3
   },
   "file_extension": ".py",
   "mimetype": "text/x-python",
   "name": "python",
   "nbconvert_exporter": "python",
   "pygments_lexer": "ipython3",
   "version": "3.12.5"
  }
 },
 "nbformat": 4,
 "nbformat_minor": 5
}
