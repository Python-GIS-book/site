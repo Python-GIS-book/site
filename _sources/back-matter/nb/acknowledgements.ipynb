{
 "cells": [
  {
   "cell_type": "markdown",
   "id": "8c533ba3-ca39-44a2-a9d0-8adee13eb92f",
   "metadata": {},
   "source": [
    "# Acknowledgements\n",
    "\n",
    "The following people (listed by name or GitHub username) assisted with proofreading and suggesting edits the the book materials:\n",
    "\n",
    "- Nicolás Ordax Sommer, hmhann, tyjonthomas, Frontnerd, ...\n",
    "\n",
    "This section is under construction.\n",
    "\n",
    "To add: Software carpentry, Geo-Python team, CSC, Git-SCM, GitHub Skills, ..."
   ]
  }
 ],
 "metadata": {
  "kernelspec": {
   "display_name": "Python 3 (ipykernel)",
   "language": "python",
   "name": "python3"
  },
  "language_info": {
   "codemirror_mode": {
    "name": "ipython",
    "version": 3
   },
   "file_extension": ".py",
   "mimetype": "text/x-python",
   "name": "python",
   "nbconvert_exporter": "python",
   "pygments_lexer": "ipython3",
   "version": "3.12.5"
  }
 },
 "nbformat": 4,
 "nbformat_minor": 5
}
