{
 "cells": [
  {
   "cell_type": "markdown",
   "id": "3b440d19-85ec-49eb-9747-f9d73b509f7f",
   "metadata": {},
   "source": [
    "# Representing geographic data in raster format"
   ]
  },
  {
   "cell_type": "markdown",
   "id": "2b811bb2-99da-4d21-865c-5a568ecf0b32",
   "metadata": {},
   "source": [
    "As we introduced earlier in [Chapter 5.2](https://pythongis.org/part2/chapter-05/nb/01-introduction-to-geographic-data-in-python.html#basics-of-raster-data-and-arrays), the raster data model represents the real-world features (e.g. temperature) as arrays of cells, commonly known as pixels. Raster data is widely used to represent and store data about continuous surfaces, in which each pixel contain specific information (characteristics, radiance, reflectance, spectral signatures) about a specific area of the Earth, such as 10x10 meter area. There are various reasons why you might want to store your data in raster format:\n",
    "\n",
    "- It is a simple data structure: A matrix of cells with values representing information about the observed surface/phenomena\n",
    "- It is an efficient way to store data from large continuous surfaces\n",
    "- It is a powerful format that can be used for various spatial and statistical analysis\n",
    "- You can perform fast overlays with multiple layers \n"
   ]
  },
  {
   "cell_type": "markdown",
   "id": "ff78a3e7-a2c6-4160-a908-2fbed239cda0",
   "metadata": {},
   "source": [
    "## Characteristics of raster data\n",
    "\n",
    "Different kind of sensors (e.g. remote sensing instruments or *{term}`LIDAR`*) are typically used to capture and collect data about specific aspects of the surface, such as temperature, elevation, or the electromagnetic radiation (light) that the surface reflects. This information can be captured with varying level of detail, depending on the sensor. Many sensors (especially satellite sensors) measure the electromagnetic radiation at specific ranges (i.e. bands) which is why they are called {term}`Multispectral sensors` or {term}`Hyperspectral sensors`. Most typically the raster data produced by these sensors can vary based on their:\n",
    "\n",
    "- *{term}`spatial resolution`*, i.e. the size of a single pixel\n",
    "- *{term}`temporal resolution`*, i.e. how frequently the data is captured from the same area of the Earth\n",
    "- *{term}`spectral resolution`*, i.e. the number and location of spectral bands in the electromagnetic spectrum\n",
    "- *{term}`radiometric resolution`*, i.e. the range of available brightness values (bit depth), usually measured in bits (binary digits)\n",
    "- *{term}`spatial extent`*, i.e. how large area of the world a single image represents\n",
    "- *{term}`coordinate reference system`*, i.e. in what CRS the data is represented "
   ]
  },
  {
   "cell_type": "markdown",
   "id": "3266fc75-82f7-4012-9e53-b9271909be3a",
   "metadata": {},
   "source": [
    "## Working with raster data in Python\n",
    "\n",
    "There are a number of libraries that are widely used when working with raster data in Python:\n",
    "\n",
    "- `xarray` provides a user-friendly and intuitive way to work with multidimensional raster data with coordinates and attributes (somewhat similar to `geopandas` that is used for vector data processing),\n",
    "- `rioxarray` provides methods to conduct GIS-related operations with raster data (e.g. reading/writing, reprojecting, clipping, resampling),\n",
    "- `xarray-spatial` provides methods for analysing raster data (e.g. focal/zonal operations, surface analysis, path finding),\n",
    "- `rasterio` core library for working with GIS raster data. `rioxarray` is an extension of this library that brings the same functionalities on top of `xarray` library,\n",
    "- `numpy` is a core Python library for numerical computing that is used for representing and working with multidimensional arrays. `numpy` has a big influence on how the other raster libraries function and can be used to generate multidimensional arrays from scratch.\n",
    "\n",
    "In addition to these ones, there are a number of other libraries that are specialized to specific types of analyses or data. We will learn about a few of them later in the book. "
   ]
  },
  {
   "cell_type": "markdown",
   "id": "c3658551-7426-4c86-93c8-f50a8828875d",
   "metadata": {},
   "source": [
    "## Creating a simple raster layer using `numpy`\n",
    "\n",
    "To get a better sense of how the raster data looks like, we can start by creating a simple two-dimensional array in Python using `numpy`. In the following, we will modify the raster layer to represent a simple terrain that has a hill in the middle of the grid. We do this by setting higher values in the center while the other values are represented with value 0. Let's start by importing the `numpy` and `matplotlib` library which we use for visualizing our data:"
   ]
  },
  {
   "cell_type": "code",
   "execution_count": 2,
   "id": "5756ff45-a978-4970-8abf-11cac6bf8f79",
   "metadata": {},
   "outputs": [],
   "source": [
    "import numpy as np\n",
    "import matplotlib.pyplot as plt"
   ]
  },
  {
   "cell_type": "markdown",
   "id": "f48b62ae-32fb-4536-b783-1aea9cee8cf7",
   "metadata": {},
   "source": [
    "Creating a simple 2D raster layer (a 2D array) with 10x10 array can be done easily by using a `numpy` method `.zeros()` with fills the cells (pixels) with zeros. Each zero represents a default pixel value (e.g. 0 elevation). You can think of this as an empty raster grid:"
   ]
  },
  {
   "cell_type": "code",
   "execution_count": 7,
   "id": "6a0c788f-9802-413c-a333-764bff5ffb51",
   "metadata": {},
   "outputs": [
    {
     "data": {
      "text/plain": [
       "array([[0., 0., 0., 0., 0., 0., 0., 0., 0., 0.],\n",
       "       [0., 0., 0., 0., 0., 0., 0., 0., 0., 0.],\n",
       "       [0., 0., 0., 0., 0., 0., 0., 0., 0., 0.],\n",
       "       [0., 0., 0., 0., 0., 0., 0., 0., 0., 0.],\n",
       "       [0., 0., 0., 0., 0., 0., 0., 0., 0., 0.],\n",
       "       [0., 0., 0., 0., 0., 0., 0., 0., 0., 0.],\n",
       "       [0., 0., 0., 0., 0., 0., 0., 0., 0., 0.],\n",
       "       [0., 0., 0., 0., 0., 0., 0., 0., 0., 0.],\n",
       "       [0., 0., 0., 0., 0., 0., 0., 0., 0., 0.],\n",
       "       [0., 0., 0., 0., 0., 0., 0., 0., 0., 0.]])"
      ]
     },
     "execution_count": 7,
     "metadata": {},
     "output_type": "execute_result"
    }
   ],
   "source": [
    "raster_layer = np.zeros((10, 10))\n",
    "raster_layer"
   ]
  },
  {
   "cell_type": "markdown",
   "id": "641871d3-e875-47f6-bd6f-eb97bcdde528",
   "metadata": {},
   "source": [
    "Now we have a simple 2D array filled with zeros. Next, we modify the raster layer to represent a simple terrain and add larger numbers in the middle of the grid by setting higher values in the center. We can do this by *{term}`slicing`* the numpy array using the indices of the array and updating the numbers on those locations to be higher. Slicing `numpy` arrays happens in a similar manner as when working with Python lists and accessing the items of a list (see Chapter 2.2). However, in this case we do this in two dimensions by accessing the values stored in specific rows and columns by following the syntax: `[start-row-idx: end-row-idx, start-col-idx: end-col-idx]`. Thus, we can update the values in our 2D array as follows:"
   ]
  },
  {
   "cell_type": "code",
   "execution_count": 8,
   "id": "44bc53ef-dc7e-4c46-b5d8-6cf8849188e3",
   "metadata": {},
   "outputs": [
    {
     "data": {
      "text/plain": [
       "array([[ 0.,  0.,  0.,  0.,  0.,  0.,  0.,  0.,  0.,  0.],\n",
       "       [ 0.,  0.,  0.,  0.,  0.,  0.,  0.,  0.,  0.,  0.],\n",
       "       [ 0.,  0.,  0.,  0.,  0.,  0.,  0.,  0.,  0.,  0.],\n",
       "       [ 0.,  0.,  0.,  0.,  0.,  0.,  0.,  0.,  0.,  0.],\n",
       "       [ 0.,  0.,  0.,  0.,  5.,  5.,  5.,  0.,  0.,  0.],\n",
       "       [ 0.,  0.,  0.,  0.,  5., 10.,  5.,  0.,  0.,  0.],\n",
       "       [ 0.,  0.,  0.,  0.,  5.,  5.,  5.,  0.,  0.,  0.],\n",
       "       [ 0.,  0.,  0.,  0.,  0.,  0.,  0.,  0.,  0.,  0.],\n",
       "       [ 0.,  0.,  0.,  0.,  0.,  0.,  0.,  0.,  0.,  0.],\n",
       "       [ 0.,  0.,  0.,  0.,  0.,  0.,  0.,  0.,  0.,  0.]])"
      ]
     },
     "execution_count": 8,
     "metadata": {},
     "output_type": "execute_result"
    }
   ],
   "source": [
    "raster_layer[4:7, 4:7] = 5\n",
    "raster_layer[5, 5] = 10\n",
    "raster_layer"
   ]
  },
  {
   "cell_type": "markdown",
   "id": "1c294bac-bee9-477a-a2c1-f2629c15cc3a",
   "metadata": {},
   "source": [
    "Here we first updated the cells between the fourth and seventh rows and columns (`[4:7, 4:7]`) to have a value `5`, and then we updated the center of the matrix to represent the peak of the hill having a value `10`. As a result, we have a simple raster layer that simulates a simple terrain. We can also plot this raster layer, using `matplotlib` library and its `.imshow()` function that can be used to visualize arrays:"
   ]
  },
  {
   "cell_type": "code",
   "execution_count": 13,
   "id": "5d218b3d-8f7d-4dfa-bab0-119e74e59e83",
   "metadata": {
    "lines_to_next_cell": 0
   },
   "outputs": [
    {
     "data": {
      "image/png": "[encoded data removed]",
      "text/plain": [
       "<Figure size 640x480 with 2 Axes>"
      ]
     },
     "metadata": {},
     "output_type": "display_data"
    }
   ],
   "source": [
    "plt.imshow(raster_layer, cmap='terrain'))\n",
    "plt.colorbar(label='Elevation')\n",
    "plt.title('Simple Raster Layer representing a Hill')\n",
    "plt.show()"
   ]
  },
  {
   "cell_type": "markdown",
   "id": "04392c2c-c896-4150-8ceb-37b363bb1083",
   "metadata": {},
   "source": [
    "As a result, we have a simple map that represents the elevation of the hill with different colors. The *{term}`colormap`* of the visualization was determined using the parameter `cmap`, while the `plt.colorbar()` function was used to add a legend to the right side of the image, and the `plt.title()` was used to add a simple title for the image.\n",
    "\n",
    "This example demonstrates a toy example how we can produce a simple raster layer from scratch. However, there are various aspects related to working with GIS raster data that we did not cover here, such as specifying the metadata for this layer. Basically, the data we have here is simply a two-dimensional array (matrix) that does not tell anything about the *spatial resolution* of the data (i.e. how large each cell is), nor e.g. in which area of the world this data is located (i.e. coordinates) or the *coordinate reference system* this data is represented in. In the next section, we start working with real raster data and cover more aspects that relate to spatial raster data.\n"
   ]
  }
 ],
 "metadata": {
  "kernelspec": {
   "display_name": "Python 3 (ipykernel)",
   "language": "python",
   "name": "python3"
  },
  "language_info": {
   "codemirror_mode": {
    "name": "ipython",
    "version": 3
   },
   "file_extension": ".py",
   "mimetype": "text/x-python",
   "name": "python",
   "nbconvert_exporter": "python",
   "pygments_lexer": "ipython3",
   "version": "3.12.5"
  }
 },
 "nbformat": 4,
 "nbformat_minor": 5
}
