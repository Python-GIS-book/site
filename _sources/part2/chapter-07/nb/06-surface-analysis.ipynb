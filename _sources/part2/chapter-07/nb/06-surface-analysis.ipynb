{
 "cells": [
  {
   "cell_type": "markdown",
   "id": "496ef104-81d3-4520-9d7a-a3304dbb6d49",
   "metadata": {},
   "source": [
    "# Surface analysis"
   ]
  },
  {
   "cell_type": "markdown",
   "id": "bd277eea-7568-49ad-a548-fc63fdbd3b05",
   "metadata": {},
   "source": [
    "- Slope\n",
    "- Aspect\n",
    "- Hillshade\n",
    "- Viewshed\n",
    "\n"
   ]
  },
  {
   "cell_type": "code",
   "execution_count": null,
   "id": "681cc881-7703-4f5e-bdd0-108f79991c8d",
   "metadata": {},
   "outputs": [],
   "source": []
  }
 ],
 "metadata": {
  "jupytext": {
   "main_language": "python"
  },
  "kernelspec": {
   "display_name": "Python 3 (ipykernel)",
   "language": "python",
   "name": "python3"
  },
  "language_info": {
   "codemirror_mode": {
    "name": "ipython",
    "version": 3
   },
   "file_extension": ".py",
   "mimetype": "text/x-python",
   "name": "python",
   "nbconvert_exporter": "python",
   "pygments_lexer": "ipython3",
   "version": "3.12.5"
  }
 },
 "nbformat": 4,
 "nbformat_minor": 5
}
