{
 "cells": [
  {
   "cell_type": "markdown",
   "id": "a6b6ba41-d446-43a2-ba6f-d689051534ac",
   "metadata": {},
   "source": [
    "# Exercises\n",
    "\n",
    "**To be updated**\n",
    "\n",
    "\n",
    "\n"
   ]
  },
  {
   "cell_type": "code",
   "execution_count": null,
   "id": "7d6cea47-62fa-446d-9594-3b0619da8870",
   "metadata": {
    "lines_to_next_cell": 0
   },
   "outputs": [],
   "source": []
  }
 ],
 "metadata": {
  "jupytext": {
   "main_language": "python"
  },
  "kernelspec": {
   "display_name": "Python 3 (ipykernel)",
   "language": "python",
   "name": "python3"
  },
  "language_info": {
   "codemirror_mode": {
    "name": "ipython",
    "version": 3
   },
   "file_extension": ".py",
   "mimetype": "text/x-python",
   "name": "python",
   "nbconvert_exporter": "python",
   "pygments_lexer": "ipython3",
   "version": "3.12.5"
  }
 },
 "nbformat": 4,
 "nbformat_minor": 5
}
